{
 "cells": [
  {
   "cell_type": "code",
   "execution_count": 3,
   "id": "a0fe5409-e821-4b35-b1c7-9d989c521e03",
   "metadata": {},
   "outputs": [],
   "source": [
    "import numpy as np\n",
    "import astropy.constants as cs\n",
    "import astropy.units as un\n",
    "\n",
    "R1 = 1.0\n"
   ]
  },
  {
   "cell_type": "markdown",
   "id": "af3a1b29-e189-4396-b09d-c85846c45c57",
   "metadata": {},
   "source": [
    "First Star: The Sun!"
   ]
  },
  {
   "cell_type": "code",
   "execution_count": 5,
   "id": "138c0605-c54a-45f3-be27-139f67eecd09",
   "metadata": {},
   "outputs": [
    {
     "data": {
      "text/latex": [
       "$4.4380676 \\; \\mathrm{}$"
      ],
      "text/plain": [
       "<Quantity 4.43806763>"
      ]
     },
     "execution_count": 5,
     "metadata": {},
     "output_type": "execute_result"
    }
   ],
   "source": [
    "np.log10((1)* cs.GM_sun /\n",
    "                                (((10 ** (0) *\n",
    "                                  cs.R_sun) ** 2)) *\n",
    "                               un.s * un.s/un.cm)"
   ]
  },
  {
   "cell_type": "code",
   "execution_count": 6,
   "id": "f6c7ec80-a162-46c5-ac1b-871f239442a7",
   "metadata": {},
   "outputs": [
    {
     "data": {
      "text/plain": [
       "4.437750562820388"
      ]
     },
     "execution_count": 6,
     "metadata": {},
     "output_type": "execute_result"
    }
   ],
   "source": [
    "np.log10(274*10**2)"
   ]
  },
  {
   "cell_type": "code",
   "execution_count": 7,
   "id": "feeb3bad-a051-4cd1-9935-a6bd7be8508e",
   "metadata": {},
   "outputs": [
    {
     "data": {
      "text/latex": [
       "$4.3043234 \\; \\mathrm{}$"
      ],
      "text/plain": [
       "<Quantity 4.30432336>"
      ]
     },
     "execution_count": 7,
     "metadata": {},
     "output_type": "execute_result"
    }
   ],
   "source": [
    "np.log10((1.100)* cs.GM_sun /\n",
    "                                (((10 ** (np.log10(1.2234)) *\n",
    "                                  cs.R_sun) ** 2)) *\n",
    "                               un.s * un.s/un.cm)"
   ]
  },
  {
   "cell_type": "code",
   "execution_count": 8,
   "id": "f856df29-4a00-49fb-9fc4-7ffa3ae033ed",
   "metadata": {},
   "outputs": [
    {
     "data": {
      "text/latex": [
       "$4.5234521 \\; \\mathrm{}$"
      ],
      "text/plain": [
       "<Quantity 4.52345205>"
      ]
     },
     "execution_count": 8,
     "metadata": {},
     "output_type": "execute_result"
    }
   ],
   "source": [
    "np.log10((0.907)* cs.GM_sun /\n",
    "                                (((10 ** (np.log10(0.8632)) *\n",
    "                                  cs.R_sun) ** 2)) *\n",
    "                               un.s * un.s/un.cm)"
   ]
  },
  {
   "cell_type": "code",
   "execution_count": null,
   "id": "59d92ab4-a301-4750-b34d-6bc30a419a68",
   "metadata": {},
   "outputs": [],
   "source": [
    "np.log10((0.907)* cs.GM_sun /\n",
    "                                (((10 ** (np.log10(0.8632)) *\n",
    "                                  cs.R_sun) ** 2)) *\n",
    "                               un.s * un.s/un.cm)"
   ]
  }
 ],
 "metadata": {
  "kernelspec": {
   "display_name": "astroconda",
   "language": "python",
   "name": "astroconda"
  },
  "language_info": {
   "codemirror_mode": {
    "name": "ipython",
    "version": 3
   },
   "file_extension": ".py",
   "mimetype": "text/x-python",
   "name": "python",
   "nbconvert_exporter": "python",
   "pygments_lexer": "ipython3",
   "version": "3.7.10"
  }
 },
 "nbformat": 4,
 "nbformat_minor": 5
}
