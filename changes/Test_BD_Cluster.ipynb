{
 "cells": [
  {
   "cell_type": "markdown",
   "id": "4257f594-b092-40bc-85cf-2397fe17724c",
   "metadata": {},
   "source": [
    "# SPISEA: Making a Cluster with BD Candidates"
   ]
  },
  {
   "cell_type": "markdown",
   "id": "08de775e-f1bb-464b-8148-48b51e6d8822",
   "metadata": {},
   "source": [
    "This is a document to generate a synthetic cluster in SPISEA with the addition of brown dwarf candidates. It will follow the Quick Start Guide closely, but with changes due to a lower mass limit and ability to consider smaller objects."
   ]
  },
  {
   "cell_type": "code",
   "execution_count": 1,
   "id": "b7536665-00cf-49ad-9028-930f56cf3204",
   "metadata": {},
   "outputs": [],
   "source": [
    "# Import necessary packages. \n",
    "from spisea import synthetic, evolution, atmospheres, reddening, ifmr\n",
    "from spisea.imf import imf, multiplicity\n",
    "import numpy as np\n",
    "import pylab as py\n",
    "import pdb\n",
    "import matplotlib.pyplot as plt\n",
    "%matplotlib inline"
   ]
  },
  {
   "cell_type": "markdown",
   "id": "60ee38e8-ba5c-4c23-b9a2-22773bd91a62",
   "metadata": {},
   "source": [
    "### 1: Making an Isochrone Object for our Cluster"
   ]
  },
  {
   "cell_type": "code",
   "execution_count": null,
   "id": "0cd4c0a3-39e8-4bbf-9eba-e1883b6dacec",
   "metadata": {},
   "outputs": [],
   "source": [
    "# Define isochrone parameters\n",
    "logAge = np.log10(5*10**6.) # Age in log(years)\n",
    "AKs = 0.8 # extinction in mags\n",
    "dist = 4000 # distance in parsec\n",
    "metallicity = 0 # Metallicity in [M/H]\n",
    "\n",
    "# Define evolution/atmosphere models and extinction law\n",
    "evo_model = evolution.MergedBaraffePisaEkstromParsec() \n",
    "atm_func = atmospheres.get_merged_atmosphere\n",
    "red_law = reddening.RedLawHosek18b()\n",
    "\n",
    "# Also specify filters for synthetic photometry (optional). Here we use \n",
    "# the HST WFC3-IR F127M, F139M, and F153M filters\n",
    "filt_list = ['wfc3,ir,f127m', 'wfc3,ir,f139m', 'wfc3,ir,f153m']\n",
    "\n",
    "# Specify the directory we want the output isochrone\n",
    "# table saved in. If the directory does not already exist,\n",
    "# SPISEA will create it.\n",
    "iso_dir = 'isochrones/'\n",
    "\n",
    "# Make IsochronePhot object. Note that this will take a minute or two, \n",
    "# unless the isochrone has been generated previously.\n",
    "#\n",
    "# Note that this is not show all of the user options \n",
    "# for IsochronePhot. See docs for complete list of options.\n",
    "my_iso = synthetic.IsochronePhot(logAge, AKs, dist, metallicity=0,\n",
    "                            evo_model=evo_model, atm_func=atm_func,\n",
    "                            red_law=red_law, filters=filt_list,\n",
    "                                iso_dir=iso_dir)"
   ]
  },
  {
   "cell_type": "code",
   "execution_count": null,
   "id": "5a6e081f-84d3-4efb-a6d5-59d5f60d845f",
   "metadata": {},
   "outputs": [],
   "source": [
    "# The stars in the isochrone and associated properties  \n",
    "# are stored in an astropy table called \"points\" \n",
    "# within the IsochronePhot object. \n",
    "print(my_iso.points)"
   ]
  },
  {
   "cell_type": "code",
   "execution_count": null,
   "id": "1205c450-d7f2-4ad7-86b0-006762426d5c",
   "metadata": {},
   "outputs": [],
   "source": [
    "# Example case:\n",
    "# Identify a 1 M_sun star, print F127M, F139M, and F153M mags\n",
    "idx = np.where( abs(my_iso.points['mass'] - 1.0) == min(abs(my_iso.points['mass'] - 1.0)) )[0]\n",
    "f127m = np.round(my_iso.points[idx[0]]['m_hst_f127m'], decimals=3)\n",
    "f139m = np.round(my_iso.points[idx[0]]['m_hst_f139m'], decimals=3)\n",
    "f153m = np.round(my_iso.points[idx[0]]['m_hst_f153m'], decimals=3)\n",
    "print('1 M_sun: F127M = {0} mag, F139M = {1} mag, F153M = {2} mag'.format(f127m, f139m, f153m))"
   ]
  },
  {
   "cell_type": "code",
   "execution_count": null,
   "id": "a8169db9-486e-4d20-9a09-dfcd7ebbd3e1",
   "metadata": {},
   "outputs": [],
   "source": [
    "# Make a color-magnitude diagram from the isochrone\n",
    "py.figure(1, figsize=(10,10))\n",
    "py.clf()\n",
    "py.plot(my_iso.points['m_hst_f127m'] - my_iso.points['m_hst_f153m'], \n",
    "       my_iso.points['m_hst_f153m'], 'r-', label='_nolegend_')\n",
    "py.plot(my_iso.points['m_hst_f127m'][idx] - my_iso.points['m_hst_f153m'][idx], \n",
    "       my_iso.points['m_hst_f153m'][idx], 'b*', ms=15, label='1 $M_\\odot$')\n",
    "py.xlabel('F127M - F153M')\n",
    "py.ylabel('F153M')\n",
    "py.gca().invert_yaxis()\n",
    "py.legend()"
   ]
  },
  {
   "cell_type": "markdown",
   "id": "7e9599c3-e7f7-4f1b-8eda-8148058b16c3",
   "metadata": {},
   "source": [
    "### 2: Bringing in an IMF"
   ]
  },
  {
   "cell_type": "code",
   "execution_count": null,
   "id": "493b8648-1c3b-4aab-858f-2f955195e634",
   "metadata": {},
   "outputs": [],
   "source": [
    "# Make multiplicity object Here, we use the MultiplicityUnresolved object, \n",
    "# based on Lu+13. This means that star systems will be unresolved, i.e., \n",
    "# that all components of a star system are combined into a single \"star\" in the cluster\n",
    "imf_multi = multiplicity.MultiplicityUnresolved()\n",
    "\n",
    "# Make IMF object; we'll use a broken power law with the parameters from Kroupa+01\n",
    "\n",
    "# NOTE: when defining the power law slope for each segment of the IMF, we define\n",
    "# the entire exponent, including the negative sign. For example, if dN/dm $\\propto$ m^-alpha,\n",
    "# then you would use the value \"-2.3\" to specify an IMF with alpha = 2.3. \n",
    "\n",
    "my_imf = imf.Weidner_Kroupa_2004(multiplicity=imf_multi)"
   ]
  },
  {
   "cell_type": "markdown",
   "id": "0e42984d-bf09-4e71-a823-aa698672cfe6",
   "metadata": {},
   "source": [
    "### 3: Generating Cluster"
   ]
  },
  {
   "cell_type": "code",
   "execution_count": null,
   "id": "0bf0fed8-2b70-41be-b950-83f1362af9f0",
   "metadata": {},
   "outputs": [],
   "source": [
    "# Define total cluster mass\n",
    "mass = 10**5.\n",
    "\n",
    "# Make cluster object\n",
    "cluster = synthetic.ResolvedCluster(my_iso, my_imf, mass)"
   ]
  },
  {
   "cell_type": "code",
   "execution_count": null,
   "id": "c8de1a27-0b07-404c-a13d-8434e204017d",
   "metadata": {},
   "outputs": [],
   "source": [
    "# Look at star systems table\n",
    "print(cluster.star_systems)"
   ]
  },
  {
   "cell_type": "code",
   "execution_count": null,
   "id": "6b10a958-a0f8-443c-be6b-e07c5de2d4dc",
   "metadata": {},
   "outputs": [],
   "source": [
    "# The companions table is accessed in a similar way\n",
    "print(cluster.companions)"
   ]
  },
  {
   "cell_type": "code",
   "execution_count": null,
   "id": "095a963e-c0de-4bbc-a03f-471f3cdb7b91",
   "metadata": {},
   "outputs": [],
   "source": [
    "# Look at the cluster CMD, compared to input isochrone. Note the impact of\n",
    "# multiple systems on the photometry\n",
    "clust = cluster.star_systems\n",
    "iso = my_iso.points\n",
    "\n",
    "py.figure(2, figsize=(10,10))\n",
    "py.clf()\n",
    "py.plot(clust['m_hst_f127m'] - clust['m_hst_f153m'], clust['m_hst_f153m'],\n",
    "       'k.', ms=5, alpha=0.1, label='__nolegend__')\n",
    "py.plot(iso['m_hst_f127m'] - iso['m_hst_f153m'], iso['m_hst_f153m'],\n",
    "       'r-', label='Isochrone')\n",
    "py.xlabel('F127M - F153M')\n",
    "py.ylabel('F153M')\n",
    "py.gca().invert_yaxis()\n",
    "py.legend()"
   ]
  },
  {
   "cell_type": "code",
   "execution_count": null,
   "id": "d694ed41-c732-4093-9f0a-ad021fe8397a",
   "metadata": {},
   "outputs": [],
   "source": [
    "print(\"minimum primary mass: \" + str(np.min(clust['mass'])))\n",
    "print(\"minimum companion mass: \" + str(np.min(cluster.companions['mass'])))\n",
    "print(\"maximum primary mass: \" + str(np.max(clust['mass'])))\n",
    "print(\"maximum companion mass: \" + str(np.max(cluster.companions['mass'])))"
   ]
  },
  {
   "cell_type": "markdown",
   "id": "fa4c660d-ea4e-491a-95db-278617ee1757",
   "metadata": {},
   "source": [
    "### Creating a histogram to compare Weidner Kroupa and Muzic"
   ]
  },
  {
   "cell_type": "code",
   "execution_count": null,
   "id": "c2540680-d69f-427f-b0d1-55130826ad8a",
   "metadata": {},
   "outputs": [],
   "source": [
    "#generate clusters for each class\n",
    "w_imf = imf.Weidner_Kroupa_2004(multiplicity=imf_multi)\n",
    "m_imf = imf.Muzic_2017(multiplicity=imf_multi)"
   ]
  },
  {
   "cell_type": "code",
   "execution_count": null,
   "id": "4d1c647e-8e1a-4a24-8b20-26a8b14f4660",
   "metadata": {},
   "outputs": [],
   "source": [
    "# Define total cluster mass\n",
    "mass = 10**5.\n",
    "\n",
    "# Make cluster objects for each\n",
    "w_cluster = synthetic.ResolvedCluster(my_iso, w_imf, mass)\n",
    "m_cluster = synthetic.ResolvedCluster(my_iso, m_imf, mass)"
   ]
  },
  {
   "cell_type": "markdown",
   "id": "f55b6d0a-ecc2-4bbb-aa5b-d8f23acfe441",
   "metadata": {},
   "source": [
    "#### Comparing Weidner Kroupa and Muzic clusters data"
   ]
  },
  {
   "cell_type": "code",
   "execution_count": null,
   "id": "eb3847e7-c184-4d49-a7ec-69d0a1e50fea",
   "metadata": {},
   "outputs": [],
   "source": [
    "#show total numbers for each cluster\n",
    "print(\"primary masses in Weidner Kroupa cluster: \" + str(len(w_cluster.star_systems)))\n",
    "print(\"companion masses in Weidner Kroupa cluster: \" + str(len(w_cluster.companions)))\n",
    "print(\"primary masses in Muzic cluster: \" + str(len(m_cluster.star_systems)))\n",
    "print(\"companion masses in Muzic cluster: \" + str(len(m_cluster.companions)))"
   ]
  },
  {
   "cell_type": "code",
   "execution_count": null,
   "id": "9b2656bf-6a7e-4ca5-ad09-6ae59e8c6d0d",
   "metadata": {},
   "outputs": [],
   "source": [
    "#Comparing max/min primary/companion masses\n",
    "#Weidner Kroupa\n",
    "print('\\033[1m' + \"Weidner Kroupa\" + '\\033[0m')\n",
    "print(\"minimum primary mass: \" + str(np.min(w_cluster.star_systems['mass'])))\n",
    "print(\"minimum companion mass: \" + str(np.min(w_cluster.companions['mass'])))\n",
    "print(\"maximum primary mass: \" + str(np.max(w_cluster.star_systems['mass'])))\n",
    "print(\"maximum companion mass: \" + str(np.max(w_cluster.companions['mass'])))\n",
    "print('\\n')\n",
    "\n",
    "#Muzic\n",
    "print('\\033[1m' + \"Muzic\" + '\\033[0m')\n",
    "print(\"minimum primary mass: \" + str(np.min(m_cluster.star_systems['mass'])))\n",
    "print(\"minimum companion mass: \" + str(np.min(m_cluster.companions['mass'])))\n",
    "print(\"maximum primary mass: \" + str(np.max(m_cluster.star_systems['mass'])))\n",
    "print(\"maximum companion mass: \" + str(np.max(m_cluster.companions['mass'])))"
   ]
  },
  {
   "cell_type": "code",
   "execution_count": null,
   "id": "17d1685d-0f63-4f6e-ad62-4ba3a03f0780",
   "metadata": {},
   "outputs": [],
   "source": [
    "#compare total cluster masses\n",
    "#create combined arrays of primary/companion masses\n",
    "all_m_masses = np.concatenate((m_cluster.star_systems['mass'], m_cluster.companions['mass']))\n",
    "all_w_masses = np.concatenate((w_cluster.star_systems['mass'], w_cluster.companions['mass']))\n",
    "\n",
    "#find total of added masses\n",
    "print(\"total mass of WD cluster: \" + str(np.sum(all_w_masses)))\n",
    "print(\"total mass of M cluster: \" + str(np.sum(all_m_masses)))"
   ]
  },
  {
   "cell_type": "code",
   "execution_count": null,
   "id": "4e2fe19b-9da8-4388-92bd-c1390444e8c4",
   "metadata": {},
   "outputs": [],
   "source": [
    "#define mass range of histogram\n",
    "bin_edges = [0.01, 0.08, 0.5, 1, 2]\n",
    "\n",
    "#setting up subplots\n",
    "fig, ax = plt.subplots(nrows=2, ncols=1, figsize=(8,8))\n",
    "plt.subplots_adjust(hspace=0.5, wspace=0.75)\n",
    "\n",
    "#create histograms to compare\n",
    "counts_m, edges_m, _ = ax[0].hist(all_m_masses, bins=bin_edges, alpha=0.5, label='Muzic_2017', color='blue', edgecolor='black', histtype='bar')\n",
    "counts_w, edges_w, _ = ax[1].hist(all_w_masses, bins=bin_edges, alpha=0.5, label='Weidner_Kroupa_2004', color='red', edgecolor='black', histtype='bar')\n",
    "\n",
    "#compute bin centers\n",
    "bin_centers_m = (edges_m[:-1] + edges_m[1:]) / 2\n",
    "bin_centers_w = (edges_w[:-1] + edges_w[1:]) / 2\n",
    "\n",
    "#generate x values for the broken power law curve\n",
    "x_fit_m = np.linspace(bin_centers_m.min(), bin_centers_m.max(), 100)\n",
    "x_fit_w = np.linspace(bin_centers_w.min(), bin_centers_w.max(), 100)\n",
    "\n",
    "\n",
    "\n",
    "#labels and legend\n",
    "plt.xlabel('Stellar Mass (Solar Masses)')\n",
    "plt.ylabel('Number of Stars')\n",
    "plt.title('Comparison of Stellar Mass Distributions')\n",
    "plt.legend()\n",
    "plt.show()"
   ]
  },
  {
   "cell_type": "markdown",
   "id": "04216fed-7f8b-4249-9c6c-29c82cc18bce",
   "metadata": {},
   "source": [
    "## Generating a cluster with compound objects (using an IFMR)\n",
    "This is before code is modified to allow for brown dwarves"
   ]
  },
  {
   "cell_type": "code",
   "execution_count": 2,
   "id": "25b1247a-0eb8-40bc-bf56-f89e788283cd",
   "metadata": {},
   "outputs": [
    {
     "name": "stdout",
     "output_type": "stream",
     "text": [
      "Isochrone generation took 96.182577 s.\n",
      "Making photometry for isochrone: log(t) = 8.00  AKs = 0.00  dist = 10\n",
      "     Starting at:  2024-07-15 14:29:26.015063   Usually takes ~5 minutes\n",
      "Starting filter: wfc3,ir,f153m   Elapsed time: 0.00 seconds\n",
      "Starting synthetic photometry\n",
      "M =   0.070 Msun  T =  2794 K  m_hst_f153m = 9.52\n",
      "M =   0.676 Msun  T =  4395 K  m_hst_f153m = 4.92\n",
      "M =   0.786 Msun  T =  4896 K  m_hst_f153m = 4.41\n",
      "M =   0.856 Msun  T =  5198 K  m_hst_f153m = 4.12\n",
      "M =   0.956 Msun  T =  5590 K  m_hst_f153m = 3.74\n",
      "M =   1.022 Msun  T =  5808 K  m_hst_f153m = 3.50\n",
      "M =   1.079 Msun  T =  5992 K  m_hst_f153m = 3.30\n",
      "M =   1.518 Msun  T =  7482 K  m_hst_f153m = 2.22\n",
      "M =   4.439 Msun  T = 13246 K  m_hst_f153m = -1.04\n",
      "M =   4.509 Msun  T = 14299 K  m_hst_f153m = -1.00\n",
      "M =   5.078 Msun  T =  6015 K  m_hst_f153m = -4.23\n",
      "      Time taken: 31.54 seconds\n"
     ]
    }
   ],
   "source": [
    "# Create isochrone object  \n",
    "filt_list = ['wfc3,ir,f153m'] # We won't be doing much with synthetic photometry here, so only 1 filter\n",
    "my_ifmr = ifmr.IFMR_Raithel18()\n",
    "my_iso = synthetic.IsochronePhot(8, 0, 10,\n",
    "                                 evo_model = evolution.MergedBaraffePisaEkstromParsec(),\n",
    "                                      filters=filt_list)"
   ]
  },
  {
   "cell_type": "code",
   "execution_count": 9,
   "id": "01f6f94c-1b23-4ae1-bfc2-96e2d4cacd27",
   "metadata": {},
   "outputs": [],
   "source": [
    "# Create IMF objects  \n",
    "#imf_multi = multiplicity.MultiplicityUnresolved()\n",
    "massLimits = np.array([0.01, 0.08, 0.5, 1, np.inf])\n",
    "powers = np.array([-0.3, -1.3, -2.3, -2.35])\n",
    "k_imf = imf.IMF_broken_powerlaw(massLimits, powers)"
   ]
  },
  {
   "cell_type": "code",
   "execution_count": 10,
   "id": "1a914c4c-ac7e-4c61-9e40-1b0d5dd5568f",
   "metadata": {},
   "outputs": [
    {
     "name": "stdout",
     "output_type": "stream",
     "text": [
      "Found 829408 stars out of mass range\n"
     ]
    }
   ],
   "source": [
    "# Make clusters\n",
    "cluster_mass = 10**6\n",
    "k_cluster = synthetic.ResolvedCluster(my_iso, k_imf, cluster_mass, ifmr=my_ifmr)\n",
    "\n",
    "# Get outputs\n",
    "k_out = k_cluster.star_systems\n",
    "#k_comp = k_cluster.companions"
   ]
  },
  {
   "cell_type": "code",
   "execution_count": 11,
   "id": "62293dea-989b-4870-a77b-ba677010da81",
   "metadata": {},
   "outputs": [
    {
     "data": {
      "image/png": "[encoded data removed]",
      "text/plain": [
       "<Figure size 1400x600 with 2 Axes>"
      ]
     },
     "metadata": {},
     "output_type": "display_data"
    }
   ],
   "source": [
    "# Locate BHs, NSs and WDs\n",
    "p_bh = np.where(k_out['phase'] == 103)[0]\n",
    "#c_bh = np.where(k_comp['phase'] == 103)[0]\n",
    "#k_bh = np.concatenate([p_bh, c_bh])\n",
    "p_ns = np.where(k_out['phase'] == 102)[0]\n",
    "#c_ns = np.where(k_comp['phase'] == 102)[0]\n",
    "#k_ns = np.concatenate([p_ns, c_ns])\n",
    "p_wd = np.where(k_out['phase'] == 101)[0]\n",
    "#c_wd = np.where(k_comp['phase'] == 101)[0]\n",
    "#k_wd = np.concatenate([p_wd, c_wd])\n",
    "\n",
    "# Plot on histograms\n",
    "bh_bins = np.linspace(0.01, 16, 20)\n",
    "wd_bins = np.linspace(0.4, 1.4, 16)\n",
    "\n",
    "plt.figure(figsize=(14,6))\n",
    "plt.subplot(1, 2, 1)\n",
    "plt.hist(k_out[p_bh]['mass_current'], histtype = 'step',\n",
    "        bins = bh_bins, label = 'Generated Black Holes')\n",
    "plt.title(\"Generated Black Holes by Mass\")\n",
    "plt.xlabel('Mass ($M_\\odot$)')\n",
    "plt.ylabel('Number')\n",
    "plt.legend()\n",
    "\n",
    "plt.subplot(1, 2, 2)\n",
    "plt.hist(k_out[p_wd]['mass_current'], histtype = 'step',\n",
    "        bins = wd_bins, label = 'Generated White Dwarves')\n",
    "plt.title(\"Generated White Dwarves by Mass\")\n",
    "plt.xlabel('Mass ($M_\\odot$)')\n",
    "plt.ylabel('Number')\n",
    "plt.legend()\n",
    "\n",
    "plt.show()"
   ]
  },
  {
   "cell_type": "code",
   "execution_count": 6,
   "id": "d36bba0d-3037-46c0-91f3-321e47241204",
   "metadata": {},
   "outputs": [
    {
     "name": "stdout",
     "output_type": "stream",
     "text": [
      "973669.0207942065\n"
     ]
    }
   ],
   "source": [
    "all_masses = np.concatenate([k_out['mass'], k_comp['mass']])\n",
    "tot_mass = np.sum(all_masses)\n",
    "print(tot_mass)"
   ]
  },
  {
   "cell_type": "code",
   "execution_count": 7,
   "id": "1f999373-557e-42f1-9c0b-43d1cfab198e",
   "metadata": {},
   "outputs": [
    {
     "name": "stdout",
     "output_type": "stream",
     "text": [
      "0.07000000391702135\n",
      "0.010000022844115403\n"
     ]
    }
   ],
   "source": [
    "print(np.min(k_out['mass']))\n",
    "print(np.min(k_comp['mass']))"
   ]
  },
  {
   "cell_type": "code",
   "execution_count": null,
   "id": "d7c2fa5e-49cd-4021-869a-6f9701677c68",
   "metadata": {},
   "outputs": [],
   "source": [
    "print(\"Current smallest mass of generated black holes: \" + str(np.min(k_out[k_bh]['mass_current'])))\n",
    "print(\"Current largest mass of generated black holes: \" + str(np.max(k_out[k_bh]['mass_current'])))"
   ]
  },
  {
   "cell_type": "code",
   "execution_count": null,
   "id": "7e056d1f-be87-43ee-9899-2a1859d5e2c5",
   "metadata": {},
   "outputs": [],
   "source": [
    "print('The cluster table contains these columns: {0}'.format(k_cluster.star_systems.keys()))"
   ]
  },
  {
   "cell_type": "code",
   "execution_count": 13,
   "id": "c02d7dbd-9690-49f4-931d-e7f66172ba12",
   "metadata": {},
   "outputs": [
    {
     "name": "stdout",
     "output_type": "stream",
     "text": [
      "       mass        isMultiple     systemMass     ... metallicity m_hst_f153m\n",
      "------------------ ---------- ------------------ ... ----------- -----------\n",
      " 59.05436159479683      False  59.05436159479683 ...         0.0         nan\n",
      " 39.55979231152168      False  39.55979231152168 ...         0.0         nan\n",
      "18.241030351057457      False 18.241030351057457 ...         0.0         nan\n",
      " 21.34571632826156      False  21.34571632826156 ...         0.0         nan\n",
      " 25.73229556345863      False  25.73229556345863 ...         0.0         nan\n",
      " 38.27638428342816      False  38.27638428342816 ...         0.0         nan\n",
      " 29.70200219305832      False  29.70200219305832 ...         0.0         nan\n",
      "               ...        ...                ... ...         ...         ...\n",
      "104.95164061880804      False 104.95164061880804 ...         0.0         nan\n",
      "19.927108168048903      False 19.927108168048903 ...         0.0         nan\n",
      "51.756416056664165      False 51.756416056664165 ...         0.0         nan\n",
      "  30.9405328260462      False   30.9405328260462 ...         0.0         nan\n",
      "16.452556081467357      False 16.452556081467357 ...         0.0         nan\n",
      "15.253386148271723      False 15.253386148271723 ...         0.0         nan\n",
      " 34.00333629883476      False  34.00333629883476 ...         0.0         nan\n",
      "Length = 2327 rows\n"
     ]
    }
   ],
   "source": [
    "print(k_out[p_bh])"
   ]
  },
  {
   "cell_type": "code",
   "execution_count": 12,
   "id": "ddc351e5-e465-4f2e-9703-cd5c819a75f2",
   "metadata": {},
   "outputs": [
    {
     "name": "stdout",
     "output_type": "stream",
     "text": [
      "       mass       \n",
      "------------------\n",
      " 59.05436159479683\n",
      " 39.55979231152168\n",
      "18.241030351057457\n",
      " 21.34571632826156\n",
      " 25.73229556345863\n",
      " 38.27638428342816\n",
      " 29.70200219305832\n",
      "               ...\n",
      "104.95164061880804\n",
      "19.927108168048903\n",
      "51.756416056664165\n",
      "  30.9405328260462\n",
      "16.452556081467357\n",
      "15.253386148271723\n",
      " 34.00333629883476\n",
      "Length = 2327 rows    mass_current   \n",
      "------------------\n",
      "  7.69101697945427\n",
      " 14.37645768969197\n",
      " 6.490426115488822\n",
      " 7.738537786899665\n",
      " 9.302666353833182\n",
      "13.811546507105783\n",
      "10.635261248769924\n",
      "               ...\n",
      "5.9065928872088955\n",
      " 7.187073433524934\n",
      " 9.426130388477304\n",
      "11.054167247370941\n",
      " 5.693090725172411\n",
      " 5.119608907641256\n",
      " 12.13042109233094\n",
      "Length = 2327 rows\n"
     ]
    }
   ],
   "source": [
    "print(k_out[p_bh]['mass'], k_out[p_bh]['mass_current'])"
   ]
  },
  {
   "cell_type": "code",
   "execution_count": 14,
   "id": "f5ce39b9-2c6d-4e7c-a6f6-ffd7235ac9e8",
   "metadata": {},
   "outputs": [
    {
     "name": "stdout",
     "output_type": "stream",
     "text": [
      "Initial mass of smallest generated black hole: 15.003458139141888\n",
      "Initial mass of largest generated black hole: 119.60497046926774\n"
     ]
    }
   ],
   "source": [
    "print(\"Initial mass of smallest generated black hole: \" + str(np.min(k_out[p_bh]['mass'])))\n",
    "print(\"Initial mass of largest generated black hole: \" + str(np.max(k_out[p_bh]['mass'])))"
   ]
  },
  {
   "cell_type": "code",
   "execution_count": null,
   "id": "1c41b219-7a85-4519-af99-77145daaa418",
   "metadata": {},
   "outputs": [],
   "source": []
  }
 ],
 "metadata": {
  "kernelspec": {
   "display_name": "Python 3 (ipykernel)",
   "language": "python",
   "name": "python3"
  },
  "language_info": {
   "codemirror_mode": {
    "name": "ipython",
    "version": 3
   },
   "file_extension": ".py",
   "mimetype": "text/x-python",
   "name": "python",
   "nbconvert_exporter": "python",
   "pygments_lexer": "ipython3",
   "version": "3.11.0"
  }
 },
 "nbformat": 4,
 "nbformat_minor": 5
}
