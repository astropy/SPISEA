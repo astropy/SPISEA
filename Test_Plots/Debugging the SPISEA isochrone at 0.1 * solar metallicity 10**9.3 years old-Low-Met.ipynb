{
 "cells": [
  {
   "cell_type": "markdown",
   "metadata": {},
   "source": [
    "## Testing and Debugging the BPASS isochrone at 10^9.3 years age. (Non Solar Metallicity)\n",
    "In this BPASS isochrone and cluster plot, I go over the BPASS isochrone for 10^9.3 years age, a tenth of solar metallicity, AKs=0.0, and distance of 1000 parsecs from Earth. From the isochrone and cluster, we discuss several plots such as the log_g frequency distribution of the isochrone, the color magnitude diagram (B-V vs M_V), and the current-mass luminosity relationship of the cluster."
   ]
  },
  {
   "cell_type": "markdown",
   "metadata": {},
   "source": [
    "For a sanity check, we can see that the primaries, secondaries, and single stars have phasees of 5 or of 101. This is since we haven't added neutron stars or black holes yet. Stars with phase of -99 exist, and those are the secondary stars that have already merged."
   ]
  },
  {
   "cell_type": "markdown",
   "metadata": {},
   "source": [
    "**I will be using the Kennicutt IMF and a slightly different age. I also use the Parsec evolution model for the sake of comparison with the BPASS isochrone and to distinguish this notebook from the others.**"
   ]
  },
  {
   "cell_type": "code",
   "execution_count": 64,
   "metadata": {},
   "outputs": [
    {
     "name": "stderr",
     "output_type": "stream",
     "text": [
      "/opt/anaconda3/envs/astroconda/lib/python3.7/site-packages/astropy/units/quantity.py:477: RuntimeWarning: invalid value encountered in true_divide\n",
      "  result = super().__array_ufunc__(function, method, *arrays, **kwargs)\n",
      "/u/ryotainagaki/Desktop/PyPopStar/spisea/evolution.py:1771: RuntimeWarning: overflow encountered in power\n",
      "  (1 / cs.au) * un.m)\n",
      "/opt/anaconda3/envs/astroconda/lib/python3.7/site-packages/astropy/units/quantity.py:477: RuntimeWarning: divide by zero encountered in true_divide\n",
      "  result = super().__array_ufunc__(function, method, *arrays, **kwargs)\n"
     ]
    },
    {
     "name": "stdout",
     "output_type": "stream",
     "text": [
      "Changing to logg=5.00 for T= 20350 logg=5.50\n",
      "Changing to logg=5.00 for T= 23502 logg=5.75\n",
      "Changing to logg=5.00 for T=  1847 logg=4.44\n",
      "Changing to T=  1200 for T=   750 logg=4.44\n",
      "Changing to logg=5.00 for T=  1500 logg=4.44\n",
      "Changing to logg=5.00 for T=  1500 logg=4.44\n",
      "Changing to T=  1200 for T=   923 logg=4.44\n",
      "Changing to T=  1200 for T=   808 logg=4.44\n",
      "Changing to T=  1200 for T=   923 logg=4.44\n",
      "Changing to logg=5.00 for T=  1616 logg=4.44\n",
      "Changing to logg=5.00 for T=  1616 logg=4.44\n",
      "Changing to logg=5.00 for T=  1962 logg=4.44\n",
      "Changing to T=  1200 for T=   923 logg=4.44\n",
      "Changing to T=  1200 for T=   750 logg=4.44\n",
      "Changing to logg=5.00 for T=  1500 logg=4.44\n",
      "Changing to logg=5.00 for T=  1500 logg=4.44\n",
      "Changing to logg=5.00 for T=  1616 logg=4.44\n",
      "Changing to T=  1200 for T=   923 logg=4.44\n",
      "Changing to logg=5.00 for T=  1616 logg=4.44\n",
      "Changing to logg=5.00 for T=  1847 logg=4.44\n",
      "Changing to logg=5.00 for T=  1962 logg=4.44\n",
      "Changing to logg=5.00 for T=  1500 logg=4.44\n",
      "Changing to T=  1200 for T=   808 logg=4.44\n",
      "Changing to logg=5.00 for T=  1904 logg=4.44\n",
      "Changing to T=  1200 for T=   750 logg=4.44\n",
      "Changing to logg=5.00 for T=  1904 logg=4.44\n",
      "Changing to T=  1200 for T=   923 logg=4.44\n",
      "Changing to logg=5.00 for T=  1616 logg=4.44\n",
      "Changing to T=  1200 for T=   750 logg=4.44\n",
      "Changing to T=  1200 for T=   750 logg=4.44\n",
      "Changing to T=  1200 for T=   923 logg=4.44\n",
      "Changing to logg=5.00 for T=  1616 logg=4.44\n",
      "Changing to logg=5.00 for T=  1847 logg=4.44\n",
      "Changing to logg=5.00 for T=  1500 logg=4.44\n",
      "Changing to logg=5.00 for T=  1904 logg=4.44\n",
      "Changing to T=  1200 for T=   923 logg=4.44\n",
      "Changing to logg=5.00 for T=  1500 logg=4.44\n",
      "Changing to T=  1200 for T=   750 logg=4.44\n",
      "Changing to logg=5.00 for T=  1904 logg=4.44\n",
      "Changing to logg=5.00 for T=  1847 logg=4.44\n",
      "Changing to logg=5.00 for T=  1904 logg=4.44\n",
      "Changing to logg=5.00 for T=  1904 logg=4.44\n",
      "Changing to logg=5.00 for T=  1500 logg=4.44\n",
      "Changing to logg=5.00 for T=  1616 logg=4.44\n",
      "Changing to T=  1200 for T=   808 logg=4.44\n",
      "Changing to logg=5.00 for T= 20816 logg=5.59\n",
      "Changing to logg=5.00 for T= 12593 logg=6.38\n",
      "Changing to logg=5.00 for T=  9498 logg=6.69\n",
      "Changing to logg=5.00 for T= 24441 logg=5.90\n",
      "Making photometry for isochrone: log(t) = 9.30  AKs = 0.00  dist = 1000\n",
      "     Starting at:  2020-12-14 16:00:36.574245   Usually takes ~5 minutes\n",
      "Starting filter: ubv,U   Elapsed time: 0.00 seconds\n",
      "Starting synthetic photometry\n",
      "Singles\n",
      "M =   1.240 Msun  T =  6228 K  m_ubv_U = 14.29\n",
      "Primaries\n",
      "M =   1.600 Msun  T =  6241 K  m_ubv_U = 12.93\n",
      "M =   1.700 Msun  T =  4918 K  m_ubv_U = 13.33\n",
      "M =   2.500 Msun  T =  7742 K  m_ubv_U = 22.85\n",
      "M =   1.400 Msun  T =  6410 K  m_ubv_U = 13.56\n",
      "M =   1.100 Msun  T =  4453 K  m_ubv_U = 12.60\n",
      "M =   1.600 Msun  T =  6178 K  m_ubv_U = 12.96\n",
      "M =   1.400 Msun  T =  6410 K  m_ubv_U = 13.56\n",
      "M =   2.000 Msun  T = 10330 K  m_ubv_U = 20.72\n",
      "M =   0.631 Msun  T =   nan K  m_ubv_U =  nan\n",
      "M =   1.259 Msun  T =   nan K  m_ubv_U =  nan\n",
      "M =   0.501 Msun  T =  2739 K  m_ubv_U =  nan\n",
      "Secondaries\n",
      "M =   0.320 Msun  T =  1847 K  m_ubv_U = 33.04\n",
      "M =   1.190 Msun  T =  6226 K  m_ubv_U = 14.53\n",
      "M =   1.000 Msun  T =  5605 K  m_ubv_U = 16.10\n",
      "M =   0.840 Msun  T =  4847 K  m_ubv_U = 17.71\n",
      "M =   0.550 Msun  T =   nan K  m_ubv_U =  nan\n",
      "M =   1.440 Msun  T =  6621 K  m_ubv_U = 13.32\n",
      "M =   1.120 Msun  T =  6059 K  m_ubv_U = 14.97\n",
      "M =   0.200 Msun  T =   nan K  m_ubv_U =  nan\n",
      "M =   1.800 Msun  T = 15101 K  m_ubv_U = 19.25\n",
      "M =   2.700 Msun  T =  7942 K  m_ubv_U = 22.79\n",
      "M =   3.000 Msun  T =  7654 K  m_ubv_U = 23.06\n",
      "Starting filter: ubv,V   Elapsed time: 4.76 seconds\n",
      "Starting synthetic photometry\n",
      "Singles\n",
      "M =   1.240 Msun  T =  6228 K  m_ubv_V = 13.76\n",
      "Primaries\n",
      "M =   1.600 Msun  T =  6241 K  m_ubv_V = 12.38\n",
      "M =   1.700 Msun  T =  4918 K  m_ubv_V = 11.68\n",
      "M =   2.500 Msun  T =  7742 K  m_ubv_V = 23.10\n",
      "M =   1.400 Msun  T =  6410 K  m_ubv_V = 13.09\n",
      "M =   1.100 Msun  T =  4453 K  m_ubv_V = 10.18\n",
      "M =   1.600 Msun  T =  6178 K  m_ubv_V = 12.38\n",
      "M =   1.400 Msun  T =  6410 K  m_ubv_V = 13.09\n",
      "M =   2.000 Msun  T = 10330 K  m_ubv_V = 20.93\n",
      "M =   0.631 Msun  T =   nan K  m_ubv_V =  nan\n",
      "M =   1.259 Msun  T =   nan K  m_ubv_V =  nan\n",
      "M =   0.501 Msun  T =  2739 K  m_ubv_V =  nan\n",
      "Secondaries\n",
      "M =   0.320 Msun  T =  1847 K  m_ubv_V = 28.30\n",
      "M =   1.190 Msun  T =  6226 K  m_ubv_V = 14.00\n",
      "M =   1.000 Msun  T =  5605 K  m_ubv_V = 15.18\n",
      "M =   0.840 Msun  T =  4847 K  m_ubv_V = 16.05\n",
      "M =   0.550 Msun  T =   nan K  m_ubv_V =  nan\n",
      "M =   1.440 Msun  T =  6621 K  m_ubv_V = 12.91\n",
      "M =   1.120 Msun  T =  6059 K  m_ubv_V = 14.36\n",
      "M =   0.200 Msun  T =   nan K  m_ubv_V =  nan\n",
      "M =   1.800 Msun  T = 15101 K  m_ubv_V = 19.79\n",
      "M =   2.700 Msun  T =  7942 K  m_ubv_V = 23.06\n",
      "M =   3.000 Msun  T =  7654 K  m_ubv_V = 23.31\n",
      "Starting filter: ubv,B   Elapsed time: 9.38 seconds\n",
      "Starting synthetic photometry\n",
      "Singles\n",
      "M =   1.240 Msun  T =  6228 K  m_ubv_B = 14.32\n",
      "Primaries\n",
      "M =   1.600 Msun  T =  6241 K  m_ubv_B = 12.92\n",
      "M =   1.700 Msun  T =  4918 K  m_ubv_B = 12.68\n",
      "M =   2.500 Msun  T =  7742 K  m_ubv_B = 23.41\n",
      "M =   1.400 Msun  T =  6410 K  m_ubv_B = 13.59\n",
      "M =   1.100 Msun  T =  4453 K  m_ubv_B = 11.42\n",
      "M =   1.600 Msun  T =  6178 K  m_ubv_B = 12.94\n",
      "M =   1.400 Msun  T =  6410 K  m_ubv_B = 13.59\n",
      "M =   2.000 Msun  T = 10330 K  m_ubv_B = 21.12\n",
      "M =   0.631 Msun  T =   nan K  m_ubv_B =  nan\n",
      "M =   1.259 Msun  T =   nan K  m_ubv_B =  nan\n",
      "M =   0.501 Msun  T =  2739 K  m_ubv_B =  nan\n",
      "Secondaries\n",
      "M =   0.320 Msun  T =  1847 K  m_ubv_B = 30.70\n",
      "M =   1.190 Msun  T =  6226 K  m_ubv_B = 14.55\n",
      "M =   1.000 Msun  T =  5605 K  m_ubv_B = 15.94\n",
      "M =   0.840 Msun  T =  4847 K  m_ubv_B = 17.03\n",
      "M =   0.550 Msun  T =   nan K  m_ubv_B =  nan\n",
      "M =   1.440 Msun  T =  6621 K  m_ubv_B = 13.35\n",
      "M =   1.120 Msun  T =  6059 K  m_ubv_B = 14.97\n",
      "M =   0.200 Msun  T =   nan K  m_ubv_B =  nan\n",
      "M =   1.800 Msun  T = 15101 K  m_ubv_B = 19.79\n",
      "M =   2.700 Msun  T =  7942 K  m_ubv_B = 23.36\n",
      "M =   3.000 Msun  T =  7654 K  m_ubv_B = 23.63\n",
      "Starting filter: ubv,R   Elapsed time: 13.98 seconds\n",
      "Starting synthetic photometry\n",
      "Singles\n",
      "M =   1.240 Msun  T =  6228 K  m_ubv_R = 13.48\n",
      "Primaries\n",
      "M =   1.600 Msun  T =  6241 K  m_ubv_R = 12.10\n",
      "M =   1.700 Msun  T =  4918 K  m_ubv_R = 11.21\n",
      "M =   2.500 Msun  T =  7742 K  m_ubv_R = 22.92\n",
      "M =   1.400 Msun  T =  6410 K  m_ubv_R = 12.83\n",
      "M =   1.100 Msun  T =  4453 K  m_ubv_R = 9.59\n",
      "M =   1.600 Msun  T =  6178 K  m_ubv_R = 12.09\n",
      "M =   1.400 Msun  T =  6410 K  m_ubv_R = 12.83\n",
      "M =   2.000 Msun  T = 10330 K  m_ubv_R = 20.91\n",
      "M =   0.631 Msun  T =   nan K  m_ubv_R =  nan\n",
      "M =   1.259 Msun  T =   nan K  m_ubv_R =  nan\n",
      "M =   0.501 Msun  T =  2739 K  m_ubv_R =  nan\n",
      "Secondaries\n",
      "M =   0.320 Msun  T =  1847 K  m_ubv_R = 25.65\n",
      "M =   1.190 Msun  T =  6226 K  m_ubv_R = 13.71\n",
      "M =   1.000 Msun  T =  5605 K  m_ubv_R = 14.82\n",
      "M =   0.840 Msun  T =  4847 K  m_ubv_R = 15.53\n",
      "M =   0.550 Msun  T =   nan K  m_ubv_R =  nan\n",
      "M =   1.440 Msun  T =  6621 K  m_ubv_R = 12.67\n",
      "M =   1.120 Msun  T =  6059 K  m_ubv_R = 14.06\n",
      "M =   0.200 Msun  T =   nan K  m_ubv_R =  nan\n",
      "M =   1.800 Msun  T = 15101 K  m_ubv_R = 19.85\n",
      "M =   2.700 Msun  T =  7942 K  m_ubv_R = 22.90\n",
      "M =   3.000 Msun  T =  7654 K  m_ubv_R = 23.13\n",
      "Starting filter: ubv,I   Elapsed time: 18.71 seconds\n",
      "Starting synthetic photometry\n",
      "Singles\n",
      "M =   1.240 Msun  T =  6228 K  m_ubv_I = 13.13\n",
      "Primaries\n",
      "M =   1.600 Msun  T =  6241 K  m_ubv_I = 11.76\n",
      "M =   1.700 Msun  T =  4918 K  m_ubv_I = 10.61\n",
      "M =   2.500 Msun  T =  7742 K  m_ubv_I = 22.69\n",
      "M =   1.400 Msun  T =  6410 K  m_ubv_I = 12.51\n",
      "M =   1.100 Msun  T =  4453 K  m_ubv_I = 8.86\n",
      "M =   1.600 Msun  T =  6178 K  m_ubv_I = 11.74\n",
      "M =   1.400 Msun  T =  6410 K  m_ubv_I = 12.51\n",
      "M =   2.000 Msun  T = 10330 K  m_ubv_I = 20.91\n",
      "M =   0.631 Msun  T =   nan K  m_ubv_I =  nan\n",
      "M =   1.259 Msun  T =   nan K  m_ubv_I =  nan\n",
      "M =   0.501 Msun  T =  2739 K  m_ubv_I =  nan\n",
      "Secondaries\n",
      "M =   0.320 Msun  T =  1847 K  m_ubv_I = 21.86\n",
      "M =   1.190 Msun  T =  6226 K  m_ubv_I = 13.37\n",
      "M =   1.000 Msun  T =  5605 K  m_ubv_I = 14.37\n",
      "M =   0.840 Msun  T =  4847 K  m_ubv_I = 14.92\n",
      "M =   0.550 Msun  T =   nan K  m_ubv_I =  nan\n",
      "M =   1.440 Msun  T =  6621 K  m_ubv_I = 12.39\n",
      "M =   1.120 Msun  T =  6059 K  m_ubv_I = 13.68\n",
      "M =   0.200 Msun  T =   nan K  m_ubv_I =  nan\n",
      "M =   1.800 Msun  T = 15101 K  m_ubv_I = 19.99\n",
      "M =   2.700 Msun  T =  7942 K  m_ubv_I = 22.68\n"
     ]
    },
    {
     "name": "stdout",
     "output_type": "stream",
     "text": [
      "M =   3.000 Msun  T =  7654 K  m_ubv_I = 22.89\n",
      "      Time taken: 23.24 seconds\n",
      "Isochrone generation took 128.213747 s.\n"
     ]
    }
   ],
   "source": [
    "import spisea\n",
    "from spisea import evolution, synthetic\n",
    "import math\n",
    "# Check if the evolution class works fine\n",
    "import time\n",
    "t1=time.time()\n",
    "bps=evolution.BPASS()\n",
    "iso1=synthetic.Isochrone_Binary(9.3, 0.0, 1000,math.log10(1), mass_sampling=3, filepath='/g/lu/scratch/ryotainagaki/BPASS_iso_filesTimedIsolated/')"
   ]
  },
  {
   "cell_type": "markdown",
   "metadata": {},
   "source": [
    "As a sanity check, I would like to make sure thatk, for primary stars, we only have (from the isochrone) designated phase 5 stars ( anything that is not a compact remnant), white dwarves (models with phase 101), and non-white dwarf compact remnants that are  NEWSECMODS primaries (models with phase 110). Also make sure that our secondary stars are non-compact-remnant, white dwarves, or are merged."
   ]
  },
  {
   "cell_type": "code",
   "execution_count": 65,
   "metadata": {},
   "outputs": [
    {
     "data": {
      "text/plain": [
       "True"
      ]
     },
     "execution_count": 65,
     "metadata": {},
     "output_type": "execute_result"
    }
   ],
   "source": [
    "import numpy as np\n",
    "np.all([(x==5 or x==101 or x==110) for x in iso1.primaries['phase']])"
   ]
  },
  {
   "cell_type": "code",
   "execution_count": 66,
   "metadata": {},
   "outputs": [
    {
     "data": {
      "text/plain": [
       "True"
      ]
     },
     "execution_count": 66,
     "metadata": {},
     "output_type": "execute_result"
    }
   ],
   "source": [
    "np.all([(x==5 or x==101) for x in iso1.singles['phase']])"
   ]
  },
  {
   "cell_type": "code",
   "execution_count": 67,
   "metadata": {},
   "outputs": [
    {
     "data": {
      "text/plain": [
       "True"
      ]
     },
     "execution_count": 67,
     "metadata": {},
     "output_type": "execute_result"
    }
   ],
   "source": [
    "np.all([(x==5 or x==101 or x==-99) for x in iso1.secondaries['phase']])"
   ]
  },
  {
   "cell_type": "markdown",
   "metadata": {},
   "source": [
    "Find the maximum, mean, and median  values of logg (cgs) for primaries, single stars, and secondaries. "
   ]
  },
  {
   "cell_type": "code",
   "execution_count": 68,
   "metadata": {},
   "outputs": [
    {
     "data": {
      "text/plain": [
       "9.290028202718707"
      ]
     },
     "execution_count": 68,
     "metadata": {},
     "output_type": "execute_result"
    }
   ],
   "source": [
    "import numpy as np\n",
    "np.max(iso1.singles['logg'])"
   ]
  },
  {
   "cell_type": "code",
   "execution_count": 69,
   "metadata": {},
   "outputs": [
    {
     "data": {
      "text/plain": [
       "9.287532011359962"
      ]
     },
     "execution_count": 69,
     "metadata": {},
     "output_type": "execute_result"
    }
   ],
   "source": [
    "import numpy as np\n",
    "np.max(np.nan_to_num(iso1.primaries['logg'], -np.inf))"
   ]
  },
  {
   "cell_type": "code",
   "execution_count": 70,
   "metadata": {},
   "outputs": [
    {
     "data": {
      "text/plain": [
       "9.280142030513229"
      ]
     },
     "execution_count": 70,
     "metadata": {},
     "output_type": "execute_result"
    }
   ],
   "source": [
    "np.max(np.nan_to_num(iso1.secondaries['logg']))"
   ]
  },
  {
   "cell_type": "code",
   "execution_count": 71,
   "metadata": {},
   "outputs": [
    {
     "data": {
      "text/plain": [
       "6.316970466184372"
      ]
     },
     "execution_count": 71,
     "metadata": {},
     "output_type": "execute_result"
    }
   ],
   "source": [
    "np.mean(iso1.singles['logg'])"
   ]
  },
  {
   "cell_type": "code",
   "execution_count": 72,
   "metadata": {},
   "outputs": [
    {
     "data": {
      "text/plain": [
       "4.473735727948248"
      ]
     },
     "execution_count": 72,
     "metadata": {},
     "output_type": "execute_result"
    }
   ],
   "source": [
    "np.mean((np.nan_to_num(iso1.secondaries['logg'])))"
   ]
  },
  {
   "cell_type": "code",
   "execution_count": 73,
   "metadata": {},
   "outputs": [
    {
     "data": {
      "text/plain": [
       "4.819638260382879"
      ]
     },
     "execution_count": 73,
     "metadata": {},
     "output_type": "execute_result"
    }
   ],
   "source": [
    "np.mean((np.nan_to_num(iso1.primaries['logg'])))"
   ]
  },
  {
   "cell_type": "code",
   "execution_count": 74,
   "metadata": {},
   "outputs": [
    {
     "data": {
      "text/plain": [
       "7.927555707162301"
      ]
     },
     "execution_count": 74,
     "metadata": {},
     "output_type": "execute_result"
    }
   ],
   "source": [
    "np.median(iso1.singles['logg'])"
   ]
  },
  {
   "cell_type": "code",
   "execution_count": 75,
   "metadata": {},
   "outputs": [
    {
     "data": {
      "text/plain": [
       "nan"
      ]
     },
     "execution_count": 75,
     "metadata": {},
     "output_type": "execute_result"
    }
   ],
   "source": [
    "np.median(iso1.primaries['logg'])"
   ]
  },
  {
   "cell_type": "code",
   "execution_count": 76,
   "metadata": {},
   "outputs": [
    {
     "data": {
      "text/html": [
       "&lt;Column name=&apos;logg&apos; dtype=&apos;float64&apos; unit=&apos;&apos; length=1073&gt;\n",
       "<table>\n",
       "<tr><td>3.8240676099590583</td></tr>\n",
       "<tr><td>9.23071353754886</td></tr>\n",
       "<tr><td>8.295112143210416</td></tr>\n",
       "<tr><td>3.8240676099590583</td></tr>\n",
       "<tr><td>3.8041676099590584</td></tr>\n",
       "<tr><td>8.009689039666561</td></tr>\n",
       "<tr><td>7.990723345988437</td></tr>\n",
       "<tr><td>7.9253270987791</td></tr>\n",
       "<tr><td>8.809549292873708</td></tr>\n",
       "<tr><td>8.090309217330278</td></tr>\n",
       "<tr><td>3.9606588863588144</td></tr>\n",
       "<tr><td>3.0385565486814072</td></tr>\n",
       "<tr><td>...</td></tr>\n",
       "<tr><td>nan</td></tr>\n",
       "<tr><td>nan</td></tr>\n",
       "<tr><td>nan</td></tr>\n",
       "<tr><td>nan</td></tr>\n",
       "<tr><td>nan</td></tr>\n",
       "<tr><td>nan</td></tr>\n",
       "<tr><td>nan</td></tr>\n",
       "<tr><td>nan</td></tr>\n",
       "<tr><td>nan</td></tr>\n",
       "<tr><td>4.345254419129256</td></tr>\n",
       "<tr><td>nan</td></tr>\n",
       "<tr><td>nan</td></tr>\n",
       "</table>"
      ],
      "text/plain": [
       "<Column name='logg' dtype='float64' unit='' length=1073>\n",
       "3.8240676099590583\n",
       "  9.23071353754886\n",
       " 8.295112143210416\n",
       "3.8240676099590583\n",
       "3.8041676099590584\n",
       " 8.009689039666561\n",
       " 7.990723345988437\n",
       "   7.9253270987791\n",
       " 8.809549292873708\n",
       " 8.090309217330278\n",
       "3.9606588863588144\n",
       "3.0385565486814072\n",
       "               ...\n",
       "               nan\n",
       "               nan\n",
       "               nan\n",
       "               nan\n",
       "               nan\n",
       "               nan\n",
       "               nan\n",
       "               nan\n",
       "               nan\n",
       " 4.345254419129256\n",
       "               nan\n",
       "               nan"
      ]
     },
     "execution_count": 76,
     "metadata": {},
     "output_type": "execute_result"
    }
   ],
   "source": [
    "iso1.primaries['logg']"
   ]
  },
  {
   "cell_type": "code",
   "execution_count": 77,
   "metadata": {},
   "outputs": [
    {
     "data": {
      "text/plain": [
       "Text(0.5, 0, 'logg in cgs')"
      ]
     },
     "execution_count": 77,
     "metadata": {},
     "output_type": "execute_result"
    },
    {
     "data": {
      "image/png": "[encoded data removed]",
      "text/plain": [
       "<Figure size 432x288 with 1 Axes>"
      ]
     },
     "metadata": {
      "needs_background": "light"
     },
     "output_type": "display_data"
    }
   ],
   "source": [
    "import matplotlib.pyplot as plt\n",
    "plt.title(\"Histogram of logg values (secondaries) of BPASS isochrone\")\n",
    "plt.hist(np.array([x for x in iso1.secondaries['logg'] if np.isfinite(x)]), np.arange(-10, 30, 1))\n",
    "plt.xlabel(\"logg in cgs\")"
   ]
  },
  {
   "cell_type": "code",
   "execution_count": 78,
   "metadata": {},
   "outputs": [
    {
     "data": {
      "text/plain": [
       "Text(0.5, 0, 'logg in cgs')"
      ]
     },
     "execution_count": 78,
     "metadata": {},
     "output_type": "execute_result"
    },
    {
     "data": {
      "image/png": "[encoded data removed]",
      "text/plain": [
       "<Figure size 432x288 with 1 Axes>"
      ]
     },
     "metadata": {
      "needs_background": "light"
     },
     "output_type": "display_data"
    }
   ],
   "source": [
    "import matplotlib.pyplot as plt\n",
    "plt.title(\"Histogram of logg values (primaries) of BPASS isochrone\")\n",
    "plt.hist(np.array([x for x in iso1.primaries['logg'] if np.isfinite(x)]), np.arange(-10, 30, 1))\n",
    "plt.xlabel(\"logg in cgs\")"
   ]
  },
  {
   "cell_type": "code",
   "execution_count": 79,
   "metadata": {},
   "outputs": [
    {
     "data": {
      "text/plain": [
       "Text(0.5, 0, 'logg in cgs')"
      ]
     },
     "execution_count": 79,
     "metadata": {},
     "output_type": "execute_result"
    },
    {
     "data": {
      "image/png": "[encoded data removed]",
      "text/plain": [
       "<Figure size 432x288 with 1 Axes>"
      ]
     },
     "metadata": {
      "needs_background": "light"
     },
     "output_type": "display_data"
    }
   ],
   "source": [
    "import matplotlib.pyplot as plt\n",
    "plt.title(\"Histogram of logg values single stars of BPASS isochrone\")\n",
    "plt.hist(np.array([x for x in iso1.singles['logg'] if np.isfinite(x)]), np.arange(0, 30, 1))\n",
    "plt.xlabel(\"logg in cgs\")"
   ]
  },
  {
   "cell_type": "code",
   "execution_count": 80,
   "metadata": {},
   "outputs": [
    {
     "data": {
      "text/plain": [
       "<matplotlib.legend.Legend at 0x7fb80d695358>"
      ]
     },
     "execution_count": 80,
     "metadata": {},
     "output_type": "execute_result"
    },
    {
     "data": {
      "image/png": "[encoded data removed]",
      "text/plain": [
       "<Figure size 432x288 with 1 Axes>"
      ]
     },
     "metadata": {
      "needs_background": "light"
     },
     "output_type": "display_data"
    }
   ],
   "source": [
    "import matplotlib.pyplot as plt\n",
    "indices1= np.where(iso1.singles['logg']>5)[0]\n",
    "indices2= np.where(iso1.primaries['logg']>5)[0]\n",
    "indices3= np.where(iso1.secondaries['logg']>5)[0]\n",
    "plt.plot(iso1.primaries['m_ubv_B'][indices2]-iso1.primaries[\"m_ubv_V\"][indices2], iso1.primaries[\"m_ubv_V\"][indices2]-5*np.log10(100), \"r.\")\n",
    "plt.plot(iso1.secondaries['m_ubv_B'][indices3]-iso1.secondaries[\"m_ubv_V\"][indices3], iso1.secondaries[\"m_ubv_V\"][indices3]-5*np.log10(100), \"r.\")\n",
    "plt.plot(iso1.singles['m_ubv_B'][indices1]-iso1.singles[\"m_ubv_V\"][indices1], iso1.singles[\"m_ubv_V\"][indices1]-5*np.log10(100), \"r.\", label=\"BPASS isochrone\")\n",
    "plt.xlabel(\"B-V\")\n",
    "plt.ylabel(\"M_V\")\n",
    "plt.title(\"Color magnitude Diagram of Isochrones at 0.1Z_solar and 10**9.3 years age\")\n",
    "plt.gca().invert_yaxis()\n",
    "plt.legend()"
   ]
  },
  {
   "cell_type": "code",
   "execution_count": 81,
   "metadata": {},
   "outputs": [
    {
     "name": "stderr",
     "output_type": "stream",
     "text": [
      "/opt/anaconda3/envs/astroconda/lib/python3.7/site-packages/astropy/table/column.py:1020: RuntimeWarning: invalid value encountered in less\n",
      "  result = getattr(super(), op)(other)\n"
     ]
    }
   ],
   "source": [
    "indices2= np.where((iso1.primaries['logg']>5) & (iso1.primaries['m_ubv_B']-iso1.primaries['m_ubv_V']>-0.4) & (iso1.primaries['m_ubv_B']-iso1.primaries['m_ubv_V']<-0.2))[0]"
   ]
  },
  {
   "cell_type": "code",
   "execution_count": 82,
   "metadata": {},
   "outputs": [
    {
     "data": {
      "text/html": [
       "&lt;Column name=&apos;phase&apos; dtype=&apos;float64&apos; length=1&gt;\n",
       "<table>\n",
       "<tr><td>5.0</td></tr>\n",
       "</table>"
      ],
      "text/plain": [
       "<Column name='phase' dtype='float64' length=1>\n",
       "5.0"
      ]
     },
     "execution_count": 82,
     "metadata": {},
     "output_type": "execute_result"
    }
   ],
   "source": [
    "np.unique(iso1.primaries[indices2]['phase'])"
   ]
  },
  {
   "cell_type": "code",
   "execution_count": 83,
   "metadata": {},
   "outputs": [],
   "source": [
    "indices2= np.where((iso1.primaries['m_ubv_B']-iso1.primaries['m_ubv_V']>1.2) & (iso1.primaries['m_ubv_B']-iso1.primaries['m_ubv_V']<1.5))[0]"
   ]
  },
  {
   "cell_type": "code",
   "execution_count": 84,
   "metadata": {},
   "outputs": [
    {
     "data": {
      "text/plain": [
       "array([328, 331, 400, 462])"
      ]
     },
     "execution_count": 84,
     "metadata": {},
     "output_type": "execute_result"
    }
   ],
   "source": [
    "indices2"
   ]
  },
  {
   "cell_type": "code",
   "execution_count": 85,
   "metadata": {},
   "outputs": [
    {
     "data": {
      "text/html": [
       "&lt;Column name=&apos;phase&apos; dtype=&apos;float64&apos; length=1&gt;\n",
       "<table>\n",
       "<tr><td>5.0</td></tr>\n",
       "</table>"
      ],
      "text/plain": [
       "<Column name='phase' dtype='float64' length=1>\n",
       "5.0"
      ]
     },
     "execution_count": 85,
     "metadata": {},
     "output_type": "execute_result"
    }
   ],
   "source": [
    "np.unique(iso1.primaries['phase'][indices2])"
   ]
  },
  {
   "cell_type": "code",
   "execution_count": 86,
   "metadata": {},
   "outputs": [
    {
     "data": {
      "text/html": [
       "<i>Table length=4</i>\n",
       "<table id=\"table140426781011304\" class=\"table-striped table-bordered table-condensed\">\n",
       "<thead><tr><th>mass</th><th>log_a</th><th>L</th><th>Teff</th><th>R</th><th>logg</th><th>isWR</th><th>mass_current</th><th>phase</th><th>source</th><th>m_ubv_U</th><th>m_ubv_V</th><th>m_ubv_B</th><th>m_ubv_R</th><th>m_ubv_I</th></tr></thead>\n",
       "<thead><tr><th>solMass</th><th></th><th>W</th><th>K</th><th>m</th><th></th><th></th><th>solMass</th><th></th><th></th><th></th><th></th><th></th><th></th><th></th></tr></thead>\n",
       "<thead><tr><th>float64</th><th>float64</th><th>float64</th><th>float64</th><th>float64</th><th>float64</th><th>bool</th><th>float64</th><th>float64</th><th>int64</th><th>float64</th><th>float64</th><th>float64</th><th>float64</th><th>float64</th></tr></thead>\n",
       "<tr><td>1.3</td><td>5.667496591311971</td><td>4.426820669893006e+28</td><td>4453.074900454848</td><td>12569417859.54888</td><td>2.1532565486814073</td><td>False</td><td>1.7</td><td>5.0</td><td>1</td><td>12.603484684052491</td><td>10.178792330817375</td><td>11.415650713000225</td><td>9.594408386337824</td><td>8.861021886360154</td></tr>\n",
       "<tr><td>1.7</td><td>0.036596591311970794</td><td>5.137974317717312e+28</td><td>4404.940028070771</td><td>13839014495.427975</td><td>2.0696965486814074</td><td>False</td><td>1.7</td><td>5.0</td><td>1</td><td>12.566845904795212</td><td>10.054372135766837</td><td>11.315487387589657</td><td>9.456787190032548</td><td>8.706427674755046</td></tr>\n",
       "<tr><td>1.1</td><td>5.667496591311971</td><td>4.426820669893006e+28</td><td>4453.074900454848</td><td>12569417859.54888</td><td>2.1532565486814073</td><td>False</td><td>1.7</td><td>5.0</td><td>1</td><td>12.603484684052491</td><td>10.178792330817375</td><td>11.415650713000225</td><td>9.594408386337824</td><td>8.861021886360154</td></tr>\n",
       "<tr><td>0.9</td><td>5.667496591311971</td><td>4.426820669893006e+28</td><td>4453.074900454848</td><td>12569417859.54888</td><td>2.1532565486814073</td><td>False</td><td>1.7</td><td>5.0</td><td>1</td><td>12.603484684052491</td><td>10.178792330817375</td><td>11.415650713000225</td><td>9.594408386337824</td><td>8.861021886360154</td></tr>\n",
       "</table>"
      ],
      "text/plain": [
       "<Table length=4>\n",
       "  mass         log_a         ...      m_ubv_R           m_ubv_I     \n",
       "solMass                      ...                                    \n",
       "float64       float64        ...      float64           float64     \n",
       "------- -------------------- ... ----------------- -----------------\n",
       "    1.3    5.667496591311971 ... 9.594408386337824 8.861021886360154\n",
       "    1.7 0.036596591311970794 ... 9.456787190032548 8.706427674755046\n",
       "    1.1    5.667496591311971 ... 9.594408386337824 8.861021886360154\n",
       "    0.9    5.667496591311971 ... 9.594408386337824 8.861021886360154"
      ]
     },
     "execution_count": 86,
     "metadata": {},
     "output_type": "execute_result"
    }
   ],
   "source": [
    "iso1.primaries[indices2]"
   ]
  },
  {
   "cell_type": "code",
   "execution_count": 87,
   "metadata": {},
   "outputs": [
    {
     "data": {
      "text/plain": [
       "<matplotlib.legend.Legend at 0x7fb7ec9e05f8>"
      ]
     },
     "execution_count": 87,
     "metadata": {},
     "output_type": "execute_result"
    },
    {
     "data": {
      "image/png": "[encoded data removed]",
      "text/plain": [
       "<Figure size 432x288 with 1 Axes>"
      ]
     },
     "metadata": {
      "needs_background": "light"
     },
     "output_type": "display_data"
    }
   ],
   "source": [
    "import matplotlib.pyplot as plt\n",
    "plt.plot(iso1.secondaries['m_ubv_B']-iso1.secondaries[\"m_ubv_V\"], iso1.secondaries[\"m_ubv_V\"]-5*np.log10(100), \"r.\", label=\"Secondary stars BPASS isochrone\")\n",
    "plt.xlabel(\"B-V\")\n",
    "plt.ylabel(\"M_V\")\n",
    "plt.title(\"Color magnitude Diagram of Isochrones at 0.1 x solar metallicity and 10**9.3 years age\")\n",
    "plt.gca().invert_yaxis()\n",
    "plt.legend()"
   ]
  },
  {
   "cell_type": "code",
   "execution_count": 88,
   "metadata": {},
   "outputs": [
    {
     "data": {
      "text/html": [
       "<i>Table length=16</i>\n",
       "<table id=\"table140427043096952\" class=\"table-striped table-bordered table-condensed\">\n",
       "<thead><tr><th>mass</th><th>log_a</th><th>L</th><th>Teff</th><th>R</th><th>logg</th><th>isWR</th><th>mass_current</th><th>phase</th><th>merged</th><th>source</th><th>m_ubv_U</th><th>m_ubv_V</th><th>m_ubv_B</th><th>m_ubv_R</th><th>m_ubv_I</th></tr></thead>\n",
       "<thead><tr><th>solMass</th><th></th><th>W</th><th>K</th><th>m</th><th></th><th></th><th>solMass</th><th></th><th></th><th></th><th></th><th></th><th></th><th></th><th></th></tr></thead>\n",
       "<thead><tr><th>float64</th><th>float64</th><th>float64</th><th>float64</th><th>float64</th><th>float64</th><th>bool</th><th>float64</th><th>float64</th><th>bool</th><th>int64</th><th>float64</th><th>float64</th><th>float64</th><th>float64</th><th>float64</th></tr></thead>\n",
       "<tr><td>0.13</td><td>0.47685159131197086</td><td>1.4213202025222475e+22</td><td>750.153258350221</td><td>250837234.12939957</td><td>4.43807097960997</td><td>False</td><td>0.13</td><td>5.0</td><td>False</td><td>1</td><td>36.55541457845449</td><td>34.98344333961485</td><td>33.32079586292777</td><td>30.479969895510337</td><td>24.573017828153834</td></tr>\n",
       "<tr><td>0.16000000000000003</td><td>-1.0930894086880292</td><td>4.013949729509597e+22</td><td>923.2727122989376</td><td>278280005.5567242</td><td>4.438067609959059</td><td>False</td><td>0.16</td><td>5.0</td><td>False</td><td>1</td><td>36.32996977715265</td><td>34.75799601291953</td><td>33.095349974125234</td><td>30.25452124804787</td><td>24.347567583369095</td></tr>\n",
       "<tr><td>0.13999999999999999</td><td>-1.5124199086880292</td><td>2.0587894263296398e+22</td><td>807.8672449883936</td><td>260304696.1995721</td><td>4.438075662981372</td><td>False</td><td>0.14</td><td>5.0</td><td>False</td><td>1</td><td>36.47495735298941</td><td>34.902989624084036</td><td>33.24034014893007</td><td>30.399518015663926</td><td>24.492568168372504</td></tr>\n",
       "<tr><td>0.16000000000000003</td><td>1.0402435913119708</td><td>4.013949729509597e+22</td><td>923.2727122989376</td><td>278280005.5567242</td><td>4.438067609959059</td><td>False</td><td>0.16</td><td>5.0</td><td>False</td><td>1</td><td>36.32996977715265</td><td>34.75799601291953</td><td>33.095349974125234</td><td>30.25452124804787</td><td>24.347567583369095</td></tr>\n",
       "<tr><td>0.16000000000000003</td><td>-0.15975640868802898</td><td>4.013949729509597e+22</td><td>923.2727122989376</td><td>278280005.5567242</td><td>4.438067609959059</td><td>False</td><td>0.16</td><td>5.0</td><td>False</td><td>1</td><td>36.32996977715265</td><td>34.75799601291953</td><td>33.095349974125234</td><td>30.25452124804787</td><td>24.347567583369095</td></tr>\n",
       "<tr><td>0.13</td><td>-0.9898144086880292</td><td>1.4213202025222475e+22</td><td>750.153258350221</td><td>250837234.12939957</td><td>4.43807097960997</td><td>False</td><td>0.13</td><td>5.0</td><td>False</td><td>1</td><td>36.55541457845449</td><td>34.98344333961485</td><td>33.32079586292777</td><td>30.479969895510337</td><td>24.573017828153834</td></tr>\n",
       "<tr><td>0.16000000000000003</td><td>-0.6930894086880293</td><td>4.013949729509597e+22</td><td>923.2727122989376</td><td>278280005.5567242</td><td>4.438067609959059</td><td>False</td><td>0.16</td><td>5.0</td><td>False</td><td>1</td><td>36.32996977715265</td><td>34.75799601291953</td><td>33.095349974125234</td><td>30.25452124804787</td><td>24.347567583369095</td></tr>\n",
       "<tr><td>0.13999999999999999</td><td>-1.1124204086880292</td><td>2.0587894263296398e+22</td><td>807.8672449883936</td><td>260304696.1995721</td><td>4.438075662981372</td><td>False</td><td>0.14</td><td>5.0</td><td>False</td><td>1</td><td>36.47495735298941</td><td>34.902989624084036</td><td>33.24034014893007</td><td>30.399518015663926</td><td>24.492568168372504</td></tr>\n",
       "<tr><td>0.13</td><td>-1.523148208688029</td><td>1.4213202025222475e+22</td><td>750.153258350221</td><td>250837234.12939957</td><td>4.43807097960997</td><td>False</td><td>0.13</td><td>5.0</td><td>False</td><td>1</td><td>36.55541457845449</td><td>34.98344333961485</td><td>33.32079586292777</td><td>30.479969895510337</td><td>24.573017828153834</td></tr>\n",
       "<tr><td>0.16000000000000003</td><td>0.106910591311971</td><td>4.013949729509597e+22</td><td>923.2727122989376</td><td>278280005.5567242</td><td>4.438067609959059</td><td>False</td><td>0.16</td><td>5.0</td><td>False</td><td>1</td><td>36.32996977715265</td><td>34.75799601291953</td><td>33.095349974125234</td><td>30.25452124804787</td><td>24.347567583369095</td></tr>\n",
       "<tr><td>0.13</td><td>-0.7231484086880291</td><td>1.4213202025222475e+22</td><td>750.153258350221</td><td>250837234.12939957</td><td>4.43807097960997</td><td>False</td><td>0.13</td><td>5.0</td><td>False</td><td>1</td><td>36.55541457845449</td><td>34.98344333961485</td><td>33.32079586292777</td><td>30.479969895510337</td><td>24.573017828153834</td></tr>\n",
       "<tr><td>0.13</td><td>0.210185591311971</td><td>1.4213202025222475e+22</td><td>750.153258350221</td><td>250837234.12939957</td><td>4.43807097960997</td><td>False</td><td>0.13</td><td>5.0</td><td>False</td><td>1</td><td>36.55541457845449</td><td>34.98344333961485</td><td>33.32079586292777</td><td>30.479969895510337</td><td>24.573017828153834</td></tr>\n",
       "<tr><td>0.16000000000000003</td><td>0.5069105913119709</td><td>4.013949729509597e+22</td><td>923.2727122989376</td><td>278280005.5567242</td><td>4.438067609959059</td><td>False</td><td>0.16</td><td>5.0</td><td>False</td><td>1</td><td>36.32996977715265</td><td>34.75799601291953</td><td>33.095349974125234</td><td>30.25452124804787</td><td>24.347567583369095</td></tr>\n",
       "<tr><td>0.16000000000000003</td><td>-0.4264224086880293</td><td>4.013949729509597e+22</td><td>923.2727122989376</td><td>278280005.5567242</td><td>4.438067609959059</td><td>False</td><td>0.16</td><td>5.0</td><td>False</td><td>1</td><td>36.32996977715265</td><td>34.75799601291953</td><td>33.095349974125234</td><td>30.25452124804787</td><td>24.347567583369095</td></tr>\n",
       "<tr><td>0.13</td><td>0.6101855913119709</td><td>1.4213202025222475e+22</td><td>750.153258350221</td><td>250837234.12939957</td><td>4.43807097960997</td><td>False</td><td>0.13</td><td>5.0</td><td>False</td><td>1</td><td>36.55541457845449</td><td>34.98344333961485</td><td>33.32079586292777</td><td>30.479969895510337</td><td>24.573017828153834</td></tr>\n",
       "<tr><td>0.13999999999999999</td><td>-0.17908640868802905</td><td>2.0587894263296398e+22</td><td>807.8672449883936</td><td>260304696.1995721</td><td>4.438075662981372</td><td>False</td><td>0.14</td><td>5.0</td><td>False</td><td>1</td><td>36.47495735298941</td><td>34.902989624084036</td><td>33.24034014893007</td><td>30.399518015663926</td><td>24.492568168372504</td></tr>\n",
       "</table>"
      ],
      "text/plain": [
       "<Table length=16>\n",
       "        mass               log_a         ...      m_ubv_I      \n",
       "      solMass                            ...                   \n",
       "      float64             float64        ...      float64      \n",
       "------------------- -------------------- ... ------------------\n",
       "               0.13  0.47685159131197086 ... 24.573017828153834\n",
       "0.16000000000000003  -1.0930894086880292 ... 24.347567583369095\n",
       "0.13999999999999999  -1.5124199086880292 ... 24.492568168372504\n",
       "0.16000000000000003   1.0402435913119708 ... 24.347567583369095\n",
       "0.16000000000000003 -0.15975640868802898 ... 24.347567583369095\n",
       "               0.13  -0.9898144086880292 ... 24.573017828153834\n",
       "0.16000000000000003  -0.6930894086880293 ... 24.347567583369095\n",
       "0.13999999999999999  -1.1124204086880292 ... 24.492568168372504\n",
       "               0.13   -1.523148208688029 ... 24.573017828153834\n",
       "0.16000000000000003    0.106910591311971 ... 24.347567583369095\n",
       "               0.13  -0.7231484086880291 ... 24.573017828153834\n",
       "               0.13    0.210185591311971 ... 24.573017828153834\n",
       "0.16000000000000003   0.5069105913119709 ... 24.347567583369095\n",
       "0.16000000000000003  -0.4264224086880293 ... 24.347567583369095\n",
       "               0.13   0.6101855913119709 ... 24.573017828153834\n",
       "0.13999999999999999 -0.17908640868802905 ... 24.492568168372504"
      ]
     },
     "execution_count": 88,
     "metadata": {},
     "output_type": "execute_result"
    }
   ],
   "source": [
    "iso1.secondaries[np.where((iso1.secondaries['m_ubv_V']>30) & ((iso1.secondaries['m_ubv_B']-iso1.secondaries['m_ubv_V'])<-1))[0]]"
   ]
  },
  {
   "cell_type": "markdown",
   "metadata": {},
   "source": [
    "Hmm, I think those are stars that are going to be white dwarves very soon or may unintentionally be brown dwarves. At least according to HOKI's criterion for what is a white dwarf or not. At the very least, at least the stars we just saw were low mass stars so they should be **LOW** on the CMD"
   ]
  },
  {
   "cell_type": "code",
   "execution_count": 89,
   "metadata": {},
   "outputs": [
    {
     "name": "stdout",
     "output_type": "stream",
     "text": [
      "Changing to logg=5.00 for T=  2305 logg=5.22\n",
      "Isochrone generation took 19.089188 s.\n",
      "Making photometry for isochrone: log(t) = 9.30  AKs = 0.00  dist = 1000\n",
      "     Starting at:  2020-12-14 16:01:20.299292   Usually takes ~5 minutes\n",
      "Starting filter: ubv,U   Elapsed time: 0.00 seconds\n",
      "Starting synthetic photometry\n",
      "M =   0.090 Msun  T =  2305 K  m_ubv_U = 32.04\n",
      "M =   1.659 Msun  T =  4758 K  m_ubv_U = 13.02\n",
      "M =   1.710 Msun  T =  4556 K  m_ubv_U = 12.36\n",
      "Starting filter: ubv,B   Elapsed time: 0.49 seconds\n",
      "Starting synthetic photometry\n",
      "M =   0.090 Msun  T =  2305 K  m_ubv_B = 32.12\n",
      "M =   1.659 Msun  T =  4758 K  m_ubv_B = 12.19\n",
      "M =   1.710 Msun  T =  4556 K  m_ubv_B = 11.28\n",
      "Starting filter: ubv,V   Elapsed time: 0.97 seconds\n",
      "Starting synthetic photometry\n",
      "M =   0.090 Msun  T =  2305 K  m_ubv_V = 29.85\n",
      "M =   1.659 Msun  T =  4758 K  m_ubv_V = 11.11\n",
      "M =   1.710 Msun  T =  4556 K  m_ubv_V = 10.08\n",
      "Starting filter: ubv,R   Elapsed time: 1.45 seconds\n",
      "Starting synthetic photometry\n",
      "M =   0.090 Msun  T =  2305 K  m_ubv_R = 27.56\n",
      "M =   1.659 Msun  T =  4758 K  m_ubv_R = 10.60\n",
      "M =   1.710 Msun  T =  4556 K  m_ubv_R = 9.53\n",
      "Starting filter: ubv,I   Elapsed time: 1.91 seconds\n",
      "Starting synthetic photometry\n",
      "M =   0.090 Msun  T =  2305 K  m_ubv_I = 23.30\n",
      "M =   1.659 Msun  T =  4758 K  m_ubv_I = 9.96\n",
      "M =   1.710 Msun  T =  4556 K  m_ubv_I = 8.83\n",
      "      Time taken: 2.37 seconds\n"
     ]
    }
   ],
   "source": [
    "iso2=synthetic.IsochronePhot(9.3, 0.0, 1000, math.log(1),evo_model=evolution.Parsec(), recomp=True) # New Parsec isochrone for same metallicity"
   ]
  },
  {
   "cell_type": "markdown",
   "metadata": {},
   "source": [
    "Looking at the distribution of logg values. for the stars in the Parsec isochrone."
   ]
  },
  {
   "cell_type": "code",
   "execution_count": 90,
   "metadata": {},
   "outputs": [
    {
     "data": {
      "text/plain": [
       "5.2171"
      ]
     },
     "execution_count": 90,
     "metadata": {},
     "output_type": "execute_result"
    }
   ],
   "source": [
    "np.max(iso2.points['logg'])"
   ]
  },
  {
   "cell_type": "code",
   "execution_count": 91,
   "metadata": {},
   "outputs": [
    {
     "data": {
      "text/plain": [
       "(array([ 0.,  0.,  0.,  0.,  0.,  0.,  0.,  0.,  0.,  0., 19., 37., 89.,\n",
       "        38., 49.,  8.,  0.,  0.,  0.,  0.,  0.,  0.,  0.,  0.,  0.,  0.,\n",
       "         0.,  0.,  0.,  0.,  0.,  0.,  0.,  0.,  0.,  0.,  0.,  0.,  0.]),\n",
       " array([-10,  -9,  -8,  -7,  -6,  -5,  -4,  -3,  -2,  -1,   0,   1,   2,\n",
       "          3,   4,   5,   6,   7,   8,   9,  10,  11,  12,  13,  14,  15,\n",
       "         16,  17,  18,  19,  20,  21,  22,  23,  24,  25,  26,  27,  28,\n",
       "         29]),\n",
       " <a list of 39 Patch objects>)"
      ]
     },
     "execution_count": 91,
     "metadata": {},
     "output_type": "execute_result"
    },
    {
     "data": {
      "image/png": "[encoded data removed]",
      "text/plain": [
       "<Figure size 432x288 with 1 Axes>"
      ]
     },
     "metadata": {
      "needs_background": "light"
     },
     "output_type": "display_data"
    }
   ],
   "source": [
    "import matplotlib.pyplot as plt\n",
    "plt.xlabel(\"logg in cgs\")\n",
    "plt.title(\"Histogram of logg values of stars in the Parsec isochrone\")\n",
    "plt.hist(np.array([x for x in iso2.points['logg'] if np.isfinite(x)]), np.arange(-10, 30, 1))"
   ]
  },
  {
   "cell_type": "code",
   "execution_count": 92,
   "metadata": {},
   "outputs": [
    {
     "data": {
      "text/plain": [
       "2.6134"
      ]
     },
     "execution_count": 92,
     "metadata": {},
     "output_type": "execute_result"
    }
   ],
   "source": [
    "np.median(iso2.points['logg'])"
   ]
  },
  {
   "cell_type": "code",
   "execution_count": 93,
   "metadata": {},
   "outputs": [
    {
     "data": {
      "text/plain": [
       "2.8664904166666663"
      ]
     },
     "execution_count": 93,
     "metadata": {},
     "output_type": "execute_result"
    }
   ],
   "source": [
    "np.mean(iso2.points['logg'])"
   ]
  },
  {
   "cell_type": "code",
   "execution_count": 94,
   "metadata": {},
   "outputs": [],
   "source": [
    "from spisea import imf\n",
    "from spisea.imf import imf, multiplicity\n",
    "from spisea import ifmr\n"
   ]
  },
  {
   "cell_type": "markdown",
   "metadata": {},
   "source": [
    "Make the clusters corresponding to the binary star isochrone and the Parsec isochrone"
   ]
  },
  {
   "cell_type": "code",
   "execution_count": 95,
   "metadata": {},
   "outputs": [
    {
     "name": "stderr",
     "output_type": "stream",
     "text": [
      "/opt/anaconda3/envs/astroconda/lib/python3.7/site-packages/astropy/table/column.py:1020: RuntimeWarning: invalid value encountered in greater_equal\n",
      "  result = getattr(super(), op)(other)\n"
     ]
    },
    {
     "name": "stdout",
     "output_type": "stream",
     "text": [
      "Found 45 companions out of stellar mass range\n"
     ]
    }
   ],
   "source": [
    "clus_1=synthetic.Binary_Cluster(iso1, imf.IMFSalpeter1955(multiplicity=multiplicity.MultiplicityResolvedDK()), 2000, ifmr=ifmr.IFMR_Spera15())\n",
    "clus_2=synthetic.ResolvedCluster(iso2, imf.IMFSalpeter1955(multiplicity=multiplicity.MultiplicityResolvedDK()), 2000, ifmr=ifmr.IFMR_Spera15())"
   ]
  },
  {
   "cell_type": "markdown",
   "metadata": {},
   "source": [
    "Now let's visualize the isochrone we have created so far with a color magnitude diagram. There we can see the end of main sequence and perhaps the M type"
   ]
  },
  {
   "cell_type": "code",
   "execution_count": 96,
   "metadata": {},
   "outputs": [
    {
     "data": {
      "text/plain": [
       "<matplotlib.legend.Legend at 0x7fb80a74eef0>"
      ]
     },
     "execution_count": 96,
     "metadata": {},
     "output_type": "execute_result"
    },
    {
     "data": {
      "image/png": "[encoded data removed]",
      "text/plain": [
       "<Figure size 432x288 with 1 Axes>"
      ]
     },
     "metadata": {
      "needs_background": "light"
     },
     "output_type": "display_data"
    }
   ],
   "source": [
    "# Taking a look at the Binary Cluster vs Default Settings cluster Observer's HR Diagram\n",
    "# Remember to use a distance modulus!\n",
    "import matplotlib.pyplot as plt\n",
    "plt.plot(iso1.primaries['m_ubv_B']-iso1.primaries[\"m_ubv_V\"], iso1.primaries[\"m_ubv_V\"]-5*np.log10(100), \"r.\")\n",
    "plt.plot(iso1.secondaries['m_ubv_B']-iso1.secondaries[\"m_ubv_V\"], iso1.secondaries[\"m_ubv_V\"]-5*np.log10(100), \"r.\")\n",
    "plt.plot(iso1.singles['m_ubv_B']-iso1.singles[\"m_ubv_V\"], iso1.singles[\"m_ubv_V\"]-5*np.log10(100), \"r.\", label=\"BPASS isochrone\")\n",
    "plt.plot(iso2.points['m_ubv_B']-iso2.points[\"m_ubv_V\"], iso2.points[\"m_ubv_V\"]-5*np.log10(100), \"b+\", label=\"Parsec isochrone\", alpha = 0.2)\n",
    "plt.xlabel(\"B-V\")\n",
    "plt.ylabel(\"M_V\")\n",
    "plt.title(\"Color magnitude Diagram of Isochrones at 0.1Z_solar and 10**9.3 years age\")\n",
    "plt.gca().invert_yaxis()\n",
    "plt.legend()"
   ]
  },
  {
   "cell_type": "markdown",
   "metadata": {},
   "source": [
    "We do have several outliers but otherwise the pattern does not seem too terribly off from the Parsec isochrone's shape. Now I look at the primary stars and see if there are any problems caused."
   ]
  },
  {
   "cell_type": "code",
   "execution_count": 97,
   "metadata": {},
   "outputs": [
    {
     "data": {
      "text/plain": [
       "<matplotlib.legend.Legend at 0x7fb81cff0b70>"
      ]
     },
     "execution_count": 97,
     "metadata": {},
     "output_type": "execute_result"
    },
    {
     "data": {
      "image/png": "[encoded data removed]",
      "text/plain": [
       "<Figure size 432x288 with 1 Axes>"
      ]
     },
     "metadata": {
      "needs_background": "light"
     },
     "output_type": "display_data"
    }
   ],
   "source": [
    "# Taking a look at the Binary Cluster vs Default Settings cluster Observer's HR Diagram\n",
    "# Remember to use a distance modulus!\n",
    "import matplotlib.pyplot as plt\n",
    "plt.plot(iso1.primaries['m_ubv_B']-iso1.primaries[\"m_ubv_V\"], iso1.primaries[\"m_ubv_V\"]-5*np.log10(100), \"r+\",  label=\"BPASS isochrone\", alpha =0.7)\n",
    "plt.xlabel(\"B-V\")\n",
    "plt.ylabel(\"M_V\")\n",
    "plt.title(\"Color magnitude Diagram of Isochrones at 0.1Z_solar and 10**9.3 years age (Primary stars only)\")\n",
    "plt.gca().invert_yaxis()\n",
    "plt.legend()"
   ]
  },
  {
   "cell_type": "code",
   "execution_count": 98,
   "metadata": {},
   "outputs": [
    {
     "data": {
      "text/plain": [
       "<matplotlib.legend.Legend at 0x7fb7fb69e198>"
      ]
     },
     "execution_count": 98,
     "metadata": {},
     "output_type": "execute_result"
    },
    {
     "data": {
      "image/png": "[encoded data removed]",
      "text/plain": [
       "<Figure size 432x288 with 1 Axes>"
      ]
     },
     "metadata": {
      "needs_background": "light"
     },
     "output_type": "display_data"
    }
   ],
   "source": [
    "import matplotlib.pyplot as plt\n",
    "plt.plot(iso1.secondaries['m_ubv_B']-iso1.secondaries[\"m_ubv_V\"], iso1.secondaries[\"m_ubv_V\"]-5*np.log10(100), \"r+\",  label=\"BPASS isochrone\", alpha =0.7)\n",
    "plt.xlabel(\"B-V\")\n",
    "plt.ylabel(\"M_V\")\n",
    "plt.title(\"Color magnitude Diagram of Isochrones at 0.1Z_solar and 10**9.3 years age (Primary stars only)\")\n",
    "plt.gca().invert_yaxis()\n",
    "plt.legend()"
   ]
  },
  {
   "cell_type": "markdown",
   "metadata": {},
   "source": [
    "Where are some of the goofy outliers coming from?"
   ]
  },
  {
   "cell_type": "code",
   "execution_count": 99,
   "metadata": {},
   "outputs": [
    {
     "name": "stderr",
     "output_type": "stream",
     "text": [
      "/opt/anaconda3/envs/astroconda/lib/python3.7/site-packages/astropy/table/column.py:1020: RuntimeWarning: invalid value encountered in greater\n",
      "  result = getattr(super(), op)(other)\n"
     ]
    },
    {
     "data": {
      "text/html": [
       "<i>Table length=26</i>\n",
       "<table id=\"table140428174447168\" class=\"table-striped table-bordered table-condensed\">\n",
       "<thead><tr><th>mass</th><th>log_a</th><th>L</th><th>Teff</th><th>R</th><th>logg</th><th>isWR</th><th>mass_current</th><th>phase</th><th>merged</th><th>source</th><th>m_ubv_U</th><th>m_ubv_V</th><th>m_ubv_B</th><th>m_ubv_R</th><th>m_ubv_I</th></tr></thead>\n",
       "<thead><tr><th>solMass</th><th></th><th>W</th><th>K</th><th>m</th><th></th><th></th><th>solMass</th><th></th><th></th><th></th><th></th><th></th><th></th><th></th><th></th></tr></thead>\n",
       "<thead><tr><th>float64</th><th>float64</th><th>float64</th><th>float64</th><th>float64</th><th>float64</th><th>bool</th><th>float64</th><th>float64</th><th>bool</th><th>int64</th><th>float64</th><th>float64</th><th>float64</th><th>float64</th><th>float64</th></tr></thead>\n",
       "<tr><td>0.13</td><td>0.47685159131197086</td><td>1.4213202025222475e+22</td><td>750.153258350221</td><td>250837234.12939957</td><td>4.43807097960997</td><td>False</td><td>0.13</td><td>5.0</td><td>False</td><td>1</td><td>36.55541457845449</td><td>34.98344333961485</td><td>33.32079586292777</td><td>30.479969895510337</td><td>24.573017828153834</td></tr>\n",
       "<tr><td>0.26</td><td>0.8894475913119706</td><td>4.548224875119761e+23</td><td>1500.3065316795803</td><td>354741504.31379926</td><td>4.4380609752739515</td><td>False</td><td>0.26</td><td>5.0</td><td>False</td><td>1</td><td>34.026159664130724</td><td>30.633704940867208</td><td>31.44845488302193</td><td>26.952418336027847</td><td>22.967821403177684</td></tr>\n",
       "<tr><td>0.26</td><td>0.4894475913119707</td><td>4.548224875119761e+23</td><td>1500.3065316795803</td><td>354741504.31379926</td><td>4.4380609752739515</td><td>False</td><td>0.26</td><td>5.0</td><td>False</td><td>1</td><td>34.026159664130724</td><td>30.633704940867208</td><td>31.44845488302193</td><td>26.952418336027847</td><td>22.967821403177684</td></tr>\n",
       "<tr><td>0.16000000000000003</td><td>-1.0930894086880292</td><td>4.013949729509597e+22</td><td>923.2727122989376</td><td>278280005.5567242</td><td>4.438067609959059</td><td>False</td><td>0.16</td><td>5.0</td><td>False</td><td>1</td><td>36.32996977715265</td><td>34.75799601291953</td><td>33.095349974125234</td><td>30.25452124804787</td><td>24.347567583369095</td></tr>\n",
       "<tr><td>0.13999999999999999</td><td>-1.5124199086880292</td><td>2.0587894263296398e+22</td><td>807.8672449883936</td><td>260304696.1995721</td><td>4.438075662981372</td><td>False</td><td>0.14</td><td>5.0</td><td>False</td><td>1</td><td>36.47495735298941</td><td>34.902989624084036</td><td>33.24034014893007</td><td>30.399518015663926</td><td>24.492568168372504</td></tr>\n",
       "<tr><td>0.16000000000000003</td><td>1.0402435913119708</td><td>4.013949729509597e+22</td><td>923.2727122989376</td><td>278280005.5567242</td><td>4.438067609959059</td><td>False</td><td>0.16</td><td>5.0</td><td>False</td><td>1</td><td>36.32996977715265</td><td>34.75799601291953</td><td>33.095349974125234</td><td>30.25452124804787</td><td>24.347567583369095</td></tr>\n",
       "<tr><td>0.16000000000000003</td><td>-0.15975640868802898</td><td>4.013949729509597e+22</td><td>923.2727122989376</td><td>278280005.5567242</td><td>4.438067609959059</td><td>False</td><td>0.16</td><td>5.0</td><td>False</td><td>1</td><td>36.32996977715265</td><td>34.75799601291953</td><td>33.095349974125234</td><td>30.25452124804787</td><td>24.347567583369095</td></tr>\n",
       "<tr><td>0.13</td><td>-0.9898144086880292</td><td>1.4213202025222475e+22</td><td>750.153258350221</td><td>250837234.12939957</td><td>4.43807097960997</td><td>False</td><td>0.13</td><td>5.0</td><td>False</td><td>1</td><td>36.55541457845449</td><td>34.98344333961485</td><td>33.32079586292777</td><td>30.479969895510337</td><td>24.573017828153834</td></tr>\n",
       "<tr><td>0.22999999999999998</td><td>0.9642985913119708</td><td>2.463836751915467e+23</td><td>1327.2110840755804</td><td>333642989.08683115</td><td>4.438075463320726</td><td>False</td><td>0.23</td><td>5.0</td><td>False</td><td>1</td><td>35.30175910789871</td><td>32.53375408345714</td><td>32.44397896932759</td><td>28.323385276329212</td><td>23.538861868398694</td></tr>\n",
       "<tr><td>...</td><td>...</td><td>...</td><td>...</td><td>...</td><td>...</td><td>...</td><td>...</td><td>...</td><td>...</td><td>...</td><td>...</td><td>...</td><td>...</td><td>...</td><td>...</td></tr>\n",
       "<tr><td>0.22999999999999998</td><td>0.8309645913119708</td><td>2.463836751915467e+23</td><td>1327.2110840755804</td><td>333642989.08683115</td><td>4.438075463320726</td><td>False</td><td>0.23</td><td>5.0</td><td>False</td><td>1</td><td>35.30175910789871</td><td>32.53375408345714</td><td>32.44397896932759</td><td>28.323385276329212</td><td>23.538861868398694</td></tr>\n",
       "<tr><td>0.13</td><td>-0.7231484086880291</td><td>1.4213202025222475e+22</td><td>750.153258350221</td><td>250837234.12939957</td><td>4.43807097960997</td><td>False</td><td>0.13</td><td>5.0</td><td>False</td><td>1</td><td>36.55541457845449</td><td>34.98344333961485</td><td>33.32079586292777</td><td>30.479969895510337</td><td>24.573017828153834</td></tr>\n",
       "<tr><td>0.13</td><td>0.210185591311971</td><td>1.4213202025222475e+22</td><td>750.153258350221</td><td>250837234.12939957</td><td>4.43807097960997</td><td>False</td><td>0.13</td><td>5.0</td><td>False</td><td>1</td><td>36.55541457845449</td><td>34.98344333961485</td><td>33.32079586292777</td><td>30.479969895510337</td><td>24.573017828153834</td></tr>\n",
       "<tr><td>0.16000000000000003</td><td>0.5069105913119709</td><td>4.013949729509597e+22</td><td>923.2727122989376</td><td>278280005.5567242</td><td>4.438067609959059</td><td>False</td><td>0.16</td><td>5.0</td><td>False</td><td>1</td><td>36.32996977715265</td><td>34.75799601291953</td><td>33.095349974125234</td><td>30.25452124804787</td><td>24.347567583369095</td></tr>\n",
       "<tr><td>0.26</td><td>0.35611459131197076</td><td>4.548224875119761e+23</td><td>1500.3065316795803</td><td>354741504.31379926</td><td>4.4380609752739515</td><td>False</td><td>0.26</td><td>5.0</td><td>False</td><td>1</td><td>34.026159664130724</td><td>30.633704940867208</td><td>31.44845488302193</td><td>26.952418336027847</td><td>22.967821403177684</td></tr>\n",
       "<tr><td>0.16000000000000003</td><td>-0.4264224086880293</td><td>4.013949729509597e+22</td><td>923.2727122989376</td><td>278280005.5567242</td><td>4.438067609959059</td><td>False</td><td>0.16</td><td>5.0</td><td>False</td><td>1</td><td>36.32996977715265</td><td>34.75799601291953</td><td>33.095349974125234</td><td>30.25452124804787</td><td>24.347567583369095</td></tr>\n",
       "<tr><td>0.26</td><td>-0.17721840868802907</td><td>4.548224875119761e+23</td><td>1500.3065316795803</td><td>354741504.31379926</td><td>4.4380609752739515</td><td>False</td><td>0.26</td><td>5.0</td><td>False</td><td>1</td><td>34.026159664130724</td><td>30.633704940867208</td><td>31.44845488302193</td><td>26.952418336027847</td><td>22.967821403177684</td></tr>\n",
       "<tr><td>0.13</td><td>0.6101855913119709</td><td>1.4213202025222475e+22</td><td>750.153258350221</td><td>250837234.12939957</td><td>4.43807097960997</td><td>False</td><td>0.13</td><td>5.0</td><td>False</td><td>1</td><td>36.55541457845449</td><td>34.98344333961485</td><td>33.32079586292777</td><td>30.479969895510337</td><td>24.573017828153834</td></tr>\n",
       "<tr><td>0.26</td><td>0.08944759131197078</td><td>4.548224875119761e+23</td><td>1500.3065316795803</td><td>354741504.31379926</td><td>4.4380609752739515</td><td>False</td><td>0.26</td><td>5.0</td><td>False</td><td>1</td><td>34.026159664130724</td><td>30.633704940867208</td><td>31.44845488302193</td><td>26.952418336027847</td><td>22.967821403177684</td></tr>\n",
       "<tr><td>0.13999999999999999</td><td>-0.17908640868802905</td><td>2.0587894263296398e+22</td><td>807.8672449883936</td><td>260304696.1995721</td><td>4.438075662981372</td><td>False</td><td>0.14</td><td>5.0</td><td>False</td><td>1</td><td>36.47495735298941</td><td>34.902989624084036</td><td>33.24034014893007</td><td>30.399518015663926</td><td>24.492568168372504</td></tr>\n",
       "</table>"
      ],
      "text/plain": [
       "<Table length=26>\n",
       "        mass               log_a         ...      m_ubv_I      \n",
       "      solMass                            ...                   \n",
       "      float64             float64        ...      float64      \n",
       "------------------- -------------------- ... ------------------\n",
       "               0.13  0.47685159131197086 ... 24.573017828153834\n",
       "               0.26   0.8894475913119706 ... 22.967821403177684\n",
       "               0.26   0.4894475913119707 ... 22.967821403177684\n",
       "0.16000000000000003  -1.0930894086880292 ... 24.347567583369095\n",
       "0.13999999999999999  -1.5124199086880292 ... 24.492568168372504\n",
       "0.16000000000000003   1.0402435913119708 ... 24.347567583369095\n",
       "0.16000000000000003 -0.15975640868802898 ... 24.347567583369095\n",
       "               0.13  -0.9898144086880292 ... 24.573017828153834\n",
       "0.22999999999999998   0.9642985913119708 ... 23.538861868398694\n",
       "                ...                  ... ...                ...\n",
       "0.22999999999999998   0.8309645913119708 ... 23.538861868398694\n",
       "               0.13  -0.7231484086880291 ... 24.573017828153834\n",
       "               0.13    0.210185591311971 ... 24.573017828153834\n",
       "0.16000000000000003   0.5069105913119709 ... 24.347567583369095\n",
       "               0.26  0.35611459131197076 ... 22.967821403177684\n",
       "0.16000000000000003  -0.4264224086880293 ... 24.347567583369095\n",
       "               0.26 -0.17721840868802907 ... 22.967821403177684\n",
       "               0.13   0.6101855913119709 ... 24.573017828153834\n",
       "               0.26  0.08944759131197078 ... 22.967821403177684\n",
       "0.13999999999999999 -0.17908640868802905 ... 24.492568168372504"
      ]
     },
     "execution_count": 99,
     "metadata": {},
     "output_type": "execute_result"
    }
   ],
   "source": [
    "iso1.secondaries[np.where(iso1.secondaries[\"m_ubv_V\"]-5*np.log10(100)>20.0)[0]]"
   ]
  },
  {
   "cell_type": "code",
   "execution_count": 100,
   "metadata": {},
   "outputs": [],
   "source": [
    "issue = iso1.secondaries[np.where(iso1.secondaries[\"m_ubv_V\"]-5*np.log10(100)>20.0)[0]]"
   ]
  },
  {
   "cell_type": "code",
   "execution_count": 101,
   "metadata": {},
   "outputs": [
    {
     "data": {
      "text/html": [
       "&lt;Column name=&apos;mass&apos; dtype=&apos;float64&apos; unit=&apos;solMass&apos; length=5&gt;\n",
       "<table>\n",
       "<tr><td>0.13</td></tr>\n",
       "<tr><td>0.13999999999999999</td></tr>\n",
       "<tr><td>0.16000000000000003</td></tr>\n",
       "<tr><td>0.22999999999999998</td></tr>\n",
       "<tr><td>0.26</td></tr>\n",
       "</table>"
      ],
      "text/plain": [
       "<Column name='mass' dtype='float64' unit='solMass' length=5>\n",
       "               0.13\n",
       "0.13999999999999999\n",
       "0.16000000000000003\n",
       "0.22999999999999998\n",
       "               0.26"
      ]
     },
     "execution_count": 101,
     "metadata": {},
     "output_type": "execute_result"
    }
   ],
   "source": [
    "np.unique(issue['mass'])"
   ]
  },
  {
   "cell_type": "code",
   "execution_count": 102,
   "metadata": {},
   "outputs": [
    {
     "data": {
      "text/html": [
       "&lt;Column name=&apos;phase&apos; dtype=&apos;float64&apos; length=1&gt;\n",
       "<table>\n",
       "<tr><td>5.0</td></tr>\n",
       "</table>"
      ],
      "text/plain": [
       "<Column name='phase' dtype='float64' length=1>\n",
       "5.0"
      ]
     },
     "execution_count": 102,
     "metadata": {},
     "output_type": "execute_result"
    }
   ],
   "source": [
    "np.unique(issue['phase'])"
   ]
  },
  {
   "cell_type": "code",
   "execution_count": 103,
   "metadata": {},
   "outputs": [
    {
     "data": {
      "text/plain": [
       "<matplotlib.legend.Legend at 0x7fb80a0dc710>"
      ]
     },
     "execution_count": 103,
     "metadata": {},
     "output_type": "execute_result"
    },
    {
     "data": {
      "image/png": "[encoded data removed]",
      "text/plain": [
       "<Figure size 432x288 with 1 Axes>"
      ]
     },
     "metadata": {
      "needs_background": "light"
     },
     "output_type": "display_data"
    }
   ],
   "source": [
    "import matplotlib.pyplot as plt\n",
    "plt.plot(np.log10(iso1.primaries['Teff']), np.log10(iso1.primaries[\"L\"]), \"r.\", alpha =0.3)\n",
    "plt.plot(np.log10(iso1.secondaries['Teff']), np.log10(iso1.secondaries[\"L\"]), \"r.\", alpha =0.3)\n",
    "plt.plot(np.log10(iso1.singles['Teff']), np.log10(iso1.singles[\"L\"]), \"r.\", label=\"BPASS isochrone\", alpha =0.3)\n",
    "plt.plot(np.log10(iso2.points['Teff']), np.log10(iso2.points[\"L\"]), \"b+\", label=\"Paresc\", alpha =0.1)\n",
    "plt.xlabel(\"log(T in Kelvin)\")\n",
    "plt.ylabel(\"log(L in Watts)\")\n",
    "plt.title(\"HR Diagram of Isochrones at 0.1Z_solar and 10**9.3 years age\")\n",
    "plt.gca().invert_xaxis()\n",
    "plt.legend()\n",
    "# Rough pattern seems to fit. What's that line?"
   ]
  },
  {
   "cell_type": "markdown",
   "metadata": {},
   "source": [
    "A good sign here is that there are plenty of compact remnant (that means good number of stars have gone through their main-sequence and post-main sequence). I also notice stars turning to the red giant branch. This is going to be really important when we decide to use the clusters as reference for finding ages of actual star clusters."
   ]
  },
  {
   "cell_type": "code",
   "execution_count": 104,
   "metadata": {},
   "outputs": [
    {
     "data": {
      "text/plain": [
       "<matplotlib.legend.Legend at 0x7fb7fba15ac8>"
      ]
     },
     "execution_count": 104,
     "metadata": {},
     "output_type": "execute_result"
    },
    {
     "data": {
      "image/png": "[encoded data removed]",
      "text/plain": [
       "<Figure size 432x288 with 1 Axes>"
      ]
     },
     "metadata": {
      "needs_background": "light"
     },
     "output_type": "display_data"
    }
   ],
   "source": [
    "# Plot the mass-luminosity relationship\n",
    "from astropy import constants as cs\n",
    "import matplotlib.pyplot as plt\n",
    "plt.plot(np.log10(iso1.primaries['mass_current']), np.log10(iso1.primaries[\"L\"]/cs.L_sun), \"r.\")\n",
    "plt.plot(np.log10(iso1.secondaries['mass_current']), np.log10(iso1.secondaries[\"L\"]/cs.L_sun), \"r.\")\n",
    "plt.plot(np.log10(iso1.singles['mass_current']), np.log10(iso1.singles[\"L\"]/cs.L_sun), \"r.\", label=\"BPASS isochrone\")\n",
    "plt.plot(np.log10(iso2.points['mass_current']), np.log10(iso2.points[\"L\"]/cs.L_sun), \"b+\", label=\"Parsec\", alpha =0.2)\n",
    "plt.xlabel(\"log(Current Mass in solar masses)\")\n",
    "plt.ylabel(\"log(L/L_solar)\")\n",
    "plt.title(\"log Mass-logL of Isochrones at 0.1Z_solar and 10**9.3 years age\")\n",
    "plt.legend()\n",
    "# Rough pattern seems to fit. What's that line?"
   ]
  },
  {
   "cell_type": "markdown",
   "metadata": {},
   "source": [
    "Which table is causing that line segment at around log10(L/L_sun)=-3?\n",
    "Let's find out.\n",
    "First I take a look at the shape of the primary stars' plot for log current mass log L."
   ]
  },
  {
   "cell_type": "code",
   "execution_count": 105,
   "metadata": {},
   "outputs": [
    {
     "data": {
      "text/plain": [
       "<matplotlib.legend.Legend at 0x7fb7fb786da0>"
      ]
     },
     "execution_count": 105,
     "metadata": {},
     "output_type": "execute_result"
    },
    {
     "data": {
      "image/png": "[encoded data removed]",
      "text/plain": [
       "<Figure size 432x288 with 1 Axes>"
      ]
     },
     "metadata": {
      "needs_background": "light"
     },
     "output_type": "display_data"
    }
   ],
   "source": [
    "from astropy import constants as cs\n",
    "import matplotlib.pyplot as plt\n",
    "plt.plot(np.log10(iso1.primaries['mass_current']), np.log10(iso1.primaries[\"L\"]/cs.L_sun), \"r.\", label=\"BPASS isochrone (primaries)\")\n",
    "plt.xlabel(\"log(Current Mass in solar masses)\")\n",
    "plt.ylabel(\"log(L/L_solar)\")\n",
    "plt.title(\"log Mass-logL of Isochrones at 0.1Z_solar and 10**9.3 years age\")\n",
    "plt.legend()"
   ]
  },
  {
   "cell_type": "markdown",
   "metadata": {},
   "source": [
    "Which type of secondary star is it that is causing this strange pattern?"
   ]
  },
  {
   "cell_type": "code",
   "execution_count": 106,
   "metadata": {},
   "outputs": [
    {
     "name": "stderr",
     "output_type": "stream",
     "text": [
      "/opt/anaconda3/envs/astroconda/lib/python3.7/site-packages/astropy/units/quantity.py:477: RuntimeWarning: invalid value encountered in greater\n",
      "  result = super().__array_ufunc__(function, method, *arrays, **kwargs)\n",
      "/opt/anaconda3/envs/astroconda/lib/python3.7/site-packages/astropy/units/quantity.py:477: RuntimeWarning: invalid value encountered in less\n",
      "  result = super().__array_ufunc__(function, method, *arrays, **kwargs)\n"
     ]
    }
   ],
   "source": [
    "bad_line = iso1.primaries[np.where((np.log10(iso1.primaries[\"L\"]/cs.L_sun)>-3.30) & (np.log10(iso1.primaries[\"L\"]/cs.L_sun)<-3.10))[0]]"
   ]
  },
  {
   "cell_type": "code",
   "execution_count": 107,
   "metadata": {},
   "outputs": [
    {
     "data": {
      "text/html": [
       "<i>Table length=225</i>\n",
       "<table id=\"table140428190797608\" class=\"table-striped table-bordered table-condensed\">\n",
       "<thead><tr><th>mass</th><th>log_a</th><th>L</th><th>Teff</th><th>R</th><th>logg</th><th>isWR</th><th>mass_current</th><th>phase</th><th>source</th><th>m_ubv_U</th><th>m_ubv_V</th><th>m_ubv_B</th><th>m_ubv_R</th><th>m_ubv_I</th></tr></thead>\n",
       "<thead><tr><th>solMass</th><th></th><th>W</th><th>K</th><th>m</th><th></th><th></th><th>solMass</th><th></th><th></th><th></th><th></th><th></th><th></th><th></th></tr></thead>\n",
       "<thead><tr><th>float64</th><th>float64</th><th>float64</th><th>float64</th><th>float64</th><th>float64</th><th>bool</th><th>float64</th><th>float64</th><th>int64</th><th>float64</th><th>float64</th><th>float64</th><th>float64</th><th>float64</th></tr></thead>\n",
       "<tr><td>7.0</td><td>-1.5339484086880293</td><td>2.428683537972485e+23</td><td>13589.359880314514</td><td>3161379.7288910877</td><td>9.23071353754886</td><td>False</td><td>1.28102</td><td>101.0</td><td>1</td><td>23.014960211651207</td><td>23.633425173960674</td><td>23.782390381447748</td><td>23.666929270212623</td><td>23.750891625366503</td></tr>\n",
       "<tr><td>2.1</td><td>5.667496591311971</td><td>2.182146626600701e+23</td><td>7906.149093986397</td><td>8853218.119946819</td><td>8.009689039666561</td><td>False</td><td>0.60392</td><td>101.0</td><td>1</td><td>22.799097455562386</td><td>23.06670191505958</td><td>23.366171894453124</td><td>22.901493438255084</td><td>22.68516643609879</td></tr>\n",
       "<tr><td>1.9</td><td>0.27771759131197093</td><td>2.140483720297727e+23</td><td>7820.292551376541</td><td>8961880.821911374</td><td>7.990723345988437</td><td>False</td><td>0.59239</td><td>101.0</td><td>1</td><td>22.823673218170754</td><td>23.081371199233832</td><td>23.387045378904187</td><td>22.911111170154072</td><td>22.68718923470345</td></tr>\n",
       "<tr><td>2.3</td><td>0.3713095913119706</td><td>2.761168620064271e+23</td><td>8163.755700059682</td><td>9340188.997741533</td><td>7.9253270987791</td><td>False</td><td>0.55351</td><td>101.0</td><td>1</td><td>22.54619254347196</td><td>22.829617054655888</td><td>23.112397736461787</td><td>22.67933989185216</td><td>22.486307963919387</td></tr>\n",
       "<tr><td>6.0</td><td>-0.06543640868802925</td><td>2.0945895336789545e+23</td><td>10663.701997541932</td><td>4767850.88367953</td><td>8.809549292873708</td><td>False</td><td>1.1048</td><td>101.0</td><td>1</td><td>22.90646865115697</td><td>23.352519655945517</td><td>23.560417823118428</td><td>23.315399064041436</td><td>23.291156532014547</td></tr>\n",
       "<tr><td>1.9</td><td>-0.7889484086880292</td><td>2.140483720297727e+23</td><td>7820.292551376541</td><td>8961880.821911374</td><td>7.990723345988437</td><td>False</td><td>0.59239</td><td>101.0</td><td>1</td><td>22.823673218170754</td><td>23.081371199233832</td><td>23.387045378904187</td><td>22.911111170154072</td><td>22.68718923470345</td></tr>\n",
       "<tr><td>2.1</td><td>5.667496591311971</td><td>1.9357618614772872e+23</td><td>8246.126636205156</td><td>7665053.036934719</td><td>8.222878529790268</td><td>False</td><td>0.7396</td><td>101.0</td><td>1</td><td>22.913118608002545</td><td>23.224333189113416</td><td>23.50211117308854</td><td>23.07783796601381</td><td>22.888927248396005</td></tr>\n",
       "<tr><td>7.0</td><td>0.902867591311971</td><td>2.4542224760276612e+23</td><td>13948.35525416203</td><td>3016478.0137993274</td><td>9.276010327140387</td><td>False</td><td>1.29449</td><td>101.0</td><td>1</td><td>23.046988591677355</td><td>23.685313846888832</td><td>23.82703119336757</td><td>23.7243584540786</td><td>23.816669927417973</td></tr>\n",
       "<tr><td>7.0</td><td>1.0537485913119706</td><td>2.4542224760276612e+23</td><td>13948.35525416203</td><td>3016478.0137993274</td><td>9.276010327140387</td><td>False</td><td>1.29449</td><td>101.0</td><td>1</td><td>23.046988591677355</td><td>23.685313846888832</td><td>23.82703119336757</td><td>23.7243584540786</td><td>23.816669927417973</td></tr>\n",
       "<tr><td>...</td><td>...</td><td>...</td><td>...</td><td>...</td><td>...</td><td>...</td><td>...</td><td>...</td><td>...</td><td>...</td><td>...</td><td>...</td><td>...</td><td>...</td></tr>\n",
       "<tr><td>3.98107</td><td>0.6075525913119706</td><td>2.6668705105418817e+23</td><td>2738.7349246249955</td><td>81562431.48962052</td><td>5.21048205186888</td><td>False</td><td>5.921264</td><td>110.0</td><td>4</td><td>nan</td><td>nan</td><td>nan</td><td>nan</td><td>nan</td></tr>\n",
       "<tr><td>2.51189</td><td>0.898657591311971</td><td>2.6668705105418817e+23</td><td>2738.7349246249955</td><td>81562431.48962052</td><td>4.838068244279513</td><td>False</td><td>2.51189</td><td>110.0</td><td>4</td><td>nan</td><td>nan</td><td>nan</td><td>nan</td><td>nan</td></tr>\n",
       "<tr><td>6.30957</td><td>-1.8674154086880292</td><td>2.6668705105418817e+23</td><td>2738.7349246249955</td><td>81562431.48962052</td><td>5.254573070387836</td><td>False</td><td>6.553985</td><td>110.0</td><td>3</td><td>nan</td><td>nan</td><td>nan</td><td>nan</td><td>nan</td></tr>\n",
       "<tr><td>1.4</td><td>1.099437591311971</td><td>2.6668705105418817e+23</td><td>2738.7349246249955</td><td>81562431.48962052</td><td>4.584195662981371</td><td>False</td><td>1.4</td><td>110.0</td><td>4</td><td>nan</td><td>nan</td><td>nan</td><td>nan</td><td>nan</td></tr>\n",
       "<tr><td>1.0</td><td>0.7621825913119706</td><td>2.6668705105418817e+23</td><td>2738.7349246249955</td><td>81562431.48962052</td><td>4.438067627303133</td><td>False</td><td>1.0</td><td>110.0</td><td>4</td><td>nan</td><td>nan</td><td>nan</td><td>nan</td><td>nan</td></tr>\n",
       "<tr><td>1.4</td><td>-1.6609059086880293</td><td>2.6668705105418817e+23</td><td>2738.7349246249955</td><td>81562431.48962052</td><td>4.683152452433366</td><td>False</td><td>1.758267</td><td>110.0</td><td>3</td><td>nan</td><td>nan</td><td>nan</td><td>nan</td><td>nan</td></tr>\n",
       "<tr><td>0.398107</td><td>-0.03160640868802922</td><td>2.6668705105418817e+23</td><td>2738.7349246249955</td><td>81562431.48962052</td><td>4.041574446625068</td><td>False</td><td>0.4013348</td><td>110.0</td><td>4</td><td>nan</td><td>nan</td><td>nan</td><td>nan</td><td>nan</td></tr>\n",
       "<tr><td>0.251189</td><td>-1.1226964086880291</td><td>2.6668705105418817e+23</td><td>2738.7349246249955</td><td>81562431.48962052</td><td>3.9914786178351043</td><td>False</td><td>0.3576111</td><td>110.0</td><td>4</td><td>nan</td><td>nan</td><td>nan</td><td>nan</td><td>nan</td></tr>\n",
       "<tr><td>3.16228</td><td>2.1077465913119706</td><td>2.6668705105418817e+23</td><td>2738.7349246249955</td><td>81562431.48962052</td><td>4.938067948646069</td><td>False</td><td>3.16228</td><td>110.0</td><td>4</td><td>nan</td><td>nan</td><td>nan</td><td>nan</td><td>nan</td></tr>\n",
       "<tr><td>0.630957</td><td>-1.8231427086880292</td><td>2.6668705105418817e+23</td><td>2738.7349246249955</td><td>81562431.48962052</td><td>4.345254419129256</td><td>False</td><td>0.8075823</td><td>110.0</td><td>3</td><td>nan</td><td>nan</td><td>nan</td><td>nan</td><td>nan</td></tr>\n",
       "</table>"
      ],
      "text/plain": [
       "<Table length=225>\n",
       "  mass          log_a         ...      m_ubv_R            m_ubv_I      \n",
       "solMass                       ...                                      \n",
       "float64        float64        ...      float64            float64      \n",
       "-------- -------------------- ... ------------------ ------------------\n",
       "     7.0  -1.5339484086880293 ... 23.666929270212623 23.750891625366503\n",
       "     2.1    5.667496591311971 ... 22.901493438255084  22.68516643609879\n",
       "     1.9  0.27771759131197093 ... 22.911111170154072  22.68718923470345\n",
       "     2.3   0.3713095913119706 ...  22.67933989185216 22.486307963919387\n",
       "     6.0 -0.06543640868802925 ... 23.315399064041436 23.291156532014547\n",
       "     1.9  -0.7889484086880292 ... 22.911111170154072  22.68718923470345\n",
       "     2.1    5.667496591311971 ...  23.07783796601381 22.888927248396005\n",
       "     7.0    0.902867591311971 ...   23.7243584540786 23.816669927417973\n",
       "     7.0   1.0537485913119706 ...   23.7243584540786 23.816669927417973\n",
       "     ...                  ... ...                ...                ...\n",
       " 3.98107   0.6075525913119706 ...                nan                nan\n",
       " 2.51189    0.898657591311971 ...                nan                nan\n",
       " 6.30957  -1.8674154086880292 ...                nan                nan\n",
       "     1.4    1.099437591311971 ...                nan                nan\n",
       "     1.0   0.7621825913119706 ...                nan                nan\n",
       "     1.4  -1.6609059086880293 ...                nan                nan\n",
       "0.398107 -0.03160640868802922 ...                nan                nan\n",
       "0.251189  -1.1226964086880291 ...                nan                nan\n",
       " 3.16228   2.1077465913119706 ...                nan                nan\n",
       "0.630957  -1.8231427086880292 ...                nan                nan"
      ]
     },
     "execution_count": 107,
     "metadata": {},
     "output_type": "execute_result"
    }
   ],
   "source": [
    "bad_line"
   ]
  },
  {
   "cell_type": "markdown",
   "metadata": {},
   "source": [
    "What sorts of characteristics (logg, Teff, L) can be causing it? Let's find out"
   ]
  },
  {
   "cell_type": "code",
   "execution_count": 108,
   "metadata": {},
   "outputs": [
    {
     "data": {
      "text/html": [
       "&lt;Column name=&apos;L&apos; dtype=&apos;float64&apos; unit=&apos;W&apos; length=56&gt;\n",
       "<table>\n",
       "<tr><td>1.9357618614772872e+23</td></tr>\n",
       "<tr><td>1.938955889258828e+23</td></tr>\n",
       "<tr><td>1.951978047256692e+23</td></tr>\n",
       "<tr><td>2.0848025477636784e+23</td></tr>\n",
       "<tr><td>2.0848793561428256e+23</td></tr>\n",
       "<tr><td>2.0862864100821157e+23</td></tr>\n",
       "<tr><td>2.0866851679000835e+23</td></tr>\n",
       "<tr><td>2.0878386314232085e+23</td></tr>\n",
       "<tr><td>2.088742623180326e+23</td></tr>\n",
       "<tr><td>2.0937649680439013e+23</td></tr>\n",
       "<tr><td>2.0945895336789545e+23</td></tr>\n",
       "<tr><td>2.0981180939991367e+23</td></tr>\n",
       "<tr><td>...</td></tr>\n",
       "<tr><td>2.4544711350916216e+23</td></tr>\n",
       "<tr><td>2.455358601191607e+23</td></tr>\n",
       "<tr><td>2.4599876630644003e+23</td></tr>\n",
       "<tr><td>2.4604238552124705e+23</td></tr>\n",
       "<tr><td>2.538878565668544e+23</td></tr>\n",
       "<tr><td>2.6001112424492595e+23</td></tr>\n",
       "<tr><td>2.6668705105418817e+23</td></tr>\n",
       "<tr><td>2.761168620064271e+23</td></tr>\n",
       "<tr><td>2.7718959830695045e+23</td></tr>\n",
       "<tr><td>2.775587539301794e+23</td></tr>\n",
       "<tr><td>2.78970274074741e+23</td></tr>\n",
       "<tr><td>2.7911998243170328e+23</td></tr>\n",
       "</table>"
      ],
      "text/plain": [
       "<Column name='L' dtype='float64' unit='W' length=56>\n",
       "1.9357618614772872e+23\n",
       " 1.938955889258828e+23\n",
       " 1.951978047256692e+23\n",
       "2.0848025477636784e+23\n",
       "2.0848793561428256e+23\n",
       "2.0862864100821157e+23\n",
       "2.0866851679000835e+23\n",
       "2.0878386314232085e+23\n",
       " 2.088742623180326e+23\n",
       "2.0937649680439013e+23\n",
       "2.0945895336789545e+23\n",
       "2.0981180939991367e+23\n",
       "                   ...\n",
       "2.4544711350916216e+23\n",
       " 2.455358601191607e+23\n",
       "2.4599876630644003e+23\n",
       "2.4604238552124705e+23\n",
       " 2.538878565668544e+23\n",
       "2.6001112424492595e+23\n",
       "2.6668705105418817e+23\n",
       " 2.761168620064271e+23\n",
       "2.7718959830695045e+23\n",
       " 2.775587539301794e+23\n",
       "  2.78970274074741e+23\n",
       "2.7911998243170328e+23"
      ]
     },
     "execution_count": 108,
     "metadata": {},
     "output_type": "execute_result"
    }
   ],
   "source": [
    "np.unique(bad_line['L'])"
   ]
  },
  {
   "cell_type": "code",
   "execution_count": 109,
   "metadata": {},
   "outputs": [
    {
     "data": {
      "text/html": [
       "&lt;Column name=&apos;Teff&apos; dtype=&apos;float64&apos; unit=&apos;K&apos; length=56&gt;\n",
       "<table>\n",
       "<tr><td>2738.7349246249955</td></tr>\n",
       "<tr><td>7705.7160227139275</td></tr>\n",
       "<tr><td>7705.875711970164</td></tr>\n",
       "<tr><td>7708.768434617007</td></tr>\n",
       "<tr><td>7709.584982243172</td></tr>\n",
       "<tr><td>7711.964113971307</td></tr>\n",
       "<tr><td>7713.828872013523</td></tr>\n",
       "<tr><td>7724.155353088926</td></tr>\n",
       "<tr><td>7739.982878720141</td></tr>\n",
       "<tr><td>7740.054166925223</td></tr>\n",
       "<tr><td>7742.068330016376</td></tr>\n",
       "<tr><td>7820.292551376541</td></tr>\n",
       "<tr><td>...</td></tr>\n",
       "<tr><td>13398.15506998443</td></tr>\n",
       "<tr><td>13589.359880314514</td></tr>\n",
       "<tr><td>13795.009376300666</td></tr>\n",
       "<tr><td>13893.542694979054</td></tr>\n",
       "<tr><td>13938.2740746943</td></tr>\n",
       "<tr><td>13948.35525416203</td></tr>\n",
       "<tr><td>13948.612194727551</td></tr>\n",
       "<tr><td>13948.901258521295</td></tr>\n",
       "<tr><td>13951.984978415805</td></tr>\n",
       "<tr><td>13965.19486310998</td></tr>\n",
       "<tr><td>14034.566413391132</td></tr>\n",
       "<tr><td>14041.16038176923</td></tr>\n",
       "</table>"
      ],
      "text/plain": [
       "<Column name='Teff' dtype='float64' unit='K' length=56>\n",
       "2738.7349246249955\n",
       "7705.7160227139275\n",
       " 7705.875711970164\n",
       " 7708.768434617007\n",
       " 7709.584982243172\n",
       " 7711.964113971307\n",
       " 7713.828872013523\n",
       " 7724.155353088926\n",
       " 7739.982878720141\n",
       " 7740.054166925223\n",
       " 7742.068330016376\n",
       " 7820.292551376541\n",
       "               ...\n",
       " 13398.15506998443\n",
       "13589.359880314514\n",
       "13795.009376300666\n",
       "13893.542694979054\n",
       "  13938.2740746943\n",
       " 13948.35525416203\n",
       "13948.612194727551\n",
       "13948.901258521295\n",
       "13951.984978415805\n",
       " 13965.19486310998\n",
       "14034.566413391132\n",
       " 14041.16038176923"
      ]
     },
     "execution_count": 109,
     "metadata": {},
     "output_type": "execute_result"
    }
   ],
   "source": [
    "np.unique(bad_line['Teff'])"
   ]
  },
  {
   "cell_type": "code",
   "execution_count": 110,
   "metadata": {},
   "outputs": [
    {
     "data": {
      "text/html": [
       "&lt;Column name=&apos;logg&apos; dtype=&apos;float64&apos; unit=&apos;&apos; length=104&gt;\n",
       "<table>\n",
       "<tr><td>3.9914786178351043</td></tr>\n",
       "<tr><td>4.041574446625068</td></tr>\n",
       "<tr><td>4.141349459438172</td></tr>\n",
       "<tr><td>4.161689268271874</td></tr>\n",
       "<tr><td>4.198526978953342</td></tr>\n",
       "<tr><td>4.2027409328000385</td></tr>\n",
       "<tr><td>4.209291133036126</td></tr>\n",
       "<tr><td>4.24081679887441</td></tr>\n",
       "<tr><td>4.338067498968938</td></tr>\n",
       "<tr><td>4.34049508154165</td></tr>\n",
       "<tr><td>4.345254419129256</td></tr>\n",
       "<tr><td>4.371873938591249</td></tr>\n",
       "<tr><td>...</td></tr>\n",
       "<tr><td>9.206099544769428</td></tr>\n",
       "<tr><td>9.23071353754886</td></tr>\n",
       "<tr><td>9.256804850992536</td></tr>\n",
       "<tr><td>9.269172899241212</td></tr>\n",
       "<tr><td>9.274755532265516</td></tr>\n",
       "<tr><td>9.276010327140387</td></tr>\n",
       "<tr><td>9.276045682074024</td></tr>\n",
       "<tr><td>9.276079036981745</td></tr>\n",
       "<tr><td>9.276463939256283</td></tr>\n",
       "<tr><td>9.278107577299721</td></tr>\n",
       "<tr><td>9.286715035198455</td></tr>\n",
       "<tr><td>9.287532011359962</td></tr>\n",
       "</table>"
      ],
      "text/plain": [
       "<Column name='logg' dtype='float64' unit='' length=104>\n",
       "3.9914786178351043\n",
       " 4.041574446625068\n",
       " 4.141349459438172\n",
       " 4.161689268271874\n",
       " 4.198526978953342\n",
       "4.2027409328000385\n",
       " 4.209291133036126\n",
       "  4.24081679887441\n",
       " 4.338067498968938\n",
       "  4.34049508154165\n",
       " 4.345254419129256\n",
       " 4.371873938591249\n",
       "               ...\n",
       " 9.206099544769428\n",
       "  9.23071353754886\n",
       " 9.256804850992536\n",
       " 9.269172899241212\n",
       " 9.274755532265516\n",
       " 9.276010327140387\n",
       " 9.276045682074024\n",
       " 9.276079036981745\n",
       " 9.276463939256283\n",
       " 9.278107577299721\n",
       " 9.286715035198455\n",
       " 9.287532011359962"
      ]
     },
     "execution_count": 110,
     "metadata": {},
     "output_type": "execute_result"
    }
   ],
   "source": [
    "np.unique(bad_line['logg'])"
   ]
  },
  {
   "cell_type": "code",
   "execution_count": 111,
   "metadata": {},
   "outputs": [
    {
     "data": {
      "text/html": [
       "&lt;Column name=&apos;mass&apos; dtype=&apos;float64&apos; unit=&apos;solMass&apos; length=32&gt;\n",
       "<table>\n",
       "<tr><td>0.251189</td></tr>\n",
       "<tr><td>0.398107</td></tr>\n",
       "<tr><td>0.501187</td></tr>\n",
       "<tr><td>0.630957</td></tr>\n",
       "<tr><td>0.794328</td></tr>\n",
       "<tr><td>1.0</td></tr>\n",
       "<tr><td>1.25893</td></tr>\n",
       "<tr><td>1.4</td></tr>\n",
       "<tr><td>1.5</td></tr>\n",
       "<tr><td>1.6</td></tr>\n",
       "<tr><td>1.8</td></tr>\n",
       "<tr><td>1.9</td></tr>\n",
       "<tr><td>...</td></tr>\n",
       "<tr><td>3.2</td></tr>\n",
       "<tr><td>3.98107</td></tr>\n",
       "<tr><td>4.5</td></tr>\n",
       "<tr><td>5.0</td></tr>\n",
       "<tr><td>5.01187</td></tr>\n",
       "<tr><td>5.5</td></tr>\n",
       "<tr><td>6.0</td></tr>\n",
       "<tr><td>6.30957</td></tr>\n",
       "<tr><td>6.5</td></tr>\n",
       "<tr><td>7.0</td></tr>\n",
       "<tr><td>7.5</td></tr>\n",
       "<tr><td>7.94328</td></tr>\n",
       "</table>"
      ],
      "text/plain": [
       "<Column name='mass' dtype='float64' unit='solMass' length=32>\n",
       "0.251189\n",
       "0.398107\n",
       "0.501187\n",
       "0.630957\n",
       "0.794328\n",
       "     1.0\n",
       " 1.25893\n",
       "     1.4\n",
       "     1.5\n",
       "     1.6\n",
       "     1.8\n",
       "     1.9\n",
       "     ...\n",
       "     3.2\n",
       " 3.98107\n",
       "     4.5\n",
       "     5.0\n",
       " 5.01187\n",
       "     5.5\n",
       "     6.0\n",
       " 6.30957\n",
       "     6.5\n",
       "     7.0\n",
       "     7.5\n",
       " 7.94328"
      ]
     },
     "execution_count": 111,
     "metadata": {},
     "output_type": "execute_result"
    }
   ],
   "source": [
    "np.unique(bad_line['mass'])"
   ]
  },
  {
   "cell_type": "code",
   "execution_count": 112,
   "metadata": {},
   "outputs": [
    {
     "data": {
      "text/html": [
       "&lt;Column name=&apos;phase&apos; dtype=&apos;float64&apos; length=2&gt;\n",
       "<table>\n",
       "<tr><td>101.0</td></tr>\n",
       "<tr><td>110.0</td></tr>\n",
       "</table>"
      ],
      "text/plain": [
       "<Column name='phase' dtype='float64' length=2>\n",
       "101.0\n",
       "110.0"
      ]
     },
     "execution_count": 112,
     "metadata": {},
     "output_type": "execute_result"
    }
   ],
   "source": [
    "np.unique(bad_line['phase'])"
   ]
  },
  {
   "cell_type": "markdown",
   "metadata": {},
   "source": [
    "**It turns out that the line was caused by some compact remnants that were lingering around from the NEWSECMODS. In future versions of the stellar evolution model, I may obtain an additional program from the BPASS creators to match the types of compact remnants from the NEWSECMODS.**"
   ]
  },
  {
   "cell_type": "code",
   "execution_count": 113,
   "metadata": {},
   "outputs": [
    {
     "data": {
      "text/plain": [
       "<matplotlib.legend.Legend at 0x7fb7ecac49e8>"
      ]
     },
     "execution_count": 113,
     "metadata": {},
     "output_type": "execute_result"
    },
    {
     "data": {
      "image/png": "[encoded data removed]",
      "text/plain": [
       "<Figure size 432x288 with 1 Axes>"
      ]
     },
     "metadata": {
      "needs_background": "light"
     },
     "output_type": "display_data"
    }
   ],
   "source": [
    "# Plot the mass-luminosity relationship\n",
    "from astropy import constants as cs\n",
    "from astropy import units as u\n",
    "import numpy as np\n",
    "import matplotlib.pyplot as plt\n",
    "plt.plot((clus_1.star_systems['mass_current']), np.log10(clus_1.star_systems[\"L\"]), \"r.\", label=\"Binary_Cluster made from BPASS\", alpha =0.3)\n",
    "plt.plot((clus_1.companions['mass_current']), np.log10(clus_1.companions[\"L\"]), \"r.\", label=\"Binary_Cluster made from BPASS\", alpha = 0.3)\n",
    "plt.plot((clus_2.star_systems['mass_current']), np.log10(clus_2.star_systems[\"L\"]), \"b.\", label=\"Binary_Cluster made from Parsec\", alpha =0.1)\n",
    "plt.plot((clus_2.companions['mass_current']), np.log10(clus_2.companions[\"L\"]), \"b.\", label=\"Binary_Cluster made from Parsec\", alpha = 0.1)\n",
    "plt.xlabel(\"Current Mass in solar masses\")\n",
    "plt.ylabel(\"log(L in Watts)\")\n",
    "plt.title(\"Mass-logL of Cluster at 0.1Z_solar and 10**9.3 years age\")\n",
    "plt.legend()\n",
    "# Rough pattern seems to fit. What's that line?"
   ]
  },
  {
   "cell_type": "markdown",
   "metadata": {},
   "source": [
    "Where is that hook coming from?"
   ]
  },
  {
   "cell_type": "code",
   "execution_count": 114,
   "metadata": {},
   "outputs": [
    {
     "name": "stderr",
     "output_type": "stream",
     "text": [
      "/opt/anaconda3/envs/astroconda/lib/python3.7/site-packages/astropy/table/column.py:1020: RuntimeWarning: invalid value encountered in less_equal\n",
      "  result = getattr(super(), op)(other)\n"
     ]
    },
    {
     "data": {
      "text/html": [
       "&lt;Column name=&apos;phase&apos; dtype=&apos;float64&apos; length=2&gt;\n",
       "<table>\n",
       "<tr><td>101.0</td></tr>\n",
       "<tr><td>110.0</td></tr>\n",
       "</table>"
      ],
      "text/plain": [
       "<Column name='phase' dtype='float64' length=2>\n",
       "101.0\n",
       "110.0"
      ]
     },
     "execution_count": 114,
     "metadata": {},
     "output_type": "execute_result"
    }
   ],
   "source": [
    "np.unique(iso1.primaries[np.where(np.log10(iso1.primaries[\"L\"])<=25)]['phase'])"
   ]
  },
  {
   "cell_type": "code",
   "execution_count": 115,
   "metadata": {},
   "outputs": [
    {
     "data": {
      "text/plain": [
       "67"
      ]
     },
     "execution_count": 115,
     "metadata": {},
     "output_type": "execute_result"
    }
   ],
   "source": [
    "len(iso1.primaries[np.where((np.log10(iso1.primaries[\"L\"])<=25) & (iso1.primaries[\"phase\"]==110))])"
   ]
  },
  {
   "cell_type": "code",
   "execution_count": 116,
   "metadata": {},
   "outputs": [
    {
     "data": {
      "text/plain": [
       "426"
      ]
     },
     "execution_count": 116,
     "metadata": {},
     "output_type": "execute_result"
    }
   ],
   "source": [
    "len(iso1.primaries[np.where((np.log10(iso1.primaries[\"L\"])<=25) & (iso1.primaries[\"phase\"]==101))])"
   ]
  },
  {
   "cell_type": "markdown",
   "metadata": {},
   "source": [
    "OK. It makes sense that our compact remnants are causing this. (Remember, there really is no significant fusion in the insides of neutron stars or white dwarves."
   ]
  },
  {
   "cell_type": "code",
   "execution_count": 117,
   "metadata": {},
   "outputs": [
    {
     "data": {
      "text/plain": [
       "<matplotlib.legend.Legend at 0x7fb7ec1ccc88>"
      ]
     },
     "execution_count": 117,
     "metadata": {},
     "output_type": "execute_result"
    },
    {
     "data": {
      "image/png": "[encoded data removed]",
      "text/plain": [
       "<Figure size 432x288 with 1 Axes>"
      ]
     },
     "metadata": {
      "needs_background": "light"
     },
     "output_type": "display_data"
    }
   ],
   "source": [
    "# Plot the mass-luminosity relationship\n",
    "from astropy import constants as cs\n",
    "from astropy import units as u\n",
    "import matplotlib.pyplot as plt\n",
    "plt.plot(clus_1.star_systems['mass_current'], np.log10(clus_1.star_systems[\"L\"]), \"r.\", label=\"Binary_Cluster made from BPASS (Star Systems)\", alpha =1)\n",
    "plt.xlabel(\"log Current Mass in solar masses\")\n",
    "plt.ylabel(\"log(L/L_solar)\")\n",
    "plt.title(\"log-Mass-logL of Cluster at 0.1Z_solar and 10**9.3 years age\")\n",
    "plt.legend()\n",
    "# Rough pattern seems to fit. What's that line?"
   ]
  },
  {
   "cell_type": "code",
   "execution_count": 118,
   "metadata": {},
   "outputs": [
    {
     "data": {
      "text/plain": [
       "<matplotlib.legend.Legend at 0x7fb7e917d7b8>"
      ]
     },
     "execution_count": 118,
     "metadata": {},
     "output_type": "execute_result"
    },
    {
     "data": {
      "image/png": "[encoded data removed]",
      "text/plain": [
       "<Figure size 432x288 with 1 Axes>"
      ]
     },
     "metadata": {
      "needs_background": "light"
     },
     "output_type": "display_data"
    }
   ],
   "source": [
    "# Plot the mass-luminosity relationship\n",
    "from astropy import constants as cs\n",
    "from astropy import units as u\n",
    "import matplotlib.pyplot as plt\n",
    "plt.plot(clus_1.companions['mass_current'], np.log10(clus_1.companions[\"L\"]), \"r.\", label=\"Binary_Cluster made from BPASS (Companions)\", alpha =1)\n",
    "plt.xlabel(\"log Current Mass in solar masses\")\n",
    "plt.ylabel(\"log(L/L_solar)\")\n",
    "plt.title(\"log-Mass-logL of Cluster at 0.1Z_solar and 10**9.3 years age\")\n",
    "plt.legend()\n",
    "# Rough pattern seems to fit. What's that line?"
   ]
  },
  {
   "cell_type": "markdown",
   "metadata": {},
   "source": [
    "Now go back to the shape of the clusters' Color magnitude diagrams."
   ]
  },
  {
   "cell_type": "code",
   "execution_count": 119,
   "metadata": {},
   "outputs": [
    {
     "data": {
      "text/html": [
       "&lt;Column name=&apos;log_a&apos; dtype=&apos;float64&apos; length=197&gt;\n",
       "<table>\n",
       "<tr><td>-1.5912680398181114</td></tr>\n",
       "<tr><td>-1.469802251929175</td></tr>\n",
       "<tr><td>-1.4408145428146852</td></tr>\n",
       "<tr><td>-1.346900915923048</td></tr>\n",
       "<tr><td>-1.3142122512137657</td></tr>\n",
       "<tr><td>-1.2845158333594613</td></tr>\n",
       "<tr><td>-1.2487312522157477</td></tr>\n",
       "<tr><td>-1.2139195054063014</td></tr>\n",
       "<tr><td>-1.1985995461569245</td></tr>\n",
       "<tr><td>-1.1238604385081572</td></tr>\n",
       "<tr><td>-1.103311288403552</td></tr>\n",
       "<tr><td>-1.094565961474225</td></tr>\n",
       "<tr><td>...</td></tr>\n",
       "<tr><td>3.0656447463153995</td></tr>\n",
       "<tr><td>3.2431457630114506</td></tr>\n",
       "<tr><td>nan</td></tr>\n",
       "<tr><td>nan</td></tr>\n",
       "<tr><td>nan</td></tr>\n",
       "<tr><td>nan</td></tr>\n",
       "<tr><td>nan</td></tr>\n",
       "<tr><td>nan</td></tr>\n",
       "<tr><td>nan</td></tr>\n",
       "<tr><td>nan</td></tr>\n",
       "<tr><td>nan</td></tr>\n",
       "<tr><td>nan</td></tr>\n",
       "</table>"
      ],
      "text/plain": [
       "<Column name='log_a' dtype='float64' length=197>\n",
       "-1.5912680398181114\n",
       " -1.469802251929175\n",
       "-1.4408145428146852\n",
       " -1.346900915923048\n",
       "-1.3142122512137657\n",
       "-1.2845158333594613\n",
       "-1.2487312522157477\n",
       "-1.2139195054063014\n",
       "-1.1985995461569245\n",
       "-1.1238604385081572\n",
       " -1.103311288403552\n",
       " -1.094565961474225\n",
       "                ...\n",
       " 3.0656447463153995\n",
       " 3.2431457630114506\n",
       "                nan\n",
       "                nan\n",
       "                nan\n",
       "                nan\n",
       "                nan\n",
       "                nan\n",
       "                nan\n",
       "                nan\n",
       "                nan\n",
       "                nan"
      ]
     },
     "execution_count": 119,
     "metadata": {},
     "output_type": "execute_result"
    }
   ],
   "source": [
    "np.unique(clus_1.companions['log_a'])"
   ]
  },
  {
   "cell_type": "code",
   "execution_count": 120,
   "metadata": {},
   "outputs": [
    {
     "data": {
      "text/plain": [
       "<matplotlib.legend.Legend at 0x7fb81d12ef98>"
      ]
     },
     "execution_count": 120,
     "metadata": {},
     "output_type": "execute_result"
    },
    {
     "data": {
      "image/png": "[encoded data removed]",
      "text/plain": [
       "<Figure size 432x288 with 1 Axes>"
      ]
     },
     "metadata": {
      "needs_background": "light"
     },
     "output_type": "display_data"
    }
   ],
   "source": [
    "# Taking a look at the Binary Cluster vs Default Settings cluster Observer's HR Diagram\n",
    "# Remember to use a distance modulus!\n",
    "import matplotlib.pyplot as plt\n",
    "plt.plot(clus_1.star_systems['m_ubv_B']-clus_1.star_systems[\"m_ubv_V\"], clus_1.star_systems[\"m_ubv_V\"]-5*np.log10(100), \"r.\",label=\"BPASS\", alpha =0.3)\n",
    "plt.plot(clus_2.star_systems['m_ubv_B']-clus_2.star_systems[\"m_ubv_V\"], clus_2.star_systems[\"m_ubv_V\"]-5*np.log10(100), \"b+\", label=\"Parsec\", alpha=0.1)\n",
    "plt.xlabel(\"B-V\")\n",
    "plt.ylabel(\"M_V\")\n",
    "plt.title(\"Color magnitude Diagram of clusters at 0.1Z_solar and 10**9.3 years age\")\n",
    "plt.gca().invert_yaxis()\n",
    "plt.legend()"
   ]
  },
  {
   "cell_type": "code",
   "execution_count": 121,
   "metadata": {},
   "outputs": [
    {
     "data": {
      "text/html": [
       "<i>Table length=0</i>\n",
       "<table id=\"table140428175161104\" class=\"table-striped table-bordered table-condensed\">\n",
       "<thead><tr><th>mass</th><th>systemMass</th><th>Teff</th><th>L</th><th>logg</th><th>isWR</th><th>mass_current</th><th>phase</th><th>metallicity</th><th>isMultiple</th><th>merged</th><th>m_ubv_U</th><th>m_ubv_V</th><th>m_ubv_B</th><th>m_ubv_R</th><th>m_ubv_I</th></tr></thead>\n",
       "<thead><tr><th>solMass</th><th></th><th>K</th><th>W</th><th></th><th></th><th>solMass</th><th></th><th></th><th></th><th></th><th></th><th></th><th></th><th></th><th></th></tr></thead>\n",
       "<thead><tr><th>float64</th><th>float64</th><th>float64</th><th>float64</th><th>float64</th><th>bool</th><th>float64</th><th>float64</th><th>float64</th><th>bool</th><th>bool</th><th>float64</th><th>float64</th><th>float64</th><th>float64</th><th>float64</th></tr></thead>\n",
       "</table>"
      ],
      "text/plain": [
       "<Table length=0>\n",
       "  mass  systemMass   Teff     L      logg  ... m_ubv_V m_ubv_B m_ubv_R m_ubv_I\n",
       "solMass               K       W            ...                                \n",
       "float64  float64   float64 float64 float64 ... float64 float64 float64 float64\n",
       "------- ---------- ------- ------- ------- ... ------- ------- ------- -------"
      ]
     },
     "execution_count": 121,
     "metadata": {},
     "output_type": "execute_result"
    }
   ],
   "source": [
    "clus_1.star_systems[np.where(clus_1.star_systems[\"m_ubv_V\"]==0)]"
   ]
  },
  {
   "cell_type": "code",
   "execution_count": 122,
   "metadata": {},
   "outputs": [
    {
     "data": {
      "text/plain": [
       "<matplotlib.legend.Legend at 0x7fb7fb790d68>"
      ]
     },
     "execution_count": 122,
     "metadata": {},
     "output_type": "execute_result"
    },
    {
     "data": {
      "image/png": "[encoded data removed]",
      "text/plain": [
       "<Figure size 432x288 with 1 Axes>"
      ]
     },
     "metadata": {
      "needs_background": "light"
     },
     "output_type": "display_data"
    }
   ],
   "source": [
    "import matplotlib.pyplot as plt\n",
    "plt.plot(np.log10(clus_1.companions['Teff']), np.log10(clus_1.companions[\"L\"]), \"r.\",label=\"BPASS isochrone\", alpha=0.5)\n",
    "plt.plot(np.log10(clus_2.companions['Teff']), np.log10(clus_2.companions[\"L\"]), \"b+\", alpha=0.15)\n",
    "plt.plot(np.log10(clus_1.star_systems['Teff']), np.log10(clus_1.star_systems[\"L\"]), \"r.\",label=\"BPASS isochrone\", alpha=0.5)\n",
    "plt.plot(np.log10(clus_2.star_systems['Teff']), np.log10(clus_2.star_systems[\"L\"]), \"b+\", label=\"Parsec\", alpha=0.15)\n",
    "plt.xlabel(\"log(T in kelvin)\")\n",
    "plt.ylabel(\"log(L in watts)\")\n",
    "plt.title(\"HR Diagram of clusters at 0.1Z_solar and 10**9.3 years age\")\n",
    "plt.gca().invert_xaxis()\n",
    "plt.legend()"
   ]
  },
  {
   "cell_type": "markdown",
   "metadata": {},
   "source": [
    "If I look at the HR Diagram, I do see deviation with respects to the Parsec line for some of the brighter stars, but I see an overall good trend with the main-sequence turnoff. Also, I see the compact remnants where they should be given my setup."
   ]
  },
  {
   "cell_type": "markdown",
   "metadata": {},
   "source": [
    "Looking at which stars are the white dwarves?"
   ]
  },
  {
   "cell_type": "code",
   "execution_count": 123,
   "metadata": {},
   "outputs": [
    {
     "data": {
      "text/plain": [
       "array([   1,    3,    4,    6,   10,   11,   12,   13,   16,   17,   18,\n",
       "         19,   20,   22,   23,   24,   27,   29,   30,   31,   33,   36,\n",
       "         37,   40,   45,   46,   47,   49,   51,   52,   54,   59,   60,\n",
       "         62,   66,   67,   71,   73,   74,   76,   82,   84,   85,   86,\n",
       "         89,   90,   91,   94,   95,   97,   98,  105,  109,  111,  112,\n",
       "        114,  116,  117,  118,  119,  120,  121,  123,  127,  128,  129,\n",
       "        130,  131,  132,  136,  137,  138,  139,  140,  142,  143,  148,\n",
       "        151,  152,  157,  168,  169,  172,  180,  181,  203,  228,  236,\n",
       "        237,  249,  261,  271,  287,  290,  294,  295,  302,  313,  342,\n",
       "        345,  356,  357,  362,  381,  387,  389,  396,  397,  404,  414,\n",
       "        433,  441,  458,  465,  483,  485,  504,  510,  518,  519,  522,\n",
       "        525,  532,  538,  552,  553,  556,  566,  567,  575,  578,  590,\n",
       "        608,  615,  618,  631,  644,  655,  664,  677,  684,  685,  703,\n",
       "        704,  708,  712,  725,  741,  744,  765,  777,  788,  801,  810,\n",
       "        816,  817,  833,  835,  837,  838,  841,  843,  864,  869,  879,\n",
       "        882,  889,  894,  898,  903,  905,  906,  910,  912,  913,  922,\n",
       "        929,  940,  949,  952,  953,  954,  960,  961,  982, 1005, 1019,\n",
       "       1023, 1036, 1043, 1045, 1047, 1049, 1053, 1078, 1088, 1100, 1105,\n",
       "       1106, 1112, 1119, 1126, 1128, 1135, 1141])"
      ]
     },
     "execution_count": 123,
     "metadata": {},
     "output_type": "execute_result"
    }
   ],
   "source": [
    "import numpy as np\n",
    "np.where(clus_1.star_systems['phase']==101.0)[0]"
   ]
  },
  {
   "cell_type": "markdown",
   "metadata": {},
   "source": [
    "Black Holes?"
   ]
  },
  {
   "cell_type": "code",
   "execution_count": 124,
   "metadata": {},
   "outputs": [
    {
     "data": {
      "text/plain": [
       "array([], dtype=int64)"
      ]
     },
     "execution_count": 124,
     "metadata": {},
     "output_type": "execute_result"
    }
   ],
   "source": [
    "np.where(clus_1.star_systems['phase']==103.0)[0]"
   ]
  },
  {
   "cell_type": "code",
   "execution_count": 125,
   "metadata": {},
   "outputs": [
    {
     "data": {
      "text/plain": [
       "array([], dtype=int64)"
      ]
     },
     "execution_count": 125,
     "metadata": {},
     "output_type": "execute_result"
    }
   ],
   "source": [
    "np.where(clus_1.star_systems['phase']==102.0)[0]"
   ]
  },
  {
   "cell_type": "code",
   "execution_count": 126,
   "metadata": {},
   "outputs": [
    {
     "data": {
      "text/plain": [
       "1352.656559732853"
      ]
     },
     "execution_count": 126,
     "metadata": {},
     "output_type": "execute_result"
    }
   ],
   "source": [
    "clus_1.star_systems['systemMass'].sum()"
   ]
  }
 ],
 "metadata": {
  "kernelspec": {
   "display_name": "astroconda",
   "language": "python",
   "name": "astroconda"
  },
  "language_info": {
   "codemirror_mode": {
    "name": "ipython",
    "version": 3
   },
   "file_extension": ".py",
   "mimetype": "text/x-python",
   "name": "python",
   "nbconvert_exporter": "python",
   "pygments_lexer": "ipython3",
   "version": "3.7.3"
  }
 },
 "nbformat": 4,
 "nbformat_minor": 2
}
