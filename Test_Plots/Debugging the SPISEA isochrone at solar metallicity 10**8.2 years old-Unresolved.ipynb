{
 "cells": [
  {
   "cell_type": "markdown",
   "metadata": {},
   "source": [
    "## Testing the BPASS isochrone at 10^8.2 years age. (Unresolved Multiplicity)\n",
    "In this BPASS isochrone and cluster plot, I go over the BPASS isochrone for 1 billion years age, solar metallicity, AKs=0.5, and distance of 2000 parsecs from Earth. From the isochrone and cluster, we discuss several plots such as the log_g frequency distribution of the isochrone, the color magnitude diagram (B-V vs pseudo-M_V), and the mass luminosity relationshi of the cluster. **Note that I say pseudo-M_V as it is the absoulte magnitude but NOT accounting for extinction**\n",
    "\n",
    "Formula for pseudo M_V\n",
    "pseudo-M_V = V - $log_{10}$(distance to cluster/(10 pc))\n",
    "\n",
    "Other notes:\n",
    "\n",
    "I have chosen dist to cluster = 2000 pc to further distinguish this notebook from the other 10^8.2 year old isochrone Notebook.\n",
    "**As the title indicates, I have decided to use unresolved multiplicity in my BPASS and MISTv.1 clusters.**"
   ]
  },
  {
   "cell_type": "code",
   "execution_count": 1,
   "metadata": {},
   "outputs": [
    {
     "name": "stderr",
     "output_type": "stream",
     "text": [
      "/opt/anaconda3/envs/astroconda/lib/python3.7/site-packages/pysynphot/locations.py:346: UserWarning: Extinction files not found in /g/lu/models/cdbs/extinction\n",
      "  warnings.warn('Extinction files not found in %s' % (extdir, ))\n",
      "/opt/anaconda3/envs/astroconda/lib/python3.7/site-packages/pysynphot/refs.py:125: UserWarning: No thermal tables found, no thermal calculations can be performed. No files found for /g/lu/models/cdbs/mtab/*_tmt.fits\n",
      "  'no thermal calculations can be performed. ' + str(e))\n",
      "/opt/anaconda3/envs/astroconda/lib/python3.7/site-packages/astropy/units/quantity.py:477: RuntimeWarning: invalid value encountered in true_divide\n",
      "  result = super().__array_ufunc__(function, method, *arrays, **kwargs)\n",
      "/u/ryotainagaki/Desktop/PyPopStar/spisea/evolution.py:1771: RuntimeWarning: overflow encountered in power\n",
      "  (1 / cs.au) * un.m)\n",
      "/opt/anaconda3/envs/astroconda/lib/python3.7/site-packages/astropy/table/column.py:1020: RuntimeWarning: invalid value encountered in greater\n",
      "  result = getattr(super(), op)(other)\n",
      "/opt/anaconda3/envs/astroconda/lib/python3.7/site-packages/astropy/table/column.py:1020: RuntimeWarning: invalid value encountered in less_equal\n",
      "  result = getattr(super(), op)(other)\n",
      "/opt/anaconda3/envs/astroconda/lib/python3.7/site-packages/astropy/units/quantity.py:477: RuntimeWarning: divide by zero encountered in true_divide\n",
      "  result = super().__array_ufunc__(function, method, *arrays, **kwargs)\n"
     ]
    },
    {
     "name": "stdout",
     "output_type": "stream",
     "text": [
      "Changing to logg=5.00 for T= 36146 logg=8.54\n",
      "Changing to logg=5.00 for T= 44758 logg=8.49\n",
      "Changing to logg=5.00 for T= 38361 logg=8.50\n",
      "Changing to logg=5.00 for T= 38774 logg=8.52\n",
      "Changing to T= 50000 for T= 52330 logg=8.47\n",
      "Changing to logg=5.00 for T= 52330 logg=8.47\n",
      "Changing to T= 50000 for T= 73161 logg=8.45\n",
      "Changing to logg=5.00 for T= 73161 logg=8.45\n",
      "Changing to logg=5.00 for T= 37422 logg=5.67\n",
      "Changing to logg=5.00 for T= 38868 logg=5.45\n",
      "Changing to logg=5.00 for T= 42300 logg=8.53\n",
      "Changing to logg=5.00 for T= 32931 logg=5.73\n",
      "Changing to logg=5.00 for T= 38886 logg=5.50\n",
      "Changing to logg=5.00 for T= 37474 logg=5.67\n",
      "Changing to logg=5.00 for T= 38750 logg=8.52\n",
      "Changing to logg=5.00 for T= 38747 logg=5.38\n",
      "Changing to logg=5.00 for T= 38901 logg=5.40\n",
      "Changing to logg=5.00 for T= 33657 logg=5.67\n",
      "Changing to logg=5.00 for T= 42302 logg=8.53\n",
      "Changing to logg=5.00 for T= 38797 logg=5.34\n",
      "Changing to logg=5.00 for T= 38750 logg=8.52\n",
      "Changing to logg=5.00 for T= 38499 logg=5.32\n",
      "Changing to logg=5.00 for T= 38750 logg=8.52\n",
      "Changing to logg=5.00 for T= 38750 logg=8.52\n",
      "Changing to logg=5.00 for T= 39121 logg=5.40\n",
      "Changing to logg=5.00 for T= 38750 logg=8.52\n",
      "Changing to logg=5.00 for T= 37950 logg=5.39\n",
      "Changing to logg=5.00 for T= 38750 logg=8.52\n",
      "Changing to logg=5.00 for T= 38750 logg=8.52\n",
      "Changing to logg=5.00 for T= 38913 logg=5.59\n",
      "Changing to logg=5.00 for T= 38750 logg=8.52\n",
      "Changing to logg=5.00 for T= 38268 logg=5.57\n",
      "Changing to logg=5.00 for T= 38751 logg=8.52\n",
      "Changing to logg=5.00 for T= 42300 logg=8.53\n",
      "Changing to logg=5.00 for T= 38543 logg=5.67\n",
      "Changing to logg=5.00 for T= 40930 logg=5.50\n",
      "Changing to logg=5.00 for T= 37820 logg=5.74\n",
      "Changing to logg=5.00 for T= 38924 logg=5.38\n",
      "Changing to logg=5.00 for T= 35929 logg=8.18\n",
      "Changing to logg=5.00 for T= 38810 logg=5.36\n",
      "Changing to logg=5.00 for T= 38750 logg=8.52\n",
      "Changing to logg=5.00 for T= 35776 logg=8.52\n",
      "Changing to logg=5.00 for T= 45668 logg=8.52\n",
      "Changing to logg=5.00 for T= 38778 logg=5.38\n",
      "Changing to logg=5.00 for T= 38750 logg=8.52\n",
      "Changing to logg=5.00 for T= 35701 logg=8.52\n",
      "Changing to logg=5.00 for T= 38750 logg=8.52\n",
      "Changing to logg=5.00 for T= 38750 logg=8.52\n",
      "Changing to logg=5.00 for T= 38216 logg=5.28\n",
      "Changing to logg=5.00 for T= 35722 logg=8.52\n",
      "Changing to logg=5.00 for T= 35701 logg=8.52\n",
      "Changing to logg=5.00 for T= 37547 logg=5.70\n",
      "Changing to logg=5.00 for T= 38750 logg=8.52\n",
      "Changing to logg=5.00 for T= 42302 logg=8.53\n",
      "Changing to logg=5.00 for T= 39010 logg=5.57\n",
      "Changing to logg=5.00 for T= 31378 logg=8.25\n",
      "Changing to logg=5.00 for T= 40751 logg=8.18\n",
      "Changing to logg=5.00 for T= 43455 logg=8.58\n",
      "Changing to logg=5.00 for T= 47516 logg=9.02\n",
      "Changing to logg=5.00 for T= 35714 logg=8.52\n",
      "Changing to logg=5.00 for T= 39081 logg=5.47\n",
      "Changing to logg=5.00 for T= 35706 logg=8.52\n",
      "Changing to logg=5.00 for T= 45669 logg=8.52\n",
      "Changing to logg=5.00 for T= 43455 logg=8.58\n",
      "Changing to logg=5.00 for T= 45668 logg=8.52\n",
      "Changing to logg=5.00 for T= 38863 logg=5.61\n",
      "Changing to logg=5.00 for T= 38750 logg=8.52\n",
      "Changing to logg=5.00 for T= 38530 logg=5.55\n",
      "Changing to logg=5.00 for T= 45668 logg=8.52\n",
      "Changing to logg=5.00 for T= 33157 logg=5.77\n",
      "Changing to logg=5.00 for T= 42302 logg=8.53\n",
      "Changing to logg=5.00 for T= 37225 logg=5.46\n",
      "Changing to logg=5.00 for T= 38751 logg=8.52\n",
      "Changing to logg=5.00 for T= 39097 logg=5.40\n",
      "Changing to logg=5.00 for T= 41390 logg=5.50\n",
      "Changing to logg=5.00 for T= 39333 logg=5.52\n",
      "Changing to logg=5.00 for T= 39136 logg=5.47\n",
      "Changing to logg=5.00 for T= 35710 logg=8.52\n",
      "Changing to logg=5.00 for T= 42302 logg=8.53\n",
      "Changing to logg=5.00 for T= 38750 logg=8.52\n",
      "Changing to logg=5.00 for T= 37640 logg=8.47\n",
      "Changing to logg=5.00 for T= 37968 logg=5.42\n",
      "Changing to T= 50000 for T= 52469 logg=8.18\n",
      "Changing to logg=5.00 for T= 52469 logg=8.18\n",
      "Changing to T= 50000 for T= 55186 logg=8.12\n",
      "Changing to logg=5.00 for T= 55186 logg=8.12\n",
      "Changing to logg=5.00 for T= 38164 logg=5.31\n",
      "Changing to logg=5.00 for T= 42302 logg=8.53\n",
      "Changing to logg=5.00 for T= 42302 logg=8.53\n",
      "Changing to logg=5.00 for T= 38750 logg=8.52\n",
      "Changing to logg=5.00 for T= 45668 logg=8.52\n",
      "Changing to logg=5.00 for T= 35706 logg=5.17\n",
      "Changing to logg=5.00 for T= 45954 logg=8.68\n",
      "Changing to logg=5.00 for T= 45668 logg=8.52\n",
      "Changing to logg=5.00 for T= 39059 logg=5.38\n",
      "Changing to logg=5.00 for T= 45669 logg=8.52\n",
      "Changing to logg=5.00 for T= 35722 logg=8.52\n",
      "Changing to logg=5.00 for T= 35709 logg=8.52\n",
      "Changing to logg=5.00 for T= 38750 logg=8.52\n",
      "Changing to logg=5.00 for T= 38796 logg=5.38\n",
      "Changing to logg=5.00 for T= 42300 logg=8.53\n",
      "Changing to logg=5.00 for T= 38750 logg=8.52\n",
      "Changing to logg=5.00 for T= 38866 logg=5.46\n",
      "Changing to logg=5.00 for T= 38750 logg=8.52\n",
      "Changing to logg=5.00 for T= 34722 logg=5.55\n",
      "Changing to logg=5.00 for T= 38750 logg=8.52\n",
      "Changing to logg=5.00 for T= 45668 logg=8.52\n",
      "Changing to logg=5.00 for T= 40327 logg=8.45\n",
      "Changing to logg=5.00 for T= 38681 logg=5.49\n",
      "Changing to logg=5.00 for T= 39042 logg=5.41\n",
      "Changing to logg=5.00 for T= 39098 logg=5.41\n",
      "Changing to logg=5.00 for T= 39074 logg=5.38\n",
      "Changing to logg=5.00 for T= 35649 logg=8.52\n",
      "Changing to logg=5.00 for T= 38008 logg=5.41\n",
      "Changing to logg=5.00 for T= 32888 logg=5.68\n",
      "Changing to logg=5.00 for T= 35709 logg=8.52\n",
      "Changing to logg=5.00 for T= 45668 logg=8.52\n",
      "Changing to logg=5.00 for T= 45668 logg=8.52\n",
      "Changing to logg=4.50 for T= 39634 logg=4.15\n",
      "Changing to logg=5.00 for T= 38750 logg=8.52\n",
      "Changing to logg=5.00 for T= 38750 logg=8.52\n",
      "Changing to logg=5.00 for T= 38750 logg=8.52\n",
      "Changing to logg=5.00 for T= 39842 logg=5.51\n",
      "Changing to logg=5.00 for T= 33652 logg=5.61\n",
      "Changing to logg=5.00 for T= 45668 logg=8.52\n",
      "Changing to logg=5.00 for T= 35665 logg=8.52\n",
      "Changing to logg=5.00 for T= 38750 logg=8.52\n",
      "Changing to logg=5.00 for T= 39105 logg=5.40\n",
      "Changing to logg=5.00 for T= 45668 logg=8.52\n",
      "Changing to logg=5.00 for T= 38912 logg=5.40\n",
      "Changing to logg=5.00 for T= 39090 logg=5.47\n",
      "Changing to logg=5.00 for T= 41051 logg=8.91\n",
      "Changing to logg=5.00 for T= 38945 logg=5.49\n",
      "Changing to logg=5.00 for T= 37966 logg=5.70\n",
      "Changing to logg=5.00 for T= 45668 logg=8.52\n",
      "Changing to logg=5.00 for T= 45669 logg=8.52\n",
      "Changing to logg=5.00 for T= 38938 logg=5.41\n",
      "Changing to logg=5.00 for T= 34986 logg=5.58\n",
      "Changing to logg=5.00 for T= 45739 logg=8.21\n",
      "Changing to logg=5.00 for T= 37796 logg=5.52\n",
      "Changing to logg=5.00 for T= 38750 logg=8.52\n",
      "Changing to logg=5.00 for T= 42302 logg=8.53\n",
      "Changing to logg=5.00 for T= 38942 logg=5.43\n",
      "Changing to logg=5.00 for T= 39156 logg=5.49\n",
      "Changing to logg=5.00 for T= 39001 logg=5.46\n",
      "Changing to logg=5.00 for T= 39027 logg=5.57\n",
      "Changing to logg=5.00 for T= 37638 logg=5.66\n",
      "Changing to logg=5.00 for T= 42302 logg=8.53\n",
      "Changing to logg=5.00 for T= 38750 logg=8.52\n",
      "Changing to logg=5.00 for T= 39110 logg=5.45\n",
      "Changing to logg=5.00 for T= 38030 logg=5.41\n",
      "Changing to logg=5.00 for T= 38864 logg=5.34\n",
      "Changing to logg=5.00 for T= 45669 logg=8.52\n",
      "Changing to logg=5.00 for T= 38750 logg=8.52\n",
      "Changing to logg=5.00 for T= 45669 logg=8.52\n",
      "Changing to logg=5.00 for T= 35519 logg=8.51\n",
      "Changing to logg=5.00 for T= 42302 logg=8.53\n",
      "Changing to logg=5.00 for T= 38750 logg=8.52\n",
      "Changing to logg=5.00 for T= 42302 logg=8.53\n",
      "Changing to logg=5.00 for T= 42302 logg=8.53\n",
      "Changing to logg=5.00 for T= 38968 logg=5.47\n",
      "Changing to logg=5.00 for T= 37645 logg=8.47\n",
      "Changing to logg=5.00 for T= 43455 logg=8.58\n",
      "Changing to logg=5.00 for T= 34757 logg=5.54\n",
      "Changing to logg=5.00 for T= 39086 logg=5.37\n",
      "Changing to logg=5.00 for T= 38750 logg=8.52\n",
      "Changing to logg=5.00 for T= 38062 logg=5.44\n",
      "Changing to logg=5.00 for T= 35714 logg=8.52\n",
      "Changing to logg=5.00 for T= 42300 logg=8.53\n",
      "Changing to logg=5.00 for T= 33207 logg=5.01\n",
      "Changing to logg=5.00 for T= 38750 logg=8.52\n",
      "Changing to logg=5.00 for T= 35710 logg=8.52\n",
      "Changing to logg=5.00 for T= 38820 logg=5.38\n",
      "Changing to logg=5.00 for T= 37690 logg=5.71\n",
      "Changing to logg=5.00 for T= 35392 logg=8.22\n",
      "Changing to logg=5.00 for T= 39474 logg=5.51\n",
      "Changing to logg=5.00 for T= 39018 logg=5.53\n",
      "Changing to logg=5.00 for T= 35715 logg=8.52\n",
      "Changing to logg=5.00 for T= 35040 logg=8.49\n",
      "Changing to logg=5.00 for T= 38750 logg=8.52\n",
      "Changing to logg=5.00 for T= 42302 logg=8.53\n",
      "Changing to logg=5.00 for T= 35715 logg=8.52\n",
      "Changing to logg=5.00 for T= 45668 logg=8.52\n",
      "Changing to logg=5.00 for T= 34980 logg=5.56\n",
      "Changing to logg=5.00 for T= 38750 logg=8.52\n"
     ]
    },
    {
     "name": "stdout",
     "output_type": "stream",
     "text": [
      "Changing to logg=5.00 for T= 38750 logg=8.52\n",
      "Changing to logg=5.00 for T= 38750 logg=8.52\n",
      "Changing to logg=5.00 for T= 38205 logg=5.40\n",
      "Changing to logg=5.00 for T= 37138 logg=5.69\n",
      "Changing to logg=5.00 for T= 34191 logg=8.16\n",
      "Changing to logg=5.00 for T= 42302 logg=8.53\n",
      "Changing to logg=5.00 for T= 45668 logg=8.52\n",
      "Changing to logg=5.00 for T= 38750 logg=8.52\n",
      "Changing to logg=5.00 for T= 45668 logg=8.52\n",
      "Changing to logg=5.00 for T= 45668 logg=8.52\n",
      "Changing to logg=5.00 for T= 43455 logg=8.58\n",
      "Changing to logg=5.00 for T= 40536 logg=5.52\n",
      "Changing to logg=5.00 for T= 43455 logg=8.58\n",
      "Changing to logg=5.00 for T= 34428 logg=5.62\n",
      "Changing to logg=5.00 for T= 38750 logg=8.52\n",
      "Changing to logg=5.00 for T= 35708 logg=8.52\n",
      "Changing to logg=5.00 for T= 35759 logg=5.48\n",
      "Changing to logg=5.00 for T= 38750 logg=8.52\n",
      "Changing to logg=5.00 for T= 42300 logg=8.53\n",
      "Changing to logg=5.00 for T= 42302 logg=8.53\n",
      "Changing to logg=5.00 for T= 39126 logg=5.42\n",
      "Changing to logg=5.00 for T= 38750 logg=8.52\n",
      "Changing to logg=5.00 for T= 38750 logg=8.52\n",
      "Changing to logg=5.00 for T= 39036 logg=5.38\n",
      "Changing to logg=5.00 for T= 47227 logg=8.14\n",
      "Changing to logg=5.00 for T= 38750 logg=8.52\n",
      "Changing to logg=5.00 for T= 38974 logg=5.38\n",
      "Changing to logg=5.00 for T= 38750 logg=8.52\n",
      "Changing to logg=5.00 for T= 38750 logg=8.52\n",
      "Changing to logg=5.00 for T= 38750 logg=8.52\n",
      "Changing to logg=5.00 for T= 38750 logg=8.52\n",
      "Changing to logg=5.00 for T= 45668 logg=8.52\n",
      "Changing to logg=5.00 for T= 38030 logg=5.34\n",
      "Changing to logg=5.00 for T= 42302 logg=8.53\n",
      "Changing to logg=5.00 for T= 38260 logg=5.41\n",
      "Changing to logg=5.00 for T= 42302 logg=8.53\n",
      "Changing to logg=5.00 for T= 38750 logg=8.52\n",
      "Changing to logg=5.00 for T= 34113 logg=5.11\n",
      "Changing to logg=5.00 for T= 35040 logg=8.49\n",
      "Changing to logg=5.00 for T= 35041 logg=8.49\n",
      "Changing to logg=5.00 for T= 39296 logg=5.53\n",
      "Changing to logg=5.00 for T= 38042 logg=5.48\n",
      "Changing to logg=5.00 for T= 35040 logg=8.49\n",
      "Changing to logg=5.00 for T= 37889 logg=5.54\n",
      "Changing to logg=5.00 for T= 35040 logg=8.49\n",
      "Changing to logg=5.00 for T= 35040 logg=8.49\n",
      "Changing to logg=5.00 for T= 27868 logg=6.18\n",
      "Changing to logg=0.00 for T=  3317 logg=-0.19\n",
      "Changing to logg=5.00 for T= 37969 logg=5.40\n",
      "Changing to logg=5.00 for T= 35040 logg=8.49\n",
      "Changing to logg=5.00 for T= 39033 logg=5.45\n",
      "Changing to logg=5.00 for T= 35040 logg=8.49\n",
      "Changing to logg=5.00 for T= 33848 logg=5.68\n",
      "Changing to logg=5.00 for T= 35044 logg=8.49\n",
      "Changing to logg=5.00 for T= 34437 logg=5.46\n",
      "Changing to logg=5.00 for T= 44961 logg=8.20\n",
      "Changing to logg=5.00 for T= 35040 logg=8.49\n",
      "Changing to logg=5.00 for T= 39015 logg=5.63\n",
      "Changing to logg=5.00 for T= 35046 logg=8.49\n",
      "Changing to logg=5.00 for T= 42994 logg=5.57\n",
      "Changing to logg=5.00 for T= 39098 logg=5.57\n",
      "Changing to logg=5.00 for T= 35040 logg=8.49\n",
      "Changing to logg=5.00 for T= 35040 logg=8.49\n",
      "Changing to logg=5.00 for T= 38377 logg=5.39\n",
      "Changing to logg=5.00 for T= 39162 logg=5.48\n",
      "Changing to logg=5.00 for T= 39260 logg=5.51\n",
      "Changing to logg=5.00 for T= 35123 logg=8.49\n",
      "Changing to T= 50000 for T= 53154 logg=8.20\n",
      "Changing to logg=5.00 for T= 53154 logg=8.20\n",
      "Changing to logg=5.00 for T= 35040 logg=8.49\n",
      "Changing to logg=5.00 for T= 35040 logg=8.49\n",
      "Changing to logg=5.00 for T= 42289 logg=5.55\n",
      "Changing to T= 50000 for T= 91531 logg=8.30\n",
      "Changing to logg=5.00 for T= 91531 logg=8.30\n",
      "Changing to logg=5.00 for T= 35040 logg=8.49\n",
      "Changing to logg=5.00 for T= 35040 logg=8.49\n",
      "Changing to logg=5.00 for T= 35040 logg=8.49\n",
      "Changing to logg=5.00 for T= 34450 logg=5.60\n",
      "Changing to T= 50000 for T= 52576 logg=8.18\n",
      "Changing to logg=5.00 for T= 52576 logg=8.18\n",
      "Changing to logg=5.00 for T= 35040 logg=8.49\n",
      "Changing to logg=5.00 for T= 35161 logg=8.49\n",
      "Changing to T= 50000 for T= 80369 logg=8.32\n",
      "Changing to logg=5.00 for T= 80369 logg=8.32\n",
      "Changing to logg=5.00 for T= 35041 logg=8.49\n",
      "Changing to logg=5.00 for T= 35040 logg=8.49\n",
      "Changing to T= 50000 for T= 81089 logg=8.14\n",
      "Changing to logg=5.00 for T= 81089 logg=8.14\n",
      "Changing to logg=5.00 for T= 38323 logg=5.43\n",
      "Changing to T= 50000 for T=172024 logg=7.24\n",
      "Changing to logg=5.00 for T=172024 logg=7.24\n",
      "Changing to logg=5.00 for T= 35040 logg=8.49\n",
      "Changing to logg=5.00 for T= 35040 logg=8.49\n",
      "Changing to logg=5.00 for T= 35098 logg=8.49\n",
      "Changing to logg=5.00 for T= 39339 logg=5.50\n",
      "Changing to logg=0.00 for T=  3294 logg=-0.23\n",
      "Changing to logg=5.00 for T= 35040 logg=8.49\n",
      "Changing to logg=5.00 for T= 35047 logg=8.49\n",
      "Changing to T= 50000 for T= 85704 logg=8.31\n",
      "Changing to logg=5.00 for T= 85704 logg=8.31\n",
      "Changing to logg=5.00 for T= 39297 logg=5.50\n",
      "Changing to logg=5.00 for T= 35040 logg=8.49\n",
      "Changing to logg=5.00 for T= 36208 logg=8.26\n",
      "Changing to logg=5.00 for T= 37054 logg=5.15\n",
      "Changing to logg=5.00 for T= 38521 logg=5.66\n",
      "Changing to logg=5.00 for T= 31499 logg=8.21\n",
      "Changing to logg=5.00 for T= 35233 logg=8.21\n",
      "Changing to logg=0.00 for T=  3295 logg=-0.23\n",
      "Changing to logg=5.00 for T= 38002 logg=5.45\n",
      "Changing to logg=5.00 for T= 35040 logg=8.49\n",
      "Changing to logg=5.00 for T= 37933 logg=5.39\n",
      "Changing to logg=5.00 for T= 38506 logg=5.66\n",
      "Changing to logg=5.00 for T= 35040 logg=8.49\n",
      "Changing to logg=5.00 for T= 35040 logg=8.49\n",
      "Changing to logg=5.00 for T= 35040 logg=8.49\n",
      "Changing to logg=5.00 for T= 39010 logg=5.64\n",
      "Changing to logg=5.00 for T= 35040 logg=8.49\n",
      "Changing to logg=0.00 for T=  3317 logg=-0.19\n",
      "Changing to logg=5.00 for T= 39290 logg=5.53\n",
      "Changing to logg=5.00 for T= 35040 logg=8.49\n",
      "Changing to logg=5.00 for T= 35040 logg=8.49\n",
      "Changing to logg=5.00 for T= 39003 logg=5.46\n",
      "Changing to logg=5.00 for T= 35040 logg=8.49\n",
      "Changing to logg=0.00 for T=  3317 logg=-0.19\n",
      "Changing to logg=5.00 for T= 35040 logg=8.49\n",
      "Changing to logg=5.00 for T= 35040 logg=8.49\n",
      "Changing to logg=5.00 for T= 37720 logg=5.76\n",
      "Changing to logg=0.00 for T=  3317 logg=-0.19\n",
      "Changing to logg=5.00 for T= 35042 logg=8.49\n",
      "Changing to logg=5.00 for T= 35065 logg=8.49\n",
      "Changing to logg=5.00 for T= 38348 logg=5.37\n",
      "Changing to logg=5.00 for T= 35040 logg=8.49\n",
      "Changing to logg=5.00 for T= 35040 logg=8.49\n",
      "Changing to logg=5.00 for T= 38497 logg=5.67\n",
      "Changing to logg=5.00 for T= 44686 logg=8.19\n",
      "Changing to logg=5.00 for T= 36175 logg=5.49\n",
      "Changing to logg=5.00 for T= 34271 logg=5.61\n",
      "Changing to logg=5.00 for T= 37723 logg=5.77\n",
      "Changing to logg=5.00 for T= 39184 logg=5.47\n",
      "Changing to logg=5.00 for T= 39090 logg=5.45\n",
      "Changing to T= 50000 for T=170279 logg=7.23\n",
      "Changing to logg=5.00 for T=170279 logg=7.23\n",
      "Changing to logg=5.00 for T= 35041 logg=8.49\n",
      "Changing to logg=5.00 for T= 35040 logg=8.49\n",
      "Changing to logg=5.00 for T= 35040 logg=8.49\n",
      "Changing to logg=5.00 for T= 39215 logg=5.43\n",
      "Changing to logg=5.00 for T= 35040 logg=8.49\n",
      "Changing to logg=5.00 for T= 37267 logg=5.48\n",
      "Changing to logg=5.00 for T= 39115 logg=5.45\n",
      "Changing to logg=5.00 for T= 35040 logg=8.49\n",
      "Changing to logg=5.00 for T= 39300 logg=5.53\n",
      "Changing to logg=5.00 for T= 35040 logg=8.49\n",
      "Changing to logg=5.00 for T= 35041 logg=8.49\n",
      "Changing to T= 50000 for T= 90298 logg=8.31\n",
      "Changing to logg=5.00 for T= 90298 logg=8.31\n",
      "Changing to logg=5.00 for T= 39061 logg=5.47\n",
      "Changing to logg=5.00 for T= 39282 logg=5.39\n",
      "Changing to logg=5.00 for T= 37700 logg=5.76\n",
      "Changing to logg=5.00 for T= 35040 logg=8.49\n",
      "Changing to logg=5.00 for T= 39152 logg=5.49\n",
      "Changing to logg=5.00 for T= 34340 logg=5.63\n",
      "Changing to logg=5.00 for T= 35040 logg=8.49\n",
      "Changing to logg=5.00 for T= 31631 logg=5.78\n",
      "Changing to logg=5.00 for T= 35040 logg=8.49\n",
      "Changing to logg=5.00 for T= 35040 logg=8.49\n",
      "Changing to logg=5.00 for T= 38718 logg=5.32\n",
      "Changing to logg=5.00 for T= 39019 logg=5.46\n",
      "Making photometry for isochrone: log(t) = 8.20  AKs = 0.50  dist = 2000\n",
      "     Starting at:  2020-12-14 16:07:43.533831   Usually takes ~5 minutes\n",
      "Starting filter: ubv,U   Elapsed time: 0.00 seconds\n",
      "Starting synthetic photometry\n",
      "Singles\n",
      "M =   1.240 Msun  T =  6225 K  m_ubv_U = 24.07\n",
      "Primaries\n",
      "M =   3.200 Msun  T = 12177 K  m_ubv_U = 18.37\n",
      "M =   4.000 Msun  T = 11805 K  m_ubv_U = 17.90\n",
      "M =   3.000 Msun  T = 11287 K  m_ubv_U = 19.55\n",
      "M =   3.200 Msun  T = 45668 K  m_ubv_U = 28.22\n",
      "M =   4.000 Msun  T = 11805 K  m_ubv_U = 17.90\n",
      "M =   1.900 Msun  T =  8580 K  m_ubv_U = 21.62\n",
      "M =   3.700 Msun  T = 12181 K  m_ubv_U = 18.46\n",
      "M =   2.700 Msun  T = 12431 K  m_ubv_U = 17.71\n",
      "M =   7.000 Msun  T = 39833 K  m_ubv_U = 30.10\n"
     ]
    },
    {
     "name": "stdout",
     "output_type": "stream",
     "text": [
      "M =   3.700 Msun  T = 12181 K  m_ubv_U = 18.46\n",
      "M =   3.700 Msun  T = 12181 K  m_ubv_U = 18.46\n",
      "M =   5.500 Msun  T = 26440 K  m_ubv_U = 29.39\n",
      "M =   4.000 Msun  T =  9281 K  m_ubv_U = 18.80\n",
      "M =   2.300 Msun  T = 11972 K  m_ubv_U = 18.88\n",
      "M =   3.700 Msun  T = 12181 K  m_ubv_U = 18.46\n",
      "M =   6.000 Msun  T = 25469 K  m_ubv_U = 29.51\n",
      "M =   1.400 Msun  T =  2739 K  m_ubv_U =  nan\n",
      "M =   0.631 Msun  T =   nan K  m_ubv_U =  nan\n",
      "M =   1.400 Msun  T =  2739 K  m_ubv_U =  nan\n",
      "M =   0.631 Msun  T =  2739 K  m_ubv_U =  nan\n",
      "M =   1.000 Msun  T =   nan K  m_ubv_U =  nan\n",
      "M =   1.400 Msun  T =  2739 K  m_ubv_U =  nan\n",
      "Secondaries\n",
      "M =   0.320 Msun  T =   nan K  m_ubv_U =  nan\n",
      "M =   2.400 Msun  T = 10500 K  m_ubv_U = 20.56\n",
      "M =   0.300 Msun  T =  3548 K  m_ubv_U = 32.77\n",
      "M =   0.960 Msun  T =   nan K  m_ubv_U =  nan\n",
      "M =   1.600 Msun  T =  7494 K  m_ubv_U = 22.51\n",
      "M =   0.570 Msun  T =  3877 K  m_ubv_U = 30.76\n",
      "M =   1.110 Msun  T =  5939 K  m_ubv_U = 24.83\n",
      "M =   0.810 Msun  T =   nan K  m_ubv_U =  nan\n",
      "M =   5.600 Msun  T = 17569 K  m_ubv_U = 17.24\n",
      "M =   2.590 Msun  T = 11100 K  m_ubv_U = 20.23\n",
      "M =   1.480 Msun  T =  7000 K  m_ubv_U = 22.95\n",
      "M =   1.650 Msun  T =  7676 K  m_ubv_U = 22.35\n",
      "M =   3.200 Msun  T = 11818 K  m_ubv_U = 19.21\n",
      "M =   1.150 Msun  T =   nan K  m_ubv_U =  nan\n",
      "M =   3.330 Msun  T = 12935 K  m_ubv_U = 19.09\n",
      "M =   3.600 Msun  T = 12685 K  m_ubv_U = 18.60\n",
      "M =   5.000 Msun  T = 29968 K  m_ubv_U = 28.79\n",
      "M =   3.700 Msun  T = 12011 K  m_ubv_U = 18.44\n",
      "M =   5.000 Msun  T = 35040 K  m_ubv_U = 28.61\n",
      "M =   4.000 Msun  T = 11918 K  m_ubv_U = 17.92\n",
      "M =   3.200 Msun  T = 11594 K  m_ubv_U = 19.23\n",
      "M =   6.000 Msun  T = 25106 K  m_ubv_U = 29.52\n",
      "Starting filter: ubv,V   Elapsed time: 7.58 seconds\n",
      "Starting synthetic photometry\n",
      "Singles\n",
      "M =   1.240 Msun  T =  6225 K  m_ubv_V = 22.95\n",
      "Primaries\n",
      "M =   3.200 Msun  T = 12177 K  m_ubv_V = 18.32\n",
      "M =   4.000 Msun  T = 11805 K  m_ubv_V = 17.82\n",
      "M =   3.000 Msun  T = 11287 K  m_ubv_V = 19.35\n",
      "M =   3.200 Msun  T = 45668 K  m_ubv_V = 29.18\n",
      "M =   4.000 Msun  T = 11805 K  m_ubv_V = 17.82\n",
      "M =   1.900 Msun  T =  8580 K  m_ubv_V = 20.93\n",
      "M =   3.700 Msun  T = 12181 K  m_ubv_V = 18.41\n",
      "M =   2.700 Msun  T = 12431 K  m_ubv_V = 17.71\n",
      "M =   7.000 Msun  T = 39833 K  m_ubv_V = 31.00\n",
      "M =   3.700 Msun  T = 12181 K  m_ubv_V = 18.41\n",
      "M =   3.700 Msun  T = 12181 K  m_ubv_V = 18.41\n",
      "M =   5.500 Msun  T = 26440 K  m_ubv_V = 30.03\n",
      "M =   4.000 Msun  T =  9281 K  m_ubv_V = 18.29\n",
      "M =   2.300 Msun  T = 11972 K  m_ubv_V = 18.80\n",
      "M =   3.700 Msun  T = 12181 K  m_ubv_V = 18.41\n",
      "M =   6.000 Msun  T = 25469 K  m_ubv_V = 30.11\n",
      "M =   1.400 Msun  T =  2739 K  m_ubv_V =  nan\n",
      "M =   0.631 Msun  T =   nan K  m_ubv_V =  nan\n",
      "M =   1.400 Msun  T =  2739 K  m_ubv_V =  nan\n",
      "M =   0.631 Msun  T =  2739 K  m_ubv_V =  nan\n",
      "M =   1.000 Msun  T =   nan K  m_ubv_V =  nan\n",
      "M =   1.400 Msun  T =  2739 K  m_ubv_V =  nan\n",
      "Secondaries\n",
      "M =   0.320 Msun  T =   nan K  m_ubv_V =  nan\n",
      "M =   2.400 Msun  T = 10500 K  m_ubv_V = 20.22\n",
      "M =   0.300 Msun  T =  3548 K  m_ubv_V = 29.79\n",
      "M =   0.960 Msun  T =   nan K  m_ubv_V =  nan\n",
      "M =   1.600 Msun  T =  7494 K  m_ubv_V = 21.70\n",
      "M =   0.570 Msun  T =  3877 K  m_ubv_V = 27.74\n",
      "M =   1.110 Msun  T =  5939 K  m_ubv_V = 23.56\n",
      "M =   0.810 Msun  T =   nan K  m_ubv_V =  nan\n",
      "M =   5.600 Msun  T = 17569 K  m_ubv_V = 17.62\n",
      "M =   2.590 Msun  T = 11100 K  m_ubv_V = 19.99\n",
      "M =   1.480 Msun  T =  7000 K  m_ubv_V = 22.07\n",
      "M =   1.650 Msun  T =  7676 K  m_ubv_V = 21.55\n",
      "M =   3.200 Msun  T = 11818 K  m_ubv_V = 19.09\n",
      "M =   1.150 Msun  T =   nan K  m_ubv_V =  nan\n",
      "M =   3.330 Msun  T = 12935 K  m_ubv_V = 19.11\n",
      "M =   3.600 Msun  T = 12685 K  m_ubv_V = 18.60\n",
      "M =   5.000 Msun  T = 29968 K  m_ubv_V = 29.54\n",
      "M =   3.700 Msun  T = 12011 K  m_ubv_V = 18.37\n",
      "M =   5.000 Msun  T = 35040 K  m_ubv_V = 29.49\n",
      "M =   4.000 Msun  T = 11918 K  m_ubv_V = 17.85\n",
      "M =   3.200 Msun  T = 11594 K  m_ubv_V = 19.09\n",
      "M =   6.000 Msun  T = 25106 K  m_ubv_V = 30.11\n",
      "Starting filter: ubv,B   Elapsed time: 15.06 seconds\n",
      "Starting synthetic photometry\n",
      "Singles\n",
      "M =   1.240 Msun  T =  6225 K  m_ubv_B = 24.10\n",
      "Primaries\n",
      "M =   3.200 Msun  T = 12177 K  m_ubv_B = 18.71\n",
      "M =   4.000 Msun  T = 11805 K  m_ubv_B = 18.21\n",
      "M =   3.000 Msun  T = 11287 K  m_ubv_B = 19.77\n",
      "M =   3.200 Msun  T = 45668 K  m_ubv_B = 29.32\n",
      "M =   4.000 Msun  T = 11805 K  m_ubv_B = 18.21\n",
      "M =   1.900 Msun  T =  8580 K  m_ubv_B = 21.56\n",
      "M =   3.700 Msun  T = 12181 K  m_ubv_B = 18.80\n",
      "M =   2.700 Msun  T = 12431 K  m_ubv_B = 18.09\n",
      "M =   7.000 Msun  T = 39833 K  m_ubv_B = 31.22\n",
      "M =   3.700 Msun  T = 12181 K  m_ubv_B = 18.80\n",
      "M =   3.700 Msun  T = 12181 K  m_ubv_B = 18.80\n",
      "M =   5.500 Msun  T = 26440 K  m_ubv_B = 30.36\n",
      "M =   4.000 Msun  T =  9281 K  m_ubv_B = 18.79\n",
      "M =   2.300 Msun  T = 11972 K  m_ubv_B = 19.19\n",
      "M =   3.700 Msun  T = 12181 K  m_ubv_B = 18.80\n",
      "M =   6.000 Msun  T = 25469 K  m_ubv_B = 30.46\n",
      "M =   1.400 Msun  T =  2739 K  m_ubv_B =  nan\n",
      "M =   0.631 Msun  T =   nan K  m_ubv_B =  nan\n",
      "M =   1.400 Msun  T =  2739 K  m_ubv_B =  nan\n",
      "M =   0.631 Msun  T =  2739 K  m_ubv_B =  nan\n",
      "M =   1.000 Msun  T =   nan K  m_ubv_B =  nan\n",
      "M =   1.400 Msun  T =  2739 K  m_ubv_B =  nan\n",
      "Secondaries\n",
      "M =   0.320 Msun  T =   nan K  m_ubv_B =  nan\n",
      "M =   2.400 Msun  T = 10500 K  m_ubv_B = 20.68\n",
      "M =   0.300 Msun  T =  3548 K  m_ubv_B = 31.88\n",
      "M =   0.960 Msun  T =   nan K  m_ubv_B =  nan\n",
      "M =   1.600 Msun  T =  7494 K  m_ubv_B = 22.53\n",
      "M =   0.570 Msun  T =  3877 K  m_ubv_B = 29.87\n",
      "M =   1.110 Msun  T =  5939 K  m_ubv_B = 24.81\n",
      "M =   0.810 Msun  T =   nan K  m_ubv_B =  nan\n",
      "M =   5.600 Msun  T = 17569 K  m_ubv_B = 17.93\n",
      "M =   2.590 Msun  T = 11100 K  m_ubv_B = 20.42\n",
      "M =   1.480 Msun  T =  7000 K  m_ubv_B = 23.01\n",
      "M =   1.650 Msun  T =  7676 K  m_ubv_B = 22.35\n",
      "M =   3.200 Msun  T = 11818 K  m_ubv_B = 19.50\n",
      "M =   1.150 Msun  T =   nan K  m_ubv_B =  nan\n",
      "M =   3.330 Msun  T = 12935 K  m_ubv_B = 19.49\n",
      "M =   3.600 Msun  T = 12685 K  m_ubv_B = 18.99\n",
      "M =   5.000 Msun  T = 29968 K  m_ubv_B = 29.82\n",
      "M =   3.700 Msun  T = 12011 K  m_ubv_B = 18.76\n",
      "M =   5.000 Msun  T = 35040 K  m_ubv_B = 29.67\n",
      "M =   4.000 Msun  T = 11918 K  m_ubv_B = 18.24\n",
      "M =   3.200 Msun  T = 11594 K  m_ubv_B = 19.50\n",
      "M =   6.000 Msun  T = 25106 K  m_ubv_B = 30.47\n",
      "Starting filter: ubv,R   Elapsed time: 22.42 seconds\n",
      "Starting synthetic photometry\n",
      "Singles\n",
      "M =   1.240 Msun  T =  6225 K  m_ubv_R = 20.85\n",
      "Primaries\n",
      "M =   3.200 Msun  T = 12177 K  m_ubv_R = 16.57\n",
      "M =   4.000 Msun  T = 11805 K  m_ubv_R = 16.06\n",
      "M =   3.000 Msun  T = 11287 K  m_ubv_R = 17.60\n",
      "M =   3.200 Msun  T = 45668 K  m_ubv_R = 27.53\n",
      "M =   4.000 Msun  T = 11805 K  m_ubv_R = 16.06\n",
      "M =   1.900 Msun  T =  8580 K  m_ubv_R = 19.09\n",
      "M =   3.700 Msun  T = 12181 K  m_ubv_R = 16.66\n",
      "M =   2.700 Msun  T = 12431 K  m_ubv_R = 15.96\n",
      "M =   7.000 Msun  T = 39833 K  m_ubv_R = 29.36\n",
      "M =   3.700 Msun  T = 12181 K  m_ubv_R = 16.66\n",
      "M =   3.700 Msun  T = 12181 K  m_ubv_R = 16.66\n",
      "M =   5.500 Msun  T = 26440 K  m_ubv_R = 28.38\n",
      "M =   4.000 Msun  T =  9281 K  m_ubv_R = 16.50\n",
      "M =   2.300 Msun  T = 11972 K  m_ubv_R = 17.05\n",
      "M =   3.700 Msun  T = 12181 K  m_ubv_R = 16.66\n",
      "M =   6.000 Msun  T = 25469 K  m_ubv_R = 28.46\n",
      "M =   1.400 Msun  T =  2739 K  m_ubv_R =  nan\n",
      "M =   0.631 Msun  T =   nan K  m_ubv_R =  nan\n",
      "M =   1.400 Msun  T =  2739 K  m_ubv_R =  nan\n",
      "M =   0.631 Msun  T =  2739 K  m_ubv_R =  nan\n",
      "M =   1.000 Msun  T =   nan K  m_ubv_R =  nan\n",
      "M =   1.400 Msun  T =  2739 K  m_ubv_R =  nan\n",
      "Secondaries\n",
      "M =   0.320 Msun  T =   nan K  m_ubv_R =  nan\n",
      "M =   2.400 Msun  T = 10500 K  m_ubv_R = 18.45\n",
      "M =   0.300 Msun  T =  3548 K  m_ubv_R = 26.93\n",
      "M =   0.960 Msun  T =   nan K  m_ubv_R =  nan\n",
      "M =   1.600 Msun  T =  7494 K  m_ubv_R = 19.74\n",
      "M =   0.570 Msun  T =  3877 K  m_ubv_R = 25.08\n",
      "M =   1.110 Msun  T =  5939 K  m_ubv_R = 21.41\n",
      "M =   0.810 Msun  T =   nan K  m_ubv_R =  nan\n",
      "M =   5.600 Msun  T = 17569 K  m_ubv_R = 15.91\n",
      "M =   2.590 Msun  T = 11100 K  m_ubv_R = 18.23\n",
      "M =   1.480 Msun  T =  7000 K  m_ubv_R = 20.06\n",
      "M =   1.650 Msun  T =  7676 K  m_ubv_R = 19.62\n",
      "M =   3.200 Msun  T = 11818 K  m_ubv_R = 17.34\n",
      "M =   1.150 Msun  T =   nan K  m_ubv_R =  nan\n",
      "M =   3.330 Msun  T = 12935 K  m_ubv_R = 17.37\n",
      "M =   3.600 Msun  T = 12685 K  m_ubv_R = 16.86\n",
      "M =   5.000 Msun  T = 29968 K  m_ubv_R = 27.89\n",
      "M =   3.700 Msun  T = 12011 K  m_ubv_R = 16.62\n",
      "M =   5.000 Msun  T = 35040 K  m_ubv_R = 27.85\n",
      "M =   4.000 Msun  T = 11918 K  m_ubv_R = 16.10\n"
     ]
    },
    {
     "name": "stdout",
     "output_type": "stream",
     "text": [
      "M =   3.200 Msun  T = 11594 K  m_ubv_R = 17.34\n",
      "M =   6.000 Msun  T = 25106 K  m_ubv_R = 28.46\n",
      "Starting filter: ubv,I   Elapsed time: 29.64 seconds\n",
      "Starting synthetic photometry\n",
      "Singles\n",
      "M =   1.240 Msun  T =  6225 K  m_ubv_I = 17.94\n",
      "Primaries\n",
      "M =   3.200 Msun  T = 12177 K  m_ubv_I = 14.02\n",
      "M =   4.000 Msun  T = 11805 K  m_ubv_I = 13.50\n",
      "M =   3.000 Msun  T = 11287 K  m_ubv_I = 15.02\n",
      "M =   3.200 Msun  T = 45668 K  m_ubv_I = 25.21\n",
      "M =   4.000 Msun  T = 11805 K  m_ubv_I = 13.50\n",
      "M =   1.900 Msun  T =  8580 K  m_ubv_I = 16.41\n",
      "M =   3.700 Msun  T = 12181 K  m_ubv_I = 14.11\n",
      "M =   2.700 Msun  T = 12431 K  m_ubv_I = 13.41\n",
      "M =   7.000 Msun  T = 39833 K  m_ubv_I = 27.02\n",
      "M =   3.700 Msun  T = 12181 K  m_ubv_I = 14.11\n",
      "M =   3.700 Msun  T = 12181 K  m_ubv_I = 14.11\n",
      "M =   5.500 Msun  T = 26440 K  m_ubv_I = 26.00\n",
      "M =   4.000 Msun  T =  9281 K  m_ubv_I = 13.84\n",
      "M =   2.300 Msun  T = 11972 K  m_ubv_I = 14.49\n",
      "M =   3.700 Msun  T = 12181 K  m_ubv_I = 14.11\n",
      "M =   6.000 Msun  T = 25469 K  m_ubv_I = 26.07\n",
      "M =   1.400 Msun  T =  2739 K  m_ubv_I =  nan\n",
      "M =   0.631 Msun  T =   nan K  m_ubv_I =  nan\n",
      "M =   1.400 Msun  T =  2739 K  m_ubv_I =  nan\n",
      "M =   0.631 Msun  T =  2739 K  m_ubv_I =  nan\n",
      "M =   1.000 Msun  T =   nan K  m_ubv_I =  nan\n",
      "M =   1.400 Msun  T =  2739 K  m_ubv_I =  nan\n",
      "Secondaries\n",
      "M =   0.320 Msun  T =   nan K  m_ubv_I =  nan\n",
      "M =   2.400 Msun  T = 10500 K  m_ubv_I = 15.86\n",
      "M =   0.300 Msun  T =  3548 K  m_ubv_I = 23.07\n",
      "M =   0.960 Msun  T =   nan K  m_ubv_I =  nan\n",
      "M =   1.600 Msun  T =  7494 K  m_ubv_I = 16.98\n",
      "M =   0.570 Msun  T =  3877 K  m_ubv_I = 21.52\n",
      "M =   1.110 Msun  T =  5939 K  m_ubv_I = 18.47\n",
      "M =   0.810 Msun  T =   nan K  m_ubv_I =  nan\n",
      "M =   5.600 Msun  T = 17569 K  m_ubv_I = 13.45\n",
      "M =   2.590 Msun  T = 11100 K  m_ubv_I = 15.65\n",
      "M =   1.480 Msun  T =  7000 K  m_ubv_I = 17.25\n",
      "M =   1.650 Msun  T =  7676 K  m_ubv_I = 16.87\n",
      "M =   3.200 Msun  T = 11818 K  m_ubv_I = 14.78\n",
      "M =   1.150 Msun  T =   nan K  m_ubv_I =  nan\n",
      "M =   3.330 Msun  T = 12935 K  m_ubv_I = 14.84\n",
      "M =   3.600 Msun  T = 12685 K  m_ubv_I = 14.32\n",
      "M =   5.000 Msun  T = 29968 K  m_ubv_I = 25.53\n",
      "M =   3.700 Msun  T = 12011 K  m_ubv_I = 14.06\n",
      "M =   5.000 Msun  T = 35040 K  m_ubv_I = 25.52\n",
      "M =   4.000 Msun  T = 11918 K  m_ubv_I = 13.54\n",
      "M =   3.200 Msun  T = 11594 K  m_ubv_I = 14.77\n",
      "M =   6.000 Msun  T = 25106 K  m_ubv_I = 26.07\n",
      "      Time taken: 36.87 seconds\n",
      "Isochrone generation took 308.096797 s.\n"
     ]
    }
   ],
   "source": [
    "import spisea\n",
    "from spisea import evolution, synthetic\n",
    "import math\n",
    "# Check if the evolution class works fine\n",
    "import time\n",
    "t1=time.time()\n",
    "bps=evolution.BPASS()\n",
    "iso1=synthetic.Isochrone_Binary(8.2, 0.5, 2000,math.log10(1), mass_sampling=1, filepath='/g/lu/scratch/ryotainagaki/BPASS_iso_filesTimedIsolated/')"
   ]
  },
  {
   "cell_type": "markdown",
   "metadata": {},
   "source": [
    "For a sanity check, we can see that the primaries, secondaries, and single stars have phasees of 5 or of 101 or of 110. This is since we haven't added neutron stars or black holes yet. Stars with phase of -99 exist, and those are the secondary stars that have already merged."
   ]
  },
  {
   "cell_type": "code",
   "execution_count": 2,
   "metadata": {},
   "outputs": [
    {
     "data": {
      "text/plain": [
       "True"
      ]
     },
     "execution_count": 2,
     "metadata": {},
     "output_type": "execute_result"
    }
   ],
   "source": [
    "import numpy as np\n",
    "np.all([(x==5 or x==101 or x==110) for x in iso1.primaries['phase']])"
   ]
  },
  {
   "cell_type": "code",
   "execution_count": 3,
   "metadata": {},
   "outputs": [
    {
     "data": {
      "text/html": [
       "<i>Table length=2129</i>\n",
       "<table id=\"table140291906903064\" class=\"table-striped table-bordered table-condensed\">\n",
       "<thead><tr><th>mass</th><th>log_a</th><th>L</th><th>Teff</th><th>R</th><th>logg</th><th>isWR</th><th>mass_current</th><th>phase</th><th>source</th><th>m_ubv_U</th><th>m_ubv_V</th><th>m_ubv_B</th><th>m_ubv_R</th><th>m_ubv_I</th></tr></thead>\n",
       "<thead><tr><th>solMass</th><th></th><th>W</th><th>K</th><th>m</th><th></th><th></th><th>solMass</th><th></th><th></th><th></th><th></th><th></th><th></th><th></th></tr></thead>\n",
       "<thead><tr><th>float64</th><th>float64</th><th>float64</th><th>float64</th><th>float64</th><th>float64</th><th>bool</th><th>float64</th><th>float64</th><th>int64</th><th>float64</th><th>float64</th><th>float64</th><th>float64</th><th>float64</th></tr></thead>\n",
       "<tr><td>3.2</td><td>-0.45941240868802913</td><td>1.1132736479542177e+29</td><td>12176.711036800833</td><td>2665815963.117689</td><td>3.84427495422534</td><td>False</td><td>3.75394</td><td>5.0</td><td>1</td><td>18.365603451899325</td><td>18.318833830075903</td><td>18.708151898577484</td><td>16.569205543574338</td><td>14.015605983653526</td></tr>\n",
       "<tr><td>2.7</td><td>-0.15432240868802927</td><td>2.2973223043718043e+28</td><td>10526.403173882261</td><td>1620466899.0834517</td><td>4.133548174454043</td><td>False</td><td>2.69998</td><td>5.0</td><td>1</td><td>20.023161899597792</td><td>19.703670938445015</td><td>20.15264780713855</td><td>17.937331739715496</td><td>15.338453125110826</td></tr>\n",
       "<tr><td>7.0</td><td>-1.5339484086880293</td><td>1.615373407188881e+25</td><td>38808.24469908744</td><td>3161387.008245317</td><td>9.23071353754886</td><td>False</td><td>1.28102</td><td>101.0</td><td>1</td><td>30.03344825378718</td><td>30.925782192332964</td><td>31.151064478217748</td><td>29.29161221144584</td><td>26.947626641526753</td></tr>\n",
       "<tr><td>2.3</td><td>-1.1389744086880291</td><td>5.039203872715806e+28</td><td>11572.574891900244</td><td>1985684127.1291778</td><td>4.029050570040367</td><td>False</td><td>3.1873</td><td>5.0</td><td>1</td><td>19.207128554052304</td><td>19.062689174943735</td><td>19.470304333454585</td><td>17.309038379797077</td><td>14.740547186364</td></tr>\n",
       "<tr><td>7.0</td><td>0.5386805913119708</td><td>1.6338377606983111e+25</td><td>39927.5810555236</td><td>3003638.512699712</td><td>9.280106678609133</td><td>False</td><td>1.29566</td><td>101.0</td><td>1</td><td>30.101321845495477</td><td>31.002698757595446</td><td>31.22332517904228</td><td>29.36909688043967</td><td>27.02625801532903</td></tr>\n",
       "<tr><td>1.9</td><td>0.5317885913119706</td><td>5.29604820105528e+27</td><td>8579.856021156496</td><td>1171130156.6516984</td><td>4.263001228255962</td><td>False</td><td>1.9</td><td>5.0</td><td>1</td><td>21.62485261648653</td><td>20.929022909806818</td><td>21.564054479573933</td><td>19.08774518635689</td><td>16.410281852211288</td></tr>\n",
       "<tr><td>6.5</td><td>1.3305925913119707</td><td>1.4938773036139906e+25</td><td>33470.63871415238</td><td>4087132.000927434</td><td>8.973673018038884</td><td>False</td><td>1.18467</td><td>101.0</td><td>1</td><td>29.749620559137682</td><td>30.579215686005007</td><td>30.83561753908446</td><td>28.941695610353605</td><td>26.58978794821554</td></tr>\n",
       "<tr><td>6.0</td><td>-0.9015664086880293</td><td>1.4138454192801287e+25</td><td>26304.49690647022</td><td>6437691.54681699</td><td>8.450140440678483</td><td>False</td><td>0.88335</td><td>101.0</td><td>1</td><td>29.451293173799336</td><td>30.08190235719463</td><td>30.42017410070795</td><td>28.430773044028157</td><td>26.050475851981258</td></tr>\n",
       "<tr><td>4.5</td><td>-0.09428340868802909</td><td>2.7249712783751842e+28</td><td>37422.258982454805</td><td>139640104.20245</td><td>5.665619359927716</td><td>True</td><td>0.68264</td><td>5.0</td><td>1</td><td>21.728903415067915</td><td>22.63980146883524</td><td>22.8047054044052</td><td>20.99622826787646</td><td>18.662405245099862</td></tr>\n",
       "<tr><td>...</td><td>...</td><td>...</td><td>...</td><td>...</td><td>...</td><td>...</td><td>...</td><td>...</td><td>...</td><td>...</td><td>...</td><td>...</td><td>...</td><td>...</td></tr>\n",
       "<tr><td>0.630957</td><td>-0.8288104086880292</td><td>nan</td><td>nan</td><td>nan</td><td>nan</td><td>False</td><td>0.8559061</td><td>110.0</td><td>4</td><td>nan</td><td>nan</td><td>nan</td><td>nan</td><td>nan</td></tr>\n",
       "<tr><td>0.398107</td><td>-0.9911994086880291</td><td>nan</td><td>nan</td><td>nan</td><td>nan</td><td>False</td><td>0.4744266</td><td>110.0</td><td>4</td><td>nan</td><td>nan</td><td>nan</td><td>nan</td><td>nan</td></tr>\n",
       "<tr><td>0.630957</td><td>-1.8231427086880292</td><td>2.6668705105418817e+23</td><td>2738.7349246249955</td><td>81562431.48962052</td><td>4.345254419129256</td><td>False</td><td>0.8075823</td><td>110.0</td><td>3</td><td>nan</td><td>nan</td><td>nan</td><td>nan</td><td>nan</td></tr>\n",
       "<tr><td>0.398107</td><td>1e+20</td><td>nan</td><td>nan</td><td>nan</td><td>nan</td><td>False</td><td>1e+20</td><td>110.0</td><td>4</td><td>nan</td><td>nan</td><td>nan</td><td>nan</td><td>nan</td></tr>\n",
       "<tr><td>0.251189</td><td>1e+20</td><td>nan</td><td>nan</td><td>nan</td><td>nan</td><td>False</td><td>1e+20</td><td>110.0</td><td>4</td><td>nan</td><td>nan</td><td>nan</td><td>nan</td><td>nan</td></tr>\n",
       "<tr><td>0.794328</td><td>0.6061945913119708</td><td>nan</td><td>nan</td><td>nan</td><td>nan</td><td>False</td><td>0.794328</td><td>110.0</td><td>4</td><td>nan</td><td>nan</td><td>nan</td><td>nan</td><td>nan</td></tr>\n",
       "<tr><td>1.25893</td><td>0.8909325913119708</td><td>nan</td><td>nan</td><td>nan</td><td>nan</td><td>False</td><td>1.25893</td><td>110.0</td><td>4</td><td>nan</td><td>nan</td><td>nan</td><td>nan</td><td>nan</td></tr>\n",
       "<tr><td>5.01187</td><td>-1.7744416086880292</td><td>2.6668705105418817e+23</td><td>2738.7349246249955</td><td>81562431.48962052</td><td>5.2692107739268845</td><td>False</td><td>6.778649</td><td>110.0</td><td>3</td><td>nan</td><td>nan</td><td>nan</td><td>nan</td><td>nan</td></tr>\n",
       "<tr><td>1.25893</td><td>1e+20</td><td>nan</td><td>nan</td><td>nan</td><td>nan</td><td>False</td><td>1e+20</td><td>110.0</td><td>4</td><td>nan</td><td>nan</td><td>nan</td><td>nan</td><td>nan</td></tr>\n",
       "<tr><td>1.0</td><td>1e+20</td><td>nan</td><td>nan</td><td>nan</td><td>nan</td><td>False</td><td>1e+20</td><td>110.0</td><td>4</td><td>nan</td><td>nan</td><td>nan</td><td>nan</td><td>nan</td></tr>\n",
       "</table>"
      ],
      "text/plain": [
       "<Table length=2129>\n",
       "  mass          log_a         ...      m_ubv_R            m_ubv_I      \n",
       "solMass                       ...                                      \n",
       "float64        float64        ...      float64            float64      \n",
       "-------- -------------------- ... ------------------ ------------------\n",
       "     3.2 -0.45941240868802913 ... 16.569205543574338 14.015605983653526\n",
       "     2.7 -0.15432240868802927 ... 17.937331739715496 15.338453125110826\n",
       "     7.0  -1.5339484086880293 ...  29.29161221144584 26.947626641526753\n",
       "     2.3  -1.1389744086880291 ... 17.309038379797077    14.740547186364\n",
       "     7.0   0.5386805913119708 ...  29.36909688043967  27.02625801532903\n",
       "     1.9   0.5317885913119706 ...  19.08774518635689 16.410281852211288\n",
       "     6.5   1.3305925913119707 ... 28.941695610353605  26.58978794821554\n",
       "     6.0  -0.9015664086880293 ... 28.430773044028157 26.050475851981258\n",
       "     4.5 -0.09428340868802909 ...  20.99622826787646 18.662405245099862\n",
       "     ...                  ... ...                ...                ...\n",
       "0.630957  -0.8288104086880292 ...                nan                nan\n",
       "0.398107  -0.9911994086880291 ...                nan                nan\n",
       "0.630957  -1.8231427086880292 ...                nan                nan\n",
       "0.398107                1e+20 ...                nan                nan\n",
       "0.251189                1e+20 ...                nan                nan\n",
       "0.794328   0.6061945913119708 ...                nan                nan\n",
       " 1.25893   0.8909325913119708 ...                nan                nan\n",
       " 5.01187  -1.7744416086880292 ...                nan                nan\n",
       " 1.25893                1e+20 ...                nan                nan\n",
       "     1.0                1e+20 ...                nan                nan"
      ]
     },
     "execution_count": 3,
     "metadata": {},
     "output_type": "execute_result"
    }
   ],
   "source": [
    "iso1.primaries"
   ]
  },
  {
   "cell_type": "code",
   "execution_count": 4,
   "metadata": {},
   "outputs": [
    {
     "data": {
      "text/html": [
       "&lt;Column name=&apos;phase&apos; dtype=&apos;float64&apos; length=3&gt;\n",
       "<table>\n",
       "<tr><td>5.0</td></tr>\n",
       "<tr><td>101.0</td></tr>\n",
       "<tr><td>110.0</td></tr>\n",
       "</table>"
      ],
      "text/plain": [
       "<Column name='phase' dtype='float64' length=3>\n",
       "  5.0\n",
       "101.0\n",
       "110.0"
      ]
     },
     "execution_count": 4,
     "metadata": {},
     "output_type": "execute_result"
    }
   ],
   "source": [
    "np.unique(iso1.primaries['phase'])"
   ]
  },
  {
   "cell_type": "code",
   "execution_count": 5,
   "metadata": {},
   "outputs": [
    {
     "data": {
      "text/plain": [
       "True"
      ]
     },
     "execution_count": 5,
     "metadata": {},
     "output_type": "execute_result"
    }
   ],
   "source": [
    "np.all([(x==5 or x==101 or x==110) for x in iso1.singles['phase']])"
   ]
  },
  {
   "cell_type": "code",
   "execution_count": 6,
   "metadata": {},
   "outputs": [
    {
     "data": {
      "text/plain": [
       "True"
      ]
     },
     "execution_count": 6,
     "metadata": {},
     "output_type": "execute_result"
    }
   ],
   "source": [
    "np.all([(x==5 or x==101 or x==-99) for x in iso1.secondaries['phase']])"
   ]
  },
  {
   "cell_type": "markdown",
   "metadata": {},
   "source": [
    "Find the maximum value of logg (cgs) for primaries, single stars, and secondaries. It turns out we have outliers for the secondaries"
   ]
  },
  {
   "cell_type": "code",
   "execution_count": 7,
   "metadata": {},
   "outputs": [
    {
     "data": {
      "text/plain": [
       "9.294869501162154"
      ]
     },
     "execution_count": 7,
     "metadata": {},
     "output_type": "execute_result"
    }
   ],
   "source": [
    "np.max(iso1.singles['logg'])"
   ]
  },
  {
   "cell_type": "code",
   "execution_count": 8,
   "metadata": {},
   "outputs": [
    {
     "data": {
      "text/plain": [
       "9.288600394549206"
      ]
     },
     "execution_count": 8,
     "metadata": {},
     "output_type": "execute_result"
    }
   ],
   "source": [
    "np.max(np.nan_to_num(iso1.primaries['logg'], -np.inf))"
   ]
  },
  {
   "cell_type": "code",
   "execution_count": 9,
   "metadata": {},
   "outputs": [
    {
     "data": {
      "text/plain": [
       "9.283702439639246"
      ]
     },
     "execution_count": 9,
     "metadata": {},
     "output_type": "execute_result"
    }
   ],
   "source": [
    "np.max(np.nan_to_num(iso1.secondaries['logg']))"
   ]
  },
  {
   "cell_type": "markdown",
   "metadata": {},
   "source": [
    "Now let's find the median logg values for the single stars, secondary stars, and the primary stars"
   ]
  },
  {
   "cell_type": "code",
   "execution_count": 10,
   "metadata": {},
   "outputs": [
    {
     "data": {
      "text/plain": [
       "4.249756074210683"
      ]
     },
     "execution_count": 10,
     "metadata": {},
     "output_type": "execute_result"
    }
   ],
   "source": [
    "np.median(iso1.singles['logg'])"
   ]
  },
  {
   "cell_type": "code",
   "execution_count": 11,
   "metadata": {},
   "outputs": [
    {
     "data": {
      "text/plain": [
       "nan"
      ]
     },
     "execution_count": 11,
     "metadata": {},
     "output_type": "execute_result"
    }
   ],
   "source": [
    "np.median(iso1.primaries['logg'])"
   ]
  },
  {
   "cell_type": "code",
   "execution_count": 12,
   "metadata": {},
   "outputs": [
    {
     "data": {
      "text/plain": [
       "4.294017281990214"
      ]
     },
     "execution_count": 12,
     "metadata": {},
     "output_type": "execute_result"
    }
   ],
   "source": [
    "np.median([x for x in iso1.secondaries['logg'] if np.isfinite(x)])"
   ]
  },
  {
   "cell_type": "markdown",
   "metadata": {},
   "source": [
    "Let's make a histogram of log_g values for each table of the isochrone"
   ]
  },
  {
   "cell_type": "code",
   "execution_count": 13,
   "metadata": {},
   "outputs": [
    {
     "data": {
      "text/plain": [
       "Text(0.5, 0, 'logg in cgs')"
      ]
     },
     "execution_count": 13,
     "metadata": {},
     "output_type": "execute_result"
    },
    {
     "data": {
      "image/png": "[encoded data removed]",
      "text/plain": [
       "<Figure size 432x288 with 1 Axes>"
      ]
     },
     "metadata": {
      "needs_background": "light"
     },
     "output_type": "display_data"
    }
   ],
   "source": [
    "import matplotlib.pyplot as plt\n",
    "plt.title(\"Histogram of logg values (secondaries) of isochrone\")\n",
    "plt.hist(np.array([x for x in iso1.secondaries['logg'] if np.isfinite(x)]), np.arange(0, 30, 1))\n",
    "plt.xlabel(\"logg in cgs\")"
   ]
  },
  {
   "cell_type": "code",
   "execution_count": 14,
   "metadata": {},
   "outputs": [
    {
     "data": {
      "text/plain": [
       "Text(0.5, 0, 'logg in cgs')"
      ]
     },
     "execution_count": 14,
     "metadata": {},
     "output_type": "execute_result"
    },
    {
     "data": {
      "image/png": "[encoded data removed]",
      "text/plain": [
       "<Figure size 432x288 with 1 Axes>"
      ]
     },
     "metadata": {
      "needs_background": "light"
     },
     "output_type": "display_data"
    }
   ],
   "source": [
    "import matplotlib.pyplot as plt\n",
    "plt.title(\"Histogram of logg values (primaries) of isochrone\")\n",
    "plt.hist(np.array([x for x in iso1.primaries['logg'] if np.isfinite(x)]), np.arange(0, 30, 1))\n",
    "plt.xlabel(\"logg in cgs\")"
   ]
  },
  {
   "cell_type": "code",
   "execution_count": 15,
   "metadata": {},
   "outputs": [
    {
     "data": {
      "text/plain": [
       "Text(0.5, 0, 'logg in cgs')"
      ]
     },
     "execution_count": 15,
     "metadata": {},
     "output_type": "execute_result"
    },
    {
     "data": {
      "image/png": "[encoded data removed]",
      "text/plain": [
       "<Figure size 432x288 with 1 Axes>"
      ]
     },
     "metadata": {
      "needs_background": "light"
     },
     "output_type": "display_data"
    }
   ],
   "source": [
    "import matplotlib.pyplot as plt\n",
    "plt.title(\"Histogram of logg values single stars of isochrone\")\n",
    "plt.hist(np.array([x for x in iso1.singles['logg'] if np.isfinite(x)]), np.arange(0, 30, 1))\n",
    "plt.xlabel(\"logg in cgs\")"
   ]
  },
  {
   "cell_type": "markdown",
   "metadata": {},
   "source": [
    "For comparison, let's create a MIST v.1. isochrone  phot using otherwise same parameters."
   ]
  },
  {
   "cell_type": "code",
   "execution_count": 16,
   "metadata": {},
   "outputs": [
    {
     "name": "stdout",
     "output_type": "stream",
     "text": [
      "Isochrone generation took 23.973411 s.\n",
      "Making photometry for isochrone: log(t) = 8.20  AKs = 0.50  dist = 2000\n",
      "     Starting at:  2020-12-14 16:08:45.102203   Usually takes ~5 minutes\n",
      "Starting filter: ubv,U   Elapsed time: 0.00 seconds\n",
      "Starting synthetic photometry\n",
      "M =   0.111 Msun  T =  2982 K  m_ubv_U = 36.50\n",
      "M =   1.468 Msun  T =  7177 K  m_ubv_U = 22.86\n",
      "M =   4.392 Msun  T =  4603 K  m_ubv_U = 19.88\n",
      "M =   4.423 Msun  T =  3455 K  m_ubv_U = 20.25\n",
      "M =   4.425 Msun  T = 23358 K  m_ubv_U = 14.37\n",
      "M =   4.425 Msun  T = 170211 K  m_ubv_U = 19.99\n",
      "M =   4.426 Msun  T = 157705 K  m_ubv_U = 25.22\n",
      "Starting filter: ubv,B   Elapsed time: 1.83 seconds\n",
      "Starting synthetic photometry\n",
      "M =   0.111 Msun  T =  2982 K  m_ubv_B = 35.72\n",
      "M =   1.468 Msun  T =  7177 K  m_ubv_B = 22.90\n",
      "M =   4.392 Msun  T =  4603 K  m_ubv_B = 18.83\n",
      "M =   4.423 Msun  T =  3455 K  m_ubv_B = 18.85\n",
      "M =   4.425 Msun  T = 23358 K  m_ubv_B = 15.41\n",
      "M =   4.425 Msun  T = 170211 K  m_ubv_B = 21.19\n",
      "M =   4.426 Msun  T = 157705 K  m_ubv_B = 26.41\n",
      "Starting filter: ubv,V   Elapsed time: 3.65 seconds\n",
      "Starting synthetic photometry\n",
      "M =   0.111 Msun  T =  2982 K  m_ubv_V = 33.72\n",
      "M =   1.468 Msun  T =  7177 K  m_ubv_V = 22.00\n",
      "M =   4.392 Msun  T =  4603 K  m_ubv_V = 16.94\n",
      "M =   4.423 Msun  T =  3455 K  m_ubv_V = 16.43\n",
      "M =   4.425 Msun  T = 23358 K  m_ubv_V = 15.11\n",
      "M =   4.425 Msun  T = 170211 K  m_ubv_V = 21.09\n",
      "M =   4.426 Msun  T = 157705 K  m_ubv_V = 26.31\n",
      "Starting filter: ubv,R   Elapsed time: 5.46 seconds\n",
      "Starting synthetic photometry\n",
      "M =   0.111 Msun  T =  2982 K  m_ubv_R = 29.82\n",
      "M =   1.468 Msun  T =  7177 K  m_ubv_R = 20.01\n",
      "M =   4.392 Msun  T =  4603 K  m_ubv_R = 14.56\n",
      "M =   4.423 Msun  T =  3455 K  m_ubv_R = 13.30\n",
      "M =   4.425 Msun  T = 23358 K  m_ubv_R = 13.39\n",
      "M =   4.425 Msun  T = 170211 K  m_ubv_R = 19.47\n",
      "M =   4.426 Msun  T = 157705 K  m_ubv_R = 24.69\n",
      "Starting filter: ubv,I   Elapsed time: 7.20 seconds\n",
      "Starting synthetic photometry\n",
      "M =   0.111 Msun  T =  2982 K  m_ubv_I = 25.07\n",
      "M =   1.468 Msun  T =  7177 K  m_ubv_I = 17.22\n",
      "M =   4.392 Msun  T =  4603 K  m_ubv_I = 11.35\n",
      "M =   4.423 Msun  T =  3455 K  m_ubv_I = 9.11\n",
      "M =   4.425 Msun  T = 23358 K  m_ubv_I = 10.96\n",
      "M =   4.425 Msun  T = 170211 K  m_ubv_I = 17.16\n",
      "M =   4.426 Msun  T = 157705 K  m_ubv_I = 22.38\n",
      "      Time taken: 8.94 seconds\n"
     ]
    }
   ],
   "source": [
    "iso2=synthetic.IsochronePhot(8.2, 0.5, 2000, math.log(1), recomp=True) # New MIST v.1 isochrone for same metallicity"
   ]
  },
  {
   "cell_type": "markdown",
   "metadata": {},
   "source": [
    "Find the maximum logg of the isochrone and the distribution of logg values"
   ]
  },
  {
   "cell_type": "code",
   "execution_count": 17,
   "metadata": {},
   "outputs": [
    {
     "data": {
      "text/plain": [
       "8.038804565028379"
      ]
     },
     "execution_count": 17,
     "metadata": {},
     "output_type": "execute_result"
    }
   ],
   "source": [
    "np.max(iso2.points['logg'])"
   ]
  },
  {
   "cell_type": "code",
   "execution_count": 18,
   "metadata": {
    "scrolled": true
   },
   "outputs": [
    {
     "data": {
      "text/plain": [
       "(array([ 96., 103.,  29.,  55., 179.,  39.,  26.,  71.,   5.,   0.,   0.,\n",
       "          0.,   0.,   0.,   0.,   0.,   0.,   0.,   0.,   0.,   0.,   0.,\n",
       "          0.,   0.,   0.,   0.,   0.,   0.,   0.]),\n",
       " array([ 0,  1,  2,  3,  4,  5,  6,  7,  8,  9, 10, 11, 12, 13, 14, 15, 16,\n",
       "        17, 18, 19, 20, 21, 22, 23, 24, 25, 26, 27, 28, 29]),\n",
       " <a list of 29 Patch objects>)"
      ]
     },
     "execution_count": 18,
     "metadata": {},
     "output_type": "execute_result"
    },
    {
     "data": {
      "image/png": "[encoded data removed]",
      "text/plain": [
       "<Figure size 432x288 with 1 Axes>"
      ]
     },
     "metadata": {
      "needs_background": "light"
     },
     "output_type": "display_data"
    }
   ],
   "source": [
    "import matplotlib.pyplot as plt\n",
    "plt.xlabel(\"logg in cgs\")\n",
    "plt.title(\"Histogram of logg values of stars in the MIST v1 isochrone\")\n",
    "plt.hist(np.array([x for x in iso2.points['logg'] if np.isfinite(x)]), np.arange(0, 30, 1))"
   ]
  },
  {
   "cell_type": "markdown",
   "metadata": {},
   "source": [
    "Finding the log_g median and mean for the new isochrone"
   ]
  },
  {
   "cell_type": "code",
   "execution_count": 19,
   "metadata": {},
   "outputs": [
    {
     "data": {
      "text/plain": [
       "4.190403645585174"
      ]
     },
     "execution_count": 19,
     "metadata": {},
     "output_type": "execute_result"
    }
   ],
   "source": [
    "np.median(iso2.points['logg'])"
   ]
  },
  {
   "cell_type": "code",
   "execution_count": 20,
   "metadata": {},
   "outputs": [
    {
     "data": {
      "text/plain": [
       "3.7100077975325854"
      ]
     },
     "execution_count": 20,
     "metadata": {},
     "output_type": "execute_result"
    }
   ],
   "source": [
    "np.mean(iso2.points['logg'])"
   ]
  },
  {
   "cell_type": "markdown",
   "metadata": {},
   "source": [
    "Now we want to make clusters for both of these models and plot CMD, HR Diagram, and Mass Luminosity relationship for the isochrones. Then, we want to find the Mass luminosity relationship and CMD for the cluster."
   ]
  },
  {
   "cell_type": "code",
   "execution_count": 21,
   "metadata": {},
   "outputs": [],
   "source": [
    "from spisea import imf\n",
    "from spisea.imf import imf, multiplicity\n",
    "from spisea import ifmr\n"
   ]
  },
  {
   "cell_type": "code",
   "execution_count": 22,
   "metadata": {
    "scrolled": true
   },
   "outputs": [
    {
     "name": "stderr",
     "output_type": "stream",
     "text": [
      "/opt/anaconda3/envs/astroconda/lib/python3.7/site-packages/astropy/table/column.py:1020: RuntimeWarning: invalid value encountered in greater_equal\n",
      "  result = getattr(super(), op)(other)\n"
     ]
    },
    {
     "name": "stdout",
     "output_type": "stream",
     "text": [
      "Found 11 companions out of stellar mass range\n"
     ]
    }
   ],
   "source": [
    "clus_1=synthetic.Binary_Cluster(iso1, imf.IMFSalpeter1955(multiplicity=multiplicity.MultiplicityUnresolved()), 2000, ifmr=ifmr.IFMR_Spera15())\n",
    "clus_2=synthetic.ResolvedCluster(iso2, imf.IMFSalpeter1955(multiplicity=multiplicity.MultiplicityUnresolved()), 2000, ifmr=ifmr.IFMR_Spera15())"
   ]
  },
  {
   "cell_type": "code",
   "execution_count": 23,
   "metadata": {},
   "outputs": [
    {
     "data": {
      "text/plain": [
       "<matplotlib.legend.Legend at 0x7f986c7d6908>"
      ]
     },
     "execution_count": 23,
     "metadata": {},
     "output_type": "execute_result"
    },
    {
     "data": {
      "image/png": "[encoded data removed]",
      "text/plain": [
       "<Figure size 432x288 with 1 Axes>"
      ]
     },
     "metadata": {
      "needs_background": "light"
     },
     "output_type": "display_data"
    }
   ],
   "source": [
    "# Taking a look at the Binary Cluster vs Default Settings cluster Observer's HR Diagram\n",
    "# Remember to use a distance modulus!\n",
    "import matplotlib.pyplot as plt\n",
    "plt.plot(iso1.primaries['m_ubv_B']-iso1.primaries[\"m_ubv_V\"], iso1.primaries[\"m_ubv_V\"]-5*np.log10(100), \"r.\")\n",
    "plt.plot(iso1.secondaries['m_ubv_B']-iso1.secondaries[\"m_ubv_V\"], iso1.secondaries[\"m_ubv_V\"]-5*np.log10(100), \"r.\")\n",
    "plt.plot(iso1.singles['m_ubv_B']-iso1.singles[\"m_ubv_V\"], iso1.singles[\"m_ubv_V\"]-5*np.log10(100), \"r.\", label=\"BPASS isochrone\")\n",
    "plt.plot(iso2.points['m_ubv_B']-iso2.points[\"m_ubv_V\"], iso2.points[\"m_ubv_V\"]-5*np.log10(100), \"b+\", label=\"MISTv1\", alpha=0.25)\n",
    "plt.xlabel(\"B-V\")\n",
    "plt.ylabel(\"pseudo M_V\")\n",
    "plt.title(\"Color magnitude Diagram of Isochrones at solar metallicity and 10**8.2 years age\")\n",
    "plt.gca().invert_yaxis()\n",
    "plt.legend()"
   ]
  },
  {
   "cell_type": "code",
   "execution_count": 24,
   "metadata": {},
   "outputs": [
    {
     "name": "stderr",
     "output_type": "stream",
     "text": [
      "No handles with labels found to put in legend.\n"
     ]
    },
    {
     "data": {
      "text/plain": [
       "<matplotlib.legend.Legend at 0x7f98421941d0>"
      ]
     },
     "execution_count": 24,
     "metadata": {},
     "output_type": "execute_result"
    },
    {
     "data": {
      "image/png": "[encoded data removed]",
      "text/plain": [
       "<Figure size 432x288 with 1 Axes>"
      ]
     },
     "metadata": {
      "needs_background": "light"
     },
     "output_type": "display_data"
    }
   ],
   "source": [
    "import matplotlib.pyplot as plt\n",
    "plt.plot(iso1.primaries['m_ubv_B']-iso1.primaries[\"m_ubv_V\"], iso1.primaries[\"m_ubv_V\"]-5*np.log10(100), \"r.\")\n",
    "plt.xlabel(\"B-V\")\n",
    "plt.ylabel(\"pseudo M_V\")\n",
    "plt.title(\"Color magnitude Diagram of Isochrones at solar metallicity and 10**8.2 years age\")\n",
    "plt.gca().invert_yaxis()\n",
    "plt.legend()"
   ]
  },
  {
   "cell_type": "code",
   "execution_count": 25,
   "metadata": {},
   "outputs": [
    {
     "name": "stderr",
     "output_type": "stream",
     "text": [
      "/opt/anaconda3/envs/astroconda/lib/python3.7/site-packages/astropy/table/column.py:1020: RuntimeWarning: invalid value encountered in greater\n",
      "  result = getattr(super(), op)(other)\n"
     ]
    },
    {
     "data": {
      "text/html": [
       "&lt;Column name=&apos;phase&apos; dtype=&apos;float64&apos; length=0&gt;\n",
       "<table>\n",
       "</table>"
      ],
      "text/plain": [
       "<Column name='phase' dtype='float64' length=0>"
      ]
     },
     "execution_count": 25,
     "metadata": {},
     "output_type": "execute_result"
    }
   ],
   "source": [
    "np.unique(iso1.primaries[np.where(iso1.primaries['m_ubv_V']-10>25.0)]['phase'])"
   ]
  },
  {
   "cell_type": "code",
   "execution_count": 26,
   "metadata": {},
   "outputs": [
    {
     "name": "stderr",
     "output_type": "stream",
     "text": [
      "/opt/anaconda3/envs/astroconda/lib/python3.7/site-packages/astropy/table/column.py:1020: RuntimeWarning: invalid value encountered in less\n",
      "  result = getattr(super(), op)(other)\n"
     ]
    },
    {
     "data": {
      "text/html": [
       "<i>Table length=1110</i>\n",
       "<table id=\"table140292633826920\" class=\"table-striped table-bordered table-condensed\">\n",
       "<thead><tr><th>mass</th><th>log_a</th><th>L</th><th>Teff</th><th>R</th><th>logg</th><th>isWR</th><th>mass_current</th><th>phase</th><th>source</th><th>m_ubv_U</th><th>m_ubv_V</th><th>m_ubv_B</th><th>m_ubv_R</th><th>m_ubv_I</th></tr></thead>\n",
       "<thead><tr><th>solMass</th><th></th><th>W</th><th>K</th><th>m</th><th></th><th></th><th>solMass</th><th></th><th></th><th></th><th></th><th></th><th></th><th></th></tr></thead>\n",
       "<thead><tr><th>float64</th><th>float64</th><th>float64</th><th>float64</th><th>float64</th><th>float64</th><th>bool</th><th>float64</th><th>float64</th><th>int64</th><th>float64</th><th>float64</th><th>float64</th><th>float64</th><th>float64</th></tr></thead>\n",
       "<tr><td>3.2</td><td>-0.45941240868802913</td><td>1.1132736479542177e+29</td><td>12176.711036800833</td><td>2665815963.117689</td><td>3.84427495422534</td><td>False</td><td>3.75394</td><td>5.0</td><td>1</td><td>18.365603451899325</td><td>18.318833830075903</td><td>18.708151898577484</td><td>16.569205543574338</td><td>14.015605983653526</td></tr>\n",
       "<tr><td>2.7</td><td>-0.15432240868802927</td><td>2.2973223043718043e+28</td><td>10526.403173882261</td><td>1620466899.0834517</td><td>4.133548174454043</td><td>False</td><td>2.69998</td><td>5.0</td><td>1</td><td>20.023161899597792</td><td>19.703670938445015</td><td>20.15264780713855</td><td>17.937331739715496</td><td>15.338453125110826</td></tr>\n",
       "<tr><td>2.3</td><td>-1.1389744086880291</td><td>5.039203872715806e+28</td><td>11572.574891900244</td><td>1985684127.1291778</td><td>4.029050570040367</td><td>False</td><td>3.1873</td><td>5.0</td><td>1</td><td>19.207128554052304</td><td>19.062689174943735</td><td>19.470304333454585</td><td>17.309038379797077</td><td>14.740547186364</td></tr>\n",
       "<tr><td>1.9</td><td>0.5317885913119706</td><td>5.29604820105528e+27</td><td>8579.856021156496</td><td>1171130156.6516984</td><td>4.263001228255962</td><td>False</td><td>1.9</td><td>5.0</td><td>1</td><td>21.62485261648653</td><td>20.929022909806818</td><td>21.564054479573933</td><td>19.08774518635689</td><td>16.410281852211288</td></tr>\n",
       "<tr><td>4.5</td><td>-0.09428340868802909</td><td>2.7249712783751842e+28</td><td>37422.258982454805</td><td>139640104.20245</td><td>5.665619359927716</td><td>True</td><td>0.68264</td><td>5.0</td><td>1</td><td>21.728903415067915</td><td>22.63980146883524</td><td>22.8047054044052</td><td>20.99622826787646</td><td>18.662405245099862</td></tr>\n",
       "<tr><td>2.7</td><td>-0.3157624086880291</td><td>2.2973223043718043e+28</td><td>10526.403173882261</td><td>1620466899.0834517</td><td>4.133548174454043</td><td>False</td><td>2.69998</td><td>5.0</td><td>1</td><td>20.023161899597792</td><td>19.703670938445015</td><td>20.15264780713855</td><td>17.937331739715496</td><td>15.338453125110826</td></tr>\n",
       "<tr><td>4.5</td><td>0.8045495913119707</td><td>3.8848291972676705e+29</td><td>4524.493826799286</td><td>36069088234.0388</td><td>1.657984548899564</td><td>False</td><td>4.47504</td><td>5.0</td><td>1</td><td>19.729621336207536</td><td>16.6392756231814</td><td>18.584950527366352</td><td>14.24229880840067</td><td>11.011947527643558</td></tr>\n",
       "<tr><td>4.5</td><td>0.036449591311970675</td><td>3.8848291972676705e+29</td><td>4524.493826799286</td><td>36069088234.0388</td><td>1.657984548899564</td><td>False</td><td>4.47504</td><td>5.0</td><td>1</td><td>19.729621336207536</td><td>16.6392756231814</td><td>18.584950527366352</td><td>14.24229880840067</td><td>11.011947527643558</td></tr>\n",
       "<tr><td>3.0</td><td>1.1312555913119708</td><td>3.659922836535846e+28</td><td>11286.51855773359</td><td>1779119682.059914</td><td>4.098157300682193</td><td>False</td><td>2.99992</td><td>5.0</td><td>1</td><td>19.545957345137907</td><td>19.353238557051963</td><td>19.77158266863353</td><td>17.596968892577358</td><td>15.02098070887026</td></tr>\n",
       "<tr><td>...</td><td>...</td><td>...</td><td>...</td><td>...</td><td>...</td><td>...</td><td>...</td><td>...</td><td>...</td><td>...</td><td>...</td><td>...</td><td>...</td><td>...</td></tr>\n",
       "<tr><td>1.6</td><td>5.667496591311971</td><td>5.290198025790159e+27</td><td>8580.64629149221</td><td>1170267553.896311</td><td>4.263641228255962</td><td>False</td><td>1.9</td><td>5.0</td><td>1</td><td>21.62602092481719</td><td>20.930330440560493</td><td>21.56529709598737</td><td>19.08909988369302</td><td>16.411692074291437</td></tr>\n",
       "<tr><td>4.0</td><td>-0.8890424086880291</td><td>1.6512085513837888e+29</td><td>11804.837142385752</td><td>3454380426.983821</td><td>3.6465954007915196</td><td>False</td><td>3.99823</td><td>5.0</td><td>1</td><td>17.89642176718931</td><td>17.817363154256427</td><td>18.21085641153647</td><td>16.063322980911884</td><td>13.498484569756611</td></tr>\n",
       "<tr><td>3.7</td><td>-0.3670624086880292</td><td>1.0247122525035504e+29</td><td>12181.197929396629</td><td>2555701713.9723654</td><td>3.8745554397075495</td><td>False</td><td>3.6992</td><td>5.0</td><td>1</td><td>18.458616476225686</td><td>18.4098987866752</td><td>18.799693368951797</td><td>16.660514184198778</td><td>14.107230839544567</td></tr>\n",
       "<tr><td>3.7</td><td>0.11917659131197089</td><td>1.0247122525035504e+29</td><td>12181.197929396629</td><td>2555701713.9723654</td><td>3.8745554397075495</td><td>False</td><td>3.6992</td><td>5.0</td><td>1</td><td>18.458616476225686</td><td>18.4098987866752</td><td>18.799693368951797</td><td>16.660514184198778</td><td>14.107230839544567</td></tr>\n",
       "<tr><td>4.0</td><td>-0.8812214086880292</td><td>1.6512085513837888e+29</td><td>11804.837142385752</td><td>3454380426.983821</td><td>3.6465954007915196</td><td>False</td><td>3.99823</td><td>5.0</td><td>1</td><td>17.89642176718931</td><td>17.817363154256427</td><td>18.21085641153647</td><td>16.063322980911884</td><td>13.498484569756611</td></tr>\n",
       "<tr><td>4.5</td><td>0.5599105913119709</td><td>3.8848291972676705e+29</td><td>4524.493826799286</td><td>36069088234.0388</td><td>1.657984548899564</td><td>False</td><td>4.47504</td><td>5.0</td><td>1</td><td>19.729621336207536</td><td>16.6392756231814</td><td>18.584950527366352</td><td>14.24229880840067</td><td>11.011947527643558</td></tr>\n",
       "<tr><td>4.5</td><td>1.103116591311971</td><td>3.8848291972676705e+29</td><td>4524.493826799286</td><td>36069088234.0388</td><td>1.657984548899564</td><td>False</td><td>4.47504</td><td>5.0</td><td>1</td><td>19.729621336207536</td><td>16.6392756231814</td><td>18.584950527366352</td><td>14.24229880840067</td><td>11.011947527643558</td></tr>\n",
       "<tr><td>4.5</td><td>1.0932435913119707</td><td>3.8848291972676705e+29</td><td>4524.493826799286</td><td>36069088234.0388</td><td>1.657984548899564</td><td>False</td><td>4.47504</td><td>5.0</td><td>1</td><td>19.729621336207536</td><td>16.6392756231814</td><td>18.584950527366352</td><td>14.24229880840067</td><td>11.011947527643558</td></tr>\n",
       "<tr><td>4.5</td><td>0.13950359131197088</td><td>8.688242399461466e+28</td><td>34113.00673533063</td><td>300064877.4002715</td><td>5.105992426287089</td><td>False</td><td>0.86889</td><td>5.0</td><td>1</td><td>20.28111209389145</td><td>21.15117937200747</td><td>21.331585408054103</td><td>19.50916279140565</td><td>17.169960396676625</td></tr>\n",
       "<tr><td>3.0</td><td>0.7854945913119709</td><td>3.659922836535846e+28</td><td>11286.51855773359</td><td>1779119682.059914</td><td>4.098157300682193</td><td>False</td><td>2.99992</td><td>5.0</td><td>1</td><td>19.545957345137907</td><td>19.353238557051963</td><td>19.77158266863353</td><td>17.596968892577358</td><td>15.02098070887026</td></tr>\n",
       "</table>"
      ],
      "text/plain": [
       "<Table length=1110>\n",
       "  mass         log_a         ...      m_ubv_R            m_ubv_I      \n",
       "solMass                      ...                                      \n",
       "float64       float64        ...      float64            float64      \n",
       "------- -------------------- ... ------------------ ------------------\n",
       "    3.2 -0.45941240868802913 ... 16.569205543574338 14.015605983653526\n",
       "    2.7 -0.15432240868802927 ... 17.937331739715496 15.338453125110826\n",
       "    2.3  -1.1389744086880291 ... 17.309038379797077    14.740547186364\n",
       "    1.9   0.5317885913119706 ...  19.08774518635689 16.410281852211288\n",
       "    4.5 -0.09428340868802909 ...  20.99622826787646 18.662405245099862\n",
       "    2.7  -0.3157624086880291 ... 17.937331739715496 15.338453125110826\n",
       "    4.5   0.8045495913119707 ...  14.24229880840067 11.011947527643558\n",
       "    4.5 0.036449591311970675 ...  14.24229880840067 11.011947527643558\n",
       "    3.0   1.1312555913119708 ... 17.596968892577358  15.02098070887026\n",
       "    ...                  ... ...                ...                ...\n",
       "    1.6    5.667496591311971 ...  19.08909988369302 16.411692074291437\n",
       "    4.0  -0.8890424086880291 ... 16.063322980911884 13.498484569756611\n",
       "    3.7  -0.3670624086880292 ... 16.660514184198778 14.107230839544567\n",
       "    3.7  0.11917659131197089 ... 16.660514184198778 14.107230839544567\n",
       "    4.0  -0.8812214086880292 ... 16.063322980911884 13.498484569756611\n",
       "    4.5   0.5599105913119709 ...  14.24229880840067 11.011947527643558\n",
       "    4.5    1.103116591311971 ...  14.24229880840067 11.011947527643558\n",
       "    4.5   1.0932435913119707 ...  14.24229880840067 11.011947527643558\n",
       "    4.5  0.13950359131197088 ...  19.50916279140565 17.169960396676625\n",
       "    3.0   0.7854945913119709 ... 17.596968892577358  15.02098070887026"
      ]
     },
     "execution_count": 26,
     "metadata": {},
     "output_type": "execute_result"
    }
   ],
   "source": [
    "iso1.primaries[np.where((iso1.primaries['m_ubv_V']-10< 25.0) & (iso1.primaries['phase']== 5))]"
   ]
  },
  {
   "cell_type": "code",
   "execution_count": 27,
   "metadata": {},
   "outputs": [
    {
     "data": {
      "text/plain": [
       "6.044909972873647"
      ]
     },
     "execution_count": 27,
     "metadata": {},
     "output_type": "execute_result"
    }
   ],
   "source": [
    "np.min(([x-10 for x in iso1.secondaries[\"m_ubv_V\"] if np.isfinite(x)]))"
   ]
  },
  {
   "cell_type": "code",
   "execution_count": 28,
   "metadata": {},
   "outputs": [
    {
     "data": {
      "text/plain": [
       "<matplotlib.legend.Legend at 0x7f986c9c31d0>"
      ]
     },
     "execution_count": 28,
     "metadata": {},
     "output_type": "execute_result"
    },
    {
     "data": {
      "image/png": "[encoded data removed]",
      "text/plain": [
       "<Figure size 432x288 with 1 Axes>"
      ]
     },
     "metadata": {
      "needs_background": "light"
     },
     "output_type": "display_data"
    }
   ],
   "source": [
    "import matplotlib.pyplot as plt\n",
    "plt.plot(np.log10(iso1.primaries['Teff']), np.log10(iso1.primaries[\"L\"]), \"r.\")\n",
    "plt.plot(np.log10(iso1.secondaries['Teff']), np.log10(iso1.secondaries[\"L\"]), \"r.\")\n",
    "plt.plot(np.log10(iso1.singles['Teff']), np.log10(iso1.singles[\"L\"]), \"r.\", label=\"BPASS isochrone\")\n",
    "plt.plot(np.log10(iso2.points['Teff']), np.log10(iso2.points[\"L\"]), \"b+\", label=\"MISTv1\", alpha=0.25)\n",
    "plt.xlabel(\"log10(T in kelvin)\")\n",
    "plt.ylabel(\"log10(L in watts)\")\n",
    "plt.title(\"HR Diagram of Isochrones at solar metallicity and 10**8.2 years age\")\n",
    "plt.gca().invert_xaxis()\n",
    "plt.legend()\n",
    "# Rough pattern seems to fit. What's that line?"
   ]
  },
  {
   "cell_type": "code",
   "execution_count": 29,
   "metadata": {},
   "outputs": [
    {
     "data": {
      "text/plain": [
       "<matplotlib.legend.Legend at 0x7f98419394e0>"
      ]
     },
     "execution_count": 29,
     "metadata": {},
     "output_type": "execute_result"
    },
    {
     "data": {
      "image/png": "[encoded data removed]",
      "text/plain": [
       "<Figure size 432x288 with 1 Axes>"
      ]
     },
     "metadata": {
      "needs_background": "light"
     },
     "output_type": "display_data"
    }
   ],
   "source": [
    "# Plot the mass-luminosity relationship\n",
    "from astropy import constants as cs\n",
    "import matplotlib.pyplot as plt\n",
    "plt.plot(np.log10(iso1.primaries['mass_current']), np.log10(iso1.primaries[\"L\"]/cs.L_sun), \"r.\")\n",
    "plt.plot(np.log10(iso1.secondaries['mass_current']), np.log10(iso1.secondaries[\"L\"]/cs.L_sun), \"r.\")\n",
    "plt.plot(np.log10(iso1.singles['mass_current']), np.log10(iso1.singles[\"L\"]/cs.L_sun), \"r.\", label=\"BPASS isochrone\")\n",
    "plt.plot(np.log10(iso2.points['mass_current']), np.log10(iso2.points[\"L\"]/cs.L_sun), \"b+\", label=\"MISTv1\", alpha=0.25)\n",
    "plt.xlabel(\"log10(Current Mass in solar masses)\")\n",
    "plt.ylabel(\"log10(L/L_solar)\")\n",
    "plt.title(\"log Mass-logL of Isochrones at solar metallicity and 10**8.2 years age\")\n",
    "plt.legend()\n",
    "# Rough pattern seems to fit. What's that line?"
   ]
  },
  {
   "cell_type": "markdown",
   "metadata": {},
   "source": [
    "Looking at the horizontal line. It probably may be in the primaries that came from the newsecmods and are compact remnants (hence the low luminosity)."
   ]
  },
  {
   "cell_type": "code",
   "execution_count": 30,
   "metadata": {},
   "outputs": [
    {
     "name": "stderr",
     "output_type": "stream",
     "text": [
      "/opt/anaconda3/envs/astroconda/lib/python3.7/site-packages/astropy/units/quantity.py:477: RuntimeWarning: invalid value encountered in greater\n",
      "  result = super().__array_ufunc__(function, method, *arrays, **kwargs)\n",
      "/opt/anaconda3/envs/astroconda/lib/python3.7/site-packages/astropy/units/quantity.py:477: RuntimeWarning: invalid value encountered in less\n",
      "  result = super().__array_ufunc__(function, method, *arrays, **kwargs)\n"
     ]
    }
   ],
   "source": [
    "the_line = iso1.primaries[np.where((np.log10(iso1.primaries[\"L\"]/cs.L_sun)>-3.3) & ((np.log10(iso1.primaries[\"L\"]/cs.L_sun) < -2.9)))[0]]"
   ]
  },
  {
   "cell_type": "code",
   "execution_count": 31,
   "metadata": {},
   "outputs": [
    {
     "data": {
      "text/plain": [
       "<matplotlib.legend.Legend at 0x7f984aca3dd8>"
      ]
     },
     "execution_count": 31,
     "metadata": {},
     "output_type": "execute_result"
    },
    {
     "data": {
      "image/png": "[encoded data removed]",
      "text/plain": [
       "<Figure size 432x288 with 1 Axes>"
      ]
     },
     "metadata": {
      "needs_background": "light"
     },
     "output_type": "display_data"
    }
   ],
   "source": [
    "plt.plot(np.log10(the_line['mass_current']), np.log10(the_line[\"L\"]/cs.L_sun), \"r.\", label=\"Subset of BPASS isochrone Primaries\")\n",
    "plt.xlabel(\"log10(Current Mass in solar masses)\")\n",
    "plt.ylabel(\"log10(L/L_solar)\")\n",
    "plt.title(\"Current-Mass-Luminosity Diagram of Isochrones at solar metallicity and 10**8.2 years age (Zooming into horizontal line section)\")\n",
    "plt.legend()"
   ]
  },
  {
   "cell_type": "code",
   "execution_count": 32,
   "metadata": {},
   "outputs": [
    {
     "data": {
      "text/html": [
       "&lt;Column name=&apos;phase&apos; dtype=&apos;float64&apos; length=1&gt;\n",
       "<table>\n",
       "<tr><td>110.0</td></tr>\n",
       "</table>"
      ],
      "text/plain": [
       "<Column name='phase' dtype='float64' length=1>\n",
       "110.0"
      ]
     },
     "execution_count": 32,
     "metadata": {},
     "output_type": "execute_result"
    }
   ],
   "source": [
    "np.unique(the_line['phase'])"
   ]
  },
  {
   "cell_type": "markdown",
   "metadata": {},
   "source": [
    "OK, so it is the case that the stars are all compact remnants coming from the NEWSECMODS. In that case no worries."
   ]
  },
  {
   "cell_type": "code",
   "execution_count": 33,
   "metadata": {},
   "outputs": [
    {
     "data": {
      "text/plain": [
       "<matplotlib.legend.Legend at 0x7f986cadcf98>"
      ]
     },
     "execution_count": 33,
     "metadata": {},
     "output_type": "execute_result"
    },
    {
     "data": {
      "image/png": "[encoded data removed]",
      "text/plain": [
       "<Figure size 432x288 with 1 Axes>"
      ]
     },
     "metadata": {
      "needs_background": "light"
     },
     "output_type": "display_data"
    }
   ],
   "source": [
    "# Plot the mass-luminosity relationship\n",
    "from astropy import constants as cs\n",
    "from astropy import units as u\n",
    "import matplotlib.pyplot as plt\n",
    "plt.plot(np.log10(clus_1.star_systems['mass_current']), np.log10(clus_1.star_systems[\"L\"]/cs.L_sun), \"r.\", label=\"Binary_Cluster made from BPASS\", alpha =1)\n",
    "plt.plot(np.log10(clus_2.star_systems['mass_current']), np.log10(clus_2.star_systems[\"L\"]/(cs.L_sun*1/u.W)), \"b+\", label=\"Cluster made from MISTv.1\", alpha=0.1)\n",
    "plt.xlabel(\"log10(Current Mass in solar masses)\")\n",
    "plt.ylabel(\"log10(L/L_solar)\")\n",
    "plt.title(\"log-Mass-logL of Cluster at solar metallicity and 10**8.2 years age\")\n",
    "plt.legend()\n",
    "# Rough pattern seems to fit. What's that line?"
   ]
  },
  {
   "cell_type": "code",
   "execution_count": 34,
   "metadata": {},
   "outputs": [
    {
     "data": {
      "text/html": [
       "&lt;Column name=&apos;phase&apos; dtype=&apos;float64&apos; length=3&gt;\n",
       "<table>\n",
       "<tr><td>5.0</td></tr>\n",
       "<tr><td>101.0</td></tr>\n",
       "<tr><td>110.0</td></tr>\n",
       "</table>"
      ],
      "text/plain": [
       "<Column name='phase' dtype='float64' length=3>\n",
       "  5.0\n",
       "101.0\n",
       "110.0"
      ]
     },
     "execution_count": 34,
     "metadata": {},
     "output_type": "execute_result"
    }
   ],
   "source": [
    "np.unique(clus_1.star_systems[np.where(np.log10(clus_1.star_systems['L']/cs.L_sun)<-0.5)]['phase'])"
   ]
  },
  {
   "cell_type": "code",
   "execution_count": 35,
   "metadata": {},
   "outputs": [
    {
     "data": {
      "text/html": [
       "<i>Table length=0</i>\n",
       "<table id=\"table140292635392488\" class=\"table-striped table-bordered table-condensed\">\n",
       "<thead><tr><th>mass</th><th>systemMass</th><th>Teff</th><th>L</th><th>logg</th><th>isWR</th><th>mass_current</th><th>phase</th><th>metallicity</th><th>isMultiple</th><th>merged</th><th>m_ubv_U</th><th>m_ubv_V</th><th>m_ubv_B</th><th>m_ubv_R</th><th>m_ubv_I</th></tr></thead>\n",
       "<thead><tr><th>solMass</th><th></th><th>K</th><th>W</th><th></th><th></th><th>solMass</th><th></th><th></th><th></th><th></th><th></th><th></th><th></th><th></th><th></th></tr></thead>\n",
       "<thead><tr><th>float64</th><th>float64</th><th>float64</th><th>float64</th><th>float64</th><th>bool</th><th>float64</th><th>float64</th><th>float64</th><th>bool</th><th>bool</th><th>float64</th><th>float64</th><th>float64</th><th>float64</th><th>float64</th></tr></thead>\n",
       "</table>"
      ],
      "text/plain": [
       "<Table length=0>\n",
       "  mass  systemMass   Teff     L      logg  ... m_ubv_V m_ubv_B m_ubv_R m_ubv_I\n",
       "solMass               K       W            ...                                \n",
       "float64  float64   float64 float64 float64 ... float64 float64 float64 float64\n",
       "------- ---------- ------- ------- ------- ... ------- ------- ------- -------"
      ]
     },
     "execution_count": 35,
     "metadata": {},
     "output_type": "execute_result"
    }
   ],
   "source": [
    "clus_1.star_systems[np.where(clus_1.star_systems['phase']==0)]"
   ]
  },
  {
   "cell_type": "code",
   "execution_count": 36,
   "metadata": {},
   "outputs": [
    {
     "data": {
      "text/html": [
       "<i>Table length=0</i>\n",
       "<table id=\"table140292635393272\" class=\"table-striped table-bordered table-condensed\">\n",
       "<thead><tr><th>mass</th><th>systemMass</th><th>Teff</th><th>L</th><th>logg</th><th>isWR</th><th>mass_current</th><th>phase</th><th>metallicity</th><th>isMultiple</th><th>merged</th><th>m_ubv_U</th><th>m_ubv_V</th><th>m_ubv_B</th><th>m_ubv_R</th><th>m_ubv_I</th></tr></thead>\n",
       "<thead><tr><th>solMass</th><th></th><th>K</th><th>W</th><th></th><th></th><th>solMass</th><th></th><th></th><th></th><th></th><th></th><th></th><th></th><th></th><th></th></tr></thead>\n",
       "<thead><tr><th>float64</th><th>float64</th><th>float64</th><th>float64</th><th>float64</th><th>bool</th><th>float64</th><th>float64</th><th>float64</th><th>bool</th><th>bool</th><th>float64</th><th>float64</th><th>float64</th><th>float64</th><th>float64</th></tr></thead>\n",
       "</table>"
      ],
      "text/plain": [
       "<Table length=0>\n",
       "  mass  systemMass   Teff     L      logg  ... m_ubv_V m_ubv_B m_ubv_R m_ubv_I\n",
       "solMass               K       W            ...                                \n",
       "float64  float64   float64 float64 float64 ... float64 float64 float64 float64\n",
       "------- ---------- ------- ------- ------- ... ------- ------- ------- -------"
      ]
     },
     "execution_count": 36,
     "metadata": {},
     "output_type": "execute_result"
    }
   ],
   "source": [
    "clus_1.star_systems[np.where(clus_1.star_systems['phase']==0)]"
   ]
  },
  {
   "cell_type": "code",
   "execution_count": 37,
   "metadata": {},
   "outputs": [
    {
     "data": {
      "text/plain": [
       "<matplotlib.legend.Legend at 0x7f9859561978>"
      ]
     },
     "execution_count": 37,
     "metadata": {},
     "output_type": "execute_result"
    },
    {
     "data": {
      "image/png": "[encoded data removed]",
      "text/plain": [
       "<Figure size 432x288 with 1 Axes>"
      ]
     },
     "metadata": {
      "needs_background": "light"
     },
     "output_type": "display_data"
    }
   ],
   "source": [
    "# Taking a look at the Binary Cluster vs Default Settings cluster Observer's HR Diagram\n",
    "# Remember to use a distance modulus!\n",
    "import matplotlib.pyplot as plt\n",
    "plt.plot(clus_1.star_systems['m_ubv_B']-clus_1.star_systems[\"m_ubv_V\"], clus_1.star_systems[\"m_ubv_V\"]-5*np.log10(100), \"r.\",label=\"BPASS\")\n",
    "plt.plot(clus_2.star_systems['m_ubv_B']-clus_2.star_systems[\"m_ubv_V\"], clus_2.star_systems[\"m_ubv_V\"]-5*np.log10(100), \"b+\", label=\"MISTv1\", alpha=0.2)\n",
    "plt.xlabel(\"B-V\")\n",
    "plt.ylabel(\"pseudo M_V\")\n",
    "plt.title(\"Color magnitude Diagram of clusters at solar metallicity and 10**8.2 years age\")\n",
    "plt.gca().invert_yaxis()\n",
    "plt.legend()"
   ]
  },
  {
   "cell_type": "markdown",
   "metadata": {},
   "source": [
    "One thing to note about the Binary_Cluster is that it does include the units as information for columns.\n",
    "The usual ResolvedCluster does not. Thus the latter has a disadvantage when we do comparisons with solar luminosity.\n",
    "\n",
    "In any case let's compare the actual masses of the cluster"
   ]
  },
  {
   "cell_type": "code",
   "execution_count": 38,
   "metadata": {},
   "outputs": [
    {
     "data": {
      "text/plain": [
       "4415.940752639209"
      ]
     },
     "execution_count": 38,
     "metadata": {},
     "output_type": "execute_result"
    }
   ],
   "source": [
    "np.sum(clus_1.star_systems['systemMass'])"
   ]
  },
  {
   "cell_type": "code",
   "execution_count": 39,
   "metadata": {},
   "outputs": [
    {
     "data": {
      "text/plain": [
       "1998.804264387845"
      ]
     },
     "execution_count": 39,
     "metadata": {},
     "output_type": "execute_result"
    }
   ],
   "source": [
    "np.sum(clus_2.star_systems['systemMass'])"
   ]
  }
 ],
 "metadata": {
  "kernelspec": {
   "display_name": "astroconda",
   "language": "python",
   "name": "astroconda"
  },
  "language_info": {
   "codemirror_mode": {
    "name": "ipython",
    "version": 3
   },
   "file_extension": ".py",
   "mimetype": "text/x-python",
   "name": "python",
   "nbconvert_exporter": "python",
   "pygments_lexer": "ipython3",
   "version": "3.7.3"
  }
 },
 "nbformat": 4,
 "nbformat_minor": 2
}
