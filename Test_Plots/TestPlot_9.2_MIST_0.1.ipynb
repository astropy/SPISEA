{
 "cells": [
  {
   "cell_type": "markdown",
   "metadata": {},
   "source": [
    "## Testing the BPASS isochrone at $10^{9.2}$ Years Age and Comparing with the MIST Model ($0.1Z_{\\odot}$ Metallicity)\n",
    "In this BPASS isochrone and cluster plot, I go over the BPASS isochrone for 9.2 billion years age, 0.1 times solar metallicity, AKs=0.0, and distance of 2000 parsecs from Earth. From the isochrone and cluster, we discuss several plots such as the log_g frequency distribution of the isochrone, the color magnitude diagram (B-V vs M_V), and the mass luminosity relationship of the cluster. "
   ]
  },
  {
   "cell_type": "code",
   "execution_count": 1,
   "metadata": {},
   "outputs": [
    {
     "name": "stderr",
     "output_type": "stream",
     "text": [
      "/opt/anaconda3/envs/astroconda/lib/python3.7/site-packages/pysynphot/locations.py:345: UserWarning: Extinction files not found in /g/lu/models/cdbs/extinction\n",
      "  warnings.warn('Extinction files not found in %s' % (extdir, ))\n",
      "/opt/anaconda3/envs/astroconda/lib/python3.7/site-packages/pysynphot/refs.py:125: UserWarning: No thermal tables found, no thermal calculations can be performed. No files found for /g/lu/models/cdbs/mtab/*_tmt.fits\n",
      "  'no thermal calculations can be performed. ' + str(e))\n"
     ]
    },
    {
     "name": "stdout",
     "output_type": "stream",
     "text": [
      ".//iso_9.20_0.00_02000_m10_IB\n",
      "We (re)compute\n"
     ]
    },
    {
     "name": "stderr",
     "output_type": "stream",
     "text": [
      "/opt/anaconda3/envs/astroconda/lib/python3.7/site-packages/astropy/units/quantity.py:479: RuntimeWarning: invalid value encountered in true_divide\n",
      "  result = super().__array_ufunc__(function, method, *arrays, **kwargs)\n",
      "/u/ryotainagaki/Desktop/PyPopStar/spisea/evolution.py:1807: RuntimeWarning: overflow encountered in power\n",
      "  (1 / cs.au) * un.m)\n",
      "/opt/anaconda3/envs/astroconda/lib/python3.7/site-packages/astropy/units/quantity.py:479: RuntimeWarning: divide by zero encountered in true_divide\n",
      "  result = super().__array_ufunc__(function, method, *arrays, **kwargs)\n"
     ]
    },
    {
     "name": "stdout",
     "output_type": "stream",
     "text": [
      "Changing to logg=5.00 for T= 24882 logg=5.96\n",
      "Changing to logg=5.00 for T= 21594 logg=5.57\n",
      "Changing to logg=5.00 for T= 18255 logg=5.15\n",
      "Changing to logg=5.00 for T= 24344 logg=7.21\n",
      "Changing to logg=5.00 for T= 23742 logg=7.18\n",
      "Changing to logg=5.00 for T= 18958 logg=5.15\n",
      "Changing to logg=5.00 for T= 24550 logg=7.29\n",
      "Changing to logg=5.00 for T= 23791 logg=5.80\n",
      "Changing to T= 50000 for T= 67073 logg=5.76\n",
      "Changing to logg=5.00 for T= 67073 logg=5.76\n",
      "Changing to logg=5.00 for T= 23945 logg=5.82\n",
      "Changing to logg=5.00 for T= 33534 logg=6.57\n",
      "Changing to logg=5.00 for T= 24339 logg=5.63\n",
      "Changing to logg=5.00 for T= 33652 logg=6.22\n",
      "Changing to logg=5.00 for T= 20715 logg=7.07\n",
      "Changing to logg=5.00 for T= 34515 logg=6.76\n",
      "Changing to logg=5.00 for T= 24678 logg=7.23\n",
      "Changing to logg=5.00 for T= 26201 logg=5.82\n",
      "Changing to logg=5.00 for T= 22989 logg=5.52\n",
      "Changing to T= 50000 for T=114496 logg=6.70\n",
      "Changing to logg=5.00 for T=114496 logg=6.70\n",
      "Changing to logg=5.00 for T= 23312 logg=7.37\n",
      "Changing to logg=5.00 for T= 24030 logg=7.31\n",
      "Changing to logg=5.00 for T= 25609 logg=5.75\n",
      "Changing to logg=5.00 for T= 27463 logg=5.91\n",
      "Changing to logg=5.00 for T= 24030 logg=7.35\n",
      "Changing to logg=5.00 for T= 24442 logg=7.18\n",
      "Changing to logg=5.00 for T= 27434 logg=5.90\n",
      "Changing to logg=5.00 for T= 25848 logg=5.76\n",
      "Changing to logg=5.00 for T= 31711 logg=6.59\n",
      "Changing to logg=5.00 for T= 37476 logg=6.98\n",
      "Changing to logg=5.00 for T= 39646 logg=6.99\n",
      "Changing to logg=5.00 for T= 21592 logg=5.57\n",
      "Changing to logg=5.00 for T= 24351 logg=5.62\n",
      "Changing to logg=5.00 for T= 30895 logg=6.47\n",
      "Changing to logg=5.00 for T= 17441 logg=5.06\n",
      "Changing to logg=5.00 for T= 24415 logg=7.27\n",
      "Changing to logg=5.00 for T= 35935 logg=6.68\n",
      "Changing to logg=5.00 for T= 40447 logg=7.77\n",
      "Changing to logg=5.00 for T= 35551 logg=6.91\n",
      "Changing to logg=5.00 for T= 24138 logg=7.28\n",
      "Changing to logg=5.00 for T= 22601 logg=7.33\n",
      "Changing to logg=5.00 for T= 17862 logg=5.03\n",
      "Changing to logg=2.00 for T=  9391 logg=1.87\n",
      "Changing to logg=5.00 for T= 20285 logg=5.44\n",
      "Changing to logg=5.00 for T= 35681 logg=6.08\n",
      "Changing to logg=5.00 for T= 39903 logg=7.00\n",
      "Changing to logg=5.00 for T= 32004 logg=6.49\n",
      "Changing to logg=5.00 for T= 29347 logg=7.82\n",
      "Changing to logg=5.00 for T= 45852 logg=7.73\n",
      "Changing to logg=5.00 for T= 23534 logg=7.23\n",
      "Changing to logg=5.00 for T= 23944 logg=7.35\n",
      "Changing to logg=5.00 for T= 30551 logg=6.30\n",
      "Changing to logg=5.00 for T= 33745 logg=6.64\n",
      "Changing to logg=5.00 for T= 32667 logg=6.05\n",
      "Changing to logg=5.00 for T= 31527 logg=6.41\n",
      "Changing to logg=5.00 for T= 33051 logg=6.90\n",
      "Changing to logg=5.00 for T= 34912 logg=6.10\n",
      "Changing to logg=5.00 for T= 29151 logg=5.95\n",
      "Changing to logg=5.00 for T= 27221 logg=6.02\n",
      "Changing to logg=5.00 for T= 24462 logg=5.95\n",
      "Changing to logg=5.00 for T= 26403 logg=5.88\n",
      "Changing to logg=5.00 for T= 27859 logg=6.06\n",
      "Changing to logg=5.00 for T= 35305 logg=7.05\n",
      "Changing to logg=5.00 for T= 34641 logg=7.04\n",
      "Changing to logg=2.50 for T= 14682 logg=2.04\n",
      "Changing to T=  2300 for T=  1904 logg=4.44\n",
      "Changing to T=  2300 for T=  1904 logg=4.44\n",
      "Changing to T=  2300 for T=  1904 logg=4.44\n",
      "Changing to logg=5.00 for T= 26735 logg=5.87\n",
      "Changing to logg=5.00 for T= 25841 logg=5.89\n",
      "Changing to logg=5.00 for T= 22451 logg=6.92\n",
      "Changing to T=  2300 for T=  1904 logg=4.44\n",
      "Changing to logg=5.00 for T= 21701 logg=7.25\n",
      "Changing to logg=5.00 for T= 27101 logg=5.95\n",
      "Changing to T=  2300 for T=  1904 logg=4.44\n",
      "Changing to logg=5.00 for T= 26553 logg=5.90\n",
      "Changing to T=  2300 for T=  1904 logg=4.44\n",
      "Changing to T=  2300 for T=  1904 logg=4.44\n",
      "Changing to T=  2300 for T=  1904 logg=4.44\n",
      "Changing to T=  2300 for T=  1904 logg=4.44\n",
      "Changing to logg=5.00 for T= 24647 logg=6.02\n",
      "Changing to logg=5.00 for T= 23856 logg=7.16\n",
      "Changing to T=  2300 for T=  1904 logg=4.44\n",
      "Changing to logg=5.00 for T= 22478 logg=6.94\n",
      "Changing to logg=5.00 for T= 26374 logg=5.88\n",
      "Changing to logg=5.00 for T= 42044 logg=7.78\n",
      "Changing to logg=2.00 for T= 10637 logg=1.83\n",
      "Changing to T=  2300 for T=  1731 logg=4.44\n",
      "Changing to logg=5.00 for T= 43656 logg=7.76\n",
      "Changing to logg=5.00 for T= 41944 logg=7.78\n",
      "Changing to logg=5.00 for T= 24848 logg=7.13\n",
      "Changing to logg=5.00 for T= 26437 logg=5.95\n",
      "Changing to T=  2300 for T=  1904 logg=4.44\n",
      "Changing to T=  2300 for T=  1904 logg=4.44\n",
      "Changing to logg=5.00 for T= 23744 logg=6.75\n",
      "Changing to logg=5.00 for T= 25489 logg=5.85\n",
      "Changing to logg=5.00 for T= 24240 logg=7.08\n",
      "Changing to T= 50000 for T= 89129 logg=7.12\n",
      "Changing to logg=5.00 for T= 89129 logg=7.12\n",
      "Changing to T=  2300 for T=  1731 logg=4.44\n",
      "Changing to logg=5.00 for T= 25507 logg=5.95\n",
      "Changing to T=  2300 for T=  1904 logg=4.44\n",
      "Changing to logg=5.00 for T= 22121 logg=5.48\n",
      "Changing to logg=5.00 for T= 22602 logg=6.94\n",
      "Changing to logg=5.00 for T= 26630 logg=5.89\n",
      "Changing to logg=2.50 for T= 11928 logg=1.96\n",
      "Changing to logg=5.00 for T= 24630 logg=6.01\n",
      "Changing to logg=5.00 for T= 29026 logg=6.07\n",
      "Changing to T=  2300 for T=  1904 logg=4.44\n",
      "Changing to logg=2.00 for T= 11707 logg=1.80\n",
      "Changing to logg=5.00 for T= 19124 logg=5.25\n",
      "Changing to logg=5.00 for T= 35859 logg=7.05\n",
      "Changing to T=  2300 for T=  1904 logg=4.44\n",
      "Changing to T=  2300 for T=  1904 logg=4.44\n",
      "Changing to logg=5.00 for T= 24652 logg=5.81\n",
      "Changing to logg=5.00 for T= 24180 logg=5.59\n",
      "Changing to T=  2300 for T=  1904 logg=4.44\n",
      "Changing to logg=5.00 for T= 22956 logg=6.98\n",
      "Changing to logg=2.00 for T=  9032 logg=1.82\n",
      "Changing to logg=5.00 for T= 25003 logg=5.75\n",
      "Changing to logg=5.00 for T= 22296 logg=7.06\n",
      "Changing to T= 50000 for T= 73748 logg=5.80\n",
      "Changing to logg=5.00 for T= 73748 logg=5.80\n",
      "Changing to logg=5.00 for T= 23957 logg=6.93\n",
      "Changing to T=  2300 for T=  1731 logg=4.44\n",
      "Changing to logg=5.00 for T= 26658 logg=5.86\n",
      "Changing to logg=5.00 for T= 23857 logg=6.80\n",
      "Changing to logg=5.00 for T= 23334 logg=7.02\n",
      "Changing to T=  2300 for T=  1904 logg=4.44\n",
      "Changing to logg=5.00 for T= 43707 logg=7.73\n",
      "Changing to logg=5.00 for T= 25536 logg=6.06\n",
      "Making photometry for isochrone: log(t) = 9.20  AKs = 0.00  dist = 2000\n",
      "     Starting at:  2021-08-10 19:48:02.803188   Usually takes ~5 minutes\n",
      "Starting filter: ubv,U   Elapsed time: 0.01 seconds\n",
      "Starting synthetic photometry\n",
      "M =   0.180 Msun  T =  3463 K  m_ubv_U = 26.26\n",
      "M =   0.980 Msun  T =  6525 K  m_ubv_U = 16.05\n",
      "M =   2.500 Msun  T =  7653 K  m_ubv_U = 24.79\n",
      "M =   3.200 Msun  T =  7964 K  m_ubv_U = 24.91\n",
      "M =   0.501 Msun  T =   nan K  m_ubv_U =  nan\n",
      "M =   1.400 Msun  T =   nan K  m_ubv_U =  nan\n",
      "M =   1.400 Msun  T =  8330 K  m_ubv_U = 13.82\n",
      "M =   1.259 Msun  T =   nan K  m_ubv_U =  nan\n",
      "M =   2.700 Msun  T =  7452 K  m_ubv_U = 25.09\n",
      "M =   1.700 Msun  T = 15838 K  m_ubv_U = 21.39\n",
      "M =   2.500 Msun  T =  7643 K  m_ubv_U = 24.79\n",
      "M =   2.700 Msun  T =  8076 K  m_ubv_U = 25.12\n",
      "M =   0.501 Msun  T =   nan K  m_ubv_U =  nan\n",
      "M =   3.981 Msun  T =   nan K  m_ubv_U =  nan\n",
      "M =   1.700 Msun  T = 13872 K  m_ubv_U = 9.11\n",
      "M =   5.000 Msun  T =  9914 K  m_ubv_U = 24.81\n",
      "M =   1.000 Msun  T =   nan K  m_ubv_U =  nan\n",
      "M =   1.259 Msun  T =  3090 K  m_ubv_U = 29.59\n",
      "M =   1.700 Msun  T = 15821 K  m_ubv_U = 21.40\n",
      "M =   1.600 Msun  T =  4351 K  m_ubv_U = 11.59\n",
      "M =   0.398 Msun  T =   nan K  m_ubv_U =  nan\n",
      "M =   2.700 Msun  T =  6423 K  m_ubv_U = 25.62\n",
      "M =   0.631 Msun  T =   nan K  m_ubv_U =  nan\n",
      "M =   3.000 Msun  T =  7807 K  m_ubv_U = 24.96\n",
      "M =   2.700 Msun  T =  8415 K  m_ubv_U = 24.78\n",
      "M =   2.500 Msun  T =  7654 K  m_ubv_U = 24.79\n",
      "M =   2.700 Msun  T =  8352 K  m_ubv_U = 25.05\n",
      "M =   3.700 Msun  T = 10894 K  m_ubv_U = 23.89\n",
      "M =   5.000 Msun  T =  9554 K  m_ubv_U = 24.17\n",
      "M =   3.000 Msun  T =  7806 K  m_ubv_U = 24.96\n",
      "M =   1.400 Msun  T =   nan K  m_ubv_U =  nan\n",
      "M =   1.700 Msun  T =  7721 K  m_ubv_U = 24.99\n",
      "M =   1.100 Msun  T =  7119 K  m_ubv_U = 15.31\n",
      "M =   0.794 Msun  T =   nan K  m_ubv_U =  nan\n",
      "M =   1.600 Msun  T =  4352 K  m_ubv_U = 11.59\n",
      "M =   4.000 Msun  T =  6647 K  m_ubv_U = 25.69\n",
      "M =   0.631 Msun  T =  3090 K  m_ubv_U = 29.40\n",
      "M =   3.500 Msun  T =  8232 K  m_ubv_U = 24.83\n",
      "M =   1.400 Msun  T =   nan K  m_ubv_U =  nan\n",
      "M =   1.400 Msun  T =   nan K  m_ubv_U =  nan\n",
      "M =   1.100 Msun  T =  7122 K  m_ubv_U = 15.30\n",
      "M =   0.631 Msun  T =   nan K  m_ubv_U =  nan\n",
      "M =   1.300 Msun  T =  8203 K  m_ubv_U = 14.29\n",
      "M =   3.200 Msun  T =  8462 K  m_ubv_U = 24.77\n",
      "M =   1.300 Msun  T =  8186 K  m_ubv_U = 14.28\n",
      "M =   1.400 Msun  T =  7439 K  m_ubv_U = 25.09\n",
      "M =   1.500 Msun  T =  8186 K  m_ubv_U = 13.38\n",
      "M =   1.900 Msun  T =  8197 K  m_ubv_U = 24.38\n",
      "M =   1.400 Msun  T =  8353 K  m_ubv_U = 13.82\n",
      "M =   1.000 Msun  T =  8008 K  m_ubv_U = 13.35\n",
      "M =   1.300 Msun  T =  8186 K  m_ubv_U = 14.28\n",
      "M =   3.500 Msun  T =  7720 K  m_ubv_U = 25.22\n",
      "M =   1.250 Msun  T =  7745 K  m_ubv_U = 14.98\n",
      "M =   1.280 Msun  T =  7867 K  m_ubv_U = 14.92\n",
      "M =   4.500 Msun  T =  9122 K  m_ubv_U = 24.24\n",
      "M =   1.500 Msun  T =  8003 K  m_ubv_U = 13.34\n",
      "M =   0.700 Msun  T =  4039 K  m_ubv_U = 21.14\n",
      "M =   2.700 Msun  T =  7456 K  m_ubv_U = 25.09\n",
      "M =   2.160 Msun  T = 11886 K  m_ubv_U = 12.37\n",
      "M =   0.510 Msun  T =  4230 K  m_ubv_U = 21.93\n",
      "M =   0.250 Msun  T =  3732 K  m_ubv_U = 24.71\n",
      "M =   1.350 Msun  T =   nan K  m_ubv_U =  nan\n",
      "M =   1.200 Msun  T =  7750 K  m_ubv_U = 14.82\n",
      "M =   6.000 Msun  T =  6940 K  m_ubv_U = 25.54\n",
      "M =   1.530 Msun  T =  8322 K  m_ubv_U = 13.41\n",
      "M =   4.500 Msun  T = 15639 K  m_ubv_U = 9.50\n",
      "M =   2.300 Msun  T =  7302 K  m_ubv_U = 24.94\n",
      "M =   4.000 Msun  T = 10615 K  m_ubv_U = 23.84\n",
      "M =   1.360 Msun  T =  8930 K  m_ubv_U = 14.19\n",
      "M =   0.320 Msun  T =  3787 K  m_ubv_U = 24.13\n",
      "M =   3.200 Msun  T =  9927 K  m_ubv_U = 23.94\n",
      "M =   1.620 Msun  T =  9464 K  m_ubv_U = 13.74\n",
      "M =   1.500 Msun  T =  7959 K  m_ubv_U = 13.33\n",
      "M =   1.800 Msun  T = 10985 K  m_ubv_U = 13.36\n",
      "M =   0.540 Msun  T =   nan K  m_ubv_U =  nan\n",
      "M =   1.250 Msun  T =  7735 K  m_ubv_U = 14.98\n",
      "M =   0.810 Msun  T =   nan K  m_ubv_U =  nan\n",
      "M =   3.330 Msun  T = 12121 K  m_ubv_U = 9.94\n",
      "M =   4.000 Msun  T = 14110 K  m_ubv_U = 9.40\n",
      "M =   1.800 Msun  T = 11016 K  m_ubv_U = 13.36\n",
      "M =   1.900 Msun  T =  8337 K  m_ubv_U = 23.93\n",
      "M =   1.190 Msun  T =   nan K  m_ubv_U =  nan\n",
      "M =   0.220 Msun  T =  3700 K  m_ubv_U = 25.05\n",
      "M =   1.600 Msun  T =  4338 K  m_ubv_U = 11.57\n",
      "M =   0.800 Msun  T =  4616 K  m_ubv_U = 19.38\n",
      "M =   0.400 Msun  T =  3899 K  m_ubv_U = 23.38\n",
      "M =   5.000 Msun  T =  9191 K  m_ubv_U = 24.22\n",
      "M =   0.350 Msun  T =  3818 K  m_ubv_U = 23.88\n",
      "M =   1.300 Msun  T =  8270 K  m_ubv_U = 14.37\n",
      "M =   8.500 Msun  T =  7081 K  m_ubv_U = 24.04\n",
      "M =   0.660 Msun  T =  3809 K  m_ubv_U = 21.90\n",
      "M =   2.700 Msun  T =  7456 K  m_ubv_U = 25.09\n",
      "M =   0.390 Msun  T =  3880 K  m_ubv_U = 23.48\n",
      "M =   0.320 Msun  T =   nan K  m_ubv_U =  nan\n",
      "M =   0.910 Msun  T =  5251 K  m_ubv_U = 17.83\n",
      "M =   1.260 Msun  T =   nan K  m_ubv_U =  nan\n",
      "M =   0.600 Msun  T =  4611 K  m_ubv_U = 20.52\n",
      "M =   0.570 Msun  T =   nan K  m_ubv_U =  nan\n",
      "M =   1.260 Msun  T =  8137 K  m_ubv_U = 14.62\n",
      "M =   0.500 Msun  T =   nan K  m_ubv_U =  nan\n",
      "M =   0.520 Msun  T =  3001 K  m_ubv_U = 25.65\n",
      "M =   0.350 Msun  T =   nan K  m_ubv_U =  nan\n",
      "Starting filter: ubv,V   Elapsed time: 54.14 seconds\n",
      "Starting synthetic photometry\n",
      "M =   0.180 Msun  T =  3463 K  m_ubv_V = 23.27\n",
      "M =   0.980 Msun  T =  6525 K  m_ubv_V = 15.84\n",
      "M =   2.500 Msun  T =  7653 K  m_ubv_V = 24.93\n",
      "M =   3.200 Msun  T =  7964 K  m_ubv_V = 25.11\n",
      "M =   0.501 Msun  T =   nan K  m_ubv_V =  nan\n",
      "M =   1.400 Msun  T =   nan K  m_ubv_V =  nan\n",
      "M =   1.400 Msun  T =  8330 K  m_ubv_V = 13.64\n",
      "M =   1.259 Msun  T =   nan K  m_ubv_V =  nan\n",
      "M =   2.700 Msun  T =  7452 K  m_ubv_V = 25.18\n",
      "M =   1.700 Msun  T = 15838 K  m_ubv_V = 22.40\n",
      "M =   2.500 Msun  T =  7643 K  m_ubv_V = 24.93\n",
      "M =   2.700 Msun  T =  8076 K  m_ubv_V = 25.35\n",
      "M =   0.501 Msun  T =   nan K  m_ubv_V =  nan\n",
      "M =   3.981 Msun  T =   nan K  m_ubv_V =  nan\n",
      "M =   1.700 Msun  T = 13872 K  m_ubv_V = 9.78\n",
      "M =   5.000 Msun  T =  9914 K  m_ubv_V = 25.35\n",
      "M =   1.000 Msun  T =   nan K  m_ubv_V =  nan\n",
      "M =   1.259 Msun  T =  3090 K  m_ubv_V = 26.02\n",
      "M =   1.700 Msun  T = 15821 K  m_ubv_V = 22.40\n",
      "M =   1.600 Msun  T =  4351 K  m_ubv_V = 9.54\n",
      "M =   0.398 Msun  T =   nan K  m_ubv_V =  nan\n",
      "M =   2.700 Msun  T =  6423 K  m_ubv_V = 25.42\n",
      "M =   0.631 Msun  T =   nan K  m_ubv_V =  nan\n",
      "M =   3.000 Msun  T =  7807 K  m_ubv_V = 25.13\n",
      "M =   2.700 Msun  T =  8415 K  m_ubv_V = 25.08\n",
      "M =   2.500 Msun  T =  7654 K  m_ubv_V = 24.93\n",
      "M =   2.700 Msun  T =  8352 K  m_ubv_V = 25.33\n",
      "M =   3.700 Msun  T = 10894 K  m_ubv_V = 24.54\n",
      "M =   5.000 Msun  T =  9554 K  m_ubv_V = 24.65\n",
      "M =   3.000 Msun  T =  7806 K  m_ubv_V = 25.13\n",
      "M =   1.400 Msun  T =   nan K  m_ubv_V =  nan\n",
      "M =   1.700 Msun  T =  7721 K  m_ubv_V = 25.14\n",
      "M =   1.100 Msun  T =  7119 K  m_ubv_V = 15.14\n",
      "M =   0.794 Msun  T =   nan K  m_ubv_V =  nan\n",
      "M =   1.600 Msun  T =  4352 K  m_ubv_V = 9.54\n",
      "M =   4.000 Msun  T =  6647 K  m_ubv_V = 25.56\n",
      "M =   0.631 Msun  T =  3090 K  m_ubv_V = 26.02\n",
      "M =   3.500 Msun  T =  8232 K  m_ubv_V = 25.09\n",
      "M =   1.400 Msun  T =   nan K  m_ubv_V =  nan\n",
      "M =   1.400 Msun  T =   nan K  m_ubv_V =  nan\n",
      "M =   1.100 Msun  T =  7122 K  m_ubv_V = 15.13\n",
      "M =   0.631 Msun  T =   nan K  m_ubv_V =  nan\n",
      "M =   1.300 Msun  T =  8203 K  m_ubv_V = 14.11\n",
      "M =   3.200 Msun  T =  8462 K  m_ubv_V = 25.08\n",
      "M =   1.300 Msun  T =  8186 K  m_ubv_V = 14.10\n",
      "M =   1.400 Msun  T =  7439 K  m_ubv_V = 25.18\n",
      "M =   1.500 Msun  T =  8186 K  m_ubv_V = 13.18\n",
      "M =   1.900 Msun  T =  8197 K  m_ubv_V = 24.64\n",
      "M =   1.400 Msun  T =  8353 K  m_ubv_V = 13.64\n",
      "M =   1.000 Msun  T =  8008 K  m_ubv_V = 13.14\n",
      "M =   1.300 Msun  T =  8186 K  m_ubv_V = 14.10\n",
      "M =   3.500 Msun  T =  7720 K  m_ubv_V = 25.38\n",
      "M =   1.250 Msun  T =  7745 K  m_ubv_V = 14.81\n",
      "M =   1.280 Msun  T =  7867 K  m_ubv_V = 14.75\n",
      "M =   4.500 Msun  T =  9122 K  m_ubv_V = 24.66\n",
      "M =   1.500 Msun  T =  8003 K  m_ubv_V = 13.13\n",
      "M =   0.700 Msun  T =  4039 K  m_ubv_V = 19.04\n",
      "M =   2.700 Msun  T =  7456 K  m_ubv_V = 25.18\n",
      "M =   2.160 Msun  T = 11886 K  m_ubv_V = 12.70\n",
      "M =   0.510 Msun  T =  4230 K  m_ubv_V = 20.03\n",
      "M =   0.250 Msun  T =  3732 K  m_ubv_V = 22.19\n",
      "M =   1.350 Msun  T =   nan K  m_ubv_V =  nan\n",
      "M =   1.200 Msun  T =  7750 K  m_ubv_V = 14.64\n",
      "M =   6.000 Msun  T =  6940 K  m_ubv_V = 25.50\n",
      "M =   1.530 Msun  T =  8322 K  m_ubv_V = 13.23\n",
      "M =   4.500 Msun  T = 15639 K  m_ubv_V = 10.21\n",
      "M =   2.300 Msun  T =  7302 K  m_ubv_V = 24.99\n",
      "M =   4.000 Msun  T = 10615 K  m_ubv_V = 24.47\n",
      "M =   1.360 Msun  T =  8930 K  m_ubv_V = 14.07\n",
      "M =   0.320 Msun  T =  3787 K  m_ubv_V = 21.69\n",
      "M =   3.200 Msun  T =  9927 K  m_ubv_V = 24.48\n",
      "M =   1.620 Msun  T =  9464 K  m_ubv_V = 13.69\n",
      "M =   1.500 Msun  T =  7959 K  m_ubv_V = 13.12\n",
      "M =   1.800 Msun  T = 10985 K  m_ubv_V = 13.56\n",
      "M =   0.540 Msun  T =   nan K  m_ubv_V =  nan\n",
      "M =   1.250 Msun  T =  7735 K  m_ubv_V = 14.81\n",
      "M =   0.810 Msun  T =   nan K  m_ubv_V =  nan\n",
      "M =   3.330 Msun  T = 12121 K  m_ubv_V = 10.34\n",
      "M =   4.000 Msun  T = 14110 K  m_ubv_V = 10.01\n",
      "M =   1.800 Msun  T = 11016 K  m_ubv_V = 13.56\n",
      "M =   1.900 Msun  T =  8337 K  m_ubv_V = 24.22\n",
      "M =   1.190 Msun  T =   nan K  m_ubv_V =  nan\n",
      "M =   0.220 Msun  T =  3700 K  m_ubv_V = 22.46\n",
      "M =   1.600 Msun  T =  4338 K  m_ubv_V = 9.49\n",
      "M =   0.800 Msun  T =  4616 K  m_ubv_V = 17.93\n",
      "M =   0.400 Msun  T =  3899 K  m_ubv_V = 21.10\n",
      "M =   5.000 Msun  T =  9191 K  m_ubv_V = 24.65\n",
      "M =   0.350 Msun  T =  3818 K  m_ubv_V = 21.49\n",
      "M =   1.300 Msun  T =  8270 K  m_ubv_V = 14.19\n",
      "M =   8.500 Msun  T =  7081 K  m_ubv_V = 24.04\n",
      "M =   0.660 Msun  T =  3809 K  m_ubv_V = 19.55\n",
      "M =   2.700 Msun  T =  7456 K  m_ubv_V = 25.18\n",
      "M =   0.390 Msun  T =  3880 K  m_ubv_V = 21.18\n",
      "M =   0.320 Msun  T =   nan K  m_ubv_V =  nan\n",
      "M =   0.910 Msun  T =  5251 K  m_ubv_V = 16.99\n",
      "M =   1.260 Msun  T =   nan K  m_ubv_V =  nan\n",
      "M =   0.600 Msun  T =  4611 K  m_ubv_V = 19.02\n",
      "M =   0.570 Msun  T =   nan K  m_ubv_V =  nan\n",
      "M =   1.260 Msun  T =  8137 K  m_ubv_V = 14.44\n",
      "M =   0.500 Msun  T =   nan K  m_ubv_V =  nan\n",
      "M =   0.520 Msun  T =  3001 K  m_ubv_V = 22.03\n",
      "M =   0.350 Msun  T =   nan K  m_ubv_V =  nan\n",
      "Starting filter: ubv,B   Elapsed time: 105.42 seconds\n",
      "Starting synthetic photometry\n",
      "M =   0.180 Msun  T =  3463 K  m_ubv_B = 24.95\n",
      "M =   0.980 Msun  T =  6525 K  m_ubv_B = 16.26\n",
      "M =   2.500 Msun  T =  7653 K  m_ubv_B = 25.30\n",
      "M =   3.200 Msun  T =  7964 K  m_ubv_B = 25.45\n",
      "M =   0.501 Msun  T =   nan K  m_ubv_B =  nan\n",
      "M =   1.400 Msun  T =   nan K  m_ubv_B =  nan\n",
      "M =   1.400 Msun  T =  8330 K  m_ubv_B = 13.77\n",
      "M =   1.259 Msun  T =   nan K  m_ubv_B =  nan\n",
      "M =   2.700 Msun  T =  7452 K  m_ubv_B = 25.57\n",
      "M =   1.700 Msun  T = 15838 K  m_ubv_B = 22.32\n",
      "M =   2.500 Msun  T =  7643 K  m_ubv_B = 25.30\n",
      "M =   2.700 Msun  T =  8076 K  m_ubv_B = 25.67\n",
      "M =   0.501 Msun  T =   nan K  m_ubv_B =  nan\n",
      "M =   3.981 Msun  T =   nan K  m_ubv_B =  nan\n",
      "M =   1.700 Msun  T = 13872 K  m_ubv_B = 9.65\n",
      "M =   5.000 Msun  T =  9914 K  m_ubv_B = 25.52\n",
      "M =   1.000 Msun  T =   nan K  m_ubv_B =  nan\n",
      "M =   1.259 Msun  T =  3090 K  m_ubv_B = 27.90\n",
      "M =   1.700 Msun  T = 15821 K  m_ubv_B = 22.32\n",
      "M =   1.600 Msun  T =  4351 K  m_ubv_B = 10.75\n",
      "M =   0.398 Msun  T =   nan K  m_ubv_B =  nan\n",
      "M =   2.700 Msun  T =  6423 K  m_ubv_B = 25.96\n",
      "M =   0.631 Msun  T =   nan K  m_ubv_B =  nan\n",
      "M =   3.000 Msun  T =  7807 K  m_ubv_B = 25.48\n",
      "M =   2.700 Msun  T =  8415 K  m_ubv_B = 25.37\n",
      "M =   2.500 Msun  T =  7654 K  m_ubv_B = 25.30\n",
      "M =   2.700 Msun  T =  8352 K  m_ubv_B = 25.63\n",
      "M =   3.700 Msun  T = 10894 K  m_ubv_B = 24.65\n",
      "M =   5.000 Msun  T =  9554 K  m_ubv_B = 24.84\n",
      "M =   3.000 Msun  T =  7806 K  m_ubv_B = 25.48\n",
      "M =   1.400 Msun  T =   nan K  m_ubv_B =  nan\n",
      "M =   1.700 Msun  T =  7721 K  m_ubv_B = 25.50\n",
      "M =   1.100 Msun  T =  7119 K  m_ubv_B = 15.45\n",
      "M =   0.794 Msun  T =   nan K  m_ubv_B =  nan\n",
      "M =   1.600 Msun  T =  4352 K  m_ubv_B = 10.75\n",
      "M =   4.000 Msun  T =  6647 K  m_ubv_B = 26.07\n",
      "M =   0.631 Msun  T =  3090 K  m_ubv_B = 27.86\n",
      "M =   3.500 Msun  T =  8232 K  m_ubv_B = 25.40\n",
      "M =   1.400 Msun  T =   nan K  m_ubv_B =  nan\n",
      "M =   1.400 Msun  T =   nan K  m_ubv_B =  nan\n",
      "M =   1.100 Msun  T =  7122 K  m_ubv_B = 15.44\n",
      "M =   0.631 Msun  T =   nan K  m_ubv_B =  nan\n",
      "M =   1.300 Msun  T =  8203 K  m_ubv_B = 14.27\n",
      "M =   3.200 Msun  T =  8462 K  m_ubv_B = 25.36\n",
      "M =   1.300 Msun  T =  8186 K  m_ubv_B = 14.26\n",
      "M =   1.400 Msun  T =  7439 K  m_ubv_B = 25.58\n",
      "M =   1.500 Msun  T =  8186 K  m_ubv_B = 13.32\n",
      "M =   1.900 Msun  T =  8197 K  m_ubv_B = 24.95\n",
      "M =   1.400 Msun  T =  8353 K  m_ubv_B = 13.77\n",
      "M =   1.000 Msun  T =  8008 K  m_ubv_B = 13.30\n",
      "M =   1.300 Msun  T =  8186 K  m_ubv_B = 14.26\n",
      "M =   3.500 Msun  T =  7720 K  m_ubv_B = 25.74\n",
      "M =   1.250 Msun  T =  7745 K  m_ubv_B = 15.04\n",
      "M =   1.280 Msun  T =  7867 K  m_ubv_B = 14.96\n",
      "M =   4.500 Msun  T =  9122 K  m_ubv_B = 24.89\n",
      "M =   1.500 Msun  T =  8003 K  m_ubv_B = 13.29\n",
      "M =   0.700 Msun  T =  4039 K  m_ubv_B = 20.33\n",
      "M =   2.700 Msun  T =  7456 K  m_ubv_B = 25.57\n",
      "M =   2.160 Msun  T = 11886 K  m_ubv_B = 12.63\n",
      "M =   0.510 Msun  T =  4230 K  m_ubv_B = 21.21\n",
      "M =   0.250 Msun  T =  3732 K  m_ubv_B = 23.68\n",
      "M =   1.350 Msun  T =   nan K  m_ubv_B =  nan\n",
      "M =   1.200 Msun  T =  7750 K  m_ubv_B = 14.87\n",
      "M =   6.000 Msun  T =  6940 K  m_ubv_B = 25.96\n",
      "M =   1.530 Msun  T =  8322 K  m_ubv_B = 13.36\n",
      "M =   4.500 Msun  T = 15639 K  m_ubv_B = 10.06\n",
      "M =   2.300 Msun  T =  7302 K  m_ubv_B = 25.41\n",
      "M =   4.000 Msun  T = 10615 K  m_ubv_B = 24.59\n",
      "M =   1.360 Msun  T =  8930 K  m_ubv_B = 14.15\n",
      "M =   0.320 Msun  T =  3787 K  m_ubv_B = 23.15\n",
      "M =   3.200 Msun  T =  9927 K  m_ubv_B = 24.65\n",
      "M =   1.620 Msun  T =  9464 K  m_ubv_B = 13.74\n",
      "M =   1.500 Msun  T =  7959 K  m_ubv_B = 13.28\n",
      "M =   1.800 Msun  T = 10985 K  m_ubv_B = 13.52\n",
      "M =   0.540 Msun  T =   nan K  m_ubv_B =  nan\n",
      "M =   1.250 Msun  T =  7735 K  m_ubv_B = 15.04\n",
      "M =   0.810 Msun  T =   nan K  m_ubv_B =  nan\n",
      "M =   3.330 Msun  T = 12121 K  m_ubv_B = 10.25\n",
      "M =   4.000 Msun  T = 14110 K  m_ubv_B = 9.88\n",
      "M =   1.800 Msun  T = 11016 K  m_ubv_B = 13.52\n",
      "M =   1.900 Msun  T =  8337 K  m_ubv_B = 24.51\n",
      "M =   1.190 Msun  T =   nan K  m_ubv_B =  nan\n",
      "M =   0.220 Msun  T =  3700 K  m_ubv_B = 23.98\n",
      "M =   1.600 Msun  T =  4338 K  m_ubv_B = 10.71\n",
      "M =   0.800 Msun  T =  4616 K  m_ubv_B = 18.90\n",
      "M =   0.400 Msun  T =  3899 K  m_ubv_B = 22.48\n",
      "M =   5.000 Msun  T =  9191 K  m_ubv_B = 24.87\n",
      "M =   0.350 Msun  T =  3818 K  m_ubv_B = 22.92\n",
      "M =   1.300 Msun  T =  8270 K  m_ubv_B = 14.35\n",
      "M =   8.500 Msun  T =  7081 K  m_ubv_B = 24.48\n",
      "M =   0.660 Msun  T =  3809 K  m_ubv_B = 20.97\n",
      "M =   2.700 Msun  T =  7456 K  m_ubv_B = 25.57\n",
      "M =   0.390 Msun  T =  3880 K  m_ubv_B = 22.57\n",
      "M =   0.320 Msun  T =   nan K  m_ubv_B =  nan\n",
      "M =   0.910 Msun  T =  5251 K  m_ubv_B = 17.77\n",
      "M =   1.260 Msun  T =   nan K  m_ubv_B =  nan\n",
      "M =   0.600 Msun  T =  4611 K  m_ubv_B = 20.01\n",
      "M =   0.570 Msun  T =   nan K  m_ubv_B =  nan\n",
      "M =   1.260 Msun  T =  8137 K  m_ubv_B = 14.62\n",
      "M =   0.500 Msun  T =   nan K  m_ubv_B =  nan\n",
      "M =   0.520 Msun  T =  3001 K  m_ubv_B = 23.93\n",
      "M =   0.350 Msun  T =   nan K  m_ubv_B =  nan\n",
      "Starting filter: ubv,R   Elapsed time: 152.78 seconds\n",
      "Starting synthetic photometry\n",
      "M =   0.180 Msun  T =  3463 K  m_ubv_R = 22.38\n",
      "M =   0.980 Msun  T =  6525 K  m_ubv_R = 15.60\n",
      "M =   2.500 Msun  T =  7653 K  m_ubv_R = 24.71\n",
      "M =   3.200 Msun  T =  7964 K  m_ubv_R = 24.91\n",
      "M =   0.501 Msun  T =   nan K  m_ubv_R =  nan\n",
      "M =   1.400 Msun  T =   nan K  m_ubv_R =  nan\n",
      "M =   1.400 Msun  T =  8330 K  m_ubv_R = 13.57\n",
      "M =   1.259 Msun  T =   nan K  m_ubv_R =  nan\n",
      "M =   2.700 Msun  T =  7452 K  m_ubv_R = 24.95\n",
      "M =   1.700 Msun  T = 15838 K  m_ubv_R = 22.39\n",
      "M =   2.500 Msun  T =  7643 K  m_ubv_R = 24.71\n",
      "M =   2.700 Msun  T =  8076 K  m_ubv_R = 25.15\n",
      "M =   0.501 Msun  T =   nan K  m_ubv_R =  nan\n",
      "M =   3.981 Msun  T =   nan K  m_ubv_R =  nan\n",
      "M =   1.700 Msun  T = 13872 K  m_ubv_R = 9.81\n",
      "M =   5.000 Msun  T =  9914 K  m_ubv_R = 25.23\n",
      "M =   1.000 Msun  T =   nan K  m_ubv_R =  nan\n",
      "M =   1.259 Msun  T =  3090 K  m_ubv_R = 25.01\n",
      "M =   1.700 Msun  T = 15821 K  m_ubv_R = 22.39\n",
      "M =   1.600 Msun  T =  4351 K  m_ubv_R = 8.97\n",
      "M =   0.398 Msun  T =   nan K  m_ubv_R =  nan\n",
      "M =   2.700 Msun  T =  6423 K  m_ubv_R = 25.11\n",
      "M =   0.631 Msun  T =   nan K  m_ubv_R =  nan\n",
      "M =   3.000 Msun  T =  7807 K  m_ubv_R = 24.92\n",
      "M =   2.700 Msun  T =  8415 K  m_ubv_R = 24.90\n",
      "M =   2.500 Msun  T =  7654 K  m_ubv_R = 24.71\n",
      "M =   2.700 Msun  T =  8352 K  m_ubv_R = 25.15\n",
      "M =   3.700 Msun  T = 10894 K  m_ubv_R = 24.45\n",
      "M =   5.000 Msun  T =  9554 K  m_ubv_R = 24.52\n",
      "M =   3.000 Msun  T =  7806 K  m_ubv_R = 24.92\n",
      "M =   1.400 Msun  T =   nan K  m_ubv_R =  nan\n",
      "M =   1.700 Msun  T =  7721 K  m_ubv_R = 24.93\n",
      "M =   1.100 Msun  T =  7119 K  m_ubv_R = 14.95\n",
      "M =   0.794 Msun  T =   nan K  m_ubv_R =  nan\n",
      "M =   1.600 Msun  T =  4352 K  m_ubv_R = 8.97\n",
      "M =   4.000 Msun  T =  6647 K  m_ubv_R = 25.27\n",
      "M =   0.631 Msun  T =  3090 K  m_ubv_R = 25.01\n",
      "M =   3.500 Msun  T =  8232 K  m_ubv_R = 24.90\n",
      "M =   1.400 Msun  T =   nan K  m_ubv_R =  nan\n",
      "M =   1.400 Msun  T =   nan K  m_ubv_R =  nan\n",
      "M =   1.100 Msun  T =  7122 K  m_ubv_R = 14.95\n",
      "M =   0.631 Msun  T =   nan K  m_ubv_R =  nan\n",
      "M =   1.300 Msun  T =  8203 K  m_ubv_R = 14.03\n",
      "M =   3.200 Msun  T =  8462 K  m_ubv_R = 24.90\n",
      "M =   1.300 Msun  T =  8186 K  m_ubv_R = 14.02\n",
      "M =   1.400 Msun  T =  7439 K  m_ubv_R = 24.95\n",
      "M =   1.500 Msun  T =  8186 K  m_ubv_R = 13.11\n",
      "M =   1.900 Msun  T =  8197 K  m_ubv_R = 24.45\n",
      "M =   1.400 Msun  T =  8353 K  m_ubv_R = 13.58\n",
      "M =   1.000 Msun  T =  8008 K  m_ubv_R = 13.05\n",
      "M =   1.300 Msun  T =  8186 K  m_ubv_R = 14.02\n",
      "M =   3.500 Msun  T =  7720 K  m_ubv_R = 25.16\n",
      "M =   1.250 Msun  T =  7745 K  m_ubv_R = 14.68\n",
      "M =   1.280 Msun  T =  7867 K  m_ubv_R = 14.64\n",
      "M =   4.500 Msun  T =  9122 K  m_ubv_R = 24.51\n",
      "M =   1.500 Msun  T =  8003 K  m_ubv_R = 13.04\n",
      "M =   0.700 Msun  T =  4039 K  m_ubv_R = 18.33\n",
      "M =   2.700 Msun  T =  7456 K  m_ubv_R = 24.95\n",
      "M =   2.160 Msun  T = 11886 K  m_ubv_R = 12.73\n",
      "M =   0.510 Msun  T =  4230 K  m_ubv_R = 19.36\n",
      "M =   0.250 Msun  T =  3732 K  m_ubv_R = 21.37\n",
      "M =   1.350 Msun  T =   nan K  m_ubv_R =  nan\n",
      "M =   1.200 Msun  T =  7750 K  m_ubv_R = 14.52\n",
      "M =   6.000 Msun  T =  6940 K  m_ubv_R = 25.23\n",
      "M =   1.530 Msun  T =  8322 K  m_ubv_R = 13.16\n",
      "M =   4.500 Msun  T = 15639 K  m_ubv_R = 10.26\n",
      "M =   2.300 Msun  T =  7302 K  m_ubv_R = 24.75\n",
      "M =   4.000 Msun  T = 10615 K  m_ubv_R = 24.37\n",
      "M =   1.360 Msun  T =  8930 K  m_ubv_R = 14.04\n",
      "M =   0.320 Msun  T =  3787 K  m_ubv_R = 20.89\n",
      "M =   3.200 Msun  T =  9927 K  m_ubv_R = 24.36\n",
      "M =   1.620 Msun  T =  9464 K  m_ubv_R = 13.68\n",
      "M =   1.500 Msun  T =  7959 K  m_ubv_R = 13.03\n",
      "M =   1.800 Msun  T = 10985 K  m_ubv_R = 13.58\n",
      "M =   0.540 Msun  T =   nan K  m_ubv_R =  nan\n",
      "M =   1.250 Msun  T =  7735 K  m_ubv_R = 14.68\n",
      "M =   0.810 Msun  T =   nan K  m_ubv_R =  nan\n",
      "M =   3.330 Msun  T = 12121 K  m_ubv_R = 10.37\n",
      "M =   4.000 Msun  T = 14110 K  m_ubv_R = 10.05\n",
      "M =   1.800 Msun  T = 11016 K  m_ubv_R = 13.59\n",
      "M =   1.900 Msun  T =  8337 K  m_ubv_R = 24.04\n",
      "M =   1.190 Msun  T =   nan K  m_ubv_R =  nan\n",
      "M =   0.220 Msun  T =  3700 K  m_ubv_R = 21.64\n",
      "M =   1.600 Msun  T =  4338 K  m_ubv_R = 8.92\n",
      "M =   0.800 Msun  T =  4616 K  m_ubv_R = 17.39\n",
      "M =   0.400 Msun  T =  3899 K  m_ubv_R = 20.33\n",
      "M =   5.000 Msun  T =  9191 K  m_ubv_R = 24.51\n",
      "M =   0.350 Msun  T =  3818 K  m_ubv_R = 20.69\n",
      "M =   1.300 Msun  T =  8270 K  m_ubv_R = 14.12\n",
      "M =   8.500 Msun  T =  7081 K  m_ubv_R = 23.78\n",
      "M =   0.660 Msun  T =  3809 K  m_ubv_R = 18.76\n",
      "M =   2.700 Msun  T =  7456 K  m_ubv_R = 24.95\n",
      "M =   0.390 Msun  T =  3880 K  m_ubv_R = 20.40\n",
      "M =   0.320 Msun  T =   nan K  m_ubv_R =  nan\n",
      "M =   0.910 Msun  T =  5251 K  m_ubv_R = 16.59\n",
      "M =   1.260 Msun  T =   nan K  m_ubv_R =  nan\n",
      "M =   0.600 Msun  T =  4611 K  m_ubv_R = 18.47\n",
      "M =   0.570 Msun  T =   nan K  m_ubv_R =  nan\n",
      "M =   1.260 Msun  T =  8137 K  m_ubv_R = 14.36\n",
      "M =   0.500 Msun  T =   nan K  m_ubv_R =  nan\n",
      "M =   0.520 Msun  T =  3001 K  m_ubv_R = 20.99\n",
      "M =   0.350 Msun  T =   nan K  m_ubv_R =  nan\n",
      "Starting filter: ubv,I   Elapsed time: 194.33 seconds\n",
      "Starting synthetic photometry\n",
      "M =   0.180 Msun  T =  3463 K  m_ubv_I = 21.09\n",
      "M =   0.980 Msun  T =  6525 K  m_ubv_I = 15.27\n",
      "M =   2.500 Msun  T =  7653 K  m_ubv_I = 24.47\n",
      "M =   3.200 Msun  T =  7964 K  m_ubv_I = 24.70\n",
      "M =   0.501 Msun  T =   nan K  m_ubv_I =  nan\n",
      "M =   1.400 Msun  T =   nan K  m_ubv_I =  nan\n",
      "M =   1.400 Msun  T =  8330 K  m_ubv_I = 13.49\n",
      "M =   1.259 Msun  T =   nan K  m_ubv_I =  nan\n",
      "M =   2.700 Msun  T =  7452 K  m_ubv_I = 24.69\n",
      "M =   1.700 Msun  T = 15838 K  m_ubv_I = 22.49\n",
      "M =   2.500 Msun  T =  7643 K  m_ubv_I = 24.47\n",
      "M =   2.700 Msun  T =  8076 K  m_ubv_I = 24.95\n",
      "M =   0.501 Msun  T =   nan K  m_ubv_I =  nan\n",
      "M =   3.981 Msun  T =   nan K  m_ubv_I =  nan\n",
      "M =   1.700 Msun  T = 13872 K  m_ubv_I = 9.90\n",
      "M =   5.000 Msun  T =  9914 K  m_ubv_I = 25.14\n",
      "M =   1.000 Msun  T =   nan K  m_ubv_I =  nan\n",
      "M =   1.259 Msun  T =  3090 K  m_ubv_I = 23.31\n",
      "M =   1.700 Msun  T = 15821 K  m_ubv_I = 22.48\n",
      "M =   1.600 Msun  T =  4351 K  m_ubv_I = 8.19\n",
      "M =   0.398 Msun  T =   nan K  m_ubv_I =  nan\n",
      "M =   2.700 Msun  T =  6423 K  m_ubv_I = 24.73\n",
      "M =   0.631 Msun  T =   nan K  m_ubv_I =  nan\n",
      "M =   3.000 Msun  T =  7807 K  m_ubv_I = 24.69\n",
      "M =   2.700 Msun  T =  8415 K  m_ubv_I = 24.72\n",
      "M =   2.500 Msun  T =  7654 K  m_ubv_I = 24.47\n",
      "M =   2.700 Msun  T =  8352 K  m_ubv_I = 24.97\n",
      "M =   3.700 Msun  T = 10894 K  m_ubv_I = 24.41\n",
      "M =   5.000 Msun  T =  9554 K  m_ubv_I = 24.41\n",
      "M =   3.000 Msun  T =  7806 K  m_ubv_I = 24.69\n",
      "M =   1.400 Msun  T =   nan K  m_ubv_I =  nan\n",
      "M =   1.700 Msun  T =  7721 K  m_ubv_I = 24.69\n",
      "M =   1.100 Msun  T =  7119 K  m_ubv_I = 14.71\n",
      "M =   0.794 Msun  T =   nan K  m_ubv_I =  nan\n",
      "M =   1.600 Msun  T =  4352 K  m_ubv_I = 8.19\n",
      "M =   4.000 Msun  T =  6647 K  m_ubv_I = 24.92\n",
      "M =   0.631 Msun  T =  3090 K  m_ubv_I = 23.32\n",
      "M =   3.500 Msun  T =  8232 K  m_ubv_I = 24.71\n",
      "M =   1.400 Msun  T =   nan K  m_ubv_I =  nan\n",
      "M =   1.400 Msun  T =   nan K  m_ubv_I =  nan\n",
      "M =   1.100 Msun  T =  7122 K  m_ubv_I = 14.71\n",
      "M =   0.631 Msun  T =   nan K  m_ubv_I =  nan\n",
      "M =   1.300 Msun  T =  8203 K  m_ubv_I = 13.93\n",
      "M =   3.200 Msun  T =  8462 K  m_ubv_I = 24.72\n",
      "M =   1.300 Msun  T =  8186 K  m_ubv_I = 13.91\n",
      "M =   1.400 Msun  T =  7439 K  m_ubv_I = 24.69\n",
      "M =   1.500 Msun  T =  8186 K  m_ubv_I = 13.01\n",
      "M =   1.900 Msun  T =  8197 K  m_ubv_I = 24.25\n",
      "M =   1.400 Msun  T =  8353 K  m_ubv_I = 13.49\n",
      "M =   1.000 Msun  T =  8008 K  m_ubv_I = 12.93\n",
      "M =   1.300 Msun  T =  8186 K  m_ubv_I = 13.91\n",
      "M =   3.500 Msun  T =  7720 K  m_ubv_I = 24.93\n",
      "M =   1.250 Msun  T =  7745 K  m_ubv_I = 14.52\n",
      "M =   1.280 Msun  T =  7867 K  m_ubv_I = 14.49\n",
      "M =   4.500 Msun  T =  9122 K  m_ubv_I = 24.38\n",
      "M =   1.500 Msun  T =  8003 K  m_ubv_I = 12.92\n",
      "M =   0.700 Msun  T =  4039 K  m_ubv_I = 17.41\n",
      "M =   2.700 Msun  T =  7456 K  m_ubv_I = 24.69\n",
      "M =   2.160 Msun  T = 11886 K  m_ubv_I = 12.80\n",
      "M =   0.510 Msun  T =  4230 K  m_ubv_I = 18.52\n",
      "M =   0.250 Msun  T =  3732 K  m_ubv_I = 20.28\n",
      "M =   1.350 Msun  T =   nan K  m_ubv_I =  nan\n",
      "M =   1.200 Msun  T =  7750 K  m_ubv_I = 14.36\n",
      "M =   6.000 Msun  T =  6940 K  m_ubv_I = 24.91\n",
      "M =   1.530 Msun  T =  8322 K  m_ubv_I = 13.08\n",
      "M =   4.500 Msun  T = 15639 K  m_ubv_I = 10.39\n",
      "M =   2.300 Msun  T =  7302 K  m_ubv_I = 24.47\n",
      "M =   4.000 Msun  T = 10615 K  m_ubv_I = 24.32\n",
      "M =   1.360 Msun  T =  8930 K  m_ubv_I = 14.00\n",
      "M =   0.320 Msun  T =  3787 K  m_ubv_I = 19.84\n",
      "M =   3.200 Msun  T =  9927 K  m_ubv_I = 24.28\n",
      "M =   1.620 Msun  T =  9464 K  m_ubv_I = 13.67\n",
      "M =   1.500 Msun  T =  7959 K  m_ubv_I = 12.90\n",
      "M =   1.800 Msun  T = 10985 K  m_ubv_I = 13.63\n",
      "M =   0.540 Msun  T =   nan K  m_ubv_I =  nan\n",
      "M =   1.250 Msun  T =  7735 K  m_ubv_I = 14.52\n",
      "M =   0.810 Msun  T =   nan K  m_ubv_I =  nan\n",
      "M =   3.330 Msun  T = 12121 K  m_ubv_I = 10.44\n",
      "M =   4.000 Msun  T = 14110 K  m_ubv_I = 10.15\n",
      "M =   1.800 Msun  T = 11016 K  m_ubv_I = 13.63\n",
      "M =   1.900 Msun  T =  8337 K  m_ubv_I = 23.85\n",
      "M =   1.190 Msun  T =   nan K  m_ubv_I =  nan\n",
      "M =   0.220 Msun  T =  3700 K  m_ubv_I = 20.52\n",
      "M =   1.600 Msun  T =  4338 K  m_ubv_I = 8.13\n",
      "M =   0.800 Msun  T =  4616 K  m_ubv_I = 16.71\n",
      "M =   0.400 Msun  T =  3899 K  m_ubv_I = 19.34\n",
      "M =   5.000 Msun  T =  9191 K  m_ubv_I = 24.38\n",
      "M =   0.350 Msun  T =  3818 K  m_ubv_I = 19.66\n",
      "M =   1.300 Msun  T =  8270 K  m_ubv_I = 14.02\n",
      "M =   8.500 Msun  T =  7081 K  m_ubv_I = 23.48\n",
      "M =   0.660 Msun  T =  3809 K  m_ubv_I = 17.73\n",
      "M =   2.700 Msun  T =  7456 K  m_ubv_I = 24.69\n",
      "M =   0.390 Msun  T =  3880 K  m_ubv_I = 19.41\n",
      "M =   0.320 Msun  T =   nan K  m_ubv_I =  nan\n",
      "M =   0.910 Msun  T =  5251 K  m_ubv_I = 16.05\n",
      "M =   1.260 Msun  T =   nan K  m_ubv_I =  nan\n",
      "M =   0.600 Msun  T =  4611 K  m_ubv_I = 17.78\n",
      "M =   0.570 Msun  T =   nan K  m_ubv_I =  nan\n",
      "M =   1.260 Msun  T =  8137 K  m_ubv_I = 14.24\n",
      "M =   0.500 Msun  T =   nan K  m_ubv_I =  nan\n",
      "M =   0.520 Msun  T =  3001 K  m_ubv_I = 19.14\n",
      "M =   0.350 Msun  T =   nan K  m_ubv_I =  nan\n",
      "      Time taken: 234.97 seconds\n",
      "Isochrone generation took 960.708332 s.\n"
     ]
    }
   ],
   "source": [
    "import spisea\n",
    "from spisea import evolution, synthetic\n",
    "import math\n",
    "# Check if the evolution class works fine\n",
    "iso1=synthetic.Isochrone_Binary(9.2, 0.0, 2000,\n",
    "                                math.log10(0.1), mass_sampling=1)"
   ]
  },
  {
   "cell_type": "markdown",
   "metadata": {},
   "source": [
    "For a sanity check, we can see that the primaries, secondaries, and single stars have phasees of 5 or of 101 or 102 or 103 or -99. "
   ]
  },
  {
   "cell_type": "code",
   "execution_count": 2,
   "metadata": {},
   "outputs": [
    {
     "data": {
      "text/plain": [
       "True"
      ]
     },
     "execution_count": 2,
     "metadata": {},
     "output_type": "execute_result"
    }
   ],
   "source": [
    "import numpy as np\n",
    "np.all([(x == 5 or x == 101 or x == 102 or\n",
    "         x == 103) for x in iso1.primaries['phase']])"
   ]
  },
  {
   "cell_type": "code",
   "execution_count": 3,
   "metadata": {},
   "outputs": [
    {
     "data": {
      "text/plain": [
       "True"
      ]
     },
     "execution_count": 3,
     "metadata": {},
     "output_type": "execute_result"
    }
   ],
   "source": [
    "np.all([(x == 5 or x == 101 or x == 102 or\n",
    "         x == 103) for x in iso1.singles['phase']])"
   ]
  },
  {
   "cell_type": "code",
   "execution_count": 4,
   "metadata": {},
   "outputs": [
    {
     "data": {
      "text/plain": [
       "True"
      ]
     },
     "execution_count": 4,
     "metadata": {},
     "output_type": "execute_result"
    }
   ],
   "source": [
    "np.all([(x == 5 or x == 101 or\n",
    "         x == -99 or x==102 or x==103) for x in iso1.secondaries['phase']])"
   ]
  },
  {
   "cell_type": "markdown",
   "metadata": {},
   "source": [
    "Find the maximum, mean, and median  values of logg (cgs) for primaries and secondaries accounting for NaNs in the columns. (For max we make NaNs the same as - infinity and for median and mean, we do not include them)"
   ]
  },
  {
   "cell_type": "code",
   "execution_count": 5,
   "metadata": {},
   "outputs": [
    {
     "data": {
      "text/plain": [
       "9.294221355125417"
      ]
     },
     "execution_count": 5,
     "metadata": {},
     "output_type": "execute_result"
    }
   ],
   "source": [
    "np.max(iso1.singles['logg'])"
   ]
  },
  {
   "cell_type": "code",
   "execution_count": 6,
   "metadata": {},
   "outputs": [
    {
     "data": {
      "text/plain": [
       "9.294221355125417"
      ]
     },
     "execution_count": 6,
     "metadata": {},
     "output_type": "execute_result"
    }
   ],
   "source": [
    "np.max(np.nan_to_num(iso1.primaries['logg'], -np.inf))"
   ]
  },
  {
   "cell_type": "code",
   "execution_count": 7,
   "metadata": {},
   "outputs": [
    {
     "data": {
      "text/plain": [
       "9.294186013434684"
      ]
     },
     "execution_count": 7,
     "metadata": {},
     "output_type": "execute_result"
    }
   ],
   "source": [
    "np.max(np.nan_to_num(iso1.secondaries['logg'], -np.inf))"
   ]
  },
  {
   "cell_type": "markdown",
   "metadata": {},
   "source": [
    "Now let's find the mean and median logg values for the single stars, secondary stars, and the primary stars"
   ]
  },
  {
   "cell_type": "code",
   "execution_count": 8,
   "metadata": {},
   "outputs": [
    {
     "data": {
      "text/plain": [
       "6.478614555246956"
      ]
     },
     "execution_count": 8,
     "metadata": {},
     "output_type": "execute_result"
    }
   ],
   "source": [
    "np.mean(iso1.singles['logg'][np.where(~np.isnan(iso1.singles['logg']))])"
   ]
  },
  {
   "cell_type": "code",
   "execution_count": 9,
   "metadata": {},
   "outputs": [
    {
     "data": {
      "text/plain": [
       "6.829825080157124"
      ]
     },
     "execution_count": 9,
     "metadata": {},
     "output_type": "execute_result"
    }
   ],
   "source": [
    "np.mean(iso1.primaries['logg'][np.where(~np.isnan(iso1.primaries['logg']))])"
   ]
  },
  {
   "cell_type": "code",
   "execution_count": 10,
   "metadata": {},
   "outputs": [
    {
     "data": {
      "text/plain": [
       "5.360931066484793"
      ]
     },
     "execution_count": 10,
     "metadata": {},
     "output_type": "execute_result"
    }
   ],
   "source": [
    "np.mean(iso1.secondaries['logg'][np.where(~np.isnan(iso1.secondaries['logg']))])"
   ]
  },
  {
   "cell_type": "code",
   "execution_count": 11,
   "metadata": {},
   "outputs": [
    {
     "data": {
      "text/plain": [
       "7.939597169306249"
      ]
     },
     "execution_count": 11,
     "metadata": {},
     "output_type": "execute_result"
    }
   ],
   "source": [
    "np.median(iso1.singles['logg'][np.where(~np.isnan(iso1.singles['logg']))])"
   ]
  },
  {
   "cell_type": "code",
   "execution_count": 12,
   "metadata": {},
   "outputs": [
    {
     "data": {
      "text/plain": [
       "8.079390004361564"
      ]
     },
     "execution_count": 12,
     "metadata": {},
     "output_type": "execute_result"
    }
   ],
   "source": [
    "np.median(iso1.primaries['logg'][np.where(~np.isnan(iso1.primaries['logg']))])"
   ]
  },
  {
   "cell_type": "code",
   "execution_count": 13,
   "metadata": {},
   "outputs": [
    {
     "data": {
      "text/plain": [
       "4.499390136742458"
      ]
     },
     "execution_count": 13,
     "metadata": {},
     "output_type": "execute_result"
    }
   ],
   "source": [
    "np.median([x for x in iso1.secondaries['logg'] if np.isfinite(x)])"
   ]
  },
  {
   "cell_type": "markdown",
   "metadata": {},
   "source": [
    "Let's make a histogram of log_g values for each table of the isochrone"
   ]
  },
  {
   "cell_type": "code",
   "execution_count": 14,
   "metadata": {},
   "outputs": [
    {
     "data": {
      "text/plain": [
       "Text(0.5, 0, 'logg in cgs')"
      ]
     },
     "execution_count": 14,
     "metadata": {},
     "output_type": "execute_result"
    },
    {
     "name": "stderr",
     "output_type": "stream",
     "text": [
      "findfont: Font family ['sans-serif'] not found. Falling back to DejaVu Sans.\n",
      "findfont: Generic family 'sans-serif' not found because none of the following families were found: Bitstream Vera Sans\n",
      "findfont: Font family ['sans-serif'] not found. Falling back to DejaVu Sans.\n",
      "findfont: Generic family 'sans-serif' not found because none of the following families were found: Bitstream Vera Sans\n"
     ]
    },
    {
     "data": {
      "image/png": "[encoded data removed]",
      "text/plain": [
       "<Figure size 432x288 with 1 Axes>"
      ]
     },
     "metadata": {
      "needs_background": "light"
     },
     "output_type": "display_data"
    }
   ],
   "source": [
    "import matplotlib.pyplot as plt\n",
    "plt.title(\"Histogram of logg values (secondaries) of isochrone\")\n",
    "plt.hist(np.array([x for x in iso1.secondaries['logg'] if np.isfinite(x)]), np.arange(0, 30, 1))\n",
    "plt.xlabel(\"logg in cgs\")"
   ]
  },
  {
   "cell_type": "code",
   "execution_count": 15,
   "metadata": {},
   "outputs": [
    {
     "data": {
      "text/plain": [
       "Text(0.5, 0, 'logg in cgs')"
      ]
     },
     "execution_count": 15,
     "metadata": {},
     "output_type": "execute_result"
    },
    {
     "data": {
      "image/png": "[encoded data removed]",
      "text/plain": [
       "<Figure size 432x288 with 1 Axes>"
      ]
     },
     "metadata": {
      "needs_background": "light"
     },
     "output_type": "display_data"
    }
   ],
   "source": [
    "import matplotlib.pyplot as plt\n",
    "plt.title(\"Histogram of logg values (primaries) of isochrone\")\n",
    "plt.hist(np.array([x for x in iso1.primaries['logg'] if np.isfinite(x)]), np.arange(0, 30, 1))\n",
    "plt.xlabel(\"logg in cgs\")"
   ]
  },
  {
   "cell_type": "code",
   "execution_count": 16,
   "metadata": {},
   "outputs": [
    {
     "data": {
      "text/plain": [
       "Text(0.5, 0, 'logg in cgs')"
      ]
     },
     "execution_count": 16,
     "metadata": {},
     "output_type": "execute_result"
    },
    {
     "data": {
      "image/png": "[encoded data removed]",
      "text/plain": [
       "<Figure size 432x288 with 1 Axes>"
      ]
     },
     "metadata": {
      "needs_background": "light"
     },
     "output_type": "display_data"
    }
   ],
   "source": [
    "import matplotlib.pyplot as plt\n",
    "plt.title(\"Histogram of logg values single stars of isochrone\")\n",
    "plt.hist(np.array([x for x in iso1.singles['logg'] if np.isfinite(x)]), np.arange(0, 30, 1))\n",
    "plt.xlabel(\"logg in cgs\")"
   ]
  },
  {
   "cell_type": "markdown",
   "metadata": {},
   "source": [
    "For comparison, let's create a MIST v.1. isochrone  phot using otherwise same parameters."
   ]
  },
  {
   "cell_type": "code",
   "execution_count": 17,
   "metadata": {},
   "outputs": [
    {
     "name": "stdout",
     "output_type": "stream",
     "text": [
      "Isochrone generation took 146.069611 s.\n",
      "Making photometry for isochrone: log(t) = 9.20  AKs = 0.00  dist = 2000\n",
      "     Starting at:  2021-08-10 19:54:25.128887   Usually takes ~5 minutes\n",
      "Starting filter: ubv,U   Elapsed time: 0.01 seconds\n",
      "Starting synthetic photometry\n",
      "M =   0.105 Msun  T =  3386 K  m_ubv_U = 28.04\n",
      "M =   0.743 Msun  T =  5692 K  m_ubv_U = 17.86\n",
      "M =   1.429 Msun  T =  9088 K  m_ubv_U = 13.51\n",
      "M =   1.488 Msun  T =  5358 K  m_ubv_U = 13.80\n",
      "M =   1.523 Msun  T =  4066 K  m_ubv_U = 11.90\n",
      "M =   1.556 Msun  T =  4981 K  m_ubv_U = 12.18\n",
      "M =   1.559 Msun  T =  4269 K  m_ubv_U = 11.67\n",
      "M =   1.559 Msun  T =  3883 K  m_ubv_U = 12.10\n",
      "M =   1.559 Msun  T =  3952 K  m_ubv_U = 11.99\n",
      "M =   1.559 Msun  T =  3806 K  m_ubv_U = 12.28\n",
      "M =   1.559 Msun  T =  3654 K  m_ubv_U = 12.69\n",
      "M =   1.559 Msun  T =  6746 K  m_ubv_U = 6.91\n",
      "M =   1.559 Msun  T = 75219 K  m_ubv_U = 10.65\n",
      "M =   1.559 Msun  T = 76344 K  m_ubv_U = 17.61\n",
      "Starting filter: ubv,B   Elapsed time: 6.46 seconds\n",
      "Starting synthetic photometry\n",
      "M =   0.105 Msun  T =  3386 K  m_ubv_B = 26.51\n",
      "M =   0.743 Msun  T =  5692 K  m_ubv_B = 17.98\n",
      "M =   1.429 Msun  T =  9088 K  m_ubv_B = 13.47\n",
      "M =   1.488 Msun  T =  5358 K  m_ubv_B = 13.80\n",
      "M =   1.523 Msun  T =  4066 K  m_ubv_B = 10.61\n",
      "M =   1.556 Msun  T =  4981 K  m_ubv_B = 12.00\n",
      "M =   1.559 Msun  T =  4269 K  m_ubv_B = 10.71\n",
      "M =   1.559 Msun  T =  3883 K  m_ubv_B = 10.46\n",
      "M =   1.559 Msun  T =  3952 K  m_ubv_B = 10.47\n",
      "M =   1.559 Msun  T =  3806 K  m_ubv_B = 10.50\n",
      "M =   1.559 Msun  T =  3654 K  m_ubv_B = 10.66\n",
      "M =   1.559 Msun  T =  6746 K  m_ubv_B = 7.30\n",
      "M =   1.559 Msun  T = 75219 K  m_ubv_B = 11.81\n",
      "M =   1.559 Msun  T = 76344 K  m_ubv_B = 18.78\n",
      "Starting filter: ubv,V   Elapsed time: 12.59 seconds\n",
      "Starting synthetic photometry\n",
      "M =   0.105 Msun  T =  3386 K  m_ubv_V = 24.75\n",
      "M =   0.743 Msun  T =  5692 K  m_ubv_V = 17.35\n",
      "M =   1.429 Msun  T =  9088 K  m_ubv_V = 13.41\n",
      "M =   1.488 Msun  T =  5358 K  m_ubv_V = 13.08\n",
      "M =   1.523 Msun  T =  4066 K  m_ubv_V = 9.20\n",
      "M =   1.556 Msun  T =  4981 K  m_ubv_V = 11.15\n",
      "M =   1.559 Msun  T =  4269 K  m_ubv_V = 9.45\n",
      "M =   1.559 Msun  T =  3883 K  m_ubv_V = 8.90\n",
      "M =   1.559 Msun  T =  3952 K  m_ubv_V = 8.96\n",
      "M =   1.559 Msun  T =  3806 K  m_ubv_V = 8.86\n",
      "M =   1.559 Msun  T =  3654 K  m_ubv_V = 8.89\n",
      "M =   1.559 Msun  T =  6746 K  m_ubv_V = 6.81\n",
      "M =   1.559 Msun  T = 75219 K  m_ubv_V = 12.15\n",
      "M =   1.559 Msun  T = 76344 K  m_ubv_V = 19.12\n",
      "Starting filter: ubv,R   Elapsed time: 18.56 seconds\n",
      "Starting synthetic photometry\n",
      "M =   0.105 Msun  T =  3386 K  m_ubv_R = 23.82\n",
      "M =   0.743 Msun  T =  5692 K  m_ubv_R = 17.01\n",
      "M =   1.429 Msun  T =  9088 K  m_ubv_R = 13.39\n",
      "M =   1.488 Msun  T =  5358 K  m_ubv_R = 12.71\n",
      "M =   1.523 Msun  T =  4066 K  m_ubv_R = 8.53\n",
      "M =   1.556 Msun  T =  4981 K  m_ubv_R = 10.72\n",
      "M =   1.559 Msun  T =  4269 K  m_ubv_R = 8.86\n",
      "M =   1.559 Msun  T =  3883 K  m_ubv_R = 8.15\n",
      "M =   1.559 Msun  T =  3952 K  m_ubv_R = 8.25\n",
      "M =   1.559 Msun  T =  3806 K  m_ubv_R = 8.07\n",
      "M =   1.559 Msun  T =  3654 K  m_ubv_R = 8.02\n",
      "M =   1.559 Msun  T =  6746 K  m_ubv_R = 6.53\n",
      "M =   1.559 Msun  T = 75219 K  m_ubv_R = 12.27\n",
      "M =   1.559 Msun  T = 76344 K  m_ubv_R = 19.24\n",
      "Starting filter: ubv,I   Elapsed time: 24.30 seconds\n",
      "Starting synthetic photometry\n",
      "M =   0.105 Msun  T =  3386 K  m_ubv_I = 22.45\n",
      "M =   0.743 Msun  T =  5692 K  m_ubv_I = 16.56\n",
      "M =   1.429 Msun  T =  9088 K  m_ubv_I = 13.36\n",
      "M =   1.488 Msun  T =  5358 K  m_ubv_I = 12.20\n",
      "M =   1.523 Msun  T =  4066 K  m_ubv_I = 7.63\n",
      "M =   1.556 Msun  T =  4981 K  m_ubv_I = 10.12\n",
      "M =   1.559 Msun  T =  4269 K  m_ubv_I = 8.05\n",
      "M =   1.559 Msun  T =  3883 K  m_ubv_I = 7.15\n",
      "M =   1.559 Msun  T =  3952 K  m_ubv_I = 7.29\n",
      "M =   1.559 Msun  T =  3806 K  m_ubv_I = 7.03\n",
      "M =   1.559 Msun  T =  3654 K  m_ubv_I = 6.84\n",
      "M =   1.559 Msun  T =  6746 K  m_ubv_I = 6.19\n",
      "M =   1.559 Msun  T = 75219 K  m_ubv_I = 12.56\n",
      "M =   1.559 Msun  T = 76344 K  m_ubv_I = 19.53\n",
      "      Time taken: 30.09 seconds\n"
     ]
    }
   ],
   "source": [
    "iso2=synthetic.IsochronePhot(9.2, 0.0, 2000, math.log10(0.1), recomp=True) # New MIST v.1 isochrone for same metallicity"
   ]
  },
  {
   "cell_type": "markdown",
   "metadata": {},
   "source": [
    "Note: dist/10 pc = 200 for both of our isochrones and clusters"
   ]
  },
  {
   "cell_type": "markdown",
   "metadata": {},
   "source": [
    "Find the maximum logg of the isochrone and the distribution of logg values"
   ]
  },
  {
   "cell_type": "code",
   "execution_count": 18,
   "metadata": {},
   "outputs": [
    {
     "data": {
      "text/plain": [
       "7.938784080569296"
      ]
     },
     "execution_count": 18,
     "metadata": {},
     "output_type": "execute_result"
    }
   ],
   "source": [
    "np.max(iso2.points['logg'])"
   ]
  },
  {
   "cell_type": "code",
   "execution_count": 19,
   "metadata": {
    "scrolled": true
   },
   "outputs": [
    {
     "data": {
      "text/plain": [
       "(array([519., 146., 185.,  81., 227.,  67.,  21., 128.,   0.,   0.,   0.,\n",
       "          0.,   0.,   0.,   0.,   0.,   0.,   0.,   0.,   0.,   0.,   0.,\n",
       "          0.,   0.,   0.,   0.,   0.,   0.,   0.]),\n",
       " array([ 0,  1,  2,  3,  4,  5,  6,  7,  8,  9, 10, 11, 12, 13, 14, 15, 16,\n",
       "        17, 18, 19, 20, 21, 22, 23, 24, 25, 26, 27, 28, 29]),\n",
       " <BarContainer object of 29 artists>)"
      ]
     },
     "execution_count": 19,
     "metadata": {},
     "output_type": "execute_result"
    },
    {
     "data": {
      "image/png": "[encoded data removed]",
      "text/plain": [
       "<Figure size 432x288 with 1 Axes>"
      ]
     },
     "metadata": {
      "needs_background": "light"
     },
     "output_type": "display_data"
    }
   ],
   "source": [
    "import matplotlib.pyplot as plt\n",
    "plt.xlabel(\"logg in cgs\")\n",
    "plt.title(\"Histogram of logg values of stars in the MIST v1 isochrone\")\n",
    "plt.hist(np.array([x for x in iso2.points['logg'] if np.isfinite(x)]), np.arange(0, 30, 1))"
   ]
  },
  {
   "cell_type": "markdown",
   "metadata": {},
   "source": [
    "Finding the log_g median and mean for the new isochrone"
   ]
  },
  {
   "cell_type": "code",
   "execution_count": 20,
   "metadata": {},
   "outputs": [
    {
     "data": {
      "text/plain": [
       "2.0655075179623505"
      ]
     },
     "execution_count": 20,
     "metadata": {},
     "output_type": "execute_result"
    }
   ],
   "source": [
    "np.median(iso2.points['logg'])"
   ]
  },
  {
   "cell_type": "code",
   "execution_count": 21,
   "metadata": {},
   "outputs": [
    {
     "data": {
      "text/plain": [
       "2.62397473907989"
      ]
     },
     "execution_count": 21,
     "metadata": {},
     "output_type": "execute_result"
    }
   ],
   "source": [
    "np.mean(iso2.points['logg'])"
   ]
  },
  {
   "cell_type": "markdown",
   "metadata": {},
   "source": [
    "Now we want to make clusters for both of these models. We want to compare stellar mass distributions of these clusters."
   ]
  },
  {
   "cell_type": "code",
   "execution_count": 22,
   "metadata": {},
   "outputs": [],
   "source": [
    "from spisea import imf\n",
    "from spisea.imf import imf, multiplicity\n",
    "from spisea import ifmr"
   ]
  },
  {
   "cell_type": "code",
   "execution_count": 23,
   "metadata": {
    "scrolled": true
   },
   "outputs": [
    {
     "name": "stderr",
     "output_type": "stream",
     "text": [
      "/u/ryotainagaki/Desktop/PyPopStar/spisea/synthetic.py:774: VisibleDeprecationWarning: Creating an ndarray from ragged nested sequences (which is a list-or-tuple of lists-or-tuples-or ndarrays with different lengths or shapes) is deprecated. If you meant to do this, you must specify 'dtype=object' when creating the ndarray.\n",
      "  compMass = np.array([compMass[x] for x in indices])\n"
     ]
    },
    {
     "name": "stdout",
     "output_type": "stream",
     "text": [
      "Creating Interpolator for: Teff\n",
      "Creating Interpolator for: L\n",
      "Creating Interpolator for: logg\n",
      "Creating Interpolator for: isWR\n",
      "Creating Interpolator for: mass_current\n",
      "Creating Interpolator for: phase\n",
      "Creating Interpolator for: m_ubv_U\n",
      "Creating Interpolator for: m_ubv_V\n",
      "Creating Interpolator for: m_ubv_B\n",
      "Creating Interpolator for: m_ubv_R\n",
      "Creating Interpolator for: m_ubv_I\n"
     ]
    },
    {
     "name": "stderr",
     "output_type": "stream",
     "text": [
      "/opt/anaconda3/envs/astroconda/lib/python3.7/site-packages/astropy/table/table.py:3197: FutureWarning: elementwise == comparison failed and returning scalar instead; this will raise an error or perform elementwise comparison in the future.\n",
      "  result = self.as_array() == other\n"
     ]
    },
    {
     "name": "stdout",
     "output_type": "stream",
     "text": [
      "Found 4895 stars out of mass range\n",
      "Found 5740 companions out of stellar mass range\n"
     ]
    }
   ],
   "source": [
    "clus_1=synthetic.Cluster_w_Binaries(iso1,\n",
    "                                    imf.Kennicutt_1983(multiplicity=\n",
    "                                                       multiplicity.MultiplicityResolvedDK()),\n",
    "                                    200000, ifmr=ifmr.IFMR_Spera15())\n",
    "clus_2=synthetic.ResolvedCluster(iso2,\n",
    "                                 imf.Kennicutt_1983(multiplicity=\n",
    "                                                    multiplicity.MultiplicityResolvedDK()),\n",
    "                                 200000, ifmr=ifmr.IFMR_Spera15())"
   ]
  },
  {
   "cell_type": "markdown",
   "metadata": {},
   "source": [
    "Now, I plot the mass distribution of all non-compact remnant stars in both the MIST v.1 and the "
   ]
  },
  {
   "cell_type": "code",
   "execution_count": 24,
   "metadata": {},
   "outputs": [],
   "source": [
    "star_systems = clus_1.star_systems\n",
    "companions = clus_1.companions\n",
    "# prims as in \n",
    "prims = [star_systems['mass_current'][x] for x in range(len(star_systems)) if star_systems['phase'][x] == 5]\n",
    "companions = [companions['mass_current'][x] for x in range(len(companions)) if companions['phase'][x] == 5]"
   ]
  },
  {
   "cell_type": "code",
   "execution_count": 25,
   "metadata": {},
   "outputs": [
    {
     "data": {
      "text/plain": [
       "9.036239115054308"
      ]
     },
     "execution_count": 25,
     "metadata": {},
     "output_type": "execute_result"
    }
   ],
   "source": [
    "np.max(np.nan_to_num(companions))"
   ]
  },
  {
   "cell_type": "code",
   "execution_count": 26,
   "metadata": {},
   "outputs": [
    {
     "data": {
      "text/plain": [
       "<matplotlib.legend.Legend at 0x7fd28ece46d0>"
      ]
     },
     "execution_count": 26,
     "metadata": {},
     "output_type": "execute_result"
    },
    {
     "data": {
      "image/png": "[encoded data removed]",
      "text/plain": [
       "<Figure size 432x288 with 1 Axes>"
      ]
     },
     "metadata": {
      "needs_background": "light"
     },
     "output_type": "display_data"
    }
   ],
   "source": [
    "star_systems2 = clus_2.star_systems\n",
    "companions2 = clus_2.companions\n",
    "plt.hist(np.array(prims+companions), 40, (0, 10),\n",
    "         density=True, histtype='step', label=\"BPASS\")\n",
    "prims2 = [star_systems2['mass_current'][x] for x in range(len(star_systems2))\n",
    "         if (star_systems2['phase'][x] > -99)]\n",
    "companions2 = [companions2['mass_current'][x] for x in range(len(companions2))\n",
    "              if star_systems2['phase'][x] > -99]\n",
    "plt.hist(np.array(prims2+companions2), 40, (0, 10),\n",
    "         density=True, histtype='step', label=\"MISTv1\")\n",
    "plt.xlabel(\"Current mass of the star in solar masses\")\n",
    "plt.title(\"Normalized histogram of star masses in \\n\" +\n",
    "          \"BPASS and MISTv1 clusters (PDF) (binsize = 0.25 solar mass)\")\n",
    "plt.xscale('log')\n",
    "plt.yscale('log')\n",
    "plt.legend()"
   ]
  },
  {
   "cell_type": "code",
   "execution_count": 27,
   "metadata": {},
   "outputs": [
    {
     "data": {
      "text/plain": [
       "198010.14784619104"
      ]
     },
     "execution_count": 27,
     "metadata": {},
     "output_type": "execute_result"
    }
   ],
   "source": [
    "star_systems2['systemMass'].sum()"
   ]
  },
  {
   "cell_type": "code",
   "execution_count": null,
   "metadata": {},
   "outputs": [],
   "source": []
  },
  {
   "cell_type": "code",
   "execution_count": null,
   "metadata": {},
   "outputs": [],
   "source": []
  }
 ],
 "metadata": {
  "kernelspec": {
   "display_name": "astroconda",
   "language": "python",
   "name": "astroconda"
  },
  "language_info": {
   "codemirror_mode": {
    "name": "ipython",
    "version": 3
   },
   "file_extension": ".py",
   "mimetype": "text/x-python",
   "name": "python",
   "nbconvert_exporter": "python",
   "pygments_lexer": "ipython3",
   "version": "3.7.10"
  }
 },
 "nbformat": 4,
 "nbformat_minor": 4
}
