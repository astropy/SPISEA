{
 "cells": [
  {
   "cell_type": "markdown",
   "metadata": {},
   "source": [
    "## Testing the BPASS isochrone at $10^{7.0}$ years age and Comparing with MIST Model ($0.1Z_{\\odot}$ metallicity)\n",
    "In this BPASS isochrone and cluster plot, I go over the BPASS isochrone for 10^7.0 years age, a tenth of solar metallicity, AKs=0.0, and distance of 1000 parsecs from Earth. From the isochrone and cluster, we discuss several plots such as the log_g frequency distribution of the isochrone, the color magnitude diagram (B-V vs M_V), and the current-mass luminosity relationship of the cluster."
   ]
  },
  {
   "cell_type": "code",
   "execution_count": 1,
   "metadata": {},
   "outputs": [
    {
     "name": "stderr",
     "output_type": "stream",
     "text": [
      "/opt/anaconda3/envs/astroconda/lib/python3.7/site-packages/pysynphot/locations.py:345: UserWarning: Extinction files not found in /g/lu/models/cdbs/extinction\n",
      "  warnings.warn('Extinction files not found in %s' % (extdir, ))\n",
      "/opt/anaconda3/envs/astroconda/lib/python3.7/site-packages/pysynphot/refs.py:125: UserWarning: No thermal tables found, no thermal calculations can be performed. No files found for /g/lu/models/cdbs/mtab/*_tmt.fits\n",
      "  'no thermal calculations can be performed. ' + str(e))\n",
      "/opt/anaconda3/envs/astroconda/lib/python3.7/site-packages/astropy/units/quantity.py:479: RuntimeWarning: invalid value encountered in true_divide\n",
      "  result = super().__array_ufunc__(function, method, *arrays, **kwargs)\n",
      "/u/ryotainagaki/Desktop/PyPopStar/spisea/evolution.py:1794: RuntimeWarning: overflow encountered in power\n",
      "  (1 / cs.au) * un.m)\n",
      "/opt/anaconda3/envs/astroconda/lib/python3.7/site-packages/astropy/units/quantity.py:479: RuntimeWarning: divide by zero encountered in true_divide\n",
      "  result = super().__array_ufunc__(function, method, *arrays, **kwargs)\n",
      "/opt/anaconda3/envs/astroconda/lib/python3.7/site-packages/astropy/units/quantity.py:479: RuntimeWarning: invalid value encountered in true_divide\n",
      "  result = super().__array_ufunc__(function, method, *arrays, **kwargs)\n"
     ]
    },
    {
     "name": "stdout",
     "output_type": "stream",
     "text": [
      "Changing to T= 50000 for T=181176 logg=5.89\n",
      "Changing to logg=5.00 for T=181176 logg=5.89\n",
      "Changing to T= 50000 for T= 51512 logg=4.31\n",
      "Changing to logg=5.00 for T= 51512 logg=4.31\n",
      "Changing to logg=5.00 for T= 49421 logg=4.31\n",
      "Changing to T= 50000 for T= 53429 logg=4.31\n",
      "Changing to logg=5.00 for T= 53429 logg=4.31\n",
      "Changing to T= 50000 for T= 58383 logg=4.33\n",
      "Changing to logg=5.00 for T= 58383 logg=4.33\n",
      "Changing to T= 50000 for T= 56650 logg=4.32\n",
      "Changing to logg=5.00 for T= 56650 logg=4.32\n",
      "Changing to logg=4.50 for T= 47267 logg=4.32\n",
      "Changing to logg=2.50 for T= 11956 logg=1.83\n",
      "Changing to T= 50000 for T= 62596 logg=4.42\n",
      "Changing to logg=5.00 for T= 62596 logg=4.42\n",
      "Changing to T= 50000 for T= 62596 logg=4.42\n",
      "Changing to logg=5.00 for T= 62596 logg=4.42\n",
      "Changing to logg=2.50 for T= 11953 logg=1.83\n",
      "Changing to logg=2.50 for T= 12020 logg=1.51\n",
      "Changing to logg=4.00 for T= 31778 logg=3.86\n",
      "Changing to logg=4.00 for T= 38122 logg=3.28\n",
      "Changing to logg=3.00 for T= 23610 logg=2.66\n",
      "Changing to logg=4.00 for T= 31100 logg=3.62\n",
      "Changing to logg=3.00 for T= 20509 logg=2.63\n",
      "Changing to logg=4.00 for T= 34623 logg=3.33\n",
      "Changing to logg=2.00 for T= 11591 logg=1.18\n",
      "Changing to logg=2.50 for T= 16585 logg=1.81\n",
      "Changing to logg=2.50 for T= 11953 logg=1.83\n",
      "Changing to logg=3.50 for T= 28755 logg=3.07\n",
      "Changing to logg=2.50 for T= 11953 logg=1.83\n",
      "Changing to logg=4.00 for T= 35285 logg=3.43\n",
      "Changing to logg=2.00 for T=  9847 logg=0.90\n",
      "Changing to logg=2.50 for T= 14001 logg=1.50\n",
      "Changing to logg=3.00 for T= 24191 logg=2.51\n",
      "Changing to logg=2.50 for T= 11953 logg=1.83\n",
      "Changing to logg=3.50 for T= 28205 logg=2.96\n",
      "Changing to logg=2.50 for T= 11953 logg=1.83\n",
      "Changing to logg=2.50 for T= 11953 logg=1.83\n",
      "Changing to logg=3.00 for T= 25754 logg=2.60\n",
      "Changing to T= 50000 for T= 73891 logg=4.77\n",
      "Changing to logg=5.00 for T= 73891 logg=4.77\n",
      "Changing to logg=2.50 for T= 13108 logg=1.41\n",
      "Changing to logg=2.00 for T= 10030 logg=0.91\n",
      "Changing to logg=2.00 for T= 11367 logg=1.16\n",
      "Changing to logg=3.00 for T= 23971 logg=2.45\n",
      "Changing to logg=3.00 for T= 25919 logg=2.63\n",
      "Changing to logg=3.00 for T= 25115 logg=2.77\n",
      "Changing to logg=3.00 for T= 23026 logg=2.42\n",
      "Changing to logg=2.50 for T= 14357 logg=2.20\n",
      "Changing to logg=0.50 for T=  7215 logg=0.35\n",
      "Changing to logg=3.00 for T= 20680 logg=2.21\n",
      "Changing to logg=3.00 for T= 20333 logg=2.17\n",
      "Changing to T= 50000 for T= 84122 logg=4.59\n",
      "Changing to logg=5.00 for T= 84122 logg=4.59\n",
      "Changing to logg=4.50 for T= 39576 logg=3.97\n",
      "Changing to logg=2.50 for T= 11953 logg=1.83\n",
      "Changing to logg=2.50 for T= 13972 logg=1.49\n",
      "Changing to logg=3.50 for T= 30631 logg=2.92\n",
      "Changing to logg=2.00 for T= 10035 logg=0.92\n",
      "Changing to logg=3.50 for T= 30512 logg=3.17\n",
      "Changing to T= 50000 for T= 93530 logg=5.28\n",
      "Changing to logg=5.00 for T= 93530 logg=5.28\n",
      "Changing to logg=3.00 for T= 24369 logg=2.72\n",
      "Changing to logg=3.50 for T= 28668 logg=2.79\n",
      "Changing to logg=4.00 for T= 32681 logg=3.01\n",
      "Changing to logg=2.50 for T= 15105 logg=1.62\n",
      "Changing to logg=2.50 for T= 11953 logg=1.83\n",
      "Changing to logg=2.50 for T= 11953 logg=1.83\n",
      "Changing to logg=4.00 for T= 38158 logg=3.83\n",
      "Changing to logg=3.00 for T= 19170 logg=2.05\n",
      "Changing to logg=2.50 for T= 13299 logg=1.44\n",
      "Changing to logg=2.50 for T= 17527 logg=1.90\n",
      "Changing to logg=2.00 for T=  9562 logg=0.86\n",
      "Changing to logg=2.50 for T= 12568 logg=1.34\n",
      "Changing to logg=3.50 for T= 26228 logg=3.44\n",
      "Changing to logg=3.00 for T= 19495 logg=2.07\n",
      "Changing to logg=2.50 for T= 12585 logg=1.31\n",
      "Changing to logg=2.00 for T=  9529 logg=0.84\n",
      "Changing to logg=2.50 for T= 13405 logg=1.44\n",
      "Changing to logg=2.50 for T= 11837 logg=1.20\n",
      "Changing to logg=2.50 for T= 11953 logg=1.83\n",
      "Changing to logg=4.50 for T= 41093 logg=3.42\n",
      "Changing to logg=2.50 for T= 18483 logg=1.98\n",
      "Changing to T= 50000 for T=117666 logg=5.25\n",
      "Changing to logg=5.00 for T=117666 logg=5.25\n",
      "Changing to T= 50000 for T= 69716 logg=4.65\n",
      "Changing to logg=5.00 for T= 69716 logg=4.65\n",
      "Changing to logg=2.00 for T=  9029 logg=0.76\n",
      "Changing to logg=2.50 for T= 11953 logg=1.83\n",
      "Changing to logg=4.00 for T= 35200 logg=3.17\n",
      "Changing to logg=4.00 for T= 31946 logg=2.97\n",
      "Changing to logg=4.00 for T= 35348 logg=3.72\n",
      "Changing to logg=2.00 for T=  9953 logg=0.92\n",
      "Changing to logg=4.00 for T= 34770 logg=3.86\n",
      "Changing to logg=3.00 for T= 20714 logg=2.51\n",
      "Changing to T= 50000 for T= 52159 logg=4.06\n",
      "Changing to logg=5.00 for T= 52159 logg=4.06\n",
      "Changing to logg=3.00 for T= 21875 logg=2.53\n",
      "Changing to logg=4.00 for T= 34106 logg=3.57\n",
      "Changing to logg=2.50 for T= 15844 logg=1.75\n",
      "Changing to logg=2.50 for T= 11953 logg=1.83\n",
      "Changing to logg=2.50 for T= 11953 logg=1.83\n",
      "Changing to logg=2.00 for T=  9858 logg=0.92\n",
      "Changing to logg=3.50 for T= 29445 logg=3.49\n",
      "Changing to logg=2.50 for T= 11953 logg=1.83\n",
      "Changing to logg=4.50 for T= 40326 logg=4.02\n",
      "Changing to logg=3.00 for T= 20501 logg=2.17\n",
      "Changing to logg=3.00 for T= 23460 logg=2.65\n",
      "Changing to logg=2.50 for T= 12942 logg=1.36\n",
      "Changing to logg=4.50 for T= 44609 logg=3.55\n",
      "Changing to logg=2.50 for T= 15753 logg=1.97\n",
      "Changing to logg=3.50 for T= 28474 logg=3.41\n",
      "Changing to logg=2.00 for T= 10999 logg=1.08\n",
      "Changing to logg=4.00 for T= 32195 logg=3.67\n",
      "Changing to logg=4.00 for T= 31625 logg=3.48\n",
      "Changing to logg=2.00 for T=  9486 logg=0.85\n",
      "Changing to logg=3.50 for T= 29227 logg=3.14\n",
      "Changing to logg=2.50 for T= 11953 logg=1.83\n",
      "Changing to logg=3.00 for T= 23453 logg=2.43\n",
      "Changing to logg=2.00 for T= 11587 logg=1.20\n",
      "Changing to logg=4.00 for T= 38324 logg=3.32\n",
      "Changing to logg=2.50 for T= 15185 logg=1.68\n",
      "Changing to logg=4.00 for T= 31111 logg=3.98\n",
      "Changing to T= 50000 for T= 53132 logg=3.86\n",
      "Changing to logg=5.00 for T= 53132 logg=3.86\n",
      "Changing to logg=4.00 for T= 38582 logg=3.95\n",
      "Changing to logg=2.00 for T= 10044 logg=0.93\n",
      "Changing to logg=2.50 for T= 15268 logg=1.66\n",
      "Changing to logg=2.50 for T= 11953 logg=1.83\n",
      "Changing to logg=3.00 for T= 25568 logg=2.87\n",
      "Changing to logg=4.00 for T= 33813 logg=3.59\n",
      "Changing to logg=5.00 for T= 49831 logg=3.98\n",
      "Changing to logg=3.50 for T= 29992 logg=2.87\n",
      "Changing to logg=2.50 for T= 11953 logg=1.83\n",
      "Changing to logg=4.50 for T= 41157 logg=3.63\n",
      "Changing to logg=2.50 for T= 12251 logg=1.30\n",
      "Changing to logg=3.00 for T= 23641 logg=2.44\n",
      "Changing to logg=3.50 for T= 26146 logg=3.43\n",
      "Changing to logg=4.00 for T= 33759 logg=3.43\n",
      "Changing to logg=4.00 for T= 35090 logg=3.35\n",
      "Changing to logg=3.00 for T= 21113 logg=2.20\n",
      "Changing to logg=2.50 for T= 11953 logg=1.83\n",
      "Changing to logg=2.50 for T= 13964 logg=1.51\n",
      "Changing to logg=1.50 for T=  8792 logg=0.97\n",
      "Changing to logg=3.00 for T= 20516 logg=2.16\n",
      "Changing to logg=2.00 for T= 10456 logg=0.99\n",
      "Changing to logg=2.00 for T= 10846 logg=1.08\n",
      "Changing to logg=2.50 for T= 11953 logg=1.83\n",
      "Changing to logg=3.50 for T= 28086 logg=2.77\n",
      "Changing to logg=4.00 for T= 34365 logg=3.11\n",
      "Changing to logg=4.00 for T= 31316 logg=3.34\n",
      "Changing to logg=2.00 for T=  9831 logg=0.95\n",
      "Changing to T= 50000 for T=201085 logg=6.01\n",
      "Changing to logg=5.00 for T=201085 logg=6.01\n",
      "Changing to logg=3.50 for T= 26090 logg=2.91\n",
      "Changing to logg=2.50 for T= 13162 logg=1.40\n",
      "Changing to logg=4.00 for T= 33612 logg=3.78\n",
      "Changing to logg=4.00 for T= 33778 logg=3.90\n",
      "Changing to logg=3.50 for T= 28695 logg=2.81\n",
      "Changing to logg=3.00 for T= 19889 logg=2.13\n",
      "Changing to logg=4.00 for T= 34831 logg=3.59\n",
      "Changing to logg=3.00 for T= 19341 logg=2.10\n",
      "Changing to logg=3.00 for T= 25286 logg=2.56\n",
      "Changing to logg=3.00 for T= 21618 logg=2.26\n",
      "Changing to logg=4.00 for T= 32021 logg=3.01\n",
      "Changing to T= 50000 for T= 73590 logg=4.78\n",
      "Changing to logg=5.00 for T= 73590 logg=4.78\n",
      "Changing to logg=4.00 for T= 32815 logg=3.05\n",
      "Changing to logg=2.50 for T= 11886 logg=1.24\n",
      "Changing to logg=2.50 for T= 15485 logg=1.67\n",
      "Changing to logg=2.50 for T= 16346 logg=1.77\n",
      "Changing to logg=3.00 for T= 21301 logg=2.28\n",
      "Changing to logg=2.00 for T= 10082 logg=0.94\n",
      "Changing to logg=2.50 for T= 11953 logg=1.83\n",
      "Changing to logg=2.50 for T= 12150 logg=1.25\n",
      "Changing to logg=4.00 for T= 33069 logg=3.97\n",
      "Changing to logg=2.50 for T= 11953 logg=1.83\n",
      "Changing to logg=4.00 for T= 33087 logg=3.25\n",
      "Changing to logg=2.50 for T= 18634 logg=2.02\n",
      "Changing to logg=4.50 for T= 40154 logg=4.02\n",
      "Changing to logg=4.50 for T= 43817 logg=3.81\n",
      "Changing to logg=4.00 for T= 31584 logg=2.95\n",
      "Changing to T= 50000 for T=108863 logg=5.37\n",
      "Changing to logg=5.00 for T=108863 logg=5.37\n",
      "Changing to logg=2.50 for T= 11953 logg=1.83\n",
      "Changing to logg=2.50 for T= 13649 logg=1.64\n",
      "Changing to logg=2.50 for T= 15120 logg=1.64\n",
      "Changing to logg=2.50 for T= 16928 logg=1.85\n",
      "Changing to logg=3.50 for T= 29934 logg=3.46\n",
      "Changing to logg=4.00 for T= 34751 logg=3.40\n",
      "Changing to logg=5.00 for T= 49091 logg=3.72\n",
      "Changing to logg=4.00 for T= 37973 logg=3.30\n",
      "Changing to logg=4.00 for T= 33050 logg=3.78\n",
      "Changing to logg=2.50 for T= 11953 logg=1.83\n",
      "Changing to logg=2.50 for T= 11953 logg=1.83\n",
      "Changing to logg=2.50 for T= 11953 logg=1.83\n",
      "Changing to logg=4.00 for T= 36115 logg=3.99\n",
      "Changing to T= 50000 for T=105619 logg=5.06\n",
      "Changing to logg=5.00 for T=105619 logg=5.06\n",
      "Changing to logg=4.00 for T= 34383 logg=3.53\n",
      "Changing to T= 50000 for T= 70870 logg=4.69\n",
      "Changing to logg=5.00 for T= 70870 logg=4.69\n",
      "Changing to logg=2.50 for T= 12749 logg=1.60\n",
      "Changing to logg=2.50 for T= 12039 logg=1.25\n",
      "Changing to logg=2.50 for T= 12246 logg=1.30\n",
      "Changing to logg=2.50 for T= 11953 logg=1.83\n",
      "Changing to logg=4.50 for T= 39184 logg=3.36\n",
      "Changing to logg=3.50 for T= 26551 logg=2.62\n",
      "Changing to logg=2.50 for T= 15182 logg=1.65\n",
      "Changing to logg=3.50 for T= 26101 logg=2.62\n",
      "Changing to logg=3.50 for T= 28929 logg=2.81\n",
      "Changing to logg=2.00 for T= 11159 logg=1.11\n",
      "Changing to T= 50000 for T= 64838 logg=4.49\n",
      "Changing to logg=5.00 for T= 64838 logg=4.49\n",
      "Changing to logg=2.00 for T= 11423 logg=1.17\n",
      "Changing to T= 50000 for T= 62004 logg=4.40\n",
      "Changing to logg=5.00 for T= 62004 logg=4.40\n",
      "Changing to logg=2.50 for T= 15447 logg=1.67\n",
      "Changing to logg=3.00 for T= 21608 logg=2.26\n",
      "Changing to logg=4.50 for T= 48595 logg=3.72\n",
      "Changing to T= 50000 for T= 89759 logg=5.15\n",
      "Changing to logg=5.00 for T= 89759 logg=5.15\n",
      "Changing to logg=2.50 for T= 18668 logg=2.00\n",
      "Changing to logg=4.00 for T= 37692 logg=3.28\n",
      "Changing to logg=4.00 for T= 32605 logg=3.00\n",
      "Changing to logg=2.50 for T= 15507 logg=1.71\n",
      "Changing to logg=2.50 for T= 17238 logg=1.87\n",
      "Changing to logg=3.50 for T= 26892 logg=2.88\n",
      "Changing to logg=3.00 for T= 19791 logg=2.10\n",
      "Changing to logg=2.50 for T= 11953 logg=1.83\n",
      "Changing to logg=2.00 for T= 10012 logg=0.94\n",
      "Changing to logg=3.00 for T= 23483 logg=2.40\n",
      "Changing to logg=3.50 for T= 30994 logg=2.93\n",
      "Changing to logg=4.50 for T= 40168 logg=3.97\n",
      "Changing to logg=4.00 for T= 31753 logg=3.87\n",
      "Changing to logg=3.00 for T= 22211 logg=2.33\n",
      "Changing to logg=4.00 for T= 31430 logg=2.97\n",
      "Changing to logg=2.50 for T= 14971 logg=1.65\n",
      "Changing to logg=3.00 for T= 20055 logg=2.17\n",
      "Changing to logg=3.50 for T= 29402 logg=2.84\n",
      "Changing to logg=4.00 for T= 37110 logg=3.51\n",
      "Changing to logg=3.50 for T= 29097 logg=3.02\n",
      "Changing to logg=4.50 for T= 44039 logg=3.75\n",
      "Changing to logg=2.50 for T= 18038 logg=2.20\n",
      "Changing to logg=3.50 for T= 29837 logg=3.14\n",
      "Changing to logg=2.50 for T= 11953 logg=1.83\n",
      "Changing to logg=3.00 for T= 20335 logg=2.15\n",
      "Changing to logg=4.00 for T= 34521 logg=3.99\n",
      "Changing to logg=2.50 for T= 11953 logg=1.83\n",
      "Changing to logg=4.00 for T= 33912 logg=3.36\n",
      "Changing to logg=3.00 for T= 19914 logg=2.45\n",
      "Changing to logg=4.00 for T= 36888 logg=3.22\n",
      "Changing to T= 50000 for T= 75074 logg=4.80\n",
      "Changing to logg=5.00 for T= 75074 logg=4.80\n",
      "Changing to logg=2.50 for T= 11953 logg=1.83\n",
      "Changing to logg=3.50 for T= 29569 logg=3.12\n",
      "Changing to logg=0.50 for T=  7388 logg=0.40\n",
      "Changing to logg=4.00 for T= 38042 logg=3.27\n",
      "Changing to logg=4.50 for T= 40325 logg=3.59\n",
      "Changing to logg=3.00 for T= 23724 logg=2.47\n",
      "Changing to logg=4.00 for T= 32394 logg=3.96\n",
      "Changing to logg=2.50 for T= 11953 logg=1.83\n",
      "Changing to logg=2.50 for T= 18199 logg=1.95\n",
      "Changing to logg=4.00 for T= 32719 logg=3.04\n",
      "Changing to logg=3.50 for T= 27871 logg=3.02\n",
      "Changing to logg=4.00 for T= 33346 logg=3.07\n",
      "Changing to T= 50000 for T=124934 logg=5.35\n",
      "Changing to logg=5.00 for T=124934 logg=5.35\n",
      "Changing to logg=0.50 for T=  6594 logg=0.24\n",
      "Changing to logg=3.50 for T= 28787 logg=2.99\n",
      "Changing to logg=4.00 for T= 31579 logg=2.96\n",
      "Changing to logg=2.50 for T= 11953 logg=1.83\n",
      "Changing to T= 50000 for T= 75264 logg=4.84\n",
      "Changing to logg=5.00 for T= 75264 logg=4.84\n",
      "Changing to logg=3.00 for T= 20819 logg=2.85\n",
      "Changing to logg=2.50 for T= 15819 logg=2.21\n",
      "Changing to logg=2.50 for T= 11953 logg=1.83\n",
      "Changing to logg=2.50 for T= 14949 logg=1.88\n",
      "Changing to logg=2.50 for T= 15824 logg=1.74\n",
      "Changing to logg=2.50 for T= 13598 logg=1.71\n",
      "Changing to logg=2.50 for T= 13740 logg=1.50\n",
      "Changing to logg=4.00 for T= 37726 logg=3.29\n",
      "Changing to T= 50000 for T= 59465 logg=4.31\n",
      "Changing to logg=5.00 for T= 59465 logg=4.31\n",
      "Changing to logg=3.50 for T= 30706 logg=2.90\n",
      "Changing to logg=4.00 for T= 31982 logg=3.74\n",
      "Changing to T= 50000 for T= 52552 logg=4.08\n",
      "Changing to logg=5.00 for T= 52552 logg=4.08\n",
      "Changing to logg=3.00 for T= 24780 logg=2.51\n",
      "Changing to T= 50000 for T= 77582 logg=4.87\n",
      "Changing to logg=5.00 for T= 77582 logg=4.87\n",
      "Changing to logg=2.50 for T= 11953 logg=1.83\n",
      "Changing to logg=2.00 for T= 11179 logg=1.12\n",
      "Changing to logg=2.50 for T= 11953 logg=1.83\n",
      "Changing to logg=3.00 for T= 22331 logg=2.57\n",
      "Changing to logg=2.50 for T= 14721 logg=1.54\n",
      "Changing to logg=4.00 for T= 31093 logg=2.90\n",
      "Changing to logg=2.50 for T= 13454 logg=1.43\n",
      "Changing to logg=2.50 for T= 11953 logg=1.83\n",
      "Changing to logg=3.00 for T= 19573 logg=2.34\n",
      "Changing to logg=2.00 for T= 10767 logg=1.04\n",
      "Changing to T= 50000 for T= 53696 logg=4.19\n",
      "Changing to logg=5.00 for T= 53696 logg=4.19\n",
      "Changing to logg=4.00 for T= 34555 logg=3.12\n",
      "Changing to logg=2.50 for T= 16448 logg=1.80\n",
      "Changing to logg=4.00 for T= 37430 logg=3.75\n",
      "Changing to logg=2.00 for T= 11491 logg=1.18\n",
      "Changing to logg=4.00 for T= 33304 logg=3.86\n",
      "Changing to logg=3.50 for T= 27742 logg=2.91\n",
      "Changing to T= 50000 for T= 66555 logg=4.55\n",
      "Changing to logg=5.00 for T= 66555 logg=4.55\n",
      "Changing to logg=2.00 for T=  9454 logg=0.84\n",
      "Changing to logg=4.00 for T= 34488 logg=3.79\n",
      "Changing to logg=4.50 for T= 47203 logg=3.65\n",
      "Changing to logg=2.50 for T= 11787 logg=1.21\n",
      "Changing to logg=4.00 for T= 34051 logg=3.89\n",
      "Changing to T= 50000 for T=126981 logg=5.37\n",
      "Changing to logg=5.00 for T=126981 logg=5.37\n",
      "Changing to logg=2.50 for T= 13843 logg=1.48\n",
      "Changing to logg=2.50 for T= 13637 logg=1.45\n",
      "Changing to T= 50000 for T= 63558 logg=4.45\n",
      "Changing to logg=5.00 for T= 63558 logg=4.45\n",
      "Changing to logg=4.50 for T= 44236 logg=3.48\n",
      "Changing to logg=2.50 for T= 11953 logg=1.83\n",
      "Changing to logg=2.50 for T= 11953 logg=1.83\n",
      "Changing to logg=4.00 for T= 36065 logg=3.46\n",
      "Changing to logg=4.50 for T= 40713 logg=3.41\n",
      "Changing to logg=2.50 for T= 12147 logg=1.26\n",
      "Changing to logg=2.50 for T= 12959 logg=1.38\n",
      "Changing to T= 50000 for T= 71367 logg=4.69\n",
      "Changing to logg=5.00 for T= 71367 logg=4.69\n",
      "Changing to logg=4.00 for T= 33624 logg=3.94\n",
      "Changing to logg=2.50 for T= 16590 logg=1.83\n",
      "Changing to logg=2.50 for T= 11953 logg=1.83\n",
      "Changing to logg=3.00 for T= 21103 logg=2.55\n",
      "Changing to logg=2.50 for T= 16251 logg=2.02\n",
      "Changing to T= 50000 for T= 60853 logg=4.36\n",
      "Changing to logg=5.00 for T= 60853 logg=4.36\n",
      "Changing to logg=2.00 for T= 10291 logg=0.98\n",
      "Changing to T= 50000 for T= 56351 logg=4.20\n",
      "Changing to logg=5.00 for T= 56351 logg=4.20\n",
      "Changing to logg=4.00 for T= 34972 logg=3.13\n",
      "Changing to logg=4.50 for T= 43228 logg=3.50\n",
      "Changing to logg=3.00 for T= 21692 logg=2.52\n",
      "Changing to logg=0.50 for T=  6551 logg=0.46\n",
      "Changing to logg=4.00 for T= 36115 logg=3.40\n",
      "Changing to T= 50000 for T=142479 logg=5.64\n",
      "Changing to logg=5.00 for T=142479 logg=5.64\n",
      "Changing to logg=3.50 for T= 29023 logg=2.83\n",
      "Changing to logg=2.50 for T= 18110 logg=1.96\n",
      "Changing to logg=4.00 for T= 31640 logg=3.88\n",
      "Changing to logg=4.50 for T= 41138 logg=3.44\n",
      "Changing to T= 50000 for T=127476 logg=5.37\n",
      "Changing to logg=5.00 for T=127476 logg=5.37\n",
      "Changing to logg=3.00 for T= 21235 logg=2.28\n",
      "Changing to logg=2.50 for T= 15171 logg=1.65\n",
      "Changing to T= 50000 for T=111828 logg=5.43\n",
      "Changing to logg=5.00 for T=111828 logg=5.43\n",
      "Changing to T= 50000 for T= 74437 logg=4.79\n",
      "Changing to logg=5.00 for T= 74437 logg=4.79\n",
      "Changing to logg=3.00 for T= 25037 logg=2.57\n",
      "Changing to logg=4.50 for T= 47211 logg=3.94\n",
      "Changing to logg=2.50 for T= 13282 logg=1.40\n",
      "Changing to logg=3.50 for T= 28527 logg=3.46\n",
      "Changing to logg=3.50 for T= 28685 logg=2.77\n",
      "Changing to logg=4.00 for T= 31305 logg=2.91\n",
      "Changing to logg=4.00 for T= 31018 logg=3.55\n",
      "Changing to logg=3.00 for T= 23583 logg=2.91\n",
      "Changing to logg=2.50 for T= 11892 logg=1.82\n",
      "Changing to logg=2.50 for T= 11953 logg=1.83\n",
      "Changing to logg=4.50 for T= 41371 logg=3.71\n",
      "Changing to logg=3.00 for T= 23627 logg=2.47\n",
      "Changing to logg=4.00 for T= 31444 logg=3.23\n",
      "Changing to logg=2.50 for T= 11953 logg=1.83\n",
      "Changing to logg=4.50 for T= 48116 logg=3.91\n",
      "Changing to logg=3.50 for T= 28030 logg=2.73\n",
      "Changing to logg=2.50 for T= 13987 logg=1.53\n",
      "Changing to logg=2.50 for T= 18218 logg=1.98\n",
      "Changing to logg=2.00 for T= 11192 logg=1.14\n",
      "Changing to logg=3.50 for T= 27219 logg=2.68\n",
      "Changing to logg=3.00 for T= 24518 logg=2.53\n",
      "Changing to logg=2.50 for T= 14174 logg=1.52\n",
      "Changing to logg=2.50 for T= 18912 logg=2.28\n",
      "Changing to T= 50000 for T=115931 logg=5.21\n",
      "Changing to logg=5.00 for T=115931 logg=5.21\n",
      "Changing to T= 50000 for T= 92255 logg=5.23\n",
      "Changing to logg=5.00 for T= 92255 logg=5.23\n",
      "Changing to logg=2.50 for T= 11953 logg=1.83\n",
      "Changing to logg=3.00 for T= 21602 logg=2.26\n",
      "Changing to logg=2.00 for T=  9630 logg=0.86\n",
      "Changing to T= 50000 for T= 61709 logg=4.38\n",
      "Changing to logg=5.00 for T= 61709 logg=4.38\n",
      "Changing to T= 50000 for T= 89135 logg=4.69\n",
      "Changing to logg=5.00 for T= 89135 logg=4.69\n",
      "Changing to T= 50000 for T= 57711 logg=4.25\n",
      "Changing to logg=5.00 for T= 57711 logg=4.25\n",
      "Changing to logg=4.00 for T= 33833 logg=3.35\n",
      "Changing to logg=2.50 for T= 12971 logg=1.39\n",
      "Changing to logg=2.50 for T= 13814 logg=1.51\n",
      "Changing to logg=4.00 for T= 34580 logg=3.72\n",
      "Changing to logg=2.50 for T= 17643 logg=1.89\n",
      "Changing to logg=4.00 for T= 34071 logg=3.51\n",
      "Changing to logg=2.50 for T= 11953 logg=1.83\n",
      "Changing to logg=3.50 for T= 26782 logg=3.32\n",
      "Changing to T= 50000 for T=116915 logg=5.23\n",
      "Changing to logg=5.00 for T=116915 logg=5.23\n",
      "Changing to logg=2.00 for T= 11741 logg=1.19\n",
      "Changing to logg=3.50 for T= 27580 logg=2.74\n",
      "Changing to logg=4.50 for T= 45850 logg=3.82\n",
      "Changing to logg=3.50 for T= 27016 logg=2.69\n",
      "Changing to logg=2.00 for T=  9248 logg=0.79\n",
      "Changing to logg=3.50 for T= 28166 logg=2.78\n",
      "Changing to logg=3.00 for T= 20326 logg=2.48\n",
      "Changing to logg=2.00 for T= 11278 logg=1.40\n",
      "Changing to logg=2.50 for T= 18378 logg=2.23\n",
      "Changing to logg=2.50 for T= 11953 logg=1.83\n",
      "Changing to logg=3.50 for T= 26913 logg=2.70\n",
      "Changing to logg=4.00 for T= 35749 logg=3.85\n",
      "Changing to logg=4.50 for T= 42502 logg=3.76\n",
      "Changing to logg=2.00 for T= 11130 logg=1.10\n",
      "Changing to logg=1.00 for T=  8146 logg=0.84\n",
      "Changing to logg=3.00 for T= 24174 logg=2.77\n",
      "Changing to logg=3.00 for T= 25413 logg=2.86\n",
      "Changing to T= 50000 for T= 51713 logg=4.05\n",
      "Changing to logg=5.00 for T= 51713 logg=4.05\n",
      "Changing to logg=2.50 for T= 16536 logg=1.78\n",
      "Changing to logg=3.00 for T= 25242 logg=2.78\n",
      "Changing to logg=2.00 for T=  9384 logg=0.82\n",
      "Changing to logg=2.50 for T= 11953 logg=1.83\n",
      "Changing to logg=2.50 for T= 18747 logg=2.35\n",
      "Changing to logg=3.00 for T= 25665 logg=2.88\n",
      "Changing to logg=2.50 for T= 18565 logg=2.03\n",
      "Changing to logg=4.00 for T= 31860 logg=2.94\n",
      "Changing to logg=3.00 for T= 21295 logg=2.25\n",
      "Changing to logg=2.50 for T= 11953 logg=1.83\n",
      "Changing to logg=2.00 for T= 10529 logg=1.02\n",
      "Changing to logg=3.00 for T= 24419 logg=2.72\n",
      "Changing to logg=3.50 for T= 28318 logg=2.79\n",
      "Changing to logg=3.00 for T= 25063 logg=2.53\n",
      "Changing to logg=2.50 for T= 18221 logg=2.30\n",
      "Changing to logg=2.00 for T=  9152 logg=1.27\n",
      "Changing to logg=2.50 for T= 11953 logg=1.83\n",
      "Changing to logg=4.00 for T= 36211 logg=3.20\n",
      "Changing to logg=3.50 for T= 26826 logg=2.95\n",
      "Changing to logg=2.50 for T= 11953 logg=1.83\n",
      "Changing to logg=2.50 for T= 11953 logg=1.83\n",
      "Changing to logg=3.50 for T= 27796 logg=3.16\n",
      "Changing to logg=3.50 for T= 30042 logg=3.15\n",
      "Changing to logg=3.00 for T= 21579 logg=2.87\n",
      "Changing to logg=3.00 for T= 19250 logg=2.07\n",
      "Changing to T= 50000 for T= 50807 logg=4.01\n",
      "Changing to logg=5.00 for T= 50807 logg=4.01\n",
      "Changing to logg=3.00 for T= 20547 logg=2.50\n",
      "Changing to logg=2.50 for T= 14531 logg=1.58\n",
      "Changing to logg=4.00 for T= 33993 logg=3.30\n",
      "Changing to logg=3.50 for T= 29681 logg=3.44\n",
      "Changing to logg=2.50 for T= 16578 logg=1.80\n",
      "Changing to logg=2.50 for T= 13489 logg=1.46\n",
      "Changing to logg=3.00 for T= 22591 logg=2.36\n",
      "Changing to logg=2.50 for T= 14880 logg=1.60\n",
      "Changing to logg=4.00 for T= 31852 logg=2.96\n",
      "Changing to logg=2.50 for T= 11953 logg=1.83\n",
      "Changing to logg=3.50 for T= 29877 logg=2.87\n",
      "Changing to logg=2.00 for T= 11226 logg=1.14\n",
      "Changing to logg=2.50 for T= 11953 logg=1.83\n",
      "Changing to logg=4.50 for T= 44376 logg=3.83\n",
      "Changing to logg=2.50 for T= 12126 logg=1.26\n",
      "Changing to logg=1.50 for T=  8425 logg=1.22\n",
      "Changing to logg=3.50 for T= 29585 logg=2.86\n",
      "Changing to T= 50000 for T= 73220 logg=4.77\n",
      "Changing to logg=5.00 for T= 73220 logg=4.77\n",
      "Changing to logg=2.50 for T= 11953 logg=1.83\n",
      "Changing to logg=3.00 for T= 21691 logg=2.52\n",
      "Changing to logg=4.00 for T= 32770 logg=3.30\n",
      "Changing to logg=3.00 for T= 25814 logg=2.61\n",
      "Changing to logg=3.00 for T= 21609 logg=2.31\n",
      "Changing to T= 50000 for T= 91287 logg=5.21\n",
      "Changing to logg=5.00 for T= 91287 logg=5.21\n",
      "Changing to logg=2.50 for T= 14006 logg=1.53\n",
      "Changing to logg=2.50 for T= 11953 logg=1.83\n",
      "Changing to logg=4.00 for T= 34029 logg=3.99\n",
      "Changing to logg=2.50 for T= 13396 logg=1.45\n",
      "Changing to logg=3.00 for T= 22118 logg=2.62\n",
      "Changing to logg=3.50 for T= 26486 logg=2.86\n",
      "Changing to logg=2.50 for T= 11953 logg=1.83\n",
      "Changing to logg=3.50 for T= 28103 logg=2.96\n",
      "Changing to logg=3.50 for T= 27749 logg=2.73\n",
      "Changing to logg=3.00 for T= 25744 logg=2.62\n",
      "Changing to logg=2.50 for T= 11982 logg=1.23\n",
      "Changing to logg=4.00 for T= 32138 logg=3.62\n",
      "Changing to logg=2.50 for T= 17089 logg=1.84\n",
      "Changing to logg=2.00 for T=  9772 logg=0.87\n",
      "Changing to T= 50000 for T= 89824 logg=5.14\n",
      "Changing to logg=5.00 for T= 89824 logg=5.14\n",
      "Changing to logg=2.50 for T= 11953 logg=1.83\n",
      "Changing to logg=2.50 for T= 11953 logg=1.83\n",
      "Changing to logg=3.00 for T= 22562 logg=2.36\n",
      "Changing to logg=4.00 for T= 36247 logg=3.91\n",
      "Changing to logg=3.50 for T= 29547 logg=3.12\n",
      "Changing to logg=2.00 for T=  9079 logg=0.83\n",
      "Changing to logg=4.50 for T= 42029 logg=3.73\n",
      "Changing to logg=2.50 for T= 15717 logg=1.72\n",
      "Changing to logg=2.50 for T= 17793 logg=2.18\n",
      "Changing to logg=2.50 for T= 14900 logg=1.62\n",
      "Changing to logg=2.50 for T= 17181 logg=1.89\n",
      "Changing to logg=3.00 for T= 21918 logg=2.32\n",
      "Changing to logg=3.00 for T= 22718 logg=2.37\n",
      "Changing to logg=4.00 for T= 35845 logg=3.39\n",
      "Changing to logg=2.50 for T= 11953 logg=1.83\n",
      "Changing to logg=2.50 for T= 11953 logg=1.83\n",
      "Changing to logg=4.50 for T= 41172 logg=3.92\n",
      "Changing to logg=4.50 for T= 45926 logg=3.89\n",
      "Changing to logg=3.50 for T= 28358 logg=2.75\n",
      "Changing to T= 50000 for T=125974 logg=5.36\n",
      "Changing to logg=5.00 for T=125974 logg=5.36\n",
      "Changing to logg=3.50 for T= 26158 logg=2.63\n",
      "Changing to T= 50000 for T= 91441 logg=5.19\n",
      "Changing to logg=5.00 for T= 91441 logg=5.19\n",
      "Changing to logg=4.00 for T= 37562 logg=3.98\n",
      "Changing to logg=2.50 for T= 14680 logg=1.77\n",
      "Changing to logg=3.50 for T= 29084 logg=3.47\n",
      "Changing to logg=2.50 for T= 17855 logg=2.19\n",
      "Changing to logg=4.00 for T= 36722 logg=3.21\n",
      "Changing to logg=2.50 for T= 15344 logg=2.01\n",
      "Changing to logg=2.50 for T= 11953 logg=1.83\n",
      "Changing to logg=2.50 for T= 11953 logg=1.83\n",
      "Changing to logg=3.50 for T= 29164 logg=2.80\n",
      "Changing to logg=2.50 for T= 16790 logg=2.08\n",
      "Changing to logg=2.50 for T= 11892 logg=1.82\n",
      "Changing to logg=2.50 for T= 11953 logg=1.83\n",
      "Changing to logg=2.50 for T= 11953 logg=1.83\n",
      "Changing to T= 50000 for T=127803 logg=5.38\n",
      "Changing to logg=5.00 for T=127803 logg=5.38\n",
      "Changing to logg=4.00 for T= 34304 logg=3.84\n",
      "Changing to logg=2.50 for T= 11953 logg=1.83\n",
      "Changing to logg=4.00 for T= 32910 logg=3.21\n",
      "Changing to logg=2.50 for T= 12008 logg=1.84\n",
      "Changing to logg=2.50 for T= 17007 logg=1.84\n",
      "Changing to logg=2.50 for T= 16915 logg=1.83\n",
      "Changing to logg=2.50 for T= 11953 logg=1.83\n",
      "Changing to logg=2.50 for T= 14983 logg=1.88\n",
      "Changing to logg=3.50 for T= 29162 logg=3.07\n",
      "Changing to logg=2.50 for T= 14210 logg=1.53\n",
      "Changing to logg=4.00 for T= 37066 logg=3.26\n",
      "Changing to T= 50000 for T= 72991 logg=4.76\n",
      "Changing to logg=5.00 for T= 72991 logg=4.76\n",
      "Changing to logg=3.50 for T= 28012 logg=2.73\n",
      "Changing to logg=1.50 for T=  8974 logg=1.35\n",
      "Changing to logg=2.50 for T= 11953 logg=1.83\n",
      "Changing to logg=4.00 for T= 34611 logg=3.12\n",
      "Changing to T= 50000 for T=103498 logg=5.02\n",
      "Changing to logg=5.00 for T=103498 logg=5.02\n",
      "Changing to logg=3.00 for T= 20172 logg=2.15\n",
      "Changing to logg=3.50 for T= 26057 logg=2.83\n",
      "Changing to logg=3.50 for T= 26760 logg=3.30\n",
      "Changing to logg=2.50 for T= 18993 logg=2.03\n",
      "Changing to logg=2.50 for T= 11953 logg=1.83\n",
      "Changing to logg=4.50 for T= 39839 logg=3.95\n",
      "Changing to logg=4.50 for T= 39732 logg=4.04\n",
      "Changing to logg=2.50 for T= 16452 logg=1.78\n",
      "Changing to logg=2.00 for T=  9547 logg=0.86\n",
      "Changing to logg=3.50 for T= 30156 logg=2.88\n",
      "Changing to logg=4.50 for T= 45586 logg=3.62\n",
      "Changing to logg=4.00 for T= 32981 logg=3.24\n",
      "Changing to logg=3.00 for T= 23329 logg=2.40\n",
      "Changing to logg=2.50 for T= 11953 logg=1.83\n",
      "Changing to logg=3.50 for T= 27028 logg=2.70\n",
      "Changing to logg=4.00 for T= 38923 logg=3.84\n",
      "Changing to logg=2.50 for T= 11953 logg=1.83\n",
      "Changing to logg=2.50 for T= 15951 logg=1.99\n",
      "Changing to logg=2.50 for T= 11953 logg=1.83\n",
      "Changing to logg=3.50 for T= 30157 logg=3.42\n",
      "Changing to logg=3.50 for T= 27432 logg=2.93\n",
      "Changing to logg=2.50 for T= 11953 logg=1.83\n",
      "Changing to logg=2.50 for T= 14360 logg=1.56\n",
      "Changing to T= 50000 for T= 63192 logg=4.44\n",
      "Changing to logg=5.00 for T= 63192 logg=4.44\n",
      "Changing to logg=2.50 for T= 16504 logg=1.82\n",
      "Changing to logg=2.50 for T= 13946 logg=1.76\n",
      "Changing to logg=3.00 for T= 25219 logg=2.58\n",
      "Changing to logg=2.50 for T= 18738 logg=2.02\n",
      "Changing to logg=3.50 for T= 29295 logg=3.10\n",
      "Changing to logg=3.00 for T= 20894 logg=2.20\n",
      "Changing to T= 50000 for T=117685 logg=5.25\n",
      "Changing to logg=5.00 for T=117685 logg=5.25\n",
      "Changing to logg=2.50 for T= 11953 logg=1.83\n",
      "Changing to logg=2.50 for T= 11953 logg=1.83\n",
      "Changing to logg=2.50 for T= 11953 logg=1.83\n",
      "Changing to T= 50000 for T= 52353 logg=4.07\n",
      "Changing to logg=5.00 for T= 52353 logg=4.07\n",
      "Changing to logg=3.50 for T= 26046 logg=2.60\n",
      "Changing to logg=2.50 for T= 15920 logg=1.66\n",
      "Changing to logg=2.50 for T= 11953 logg=1.83\n",
      "Changing to T= 50000 for T=110685 logg=5.39\n",
      "Changing to logg=5.00 for T=110685 logg=5.39\n",
      "Changing to logg=2.50 for T= 11953 logg=1.83\n",
      "Changing to logg=2.50 for T= 14269 logg=1.80\n",
      "Changing to logg=2.50 for T= 11953 logg=1.83\n",
      "Changing to logg=2.50 for T= 11953 logg=1.83\n",
      "Changing to logg=3.50 for T= 29863 logg=2.84\n",
      "Changing to logg=4.50 for T= 44410 logg=3.77\n",
      "Changing to logg=4.00 for T= 33652 logg=3.06\n",
      "Changing to logg=3.00 for T= 21885 logg=2.60\n",
      "Changing to logg=4.50 for T= 42386 logg=3.68\n",
      "Changing to logg=2.00 for T= 10844 logg=1.08\n",
      "Changing to logg=2.50 for T= 17697 logg=1.94\n",
      "Changing to logg=3.00 for T= 25112 logg=2.84\n",
      "Changing to logg=3.00 for T= 24868 logg=2.76\n",
      "Changing to logg=2.50 for T= 12282 logg=1.89\n",
      "Changing to logg=3.50 for T= 27083 logg=2.67\n",
      "Changing to logg=2.50 for T= 17342 logg=2.14\n",
      "Changing to logg=3.50 for T= 30635 logg=2.90\n",
      "Changing to logg=2.50 for T= 15351 logg=1.66\n",
      "Changing to logg=2.50 for T= 11953 logg=1.83\n",
      "Changing to logg=2.50 for T= 11953 logg=1.83\n",
      "Changing to logg=3.00 for T= 22445 logg=2.57\n",
      "Changing to logg=3.00 for T= 21150 logg=2.27\n",
      "Changing to logg=4.50 for T= 42111 logg=3.67\n",
      "Changing to logg=3.50 for T= 28880 logg=3.47\n",
      "Changing to logg=4.00 for T= 33366 logg=3.77\n",
      "Changing to logg=4.00 for T= 32154 logg=3.01\n",
      "Changing to logg=2.50 for T= 11953 logg=1.83\n",
      "Changing to logg=3.00 for T= 22193 logg=2.31\n",
      "Changing to logg=4.50 for T= 41273 logg=4.12\n",
      "Changing to logg=3.00 for T= 21639 logg=2.59\n",
      "Changing to logg=4.50 for T= 40163 logg=3.39\n",
      "Changing to logg=2.00 for T=  9988 logg=0.92\n",
      "Changing to logg=2.50 for T= 16490 logg=1.78\n",
      "Changing to logg=0.50 for T=  6805 logg=0.34\n",
      "Changing to logg=2.00 for T= 10049 logg=0.92\n",
      "Changing to logg=3.00 for T= 24650 logg=2.50\n",
      "Changing to logg=4.50 for T= 42597 logg=3.69\n",
      "Changing to logg=2.00 for T= 11171 logg=1.12\n",
      "Changing to logg=2.50 for T= 16899 logg=2.09\n",
      "Changing to logg=2.50 for T= 11953 logg=1.83\n",
      "Changing to logg=3.50 for T= 27196 logg=3.34\n",
      "Changing to logg=2.50 for T= 12586 logg=1.34\n",
      "Changing to logg=2.50 for T= 12635 logg=1.33\n",
      "Changing to logg=2.50 for T= 12157 logg=1.28\n",
      "Changing to logg=4.00 for T= 36650 logg=3.99\n",
      "Changing to logg=4.00 for T= 31288 logg=3.32\n",
      "Changing to logg=3.00 for T= 21155 logg=2.70\n",
      "Changing to logg=4.50 for T= 43934 logg=3.54\n",
      "Changing to logg=4.00 for T= 31496 logg=2.94\n",
      "Changing to logg=3.00 for T= 22951 logg=2.61\n",
      "Changing to logg=2.50 for T= 11953 logg=1.83\n",
      "Changing to logg=2.50 for T= 11953 logg=1.83\n",
      "Changing to logg=2.00 for T= 10556 logg=1.00\n",
      "Changing to logg=2.00 for T= 11350 logg=1.15\n",
      "Changing to logg=2.50 for T= 11953 logg=1.83\n",
      "Changing to logg=3.50 for T= 27450 logg=2.72\n",
      "Changing to logg=3.50 for T= 26208 logg=2.84\n",
      "Changing to logg=3.00 for T= 25879 logg=2.59\n",
      "Changing to logg=4.00 for T= 35244 logg=3.15\n",
      "Changing to logg=2.50 for T= 12202 logg=1.29\n",
      "Changing to logg=3.00 for T= 21686 logg=2.30\n",
      "Changing to logg=2.50 for T= 11953 logg=1.83\n",
      "Changing to logg=2.50 for T= 11953 logg=1.83\n",
      "Changing to logg=4.00 for T= 34642 logg=3.39\n",
      "Changing to logg=2.00 for T= 11440 logg=1.17\n",
      "Changing to logg=2.50 for T= 12952 logg=1.38\n",
      "Changing to logg=2.50 for T= 11953 logg=1.83\n",
      "Changing to logg=3.00 for T= 19398 logg=2.11\n",
      "Changing to logg=2.50 for T= 12773 logg=1.33\n",
      "Changing to logg=2.50 for T= 11953 logg=1.83\n",
      "Changing to logg=2.00 for T= 10049 logg=0.95\n",
      "Changing to logg=2.50 for T= 14052 logg=1.52\n",
      "Changing to logg=3.50 for T= 30731 logg=3.37\n",
      "Changing to logg=4.00 for T= 33735 logg=3.08\n",
      "Changing to logg=3.00 for T= 24633 logg=2.81\n",
      "Changing to logg=2.50 for T= 12514 logg=1.30\n",
      "Changing to logg=2.50 for T= 12986 logg=1.40\n",
      "Changing to logg=3.50 for T= 30989 logg=2.93\n",
      "Changing to logg=3.00 for T= 25570 logg=2.57\n",
      "Changing to logg=3.00 for T= 24540 logg=2.73\n",
      "Changing to logg=2.50 for T= 11953 logg=1.83\n",
      "Changing to logg=2.50 for T= 11953 logg=1.83\n",
      "Changing to logg=2.50 for T= 17581 logg=1.89\n",
      "Changing to logg=3.50 for T= 27010 logg=2.67\n",
      "Changing to T= 50000 for T= 68751 logg=4.61\n",
      "Changing to logg=5.00 for T= 68751 logg=4.61\n",
      "Changing to logg=3.00 for T= 24761 logg=2.55\n",
      "Changing to logg=2.50 for T= 11953 logg=1.83\n",
      "Changing to logg=4.00 for T= 32764 logg=3.03\n",
      "Changing to T= 50000 for T=117744 logg=5.25\n",
      "Changing to logg=5.00 for T=117744 logg=5.25\n",
      "Changing to logg=3.50 for T= 29669 logg=3.06\n",
      "Changing to logg=2.00 for T=  9851 logg=0.92\n",
      "Changing to logg=2.50 for T= 11953 logg=1.83\n",
      "Changing to logg=3.50 for T= 27706 logg=2.94\n",
      "Changing to logg=3.00 for T= 25766 logg=2.81\n",
      "Changing to logg=2.50 for T= 17775 logg=1.91\n",
      "Changing to logg=2.50 for T= 11953 logg=1.83\n",
      "Changing to logg=2.00 for T= 11558 logg=1.16\n",
      "Changing to logg=2.50 for T= 13054 logg=1.39\n",
      "Changing to logg=2.50 for T= 14304 logg=1.57\n",
      "Changing to logg=2.50 for T= 11953 logg=1.83\n",
      "Changing to logg=2.50 for T= 11953 logg=1.83\n",
      "Changing to logg=4.00 for T= 36735 logg=3.43\n",
      "Changing to logg=4.00 for T= 37265 logg=3.81\n",
      "Changing to logg=3.00 for T= 25861 logg=2.89\n",
      "Changing to logg=2.00 for T=  9977 logg=0.94\n",
      "Changing to logg=3.50 for T= 26511 logg=2.65\n",
      "Changing to logg=2.50 for T= 11953 logg=1.83\n",
      "Changing to logg=3.00 for T= 20480 logg=2.42\n",
      "Changing to logg=2.50 for T= 17655 logg=1.94\n",
      "Changing to logg=3.50 for T= 27883 logg=2.95\n",
      "Changing to logg=2.00 for T= 10415 logg=1.01\n",
      "Changing to logg=3.00 for T= 24173 logg=2.47\n",
      "Changing to T= 50000 for T= 70362 logg=4.66\n",
      "Changing to logg=5.00 for T= 70362 logg=4.66\n",
      "Changing to logg=3.50 for T= 28915 logg=3.01\n",
      "Changing to T= 50000 for T=118899 logg=5.27\n",
      "Changing to logg=5.00 for T=118899 logg=5.27\n",
      "Changing to T= 50000 for T= 69499 logg=4.63\n",
      "Changing to logg=5.00 for T= 69499 logg=4.63\n",
      "Changing to logg=4.00 for T= 36400 logg=3.20\n",
      "Changing to logg=4.00 for T= 35401 logg=3.16\n",
      "Changing to logg=4.50 for T= 43153 logg=3.49\n",
      "Changing to logg=2.00 for T= 11161 logg=1.12\n",
      "Changing to T= 50000 for T=124474 logg=5.34\n",
      "Changing to logg=5.00 for T=124474 logg=5.34\n",
      "Changing to logg=2.50 for T= 11953 logg=1.83\n",
      "Changing to logg=2.50 for T= 11953 logg=1.83\n",
      "Changing to logg=4.00 for T= 33907 logg=3.29\n",
      "Changing to logg=2.50 for T= 16124 logg=1.75\n",
      "Changing to logg=2.50 for T= 11953 logg=1.83\n",
      "Changing to logg=2.50 for T= 17713 logg=1.93\n",
      "Changing to T= 50000 for T= 55978 logg=4.20\n",
      "Changing to logg=5.00 for T= 55978 logg=4.20\n",
      "Changing to logg=3.50 for T= 28503 logg=3.21\n",
      "Changing to T= 50000 for T= 62553 logg=4.41\n",
      "Changing to logg=5.00 for T= 62553 logg=4.41\n",
      "Changing to logg=2.50 for T= 11953 logg=1.83\n",
      "Changing to T= 50000 for T= 69306 logg=4.64\n",
      "Changing to logg=5.00 for T= 69306 logg=4.64\n",
      "Changing to logg=4.50 for T= 41570 logg=3.99\n",
      "Changing to logg=3.00 for T= 24047 logg=2.47\n",
      "Changing to logg=2.50 for T= 15549 logg=1.69\n",
      "Changing to logg=4.00 for T= 31863 logg=3.96\n",
      "Changing to logg=2.50 for T= 11953 logg=1.83\n",
      "Changing to logg=0.50 for T=  6490 logg=0.44\n",
      "Changing to logg=4.50 for T= 39406 logg=4.07\n",
      "Changing to logg=4.50 for T= 39663 logg=3.36\n",
      "Changing to logg=5.00 for T= 49077 logg=4.01\n",
      "Changing to logg=4.00 for T= 31262 logg=3.34\n",
      "Changing to logg=3.00 for T= 24136 logg=2.46\n",
      "Changing to logg=4.50 for T= 46698 logg=3.63\n",
      "Changing to logg=2.00 for T= 11466 logg=1.18\n",
      "Changing to T= 50000 for T= 68914 logg=4.62\n",
      "Changing to logg=5.00 for T= 68914 logg=4.62\n",
      "Changing to logg=2.00 for T= 10828 logg=1.08\n",
      "Changing to logg=2.50 for T= 11953 logg=1.83\n",
      "Changing to logg=4.00 for T= 31390 logg=3.78\n",
      "Changing to logg=2.50 for T= 11921 logg=1.23\n",
      "Changing to T= 50000 for T=147550 logg=5.57\n",
      "Changing to logg=5.00 for T=147550 logg=5.57\n",
      "Changing to logg=4.50 for T= 42537 logg=3.48\n",
      "Changing to logg=2.50 for T= 11953 logg=1.83\n",
      "Changing to logg=4.50 for T= 40654 logg=3.39\n",
      "Changing to logg=2.00 for T=  9256 logg=0.81\n",
      "Changing to logg=4.50 for T= 39152 logg=3.32\n",
      "Changing to logg=4.00 for T= 37221 logg=3.23\n",
      "Changing to logg=2.00 for T= 10823 logg=1.08\n",
      "Changing to logg=4.00 for T= 37540 logg=3.54\n",
      "Changing to logg=2.00 for T= 10524 logg=1.00\n",
      "Changing to logg=2.00 for T= 11639 logg=1.18\n",
      "Changing to logg=2.50 for T= 11953 logg=1.83\n",
      "Changing to logg=4.00 for T= 33805 logg=3.10\n",
      "Changing to logg=3.50 for T= 28199 logg=2.97\n",
      "Changing to logg=3.50 for T= 27648 logg=2.71\n",
      "Changing to logg=4.00 for T= 37732 logg=3.69\n",
      "Changing to logg=2.50 for T= 17615 logg=1.90\n",
      "Changing to logg=2.00 for T= 10562 logg=1.00\n",
      "Changing to logg=2.50 for T= 15543 logg=1.94\n",
      "Changing to logg=4.00 for T= 37802 logg=3.94\n",
      "Changing to logg=4.00 for T= 33918 logg=3.29\n",
      "Changing to logg=2.50 for T= 11942 logg=1.83\n",
      "Changing to logg=2.00 for T= 10174 logg=0.96\n",
      "Changing to logg=3.00 for T= 23358 logg=2.45\n",
      "Changing to T= 50000 for T= 74748 logg=4.79\n",
      "Changing to logg=5.00 for T= 74748 logg=4.79\n",
      "Changing to logg=2.50 for T= 12718 logg=1.95\n",
      "Changing to logg=0.00 for T=  3997 logg=-0.39\n",
      "Changing to T= 50000 for T= 74561 logg=4.76\n",
      "Changing to logg=5.00 for T= 74561 logg=4.76\n",
      "Changing to T= 50000 for T=104205 logg=5.02\n",
      "Changing to logg=5.00 for T=104205 logg=5.02\n",
      "Changing to logg=2.50 for T= 11931 logg=1.21\n",
      "Changing to logg=4.00 for T= 32623 logg=3.99\n",
      "Changing to logg=4.00 for T= 31591 logg=3.62\n",
      "Changing to T= 50000 for T= 69383 logg=4.64\n",
      "Changing to logg=5.00 for T= 69383 logg=4.64\n",
      "Changing to logg=4.00 for T= 31060 logg=2.93\n",
      "Changing to logg=4.00 for T= 32733 logg=3.96\n",
      "Changing to logg=2.00 for T=  9201 logg=1.18\n",
      "Changing to logg=4.50 for T= 45080 logg=3.86\n",
      "Changing to logg=4.00 for T= 33539 logg=3.97\n",
      "Changing to T= 50000 for T= 63320 logg=4.18\n",
      "Changing to logg=5.00 for T= 63320 logg=4.18\n",
      "Changing to logg=4.00 for T= 32137 logg=3.85\n",
      "Changing to logg=2.00 for T= 11070 logg=1.12\n",
      "Changing to logg=3.00 for T= 21118 logg=2.55\n",
      "Changing to T= 50000 for T= 78139 logg=4.89\n",
      "Changing to logg=5.00 for T= 78139 logg=4.89\n",
      "Changing to logg=1.00 for T=  8242 logg=0.85\n",
      "Changing to logg=3.50 for T= 28279 logg=2.75\n",
      "Changing to logg=0.00 for T=  3950 logg=-0.38\n",
      "Changing to logg=0.00 for T=  4271 logg=-0.49\n",
      "Changing to logg=1.50 for T=  8768 logg=0.96\n",
      "Changing to logg=2.50 for T= 11942 logg=1.83\n",
      "Changing to logg=3.50 for T= 30959 logg=2.93\n",
      "Changing to logg=2.50 for T= 12718 logg=1.95\n",
      "Changing to logg=2.50 for T= 12561 logg=1.93\n",
      "Changing to T= 50000 for T= 54349 logg=4.14\n",
      "Changing to logg=5.00 for T= 54349 logg=4.14\n",
      "Changing to T= 50000 for T= 50163 logg=3.77\n",
      "Changing to logg=5.00 for T= 50163 logg=3.77\n",
      "Changing to logg=2.50 for T= 15139 logg=1.63\n",
      "Changing to logg=3.50 for T= 27537 logg=3.00\n",
      "Changing to logg=3.00 for T= 25777 logg=2.88\n",
      "Changing to logg=2.50 for T= 12718 logg=1.95\n",
      "Changing to logg=4.00 for T= 37696 logg=3.27\n",
      "Changing to logg=4.00 for T= 32451 logg=3.99\n",
      "Changing to logg=3.00 for T= 24079 logg=2.70\n",
      "Changing to logg=3.00 for T= 20136 logg=2.18\n",
      "Changing to logg=0.00 for T=  3997 logg=-0.36\n",
      "Changing to logg=2.50 for T= 12718 logg=1.95\n",
      "Changing to logg=4.00 for T= 32266 logg=3.27\n",
      "Changing to logg=3.50 for T= 29564 logg=3.48\n",
      "Changing to logg=0.00 for T=  4183 logg=-0.07\n",
      "Changing to logg=3.00 for T= 22428 logg=2.34\n",
      "Changing to logg=3.00 for T= 24826 logg=2.82\n",
      "Changing to T= 50000 for T= 75436 logg=4.78\n",
      "Changing to logg=5.00 for T= 75436 logg=4.78\n",
      "Changing to logg=2.00 for T= 11041 logg=1.08\n",
      "Changing to logg=0.00 for T=  4182 logg=-0.07\n",
      "Changing to logg=3.50 for T= 28511 logg=2.80\n",
      "Changing to logg=3.50 for T= 27307 logg=2.70\n",
      "Changing to logg=2.50 for T= 15788 logg=2.06\n",
      "Changing to logg=2.50 for T= 11942 logg=1.83\n",
      "Changing to logg=4.00 for T= 33539 logg=3.97\n",
      "Changing to logg=0.00 for T=  3950 logg=-0.38\n",
      "Changing to logg=2.50 for T= 12522 logg=1.33\n",
      "Changing to logg=3.00 for T= 25145 logg=2.84\n",
      "Changing to logg=2.00 for T= 10637 logg=1.30\n",
      "Changing to T= 50000 for T= 52139 logg=4.06\n",
      "Changing to logg=5.00 for T= 52139 logg=4.06\n",
      "Changing to logg=4.00 for T= 34077 logg=3.97\n",
      "Changing to logg=2.50 for T= 11942 logg=1.83\n",
      "Changing to logg=2.50 for T= 15655 logg=1.70\n",
      "Changing to logg=4.00 for T= 37113 logg=3.44\n",
      "Changing to logg=0.00 for T=  4183 logg=-0.07\n",
      "Changing to logg=0.00 for T=  3998 logg=-0.36\n",
      "Changing to logg=4.50 for T= 39842 logg=3.56\n",
      "Changing to T= 50000 for T= 50863 logg=3.97\n",
      "Changing to logg=5.00 for T= 50863 logg=3.97\n",
      "Changing to logg=4.00 for T= 34871 logg=3.41\n",
      "Changing to logg=4.00 for T= 37119 logg=3.26\n",
      "Changing to logg=3.00 for T= 19292 logg=2.32\n",
      "Changing to logg=0.00 for T=  3998 logg=-0.33\n",
      "Changing to logg=4.50 for T= 39602 logg=3.63\n",
      "Changing to logg=0.00 for T=  3950 logg=-0.38\n",
      "Changing to logg=3.50 for T= 30541 logg=2.92\n",
      "Changing to logg=2.50 for T= 12393 logg=1.31\n",
      "Changing to logg=0.00 for T=  4183 logg=-0.07\n",
      "Changing to logg=4.50 for T= 44674 logg=3.56\n",
      "Changing to logg=2.50 for T= 12718 logg=1.95\n",
      "Changing to logg=0.00 for T=  3998 logg=-0.33\n",
      "Changing to logg=0.00 for T=  4183 logg=-0.07\n",
      "Changing to logg=4.00 for T= 31259 logg=3.83\n",
      "Changing to logg=0.00 for T=  4183 logg=-0.07\n",
      "Changing to logg=0.50 for T=  6228 logg=0.10\n",
      "Changing to logg=0.00 for T=  4524 logg=-0.42\n",
      "Changing to logg=2.50 for T= 16928 logg=1.86\n",
      "Changing to T= 50000 for T= 53343 logg=4.17\n",
      "Changing to logg=5.00 for T= 53343 logg=4.17\n",
      "Changing to logg=4.50 for T= 46620 logg=3.92\n",
      "Changing to logg=0.00 for T=  3997 logg=-0.39\n",
      "Changing to logg=1.00 for T=  8218 logg=0.85\n",
      "Changing to logg=2.00 for T= 11540 logg=1.17\n",
      "Changing to logg=4.50 for T= 46385 logg=4.32\n",
      "Changing to logg=3.50 for T= 29068 logg=3.02\n",
      "Changing to logg=4.00 for T= 33539 logg=3.97\n",
      "Changing to logg=3.50 for T= 26928 logg=3.43\n",
      "Changing to logg=4.00 for T= 37311 logg=3.53\n",
      "Changing to T= 50000 for T= 67809 logg=4.30\n",
      "Changing to logg=5.00 for T= 67809 logg=4.30\n",
      "Changing to logg=0.00 for T=  3998 logg=-0.33\n",
      "Changing to logg=2.50 for T= 14090 logg=1.54\n",
      "Changing to logg=0.00 for T=  3997 logg=-0.39\n",
      "Changing to logg=4.50 for T= 40683 logg=4.38\n",
      "Changing to logg=0.00 for T=  4183 logg=-0.07\n",
      "Changing to logg=0.00 for T=  3997 logg=-0.39\n",
      "Changing to T= 50000 for T= 57768 logg=4.32\n",
      "Changing to logg=5.00 for T= 57768 logg=4.32\n",
      "Changing to logg=0.00 for T=  4183 logg=-0.07\n",
      "Changing to logg=4.00 for T= 32744 logg=3.97\n",
      "Changing to logg=4.00 for T= 31617 logg=3.17\n",
      "Changing to logg=4.00 for T= 32887 logg=3.99\n",
      "Changing to logg=4.00 for T= 36456 logg=3.24\n",
      "Changing to logg=4.00 for T= 33999 logg=3.98\n",
      "Changing to logg=2.50 for T= 12786 logg=1.37\n",
      "Changing to logg=2.50 for T= 12718 logg=1.95\n",
      "Changing to logg=2.50 for T= 12718 logg=1.95\n",
      "Changing to logg=2.50 for T= 11942 logg=1.83\n",
      "Changing to logg=0.00 for T=  4144 logg=-0.11\n",
      "Changing to logg=3.00 for T= 23542 logg=2.37\n",
      "Changing to logg=4.50 for T= 40319 logg=3.41\n",
      "Changing to logg=4.00 for T= 35427 logg=3.17\n",
      "Changing to logg=3.00 for T= 22637 logg=2.59\n",
      "Changing to logg=0.00 for T=  3998 logg=-0.33\n",
      "Changing to logg=4.00 for T= 32551 logg=3.99\n",
      "Changing to logg=3.50 for T= 28153 logg=2.96\n",
      "Changing to logg=3.00 for T= 21072 logg=2.26\n",
      "Changing to logg=2.50 for T= 12561 logg=1.93\n",
      "Changing to logg=2.50 for T= 11942 logg=1.83\n",
      "Changing to T= 50000 for T= 81943 logg=4.62\n",
      "Changing to logg=5.00 for T= 81943 logg=4.62\n",
      "Changing to T= 50000 for T= 50325 logg=4.06\n",
      "Changing to logg=5.00 for T= 50325 logg=4.06\n",
      "Changing to logg=2.50 for T= 11942 logg=1.83\n",
      "Changing to logg=0.00 for T=  4183 logg=-0.07\n",
      "Changing to T= 50000 for T= 55325 logg=3.93\n",
      "Changing to logg=5.00 for T= 55325 logg=3.93\n",
      "Changing to logg=2.00 for T= 10241 logg=0.97\n",
      "Changing to T= 50000 for T= 69440 logg=4.64\n",
      "Changing to logg=5.00 for T= 69440 logg=4.64\n",
      "Changing to logg=3.50 for T= 27564 logg=3.36\n",
      "Changing to T= 50000 for T= 95984 logg=4.90\n",
      "Changing to logg=5.00 for T= 95984 logg=4.90\n",
      "Changing to logg=2.50 for T= 11942 logg=1.83\n",
      "Changing to logg=2.50 for T= 12718 logg=1.95\n",
      "Changing to logg=0.00 for T=  4144 logg=-0.11\n",
      "Changing to T= 50000 for T= 95163 logg=4.88\n",
      "Changing to logg=5.00 for T= 95163 logg=4.88\n",
      "Changing to logg=0.00 for T=  3950 logg=-0.38\n",
      "Changing to logg=3.00 for T= 24268 logg=2.78\n",
      "Changing to logg=3.00 for T= 20368 logg=2.17\n",
      "Changing to logg=0.00 for T=  3998 logg=-0.36\n",
      "Changing to logg=4.00 for T= 38104 logg=3.28\n",
      "Changing to logg=0.00 for T=  4183 logg=-0.07\n",
      "Changing to logg=2.50 for T= 15341 logg=1.93\n",
      "Changing to logg=0.00 for T=  3998 logg=-0.33\n",
      "Changing to logg=4.00 for T= 35818 logg=3.45\n",
      "Changing to T= 50000 for T= 87084 logg=5.05\n",
      "Changing to logg=5.00 for T= 87084 logg=5.05\n",
      "Changing to logg=3.00 for T= 23116 logg=2.70\n",
      "Changing to logg=2.50 for T= 14200 logg=1.54\n",
      "Changing to logg=0.00 for T=  4144 logg=-0.11\n",
      "Changing to logg=4.00 for T= 37002 logg=3.43\n",
      "Changing to logg=0.00 for T=  3998 logg=-0.33\n",
      "Changing to logg=4.00 for T= 33539 logg=3.97\n",
      "Changing to logg=4.00 for T= 33254 logg=3.97\n",
      "Changing to logg=4.00 for T= 32737 logg=3.96\n",
      "Changing to logg=4.00 for T= 32315 logg=3.96\n",
      "Changing to logg=3.00 for T= 19444 logg=2.32\n",
      "Changing to logg=4.00 for T= 32458 logg=3.01\n",
      "Changing to logg=4.50 for T= 47637 logg=3.88\n",
      "Changing to T= 50000 for T= 65145 logg=4.22\n",
      "Changing to logg=5.00 for T= 65145 logg=4.22\n",
      "Changing to logg=0.00 for T=  3950 logg=-0.38\n",
      "Changing to logg=3.00 for T= 20687 logg=2.51\n",
      "Changing to logg=4.50 for T= 41118 logg=3.43\n",
      "Changing to logg=3.50 for T= 28096 logg=2.95\n",
      "Changing to T= 50000 for T= 89092 logg=5.11\n",
      "Changing to logg=5.00 for T= 89092 logg=5.11\n",
      "Changing to logg=4.50 for T= 41303 logg=3.44\n",
      "Changing to logg=2.50 for T= 12933 logg=1.37\n",
      "Changing to logg=0.00 for T=  3950 logg=-0.38\n",
      "Changing to logg=4.00 for T= 33294 logg=3.84\n",
      "Changing to logg=3.00 for T= 19167 logg=2.38\n",
      "Changing to logg=3.00 for T= 22329 logg=2.64\n",
      "Changing to logg=2.50 for T= 11942 logg=1.83\n",
      "Changing to logg=0.00 for T=  4176 logg=-0.07\n",
      "Changing to logg=0.00 for T=  3997 logg=-0.36\n",
      "Changing to logg=4.00 for T= 31955 logg=3.00\n",
      "Changing to logg=4.00 for T= 33622 logg=3.34\n",
      "Changing to logg=0.00 for T=  3998 logg=-0.33\n",
      "Changing to logg=4.50 for T= 44438 logg=3.57\n",
      "Changing to logg=2.50 for T= 11942 logg=1.83\n",
      "Changing to logg=3.00 for T= 21938 logg=2.28\n",
      "Changing to logg=2.50 for T= 14303 logg=1.57\n",
      "Changing to logg=0.00 for T=  4183 logg=-0.07\n",
      "Changing to logg=0.00 for T=  3998 logg=-0.36\n",
      "Changing to logg=3.00 for T= 23364 logg=2.65\n",
      "Changing to logg=2.50 for T= 12561 logg=1.93\n",
      "Changing to logg=0.00 for T=  4531 logg=-0.42\n",
      "Changing to logg=2.50 for T= 12718 logg=1.95\n",
      "Changing to logg=2.50 for T= 11942 logg=1.83\n",
      "Changing to logg=2.50 for T= 11942 logg=1.83\n",
      "Changing to logg=2.50 for T= 18524 logg=2.25\n",
      "Changing to logg=3.00 for T= 22900 logg=2.40\n",
      "Changing to T= 50000 for T= 86435 logg=5.42\n",
      "Changing to logg=5.00 for T= 86435 logg=5.42\n",
      "Changing to T= 50000 for T= 89826 logg=5.13\n",
      "Changing to logg=5.00 for T= 89826 logg=5.13\n",
      "Changing to logg=4.00 for T= 31468 logg=3.73\n",
      "Changing to T= 50000 for T= 99993 logg=5.35\n",
      "Changing to logg=5.00 for T= 99993 logg=5.35\n",
      "Changing to logg=3.50 for T= 26284 logg=3.42\n",
      "Changing to logg=2.50 for T= 12718 logg=1.95\n",
      "Changing to logg=2.50 for T= 12652 logg=1.35\n",
      "Changing to logg=2.00 for T=  9740 logg=0.90\n",
      "Changing to T= 50000 for T= 70906 logg=4.67\n",
      "Changing to logg=5.00 for T= 70906 logg=4.67\n",
      "Changing to logg=0.00 for T=  3950 logg=-0.38\n",
      "Changing to logg=2.50 for T= 12561 logg=1.93\n",
      "Changing to logg=2.50 for T= 12561 logg=1.93\n",
      "Changing to logg=0.00 for T=  4474 logg=-0.18\n",
      "Changing to logg=0.00 for T=  4183 logg=-0.07\n",
      "Changing to logg=2.00 for T= 11274 logg=1.13\n",
      "Changing to logg=4.00 for T= 31957 logg=3.74\n",
      "Changing to logg=3.00 for T= 19181 logg=2.38\n",
      "Changing to T= 50000 for T= 59039 logg=4.30\n",
      "Changing to logg=5.00 for T= 59039 logg=4.30\n",
      "Changing to logg=4.00 for T= 32582 logg=3.96\n",
      "Changing to T= 50000 for T= 90402 logg=5.15\n",
      "Changing to logg=5.00 for T= 90402 logg=5.15\n",
      "Changing to logg=2.00 for T=  9574 logg=0.87\n",
      "Changing to logg=2.50 for T= 11942 logg=1.83\n",
      "Changing to logg=0.00 for T=  3998 logg=-0.36\n",
      "Changing to T= 50000 for T= 50389 logg=3.78\n",
      "Changing to logg=5.00 for T= 50389 logg=3.78\n",
      "Changing to logg=2.50 for T= 13082 logg=1.41\n",
      "Changing to logg=0.00 for T=  4183 logg=-0.07\n",
      "Changing to logg=0.00 for T=  4183 logg=-0.07\n",
      "Changing to logg=3.50 for T= 28081 logg=2.76\n",
      "Changing to logg=4.00 for T= 31573 logg=3.83\n",
      "Changing to T= 50000 for T= 74922 logg=4.82\n",
      "Changing to logg=5.00 for T= 74922 logg=4.82\n",
      "Changing to logg=4.00 for T= 32558 logg=3.87\n",
      "Changing to logg=4.00 for T= 36091 logg=3.47\n",
      "Changing to logg=2.50 for T= 17397 logg=1.89\n",
      "Changing to logg=2.50 for T= 11942 logg=1.83\n",
      "Changing to logg=2.50 for T= 12718 logg=1.95\n",
      "Changing to logg=2.00 for T=  9689 logg=0.87\n",
      "Changing to logg=4.00 for T= 31841 logg=3.85\n",
      "Changing to logg=4.50 for T= 42436 logg=4.35\n",
      "Changing to logg=4.00 for T= 37458 logg=3.46\n",
      "Changing to T= 50000 for T= 57412 logg=4.22\n",
      "Changing to logg=5.00 for T= 57412 logg=4.22\n",
      "Changing to logg=2.50 for T= 12228 logg=1.26\n",
      "Changing to logg=3.00 for T= 21843 logg=2.53\n",
      "Changing to logg=4.00 for T= 31779 logg=3.65\n",
      "Changing to logg=3.50 for T= 29870 logg=3.14\n",
      "Changing to logg=0.00 for T=  4183 logg=-0.07\n",
      "Changing to logg=0.00 for T=  3998 logg=-0.33\n",
      "Changing to logg=4.00 for T= 32635 logg=3.97\n",
      "Changing to logg=0.00 for T=  4314 logg=-0.49\n",
      "Changing to logg=4.00 for T= 33539 logg=3.97\n",
      "Changing to logg=4.00 for T= 32582 logg=3.99\n",
      "Changing to logg=0.00 for T=  3950 logg=-0.38\n",
      "Changing to logg=0.00 for T=  3998 logg=-0.33\n",
      "Changing to logg=2.50 for T= 12718 logg=1.95\n",
      "Changing to logg=3.50 for T= 30588 logg=2.92\n",
      "Changing to logg=2.50 for T= 12187 logg=1.27\n",
      "Changing to logg=2.50 for T= 11942 logg=1.83\n",
      "Changing to logg=0.00 for T=  3950 logg=-0.38\n",
      "Changing to T= 50000 for T= 68102 logg=4.33\n",
      "Changing to logg=5.00 for T= 68102 logg=4.33\n",
      "Changing to logg=4.00 for T= 33539 logg=3.97\n",
      "Changing to T= 50000 for T= 77053 logg=4.91\n",
      "Changing to logg=5.00 for T= 77053 logg=4.91\n",
      "Changing to T= 50000 for T= 55898 logg=4.26\n",
      "Changing to logg=5.00 for T= 55898 logg=4.26\n",
      "Changing to T= 50000 for T= 78708 logg=4.53\n",
      "Changing to logg=5.00 for T= 78708 logg=4.53\n",
      "Changing to logg=0.00 for T=  3950 logg=-0.38\n",
      "Changing to logg=3.50 for T= 27796 logg=2.95\n",
      "Changing to T= 50000 for T= 65983 logg=4.52\n",
      "Changing to logg=5.00 for T= 65983 logg=4.52\n",
      "Changing to logg=0.00 for T=  3998 logg=-0.33\n",
      "Changing to logg=4.00 for T= 31297 logg=2.96\n",
      "Changing to logg=3.00 for T= 23454 logg=2.72\n",
      "Changing to logg=2.50 for T= 11942 logg=1.83\n",
      "Changing to logg=4.00 for T= 31233 logg=3.83\n",
      "Changing to T= 50000 for T= 78053 logg=4.93\n",
      "Changing to logg=5.00 for T= 78053 logg=4.93\n",
      "Changing to logg=2.00 for T= 10719 logg=1.04\n",
      "Changing to logg=4.00 for T= 33080 logg=3.97\n",
      "Changing to logg=4.00 for T= 31546 logg=3.83\n",
      "Changing to logg=0.00 for T=  3997 logg=-0.36\n",
      "Changing to logg=4.00 for T= 37545 logg=3.28\n",
      "Changing to logg=2.50 for T= 14588 logg=1.60\n",
      "Changing to logg=3.50 for T= 28005 logg=2.77\n",
      "Changing to logg=3.50 for T= 29392 logg=3.04\n",
      "Changing to logg=2.50 for T= 11942 logg=1.83\n",
      "Changing to logg=2.50 for T= 18387 logg=2.31\n",
      "Changing to T= 50000 for T= 86127 logg=5.03\n",
      "Changing to logg=5.00 for T= 86127 logg=5.03\n",
      "Changing to T= 50000 for T= 61234 logg=4.33\n",
      "Changing to logg=5.00 for T= 61234 logg=4.33\n",
      "Changing to logg=3.50 for T= 28557 logg=2.99\n",
      "Changing to logg=0.00 for T=  4575 logg=-0.42\n",
      "Changing to logg=0.00 for T=  3997 logg=-0.36\n",
      "Changing to logg=0.00 for T=  4183 logg=-0.07\n",
      "Changing to logg=2.50 for T= 11942 logg=1.83\n",
      "Changing to logg=0.00 for T=  3998 logg=-0.33\n",
      "Changing to logg=0.00 for T=  4183 logg=-0.07\n",
      "Changing to logg=2.50 for T= 12561 logg=1.93\n",
      "Changing to logg=0.00 for T=  4183 logg=-0.07\n",
      "Changing to logg=0.00 for T=  4124 logg=-0.51\n",
      "Changing to logg=4.00 for T= 31312 logg=3.99\n",
      "Changing to logg=4.00 for T= 31270 logg=3.83\n",
      "Changing to logg=0.00 for T=  3998 logg=-0.33\n",
      "Changing to logg=0.00 for T=  4166 logg=-0.09\n",
      "Changing to T= 50000 for T= 67144 logg=4.28\n",
      "Changing to logg=5.00 for T= 67144 logg=4.28\n",
      "Changing to T= 50000 for T= 73544 logg=4.78\n",
      "Changing to logg=5.00 for T= 73544 logg=4.78\n",
      "Changing to logg=3.00 for T= 20590 logg=2.50\n",
      "Changing to logg=2.00 for T=  9804 logg=0.91\n",
      "Changing to logg=0.00 for T=  3998 logg=-0.33\n",
      "Changing to logg=4.50 for T= 40054 logg=3.39\n",
      "Changing to logg=3.00 for T= 25993 logg=2.90\n",
      "Changing to logg=4.00 for T= 36215 logg=3.22\n",
      "Changing to logg=3.50 for T= 30993 logg=3.13\n",
      "Changing to logg=4.00 for T= 33313 logg=4.00\n",
      "Changing to logg=2.50 for T= 12718 logg=1.95\n",
      "Changing to logg=0.50 for T=  6965 logg=0.31\n",
      "Changing to logg=4.00 for T= 32475 logg=3.99\n",
      "Changing to logg=2.50 for T= 11942 logg=1.83\n",
      "Changing to logg=3.50 for T= 27038 logg=2.70\n",
      "Changing to logg=0.00 for T=  3998 logg=-0.36\n",
      "Changing to logg=4.00 for T= 33539 logg=3.97\n",
      "Changing to logg=0.00 for T=  3950 logg=-0.38\n",
      "Changing to logg=0.00 for T=  4603 logg=-0.14\n",
      "Changing to logg=3.00 for T= 21010 logg=2.46\n",
      "Changing to logg=2.50 for T= 11942 logg=1.83\n",
      "Changing to T= 50000 for T= 56136 logg=4.20\n",
      "Changing to logg=5.00 for T= 56136 logg=4.20\n",
      "Changing to logg=0.00 for T=  4183 logg=-0.51\n",
      "Changing to logg=2.50 for T= 15570 logg=1.72\n",
      "Changing to logg=4.00 for T= 32492 logg=3.66\n",
      "Changing to T= 50000 for T= 78213 logg=4.55\n",
      "Changing to logg=5.00 for T= 78213 logg=4.55\n",
      "Changing to logg=2.50 for T= 18594 logg=2.33\n",
      "Changing to logg=3.50 for T= 26289 logg=3.42\n",
      "Changing to logg=4.00 for T= 38001 logg=3.56\n",
      "Changing to logg=0.00 for T=  4183 logg=-0.07\n",
      "Changing to logg=4.00 for T= 32840 logg=3.97\n",
      "Changing to logg=3.50 for T= 28746 logg=3.07\n",
      "Changing to logg=0.00 for T=  4183 logg=-0.07\n",
      "Changing to logg=0.00 for T=  4144 logg=-0.11\n",
      "Changing to logg=0.00 for T=  3997 logg=-0.39\n",
      "Changing to logg=4.00 for T= 35768 logg=3.18\n",
      "Changing to logg=4.00 for T= 32165 logg=3.96\n",
      "Changing to logg=5.00 for T= 49246 logg=3.95\n",
      "Changing to T= 50000 for T= 52009 logg=4.12\n",
      "Changing to logg=5.00 for T= 52009 logg=4.12\n",
      "Changing to logg=4.50 for T= 46762 logg=3.65\n",
      "Changing to T= 50000 for T= 83620 logg=5.48\n",
      "Changing to logg=5.00 for T= 83620 logg=5.48\n",
      "Changing to T= 50000 for T= 77543 logg=4.93\n",
      "Changing to logg=5.00 for T= 77543 logg=4.93\n",
      "Changing to logg=0.00 for T=  3998 logg=-0.33\n",
      "Changing to logg=2.50 for T= 11942 logg=1.83\n",
      "Changing to logg=2.50 for T= 16344 logg=1.78\n",
      "Changing to logg=3.50 for T= 26457 logg=3.40\n",
      "Changing to logg=0.00 for T=  3998 logg=-0.36\n",
      "Changing to T= 50000 for T= 70473 logg=4.68\n",
      "Changing to logg=5.00 for T= 70473 logg=4.68\n",
      "Changing to T= 50000 for T= 67144 logg=4.28\n",
      "Changing to logg=5.00 for T= 67144 logg=4.28\n",
      "Changing to logg=4.00 for T= 31663 logg=3.95\n",
      "Changing to logg=2.50 for T= 11942 logg=1.83\n",
      "Changing to logg=2.50 for T= 12718 logg=1.95\n",
      "Changing to logg=4.00 for T= 33539 logg=3.97\n",
      "Changing to logg=2.50 for T= 18431 logg=1.99\n",
      "Changing to T= 50000 for T= 85247 logg=4.71\n",
      "Changing to logg=5.00 for T= 85247 logg=4.71\n",
      "Changing to logg=2.50 for T= 12561 logg=1.93\n",
      "Changing to logg=0.00 for T=  4144 logg=-0.11\n",
      "Changing to logg=2.50 for T= 15640 logg=1.95\n",
      "Changing to logg=2.00 for T= 11672 logg=1.20\n",
      "Changing to logg=4.00 for T= 32018 logg=3.61\n",
      "Changing to logg=2.50 for T= 18787 logg=2.03\n",
      "Changing to logg=2.50 for T= 11942 logg=1.83\n",
      "Changing to logg=3.00 for T= 24494 logg=2.80\n",
      "Changing to logg=3.50 for T= 27778 logg=2.74\n",
      "Changing to logg=0.00 for T=  3975 logg=-0.43\n",
      "Changing to logg=4.50 for T= 42350 logg=3.75\n",
      "Changing to logg=2.50 for T= 12718 logg=1.95\n",
      "Changing to T= 50000 for T=103889 logg=5.04\n",
      "Changing to logg=5.00 for T=103889 logg=5.04\n",
      "Changing to logg=2.50 for T= 12561 logg=1.93\n",
      "Changing to logg=0.00 for T=  4144 logg=-0.11\n",
      "Changing to logg=3.50 for T= 29491 logg=3.44\n",
      "Changing to logg=2.50 for T= 17227 logg=1.89\n",
      "Changing to logg=3.50 for T= 28428 logg=2.78\n",
      "Changing to logg=2.00 for T= 11564 logg=1.20\n",
      "Changing to logg=2.50 for T= 16350 logg=1.78\n",
      "Changing to logg=2.50 for T= 12718 logg=1.95\n",
      "Changing to logg=3.50 for T= 26275 logg=3.40\n",
      "Changing to logg=0.50 for T=  6491 logg=0.44\n",
      "Changing to logg=4.00 for T= 33820 logg=3.98\n",
      "Changing to logg=0.00 for T=  4183 logg=-0.07\n",
      "Changing to logg=3.00 for T= 22050 logg=2.34\n",
      "Changing to T= 50000 for T= 62435 logg=4.41\n",
      "Changing to logg=5.00 for T= 62435 logg=4.41\n",
      "Changing to logg=4.00 for T= 36338 logg=3.89\n",
      "Changing to logg=2.50 for T= 11942 logg=1.83\n",
      "Changing to logg=3.50 for T= 27107 logg=2.90\n",
      "Changing to T= 50000 for T=105862 logg=5.32\n",
      "Changing to logg=5.00 for T=105862 logg=5.32\n",
      "Changing to logg=4.00 for T= 33558 logg=3.97\n",
      "Changing to logg=4.50 for T= 44142 logg=3.55\n",
      "Changing to logg=3.00 for T= 25287 logg=2.85\n",
      "Changing to logg=2.50 for T= 12718 logg=1.95\n",
      "Changing to logg=0.00 for T=  3950 logg=-0.38\n",
      "Changing to logg=2.00 for T=  9246 logg=1.21\n",
      "Changing to logg=0.00 for T=  3950 logg=-0.38\n",
      "Changing to logg=4.00 for T= 33881 logg=3.98\n",
      "Changing to logg=4.00 for T= 31483 logg=3.84\n",
      "Changing to logg=0.00 for T=  4183 logg=-0.07\n",
      "Changing to logg=4.00 for T= 32485 logg=3.03\n",
      "Changing to logg=3.50 for T= 26216 logg=2.84\n",
      "Changing to logg=0.00 for T=  4183 logg=-0.07\n",
      "Changing to logg=2.50 for T= 11942 logg=1.83\n",
      "Changing to T= 50000 for T= 95589 logg=4.89\n",
      "Changing to logg=5.00 for T= 95589 logg=4.89\n",
      "Changing to T= 50000 for T= 86127 logg=5.03\n",
      "Changing to logg=5.00 for T= 86127 logg=5.03\n",
      "Changing to T= 50000 for T= 76883 logg=4.88\n",
      "Changing to logg=5.00 for T= 76883 logg=4.88\n",
      "Changing to logg=3.00 for T= 19187 logg=2.09\n",
      "Changing to logg=3.50 for T= 30252 logg=2.90\n",
      "Changing to logg=2.50 for T= 14308 logg=1.55\n",
      "Changing to logg=3.50 for T= 26352 logg=2.85\n",
      "Changing to logg=2.00 for T=  9812 logg=0.89\n",
      "Changing to logg=0.00 for T=  4183 logg=-0.07\n",
      "Changing to logg=4.00 for T= 32573 logg=3.02\n",
      "Changing to logg=2.50 for T= 11942 logg=1.83\n",
      "Changing to logg=3.50 for T= 29607 logg=3.12\n",
      "Changing to logg=4.00 for T= 32089 logg=3.93\n",
      "Changing to logg=0.00 for T=  4183 logg=-0.07\n",
      "Changing to logg=0.00 for T=  4183 logg=-0.07\n",
      "Changing to logg=0.00 for T=  4183 logg=-0.07\n",
      "Changing to logg=0.00 for T=  3950 logg=-0.38\n",
      "Changing to logg=4.00 for T= 32705 logg=3.97\n",
      "Changing to logg=2.50 for T= 11942 logg=1.83\n",
      "Changing to T= 50000 for T= 64292 logg=4.47\n",
      "Changing to logg=5.00 for T= 64292 logg=4.47\n",
      "Changing to logg=4.00 for T= 36554 logg=3.49\n",
      "Changing to logg=2.50 for T= 12718 logg=1.95\n",
      "Changing to logg=4.00 for T= 32819 logg=3.30\n",
      "Changing to logg=3.50 for T= 29334 logg=3.03\n",
      "Changing to logg=0.00 for T=  4183 logg=-0.07\n",
      "Changing to logg=0.00 for T=  4183 logg=-0.07\n",
      "Changing to logg=4.00 for T= 32438 logg=3.28\n",
      "Changing to logg=3.50 for T= 30990 logg=3.20\n",
      "Changing to logg=3.00 for T= 21688 logg=2.29\n",
      "Changing to logg=0.00 for T=  4183 logg=-0.07\n",
      "Changing to logg=3.00 for T= 22731 logg=2.38\n",
      "Changing to T= 50000 for T= 62584 logg=4.42\n",
      "Changing to logg=5.00 for T= 62584 logg=4.42\n",
      "Changing to logg=2.50 for T= 18086 logg=2.21\n",
      "Changing to logg=4.50 for T= 43216 logg=4.36\n",
      "Changing to logg=1.50 for T=  8984 logg=0.76\n",
      "Changing to logg=4.50 for T= 39074 logg=3.34\n",
      "Changing to logg=3.00 for T= 25653 logg=2.81\n",
      "Changing to logg=3.50 for T= 30687 logg=3.18\n",
      "Changing to logg=4.50 for T= 44511 logg=4.36\n",
      "Changing to logg=0.00 for T=  4144 logg=-0.11\n",
      "Changing to logg=4.50 for T= 41588 logg=4.33\n",
      "Changing to logg=2.00 for T= 11272 logg=1.15\n",
      "Changing to T= 50000 for T= 84772 logg=5.05\n",
      "Changing to logg=5.00 for T= 84772 logg=5.05\n",
      "Changing to logg=4.50 for T= 42384 logg=3.50\n",
      "Changing to logg=0.00 for T=  3967 logg=-0.42\n",
      "Changing to logg=4.00 for T= 34929 logg=3.41\n",
      "Changing to logg=3.00 for T= 21097 logg=2.54\n",
      "Changing to logg=2.50 for T= 12718 logg=1.95\n",
      "Changing to logg=3.00 for T= 20512 logg=2.50\n",
      "Changing to logg=0.00 for T=  4144 logg=-0.11\n",
      "Changing to logg=4.00 for T= 33634 logg=3.86\n",
      "Changing to logg=4.00 for T= 33752 logg=3.28\n",
      "Changing to logg=3.50 for T= 27521 logg=2.73\n",
      "Changing to logg=4.00 for T= 32743 logg=3.97\n",
      "Changing to logg=4.00 for T= 31109 logg=3.90\n",
      "Changing to logg=4.00 for T= 32593 logg=3.96\n",
      "Changing to logg=4.50 for T= 44994 logg=3.60\n",
      "Changing to logg=3.00 for T= 22713 logg=2.35\n",
      "Changing to logg=2.50 for T= 18198 logg=1.97\n",
      "Changing to T= 50000 for T=122481 logg=5.32\n",
      "Changing to logg=5.00 for T=122481 logg=5.32\n",
      "Changing to T= 50000 for T= 82899 logg=4.67\n",
      "Changing to logg=5.00 for T= 82899 logg=4.67\n",
      "Changing to logg=3.00 for T= 21447 logg=2.57\n",
      "Changing to logg=3.00 for T= 25689 logg=2.88\n",
      "Changing to logg=0.00 for T=  3998 logg=-0.33\n",
      "Changing to logg=3.50 for T= 28586 logg=3.06\n",
      "Changing to logg=4.00 for T= 33539 logg=3.97\n",
      "Changing to logg=3.00 for T= 20743 logg=2.18\n",
      "Changing to logg=0.00 for T=  4278 logg=-0.49\n",
      "Changing to logg=3.00 for T= 24408 logg=2.52\n",
      "Changing to logg=2.50 for T= 16091 logg=2.00\n",
      "Changing to logg=4.00 for T= 34782 logg=3.15\n",
      "Changing to logg=2.50 for T= 12718 logg=1.95\n",
      "Changing to logg=2.50 for T= 11942 logg=1.83\n",
      "Changing to logg=4.00 for T= 31408 logg=3.83\n",
      "Changing to logg=0.00 for T=  3997 logg=-0.39\n",
      "Changing to logg=2.00 for T= 10127 logg=0.96\n",
      "Changing to T= 50000 for T=105475 logg=5.05\n",
      "Changing to logg=5.00 for T=105475 logg=5.05\n",
      "Changing to logg=0.00 for T=  3997 logg=-0.39\n",
      "Changing to T= 50000 for T= 91251 logg=5.20\n",
      "Changing to logg=5.00 for T= 91251 logg=5.20\n",
      "Changing to logg=0.00 for T=  3950 logg=-0.38\n",
      "Changing to logg=4.00 for T= 32215 logg=2.98\n",
      "Changing to logg=0.00 for T=  3998 logg=-0.33\n",
      "Changing to logg=2.50 for T= 12718 logg=1.95\n",
      "Changing to logg=0.00 for T=  3926 logg=-0.48\n",
      "Changing to logg=3.00 for T= 21667 logg=2.31\n",
      "Changing to logg=3.00 for T= 24227 logg=2.49\n",
      "Changing to logg=3.00 for T= 20719 logg=2.43\n",
      "Changing to logg=2.50 for T= 14134 logg=1.78\n",
      "Changing to logg=4.00 for T= 34005 logg=3.99\n",
      "Changing to logg=0.00 for T=  3998 logg=-0.36\n",
      "Changing to T= 50000 for T= 68011 logg=4.56\n",
      "Changing to logg=5.00 for T= 68011 logg=4.56\n",
      "Changing to logg=4.00 for T= 33539 logg=3.97\n",
      "Changing to logg=2.50 for T= 11942 logg=1.83\n",
      "Changing to logg=0.00 for T=  4164 logg=-0.21\n",
      "Changing to logg=0.00 for T=  3950 logg=-0.38\n",
      "Changing to logg=3.00 for T= 23136 logg=2.40\n",
      "Changing to T= 50000 for T=115030 logg=5.23\n",
      "Changing to logg=5.00 for T=115030 logg=5.23\n",
      "Changing to logg=2.50 for T= 12561 logg=1.93\n",
      "Changing to logg=2.00 for T= 11203 logg=1.14\n",
      "Changing to logg=2.50 for T= 11942 logg=1.83\n",
      "Changing to logg=2.50 for T= 13908 logg=1.50\n",
      "Changing to logg=2.50 for T= 12561 logg=1.93\n",
      "Changing to logg=0.00 for T=  3998 logg=-0.36\n",
      "Changing to logg=3.00 for T= 21648 logg=2.29\n",
      "Changing to logg=0.00 for T=  4183 logg=-0.07\n",
      "Changing to logg=2.50 for T= 12837 logg=1.34\n",
      "Changing to logg=0.00 for T=  3998 logg=-0.33\n",
      "Changing to logg=2.50 for T= 11942 logg=1.83\n",
      "Changing to logg=4.00 for T= 33539 logg=3.97\n",
      "Changing to T= 50000 for T= 89646 logg=5.09\n",
      "Changing to logg=5.00 for T= 89646 logg=5.09\n",
      "Changing to logg=3.00 for T= 21217 logg=2.24\n",
      "Changing to logg=4.00 for T= 38291 logg=3.57\n",
      "Changing to T= 50000 for T= 77730 logg=4.53\n",
      "Changing to logg=5.00 for T= 77730 logg=4.53\n",
      "Changing to T= 50000 for T= 55859 logg=4.25\n",
      "Changing to logg=5.00 for T= 55859 logg=4.25\n",
      "Changing to logg=2.50 for T= 12718 logg=1.95\n",
      "Changing to logg=0.00 for T=  4183 logg=-0.07\n",
      "Changing to logg=3.00 for T= 19799 logg=2.35\n",
      "Changing to logg=3.00 for T= 19049 logg=2.09\n",
      "Changing to logg=4.50 for T= 44007 logg=3.82\n",
      "Changing to logg=0.00 for T=  4183 logg=-0.07\n",
      "Changing to T= 50000 for T= 88908 logg=4.75\n",
      "Changing to logg=5.00 for T= 88908 logg=4.75\n",
      "Changing to logg=2.50 for T= 11942 logg=1.83\n",
      "Changing to logg=3.00 for T= 24401 logg=2.71\n",
      "Changing to logg=0.00 for T=  4144 logg=-0.11\n",
      "Changing to T= 50000 for T= 79788 logg=4.90\n",
      "Changing to logg=5.00 for T= 79788 logg=4.90\n",
      "Changing to logg=4.00 for T= 33048 logg=3.05\n",
      "Changing to logg=2.50 for T= 11942 logg=1.83\n",
      "Changing to logg=2.50 for T= 11942 logg=1.83\n",
      "Making photometry for isochrone: log(t) = 7.00  AKs = 0.00  dist = 1000\n",
      "     Starting at:  2021-07-22 14:14:37.209701   Usually takes ~5 minutes\n",
      "Starting filter: ubv,U   Elapsed time: 0.00 seconds\n",
      "Starting synthetic photometry\n",
      "M =   5.500 Msun  T = 20972 K  m_ubv_U = 8.43\n",
      "M =  20.000 Msun  T = 62596 K  m_ubv_U = 6.09\n",
      "M =  10.000 Msun  T = 27642 K  m_ubv_U = 6.62\n",
      "M =  12.000 Msun  T = 29563 K  m_ubv_U = 5.98\n",
      "M =   3.981 Msun  T =   nan K  m_ubv_U =  nan\n",
      "M =  11.000 Msun  T = 28461 K  m_ubv_U = 6.21\n",
      "M =  19.953 Msun  T =   nan K  m_ubv_U =  nan\n",
      "M =  10.000 Msun  T = 27642 K  m_ubv_U = 6.62\n",
      "M =  21.000 Msun  T = 15185 K  m_ubv_U = 1.84\n",
      "M =  16.000 Msun  T = 30080 K  m_ubv_U = 4.65\n",
      "M =   6.310 Msun  T =   nan K  m_ubv_U =  nan\n",
      "M =  17.000 Msun  T = 29685 K  m_ubv_U = 4.36\n",
      "M =   3.981 Msun  T =   nan K  m_ubv_U =  nan\n",
      "M =   1.400 Msun  T =  3090 K  m_ubv_U = 28.08\n",
      "M =   1.400 Msun  T =  3090 K  m_ubv_U = 28.08\n",
      "M =  31.623 Msun  T =   nan K  m_ubv_U =  nan\n",
      "M =   1.400 Msun  T =   nan K  m_ubv_U =  nan\n",
      "M =  15.000 Msun  T = 30279 K  m_ubv_U = 4.96\n",
      "M =  13.000 Msun  T = 30037 K  m_ubv_U = 5.62\n",
      "M =  10.000 Msun  T = 27642 K  m_ubv_U = 6.62\n",
      "M =  10.000 Msun  T = 27642 K  m_ubv_U = 6.62\n",
      "M =  20.000 Msun  T = 63558 K  m_ubv_U = 6.17\n",
      "M =  20.000 Msun  T = 56351 K  m_ubv_U = 5.51\n",
      "M =   2.512 Msun  T =  3090 K  m_ubv_U = 28.24\n",
      "M =  12.589 Msun  T =   nan K  m_ubv_U =  nan\n",
      "M =  12.589 Msun  T =   nan K  m_ubv_U =  nan\n",
      "M =  16.000 Msun  T = 30122 K  m_ubv_U = 4.66\n",
      "M =  19.000 Msun  T =  9152 K  m_ubv_U = 2.27\n",
      "M =  15.849 Msun  T =   nan K  m_ubv_U =  nan\n",
      "M =   3.162 Msun  T =  3090 K  m_ubv_U = 28.32\n",
      "M =  21.000 Msun  T = 21609 K  m_ubv_U = 2.49\n",
      "M =   3.981 Msun  T =   nan K  m_ubv_U =  nan\n",
      "M =  31.623 Msun  T =   nan K  m_ubv_U =  nan\n",
      "M =  15.849 Msun  T =   nan K  m_ubv_U =  nan\n",
      "M =  12.000 Msun  T = 29563 K  m_ubv_U = 5.98\n",
      "M =  18.000 Msun  T = 29119 K  m_ubv_U = 4.09\n",
      "M =  20.000 Msun  T = 27432 K  m_ubv_U = 3.29\n",
      "M =   6.310 Msun  T =   nan K  m_ubv_U =  nan\n",
      "M =  19.953 Msun  T =   nan K  m_ubv_U =  nan\n",
      "M =  15.000 Msun  T = 30279 K  m_ubv_U = 4.96\n",
      "M =  25.119 Msun  T =   nan K  m_ubv_U =  nan\n",
      "M =   3.981 Msun  T =   nan K  m_ubv_U =  nan\n",
      "M =  12.000 Msun  T = 29563 K  m_ubv_U = 5.98\n",
      "M =  22.000 Msun  T = 35244 K  m_ubv_U = 3.40\n",
      "M =   3.981 Msun  T =   nan K  m_ubv_U =  nan\n",
      "M =  18.000 Msun  T = 29119 K  m_ubv_U = 4.09\n",
      "M =  12.589 Msun  T =   nan K  m_ubv_U =  nan\n",
      "M =  11.000 Msun  T = 28461 K  m_ubv_U = 6.21\n",
      "M =  14.000 Msun  T = 30266 K  m_ubv_U = 5.28\n",
      "M =   6.310 Msun  T =   nan K  m_ubv_U =  nan\n",
      "M =  50.119 Msun  T =   nan K  m_ubv_U =  nan\n",
      "M =   2.000 Msun  T = 11678 K  m_ubv_U = 11.64\n",
      "M =   4.000 Msun  T = 18093 K  m_ubv_U = 9.48\n",
      "M =   1.200 Msun  T =  7334 K  m_ubv_U = 13.79\n",
      "M =  22.000 Msun  T = 50163 K  m_ubv_U = 4.51\n",
      "M =   2.200 Msun  T = 12493 K  m_ubv_U = 11.31\n",
      "M =  12.000 Msun  T = 29563 K  m_ubv_U = 5.98\n",
      "M =   1.000 Msun  T =  6421 K  m_ubv_U = 14.77\n",
      "M =  14.700 Msun  T = 32490 K  m_ubv_U = 5.33\n",
      "M =   1.600 Msun  T =  9738 K  m_ubv_U = 12.50\n",
      "M =  14.000 Msun  T = 30266 K  m_ubv_U = 5.28\n",
      "M =   5.100 Msun  T = 20777 K  m_ubv_U = 8.78\n",
      "M =  19.000 Msun  T = 12718 K  m_ubv_U = 2.18\n",
      "M =  12.000 Msun  T = 29563 K  m_ubv_U = 5.98\n",
      "M =  16.000 Msun  T = 30076 K  m_ubv_U = 4.65\n",
      "M =  16.000 Msun  T = 30209 K  m_ubv_U = 4.67\n",
      "M =  17.000 Msun  T = 30808 K  m_ubv_U = 4.51\n",
      "M =  13.500 Msun  T = 33441 K  m_ubv_U = 5.70\n",
      "M =   2.600 Msun  T = 13951 K  m_ubv_U = 10.76\n",
      "M =   1.000 Msun  T =  6421 K  m_ubv_U = 14.77\n",
      "M =   1.000 Msun  T =  6421 K  m_ubv_U = 14.77\n",
      "M =  12.000 Msun  T = 31962 K  m_ubv_U = 6.15\n",
      "M =  12.000 Msun  T = 31934 K  m_ubv_U = 6.15\n",
      "M =  11.000 Msun  T = 28521 K  m_ubv_U = 6.22\n",
      "M =  16.000 Msun  T = 30076 K  m_ubv_U = 4.65\n",
      "M =  14.000 Msun  T = 30266 K  m_ubv_U = 5.28\n",
      "M =  11.200 Msun  T = 31333 K  m_ubv_U = 6.39\n",
      "M =   9.500 Msun  T = 28595 K  m_ubv_U = 6.94\n",
      "M =  15.000 Msun  T = 31233 K  m_ubv_U = 5.12\n",
      "M =  16.000 Msun  T = 30209 K  m_ubv_U = 4.67\n",
      "M =   6.300 Msun  T = 23265 K  m_ubv_U = 8.18\n",
      "M =  12.000 Msun  T = 29622 K  m_ubv_U = 6.00\n",
      "M =  12.000 Msun  T = 29563 K  m_ubv_U = 5.98\n",
      "M =  20.000 Msun  T = 30963 K  m_ubv_U = 4.31\n",
      "M =   1.200 Msun  T =  7334 K  m_ubv_U = 13.79\n",
      "M =   3.600 Msun  T = 17023 K  m_ubv_U = 9.78\n",
      "M =  16.000 Msun  T = 32853 K  m_ubv_U = 4.97\n",
      "M =  12.000 Msun  T = 29563 K  m_ubv_U = 5.98\n",
      "M =  12.000 Msun  T = 29563 K  m_ubv_U = 5.98\n",
      "M =   1.500 Msun  T =  9155 K  m_ubv_U = 12.77\n",
      "M =  21.000 Msun  T = 19187 K  m_ubv_U = 2.28\n",
      "M =  10.000 Msun  T = 27641 K  m_ubv_U = 6.62\n",
      "M =   4.800 Msun  T = 20070 K  m_ubv_U = 8.96\n",
      "M =  13.200 Msun  T = 33059 K  m_ubv_U = 5.85\n",
      "M =  11.000 Msun  T = 28462 K  m_ubv_U = 6.20\n",
      "M =  10.800 Msun  T = 30825 K  m_ubv_U = 6.54\n",
      "M =  12.000 Msun  T = 29563 K  m_ubv_U = 5.98\n",
      "M =   9.900 Msun  T = 29609 K  m_ubv_U = 6.81\n",
      "M =  12.600 Msun  T = 32797 K  m_ubv_U = 5.96\n",
      "M =  17.000 Msun  T = 30938 K  m_ubv_U = 4.52\n",
      "M =  15.000 Msun  T = 31233 K  m_ubv_U = 5.12\n",
      "Starting filter: ubv,V   Elapsed time: 15.27 seconds\n",
      "Starting synthetic photometry\n",
      "M =   5.500 Msun  T = 20972 K  m_ubv_V = 9.40\n",
      "M =  20.000 Msun  T = 62596 K  m_ubv_V = 7.53\n",
      "M =  10.000 Msun  T = 27642 K  m_ubv_V = 7.82\n",
      "M =  12.000 Msun  T = 29563 K  m_ubv_V = 7.24\n",
      "M =   3.981 Msun  T =   nan K  m_ubv_V =  nan\n",
      "M =  11.000 Msun  T = 28461 K  m_ubv_V = 7.44\n",
      "M =  19.953 Msun  T =   nan K  m_ubv_V =  nan\n",
      "M =  10.000 Msun  T = 27642 K  m_ubv_V = 7.82\n",
      "M =  21.000 Msun  T = 15185 K  m_ubv_V = 2.63\n",
      "M =  16.000 Msun  T = 30080 K  m_ubv_V = 5.94\n",
      "M =   6.310 Msun  T =   nan K  m_ubv_V =  nan\n",
      "M =  17.000 Msun  T = 29685 K  m_ubv_V = 5.65\n",
      "M =   3.981 Msun  T =   nan K  m_ubv_V =  nan\n",
      "M =   1.400 Msun  T =  3090 K  m_ubv_V = 24.51\n",
      "M =   1.400 Msun  T =  3090 K  m_ubv_V = 24.51\n",
      "M =  31.623 Msun  T =   nan K  m_ubv_V =  nan\n",
      "M =   1.400 Msun  T =   nan K  m_ubv_V =  nan\n",
      "M =  15.000 Msun  T = 30279 K  m_ubv_V = 6.25\n",
      "M =  13.000 Msun  T = 30037 K  m_ubv_V = 6.89\n",
      "M =  10.000 Msun  T = 27642 K  m_ubv_V = 7.82\n",
      "M =  10.000 Msun  T = 27642 K  m_ubv_V = 7.82\n",
      "M =  20.000 Msun  T = 63558 K  m_ubv_V = 7.60\n",
      "M =  20.000 Msun  T = 56351 K  m_ubv_V = 6.95\n",
      "M =   2.512 Msun  T =  3090 K  m_ubv_V = 24.52\n",
      "M =  12.589 Msun  T =   nan K  m_ubv_V =  nan\n",
      "M =  12.589 Msun  T =   nan K  m_ubv_V =  nan\n",
      "M =  16.000 Msun  T = 30122 K  m_ubv_V = 5.95\n",
      "M =  19.000 Msun  T =  9152 K  m_ubv_V = 2.38\n",
      "M =  15.849 Msun  T =   nan K  m_ubv_V =  nan\n",
      "M =   3.162 Msun  T =  3090 K  m_ubv_V = 24.52\n",
      "M =  21.000 Msun  T = 21609 K  m_ubv_V = 3.57\n",
      "M =   3.981 Msun  T =   nan K  m_ubv_V =  nan\n",
      "M =  31.623 Msun  T =   nan K  m_ubv_V =  nan\n",
      "M =  15.849 Msun  T =   nan K  m_ubv_V =  nan\n",
      "M =  12.000 Msun  T = 29563 K  m_ubv_V = 7.24\n",
      "M =  18.000 Msun  T = 29119 K  m_ubv_V = 5.37\n",
      "M =  20.000 Msun  T = 27432 K  m_ubv_V = 4.53\n",
      "M =   6.310 Msun  T =   nan K  m_ubv_V =  nan\n",
      "M =  19.953 Msun  T =   nan K  m_ubv_V =  nan\n",
      "M =  15.000 Msun  T = 30279 K  m_ubv_V = 6.25\n",
      "M =  25.119 Msun  T =   nan K  m_ubv_V =  nan\n",
      "M =   3.981 Msun  T =   nan K  m_ubv_V =  nan\n",
      "M =  12.000 Msun  T = 29563 K  m_ubv_V = 7.24\n",
      "M =  22.000 Msun  T = 35244 K  m_ubv_V = 4.77\n",
      "M =   3.981 Msun  T =   nan K  m_ubv_V =  nan\n",
      "M =  18.000 Msun  T = 29119 K  m_ubv_V = 5.37\n",
      "M =  12.589 Msun  T =   nan K  m_ubv_V =  nan\n",
      "M =  11.000 Msun  T = 28461 K  m_ubv_V = 7.44\n",
      "M =  14.000 Msun  T = 30266 K  m_ubv_V = 6.56\n",
      "M =   6.310 Msun  T =   nan K  m_ubv_V =  nan\n",
      "M =  50.119 Msun  T =   nan K  m_ubv_V =  nan\n",
      "M =   2.000 Msun  T = 11678 K  m_ubv_V = 11.93\n",
      "M =   4.000 Msun  T = 18093 K  m_ubv_V = 10.30\n",
      "M =   1.200 Msun  T =  7334 K  m_ubv_V = 13.63\n",
      "M =  22.000 Msun  T = 50163 K  m_ubv_V = 5.95\n",
      "M =   2.200 Msun  T = 12493 K  m_ubv_V = 11.70\n",
      "M =  12.000 Msun  T = 29563 K  m_ubv_V = 7.23\n",
      "M =   1.000 Msun  T =  6421 K  m_ubv_V = 14.55\n",
      "M =  14.700 Msun  T = 32490 K  m_ubv_V = 6.66\n",
      "M =   1.600 Msun  T =  9738 K  m_ubv_V = 12.49\n",
      "M =  14.000 Msun  T = 30266 K  m_ubv_V = 6.56\n",
      "M =   5.100 Msun  T = 20777 K  m_ubv_V = 9.74\n",
      "M =  19.000 Msun  T = 12718 K  m_ubv_V = 2.76\n",
      "M =  12.000 Msun  T = 29563 K  m_ubv_V = 7.23\n",
      "M =  16.000 Msun  T = 30076 K  m_ubv_V = 5.94\n",
      "M =  16.000 Msun  T = 30209 K  m_ubv_V = 5.96\n",
      "M =  17.000 Msun  T = 30808 K  m_ubv_V = 5.81\n",
      "M =  13.500 Msun  T = 33441 K  m_ubv_V = 7.03\n",
      "M =   2.600 Msun  T = 13951 K  m_ubv_V = 11.30\n",
      "M =   1.000 Msun  T =  6421 K  m_ubv_V = 14.55\n",
      "M =   1.000 Msun  T =  6421 K  m_ubv_V = 14.55\n",
      "M =  12.000 Msun  T = 31962 K  m_ubv_V = 7.46\n",
      "M =  12.000 Msun  T = 31934 K  m_ubv_V = 7.46\n",
      "M =  11.000 Msun  T = 28521 K  m_ubv_V = 7.45\n",
      "M =  16.000 Msun  T = 30076 K  m_ubv_V = 5.94\n",
      "M =  14.000 Msun  T = 30266 K  m_ubv_V = 6.56\n",
      "M =  11.200 Msun  T = 31333 K  m_ubv_V = 7.69\n",
      "M =   9.500 Msun  T = 28595 K  m_ubv_V = 8.16\n",
      "M =  15.000 Msun  T = 31233 K  m_ubv_V = 6.43\n",
      "M =  16.000 Msun  T = 30209 K  m_ubv_V = 5.96\n",
      "M =   6.300 Msun  T = 23265 K  m_ubv_V = 9.24\n",
      "M =  12.000 Msun  T = 29622 K  m_ubv_V = 7.26\n",
      "M =  12.000 Msun  T = 29563 K  m_ubv_V = 7.23\n",
      "M =  20.000 Msun  T = 30963 K  m_ubv_V = 5.64\n",
      "M =   1.200 Msun  T =  7334 K  m_ubv_V = 13.63\n",
      "M =   3.600 Msun  T = 17023 K  m_ubv_V = 10.54\n",
      "M =  16.000 Msun  T = 32853 K  m_ubv_V = 6.30\n",
      "M =  12.000 Msun  T = 29563 K  m_ubv_V = 7.23\n",
      "M =  12.000 Msun  T = 29563 K  m_ubv_V = 7.23\n",
      "M =   1.500 Msun  T =  9155 K  m_ubv_V = 12.68\n",
      "M =  21.000 Msun  T = 19187 K  m_ubv_V = 3.26\n",
      "M =  10.000 Msun  T = 27641 K  m_ubv_V = 7.82\n",
      "M =   4.800 Msun  T = 20070 K  m_ubv_V = 9.88\n",
      "M =  13.200 Msun  T = 33059 K  m_ubv_V = 7.18\n",
      "M =  11.000 Msun  T = 28462 K  m_ubv_V = 7.43\n",
      "M =  10.800 Msun  T = 30825 K  m_ubv_V = 7.82\n",
      "M =  12.000 Msun  T = 29563 K  m_ubv_V = 7.23\n",
      "M =   9.900 Msun  T = 29609 K  m_ubv_V = 8.05\n",
      "M =  12.600 Msun  T = 32797 K  m_ubv_V = 7.29\n",
      "M =  17.000 Msun  T = 30938 K  m_ubv_V = 5.83\n",
      "M =  15.000 Msun  T = 31233 K  m_ubv_V = 6.43\n",
      "Starting filter: ubv,B   Elapsed time: 30.30 seconds\n",
      "Starting synthetic photometry\n",
      "M =   5.500 Msun  T = 20972 K  m_ubv_B = 9.20\n",
      "M =  20.000 Msun  T = 62596 K  m_ubv_B = 7.20\n",
      "M =  10.000 Msun  T = 27642 K  m_ubv_B = 7.56\n",
      "M =  12.000 Msun  T = 29563 K  m_ubv_B = 6.97\n",
      "M =   3.981 Msun  T =   nan K  m_ubv_B =  nan\n",
      "M =  11.000 Msun  T = 28461 K  m_ubv_B = 7.17\n",
      "M =  19.953 Msun  T =   nan K  m_ubv_B =  nan\n",
      "M =  10.000 Msun  T = 27642 K  m_ubv_B = 7.56\n",
      "M =  21.000 Msun  T = 15185 K  m_ubv_B = 2.48\n",
      "M =  16.000 Msun  T = 30080 K  m_ubv_B = 5.67\n",
      "M =   6.310 Msun  T =   nan K  m_ubv_B =  nan\n",
      "M =  17.000 Msun  T = 29685 K  m_ubv_B = 5.38\n",
      "M =   3.981 Msun  T =   nan K  m_ubv_B =  nan\n",
      "M =   1.400 Msun  T =  3090 K  m_ubv_B = 26.40\n",
      "M =   1.400 Msun  T =  3090 K  m_ubv_B = 26.40\n",
      "M =  31.623 Msun  T =   nan K  m_ubv_B =  nan\n",
      "M =   1.400 Msun  T =   nan K  m_ubv_B =  nan\n",
      "M =  15.000 Msun  T = 30279 K  m_ubv_B = 5.97\n",
      "M =  13.000 Msun  T = 30037 K  m_ubv_B = 6.62\n",
      "M =  10.000 Msun  T = 27642 K  m_ubv_B = 7.56\n",
      "M =  10.000 Msun  T = 27642 K  m_ubv_B = 7.56\n",
      "M =  20.000 Msun  T = 63558 K  m_ubv_B = 7.28\n",
      "M =  20.000 Msun  T = 56351 K  m_ubv_B = 6.62\n",
      "M =   2.512 Msun  T =  3090 K  m_ubv_B = 26.43\n",
      "M =  12.589 Msun  T =   nan K  m_ubv_B =  nan\n",
      "M =  12.589 Msun  T =   nan K  m_ubv_B =  nan\n",
      "M =  16.000 Msun  T = 30122 K  m_ubv_B = 5.67\n",
      "M =  19.000 Msun  T =  9152 K  m_ubv_B = 2.35\n",
      "M =  15.849 Msun  T =   nan K  m_ubv_B =  nan\n",
      "M =   3.162 Msun  T =  3090 K  m_ubv_B = 26.45\n",
      "M =  21.000 Msun  T = 21609 K  m_ubv_B = 3.36\n",
      "M =   3.981 Msun  T =   nan K  m_ubv_B =  nan\n",
      "M =  31.623 Msun  T =   nan K  m_ubv_B =  nan\n",
      "M =  15.849 Msun  T =   nan K  m_ubv_B =  nan\n",
      "M =  12.000 Msun  T = 29563 K  m_ubv_B = 6.97\n",
      "M =  18.000 Msun  T = 29119 K  m_ubv_B = 5.10\n",
      "M =  20.000 Msun  T = 27432 K  m_ubv_B = 4.27\n",
      "M =   6.310 Msun  T =   nan K  m_ubv_B =  nan\n",
      "M =  19.953 Msun  T =   nan K  m_ubv_B =  nan\n",
      "M =  15.000 Msun  T = 30279 K  m_ubv_B = 5.97\n",
      "M =  25.119 Msun  T =   nan K  m_ubv_B =  nan\n",
      "M =   3.981 Msun  T =   nan K  m_ubv_B =  nan\n",
      "M =  12.000 Msun  T = 29563 K  m_ubv_B = 6.97\n",
      "M =  22.000 Msun  T = 35244 K  m_ubv_B = 4.47\n",
      "M =   3.981 Msun  T =   nan K  m_ubv_B =  nan\n",
      "M =  18.000 Msun  T = 29119 K  m_ubv_B = 5.10\n",
      "M =  12.589 Msun  T =   nan K  m_ubv_B =  nan\n",
      "M =  11.000 Msun  T = 28461 K  m_ubv_B = 7.17\n",
      "M =  14.000 Msun  T = 30266 K  m_ubv_B = 6.28\n",
      "M =   6.310 Msun  T =   nan K  m_ubv_B =  nan\n",
      "M =  50.119 Msun  T =   nan K  m_ubv_B =  nan\n",
      "M =   2.000 Msun  T = 11678 K  m_ubv_B = 11.87\n",
      "M =   4.000 Msun  T = 18093 K  m_ubv_B = 10.13\n",
      "M =   1.200 Msun  T =  7334 K  m_ubv_B = 13.91\n",
      "M =  22.000 Msun  T = 50163 K  m_ubv_B = 5.62\n",
      "M =   2.200 Msun  T = 12493 K  m_ubv_B = 11.62\n",
      "M =  12.000 Msun  T = 29563 K  m_ubv_B = 6.96\n",
      "M =   1.000 Msun  T =  6421 K  m_ubv_B = 14.99\n",
      "M =  14.700 Msun  T = 32490 K  m_ubv_B = 6.37\n",
      "M =   1.600 Msun  T =  9738 K  m_ubv_B = 12.52\n",
      "M =  14.000 Msun  T = 30266 K  m_ubv_B = 6.28\n",
      "M =   5.100 Msun  T = 20777 K  m_ubv_B = 9.54\n",
      "M =  19.000 Msun  T = 12718 K  m_ubv_B = 2.65\n",
      "M =  12.000 Msun  T = 29563 K  m_ubv_B = 6.96\n",
      "M =  16.000 Msun  T = 30076 K  m_ubv_B = 5.66\n",
      "M =  16.000 Msun  T = 30209 K  m_ubv_B = 5.68\n",
      "M =  17.000 Msun  T = 30808 K  m_ubv_B = 5.53\n",
      "M =  13.500 Msun  T = 33441 K  m_ubv_B = 6.74\n",
      "M =   2.600 Msun  T = 13951 K  m_ubv_B = 11.19\n",
      "M =   1.000 Msun  T =  6421 K  m_ubv_B = 14.99\n",
      "M =   1.000 Msun  T =  6421 K  m_ubv_B = 14.99\n",
      "M =  12.000 Msun  T = 31962 K  m_ubv_B = 7.17\n",
      "M =  12.000 Msun  T = 31934 K  m_ubv_B = 7.17\n",
      "M =  11.000 Msun  T = 28521 K  m_ubv_B = 7.19\n",
      "M =  16.000 Msun  T = 30076 K  m_ubv_B = 5.66\n",
      "M =  14.000 Msun  T = 30266 K  m_ubv_B = 6.28\n",
      "M =  11.200 Msun  T = 31333 K  m_ubv_B = 7.40\n",
      "M =   9.500 Msun  T = 28595 K  m_ubv_B = 7.90\n",
      "M =  15.000 Msun  T = 31233 K  m_ubv_B = 6.14\n",
      "M =  16.000 Msun  T = 30209 K  m_ubv_B = 5.68\n",
      "M =   6.300 Msun  T = 23265 K  m_ubv_B = 9.01\n",
      "M =  12.000 Msun  T = 29622 K  m_ubv_B = 6.98\n",
      "M =  12.000 Msun  T = 29563 K  m_ubv_B = 6.96\n",
      "M =  20.000 Msun  T = 30963 K  m_ubv_B = 5.36\n",
      "M =   1.200 Msun  T =  7334 K  m_ubv_B = 13.91\n",
      "M =   3.600 Msun  T = 17023 K  m_ubv_B = 10.39\n",
      "M =  16.000 Msun  T = 32853 K  m_ubv_B = 6.01\n",
      "M =  12.000 Msun  T = 29563 K  m_ubv_B = 6.96\n",
      "M =  12.000 Msun  T = 29563 K  m_ubv_B = 6.96\n",
      "M =   1.500 Msun  T =  9155 K  m_ubv_B = 12.75\n",
      "M =  21.000 Msun  T = 19187 K  m_ubv_B = 3.06\n",
      "M =  10.000 Msun  T = 27641 K  m_ubv_B = 7.56\n",
      "M =   4.800 Msun  T = 20070 K  m_ubv_B = 9.69\n",
      "M =  13.200 Msun  T = 33059 K  m_ubv_B = 6.89\n",
      "M =  11.000 Msun  T = 28462 K  m_ubv_B = 7.17\n",
      "M =  10.800 Msun  T = 30825 K  m_ubv_B = 7.54\n",
      "M =  12.000 Msun  T = 29563 K  m_ubv_B = 6.96\n",
      "M =   9.900 Msun  T = 29609 K  m_ubv_B = 7.78\n",
      "M =  12.600 Msun  T = 32797 K  m_ubv_B = 7.00\n",
      "M =  17.000 Msun  T = 30938 K  m_ubv_B = 5.55\n",
      "M =  15.000 Msun  T = 31233 K  m_ubv_B = 6.14\n",
      "Starting filter: ubv,R   Elapsed time: 45.36 seconds\n",
      "Starting synthetic photometry\n",
      "M =   5.500 Msun  T = 20972 K  m_ubv_R = 9.48\n",
      "M =  20.000 Msun  T = 62596 K  m_ubv_R = 7.66\n",
      "M =  10.000 Msun  T = 27642 K  m_ubv_R = 7.92\n",
      "M =  12.000 Msun  T = 29563 K  m_ubv_R = 7.35\n",
      "M =   3.981 Msun  T =   nan K  m_ubv_R =  nan\n",
      "M =  11.000 Msun  T = 28461 K  m_ubv_R = 7.54\n",
      "M =  19.953 Msun  T =   nan K  m_ubv_R =  nan\n",
      "M =  10.000 Msun  T = 27642 K  m_ubv_R = 7.92\n",
      "M =  21.000 Msun  T = 15185 K  m_ubv_R = 2.66\n",
      "M =  16.000 Msun  T = 30080 K  m_ubv_R = 6.05\n",
      "M =   6.310 Msun  T =   nan K  m_ubv_R =  nan\n",
      "M =  17.000 Msun  T = 29685 K  m_ubv_R = 5.76\n",
      "M =   3.981 Msun  T =   nan K  m_ubv_R =  nan\n",
      "M =   1.400 Msun  T =  3090 K  m_ubv_R = 23.50\n",
      "M =   1.400 Msun  T =  3090 K  m_ubv_R = 23.50\n",
      "M =  31.623 Msun  T =   nan K  m_ubv_R =  nan\n",
      "M =   1.400 Msun  T =   nan K  m_ubv_R =  nan\n",
      "M =  15.000 Msun  T = 30279 K  m_ubv_R = 6.36\n",
      "M =  13.000 Msun  T = 30037 K  m_ubv_R = 7.00\n",
      "M =  10.000 Msun  T = 27642 K  m_ubv_R = 7.92\n",
      "M =  10.000 Msun  T = 27642 K  m_ubv_R = 7.92\n",
      "M =  20.000 Msun  T = 63558 K  m_ubv_R = 7.74\n",
      "M =  20.000 Msun  T = 56351 K  m_ubv_R = 7.08\n",
      "M =   2.512 Msun  T =  3090 K  m_ubv_R = 23.50\n",
      "M =  12.589 Msun  T =   nan K  m_ubv_R =  nan\n",
      "M =  12.589 Msun  T =   nan K  m_ubv_R =  nan\n",
      "M =  16.000 Msun  T = 30122 K  m_ubv_R = 6.06\n",
      "M =  19.000 Msun  T =  9152 K  m_ubv_R = 2.37\n",
      "M =  15.849 Msun  T =   nan K  m_ubv_R =  nan\n",
      "M =   3.162 Msun  T =  3090 K  m_ubv_R = 23.49\n",
      "M =  21.000 Msun  T = 21609 K  m_ubv_R = 3.65\n",
      "M =   3.981 Msun  T =   nan K  m_ubv_R =  nan\n",
      "M =  31.623 Msun  T =   nan K  m_ubv_R =  nan\n",
      "M =  15.849 Msun  T =   nan K  m_ubv_R =  nan\n",
      "M =  12.000 Msun  T = 29563 K  m_ubv_R = 7.35\n",
      "M =  18.000 Msun  T = 29119 K  m_ubv_R = 5.47\n",
      "M =  20.000 Msun  T = 27432 K  m_ubv_R = 4.63\n",
      "M =   6.310 Msun  T =   nan K  m_ubv_R =  nan\n",
      "M =  19.953 Msun  T =   nan K  m_ubv_R =  nan\n",
      "M =  15.000 Msun  T = 30279 K  m_ubv_R = 6.36\n",
      "M =  25.119 Msun  T =   nan K  m_ubv_R =  nan\n",
      "M =   3.981 Msun  T =   nan K  m_ubv_R =  nan\n",
      "M =  12.000 Msun  T = 29563 K  m_ubv_R = 7.35\n",
      "M =  22.000 Msun  T = 35244 K  m_ubv_R = 4.88\n",
      "M =   3.981 Msun  T =   nan K  m_ubv_R =  nan\n",
      "M =  18.000 Msun  T = 29119 K  m_ubv_R = 5.47\n",
      "M =  12.589 Msun  T =   nan K  m_ubv_R =  nan\n",
      "M =  11.000 Msun  T = 28461 K  m_ubv_R = 7.54\n",
      "M =  14.000 Msun  T = 30266 K  m_ubv_R = 6.67\n",
      "M =   6.310 Msun  T =   nan K  m_ubv_R =  nan\n",
      "M =  50.119 Msun  T =   nan K  m_ubv_R =  nan\n",
      "M =   2.000 Msun  T = 11678 K  m_ubv_R = 11.96\n",
      "M =   4.000 Msun  T = 18093 K  m_ubv_R = 10.37\n",
      "M =   1.200 Msun  T =  7334 K  m_ubv_R = 13.46\n",
      "M =  22.000 Msun  T = 50163 K  m_ubv_R = 6.08\n",
      "M =   2.200 Msun  T = 12493 K  m_ubv_R = 11.74\n",
      "M =  12.000 Msun  T = 29563 K  m_ubv_R = 7.34\n",
      "M =   1.000 Msun  T =  6421 K  m_ubv_R = 14.30\n",
      "M =  14.700 Msun  T = 32490 K  m_ubv_R = 6.77\n",
      "M =   1.600 Msun  T =  9738 K  m_ubv_R = 12.49\n",
      "M =  14.000 Msun  T = 30266 K  m_ubv_R = 6.67\n",
      "M =   5.100 Msun  T = 20777 K  m_ubv_R = 9.82\n",
      "M =  19.000 Msun  T = 12718 K  m_ubv_R = 2.79\n",
      "M =  12.000 Msun  T = 29563 K  m_ubv_R = 7.34\n",
      "M =  16.000 Msun  T = 30076 K  m_ubv_R = 6.05\n",
      "M =  16.000 Msun  T = 30209 K  m_ubv_R = 6.07\n",
      "M =  17.000 Msun  T = 30808 K  m_ubv_R = 5.92\n",
      "M =  13.500 Msun  T = 33441 K  m_ubv_R = 7.15\n",
      "M =   2.600 Msun  T = 13951 K  m_ubv_R = 11.34\n",
      "M =   1.000 Msun  T =  6421 K  m_ubv_R = 14.30\n",
      "M =   1.000 Msun  T =  6421 K  m_ubv_R = 14.30\n",
      "M =  12.000 Msun  T = 31962 K  m_ubv_R = 7.57\n",
      "M =  12.000 Msun  T = 31934 K  m_ubv_R = 7.57\n",
      "M =  11.000 Msun  T = 28521 K  m_ubv_R = 7.56\n",
      "M =  16.000 Msun  T = 30076 K  m_ubv_R = 6.05\n",
      "M =  14.000 Msun  T = 30266 K  m_ubv_R = 6.67\n",
      "M =  11.200 Msun  T = 31333 K  m_ubv_R = 7.80\n",
      "M =   9.500 Msun  T = 28595 K  m_ubv_R = 8.27\n",
      "M =  15.000 Msun  T = 31233 K  m_ubv_R = 6.54\n",
      "M =  16.000 Msun  T = 30209 K  m_ubv_R = 6.07\n",
      "M =   6.300 Msun  T = 23265 K  m_ubv_R = 9.32\n",
      "M =  12.000 Msun  T = 29622 K  m_ubv_R = 7.37\n",
      "M =  12.000 Msun  T = 29563 K  m_ubv_R = 7.34\n",
      "M =  20.000 Msun  T = 30963 K  m_ubv_R = 5.74\n",
      "M =   1.200 Msun  T =  7334 K  m_ubv_R = 13.46\n",
      "M =   3.600 Msun  T = 17023 K  m_ubv_R = 10.60\n",
      "M =  16.000 Msun  T = 32853 K  m_ubv_R = 6.41\n",
      "M =  12.000 Msun  T = 29563 K  m_ubv_R = 7.34\n",
      "M =  12.000 Msun  T = 29563 K  m_ubv_R = 7.34\n",
      "M =   1.500 Msun  T =  9155 K  m_ubv_R = 12.66\n",
      "M =  21.000 Msun  T = 19187 K  m_ubv_R = 3.32\n",
      "M =  10.000 Msun  T = 27641 K  m_ubv_R = 7.92\n",
      "M =   4.800 Msun  T = 20070 K  m_ubv_R = 9.96\n",
      "M =  13.200 Msun  T = 33059 K  m_ubv_R = 7.30\n",
      "M =  11.000 Msun  T = 28462 K  m_ubv_R = 7.54\n",
      "M =  10.800 Msun  T = 30825 K  m_ubv_R = 7.93\n",
      "M =  12.000 Msun  T = 29563 K  m_ubv_R = 7.34\n",
      "M =   9.900 Msun  T = 29609 K  m_ubv_R = 8.16\n",
      "M =  12.600 Msun  T = 32797 K  m_ubv_R = 7.40\n",
      "M =  17.000 Msun  T = 30938 K  m_ubv_R = 5.94\n",
      "M =  15.000 Msun  T = 31233 K  m_ubv_R = 6.54\n",
      "Starting filter: ubv,I   Elapsed time: 60.02 seconds\n",
      "Starting synthetic photometry\n",
      "M =   5.500 Msun  T = 20972 K  m_ubv_I = 9.67\n",
      "M =  20.000 Msun  T = 62596 K  m_ubv_I = 7.93\n",
      "M =  10.000 Msun  T = 27642 K  m_ubv_I = 8.17\n",
      "M =  12.000 Msun  T = 29563 K  m_ubv_I = 7.60\n",
      "M =   3.981 Msun  T =   nan K  m_ubv_I =  nan\n",
      "M =  11.000 Msun  T = 28461 K  m_ubv_I = 7.79\n",
      "M =  19.953 Msun  T =   nan K  m_ubv_I =  nan\n",
      "M =  10.000 Msun  T = 27642 K  m_ubv_I = 8.17\n",
      "M =  21.000 Msun  T = 15185 K  m_ubv_I = 2.78\n",
      "M =  16.000 Msun  T = 30080 K  m_ubv_I = 6.30\n",
      "M =   6.310 Msun  T =   nan K  m_ubv_I =  nan\n",
      "M =  17.000 Msun  T = 29685 K  m_ubv_I = 6.01\n",
      "M =   3.981 Msun  T =   nan K  m_ubv_I =  nan\n",
      "M =   1.400 Msun  T =  3090 K  m_ubv_I = 21.80\n",
      "M =   1.400 Msun  T =  3090 K  m_ubv_I = 21.80\n",
      "M =  31.623 Msun  T =   nan K  m_ubv_I =  nan\n",
      "M =   1.400 Msun  T =   nan K  m_ubv_I =  nan\n",
      "M =  15.000 Msun  T = 30279 K  m_ubv_I = 6.61\n",
      "M =  13.000 Msun  T = 30037 K  m_ubv_I = 7.26\n",
      "M =  10.000 Msun  T = 27642 K  m_ubv_I = 8.17\n",
      "M =  10.000 Msun  T = 27642 K  m_ubv_I = 8.17\n",
      "M =  20.000 Msun  T = 63558 K  m_ubv_I = 8.01\n",
      "M =  20.000 Msun  T = 56351 K  m_ubv_I = 7.35\n",
      "M =   2.512 Msun  T =  3090 K  m_ubv_I = 21.80\n",
      "M =  12.589 Msun  T =   nan K  m_ubv_I =  nan\n",
      "M =  12.589 Msun  T =   nan K  m_ubv_I =  nan\n",
      "M =  16.000 Msun  T = 30122 K  m_ubv_I = 6.31\n",
      "M =  19.000 Msun  T =  9152 K  m_ubv_I = 2.32\n",
      "M =  15.849 Msun  T =   nan K  m_ubv_I =  nan\n",
      "M =   3.162 Msun  T =  3090 K  m_ubv_I = 21.79\n",
      "M =  21.000 Msun  T = 21609 K  m_ubv_I = 3.84\n",
      "M =   3.981 Msun  T =   nan K  m_ubv_I =  nan\n",
      "M =  31.623 Msun  T =   nan K  m_ubv_I =  nan\n",
      "M =  15.849 Msun  T =   nan K  m_ubv_I =  nan\n",
      "M =  12.000 Msun  T = 29563 K  m_ubv_I = 7.60\n",
      "M =  18.000 Msun  T = 29119 K  m_ubv_I = 5.72\n",
      "M =  20.000 Msun  T = 27432 K  m_ubv_I = 4.87\n",
      "M =   6.310 Msun  T =   nan K  m_ubv_I =  nan\n",
      "M =  19.953 Msun  T =   nan K  m_ubv_I =  nan\n",
      "M =  15.000 Msun  T = 30279 K  m_ubv_I = 6.61\n",
      "M =  25.119 Msun  T =   nan K  m_ubv_I =  nan\n",
      "M =   3.981 Msun  T =   nan K  m_ubv_I =  nan\n",
      "M =  12.000 Msun  T = 29563 K  m_ubv_I = 7.60\n",
      "M =  22.000 Msun  T = 35244 K  m_ubv_I = 5.14\n",
      "M =   3.981 Msun  T =   nan K  m_ubv_I =  nan\n",
      "M =  18.000 Msun  T = 29119 K  m_ubv_I = 5.72\n",
      "M =  12.589 Msun  T =   nan K  m_ubv_I =  nan\n",
      "M =  11.000 Msun  T = 28461 K  m_ubv_I = 7.79\n",
      "M =  14.000 Msun  T = 30266 K  m_ubv_I = 6.93\n",
      "M =   6.310 Msun  T =   nan K  m_ubv_I =  nan\n",
      "M =  50.119 Msun  T =   nan K  m_ubv_I =  nan\n",
      "M =   2.000 Msun  T = 11678 K  m_ubv_I = 12.03\n",
      "M =   4.000 Msun  T = 18093 K  m_ubv_I = 10.53\n",
      "M =   1.200 Msun  T =  7334 K  m_ubv_I = 13.25\n",
      "M =  22.000 Msun  T = 50163 K  m_ubv_I = 6.35\n",
      "M =   2.200 Msun  T = 12493 K  m_ubv_I = 11.82\n",
      "M =  12.000 Msun  T = 29563 K  m_ubv_I = 7.60\n",
      "M =   1.000 Msun  T =  6421 K  m_ubv_I = 13.95\n",
      "M =  14.700 Msun  T = 32490 K  m_ubv_I = 7.04\n",
      "M =   1.600 Msun  T =  9738 K  m_ubv_I = 12.50\n",
      "M =  14.000 Msun  T = 30266 K  m_ubv_I = 6.93\n",
      "M =   5.100 Msun  T = 20777 K  m_ubv_I = 10.01\n",
      "M =  19.000 Msun  T = 12718 K  m_ubv_I = 2.85\n",
      "M =  12.000 Msun  T = 29563 K  m_ubv_I = 7.60\n",
      "M =  16.000 Msun  T = 30076 K  m_ubv_I = 6.30\n",
      "M =  16.000 Msun  T = 30209 K  m_ubv_I = 6.32\n",
      "M =  17.000 Msun  T = 30808 K  m_ubv_I = 6.18\n",
      "M =  13.500 Msun  T = 33441 K  m_ubv_I = 7.41\n",
      "M =   2.600 Msun  T = 13951 K  m_ubv_I = 11.45\n",
      "M =   1.000 Msun  T =  6421 K  m_ubv_I = 13.95\n",
      "M =   1.000 Msun  T =  6421 K  m_ubv_I = 13.95\n",
      "M =  12.000 Msun  T = 31962 K  m_ubv_I = 7.84\n",
      "M =  12.000 Msun  T = 31934 K  m_ubv_I = 7.84\n",
      "M =  11.000 Msun  T = 28521 K  m_ubv_I = 7.81\n",
      "M =  16.000 Msun  T = 30076 K  m_ubv_I = 6.30\n",
      "M =  14.000 Msun  T = 30266 K  m_ubv_I = 6.93\n",
      "M =  11.200 Msun  T = 31333 K  m_ubv_I = 8.06\n",
      "M =   9.500 Msun  T = 28595 K  m_ubv_I = 8.52\n",
      "M =  15.000 Msun  T = 31233 K  m_ubv_I = 6.80\n",
      "M =  16.000 Msun  T = 30209 K  m_ubv_I = 6.32\n",
      "M =   6.300 Msun  T = 23265 K  m_ubv_I = 9.54\n",
      "M =  12.000 Msun  T = 29622 K  m_ubv_I = 7.62\n",
      "M =  12.000 Msun  T = 29563 K  m_ubv_I = 7.60\n",
      "M =  20.000 Msun  T = 30963 K  m_ubv_I = 5.99\n",
      "M =   1.200 Msun  T =  7334 K  m_ubv_I = 13.25\n",
      "M =   3.600 Msun  T = 17023 K  m_ubv_I = 10.75\n",
      "M =  16.000 Msun  T = 32853 K  m_ubv_I = 6.68\n",
      "M =  12.000 Msun  T = 29563 K  m_ubv_I = 7.60\n",
      "M =  12.000 Msun  T = 29563 K  m_ubv_I = 7.60\n",
      "M =   1.500 Msun  T =  9155 K  m_ubv_I = 12.63\n",
      "M =  21.000 Msun  T = 19187 K  m_ubv_I = 3.49\n",
      "M =  10.000 Msun  T = 27641 K  m_ubv_I = 8.16\n",
      "M =   4.800 Msun  T = 20070 K  m_ubv_I = 10.14\n",
      "M =  13.200 Msun  T = 33059 K  m_ubv_I = 7.56\n",
      "M =  11.000 Msun  T = 28462 K  m_ubv_I = 7.78\n",
      "M =  10.800 Msun  T = 30825 K  m_ubv_I = 8.19\n",
      "M =  12.000 Msun  T = 29563 K  m_ubv_I = 7.60\n",
      "M =   9.900 Msun  T = 29609 K  m_ubv_I = 8.42\n",
      "M =  12.600 Msun  T = 32797 K  m_ubv_I = 7.67\n",
      "M =  17.000 Msun  T = 30938 K  m_ubv_I = 6.20\n",
      "M =  15.000 Msun  T = 31233 K  m_ubv_I = 6.80\n",
      "      Time taken: 74.84 seconds\n",
      "Isochrone generation took 902.685390 s.\n"
     ]
    }
   ],
   "source": [
    "import spisea\n",
    "from spisea import evolution, synthetic\n",
    "import math\n",
    "# Check if the evolution class works fine\n",
    "import time\n",
    "import numpy as np\n",
    "iso1=synthetic.Isochrone_Binary(7.0, 0.0, 1000,math.log10(0.1), mass_sampling=1)"
   ]
  },
  {
   "cell_type": "markdown",
   "metadata": {},
   "source": [
    "Checking if all phases represented in the isochrone are valid phases."
   ]
  },
  {
   "cell_type": "code",
   "execution_count": 2,
   "metadata": {},
   "outputs": [
    {
     "data": {
      "text/plain": [
       "True"
      ]
     },
     "execution_count": 2,
     "metadata": {},
     "output_type": "execute_result"
    }
   ],
   "source": [
    "import numpy as np\n",
    "np.all([(x == 5 or x == 101 or x==102 or x==103) for x in iso1.primaries['phase']])"
   ]
  },
  {
   "cell_type": "code",
   "execution_count": 3,
   "metadata": {},
   "outputs": [
    {
     "data": {
      "text/plain": [
       "True"
      ]
     },
     "execution_count": 3,
     "metadata": {},
     "output_type": "execute_result"
    }
   ],
   "source": [
    "np.all([(x == 5 or x == 101 or x==102 or x==103) for x in iso1.singles['phase']])"
   ]
  },
  {
   "cell_type": "code",
   "execution_count": 4,
   "metadata": {},
   "outputs": [
    {
     "data": {
      "text/plain": [
       "True"
      ]
     },
     "execution_count": 4,
     "metadata": {},
     "output_type": "execute_result"
    }
   ],
   "source": [
    "np.all([(x == 5 or x == 101 or x == -99 or x==102 or x==103) for x in iso1.secondaries['phase']])"
   ]
  },
  {
   "cell_type": "markdown",
   "metadata": {},
   "source": [
    "Find the maximum, mean, and median  values of logg (cgs) for primaries, single stars, and secondaries. "
   ]
  },
  {
   "cell_type": "code",
   "execution_count": 5,
   "metadata": {},
   "outputs": [
    {
     "data": {
      "text/plain": [
       "5.893166216900485"
      ]
     },
     "execution_count": 5,
     "metadata": {},
     "output_type": "execute_result"
    }
   ],
   "source": [
    "import numpy as np\n",
    "np.max(iso1.singles['logg'])"
   ]
  },
  {
   "cell_type": "code",
   "execution_count": 6,
   "metadata": {},
   "outputs": [
    {
     "data": {
      "text/plain": [
       "6.014527259205064"
      ]
     },
     "execution_count": 6,
     "metadata": {},
     "output_type": "execute_result"
    }
   ],
   "source": [
    "import numpy as np\n",
    "np.max(np.nan_to_num(iso1.primaries['logg'], -np.inf))"
   ]
  },
  {
   "cell_type": "code",
   "execution_count": 7,
   "metadata": {},
   "outputs": [
    {
     "data": {
      "text/plain": [
       "5.477660824834683"
      ]
     },
     "execution_count": 7,
     "metadata": {},
     "output_type": "execute_result"
    }
   ],
   "source": [
    "np.max(np.nan_to_num(iso1.secondaries['logg']))"
   ]
  },
  {
   "cell_type": "code",
   "execution_count": 8,
   "metadata": {},
   "outputs": [
    {
     "data": {
      "text/plain": [
       "4.346046095913214"
      ]
     },
     "execution_count": 8,
     "metadata": {},
     "output_type": "execute_result"
    }
   ],
   "source": [
    "np.mean(iso1.singles['logg'][np.where(~np.isnan(iso1.singles['logg']))])"
   ]
  },
  {
   "cell_type": "code",
   "execution_count": 9,
   "metadata": {},
   "outputs": [
    {
     "data": {
      "text/plain": [
       "3.8669286871048065"
      ]
     },
     "execution_count": 9,
     "metadata": {},
     "output_type": "execute_result"
    }
   ],
   "source": [
    "np.mean(iso1.primaries['logg'][np.where(~np.isnan(iso1.primaries['logg']))])"
   ]
  },
  {
   "cell_type": "code",
   "execution_count": 10,
   "metadata": {},
   "outputs": [
    {
     "data": {
      "text/plain": [
       "4.061781883661361"
      ]
     },
     "execution_count": 10,
     "metadata": {},
     "output_type": "execute_result"
    }
   ],
   "source": [
    "np.mean(iso1.secondaries['logg'][np.where(~np.isnan(iso1.secondaries['logg']))])"
   ]
  },
  {
   "cell_type": "code",
   "execution_count": 11,
   "metadata": {},
   "outputs": [
    {
     "data": {
      "text/plain": [
       "4.369644990441944"
      ]
     },
     "execution_count": 11,
     "metadata": {},
     "output_type": "execute_result"
    }
   ],
   "source": [
    "np.median(iso1.singles['logg'][np.where(~np.isnan(iso1.singles['logg']))])"
   ]
  },
  {
   "cell_type": "code",
   "execution_count": 12,
   "metadata": {},
   "outputs": [
    {
     "data": {
      "text/plain": [
       "4.087974438060869"
      ]
     },
     "execution_count": 12,
     "metadata": {},
     "output_type": "execute_result"
    }
   ],
   "source": [
    "np.median(iso1.primaries['logg'][np.where(~np.isnan(iso1.primaries['logg']))])"
   ]
  },
  {
   "cell_type": "code",
   "execution_count": 13,
   "metadata": {},
   "outputs": [
    {
     "data": {
      "text/plain": [
       "4.310810637133002"
      ]
     },
     "execution_count": 13,
     "metadata": {},
     "output_type": "execute_result"
    }
   ],
   "source": [
    "np.median([x for x in iso1.secondaries['logg'] if np.isfinite(x)])"
   ]
  },
  {
   "cell_type": "code",
   "execution_count": 14,
   "metadata": {},
   "outputs": [
    {
     "data": {
      "text/plain": [
       "Text(0.5, 0, 'logg in cgs')"
      ]
     },
     "execution_count": 14,
     "metadata": {},
     "output_type": "execute_result"
    },
    {
     "name": "stderr",
     "output_type": "stream",
     "text": [
      "findfont: Font family ['sans-serif'] not found. Falling back to DejaVu Sans.\n",
      "findfont: Generic family 'sans-serif' not found because none of the following families were found: Bitstream Vera Sans\n",
      "findfont: Font family ['sans-serif'] not found. Falling back to DejaVu Sans.\n",
      "findfont: Generic family 'sans-serif' not found because none of the following families were found: Bitstream Vera Sans\n"
     ]
    },
    {
     "data": {
      "image/png": "[encoded data removed]",
      "text/plain": [
       "<Figure size 432x288 with 1 Axes>"
      ]
     },
     "metadata": {
      "needs_background": "light"
     },
     "output_type": "display_data"
    }
   ],
   "source": [
    "import matplotlib.pyplot as plt\n",
    "plt.title(\"Histogram of logg values (secondaries) of BPASS isochrone\")\n",
    "plt.hist(np.array([x for x in iso1.secondaries['logg'] if np.isfinite(x)]), np.arange(-10, 30, 1))\n",
    "plt.xlabel(\"logg in cgs\")"
   ]
  },
  {
   "cell_type": "code",
   "execution_count": 15,
   "metadata": {},
   "outputs": [
    {
     "data": {
      "text/plain": [
       "Text(0.5, 0, 'logg in cgs')"
      ]
     },
     "execution_count": 15,
     "metadata": {},
     "output_type": "execute_result"
    },
    {
     "data": {
      "image/png": "[encoded data removed]",
      "text/plain": [
       "<Figure size 432x288 with 1 Axes>"
      ]
     },
     "metadata": {
      "needs_background": "light"
     },
     "output_type": "display_data"
    }
   ],
   "source": [
    "plt.title(\"Histogram of logg values (primaries) of BPASS isochrone\")\n",
    "plt.hist(np.array([x for x in iso1.primaries['logg'] if np.isfinite(x)]), np.arange(-10, 30, 1))\n",
    "plt.xlabel(\"logg in cgs\")"
   ]
  },
  {
   "cell_type": "code",
   "execution_count": 16,
   "metadata": {},
   "outputs": [
    {
     "data": {
      "text/plain": [
       "Text(0.5, 0, 'logg in cgs')"
      ]
     },
     "execution_count": 16,
     "metadata": {},
     "output_type": "execute_result"
    },
    {
     "data": {
      "image/png": "[encoded data removed]",
      "text/plain": [
       "<Figure size 432x288 with 1 Axes>"
      ]
     },
     "metadata": {
      "needs_background": "light"
     },
     "output_type": "display_data"
    }
   ],
   "source": [
    "plt.title(\"Histogram of logg values single stars of BPASS isochrone\")\n",
    "plt.hist(np.array([x for x in iso1.singles['logg'] if np.isfinite(x)]), np.arange(0, 30, 1))\n",
    "plt.xlabel(\"logg in cgs\")"
   ]
  },
  {
   "cell_type": "markdown",
   "metadata": {},
   "source": [
    "What exactly could be causing the vertical line in the top left corner of the plot? First, I want to zoom in...\n",
    "Plotting the CMD for the Color magnitude diagram for high surface gravity stars (surface gravity greater than 5 cgs). Remember to account for distance modulus for dist = 1000 pc"
   ]
  },
  {
   "cell_type": "code",
   "execution_count": 17,
   "metadata": {},
   "outputs": [
    {
     "data": {
      "text/plain": [
       "<matplotlib.legend.Legend at 0x7fec58e3f690>"
      ]
     },
     "execution_count": 17,
     "metadata": {},
     "output_type": "execute_result"
    },
    {
     "data": {
      "image/png": "[encoded data removed]",
      "text/plain": [
       "<Figure size 432x288 with 1 Axes>"
      ]
     },
     "metadata": {
      "needs_background": "light"
     },
     "output_type": "display_data"
    }
   ],
   "source": [
    "indices1= np.where(iso1.singles['logg'] > 5)[0]\n",
    "indices2= np.where(iso1.primaries['logg'] > 5)[0]\n",
    "indices3= np.where(iso1.secondaries['logg'] > 5)[0]\n",
    "plt.plot(iso1.primaries['m_ubv_B'][indices2] - iso1.primaries[\"m_ubv_V\"][indices2],\n",
    "         iso1.primaries[\"m_ubv_V\"][indices2] - 5 * np.log10(1000 / 10), \"r.\")\n",
    "plt.plot(iso1.secondaries['m_ubv_B'][indices3] - iso1.secondaries[\"m_ubv_V\"][indices3],\n",
    "         iso1.secondaries[\"m_ubv_V\"][indices3] - 5 * np.log10(1000 / 10), \"r.\")\n",
    "plt.plot(iso1.singles['m_ubv_B'][indices1] - iso1.singles[\"m_ubv_V\"][indices1],\n",
    "         iso1.singles[\"m_ubv_V\"][indices1] - 5 * np.log10(1000 / 10), \"r.\",\n",
    "         label=\"BPASS isochrone\")\n",
    "plt.xlabel(\"B-V\")\n",
    "plt.ylabel(\"M_V\")\n",
    "plt.title(\"Color magnitude Diagram of Isochrones at 0.1Z_solar and 10**7.0 years age\")\n",
    "plt.gca().invert_yaxis()\n",
    "plt.legend()"
   ]
  },
  {
   "cell_type": "code",
   "execution_count": 18,
   "metadata": {},
   "outputs": [],
   "source": [
    "indices2= np.where((iso1.primaries['logg'] > 5) & (iso1.primaries['m_ubv_B'] -\n",
    "                                                   iso1.primaries['m_ubv_V'] > -0.4) &\n",
    "                   (iso1.primaries['m_ubv_B'] - iso1.primaries['m_ubv_V'] < -0.2))[0]"
   ]
  },
  {
   "cell_type": "code",
   "execution_count": 19,
   "metadata": {},
   "outputs": [
    {
     "data": {
      "text/html": [
       "&lt;Column name=&apos;phase&apos; dtype=&apos;float64&apos; length=1&gt;\n",
       "<table>\n",
       "<tr><td>5.0</td></tr>\n",
       "</table>"
      ],
      "text/plain": [
       "<Column name='phase' dtype='float64' length=1>\n",
       "5.0"
      ]
     },
     "execution_count": 19,
     "metadata": {},
     "output_type": "execute_result"
    }
   ],
   "source": [
    "np.unique(iso1.primaries[indices2]['phase'])"
   ]
  },
  {
   "cell_type": "code",
   "execution_count": 20,
   "metadata": {},
   "outputs": [],
   "source": [
    "indices2= np.where((iso1.primaries['m_ubv_B'] - iso1.primaries['m_ubv_V'] > 1.2) &\n",
    "                   (iso1.primaries['m_ubv_B'] - iso1.primaries['m_ubv_V'] < 1.5))[0]"
   ]
  },
  {
   "cell_type": "code",
   "execution_count": 21,
   "metadata": {},
   "outputs": [
    {
     "data": {
      "text/plain": [
       "array([2150, 2389, 2561, 3693, 3963])"
      ]
     },
     "execution_count": 21,
     "metadata": {},
     "output_type": "execute_result"
    }
   ],
   "source": [
    "indices2"
   ]
  },
  {
   "cell_type": "code",
   "execution_count": 22,
   "metadata": {},
   "outputs": [
    {
     "data": {
      "text/html": [
       "&lt;Column name=&apos;phase&apos; dtype=&apos;float64&apos; length=1&gt;\n",
       "<table>\n",
       "<tr><td>5.0</td></tr>\n",
       "</table>"
      ],
      "text/plain": [
       "<Column name='phase' dtype='float64' length=1>\n",
       "5.0"
      ]
     },
     "execution_count": 22,
     "metadata": {},
     "output_type": "execute_result"
    }
   ],
   "source": [
    "np.unique(iso1.primaries['phase'][indices2])"
   ]
  },
  {
   "cell_type": "code",
   "execution_count": 23,
   "metadata": {},
   "outputs": [
    {
     "data": {
      "text/html": [
       "<i>Table length=5</i>\n",
       "<table id=\"table140653078162768\" class=\"table-striped table-bordered table-condensed\">\n",
       "<thead><tr><th>mass</th><th>L</th><th>Teff</th><th>R</th><th>logg</th><th>isWR</th><th>mass_current</th><th>phase</th><th>source</th><th>m_ubv_U</th><th>m_ubv_V</th><th>m_ubv_B</th><th>m_ubv_R</th><th>m_ubv_I</th></tr></thead>\n",
       "<thead><tr><th>solMass</th><th>W</th><th>K</th><th>m</th><th></th><th></th><th>solMass</th><th></th><th></th><th></th><th></th><th></th><th></th><th></th></tr></thead>\n",
       "<thead><tr><th>float64</th><th>float64</th><th>float64</th><th>float64</th><th>float64</th><th>bool</th><th>float64</th><th>float64</th><th>int64</th><th>float64</th><th>float64</th><th>float64</th><th>float64</th><th>float64</th></tr></thead>\n",
       "<tr><td>0.4</td><td>1.2620655992139642e+25</td><td>4022.4439387259845</td><td>260105876.5122988</td><td>5.119227217859879</td><td>False</td><td>0.6731</td><td>5.0</td><td>1</td><td>21.4509080913488</td><td>19.309600741830604</td><td>20.621503005463673</td><td>18.57506422961825</td><td>17.64547085076375</td></tr>\n",
       "<tr><td>0.4</td><td>1.3187483495325182e+25</td><td>4054.711884519506</td><td>261667728.4094566</td><td>5.162280956389513</td><td>False</td><td>0.7522</td><td>5.0</td><td>1</td><td>21.341178017558903</td><td>19.23687993397867</td><td>20.52995355111152</td><td>18.51171600619473</td><td>17.596290777432472</td></tr>\n",
       "<tr><td>0.4</td><td>1.2620655992139642e+25</td><td>4022.4439387259845</td><td>260105876.5122988</td><td>5.119227217859879</td><td>False</td><td>0.6731</td><td>5.0</td><td>1</td><td>21.4509080913488</td><td>19.309600741830604</td><td>20.621503005463673</td><td>18.57506422961825</td><td>17.64547085076375</td></tr>\n",
       "<tr><td>0.4</td><td>1.2620655992139642e+25</td><td>4022.4439387259845</td><td>260105876.5122988</td><td>5.119227217859879</td><td>False</td><td>0.6731</td><td>5.0</td><td>1</td><td>21.4509080913488</td><td>19.309600741830604</td><td>20.621503005463673</td><td>18.57506422961825</td><td>17.64547085076375</td></tr>\n",
       "<tr><td>0.4</td><td>1.2869803887833635e+25</td><td>4038.778168243262</td><td>260540453.1844624</td><td>5.1424924959836815</td><td>False</td><td>0.7125</td><td>5.0</td><td>1</td><td>21.39741319856195</td><td>19.275360837483586</td><td>20.577476837145163</td><td>18.545675853970263</td><td>17.62335684775594</td></tr>\n",
       "</table>"
      ],
      "text/plain": [
       "<Table length=5>\n",
       "  mass            L            ...      m_ubv_R            m_ubv_I      \n",
       "solMass           W            ...                                      \n",
       "float64        float64         ...      float64            float64      \n",
       "------- ---------------------- ... ------------------ ------------------\n",
       "    0.4 1.2620655992139642e+25 ...  18.57506422961825  17.64547085076375\n",
       "    0.4 1.3187483495325182e+25 ...  18.51171600619473 17.596290777432472\n",
       "    0.4 1.2620655992139642e+25 ...  18.57506422961825  17.64547085076375\n",
       "    0.4 1.2620655992139642e+25 ...  18.57506422961825  17.64547085076375\n",
       "    0.4 1.2869803887833635e+25 ... 18.545675853970263  17.62335684775594"
      ]
     },
     "execution_count": 23,
     "metadata": {},
     "output_type": "execute_result"
    }
   ],
   "source": [
    "iso1.primaries[indices2]"
   ]
  },
  {
   "cell_type": "code",
   "execution_count": 24,
   "metadata": {},
   "outputs": [
    {
     "data": {
      "text/plain": [
       "<matplotlib.legend.Legend at 0x7fec58e94b10>"
      ]
     },
     "execution_count": 24,
     "metadata": {},
     "output_type": "execute_result"
    },
    {
     "data": {
      "image/png": "[encoded data removed]",
      "text/plain": [
       "<Figure size 432x288 with 1 Axes>"
      ]
     },
     "metadata": {
      "needs_background": "light"
     },
     "output_type": "display_data"
    }
   ],
   "source": [
    "plt.plot(iso1.secondaries['m_ubv_B'] - iso1.secondaries[\"m_ubv_V\"],\n",
    "         iso1.secondaries[\"m_ubv_V\"] - 5 * np.log10(100), \"r.\",\n",
    "         label=\"Secondary stars BPASS isochrone\")\n",
    "plt.xlabel(\"B-V\")\n",
    "plt.ylabel(\"M_V\")\n",
    "plt.title(\"Color magnitude Diagram of Isochrones at 0.1 times solar metallicity\\n\" +\n",
    "          \"and 10**7.0 years age\")\n",
    "plt.gca().invert_yaxis()\n",
    "plt.legend()"
   ]
  },
  {
   "cell_type": "markdown",
   "metadata": {},
   "source": [
    "Hmm, I think those are stars that are going to be white dwarves very soon or may unintentionally be brown dwarves. At least according to HOKI's criterion for what is a white dwarf or not. At the very least, at least the stars we just saw were low mass stars so they should be **LOW** on the CMD"
   ]
  },
  {
   "cell_type": "code",
   "execution_count": 25,
   "metadata": {},
   "outputs": [
    {
     "name": "stdout",
     "output_type": "stream",
     "text": [
      "Changing to logg=4.00 for T= 31270 logg=4.00\n",
      "Changing to logg=4.00 for T= 31267 logg=3.99\n",
      "Changing to logg=4.00 for T= 31259 logg=3.98\n",
      "Changing to logg=4.00 for T= 31245 logg=3.97\n",
      "Changing to logg=4.00 for T= 31226 logg=3.96\n",
      "Changing to logg=4.00 for T= 31200 logg=3.94\n",
      "Changing to logg=4.00 for T= 31169 logg=3.93\n",
      "Changing to logg=4.00 for T= 31139 logg=3.92\n",
      "Changing to logg=4.00 for T= 31109 logg=3.91\n",
      "Changing to logg=4.00 for T= 31072 logg=3.90\n",
      "Changing to logg=4.00 for T= 31032 logg=3.89\n",
      "Changing to logg=4.00 for T= 31013 logg=3.64\n",
      "Changing to logg=4.00 for T= 31102 logg=3.64\n",
      "Changing to logg=4.00 for T= 31185 logg=3.64\n",
      "Changing to logg=4.00 for T= 31263 logg=3.65\n",
      "Changing to logg=4.00 for T= 31337 logg=3.65\n",
      "Changing to logg=4.00 for T= 31405 logg=3.65\n",
      "Changing to logg=4.00 for T= 31467 logg=3.65\n",
      "Changing to logg=4.00 for T= 31520 logg=3.65\n",
      "Changing to logg=4.00 for T= 31564 logg=3.66\n",
      "Changing to logg=4.00 for T= 31593 logg=3.66\n",
      "Changing to logg=4.00 for T= 31604 logg=3.66\n",
      "Changing to logg=4.00 for T= 31594 logg=3.66\n",
      "Changing to logg=4.00 for T= 31559 logg=3.66\n",
      "Changing to logg=4.00 for T= 31501 logg=3.66\n",
      "Changing to logg=4.00 for T= 31423 logg=3.65\n",
      "Changing to logg=4.00 for T= 31328 logg=3.65\n",
      "Changing to logg=4.00 for T= 31225 logg=3.65\n",
      "Changing to logg=4.00 for T= 31112 logg=3.64\n",
      "Changing to logg=3.50 for T= 29088 logg=3.49\n",
      "Changing to logg=3.50 for T= 29029 logg=3.49\n",
      "Changing to logg=3.50 for T= 28969 logg=3.49\n",
      "Changing to logg=3.50 for T= 28909 logg=3.48\n",
      "Changing to logg=3.50 for T= 28848 logg=3.48\n",
      "Changing to logg=3.50 for T= 28787 logg=3.47\n",
      "Changing to logg=3.50 for T= 28726 logg=3.47\n",
      "Changing to logg=3.50 for T= 28664 logg=3.46\n",
      "Changing to logg=3.50 for T= 28603 logg=3.46\n",
      "Changing to logg=3.50 for T= 28541 logg=3.46\n",
      "Changing to logg=3.50 for T= 28479 logg=3.45\n",
      "Changing to logg=3.50 for T= 28417 logg=3.45\n",
      "Changing to logg=3.50 for T= 28355 logg=3.44\n",
      "Changing to logg=3.50 for T= 28293 logg=3.44\n",
      "Changing to logg=3.50 for T= 28230 logg=3.44\n",
      "Changing to logg=3.50 for T= 28168 logg=3.43\n",
      "Changing to logg=3.50 for T= 28106 logg=3.43\n",
      "Changing to logg=3.50 for T= 28044 logg=3.42\n",
      "Changing to logg=3.50 for T= 27982 logg=3.42\n",
      "Changing to logg=3.50 for T= 27920 logg=3.42\n",
      "Changing to logg=3.50 for T= 27858 logg=3.41\n",
      "Changing to logg=3.50 for T= 27796 logg=3.41\n",
      "Changing to logg=3.50 for T= 27734 logg=3.40\n",
      "Changing to logg=3.50 for T= 27672 logg=3.40\n",
      "Changing to logg=3.50 for T= 27610 logg=3.40\n",
      "Changing to logg=3.50 for T= 27548 logg=3.39\n",
      "Changing to logg=3.50 for T= 27486 logg=3.39\n",
      "Changing to logg=3.50 for T= 27425 logg=3.38\n",
      "Changing to logg=3.50 for T= 27363 logg=3.38\n",
      "Changing to logg=3.50 for T= 27301 logg=3.37\n",
      "Changing to logg=3.50 for T= 27240 logg=3.37\n",
      "Changing to logg=3.50 for T= 27179 logg=3.37\n",
      "Changing to logg=3.50 for T= 27118 logg=3.36\n",
      "Changing to logg=3.50 for T= 27056 logg=3.36\n",
      "Changing to logg=3.50 for T= 26995 logg=3.35\n",
      "Changing to logg=3.50 for T= 26934 logg=3.35\n",
      "Changing to logg=3.50 for T= 26873 logg=3.34\n",
      "Changing to logg=3.50 for T= 26812 logg=3.34\n",
      "Changing to logg=3.50 for T= 26751 logg=3.34\n",
      "Changing to logg=3.50 for T= 26690 logg=3.33\n",
      "Changing to logg=3.50 for T= 26629 logg=3.33\n",
      "Changing to logg=3.50 for T= 26568 logg=3.32\n",
      "Changing to logg=3.50 for T= 26507 logg=3.32\n",
      "Changing to logg=3.50 for T= 26447 logg=3.31\n",
      "Changing to logg=3.50 for T= 26386 logg=3.31\n",
      "Changing to logg=3.50 for T= 26326 logg=3.31\n",
      "Changing to logg=3.50 for T= 26265 logg=3.30\n",
      "Changing to logg=3.50 for T= 26205 logg=3.30\n",
      "Changing to logg=3.50 for T= 26144 logg=3.29\n",
      "Changing to logg=3.50 for T= 26084 logg=3.29\n",
      "Changing to logg=3.50 for T= 26024 logg=3.28\n",
      "Changing to logg=3.00 for T= 22390 logg=3.00\n",
      "Changing to logg=3.00 for T= 22334 logg=2.99\n",
      "Changing to logg=3.00 for T= 22278 logg=2.99\n",
      "Changing to logg=3.00 for T= 22222 logg=2.98\n",
      "Changing to logg=3.00 for T= 22167 logg=2.98\n",
      "Changing to logg=3.00 for T= 22111 logg=2.97\n",
      "Changing to logg=3.00 for T= 22056 logg=2.97\n",
      "Changing to logg=3.00 for T= 22001 logg=2.96\n",
      "Changing to logg=3.00 for T= 21946 logg=2.96\n",
      "Changing to logg=3.00 for T= 21891 logg=2.95\n",
      "Changing to logg=3.00 for T= 21836 logg=2.95\n",
      "Changing to logg=3.00 for T= 21782 logg=2.94\n",
      "Changing to logg=3.00 for T= 21728 logg=2.94\n",
      "Changing to logg=3.00 for T= 21673 logg=2.93\n",
      "Changing to logg=3.00 for T= 21619 logg=2.93\n",
      "Changing to logg=3.00 for T= 21565 logg=2.92\n",
      "Changing to logg=3.00 for T= 21512 logg=2.92\n",
      "Changing to logg=3.00 for T= 21458 logg=2.91\n",
      "Changing to logg=3.00 for T= 21405 logg=2.91\n",
      "Changing to logg=3.00 for T= 21351 logg=2.90\n",
      "Changing to logg=3.00 for T= 21298 logg=2.90\n",
      "Changing to logg=3.00 for T= 21245 logg=2.89\n",
      "Changing to logg=3.00 for T= 21192 logg=2.89\n",
      "Changing to logg=3.00 for T= 21140 logg=2.88\n",
      "Changing to logg=3.00 for T= 21087 logg=2.88\n",
      "Changing to logg=3.00 for T= 21035 logg=2.87\n",
      "Changing to logg=3.00 for T= 20982 logg=2.87\n",
      "Changing to logg=3.00 for T= 20930 logg=2.86\n",
      "Changing to logg=3.00 for T= 20878 logg=2.86\n",
      "Changing to logg=3.00 for T= 20826 logg=2.85\n",
      "Changing to logg=3.00 for T= 20774 logg=2.85\n",
      "Changing to logg=3.00 for T= 20723 logg=2.84\n",
      "Changing to logg=3.00 for T= 20671 logg=2.84\n",
      "Changing to logg=3.00 for T= 20620 logg=2.83\n",
      "Changing to logg=3.00 for T= 20569 logg=2.83\n",
      "Changing to logg=3.00 for T= 20518 logg=2.82\n",
      "Changing to logg=3.00 for T= 20467 logg=2.82\n",
      "Changing to logg=3.00 for T= 20416 logg=2.81\n",
      "Changing to logg=3.00 for T= 20365 logg=2.81\n",
      "Changing to logg=3.00 for T= 20315 logg=2.80\n",
      "Changing to logg=3.00 for T= 20282 logg=2.80\n",
      "Changing to logg=3.00 for T= 20249 logg=2.79\n",
      "Changing to logg=3.00 for T= 20216 logg=2.79\n",
      "Changing to logg=3.00 for T= 20183 logg=2.79\n",
      "Changing to logg=3.00 for T= 20151 logg=2.78\n",
      "Changing to logg=3.00 for T= 20118 logg=2.78\n",
      "Changing to logg=3.00 for T= 20085 logg=2.78\n",
      "Changing to logg=3.00 for T= 20053 logg=2.77\n",
      "Changing to logg=3.00 for T= 20021 logg=2.77\n",
      "Changing to logg=3.00 for T= 19988 logg=2.77\n",
      "Changing to logg=3.00 for T= 19956 logg=2.76\n",
      "Changing to logg=3.00 for T= 19924 logg=2.76\n",
      "Changing to logg=3.00 for T= 19892 logg=2.76\n",
      "Changing to logg=3.00 for T= 19860 logg=2.75\n",
      "Changing to logg=3.00 for T= 19828 logg=2.75\n",
      "Changing to logg=3.00 for T= 19796 logg=2.75\n",
      "Changing to logg=3.00 for T= 19764 logg=2.74\n",
      "Changing to logg=3.00 for T= 19732 logg=2.74\n",
      "Changing to logg=3.00 for T= 19701 logg=2.74\n",
      "Changing to logg=3.00 for T= 19670 logg=2.74\n",
      "Changing to logg=3.00 for T= 19638 logg=2.73\n",
      "Changing to logg=3.00 for T= 19607 logg=2.73\n",
      "Changing to logg=3.00 for T= 19576 logg=2.73\n",
      "Changing to logg=3.00 for T= 19546 logg=2.72\n",
      "Changing to logg=3.00 for T= 19515 logg=2.72\n",
      "Changing to logg=3.00 for T= 19484 logg=2.72\n",
      "Changing to logg=3.00 for T= 19193 logg=2.69\n",
      "Changing to logg=2.50 for T= 17579 logg=2.48\n",
      "Changing to logg=2.50 for T= 17390 logg=2.46\n",
      "Changing to logg=2.50 for T= 17170 logg=2.43\n",
      "Changing to logg=2.50 for T= 16944 logg=2.40\n",
      "Changing to logg=2.50 for T= 16719 logg=2.38\n",
      "Changing to logg=2.50 for T= 16498 logg=2.35\n",
      "Changing to logg=2.50 for T= 16279 logg=2.33\n",
      "Changing to logg=2.50 for T= 16062 logg=2.30\n",
      "Changing to logg=2.50 for T= 15848 logg=2.27\n",
      "Changing to logg=2.50 for T= 15637 logg=2.25\n",
      "Changing to logg=2.50 for T= 15428 logg=2.22\n",
      "Changing to logg=2.50 for T= 15222 logg=2.20\n",
      "Changing to logg=2.50 for T= 15018 logg=2.17\n",
      "Changing to logg=2.50 for T= 14816 logg=2.15\n",
      "Changing to logg=2.50 for T= 14618 logg=2.12\n",
      "Changing to logg=2.50 for T= 14421 logg=2.10\n",
      "Changing to logg=2.50 for T= 14227 logg=2.07\n",
      "Changing to logg=2.50 for T= 14036 logg=2.05\n",
      "Changing to logg=2.50 for T= 13847 logg=2.02\n",
      "Changing to logg=2.50 for T= 13660 logg=2.00\n",
      "Changing to logg=2.50 for T= 13476 logg=1.97\n",
      "Changing to logg=2.50 for T= 13294 logg=1.95\n",
      "Changing to logg=2.50 for T= 13115 logg=1.92\n",
      "Changing to logg=2.50 for T= 12938 logg=1.90\n",
      "Changing to logg=2.50 for T= 12764 logg=1.87\n",
      "Changing to logg=2.50 for T= 12591 logg=1.85\n",
      "Changing to logg=2.50 for T= 12421 logg=1.83\n",
      "Changing to logg=2.50 for T= 12253 logg=1.80\n",
      "Changing to logg=2.50 for T= 12087 logg=1.78\n",
      "Changing to logg=2.50 for T= 11924 logg=1.75\n",
      "Changing to logg=2.50 for T= 11762 logg=1.73\n",
      "Changing to logg=2.00 for T= 11603 logg=1.70\n",
      "Changing to logg=2.00 for T= 11446 logg=1.68\n",
      "Changing to logg=2.00 for T= 11291 logg=1.66\n",
      "Changing to logg=2.00 for T= 11138 logg=1.63\n",
      "Changing to logg=2.00 for T= 10987 logg=1.61\n",
      "Changing to logg=2.00 for T= 10837 logg=1.58\n",
      "Changing to logg=2.00 for T= 10690 logg=1.56\n",
      "Changing to logg=2.00 for T= 10545 logg=1.54\n",
      "Changing to logg=2.00 for T= 10402 logg=1.51\n",
      "Changing to logg=2.00 for T= 10261 logg=1.49\n",
      "Changing to logg=2.00 for T= 10121 logg=1.46\n",
      "Changing to logg=2.00 for T=  9984 logg=1.44\n",
      "Changing to logg=2.00 for T=  9848 logg=1.42\n",
      "Changing to logg=2.00 for T=  9715 logg=1.39\n",
      "Changing to logg=2.00 for T=  9583 logg=1.37\n",
      "Changing to logg=2.00 for T=  9453 logg=1.34\n",
      "Changing to logg=2.00 for T=  9324 logg=1.32\n",
      "Changing to logg=2.00 for T=  9198 logg=1.30\n",
      "Changing to logg=2.00 for T=  9073 logg=1.27\n",
      "Changing to logg=1.50 for T=  8950 logg=1.25\n",
      "Changing to logg=1.50 for T=  8828 logg=1.23\n",
      "Changing to logg=1.50 for T=  8709 logg=1.20\n",
      "Changing to logg=1.50 for T=  8591 logg=1.18\n",
      "Changing to logg=1.50 for T=  8474 logg=1.16\n",
      "Changing to logg=1.50 for T=  8359 logg=1.13\n",
      "Changing to logg=1.00 for T=  7703 logg=0.99\n",
      "Changing to logg=1.00 for T=  7599 logg=0.97\n",
      "Isochrone generation took 53.438268 s.\n",
      "Making photometry for isochrone: log(t) = 7.00  AKs = 0.00  dist = 1000\n",
      "     Starting at:  2021-07-22 14:16:46.564639   Usually takes ~5 minutes\n",
      "Starting filter: ubv,U   Elapsed time: 0.00 seconds\n",
      "Starting synthetic photometry\n",
      "M =   0.104 Msun  T =  3516 K  m_ubv_U = 23.25\n",
      "M =   1.571 Msun  T =  9909 K  m_ubv_U = 12.45\n",
      "M =   6.785 Msun  T = 23952 K  m_ubv_U = 7.89\n",
      "M =  18.749 Msun  T = 30008 K  m_ubv_U = 3.92\n",
      "M =  18.788 Msun  T = 25605 K  m_ubv_U = 3.48\n",
      "M =  18.806 Msun  T = 20118 K  m_ubv_U = 2.98\n",
      "M =  20.402 Msun  T =  6878 K  m_ubv_U = 1.98\n",
      "Starting filter: ubv,B   Elapsed time: 1.26 seconds\n",
      "Starting synthetic photometry\n",
      "M =   0.104 Msun  T =  3516 K  m_ubv_B = 22.13\n",
      "M =   1.571 Msun  T =  9909 K  m_ubv_B = 12.48\n",
      "M =   6.785 Msun  T = 23952 K  m_ubv_B = 8.74\n",
      "M =  18.749 Msun  T = 30008 K  m_ubv_B = 4.95\n",
      "M =  18.788 Msun  T = 25605 K  m_ubv_B = 4.45\n",
      "M =  18.806 Msun  T = 20118 K  m_ubv_B = 3.79\n",
      "M =  20.402 Msun  T =  6878 K  m_ubv_B = 1.76\n",
      "Starting filter: ubv,V   Elapsed time: 2.47 seconds\n",
      "Starting synthetic photometry\n",
      "M =   0.104 Msun  T =  3516 K  m_ubv_V = 20.54\n",
      "M =   1.571 Msun  T =  9909 K  m_ubv_V = 12.47\n",
      "M =   6.785 Msun  T = 23952 K  m_ubv_V = 8.97\n",
      "M =  18.749 Msun  T = 30008 K  m_ubv_V = 5.22\n",
      "M =  18.788 Msun  T = 25605 K  m_ubv_V = 4.69\n",
      "M =  18.806 Msun  T = 20118 K  m_ubv_V = 4.00\n",
      "M =  20.402 Msun  T =  6878 K  m_ubv_V = 1.59\n",
      "Starting filter: ubv,R   Elapsed time: 3.70 seconds\n",
      "Starting synthetic photometry\n",
      "M =   0.104 Msun  T =  3516 K  m_ubv_R = 19.67\n",
      "M =   1.571 Msun  T =  9909 K  m_ubv_R = 12.47\n",
      "M =   6.785 Msun  T = 23952 K  m_ubv_R = 9.06\n",
      "M =  18.749 Msun  T = 30008 K  m_ubv_R = 5.33\n",
      "M =  18.788 Msun  T = 25605 K  m_ubv_R = 4.78\n",
      "M =  18.806 Msun  T = 20118 K  m_ubv_R = 4.07\n",
      "M =  20.402 Msun  T =  6878 K  m_ubv_R = 1.47\n",
      "Starting filter: ubv,I   Elapsed time: 4.90 seconds\n",
      "Starting synthetic photometry\n",
      "M =   0.104 Msun  T =  3516 K  m_ubv_I = 18.44\n",
      "M =   1.571 Msun  T =  9909 K  m_ubv_I = 12.48\n",
      "M =   6.785 Msun  T = 23952 K  m_ubv_I = 9.27\n",
      "M =  18.749 Msun  T = 30008 K  m_ubv_I = 5.58\n",
      "M =  18.788 Msun  T = 25605 K  m_ubv_I = 5.01\n",
      "M =  18.806 Msun  T = 20118 K  m_ubv_I = 4.25\n",
      "M =  20.402 Msun  T =  6878 K  m_ubv_I = 1.23\n",
      "      Time taken: 6.10 seconds\n"
     ]
    }
   ],
   "source": [
    "iso2=synthetic.IsochronePhot(7.0, 0.0, 1000, math.log10(1 / 10), recomp=True) # New MIST isochrone for same metallicity"
   ]
  },
  {
   "cell_type": "markdown",
   "metadata": {},
   "source": [
    "Looking at the distribution of logg values. for the stars in the MIST isochrone."
   ]
  },
  {
   "cell_type": "code",
   "execution_count": 26,
   "metadata": {},
   "outputs": [
    {
     "data": {
      "text/plain": [
       "4.583447298562488"
      ]
     },
     "execution_count": 26,
     "metadata": {},
     "output_type": "execute_result"
    }
   ],
   "source": [
    "np.max(iso2.points['logg'])"
   ]
  },
  {
   "cell_type": "code",
   "execution_count": 27,
   "metadata": {},
   "outputs": [
    {
     "data": {
      "text/plain": [
       "(array([  0.,   0.,   0.,   0.,   0.,   0.,   0.,   0.,   0.,   0.,  72.,\n",
       "         42.,  93., 208., 247.,   0.,   0.,   0.,   0.,   0.,   0.,   0.,\n",
       "          0.,   0.,   0.,   0.,   0.,   0.,   0.,   0.,   0.,   0.,   0.,\n",
       "          0.,   0.,   0.,   0.,   0.,   0.]),\n",
       " array([-10,  -9,  -8,  -7,  -6,  -5,  -4,  -3,  -2,  -1,   0,   1,   2,\n",
       "          3,   4,   5,   6,   7,   8,   9,  10,  11,  12,  13,  14,  15,\n",
       "         16,  17,  18,  19,  20,  21,  22,  23,  24,  25,  26,  27,  28,\n",
       "         29]),\n",
       " <BarContainer object of 39 artists>)"
      ]
     },
     "execution_count": 27,
     "metadata": {},
     "output_type": "execute_result"
    },
    {
     "data": {
      "image/png": "[encoded data removed]",
      "text/plain": [
       "<Figure size 432x288 with 1 Axes>"
      ]
     },
     "metadata": {
      "needs_background": "light"
     },
     "output_type": "display_data"
    }
   ],
   "source": [
    "import matplotlib.pyplot as plt\n",
    "plt.xlabel(\"logg in cgs\")\n",
    "plt.title(\"Histogram of logg values of stars in the MIST isochrone\")\n",
    "plt.hist(np.array([x for x in iso2.points['logg'] if np.isfinite(x)]), np.arange(-10, 30, 1))"
   ]
  },
  {
   "cell_type": "code",
   "execution_count": 28,
   "metadata": {},
   "outputs": [
    {
     "data": {
      "text/plain": [
       "3.556386609995295"
      ]
     },
     "execution_count": 28,
     "metadata": {},
     "output_type": "execute_result"
    }
   ],
   "source": [
    "np.median(iso2.points['logg'])"
   ]
  },
  {
   "cell_type": "code",
   "execution_count": 29,
   "metadata": {},
   "outputs": [
    {
     "data": {
      "text/plain": [
       "3.2602644297347076"
      ]
     },
     "execution_count": 29,
     "metadata": {},
     "output_type": "execute_result"
    }
   ],
   "source": [
    "np.mean(iso2.points['logg'])"
   ]
  },
  {
   "cell_type": "code",
   "execution_count": 30,
   "metadata": {},
   "outputs": [],
   "source": [
    "from spisea import imf\n",
    "from spisea.imf import imf, multiplicity\n",
    "from spisea import ifmr\n"
   ]
  },
  {
   "cell_type": "markdown",
   "metadata": {},
   "source": [
    "Make the clusters corresponding to the binary star isochrone and the Parsec isochrone. Here I use the MultiplicityResolvedDK to test the ability of my code to match primary-secondary pairs from initial masses and separation."
   ]
  },
  {
   "cell_type": "code",
   "execution_count": 31,
   "metadata": {},
   "outputs": [
    {
     "name": "stderr",
     "output_type": "stream",
     "text": [
      "/u/ryotainagaki/Desktop/PyPopStar/spisea/synthetic.py:752: VisibleDeprecationWarning: Creating an ndarray from ragged nested sequences (which is a list-or-tuple of lists-or-tuples-or ndarrays with different lengths or shapes) is deprecated. If you meant to do this, you must specify 'dtype=object' when creating the ndarray.\n",
      "  compMass = np.array([compMass[x] for x in indices])\n"
     ]
    },
    {
     "name": "stdout",
     "output_type": "stream",
     "text": [
      "Interpolation for: Teff\n",
      "Interpolation for: L\n",
      "Interpolation for: logg\n",
      "Interpolation for: isWR\n",
      "Interpolation for: mass_current\n",
      "Interpolation for: phase\n",
      "Interpolation for: m_ubv_U\n",
      "Interpolation for: m_ubv_V\n",
      "Interpolation for: m_ubv_B\n",
      "Interpolation for: m_ubv_R\n",
      "Interpolation for: m_ubv_I\n"
     ]
    },
    {
     "name": "stderr",
     "output_type": "stream",
     "text": [
      "/opt/anaconda3/envs/astroconda/lib/python3.7/site-packages/astropy/table/table.py:3197: FutureWarning: elementwise == comparison failed and returning scalar instead; this will raise an error or perform elementwise comparison in the future.\n",
      "  result = self.as_array() == other\n"
     ]
    }
   ],
   "source": [
    "clus_1=synthetic.Cluster_w_Binaries(iso1,\n",
    "                                    imf.IMFSalpeter1955(multiplicity=multiplicity.MultiplicityResolvedDK()),\n",
    "                                    20000, ifmr=ifmr.IFMR_Spera15())\n",
    "clus_2=synthetic.ResolvedCluster(iso2,\n",
    "                                 imf.IMFSalpeter1955(multiplicity=multiplicity.MultiplicityResolvedDK()),\n",
    "                                 20000, ifmr=ifmr.IFMR_Spera15())"
   ]
  },
  {
   "cell_type": "markdown",
   "metadata": {},
   "source": [
    "Now let's visualize the isochrone we have created so far with a color magnitude diagram. There we can see the end of main sequence and perhaps the M type"
   ]
  },
  {
   "cell_type": "code",
   "execution_count": 32,
   "metadata": {},
   "outputs": [
    {
     "data": {
      "text/plain": [
       "<matplotlib.legend.Legend at 0x7fec59513b90>"
      ]
     },
     "execution_count": 32,
     "metadata": {},
     "output_type": "execute_result"
    },
    {
     "data": {
      "image/png": "[encoded data removed]",
      "text/plain": [
       "<Figure size 540x540 with 1 Axes>"
      ]
     },
     "metadata": {
      "needs_background": "light"
     },
     "output_type": "display_data"
    }
   ],
   "source": [
    "# Taking a look at the BPASS Cluster vs MIST cluster Observer's HR Diagram\n",
    "# Remember to use a distance modulus!\n",
    "plt.figure(figsize = (7.5, 7.5))\n",
    "plt.plot(iso1.primaries['m_ubv_B'] - iso1.primaries[\"m_ubv_V\"],\n",
    "         iso1.primaries[\"m_ubv_V\"] - 5 * np.log10(1000/10), \"r.\")\n",
    "plt.plot(iso1.secondaries['m_ubv_B']-iso1.secondaries[\"m_ubv_V\"],\n",
    "         iso1.secondaries[\"m_ubv_V\"] - 5 * np.log10(1000/10), \"r.\")\n",
    "plt.plot(iso1.singles['m_ubv_B'] - iso1.singles[\"m_ubv_V\"],\n",
    "         iso1.singles[\"m_ubv_V\"] - 5 * np.log10(1000/10), \"r.\", label=\"BPASS isochrone\")\n",
    "plt.plot(iso2.points['m_ubv_B'] - iso2.points[\"m_ubv_V\"],\n",
    "         iso2.points[\"m_ubv_V\"] - 5 * np.log10(1000/10), \"b+\",\n",
    "         label=\"MIST isochrone\", alpha = 0.2)\n",
    "plt.xlabel(\"B-V\")\n",
    "plt.ylabel(\"M_V\")\n",
    "plt.title(\"Color magnitude Diagram of Isochrones at 0.1Z_solar and 10**7.0 years age\")\n",
    "plt.gca().invert_yaxis()\n",
    "plt.legend()"
   ]
  },
  {
   "cell_type": "markdown",
   "metadata": {},
   "source": [
    "We do have several outliers but otherwise the pattern does not seem too terribly off from the MIST isochrone's shape. Now I look at the primary stars and see if there are any problems caused."
   ]
  },
  {
   "cell_type": "code",
   "execution_count": 33,
   "metadata": {},
   "outputs": [
    {
     "data": {
      "text/plain": [
       "<matplotlib.legend.Legend at 0x7fec59610310>"
      ]
     },
     "execution_count": 33,
     "metadata": {},
     "output_type": "execute_result"
    },
    {
     "data": {
      "image/png": "[encoded data removed]",
      "text/plain": [
       "<Figure size 432x288 with 1 Axes>"
      ]
     },
     "metadata": {
      "needs_background": "light"
     },
     "output_type": "display_data"
    }
   ],
   "source": [
    "# Taking a look at the BPASS Cluster vs MIST cluster Observer's HR Diagram\n",
    "# Remember to use a distance modulus!\n",
    "plt.plot(iso1.primaries['m_ubv_B'] - iso1.primaries[\"m_ubv_V\"],\n",
    "         iso1.primaries[\"m_ubv_V\"] - 5 * np.log10(1000/10), \"r+\", \n",
    "         label=\"BPASS isochrone \\n (primary stars)\", alpha=0.7)\n",
    "plt.xlabel(\"B-V\")\n",
    "plt.ylabel(\"M_V\")\n",
    "plt.title(\"Color magnitude Diagram of Isochrones at 0.1Z_solar\\n\" +\n",
    "          \" and 10**7.0 years age (Primary stars only)\")\n",
    "plt.gca().invert_yaxis()\n",
    "plt.legend()"
   ]
  },
  {
   "cell_type": "code",
   "execution_count": 34,
   "metadata": {},
   "outputs": [
    {
     "data": {
      "text/plain": [
       "<matplotlib.legend.Legend at 0x7fec595c5ed0>"
      ]
     },
     "execution_count": 34,
     "metadata": {},
     "output_type": "execute_result"
    },
    {
     "data": {
      "image/png": "[encoded data removed]",
      "text/plain": [
       "<Figure size 432x288 with 1 Axes>"
      ]
     },
     "metadata": {
      "needs_background": "light"
     },
     "output_type": "display_data"
    }
   ],
   "source": [
    "import matplotlib.pyplot as plt\n",
    "plt.plot(iso1.secondaries['m_ubv_B'] - iso1.secondaries[\"m_ubv_V\"],\n",
    "         iso1.secondaries[\"m_ubv_V\"] - 5 * np.log10(1000/10), \"r+\", \n",
    "         label=\"BPASS isochrone (secondary stars)\", alpha =0.7)\n",
    "plt.xlabel(\"B-V\")\n",
    "plt.ylabel(\"M_V\")\n",
    "plt.title(\"Color magnitude Diagram of BPASS isochrone at 0.1Z_solar\\n\" +\n",
    "          \" and 10**7.0 years age (Secondary stars only)\")\n",
    "plt.gca().invert_yaxis()\n",
    "plt.legend()"
   ]
  },
  {
   "cell_type": "markdown",
   "metadata": {},
   "source": [
    "Let's compare this to a BPASS Cluster(Salpeter IMF, 10^7.0 yr old, 1/10th of solar metallicity)"
   ]
  },
  {
   "cell_type": "markdown",
   "metadata": {},
   "source": [
    "Where are some of the goofy outliers coming from?"
   ]
  },
  {
   "cell_type": "code",
   "execution_count": 35,
   "metadata": {},
   "outputs": [
    {
     "data": {
      "text/html": [
       "<i>Table length=0</i>\n",
       "<table id=\"table140653088858384\" class=\"table-striped table-bordered table-condensed\">\n",
       "<thead><tr><th>mass</th><th>log_a</th><th>L</th><th>Teff</th><th>R</th><th>logg</th><th>isWR</th><th>mass_current</th><th>phase</th><th>merged</th><th>source</th><th>m_ubv_U</th><th>m_ubv_V</th><th>m_ubv_B</th><th>m_ubv_R</th><th>m_ubv_I</th></tr></thead>\n",
       "<thead><tr><th>solMass</th><th></th><th>W</th><th>K</th><th>m</th><th></th><th></th><th>solMass</th><th></th><th></th><th></th><th></th><th></th><th></th><th></th><th></th></tr></thead>\n",
       "<thead><tr><th>float64</th><th>float64</th><th>float64</th><th>float64</th><th>float64</th><th>float64</th><th>bool</th><th>float64</th><th>float64</th><th>bool</th><th>int64</th><th>float64</th><th>float64</th><th>float64</th><th>float64</th><th>float64</th></tr></thead>\n",
       "</table>"
      ],
      "text/plain": [
       "<Table length=0>\n",
       "  mass   log_a     L      Teff     R    ... m_ubv_V m_ubv_B m_ubv_R m_ubv_I\n",
       "solMass            W       K       m    ...                                \n",
       "float64 float64 float64 float64 float64 ... float64 float64 float64 float64\n",
       "------- ------- ------- ------- ------- ... ------- ------- ------- -------"
      ]
     },
     "execution_count": 35,
     "metadata": {},
     "output_type": "execute_result"
    }
   ],
   "source": [
    "iso1.secondaries[np.where(iso1.secondaries[\"m_ubv_V\"] -\n",
    "                          5 * np.log10(1000/10) > 20.0)[0]]"
   ]
  },
  {
   "cell_type": "code",
   "execution_count": 36,
   "metadata": {},
   "outputs": [],
   "source": [
    "issue = iso1.secondaries[np.where(iso1.secondaries[\"m_ubv_V\"] -\n",
    "                                  5 * np.log10(1000/10) > 20.0)[0]]"
   ]
  },
  {
   "cell_type": "code",
   "execution_count": 37,
   "metadata": {},
   "outputs": [
    {
     "data": {
      "text/html": [
       "&lt;Column name=&apos;mass&apos; dtype=&apos;float64&apos; unit=&apos;solMass&apos; length=0&gt;\n",
       "<table>\n",
       "</table>"
      ],
      "text/plain": [
       "<Column name='mass' dtype='float64' unit='solMass' length=0>"
      ]
     },
     "execution_count": 37,
     "metadata": {},
     "output_type": "execute_result"
    }
   ],
   "source": [
    "np.unique(issue['mass'])"
   ]
  },
  {
   "cell_type": "code",
   "execution_count": 38,
   "metadata": {},
   "outputs": [
    {
     "data": {
      "text/html": [
       "&lt;Column name=&apos;phase&apos; dtype=&apos;float64&apos; length=0&gt;\n",
       "<table>\n",
       "</table>"
      ],
      "text/plain": [
       "<Column name='phase' dtype='float64' length=0>"
      ]
     },
     "execution_count": 38,
     "metadata": {},
     "output_type": "execute_result"
    }
   ],
   "source": [
    "np.unique(issue['phase'])"
   ]
  },
  {
   "cell_type": "code",
   "execution_count": 39,
   "metadata": {},
   "outputs": [
    {
     "data": {
      "text/plain": [
       "<matplotlib.legend.Legend at 0x7fec71eb6d50>"
      ]
     },
     "execution_count": 39,
     "metadata": {},
     "output_type": "execute_result"
    },
    {
     "data": {
      "image/png": "[encoded data removed]",
      "text/plain": [
       "<Figure size 432x288 with 1 Axes>"
      ]
     },
     "metadata": {
      "needs_background": "light"
     },
     "output_type": "display_data"
    }
   ],
   "source": [
    "plt.plot(np.log10(iso1.primaries['Teff']), np.log10(iso1.primaries[\"L\"]), \"r.\", alpha =0.3)\n",
    "plt.plot(np.log10(iso1.secondaries['Teff']), np.log10(iso1.secondaries[\"L\"]), \"r.\", alpha =0.3)\n",
    "plt.plot(np.log10(iso1.singles['Teff']), np.log10(iso1.singles[\"L\"]), \"r.\",\n",
    "         label=\"BPASS isochrone\", alpha =0.3)\n",
    "plt.plot(np.log10(iso2.points['Teff']), np.log10(iso2.points[\"L\"]), \"b+\",\n",
    "         label=\"Paresc\", alpha =0.1)\n",
    "plt.xlabel(\"log(T in Kelvin)\")\n",
    "plt.ylabel(\"log(L in Watts)\")\n",
    "plt.title(\"HR Diagram of Isochrones at 0.1Z_solar and 10**7.0 years age\")\n",
    "plt.gca().invert_xaxis()\n",
    "plt.legend()\n",
    "# Rough pattern seems to fit. What's that line?"
   ]
  },
  {
   "cell_type": "markdown",
   "metadata": {},
   "source": [
    "A good sign here is that there are plenty of compact remnant (that means noticable number of stars have gone through their main-sequence and post-main sequence). I also notice stars turning to the red giant branch. This is going to be really important when we decide to use the clusters as reference for finding ages of actual star clusters."
   ]
  },
  {
   "cell_type": "code",
   "execution_count": 40,
   "metadata": {},
   "outputs": [
    {
     "data": {
      "text/plain": [
       "<matplotlib.legend.Legend at 0x7fec5984c910>"
      ]
     },
     "execution_count": 40,
     "metadata": {},
     "output_type": "execute_result"
    },
    {
     "data": {
      "image/png": "[encoded data removed]",
      "text/plain": [
       "<Figure size 540x540 with 1 Axes>"
      ]
     },
     "metadata": {
      "needs_background": "light"
     },
     "output_type": "display_data"
    }
   ],
   "source": [
    "# Plot the mass-luminosity relationship\n",
    "from astropy import constants as cs\n",
    "plt.figure(figsize = (7.5, 7.5))\n",
    "plt.plot(np.log10(iso1.primaries['mass_current']), np.log10(iso1.primaries[\"L\"] / cs.L_sun), \"r.\")\n",
    "plt.plot(np.log10(iso1.secondaries['mass_current']), np.log10(iso1.secondaries[\"L\"] / cs.L_sun), \"r.\")\n",
    "plt.plot(np.log10(iso1.singles['mass_current']), np.log10(iso1.singles[\"L\"] / cs.L_sun),\n",
    "         \"r.\", label=\"BPASS isochrone\")\n",
    "plt.plot(np.log10(iso2.points['mass_current']), np.log10(iso2.points[\"L\"] / cs.L_sun),\n",
    "         \"b+\", label=\"MIST\", alpha =0.2)\n",
    "plt.xlabel(\"log(Current Mass in solar masses)\")\n",
    "plt.ylabel(\"log(L/L_solar)\")\n",
    "plt.title(\"log Mass-logL of Isochrones at 0.1Z_solar and 10**7.0 years age\")\n",
    "plt.legend()\n",
    "# Rough pattern seems to fit. What's that line?"
   ]
  },
  {
   "cell_type": "markdown",
   "metadata": {},
   "source": [
    "Which table is causing that line segment at around log10(L/L_sun)=-2.5?\n",
    "Let's find out.\n",
    "First I take a look at the shape of the primary stars' plot for log current mass log L."
   ]
  },
  {
   "cell_type": "code",
   "execution_count": 41,
   "metadata": {},
   "outputs": [
    {
     "data": {
      "text/plain": [
       "<matplotlib.legend.Legend at 0x7fec71d9df90>"
      ]
     },
     "execution_count": 41,
     "metadata": {},
     "output_type": "execute_result"
    },
    {
     "data": {
      "image/png": "[encoded data removed]",
      "text/plain": [
       "<Figure size 432x288 with 1 Axes>"
      ]
     },
     "metadata": {
      "needs_background": "light"
     },
     "output_type": "display_data"
    }
   ],
   "source": [
    "plt.plot(np.log10(iso1.primaries['mass_current']),\n",
    "         np.log10(iso1.primaries[\"L\"] / cs.L_sun),\n",
    "         \"r.\", label=\"BPASS isochrone (primaries)\")\n",
    "plt.xlabel(\"log(Current Mass in solar masses)\")\n",
    "plt.ylabel(\"log(L/L_solar)\")\n",
    "plt.title(\"log Mass-logL of Isochrones at 0.1Z_solar and 10**7.0 years age\")\n",
    "plt.legend()"
   ]
  },
  {
   "cell_type": "markdown",
   "metadata": {},
   "source": [
    "Which type of secondary star is it that is causing this strange pattern?"
   ]
  },
  {
   "cell_type": "code",
   "execution_count": 42,
   "metadata": {},
   "outputs": [],
   "source": [
    "bad_line = iso1.primaries[np.where((np.log10(iso1.primaries[\"L\"] / cs.L_sun) > -3) &\n",
    "                                   (np.log10(iso1.primaries[\"L\"] / cs.L_sun) < -2))[0]]"
   ]
  },
  {
   "cell_type": "code",
   "execution_count": 43,
   "metadata": {},
   "outputs": [
    {
     "data": {
      "text/html": [
       "<i>Table length=0</i>\n",
       "<table id=\"table140653494610512\" class=\"table-striped table-bordered table-condensed\">\n",
       "<thead><tr><th>mass</th><th>L</th><th>Teff</th><th>R</th><th>logg</th><th>isWR</th><th>mass_current</th><th>phase</th><th>source</th><th>m_ubv_U</th><th>m_ubv_V</th><th>m_ubv_B</th><th>m_ubv_R</th><th>m_ubv_I</th></tr></thead>\n",
       "<thead><tr><th>solMass</th><th>W</th><th>K</th><th>m</th><th></th><th></th><th>solMass</th><th></th><th></th><th></th><th></th><th></th><th></th><th></th></tr></thead>\n",
       "<thead><tr><th>float64</th><th>float64</th><th>float64</th><th>float64</th><th>float64</th><th>bool</th><th>float64</th><th>float64</th><th>int64</th><th>float64</th><th>float64</th><th>float64</th><th>float64</th><th>float64</th></tr></thead>\n",
       "</table>"
      ],
      "text/plain": [
       "<Table length=0>\n",
       "  mass     L      Teff     R      logg  ... m_ubv_V m_ubv_B m_ubv_R m_ubv_I\n",
       "solMass    W       K       m            ...                                \n",
       "float64 float64 float64 float64 float64 ... float64 float64 float64 float64\n",
       "------- ------- ------- ------- ------- ... ------- ------- ------- -------"
      ]
     },
     "execution_count": 43,
     "metadata": {},
     "output_type": "execute_result"
    }
   ],
   "source": [
    "bad_line"
   ]
  },
  {
   "cell_type": "markdown",
   "metadata": {},
   "source": [
    "What sorts of characteristics (logg, Teff, L) can be causing it? Let's find out"
   ]
  },
  {
   "cell_type": "code",
   "execution_count": 44,
   "metadata": {},
   "outputs": [
    {
     "data": {
      "text/html": [
       "&lt;Column name=&apos;L&apos; dtype=&apos;float64&apos; unit=&apos;W&apos; length=0&gt;\n",
       "<table>\n",
       "</table>"
      ],
      "text/plain": [
       "<Column name='L' dtype='float64' unit='W' length=0>"
      ]
     },
     "execution_count": 44,
     "metadata": {},
     "output_type": "execute_result"
    }
   ],
   "source": [
    "np.unique(bad_line['L'])"
   ]
  },
  {
   "cell_type": "code",
   "execution_count": 45,
   "metadata": {},
   "outputs": [
    {
     "data": {
      "text/html": [
       "&lt;Column name=&apos;Teff&apos; dtype=&apos;float64&apos; unit=&apos;K&apos; length=0&gt;\n",
       "<table>\n",
       "</table>"
      ],
      "text/plain": [
       "<Column name='Teff' dtype='float64' unit='K' length=0>"
      ]
     },
     "execution_count": 45,
     "metadata": {},
     "output_type": "execute_result"
    }
   ],
   "source": [
    "np.unique(bad_line['Teff'])"
   ]
  },
  {
   "cell_type": "code",
   "execution_count": 46,
   "metadata": {},
   "outputs": [
    {
     "data": {
      "text/html": [
       "&lt;Column name=&apos;logg&apos; dtype=&apos;float64&apos; unit=&apos;&apos; length=0&gt;\n",
       "<table>\n",
       "</table>"
      ],
      "text/plain": [
       "<Column name='logg' dtype='float64' unit='' length=0>"
      ]
     },
     "execution_count": 46,
     "metadata": {},
     "output_type": "execute_result"
    }
   ],
   "source": [
    "np.unique(bad_line['logg'])"
   ]
  },
  {
   "cell_type": "code",
   "execution_count": 47,
   "metadata": {},
   "outputs": [
    {
     "data": {
      "text/html": [
       "&lt;Column name=&apos;mass&apos; dtype=&apos;float64&apos; unit=&apos;solMass&apos; length=0&gt;\n",
       "<table>\n",
       "</table>"
      ],
      "text/plain": [
       "<Column name='mass' dtype='float64' unit='solMass' length=0>"
      ]
     },
     "execution_count": 47,
     "metadata": {},
     "output_type": "execute_result"
    }
   ],
   "source": [
    "np.unique(bad_line['mass'])"
   ]
  },
  {
   "cell_type": "code",
   "execution_count": 48,
   "metadata": {},
   "outputs": [
    {
     "data": {
      "text/html": [
       "&lt;Column name=&apos;phase&apos; dtype=&apos;float64&apos; length=0&gt;\n",
       "<table>\n",
       "</table>"
      ],
      "text/plain": [
       "<Column name='phase' dtype='float64' length=0>"
      ]
     },
     "execution_count": 48,
     "metadata": {},
     "output_type": "execute_result"
    }
   ],
   "source": [
    "np.unique(bad_line['phase'])"
   ]
  },
  {
   "cell_type": "markdown",
   "metadata": {},
   "source": [
    "**It turns out that the line was caused by some compact remnants.**"
   ]
  },
  {
   "cell_type": "code",
   "execution_count": 49,
   "metadata": {},
   "outputs": [
    {
     "name": "stderr",
     "output_type": "stream",
     "text": [
      "/opt/anaconda3/envs/astroconda/lib/python3.7/site-packages/ipykernel_launcher.py:7: RuntimeWarning: divide by zero encountered in log10\n",
      "  import sys\n",
      "/opt/anaconda3/envs/astroconda/lib/python3.7/site-packages/ipykernel_launcher.py:9: RuntimeWarning: divide by zero encountered in log10\n",
      "  if __name__ == '__main__':\n"
     ]
    },
    {
     "data": {
      "text/plain": [
       "<matplotlib.legend.Legend at 0x7fec59dafd90>"
      ]
     },
     "execution_count": 49,
     "metadata": {},
     "output_type": "execute_result"
    },
    {
     "data": {
      "image/png": "[encoded data removed]",
      "text/plain": [
       "<Figure size 540x540 with 1 Axes>"
      ]
     },
     "metadata": {
      "needs_background": "light"
     },
     "output_type": "display_data"
    }
   ],
   "source": [
    "# Plot the mass-luminosity relationship\n",
    "plt.figure(figsize = (7.5, 7.5))\n",
    "plt.plot((clus_2.star_systems['mass_current']), np.log10(clus_2.star_systems[\"L\"]),\n",
    "         \"b.\", alpha =0.1)\n",
    "plt.plot((clus_2.companions['mass_current']), np.log10(clus_2.companions[\"L\"]),\n",
    "         \"b.\", label=\"Cluster made from MIST\", alpha = 0.1)\n",
    "plt.plot((clus_1.star_systems['mass_current']), np.log10(clus_1.star_systems[\"L\"]),\n",
    "         \"r.\", label=\"Cluster_w_Binaries made from BPASS\", alpha =0.3)\n",
    "plt.plot((clus_1.companions['mass_current']), np.log10(clus_1.companions[\"L\"]),\n",
    "         \"r.\", alpha = 0.3)\n",
    "plt.xlabel(\"Current Mass in solar masses\")\n",
    "plt.ylabel(\"log(L in Watts)\")\n",
    "plt.title(\"Mass-logL of Cluster at 0.1Z_solar and 10**7.0 years age\")\n",
    "plt.legend()\n",
    "# Rough pattern seems to fit. What's that line?"
   ]
  },
  {
   "cell_type": "markdown",
   "metadata": {},
   "source": [
    "OK. It makes sense that our compact remnants are causing this. (Remember, there really is no significant fusion in the insides of neutron stars or white dwarves."
   ]
  },
  {
   "cell_type": "code",
   "execution_count": 50,
   "metadata": {},
   "outputs": [
    {
     "name": "stderr",
     "output_type": "stream",
     "text": [
      "/opt/anaconda3/envs/astroconda/lib/python3.7/site-packages/ipykernel_launcher.py:2: RuntimeWarning: divide by zero encountered in log10\n",
      "  \n"
     ]
    },
    {
     "data": {
      "text/plain": [
       "<matplotlib.legend.Legend at 0x7fec65a80f50>"
      ]
     },
     "execution_count": 50,
     "metadata": {},
     "output_type": "execute_result"
    },
    {
     "data": {
      "image/png": "[encoded data removed]",
      "text/plain": [
       "<Figure size 432x288 with 1 Axes>"
      ]
     },
     "metadata": {
      "needs_background": "light"
     },
     "output_type": "display_data"
    }
   ],
   "source": [
    "# Plot the mass-luminosity relationship\n",
    "plt.plot(clus_1.star_systems['mass_current'], np.log10(clus_1.star_systems[\"L\"]), \"r.\",\n",
    "         label=\"Cluster_w_Binaries made from BPASS (Star Systems)\", alpha =1)\n",
    "plt.xlabel(\"log Current Mass in solar masses\")\n",
    "plt.ylabel(\"log(L/L_solar)\")\n",
    "plt.title(\"log-Mass-logL of Cluster at 0.1Z_solar and 10**7.0 years age\")\n",
    "plt.legend()\n",
    "# Rough pattern seems to fit. What's that line?"
   ]
  },
  {
   "cell_type": "code",
   "execution_count": 51,
   "metadata": {},
   "outputs": [
    {
     "name": "stderr",
     "output_type": "stream",
     "text": [
      "/opt/anaconda3/envs/astroconda/lib/python3.7/site-packages/ipykernel_launcher.py:2: RuntimeWarning: divide by zero encountered in log10\n",
      "  \n"
     ]
    },
    {
     "data": {
      "text/plain": [
       "<matplotlib.legend.Legend at 0x7fec59efc310>"
      ]
     },
     "execution_count": 51,
     "metadata": {},
     "output_type": "execute_result"
    },
    {
     "data": {
      "image/png": "[encoded data removed]",
      "text/plain": [
       "<Figure size 432x288 with 1 Axes>"
      ]
     },
     "metadata": {
      "needs_background": "light"
     },
     "output_type": "display_data"
    }
   ],
   "source": [
    "# Plot the mass-luminosity relationship\n",
    "plt.plot(clus_1.companions['mass_current'], np.log10(clus_1.companions[\"L\"]), \"r.\",\n",
    "         label=\"Cluster_w_Binaries made from BPASS (Companions)\", alpha =1)\n",
    "plt.xlabel(\"log Current Mass in solar masses\")\n",
    "plt.ylabel(\"log(L/L_solar)\")\n",
    "plt.title(\"log-Mass-logL of Cluster at 0.1Z_solar and 10**7.0 years age\")\n",
    "plt.legend()\n",
    "# Rough pattern seems to fit. What's that line?"
   ]
  },
  {
   "cell_type": "markdown",
   "metadata": {},
   "source": [
    "Now go back to the shape of the clusters' Color magnitude diagrams."
   ]
  },
  {
   "cell_type": "code",
   "execution_count": 52,
   "metadata": {},
   "outputs": [
    {
     "data": {
      "text/html": [
       "&lt;Column name=&apos;log_a&apos; dtype=&apos;float64&apos; length=2747&gt;\n",
       "<table>\n",
       "<tr><td>-4.457363307884174</td></tr>\n",
       "<tr><td>-3.6354500421689684</td></tr>\n",
       "<tr><td>-3.0591338405208166</td></tr>\n",
       "<tr><td>-3.014865571332119</td></tr>\n",
       "<tr><td>-2.8351638878736014</td></tr>\n",
       "<tr><td>-2.7489871788533122</td></tr>\n",
       "<tr><td>-2.606327770981624</td></tr>\n",
       "<tr><td>-2.5438488523567244</td></tr>\n",
       "<tr><td>-2.5314240795812006</td></tr>\n",
       "<tr><td>-2.4447761865168887</td></tr>\n",
       "<tr><td>-2.4148834007425357</td></tr>\n",
       "<tr><td>-2.395671398370469</td></tr>\n",
       "<tr><td>...</td></tr>\n",
       "<tr><td>3.2696330970690726</td></tr>\n",
       "<tr><td>3.2708770978851383</td></tr>\n",
       "<tr><td>3.2719084980783864</td></tr>\n",
       "<tr><td>3.278094804707405</td></tr>\n",
       "<tr><td>3.2784227589916783</td></tr>\n",
       "<tr><td>3.2865083170915863</td></tr>\n",
       "<tr><td>3.2881302738273</td></tr>\n",
       "<tr><td>3.295119022660347</td></tr>\n",
       "<tr><td>3.2970236572180567</td></tr>\n",
       "<tr><td>3.2972028613926456</td></tr>\n",
       "<tr><td>3.2986030790668703</td></tr>\n",
       "<tr><td>3.2987114635385684</td></tr>\n",
       "</table>"
      ],
      "text/plain": [
       "<Column name='log_a' dtype='float64' length=2747>\n",
       " -4.457363307884174\n",
       "-3.6354500421689684\n",
       "-3.0591338405208166\n",
       " -3.014865571332119\n",
       "-2.8351638878736014\n",
       "-2.7489871788533122\n",
       " -2.606327770981624\n",
       "-2.5438488523567244\n",
       "-2.5314240795812006\n",
       "-2.4447761865168887\n",
       "-2.4148834007425357\n",
       " -2.395671398370469\n",
       "                ...\n",
       " 3.2696330970690726\n",
       " 3.2708770978851383\n",
       " 3.2719084980783864\n",
       "  3.278094804707405\n",
       " 3.2784227589916783\n",
       " 3.2865083170915863\n",
       "    3.2881302738273\n",
       "  3.295119022660347\n",
       " 3.2970236572180567\n",
       " 3.2972028613926456\n",
       " 3.2986030790668703\n",
       " 3.2987114635385684"
      ]
     },
     "execution_count": 52,
     "metadata": {},
     "output_type": "execute_result"
    }
   ],
   "source": [
    "np.unique(clus_1.companions['log_a'])"
   ]
  },
  {
   "cell_type": "markdown",
   "metadata": {},
   "source": [
    "Taking a look at the BPASS Cluster vs MIST cluster Observer's HR Diagram"
   ]
  },
  {
   "cell_type": "code",
   "execution_count": 53,
   "metadata": {},
   "outputs": [
    {
     "data": {
      "text/plain": [
       "<matplotlib.legend.Legend at 0x7fec59f61a90>"
      ]
     },
     "execution_count": 53,
     "metadata": {},
     "output_type": "execute_result"
    },
    {
     "data": {
      "image/png": "[encoded data removed]",
      "text/plain": [
       "<Figure size 432x288 with 1 Axes>"
      ]
     },
     "metadata": {
      "needs_background": "light"
     },
     "output_type": "display_data"
    }
   ],
   "source": [
    "# Remember to use a distance modulus!\n",
    "plt.plot(clus_1.star_systems['m_ubv_B'] - clus_1.star_systems[\"m_ubv_V\"],\n",
    "         clus_1.star_systems[\"m_ubv_V\"] - 5 * np.log10(1000/10), \"r.\",\n",
    "         label=\"BPASS\", alpha =0.3)\n",
    "plt.plot(clus_2.star_systems['m_ubv_B'] - clus_2.star_systems[\"m_ubv_V\"],\n",
    "         clus_2.star_systems[\"m_ubv_V\"] - 5 * np.log10(1000/10), \"b+\",\n",
    "         label=\"MIST\", alpha=0.1)\n",
    "plt.xlabel(\"B-V\")\n",
    "plt.ylabel(\"M_V\")\n",
    "plt.title(\"Color magnitude Diagram of clusters at 0.1Z_solar \\n\" +\n",
    "          \" and 10**7.0 years age\")\n",
    "plt.gca().invert_yaxis()\n",
    "plt.legend()"
   ]
  },
  {
   "cell_type": "code",
   "execution_count": 54,
   "metadata": {},
   "outputs": [
    {
     "name": "stderr",
     "output_type": "stream",
     "text": [
      "/opt/anaconda3/envs/astroconda/lib/python3.7/site-packages/ipykernel_launcher.py:6: RuntimeWarning: divide by zero encountered in log10\n",
      "  \n",
      "/opt/anaconda3/envs/astroconda/lib/python3.7/site-packages/ipykernel_launcher.py:8: RuntimeWarning: divide by zero encountered in log10\n",
      "  \n"
     ]
    },
    {
     "data": {
      "text/plain": [
       "<matplotlib.legend.Legend at 0x7fec5a137e10>"
      ]
     },
     "execution_count": 54,
     "metadata": {},
     "output_type": "execute_result"
    },
    {
     "data": {
      "image/png": "[encoded data removed]",
      "text/plain": [
       "<Figure size 540x540 with 1 Axes>"
      ]
     },
     "metadata": {
      "needs_background": "light"
     },
     "output_type": "display_data"
    }
   ],
   "source": [
    "plt.figure(figsize = (7.5, 7.5))\n",
    "plt.plot(np.log10(clus_2.star_systems['Teff']), np.log10(clus_2.star_systems[\"L\"]),\n",
    "         \"b+\", label=\"MIST\", alpha=0.15)\n",
    "plt.plot(np.log10(clus_2.companions['Teff']), np.log10(clus_2.companions[\"L\"]),\n",
    "         \"b+\", alpha=0.15)\n",
    "plt.plot(np.log10(clus_1.star_systems['Teff']), np.log10(clus_1.star_systems[\"L\"]),\n",
    "         \"r.\", alpha=0.5)\n",
    "plt.plot(np.log10(clus_1.companions['Teff']), np.log10(clus_1.companions[\"L\"]),\n",
    "         \"r.\",label=\"BPASS Cluster\", alpha=0.5)\n",
    "plt.xlabel(\"log($T_{eff}$ in kelvin)\")\n",
    "plt.ylabel(\"log(L in watts)\")\n",
    "plt.title(\"HR Diagram of clusters at 0.1Z_solar and 10**7.0 years age\")\n",
    "plt.gca().invert_xaxis()\n",
    "plt.legend()"
   ]
  },
  {
   "cell_type": "markdown",
   "metadata": {},
   "source": [
    "Looking at which star system's primary/single stars are the white dwarves?"
   ]
  },
  {
   "cell_type": "code",
   "execution_count": 55,
   "metadata": {},
   "outputs": [
    {
     "data": {
      "text/plain": [
       "array([   0,    1,    2, ..., 2743, 2744, 2746])"
      ]
     },
     "execution_count": 55,
     "metadata": {},
     "output_type": "execute_result"
    }
   ],
   "source": [
    "import numpy as np\n",
    "np.where(clus_1.star_systems['phase'] == 101.0)[0]"
   ]
  },
  {
   "cell_type": "markdown",
   "metadata": {},
   "source": [
    "Black Holes?"
   ]
  },
  {
   "cell_type": "code",
   "execution_count": 56,
   "metadata": {},
   "outputs": [
    {
     "data": {
      "text/plain": [
       "array([], dtype=int64)"
      ]
     },
     "execution_count": 56,
     "metadata": {},
     "output_type": "execute_result"
    }
   ],
   "source": [
    "np.where(clus_1.star_systems['phase'] == 103.0)[0]"
   ]
  },
  {
   "cell_type": "markdown",
   "metadata": {},
   "source": [
    "Neutron Stars?"
   ]
  },
  {
   "cell_type": "code",
   "execution_count": 57,
   "metadata": {},
   "outputs": [
    {
     "data": {
      "text/plain": [
       "array([], dtype=int64)"
      ]
     },
     "execution_count": 57,
     "metadata": {},
     "output_type": "execute_result"
    }
   ],
   "source": [
    "np.where(clus_1.star_systems['phase'] == 102.0)[0]"
   ]
  },
  {
   "cell_type": "markdown",
   "metadata": {},
   "source": [
    "Total mass of the cluster?"
   ]
  },
  {
   "cell_type": "code",
   "execution_count": 58,
   "metadata": {},
   "outputs": [
    {
     "data": {
      "text/plain": [
       "19818.969858949902"
      ]
     },
     "execution_count": 58,
     "metadata": {},
     "output_type": "execute_result"
    }
   ],
   "source": [
    "clus_1.star_systems['systemMass'].sum()"
   ]
  },
  {
   "cell_type": "code",
   "execution_count": 59,
   "metadata": {},
   "outputs": [
    {
     "data": {
      "text/html": [
       "&lt;Column name=&apos;phase&apos; dtype=&apos;float64&apos; length=3&gt;\n",
       "<table>\n",
       "<tr><td>-99.0</td></tr>\n",
       "<tr><td>5.0</td></tr>\n",
       "<tr><td>101.0</td></tr>\n",
       "</table>"
      ],
      "text/plain": [
       "<Column name='phase' dtype='float64' length=3>\n",
       "-99.0\n",
       "  5.0\n",
       "101.0"
      ]
     },
     "execution_count": 59,
     "metadata": {},
     "output_type": "execute_result"
    }
   ],
   "source": [
    "np.unique(clus_1.star_systems['phase'])"
   ]
  }
 ],
 "metadata": {
  "kernelspec": {
   "display_name": "astroconda",
   "language": "python",
   "name": "astroconda"
  },
  "language_info": {
   "codemirror_mode": {
    "name": "ipython",
    "version": 3
   },
   "file_extension": ".py",
   "mimetype": "text/x-python",
   "name": "python",
   "nbconvert_exporter": "python",
   "pygments_lexer": "ipython3",
   "version": "3.7.10"
  }
 },
 "nbformat": 4,
 "nbformat_minor": 4
}
