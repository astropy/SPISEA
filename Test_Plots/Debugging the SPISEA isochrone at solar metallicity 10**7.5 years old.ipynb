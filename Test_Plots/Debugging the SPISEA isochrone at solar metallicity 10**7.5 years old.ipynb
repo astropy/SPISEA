{
 "cells": [
  {
   "cell_type": "markdown",
   "metadata": {},
   "source": [
    "## Trying Out the BPASS isochrone at 10^7.5 years age.\n",
    "In this BPASS isochrone and cluster plot, I go over the BPASS isochrone for 10^7.5 years age, solar metallicity, AKs=0.0, and distance of 1000 parsecs from Earth. From the isochrone and cluster, we discuss several plots such as the log_g frequency distribution of the isochrone, the color magnitude diagram (B-V vs M_V), and the mass luminosity relationshi of the cluster.\n",
    "These were made using the reformatted synthetic.py and evolution.py\n",
    "**Note: I chose to use the distance to cluster = 1000 as it makes tracing back values easier (recall what log_10 from the distance modulus is)**"
   ]
  },
  {
   "cell_type": "code",
   "execution_count": 1,
   "metadata": {},
   "outputs": [
    {
     "name": "stderr",
     "output_type": "stream",
     "text": [
      "/opt/anaconda3/envs/astroconda/lib/python3.7/site-packages/pysynphot/locations.py:346: UserWarning: Extinction files not found in /g/lu/models/cdbs/extinction\n",
      "  warnings.warn('Extinction files not found in %s' % (extdir, ))\n",
      "/opt/anaconda3/envs/astroconda/lib/python3.7/site-packages/pysynphot/refs.py:125: UserWarning: No thermal tables found, no thermal calculations can be performed. No files found for /g/lu/models/cdbs/mtab/*_tmt.fits\n",
      "  'no thermal calculations can be performed. ' + str(e))\n",
      "/opt/anaconda3/envs/astroconda/lib/python3.7/site-packages/astropy/units/quantity.py:477: RuntimeWarning: invalid value encountered in true_divide\n",
      "  result = super().__array_ufunc__(function, method, *arrays, **kwargs)\n",
      "/u/ryotainagaki/Desktop/PyPopStar/spisea/evolution.py:1771: RuntimeWarning: overflow encountered in power\n",
      "  (1 / cs.au) * un.m)\n",
      "/opt/anaconda3/envs/astroconda/lib/python3.7/site-packages/astropy/table/column.py:1020: RuntimeWarning: invalid value encountered in greater\n",
      "  result = getattr(super(), op)(other)\n",
      "/opt/anaconda3/envs/astroconda/lib/python3.7/site-packages/astropy/table/column.py:1020: RuntimeWarning: invalid value encountered in less_equal\n",
      "  result = getattr(super(), op)(other)\n",
      "/opt/anaconda3/envs/astroconda/lib/python3.7/site-packages/astropy/units/quantity.py:477: RuntimeWarning: divide by zero encountered in true_divide\n",
      "  result = super().__array_ufunc__(function, method, *arrays, **kwargs)\n"
     ]
    },
    {
     "name": "stdout",
     "output_type": "stream",
     "text": [
      "Changing to logg=2.50 for T= 12017 logg=1.87\n",
      "Changing to T= 50000 for T= 61438 logg=5.38\n",
      "Changing to logg=5.00 for T= 61438 logg=5.38\n",
      "Changing to T= 50000 for T= 60160 logg=5.30\n",
      "Changing to logg=5.00 for T= 60160 logg=5.30\n",
      "Changing to T= 50000 for T= 60629 logg=5.28\n",
      "Changing to logg=5.00 for T= 60629 logg=5.28\n",
      "Changing to logg=2.00 for T= 11105 logg=1.78\n",
      "Changing to T= 50000 for T= 61224 logg=5.29\n",
      "Changing to logg=5.00 for T= 61224 logg=5.29\n",
      "Changing to logg=2.00 for T= 11368 logg=1.41\n",
      "Changing to T= 50000 for T= 61049 logg=5.32\n",
      "Changing to logg=5.00 for T= 61049 logg=5.32\n",
      "Changing to T= 50000 for T= 58591 logg=5.42\n",
      "Changing to logg=5.00 for T= 58591 logg=5.42\n",
      "Changing to logg=4.00 for T= 36549 logg=3.05\n",
      "Changing to logg=2.50 for T= 14006 logg=1.78\n",
      "Changing to logg=3.00 for T= 19510 logg=1.99\n",
      "Changing to T= 50000 for T= 82507 logg=4.66\n",
      "Changing to logg=5.00 for T= 82507 logg=4.66\n",
      "Changing to T= 50000 for T= 59676 logg=5.31\n",
      "Changing to logg=5.00 for T= 59676 logg=5.31\n",
      "Changing to logg=2.50 for T= 14493 logg=1.90\n",
      "Changing to T= 50000 for T= 61616 logg=5.42\n",
      "Changing to logg=5.00 for T= 61616 logg=5.42\n",
      "Changing to T= 50000 for T= 57778 logg=5.43\n",
      "Changing to logg=5.00 for T= 57778 logg=5.43\n",
      "Changing to T= 50000 for T= 59992 logg=5.31\n",
      "Changing to logg=5.00 for T= 59992 logg=5.31\n",
      "Changing to logg=2.00 for T= 11554 logg=1.44\n",
      "Changing to T= 50000 for T= 61777 logg=5.40\n",
      "Changing to logg=5.00 for T= 61777 logg=5.40\n",
      "Changing to logg=2.00 for T= 11034 logg=1.76\n",
      "Changing to T= 50000 for T= 60088 logg=5.24\n",
      "Changing to logg=5.00 for T= 60088 logg=5.24\n",
      "Changing to logg=2.50 for T= 15907 logg=1.69\n",
      "Changing to logg=3.00 for T= 24435 logg=2.39\n",
      "Changing to T= 50000 for T= 57241 logg=5.42\n",
      "Changing to logg=5.00 for T= 57241 logg=5.42\n",
      "Changing to logg=2.50 for T= 16759 logg=2.08\n",
      "Changing to T= 50000 for T= 61015 logg=5.34\n",
      "Changing to logg=5.00 for T= 61015 logg=5.34\n",
      "Changing to logg=2.00 for T= 10981 logg=1.29\n",
      "Changing to T= 50000 for T= 52034 logg=5.36\n",
      "Changing to logg=5.00 for T= 52034 logg=5.36\n",
      "Changing to T= 50000 for T= 56377 logg=5.48\n",
      "Changing to logg=5.00 for T= 56377 logg=5.48\n",
      "Changing to logg=2.50 for T= 12895 logg=1.99\n",
      "Changing to logg=2.00 for T=  9495 logg=1.07\n",
      "Changing to logg=2.50 for T= 13175 logg=1.66\n",
      "Changing to logg=2.00 for T=  9842 logg=1.16\n",
      "Changing to logg=2.50 for T= 11984 logg=1.86\n",
      "Changing to logg=2.50 for T= 12028 logg=2.04\n",
      "Changing to logg=2.50 for T= 15326 logg=2.36\n",
      "Changing to logg=2.50 for T= 12088 logg=1.52\n",
      "Changing to T= 50000 for T= 59989 logg=5.34\n",
      "Changing to logg=5.00 for T= 59989 logg=5.34\n",
      "Changing to logg=1.50 for T=  8326 logg=0.80\n",
      "Changing to logg=2.00 for T= 10518 logg=1.30\n",
      "Changing to logg=2.00 for T= 10693 logg=1.29\n",
      "Changing to logg=1.50 for T=  8979 logg=0.94\n",
      "Changing to logg=2.50 for T= 18491 logg=2.25\n",
      "Changing to T= 50000 for T= 60619 logg=5.26\n",
      "Changing to logg=5.00 for T= 60619 logg=5.26\n",
      "Changing to logg=4.00 for T= 36268 logg=3.43\n",
      "Changing to T= 50000 for T= 62349 logg=5.34\n",
      "Changing to logg=5.00 for T= 62349 logg=5.34\n",
      "Changing to logg=3.00 for T= 22105 logg=2.47\n",
      "Changing to T= 50000 for T= 61046 logg=5.35\n",
      "Changing to logg=5.00 for T= 61046 logg=5.35\n",
      "Changing to T= 50000 for T= 50619 logg=5.46\n",
      "Changing to logg=5.00 for T= 50619 logg=5.46\n",
      "Changing to T= 50000 for T= 60405 logg=5.31\n",
      "Changing to logg=5.00 for T= 60405 logg=5.31\n",
      "Changing to T= 50000 for T= 56034 logg=5.46\n",
      "Changing to logg=5.00 for T= 56034 logg=5.46\n",
      "Changing to T= 50000 for T= 60225 logg=5.33\n",
      "Changing to logg=5.00 for T= 60225 logg=5.33\n",
      "Changing to logg=4.00 for T= 36512 logg=3.01\n",
      "Changing to logg=2.50 for T= 17310 logg=2.14\n",
      "Changing to logg=3.00 for T= 19896 logg=2.47\n",
      "Changing to logg=3.00 for T= 22149 logg=2.67\n",
      "Changing to T= 50000 for T= 61451 logg=5.36\n",
      "Changing to logg=5.00 for T= 61451 logg=5.36\n",
      "Changing to T= 50000 for T= 60756 logg=5.30\n",
      "Changing to logg=5.00 for T= 60756 logg=5.30\n",
      "Changing to T= 50000 for T= 61523 logg=5.34\n",
      "Changing to logg=5.00 for T= 61523 logg=5.34\n",
      "Changing to T= 50000 for T= 60086 logg=5.33\n",
      "Changing to logg=5.00 for T= 60086 logg=5.33\n",
      "Changing to T= 50000 for T= 54069 logg=4.01\n",
      "Changing to logg=5.00 for T= 54069 logg=4.01\n",
      "Changing to T= 50000 for T= 61245 logg=5.34\n",
      "Changing to logg=5.00 for T= 61245 logg=5.34\n",
      "Changing to T= 50000 for T= 61650 logg=5.37\n",
      "Changing to logg=5.00 for T= 61650 logg=5.37\n",
      "Changing to T= 50000 for T= 61429 logg=5.46\n",
      "Changing to logg=5.00 for T= 61429 logg=5.46\n",
      "Changing to T= 50000 for T= 55161 logg=5.34\n",
      "Changing to logg=5.00 for T= 55161 logg=5.34\n",
      "Changing to T= 50000 for T= 65634 logg=5.40\n",
      "Changing to logg=5.00 for T= 65634 logg=5.40\n",
      "Changing to T= 50000 for T= 61359 logg=5.38\n",
      "Changing to logg=5.00 for T= 61359 logg=5.38\n",
      "Changing to T= 50000 for T= 58346 logg=5.42\n",
      "Changing to logg=5.00 for T= 58346 logg=5.42\n",
      "Changing to T= 50000 for T= 60108 logg=5.26\n",
      "Changing to logg=5.00 for T= 60108 logg=5.26\n",
      "Changing to T= 50000 for T= 60187 logg=5.34\n",
      "Changing to logg=5.00 for T= 60187 logg=5.34\n",
      "Changing to logg=2.00 for T=  9585 logg=1.09\n",
      "Changing to T= 50000 for T= 58549 logg=5.38\n",
      "Changing to logg=5.00 for T= 58549 logg=5.38\n",
      "Changing to T= 50000 for T= 60760 logg=5.31\n",
      "Changing to logg=5.00 for T= 60760 logg=5.31\n",
      "Changing to logg=2.50 for T= 15289 logg=1.92\n",
      "Changing to T= 50000 for T= 61419 logg=5.46\n",
      "Changing to logg=5.00 for T= 61419 logg=5.46\n",
      "Changing to logg=3.00 for T= 19263 logg=1.93\n",
      "Changing to T= 50000 for T= 60902 logg=5.32\n",
      "Changing to logg=5.00 for T= 60902 logg=5.32\n",
      "Changing to logg=2.50 for T= 13826 logg=2.26\n",
      "Changing to T= 50000 for T= 61284 logg=5.50\n",
      "Changing to logg=5.00 for T= 61284 logg=5.50\n",
      "Changing to T= 50000 for T= 60420 logg=5.28\n",
      "Changing to logg=5.00 for T= 60420 logg=5.28\n",
      "Changing to T= 50000 for T= 61417 logg=5.35\n",
      "Changing to logg=5.00 for T= 61417 logg=5.35\n",
      "Changing to T= 50000 for T= 61590 logg=5.33\n",
      "Changing to logg=5.00 for T= 61590 logg=5.33\n",
      "Changing to logg=2.50 for T= 12241 logg=1.47\n",
      "Changing to T= 50000 for T= 61512 logg=5.43\n",
      "Changing to logg=5.00 for T= 61512 logg=5.43\n",
      "Changing to T= 50000 for T= 61234 logg=5.33\n",
      "Changing to logg=5.00 for T= 61234 logg=5.33\n",
      "Changing to T= 50000 for T= 61021 logg=5.31\n",
      "Changing to logg=5.00 for T= 61021 logg=5.31\n",
      "Changing to logg=2.00 for T= 11349 logg=1.31\n",
      "Changing to logg=2.50 for T= 12516 logg=1.58\n",
      "Changing to T= 50000 for T= 60568 logg=5.29\n",
      "Changing to logg=5.00 for T= 60568 logg=5.29\n",
      "Changing to T= 50000 for T= 60772 logg=5.29\n",
      "Changing to logg=5.00 for T= 60772 logg=5.29\n",
      "Changing to T= 50000 for T= 60260 logg=5.27\n",
      "Changing to logg=5.00 for T= 60260 logg=5.27\n",
      "Changing to T= 50000 for T= 60474 logg=5.26\n",
      "Changing to logg=5.00 for T= 60474 logg=5.26\n",
      "Changing to logg=3.00 for T= 21857 logg=2.65\n",
      "Changing to logg=2.50 for T= 12412 logg=2.06\n",
      "Changing to T= 50000 for T= 59939 logg=5.31\n",
      "Changing to logg=5.00 for T= 59939 logg=5.31\n",
      "Changing to T= 50000 for T= 60791 logg=5.29\n",
      "Changing to logg=5.00 for T= 60791 logg=5.29\n",
      "Changing to T= 50000 for T= 60863 logg=5.27\n",
      "Changing to logg=5.00 for T= 60863 logg=5.27\n",
      "Changing to T= 50000 for T= 61694 logg=5.34\n",
      "Changing to logg=5.00 for T= 61694 logg=5.34\n",
      "Changing to T= 50000 for T= 60806 logg=5.32\n",
      "Changing to logg=5.00 for T= 60806 logg=5.32\n",
      "Changing to T= 50000 for T= 60517 logg=5.30\n",
      "Changing to logg=5.00 for T= 60517 logg=5.30\n",
      "Changing to T= 50000 for T= 60842 logg=5.33\n",
      "Changing to logg=5.00 for T= 60842 logg=5.33\n",
      "Changing to T= 50000 for T= 61110 logg=5.29\n",
      "Changing to logg=5.00 for T= 61110 logg=5.29\n",
      "Changing to logg=4.00 for T= 38114 logg=3.11\n",
      "Changing to T= 50000 for T= 61232 logg=5.34\n",
      "Changing to logg=5.00 for T= 61232 logg=5.34\n",
      "Changing to logg=2.50 for T= 17684 logg=2.10\n",
      "Changing to T= 50000 for T= 61378 logg=5.34\n",
      "Changing to logg=5.00 for T= 61378 logg=5.34\n",
      "Changing to T= 50000 for T= 61549 logg=5.34\n",
      "Changing to logg=5.00 for T= 61549 logg=5.34\n",
      "Changing to logg=4.00 for T= 31955 logg=3.22\n",
      "Changing to logg=2.50 for T= 12097 logg=1.53\n",
      "Changing to T= 50000 for T= 60903 logg=5.32\n",
      "Changing to logg=5.00 for T= 60903 logg=5.32\n",
      "Changing to logg=2.00 for T= 10271 logg=1.97\n",
      "Changing to logg=2.50 for T= 12505 logg=2.32\n",
      "Changing to logg=1.00 for T=  7665 logg=0.67\n",
      "Changing to logg=2.00 for T= 11458 logg=1.35\n",
      "Changing to T= 50000 for T= 61076 logg=5.34\n",
      "Changing to logg=5.00 for T= 61076 logg=5.34\n",
      "Changing to logg=2.50 for T= 13070 logg=1.66\n",
      "Changing to logg=2.00 for T=  9431 logg=1.11\n"
     ]
    },
    {
     "name": "stdout",
     "output_type": "stream",
     "text": [
      "Changing to T= 50000 for T= 61498 logg=5.44\n",
      "Changing to logg=5.00 for T= 61498 logg=5.44\n",
      "Changing to logg=2.00 for T= 10991 logg=1.27\n",
      "Changing to T= 50000 for T= 61156 logg=5.34\n",
      "Changing to logg=5.00 for T= 61156 logg=5.34\n",
      "Changing to T= 50000 for T= 59643 logg=5.37\n",
      "Changing to logg=5.00 for T= 59643 logg=5.37\n",
      "Changing to logg=2.50 for T= 13104 logg=1.66\n",
      "Changing to logg=1.00 for T=  7501 logg=0.64\n",
      "Changing to logg=1.50 for T=  8454 logg=1.40\n",
      "Changing to T= 50000 for T= 61506 logg=5.43\n",
      "Changing to logg=5.00 for T= 61506 logg=5.43\n",
      "Changing to logg=2.00 for T=  9664 logg=1.12\n",
      "Changing to T= 50000 for T= 60905 logg=5.33\n",
      "Changing to logg=5.00 for T= 60905 logg=5.33\n",
      "Changing to logg=2.00 for T=  9007 logg=0.97\n",
      "Changing to logg=2.50 for T= 13513 logg=1.71\n",
      "Changing to logg=2.50 for T= 15613 logg=1.97\n",
      "Changing to T= 50000 for T= 60737 logg=5.31\n",
      "Changing to logg=5.00 for T= 60737 logg=5.31\n",
      "Changing to T= 50000 for T= 60728 logg=5.30\n",
      "Changing to logg=5.00 for T= 60728 logg=5.30\n",
      "Changing to T= 50000 for T= 60973 logg=5.34\n",
      "Changing to logg=5.00 for T= 60973 logg=5.34\n",
      "Changing to T= 50000 for T= 61598 logg=5.42\n",
      "Changing to logg=5.00 for T= 61598 logg=5.42\n",
      "Changing to T= 50000 for T= 60934 logg=5.34\n",
      "Changing to logg=5.00 for T= 60934 logg=5.34\n",
      "Changing to T= 50000 for T= 61197 logg=5.37\n",
      "Changing to logg=5.00 for T= 61197 logg=5.37\n",
      "Changing to T= 50000 for T= 61792 logg=5.36\n",
      "Changing to logg=5.00 for T= 61792 logg=5.36\n",
      "Changing to T= 50000 for T= 60537 logg=5.33\n",
      "Changing to logg=5.00 for T= 60537 logg=5.33\n",
      "Changing to logg=2.00 for T= 10579 logg=1.27\n",
      "Changing to T= 50000 for T= 60745 logg=5.29\n",
      "Changing to logg=5.00 for T= 60745 logg=5.29\n",
      "Changing to logg=2.50 for T= 13036 logg=1.66\n",
      "Changing to T= 50000 for T= 60849 logg=5.30\n",
      "Changing to logg=5.00 for T= 60849 logg=5.30\n",
      "Changing to logg=3.00 for T= 20882 logg=2.37\n",
      "Changing to logg=2.00 for T= 11675 logg=1.91\n",
      "Changing to logg=2.50 for T= 14541 logg=2.00\n",
      "Changing to T= 50000 for T= 61138 logg=5.29\n",
      "Changing to logg=5.00 for T= 61138 logg=5.29\n",
      "Changing to T= 50000 for T= 60600 logg=5.31\n",
      "Changing to logg=5.00 for T= 60600 logg=5.31\n",
      "Changing to logg=3.00 for T= 24603 logg=2.42\n",
      "Changing to logg=2.00 for T= 10677 logg=1.29\n",
      "Changing to T= 50000 for T= 63957 logg=5.35\n",
      "Changing to logg=5.00 for T= 63957 logg=5.35\n",
      "Changing to T= 50000 for T= 59902 logg=5.28\n",
      "Changing to logg=5.00 for T= 59902 logg=5.28\n",
      "Changing to logg=3.00 for T= 22837 logg=2.72\n",
      "Changing to T= 50000 for T= 60930 logg=5.29\n",
      "Changing to logg=5.00 for T= 60930 logg=5.29\n",
      "Changing to T= 50000 for T= 61431 logg=5.43\n",
      "Changing to logg=5.00 for T= 61431 logg=5.43\n",
      "Changing to T= 50000 for T= 56491 logg=5.45\n",
      "Changing to logg=5.00 for T= 56491 logg=5.45\n",
      "Changing to logg=4.50 for T= 46362 logg=3.51\n",
      "Changing to T= 50000 for T= 61494 logg=5.45\n",
      "Changing to logg=5.00 for T= 61494 logg=5.45\n",
      "Changing to T= 50000 for T= 59088 logg=5.36\n",
      "Changing to logg=5.00 for T= 59088 logg=5.36\n",
      "Changing to T= 50000 for T= 61128 logg=5.31\n",
      "Changing to logg=5.00 for T= 61128 logg=5.31\n",
      "Changing to T= 50000 for T= 60069 logg=5.26\n",
      "Changing to logg=5.00 for T= 60069 logg=5.26\n",
      "Changing to logg=2.50 for T= 13554 logg=1.71\n",
      "Changing to T= 50000 for T= 61169 logg=5.28\n",
      "Changing to logg=5.00 for T= 61169 logg=5.28\n",
      "Changing to T= 50000 for T= 61662 logg=5.43\n",
      "Changing to logg=5.00 for T= 61662 logg=5.43\n",
      "Changing to T= 50000 for T= 60278 logg=5.22\n",
      "Changing to logg=5.00 for T= 60278 logg=5.22\n",
      "Changing to T= 50000 for T= 60758 logg=5.27\n",
      "Changing to logg=5.00 for T= 60758 logg=5.27\n",
      "Changing to logg=2.50 for T= 11982 logg=1.53\n",
      "Changing to T= 50000 for T= 60214 logg=5.35\n",
      "Changing to logg=5.00 for T= 60214 logg=5.35\n",
      "Changing to logg=4.00 for T= 33289 logg=2.88\n",
      "Changing to logg=2.00 for T=  9456 logg=1.08\n",
      "Changing to logg=2.50 for T= 13406 logg=1.43\n",
      "Changing to logg=2.00 for T= 10033 logg=1.18\n",
      "Changing to logg=2.50 for T= 12585 logg=1.52\n",
      "Changing to logg=2.50 for T= 18076 logg=2.21\n",
      "Changing to T= 50000 for T= 52085 logg=3.70\n",
      "Changing to logg=5.00 for T= 52085 logg=3.70\n",
      "Changing to T= 50000 for T= 61253 logg=5.37\n",
      "Changing to logg=5.00 for T= 61253 logg=5.37\n",
      "Changing to T= 50000 for T= 60657 logg=5.29\n",
      "Changing to logg=5.00 for T= 60657 logg=5.29\n",
      "Changing to logg=1.00 for T=  8066 logg=0.77\n",
      "Changing to T= 50000 for T= 60898 logg=5.27\n",
      "Changing to logg=5.00 for T= 60898 logg=5.27\n",
      "Changing to logg=2.00 for T=  9114 logg=1.51\n",
      "Changing to logg=3.00 for T= 21191 logg=2.59\n",
      "Changing to logg=2.00 for T=  9023 logg=0.92\n",
      "Changing to logg=2.50 for T= 13647 logg=1.83\n",
      "Changing to T= 50000 for T= 59822 logg=5.26\n",
      "Changing to logg=5.00 for T= 59822 logg=5.26\n",
      "Changing to T= 50000 for T= 59854 logg=5.31\n",
      "Changing to logg=5.00 for T= 59854 logg=5.31\n",
      "Changing to logg=2.50 for T= 18362 logg=2.15\n",
      "Changing to T= 50000 for T= 60759 logg=5.32\n",
      "Changing to logg=5.00 for T= 60759 logg=5.32\n",
      "Changing to logg=2.00 for T=  9682 logg=1.10\n",
      "Changing to T= 50000 for T= 61296 logg=5.38\n",
      "Changing to logg=5.00 for T= 61296 logg=5.38\n",
      "Changing to T= 50000 for T= 61918 logg=5.38\n",
      "Changing to logg=5.00 for T= 61918 logg=5.38\n",
      "Changing to T= 50000 for T= 65936 logg=5.37\n",
      "Changing to logg=5.00 for T= 65936 logg=5.37\n",
      "Changing to T= 50000 for T= 57057 logg=5.37\n",
      "Changing to logg=5.00 for T= 57057 logg=5.37\n",
      "Changing to T= 50000 for T= 61107 logg=5.26\n",
      "Changing to logg=5.00 for T= 61107 logg=5.26\n",
      "Changing to T= 50000 for T= 61475 logg=5.35\n",
      "Changing to logg=5.00 for T= 61475 logg=5.35\n",
      "Changing to logg=2.50 for T= 13079 logg=1.58\n",
      "Changing to T= 50000 for T= 61705 logg=5.46\n",
      "Changing to logg=5.00 for T= 61705 logg=5.46\n",
      "Changing to logg=0.00 for T=  3402 logg=-0.22\n",
      "Changing to T= 50000 for T= 61732 logg=5.43\n",
      "Changing to logg=5.00 for T= 61732 logg=5.43\n",
      "Changing to logg=2.50 for T= 12101 logg=1.72\n",
      "Changing to logg=0.00 for T=  3401 logg=-0.22\n",
      "Changing to T= 50000 for T= 61410 logg=5.37\n",
      "Changing to logg=5.00 for T= 61410 logg=5.37\n",
      "Changing to logg=0.00 for T=  3324 logg=-0.35\n",
      "Changing to logg=0.00 for T=  3401 logg=-0.22\n",
      "Changing to logg=2.50 for T= 12998 logg=1.57\n",
      "Changing to logg=5.00 for T= 49014 logg=3.95\n",
      "Changing to T= 50000 for T= 61638 logg=5.41\n",
      "Changing to logg=5.00 for T= 61638 logg=5.41\n",
      "Changing to logg=3.50 for T= 27189 logg=3.02\n",
      "Changing to T= 50000 for T= 61352 logg=5.29\n",
      "Changing to logg=5.00 for T= 61352 logg=5.29\n",
      "Changing to logg=3.00 for T= 21416 logg=2.60\n",
      "Changing to logg=3.00 for T= 19016 logg=2.30\n",
      "Changing to logg=2.00 for T= 11093 logg=1.53\n",
      "Changing to T= 50000 for T= 50451 logg=5.37\n",
      "Changing to logg=5.00 for T= 50451 logg=5.37\n",
      "Changing to T= 50000 for T= 61706 logg=5.44\n",
      "Changing to logg=5.00 for T= 61706 logg=5.44\n",
      "Changing to T= 50000 for T= 61221 logg=5.35\n",
      "Changing to logg=5.00 for T= 61221 logg=5.35\n",
      "Changing to T= 50000 for T= 61310 logg=5.28\n",
      "Changing to logg=5.00 for T= 61310 logg=5.28\n",
      "Changing to logg=2.50 for T= 15391 logg=1.97\n",
      "Changing to T= 50000 for T= 54821 logg=5.34\n",
      "Changing to logg=5.00 for T= 54821 logg=5.34\n",
      "Changing to logg=0.00 for T=  3402 logg=-0.22\n",
      "Changing to T= 50000 for T= 60526 logg=5.29\n",
      "Changing to logg=5.00 for T= 60526 logg=5.29\n",
      "Changing to T= 50000 for T= 61731 logg=5.45\n",
      "Changing to logg=5.00 for T= 61731 logg=5.45\n",
      "Changing to T= 50000 for T= 60704 logg=5.22\n",
      "Changing to logg=5.00 for T= 60704 logg=5.22\n",
      "Changing to T= 50000 for T= 61723 logg=5.37\n",
      "Changing to logg=5.00 for T= 61723 logg=5.37\n",
      "Changing to logg=1.50 for T=  8405 logg=0.72\n",
      "Changing to T= 50000 for T= 60819 logg=5.24\n",
      "Changing to logg=5.00 for T= 60819 logg=5.24\n",
      "Changing to T= 50000 for T= 61160 logg=5.27\n",
      "Changing to logg=5.00 for T= 61160 logg=5.27\n",
      "Changing to logg=2.00 for T=  9685 logg=1.20\n",
      "Changing to logg=2.50 for T= 12795 logg=1.64\n",
      "Changing to logg=2.50 for T= 12812 logg=1.80\n",
      "Changing to T= 50000 for T= 60854 logg=5.31\n",
      "Changing to logg=5.00 for T= 60854 logg=5.31\n",
      "Changing to T= 50000 for T= 61330 logg=5.33\n",
      "Changing to logg=5.00 for T= 61330 logg=5.33\n",
      "Changing to T= 50000 for T= 61645 logg=5.47\n",
      "Changing to logg=5.00 for T= 61645 logg=5.47\n",
      "Changing to logg=3.00 for T= 23213 logg=2.76\n",
      "Changing to T= 50000 for T= 59695 logg=5.24\n",
      "Changing to logg=5.00 for T= 59695 logg=5.24\n",
      "Changing to logg=3.00 for T= 20809 logg=2.37\n",
      "Changing to logg=2.50 for T= 15424 logg=1.93\n",
      "Changing to T= 50000 for T= 61193 logg=5.34\n",
      "Changing to logg=5.00 for T= 61193 logg=5.34\n",
      "Changing to T= 50000 for T= 61080 logg=5.33\n",
      "Changing to logg=5.00 for T= 61080 logg=5.33\n"
     ]
    },
    {
     "name": "stdout",
     "output_type": "stream",
     "text": [
      "Changing to T= 50000 for T= 59889 logg=5.24\n",
      "Changing to logg=5.00 for T= 59889 logg=5.24\n",
      "Changing to T= 50000 for T= 60576 logg=5.29\n",
      "Changing to logg=5.00 for T= 60576 logg=5.29\n",
      "Making photometry for isochrone: log(t) = 7.50  AKs = 0.00  dist = 1000\n",
      "     Starting at:  2020-12-14 16:07:21.808164   Usually takes ~5 minutes\n",
      "Starting filter: ubv,U   Elapsed time: 0.00 seconds\n",
      "Starting synthetic photometry\n",
      "Singles\n",
      "M =   2.150 Msun  T =  9325 K  m_ubv_U = 11.60\n",
      "Primaries\n",
      "M =   7.500 Msun  T = 18873 K  m_ubv_U = 6.60\n",
      "M =   7.000 Msun  T = 18802 K  m_ubv_U = 7.01\n",
      "M =   9.500 Msun  T = 24435 K  m_ubv_U = 4.16\n",
      "M =   9.500 Msun  T = 12088 K  m_ubv_U = 3.80\n",
      "M =   1.900 Msun  T = 12717 K  m_ubv_U = 9.75\n",
      "M =   2.300 Msun  T = 10081 K  m_ubv_U = 11.28\n",
      "M =   7.500 Msun  T = 18933 K  m_ubv_U = 6.62\n",
      "M =   8.500 Msun  T = 17496 K  m_ubv_U = 5.68\n",
      "M =   3.200 Msun  T = 21242 K  m_ubv_U = 6.32\n",
      "M =   8.500 Msun  T = 17496 K  m_ubv_U = 5.68\n",
      "M =   8.500 Msun  T = 17307 K  m_ubv_U = 5.63\n",
      "M =   8.000 Msun  T = 26455 K  m_ubv_U = 5.24\n",
      "M =   6.000 Msun  T = 17678 K  m_ubv_U = 7.69\n",
      "M =   8.500 Msun  T = 14129 K  m_ubv_U = 7.37\n",
      "M =   7.000 Msun  T = 18802 K  m_ubv_U = 7.01\n",
      "M =   9.500 Msun  T =  9114 K  m_ubv_U = 4.91\n",
      "M =   0.398 Msun  T =   nan K  m_ubv_U =  nan\n",
      "M =   0.631 Msun  T =  2739 K  m_ubv_U =  nan\n",
      "M =   5.012 Msun  T =  2739 K  m_ubv_U =  nan\n",
      "M =   1.400 Msun  T =  2739 K  m_ubv_U =  nan\n",
      "Secondaries\n",
      "M =   6.750 Msun  T = 20200 K  m_ubv_U = 7.31\n",
      "M =   3.500 Msun  T = 13668 K  m_ubv_U = 9.69\n",
      "M =   0.950 Msun  T =  5402 K  m_ubv_U = 16.64\n",
      "M =   6.650 Msun  T = 19642 K  m_ubv_U = 7.36\n",
      "M =   1.520 Msun  T =   nan K  m_ubv_U =  nan\n",
      "M =   0.460 Msun  T =  2654 K  m_ubv_U = 25.73\n",
      "M =   0.750 Msun  T =  4481 K  m_ubv_U = 19.29\n",
      "M =   6.800 Msun  T = 20275 K  m_ubv_U = 7.29\n",
      "M =   2.880 Msun  T =   nan K  m_ubv_U =  nan\n",
      "M =   7.650 Msun  T = 20499 K  m_ubv_U = 6.64\n",
      "M =   3.400 Msun  T = 13404 K  m_ubv_U = 9.79\n",
      "M =   5.600 Msun  T =   nan K  m_ubv_U =  nan\n",
      "M =   4.200 Msun  T = 15429 K  m_ubv_U = 9.08\n",
      "M =   1.700 Msun  T =  6982 K  m_ubv_U = 12.79\n",
      "M =   6.300 Msun  T = 19691 K  m_ubv_U = 7.64\n",
      "M =   6.650 Msun  T = 19770 K  m_ubv_U = 7.38\n",
      "M =   9.500 Msun  T = 13079 K  m_ubv_U = 3.66\n",
      "M =   4.000 Msun  T = 14059 K  m_ubv_U = 9.16\n",
      "M =   8.000 Msun  T = 18860 K  m_ubv_U = 6.24\n",
      "M =   6.000 Msun  T = 17693 K  m_ubv_U = 7.69\n",
      "Starting filter: ubv,V   Elapsed time: 6.70 seconds\n",
      "Starting synthetic photometry\n",
      "Singles\n",
      "M =   2.150 Msun  T =  9325 K  m_ubv_V = 11.55\n",
      "Primaries\n",
      "M =   7.500 Msun  T = 18873 K  m_ubv_V = 7.55\n",
      "M =   7.000 Msun  T = 18802 K  m_ubv_V = 7.94\n",
      "M =   9.500 Msun  T = 24435 K  m_ubv_V = 5.39\n",
      "M =   9.500 Msun  T = 12088 K  m_ubv_V = 4.35\n",
      "M =   1.900 Msun  T = 12717 K  m_ubv_V = 10.23\n",
      "M =   2.300 Msun  T = 10081 K  m_ubv_V = 11.36\n",
      "M =   7.500 Msun  T = 18933 K  m_ubv_V = 7.56\n",
      "M =   8.500 Msun  T = 17496 K  m_ubv_V = 6.57\n",
      "M =   3.200 Msun  T = 21242 K  m_ubv_V = 7.36\n",
      "M =   8.500 Msun  T = 17496 K  m_ubv_V = 6.57\n",
      "M =   8.500 Msun  T = 17307 K  m_ubv_V = 6.52\n",
      "M =   8.000 Msun  T = 26455 K  m_ubv_V = 6.45\n",
      "M =   6.000 Msun  T = 17678 K  m_ubv_V = 8.55\n",
      "M =   8.500 Msun  T = 14129 K  m_ubv_V = 8.04\n",
      "M =   7.000 Msun  T = 18802 K  m_ubv_V = 7.94\n",
      "M =   9.500 Msun  T =  9114 K  m_ubv_V = 5.02\n",
      "M =   0.398 Msun  T =   nan K  m_ubv_V =  nan\n",
      "M =   0.631 Msun  T =  2739 K  m_ubv_V =  nan\n",
      "M =   5.012 Msun  T =  2739 K  m_ubv_V =  nan\n",
      "M =   1.400 Msun  T =  2739 K  m_ubv_V =  nan\n",
      "Secondaries\n",
      "M =   6.750 Msun  T = 20200 K  m_ubv_V = 8.30\n",
      "M =   3.500 Msun  T = 13668 K  m_ubv_V = 10.26\n",
      "M =   0.950 Msun  T =  5402 K  m_ubv_V = 15.55\n",
      "M =   6.650 Msun  T = 19642 K  m_ubv_V = 8.33\n",
      "M =   1.520 Msun  T =   nan K  m_ubv_V =  nan\n",
      "M =   0.460 Msun  T =  2654 K  m_ubv_V = 23.47\n",
      "M =   0.750 Msun  T =  4481 K  m_ubv_V = 17.22\n",
      "M =   6.800 Msun  T = 20275 K  m_ubv_V = 8.28\n",
      "M =   2.880 Msun  T =   nan K  m_ubv_V =  nan\n",
      "M =   7.650 Msun  T = 20499 K  m_ubv_V = 7.65\n",
      "M =   3.400 Msun  T = 13404 K  m_ubv_V = 10.34\n",
      "M =   5.600 Msun  T =   nan K  m_ubv_V =  nan\n",
      "M =   4.200 Msun  T = 15429 K  m_ubv_V = 9.80\n",
      "M =   1.700 Msun  T =  6982 K  m_ubv_V = 12.47\n",
      "M =   6.300 Msun  T = 19691 K  m_ubv_V = 8.60\n",
      "M =   6.650 Msun  T = 19770 K  m_ubv_V = 8.35\n",
      "M =   9.500 Msun  T = 13079 K  m_ubv_V = 4.32\n",
      "M =   4.000 Msun  T = 14059 K  m_ubv_V = 9.78\n",
      "M =   8.000 Msun  T = 18860 K  m_ubv_V = 7.19\n",
      "M =   6.000 Msun  T = 17693 K  m_ubv_V = 8.56\n",
      "Starting filter: ubv,B   Elapsed time: 13.31 seconds\n",
      "Starting synthetic photometry\n",
      "Singles\n",
      "M =   2.150 Msun  T =  9325 K  m_ubv_B = 11.59\n",
      "Primaries\n",
      "M =   7.500 Msun  T = 18873 K  m_ubv_B = 7.35\n",
      "M =   7.000 Msun  T = 18802 K  m_ubv_B = 7.74\n",
      "M =   9.500 Msun  T = 24435 K  m_ubv_B = 5.15\n",
      "M =   9.500 Msun  T = 12088 K  m_ubv_B = 4.24\n",
      "M =   1.900 Msun  T = 12717 K  m_ubv_B = 10.13\n",
      "M =   2.300 Msun  T = 10081 K  m_ubv_B = 11.35\n",
      "M =   7.500 Msun  T = 18933 K  m_ubv_B = 7.36\n",
      "M =   8.500 Msun  T = 17496 K  m_ubv_B = 6.39\n",
      "M =   3.200 Msun  T = 21242 K  m_ubv_B = 7.14\n",
      "M =   8.500 Msun  T = 17496 K  m_ubv_B = 6.39\n",
      "M =   8.500 Msun  T = 17307 K  m_ubv_B = 6.33\n",
      "M =   8.000 Msun  T = 26455 K  m_ubv_B = 6.20\n",
      "M =   6.000 Msun  T = 17678 K  m_ubv_B = 8.37\n",
      "M =   8.500 Msun  T = 14129 K  m_ubv_B = 7.90\n",
      "M =   7.000 Msun  T = 18802 K  m_ubv_B = 7.74\n",
      "M =   9.500 Msun  T =  9114 K  m_ubv_B = 4.99\n",
      "M =   0.398 Msun  T =   nan K  m_ubv_B =  nan\n",
      "M =   0.631 Msun  T =  2739 K  m_ubv_B =  nan\n",
      "M =   5.012 Msun  T =  2739 K  m_ubv_B =  nan\n",
      "M =   1.400 Msun  T =  2739 K  m_ubv_B =  nan\n",
      "Secondaries\n",
      "M =   6.750 Msun  T = 20200 K  m_ubv_B = 8.09\n",
      "M =   3.500 Msun  T = 13668 K  m_ubv_B = 10.14\n",
      "M =   0.950 Msun  T =  5402 K  m_ubv_B = 16.37\n",
      "M =   6.650 Msun  T = 19642 K  m_ubv_B = 8.12\n",
      "M =   1.520 Msun  T =   nan K  m_ubv_B =  nan\n",
      "M =   0.460 Msun  T =  2654 K  m_ubv_B = 24.69\n",
      "M =   0.750 Msun  T =  4481 K  m_ubv_B = 18.35\n",
      "M =   6.800 Msun  T = 20275 K  m_ubv_B = 8.07\n",
      "M =   2.880 Msun  T =   nan K  m_ubv_B =  nan\n",
      "M =   7.650 Msun  T = 20499 K  m_ubv_B = 7.43\n",
      "M =   3.400 Msun  T = 13404 K  m_ubv_B = 10.22\n",
      "M =   5.600 Msun  T =   nan K  m_ubv_B =  nan\n",
      "M =   4.200 Msun  T = 15429 K  m_ubv_B = 9.65\n",
      "M =   1.700 Msun  T =  6982 K  m_ubv_B = 12.84\n",
      "M =   6.300 Msun  T = 19691 K  m_ubv_B = 8.40\n",
      "M =   6.650 Msun  T = 19770 K  m_ubv_B = 8.14\n",
      "M =   9.500 Msun  T = 13079 K  m_ubv_B = 4.20\n",
      "M =   4.000 Msun  T = 14059 K  m_ubv_B = 9.65\n",
      "M =   8.000 Msun  T = 18860 K  m_ubv_B = 6.99\n",
      "M =   6.000 Msun  T = 17693 K  m_ubv_B = 8.38\n",
      "Starting filter: ubv,R   Elapsed time: 19.81 seconds\n",
      "Starting synthetic photometry\n",
      "Singles\n",
      "M =   2.150 Msun  T =  9325 K  m_ubv_R = 11.54\n",
      "Primaries\n",
      "M =   7.500 Msun  T = 18873 K  m_ubv_R = 7.62\n",
      "M =   7.000 Msun  T = 18802 K  m_ubv_R = 8.01\n",
      "M =   9.500 Msun  T = 24435 K  m_ubv_R = 5.47\n",
      "M =   9.500 Msun  T = 12088 K  m_ubv_R = 4.37\n",
      "M =   1.900 Msun  T = 12717 K  m_ubv_R = 10.27\n",
      "M =   2.300 Msun  T = 10081 K  m_ubv_R = 11.37\n",
      "M =   7.500 Msun  T = 18933 K  m_ubv_R = 7.63\n",
      "M =   8.500 Msun  T = 17496 K  m_ubv_R = 6.64\n",
      "M =   3.200 Msun  T = 21242 K  m_ubv_R = 7.45\n",
      "M =   8.500 Msun  T = 17496 K  m_ubv_R = 6.64\n",
      "M =   8.500 Msun  T = 17307 K  m_ubv_R = 6.58\n",
      "M =   8.000 Msun  T = 26455 K  m_ubv_R = 6.55\n",
      "M =   6.000 Msun  T = 17678 K  m_ubv_R = 8.62\n",
      "M =   8.500 Msun  T = 14129 K  m_ubv_R = 8.09\n",
      "M =   7.000 Msun  T = 18802 K  m_ubv_R = 8.01\n",
      "M =   9.500 Msun  T =  9114 K  m_ubv_R = 5.01\n",
      "M =   0.398 Msun  T =   nan K  m_ubv_R =  nan\n",
      "M =   0.631 Msun  T =  2739 K  m_ubv_R =  nan\n",
      "M =   5.012 Msun  T =  2739 K  m_ubv_R =  nan\n",
      "M =   1.400 Msun  T =  2739 K  m_ubv_R =  nan\n",
      "Secondaries\n",
      "M =   6.750 Msun  T = 20200 K  m_ubv_R = 8.38\n",
      "M =   3.500 Msun  T = 13668 K  m_ubv_R = 10.31\n",
      "M =   0.950 Msun  T =  5402 K  m_ubv_R = 15.15\n",
      "M =   6.650 Msun  T = 19642 K  m_ubv_R = 8.40\n",
      "M =   1.520 Msun  T =   nan K  m_ubv_R =  nan\n",
      "M =   0.460 Msun  T =  2654 K  m_ubv_R = 21.97\n",
      "M =   0.750 Msun  T =  4481 K  m_ubv_R = 16.59\n",
      "M =   6.800 Msun  T = 20275 K  m_ubv_R = 8.36\n",
      "M =   2.880 Msun  T =   nan K  m_ubv_R =  nan\n",
      "M =   7.650 Msun  T = 20499 K  m_ubv_R = 7.73\n",
      "M =   3.400 Msun  T = 13404 K  m_ubv_R = 10.38\n",
      "M =   5.600 Msun  T =   nan K  m_ubv_R =  nan\n",
      "M =   4.200 Msun  T = 15429 K  m_ubv_R = 9.85\n",
      "M =   1.700 Msun  T =  6982 K  m_ubv_R = 12.27\n",
      "M =   6.300 Msun  T = 19691 K  m_ubv_R = 8.68\n",
      "M =   6.650 Msun  T = 19770 K  m_ubv_R = 8.42\n",
      "M =   9.500 Msun  T = 13079 K  m_ubv_R = 4.35\n"
     ]
    },
    {
     "name": "stdout",
     "output_type": "stream",
     "text": [
      "M =   4.000 Msun  T = 14059 K  m_ubv_R = 9.82\n",
      "M =   8.000 Msun  T = 18860 K  m_ubv_R = 7.26\n",
      "M =   6.000 Msun  T = 17693 K  m_ubv_R = 8.63\n",
      "Starting filter: ubv,I   Elapsed time: 26.16 seconds\n",
      "Starting synthetic photometry\n",
      "Singles\n",
      "M =   2.150 Msun  T =  9325 K  m_ubv_I = 11.54\n",
      "Primaries\n",
      "M =   7.500 Msun  T = 18873 K  m_ubv_I = 7.80\n",
      "M =   7.000 Msun  T = 18802 K  m_ubv_I = 8.19\n",
      "M =   9.500 Msun  T = 24435 K  m_ubv_I = 5.69\n",
      "M =   9.500 Msun  T = 12088 K  m_ubv_I = 4.44\n",
      "M =   1.900 Msun  T = 12717 K  m_ubv_I = 10.36\n",
      "M =   2.300 Msun  T = 10081 K  m_ubv_I = 11.40\n",
      "M =   7.500 Msun  T = 18933 K  m_ubv_I = 7.81\n",
      "M =   8.500 Msun  T = 17496 K  m_ubv_I = 6.80\n",
      "M =   3.200 Msun  T = 21242 K  m_ubv_I = 7.65\n",
      "M =   8.500 Msun  T = 17496 K  m_ubv_I = 6.80\n",
      "M =   8.500 Msun  T = 17307 K  m_ubv_I = 6.74\n",
      "M =   8.000 Msun  T = 26455 K  m_ubv_I = 6.79\n",
      "M =   6.000 Msun  T = 17678 K  m_ubv_I = 8.78\n",
      "M =   8.500 Msun  T = 14129 K  m_ubv_I = 8.20\n",
      "M =   7.000 Msun  T = 18802 K  m_ubv_I = 8.19\n",
      "M =   9.500 Msun  T =  9114 K  m_ubv_I = 4.97\n",
      "M =   0.398 Msun  T =   nan K  m_ubv_I =  nan\n",
      "M =   0.631 Msun  T =  2739 K  m_ubv_I =  nan\n",
      "M =   5.012 Msun  T =  2739 K  m_ubv_I =  nan\n",
      "M =   1.400 Msun  T =  2739 K  m_ubv_I =  nan\n",
      "Secondaries\n",
      "M =   6.750 Msun  T = 20200 K  m_ubv_I = 8.57\n",
      "M =   3.500 Msun  T = 13668 K  m_ubv_I = 10.42\n",
      "M =   0.950 Msun  T =  5402 K  m_ubv_I = 14.67\n",
      "M =   6.650 Msun  T = 19642 K  m_ubv_I = 8.59\n",
      "M =   1.520 Msun  T =   nan K  m_ubv_I =  nan\n",
      "M =   0.460 Msun  T =  2654 K  m_ubv_I = 18.46\n",
      "M =   0.750 Msun  T =  4481 K  m_ubv_I = 15.86\n",
      "M =   6.800 Msun  T = 20275 K  m_ubv_I = 8.55\n",
      "M =   2.880 Msun  T =   nan K  m_ubv_I =  nan\n",
      "M =   7.650 Msun  T = 20499 K  m_ubv_I = 7.92\n",
      "M =   3.400 Msun  T = 13404 K  m_ubv_I = 10.49\n",
      "M =   5.600 Msun  T =   nan K  m_ubv_I =  nan\n",
      "M =   4.200 Msun  T = 15429 K  m_ubv_I = 9.99\n",
      "M =   1.700 Msun  T =  6982 K  m_ubv_I = 12.03\n",
      "M =   6.300 Msun  T = 19691 K  m_ubv_I = 8.87\n",
      "M =   6.650 Msun  T = 19770 K  m_ubv_I = 8.61\n",
      "M =   9.500 Msun  T = 13079 K  m_ubv_I = 4.43\n",
      "M =   4.000 Msun  T = 14059 K  m_ubv_I = 9.94\n",
      "M =   8.000 Msun  T = 18860 K  m_ubv_I = 7.44\n",
      "M =   6.000 Msun  T = 17693 K  m_ubv_I = 8.79\n",
      "      Time taken: 32.49 seconds\n",
      "Isochrone generation took 318.743361 s.\n"
     ]
    }
   ],
   "source": [
    "import spisea\n",
    "from spisea import evolution, synthetic\n",
    "import math\n",
    "# Check if the evolution class works fine\n",
    "import time\n",
    "t1=time.time()\n",
    "bps=evolution.BPASS()\n",
    "iso1=synthetic.Isochrone_Binary(7.5, 0.0, 1000,math.log10(1), mass_sampling=1, filepath='/g/lu/scratch/ryotainagaki/BPASS_iso_filesTimedIsolated/')"
   ]
  },
  {
   "cell_type": "markdown",
   "metadata": {},
   "source": [
    "For a sanity check, we can see that the primaries, secondaries, and single stars have phases of 5 or of 101 or of 110. Note that we will have a phase of 110 in order to indicate a mystery compact remnant that BPASS provides for NEWSECMODS (secondary star models with compact primaries). This is since we haven't added neutron stars or black holes yet. Stars with phase of -99 exist, and those are the secondary stars that have already merged."
   ]
  },
  {
   "cell_type": "code",
   "execution_count": 2,
   "metadata": {},
   "outputs": [
    {
     "data": {
      "text/plain": [
       "True"
      ]
     },
     "execution_count": 2,
     "metadata": {},
     "output_type": "execute_result"
    }
   ],
   "source": [
    "import numpy as np\n",
    "np.all([(x==5 or x==101 or x==110) for x in iso1.primaries['phase']])"
   ]
  },
  {
   "cell_type": "code",
   "execution_count": 3,
   "metadata": {},
   "outputs": [
    {
     "data": {
      "text/plain": [
       "True"
      ]
     },
     "execution_count": 3,
     "metadata": {},
     "output_type": "execute_result"
    }
   ],
   "source": [
    "np.all([(x==5 or x==101) for x in iso1.singles['phase']])"
   ]
  },
  {
   "cell_type": "code",
   "execution_count": 4,
   "metadata": {},
   "outputs": [
    {
     "data": {
      "text/plain": [
       "True"
      ]
     },
     "execution_count": 4,
     "metadata": {},
     "output_type": "execute_result"
    }
   ],
   "source": [
    "np.all([(x==5 or x==101 or x==-99) for x in iso1.secondaries['phase']])"
   ]
  },
  {
   "cell_type": "markdown",
   "metadata": {},
   "source": [
    "Find the maximum, mean, and median  values of logg (cgs) for primaries, single stars, and secondaries. "
   ]
  },
  {
   "cell_type": "code",
   "execution_count": 5,
   "metadata": {},
   "outputs": [
    {
     "data": {
      "text/plain": [
       "4.487093492567904"
      ]
     },
     "execution_count": 5,
     "metadata": {},
     "output_type": "execute_result"
    }
   ],
   "source": [
    "import numpy as np\n",
    "np.max(iso1.singles['logg'])"
   ]
  },
  {
   "cell_type": "code",
   "execution_count": 6,
   "metadata": {},
   "outputs": [
    {
     "data": {
      "text/plain": [
       "nan"
      ]
     },
     "execution_count": 6,
     "metadata": {},
     "output_type": "execute_result"
    }
   ],
   "source": [
    "import numpy as np\n",
    "np.max(iso1.primaries['logg'])"
   ]
  },
  {
   "cell_type": "code",
   "execution_count": 7,
   "metadata": {},
   "outputs": [
    {
     "data": {
      "text/plain": [
       "5.465479789549181"
      ]
     },
     "execution_count": 7,
     "metadata": {},
     "output_type": "execute_result"
    }
   ],
   "source": [
    "np.max(np.nan_to_num(iso1.secondaries['logg']))"
   ]
  },
  {
   "cell_type": "code",
   "execution_count": 8,
   "metadata": {},
   "outputs": [
    {
     "data": {
      "text/plain": [
       "3.7716471581329696"
      ]
     },
     "execution_count": 8,
     "metadata": {},
     "output_type": "execute_result"
    }
   ],
   "source": [
    "np.mean(iso1.singles['logg'])"
   ]
  },
  {
   "cell_type": "code",
   "execution_count": 9,
   "metadata": {},
   "outputs": [
    {
     "data": {
      "text/plain": [
       "3.882788856004397"
      ]
     },
     "execution_count": 9,
     "metadata": {},
     "output_type": "execute_result"
    }
   ],
   "source": [
    "np.mean((np.nan_to_num(iso1.secondaries['logg'])))"
   ]
  },
  {
   "cell_type": "code",
   "execution_count": 10,
   "metadata": {},
   "outputs": [
    {
     "data": {
      "text/plain": [
       "3.606049492878326"
      ]
     },
     "execution_count": 10,
     "metadata": {},
     "output_type": "execute_result"
    }
   ],
   "source": [
    "np.mean((np.nan_to_num(iso1.primaries['logg'])))"
   ]
  },
  {
   "cell_type": "code",
   "execution_count": 11,
   "metadata": {},
   "outputs": [
    {
     "data": {
      "text/plain": [
       "4.079358722075495"
      ]
     },
     "execution_count": 11,
     "metadata": {},
     "output_type": "execute_result"
    }
   ],
   "source": [
    "np.median(iso1.singles['logg'])"
   ]
  },
  {
   "cell_type": "code",
   "execution_count": 12,
   "metadata": {},
   "outputs": [
    {
     "data": {
      "text/plain": [
       "nan"
      ]
     },
     "execution_count": 12,
     "metadata": {},
     "output_type": "execute_result"
    }
   ],
   "source": [
    "np.median(iso1.primaries['logg'])"
   ]
  },
  {
   "cell_type": "markdown",
   "metadata": {},
   "source": [
    "Looking at the distribution of surface gravity (in cgs) for primaries and secondaries"
   ]
  },
  {
   "cell_type": "code",
   "execution_count": 13,
   "metadata": {},
   "outputs": [
    {
     "data": {
      "text/plain": [
       "Text(0.5, 0, 'logg in cgs')"
      ]
     },
     "execution_count": 13,
     "metadata": {},
     "output_type": "execute_result"
    },
    {
     "data": {
      "image/png": "[encoded data removed]",
      "text/plain": [
       "<Figure size 432x288 with 1 Axes>"
      ]
     },
     "metadata": {
      "needs_background": "light"
     },
     "output_type": "display_data"
    }
   ],
   "source": [
    "import matplotlib.pyplot as plt\n",
    "plt.title(\"Histogram of logg values (secondaries) of BPASS isochrone\")\n",
    "plt.hist(np.array([x for x in iso1.secondaries['logg'] if np.isfinite(x)]), np.arange(0, 30, 1))\n",
    "plt.xlabel(\"logg in cgs\")"
   ]
  },
  {
   "cell_type": "code",
   "execution_count": 14,
   "metadata": {},
   "outputs": [
    {
     "data": {
      "text/plain": [
       "Text(0.5, 0, 'logg in cgs')"
      ]
     },
     "execution_count": 14,
     "metadata": {},
     "output_type": "execute_result"
    },
    {
     "data": {
      "image/png": "[encoded data removed]",
      "text/plain": [
       "<Figure size 432x288 with 1 Axes>"
      ]
     },
     "metadata": {
      "needs_background": "light"
     },
     "output_type": "display_data"
    }
   ],
   "source": [
    "import matplotlib.pyplot as plt\n",
    "plt.title(\"Histogram of logg values (primaries) of BPASS isochrone\")\n",
    "plt.hist(np.array([x for x in iso1.primaries['logg'] if np.isfinite(x)]), np.arange(0, 30, 1))\n",
    "plt.xlabel(\"logg in cgs\")"
   ]
  },
  {
   "cell_type": "code",
   "execution_count": 15,
   "metadata": {},
   "outputs": [
    {
     "data": {
      "text/plain": [
       "Text(0.5, 0, 'logg in cgs')"
      ]
     },
     "execution_count": 15,
     "metadata": {},
     "output_type": "execute_result"
    },
    {
     "data": {
      "image/png": "[encoded data removed]",
      "text/plain": [
       "<Figure size 432x288 with 1 Axes>"
      ]
     },
     "metadata": {
      "needs_background": "light"
     },
     "output_type": "display_data"
    }
   ],
   "source": [
    "import matplotlib.pyplot as plt\n",
    "plt.title(\"Histogram of logg values single stars of BPASS isochrone\")\n",
    "plt.hist(np.array([x for x in iso1.singles['logg'] if np.isfinite(x)]), np.arange(0, 30, 1))\n",
    "plt.xlabel(\"logg in cgs\")"
   ]
  },
  {
   "cell_type": "markdown",
   "metadata": {},
   "source": [
    "I want to compare plots with the MISTv.1 equivalent (10^7.5 years old, 0 extinction, 1000 pc from Earth, solar metallicity). Hence, I will create iso2."
   ]
  },
  {
   "cell_type": "code",
   "execution_count": 16,
   "metadata": {},
   "outputs": [
    {
     "name": "stdout",
     "output_type": "stream",
     "text": [
      "Isochrone generation took 44.566483 s.\n",
      "Making photometry for isochrone: log(t) = 7.50  AKs = 0.00  dist = 1000\n",
      "     Starting at:  2020-12-14 16:08:39.720583   Usually takes ~5 minutes\n",
      "Starting filter: ubv,U   Elapsed time: 0.00 seconds\n",
      "Starting synthetic photometry\n",
      "M =   0.112 Msun  T =  3041 K  m_ubv_U = 25.29\n",
      "M =   1.916 Msun  T =  8890 K  m_ubv_U = 12.05\n",
      "M =   7.387 Msun  T = 19266 K  m_ubv_U = 6.78\n",
      "M =   8.574 Msun  T = 18454 K  m_ubv_U = 5.71\n",
      "M =   8.586 Msun  T =  5388 K  m_ubv_U = 6.71\n",
      "M =   8.882 Msun  T =  6605 K  m_ubv_U = 4.96\n",
      "M =   9.075 Msun  T =  3496 K  m_ubv_U = 10.18\n",
      "Starting filter: ubv,B   Elapsed time: 1.16 seconds\n",
      "Starting synthetic photometry\n",
      "M =   0.112 Msun  T =  3041 K  m_ubv_B = 24.25\n",
      "M =   1.916 Msun  T =  8890 K  m_ubv_B = 12.00\n",
      "M =   7.387 Msun  T = 19266 K  m_ubv_B = 7.54\n",
      "M =   8.574 Msun  T = 18454 K  m_ubv_B = 6.45\n",
      "M =   8.586 Msun  T =  5388 K  m_ubv_B = 6.23\n",
      "M =   8.882 Msun  T =  6605 K  m_ubv_B = 4.69\n",
      "M =   9.075 Msun  T =  3496 K  m_ubv_B = 8.04\n",
      "Starting filter: ubv,V   Elapsed time: 2.29 seconds\n",
      "Starting synthetic photometry\n",
      "M =   0.112 Msun  T =  3041 K  m_ubv_V = 23.13\n",
      "M =   1.916 Msun  T =  8890 K  m_ubv_V = 11.91\n",
      "M =   7.387 Msun  T = 19266 K  m_ubv_V = 7.74\n",
      "M =   8.574 Msun  T = 18454 K  m_ubv_V = 6.65\n",
      "M =   8.586 Msun  T =  5388 K  m_ubv_V = 5.37\n",
      "M =   8.882 Msun  T =  6605 K  m_ubv_V = 4.33\n",
      "M =   9.075 Msun  T =  3496 K  m_ubv_V = 6.31\n",
      "Starting filter: ubv,R   Elapsed time: 3.42 seconds\n",
      "Starting synthetic photometry\n",
      "M =   0.112 Msun  T =  3041 K  m_ubv_R = 22.15\n",
      "M =   1.916 Msun  T =  8890 K  m_ubv_R = 11.89\n",
      "M =   7.387 Msun  T = 19266 K  m_ubv_R = 7.81\n",
      "M =   8.574 Msun  T = 18454 K  m_ubv_R = 6.72\n",
      "M =   8.586 Msun  T =  5388 K  m_ubv_R = 4.98\n",
      "M =   8.882 Msun  T =  6605 K  m_ubv_R = 4.13\n",
      "M =   9.075 Msun  T =  3496 K  m_ubv_R = 5.35\n",
      "Starting filter: ubv,I   Elapsed time: 4.52 seconds\n",
      "Starting synthetic photometry\n",
      "M =   0.112 Msun  T =  3041 K  m_ubv_I = 19.48\n",
      "M =   1.916 Msun  T =  8890 K  m_ubv_I = 11.86\n",
      "M =   7.387 Msun  T = 19266 K  m_ubv_I = 8.00\n",
      "M =   8.574 Msun  T = 18454 K  m_ubv_I = 6.89\n",
      "M =   8.586 Msun  T =  5388 K  m_ubv_I = 4.49\n",
      "M =   8.882 Msun  T =  6605 K  m_ubv_I = 3.86\n",
      "M =   9.075 Msun  T =  3496 K  m_ubv_I = 3.56\n",
      "      Time taken: 5.62 seconds\n"
     ]
    }
   ],
   "source": [
    "iso2=synthetic.IsochronePhot(7.5, 0.0, 1000, math.log(1), recomp=True) # New MIST v.1 isochrone for same metallicity"
   ]
  },
  {
   "cell_type": "code",
   "execution_count": 17,
   "metadata": {},
   "outputs": [
    {
     "data": {
      "text/plain": [
       "4.571502254981476"
      ]
     },
     "execution_count": 17,
     "metadata": {},
     "output_type": "execute_result"
    }
   ],
   "source": [
    "import numpy as np\n",
    "np.max(iso2.points['logg'])"
   ]
  },
  {
   "cell_type": "markdown",
   "metadata": {},
   "source": [
    "Kind of like how we did in the "
   ]
  },
  {
   "cell_type": "code",
   "execution_count": 18,
   "metadata": {},
   "outputs": [
    {
     "data": {
      "text/plain": [
       "(array([140., 103.,  51., 132., 188.,   0.,   0.,   0.,   0.,   0.,   0.,\n",
       "          0.,   0.,   0.,   0.,   0.,   0.,   0.,   0.,   0.,   0.,   0.,\n",
       "          0.,   0.,   0.,   0.,   0.,   0.,   0.]),\n",
       " array([ 0,  1,  2,  3,  4,  5,  6,  7,  8,  9, 10, 11, 12, 13, 14, 15, 16,\n",
       "        17, 18, 19, 20, 21, 22, 23, 24, 25, 26, 27, 28, 29]),\n",
       " <a list of 29 Patch objects>)"
      ]
     },
     "execution_count": 18,
     "metadata": {},
     "output_type": "execute_result"
    },
    {
     "data": {
      "image/png": "[encoded data removed]",
      "text/plain": [
       "<Figure size 432x288 with 1 Axes>"
      ]
     },
     "metadata": {
      "needs_background": "light"
     },
     "output_type": "display_data"
    }
   ],
   "source": [
    "import matplotlib.pyplot as plt\n",
    "plt.xlabel(\"logg in cgs\")\n",
    "plt.title(\"Histogram of logg values of stars in the MIST v1 isochrone\")\n",
    "plt.hist(np.array([x for x in iso2.points['logg'] if np.isfinite(x)]), np.arange(0, 30, 1))"
   ]
  },
  {
   "cell_type": "code",
   "execution_count": 19,
   "metadata": {},
   "outputs": [
    {
     "data": {
      "text/plain": [
       "3.3014845850167003"
      ]
     },
     "execution_count": 19,
     "metadata": {},
     "output_type": "execute_result"
    }
   ],
   "source": [
    "np.median(iso2.points['logg'])"
   ]
  },
  {
   "cell_type": "code",
   "execution_count": 20,
   "metadata": {},
   "outputs": [
    {
     "data": {
      "text/plain": [
       "2.6682795084860778"
      ]
     },
     "execution_count": 20,
     "metadata": {},
     "output_type": "execute_result"
    }
   ],
   "source": [
    "np.mean(iso2.points['logg'])"
   ]
  },
  {
   "cell_type": "code",
   "execution_count": 21,
   "metadata": {},
   "outputs": [],
   "source": [
    "from spisea import imf\n",
    "from spisea.imf import imf, multiplicity\n",
    "from spisea import ifmr\n"
   ]
  },
  {
   "cell_type": "markdown",
   "metadata": {},
   "source": [
    "Make the clusters corresponding to the binary star isochrone and the MISTv.1 isochrone"
   ]
  },
  {
   "cell_type": "code",
   "execution_count": 22,
   "metadata": {},
   "outputs": [
    {
     "name": "stdout",
     "output_type": "stream",
     "text": [
      "Found 7 stars out of mass range\n"
     ]
    },
    {
     "name": "stderr",
     "output_type": "stream",
     "text": [
      "/opt/anaconda3/envs/astroconda/lib/python3.7/site-packages/astropy/table/column.py:1020: RuntimeWarning: invalid value encountered in greater_equal\n",
      "  result = getattr(super(), op)(other)\n"
     ]
    }
   ],
   "source": [
    "clus_1=synthetic.Binary_Cluster(iso1, imf.IMFSalpeter1955(multiplicity=multiplicity.MultiplicityResolvedDK()), 2000)\n",
    "clus_2=synthetic.ResolvedCluster(iso2, imf.IMFSalpeter1955(multiplicity=multiplicity.MultiplicityResolvedDK()), 2000)"
   ]
  },
  {
   "cell_type": "markdown",
   "metadata": {},
   "source": [
    "Now let's visualize the isochrone we have created so far with a color magnitude diagram. There we can see the end of main sequence and perhaps the beginnings of the subgiant branch. That turnoff will turn out to be quite important when using the clusters to find age of real stellar populations.\\n But first, let's look at the isochrones and plot the observers' and theorist's HR diagrams and juxtapose the evolution models."
   ]
  },
  {
   "cell_type": "code",
   "execution_count": 23,
   "metadata": {},
   "outputs": [
    {
     "data": {
      "text/plain": [
       "<matplotlib.legend.Legend at 0x7fb902af4320>"
      ]
     },
     "execution_count": 23,
     "metadata": {},
     "output_type": "execute_result"
    },
    {
     "data": {
      "image/png": "[encoded data removed]",
      "text/plain": [
       "<Figure size 432x288 with 1 Axes>"
      ]
     },
     "metadata": {
      "needs_background": "light"
     },
     "output_type": "display_data"
    }
   ],
   "source": [
    "# Taking a look at the Binary Cluster vs Default Settings cluster Observer's HR Diagram\n",
    "# Remember to use a distance modulus!\n",
    "import matplotlib.pyplot as plt\n",
    "plt.plot(iso1.primaries['m_ubv_B']-iso1.primaries[\"m_ubv_V\"], iso1.primaries[\"m_ubv_V\"]-5*np.log10(100), \"r.\", alpha= 0.3)\n",
    "plt.plot(iso1.secondaries['m_ubv_B']-iso1.secondaries[\"m_ubv_V\"], iso1.secondaries[\"m_ubv_V\"]-5*np.log10(100), \"r.\", alpha= 0.3)\n",
    "plt.plot(iso1.singles['m_ubv_B']-iso1.singles[\"m_ubv_V\"], iso1.singles[\"m_ubv_V\"]-5*np.log10(100), \"r.\", label=\"BPASS isochrone\", alpha= 0.3)\n",
    "plt.plot(iso2.points['m_ubv_B']-iso2.points[\"m_ubv_V\"], iso2.points[\"m_ubv_V\"]-5*np.log10(100), \"b+\", label=\"MISTv1\", alpha= 0.2)\n",
    "plt.xlabel(\"B-V\")\n",
    "plt.ylabel(\"'M_V'\")\n",
    "plt.title(\"Color magnitude Diagram of Isochrones at solar metallicity and 10**7.5 years age\")\n",
    "plt.gca().invert_yaxis()\n",
    "plt.legend()"
   ]
  },
  {
   "cell_type": "code",
   "execution_count": 24,
   "metadata": {},
   "outputs": [
    {
     "data": {
      "text/plain": [
       "<matplotlib.legend.Legend at 0x7fb93261df98>"
      ]
     },
     "execution_count": 24,
     "metadata": {},
     "output_type": "execute_result"
    },
    {
     "data": {
      "image/png": "[encoded data removed]",
      "text/plain": [
       "<Figure size 432x288 with 1 Axes>"
      ]
     },
     "metadata": {
      "needs_background": "light"
     },
     "output_type": "display_data"
    }
   ],
   "source": [
    "import matplotlib.pyplot as plt\n",
    "plt.plot(np.log10(iso1.primaries['Teff']), np.log10(iso1.primaries[\"L\"]), \"r.\", alpha= 0.3)\n",
    "plt.plot(np.log10(iso1.secondaries['Teff']), np.log10(iso1.secondaries[\"L\"]), \"r.\", alpha= 0.3)\n",
    "plt.plot(np.log10(iso1.singles['Teff']), np.log10(iso1.singles[\"L\"]), \"r.\", label=\"BPASS isochrone\", alpha= 0.3)\n",
    "plt.plot(np.log10(iso2.points['Teff']), np.log10(iso2.points[\"L\"]), \"b+\", label=\"MISTv1\", alpha=0.2)\n",
    "plt.xlabel(\"log(T in Kelvin)\")\n",
    "plt.ylabel(\"log(L in Watts)\")\n",
    "plt.title(\"HR Diagram of Isochrones at solar metallicity and 10**7.5 years age\")\n",
    "plt.gca().invert_xaxis()\n",
    "plt.legend()\n",
    "# Rough pattern seems to fit. What's that line?"
   ]
  },
  {
   "cell_type": "code",
   "execution_count": 25,
   "metadata": {},
   "outputs": [
    {
     "data": {
      "text/plain": [
       "<matplotlib.legend.Legend at 0x7fb92187e400>"
      ]
     },
     "execution_count": 25,
     "metadata": {},
     "output_type": "execute_result"
    },
    {
     "data": {
      "image/png": "[encoded data removed]",
      "text/plain": [
       "<Figure size 432x288 with 1 Axes>"
      ]
     },
     "metadata": {
      "needs_background": "light"
     },
     "output_type": "display_data"
    }
   ],
   "source": [
    "# Plot the mass-luminosity relationship\n",
    "from astropy import constants as cs\n",
    "import matplotlib.pyplot as plt\n",
    "plt.plot(np.log10(iso1.primaries['mass_current']), np.log10(iso1.primaries[\"L\"]/cs.L_sun), \"r.\", alpha= 0.3)\n",
    "plt.plot(np.log10(iso1.secondaries['mass_current']), np.log10(iso1.secondaries[\"L\"]/cs.L_sun), \"r.\", alpha= 0.3)\n",
    "plt.plot(np.log10(iso1.singles['mass_current']), np.log10(iso1.singles[\"L\"]/cs.L_sun), \"r.\", label=\"BPASS isochrone\", alpha= 0.3)\n",
    "plt.plot(np.log10(iso2.points['mass_current']), np.log10(iso2.points[\"L\"]/cs.L_sun), \"b+\", label=\"MISTv1\", alpha=0.2)\n",
    "plt.xlabel(\"log(Current Mass in solar masses)\")\n",
    "plt.ylabel(\"log(L/L_solar)\")\n",
    "plt.title(\"Mass-logL of Isochrones at solar metallicity and 10**7.5 years age\")\n",
    "plt.legend()\n",
    "# Rough pattern seems to fit. What's that line?"
   ]
  },
  {
   "cell_type": "markdown",
   "metadata": {},
   "source": [
    "Which table is causing that line?\n",
    "Let's find out."
   ]
  },
  {
   "cell_type": "code",
   "execution_count": 26,
   "metadata": {},
   "outputs": [
    {
     "data": {
      "text/plain": [
       "<matplotlib.legend.Legend at 0x7fb902c43550>"
      ]
     },
     "execution_count": 26,
     "metadata": {},
     "output_type": "execute_result"
    },
    {
     "data": {
      "image/png": "[encoded data removed]",
      "text/plain": [
       "<Figure size 432x288 with 1 Axes>"
      ]
     },
     "metadata": {
      "needs_background": "light"
     },
     "output_type": "display_data"
    }
   ],
   "source": [
    "from astropy import constants as cs\n",
    "import matplotlib.pyplot as plt\n",
    "plt.xlabel(\"log(Current Mass in solar masses)\")\n",
    "plt.ylabel(\"log(L/L_solar)\")\n",
    "plt.title(\"Mass-logL of Isochrones at solar metallicity and 10**7.5 years age\")\n",
    "plt.plot(np.log10(iso1.primaries['mass_current']), np.log10(iso1.primaries[\"L\"]/cs.L_sun), \"r.\", label=\"BPASS isochrone\")\n",
    "plt.legend()"
   ]
  },
  {
   "cell_type": "markdown",
   "metadata": {},
   "source": [
    "Which type of secondary star is it that is causing this strange pattern?"
   ]
  },
  {
   "cell_type": "code",
   "execution_count": 27,
   "metadata": {},
   "outputs": [
    {
     "name": "stderr",
     "output_type": "stream",
     "text": [
      "/opt/anaconda3/envs/astroconda/lib/python3.7/site-packages/astropy/units/quantity.py:477: RuntimeWarning: invalid value encountered in greater\n",
      "  result = super().__array_ufunc__(function, method, *arrays, **kwargs)\n",
      "/opt/anaconda3/envs/astroconda/lib/python3.7/site-packages/astropy/units/quantity.py:477: RuntimeWarning: invalid value encountered in less\n",
      "  result = super().__array_ufunc__(function, method, *arrays, **kwargs)\n"
     ]
    }
   ],
   "source": [
    "bad_line = iso1.secondaries[np.where((np.log10(iso1.secondaries[\"L\"]/cs.L_sun)>-4) & (np.log10(iso1.secondaries[\"L\"]/cs.L_sun)<-2))[0]]"
   ]
  },
  {
   "cell_type": "code",
   "execution_count": 28,
   "metadata": {},
   "outputs": [
    {
     "data": {
      "text/html": [
       "<i>Table length=17</i>\n",
       "<table id=\"table140433392043400\" class=\"table-striped table-bordered table-condensed\">\n",
       "<thead><tr><th>mass</th><th>log_a</th><th>L</th><th>Teff</th><th>R</th><th>logg</th><th>isWR</th><th>mass_current</th><th>phase</th><th>merged</th><th>source</th><th>m_ubv_U</th><th>m_ubv_V</th><th>m_ubv_B</th><th>m_ubv_R</th><th>m_ubv_I</th></tr></thead>\n",
       "<thead><tr><th>solMass</th><th></th><th>W</th><th>K</th><th>m</th><th></th><th></th><th>solMass</th><th></th><th></th><th></th><th></th><th></th><th></th><th></th><th></th></tr></thead>\n",
       "<thead><tr><th>float64</th><th>float64</th><th>float64</th><th>float64</th><th>float64</th><th>float64</th><th>bool</th><th>float64</th><th>float64</th><th>bool</th><th>int64</th><th>float64</th><th>float64</th><th>float64</th><th>float64</th><th>float64</th></tr></thead>\n",
       "<tr><td>0.22999999999999998</td><td>-0.5072204086880292</td><td>2.463836751915467e+23</td><td>1327.2110840755804</td><td>333642989.08683115</td><td>4.438075463320726</td><td>False</td><td>0.23</td><td>5.0</td><td>False</td><td>1</td><td>35.30175910789871</td><td>32.53375408345714</td><td>32.44397896932759</td><td>28.323385276329212</td><td>23.538861868398694</td></tr>\n",
       "<tr><td>0.22999999999999998</td><td>-0.37388640868802914</td><td>2.463836751915467e+23</td><td>1327.2110840755804</td><td>333642989.08683115</td><td>4.438075463320726</td><td>False</td><td>0.23</td><td>5.0</td><td>False</td><td>1</td><td>35.30175910789871</td><td>32.53375408345714</td><td>32.44397896932759</td><td>28.323385276329212</td><td>23.538861868398694</td></tr>\n",
       "<tr><td>0.22999999999999998</td><td>0.9594465913119707</td><td>2.463836751915467e+23</td><td>1327.2110840755804</td><td>333642989.08683115</td><td>4.438075463320726</td><td>False</td><td>0.23</td><td>5.0</td><td>False</td><td>1</td><td>35.30175910789871</td><td>32.53375408345714</td><td>32.44397896932759</td><td>28.323385276329212</td><td>23.538861868398694</td></tr>\n",
       "<tr><td>0.22999999999999998</td><td>0.29277959131197084</td><td>2.463836751915467e+23</td><td>1327.2110840755804</td><td>333642989.08683115</td><td>4.438075463320726</td><td>False</td><td>0.23</td><td>5.0</td><td>False</td><td>1</td><td>35.30175910789871</td><td>32.53375408345714</td><td>32.44397896932759</td><td>28.323385276329212</td><td>23.538861868398694</td></tr>\n",
       "<tr><td>0.22999999999999998</td><td>-0.9072204086880291</td><td>2.463836751915467e+23</td><td>1327.2110840755804</td><td>333642989.08683115</td><td>4.438075463320726</td><td>False</td><td>0.23</td><td>5.0</td><td>False</td><td>1</td><td>35.30175910789871</td><td>32.53375408345714</td><td>32.44397896932759</td><td>28.323385276329212</td><td>23.538861868398694</td></tr>\n",
       "<tr><td>0.22999999999999998</td><td>0.6927795913119708</td><td>2.463836751915467e+23</td><td>1327.2110840755804</td><td>333642989.08683115</td><td>4.438075463320726</td><td>False</td><td>0.23</td><td>5.0</td><td>False</td><td>1</td><td>35.30175910789871</td><td>32.53375408345714</td><td>32.44397896932759</td><td>28.323385276329212</td><td>23.538861868398694</td></tr>\n",
       "<tr><td>0.22999999999999998</td><td>0.4261135913119709</td><td>2.463836751915467e+23</td><td>1327.2110840755804</td><td>333642989.08683115</td><td>4.438075463320726</td><td>False</td><td>0.23</td><td>5.0</td><td>False</td><td>1</td><td>35.30175910789871</td><td>32.53375408345714</td><td>32.44397896932759</td><td>28.323385276329212</td><td>23.538861868398694</td></tr>\n",
       "<tr><td>0.22999999999999998</td><td>0.8261135913119708</td><td>2.463836751915467e+23</td><td>1327.2110840755804</td><td>333642989.08683115</td><td>4.438075463320726</td><td>False</td><td>0.23</td><td>5.0</td><td>False</td><td>1</td><td>35.30175910789871</td><td>32.53375408345714</td><td>32.44397896932759</td><td>28.323385276329212</td><td>23.538861868398694</td></tr>\n",
       "<tr><td>0.22999999999999998</td><td>-0.240553408688029</td><td>2.463836751915467e+23</td><td>1327.2110840755804</td><td>333642989.08683115</td><td>4.438075463320726</td><td>False</td><td>0.23</td><td>5.0</td><td>False</td><td>1</td><td>35.30175910789871</td><td>32.53375408345714</td><td>32.44397896932759</td><td>28.323385276329212</td><td>23.538861868398694</td></tr>\n",
       "<tr><td>0.22999999999999998</td><td>0.026113591311970996</td><td>2.463836751915467e+23</td><td>1327.2110840755804</td><td>333642989.08683115</td><td>4.438075463320726</td><td>False</td><td>0.23</td><td>5.0</td><td>False</td><td>1</td><td>35.30175910789871</td><td>32.53375408345714</td><td>32.44397896932759</td><td>28.323385276329212</td><td>23.538861868398694</td></tr>\n",
       "<tr><td>0.22999999999999998</td><td>0.15944659131197092</td><td>2.463836751915467e+23</td><td>1327.2110840755804</td><td>333642989.08683115</td><td>4.438075463320726</td><td>False</td><td>0.23</td><td>5.0</td><td>False</td><td>1</td><td>35.30175910789871</td><td>32.53375408345714</td><td>32.44397896932759</td><td>28.323385276329212</td><td>23.538861868398694</td></tr>\n",
       "<tr><td>0.22999999999999998</td><td>-0.6405534086880291</td><td>2.463836751915467e+23</td><td>1327.2110840755804</td><td>333642989.08683115</td><td>4.438075463320726</td><td>False</td><td>0.23</td><td>5.0</td><td>False</td><td>1</td><td>35.30175910789871</td><td>32.53375408345714</td><td>32.44397896932759</td><td>28.323385276329212</td><td>23.538861868398694</td></tr>\n",
       "<tr><td>0.22999999999999998</td><td>-0.10722040868802907</td><td>2.463836751915467e+23</td><td>1327.2110840755804</td><td>333642989.08683115</td><td>4.438075463320726</td><td>False</td><td>0.23</td><td>5.0</td><td>False</td><td>1</td><td>35.30175910789871</td><td>32.53375408345714</td><td>32.44397896932759</td><td>28.323385276329212</td><td>23.538861868398694</td></tr>\n",
       "<tr><td>0.22999999999999998</td><td>1.0927795913119707</td><td>2.463836751915467e+23</td><td>1327.2110840755804</td><td>333642989.08683115</td><td>4.438075463320726</td><td>False</td><td>0.23</td><td>5.0</td><td>False</td><td>1</td><td>35.30175910789871</td><td>32.53375408345714</td><td>32.44397896932759</td><td>28.323385276329212</td><td>23.538861868398694</td></tr>\n",
       "<tr><td>0.22999999999999998</td><td>-1.0405534086880293</td><td>2.463836751915467e+23</td><td>1327.2110840755804</td><td>333642989.08683115</td><td>4.438075463320726</td><td>False</td><td>0.23</td><td>5.0</td><td>False</td><td>1</td><td>35.30175910789871</td><td>32.53375408345714</td><td>32.44397896932759</td><td>28.323385276329212</td><td>23.538861868398694</td></tr>\n",
       "<tr><td>0.22999999999999998</td><td>-0.7738864086880293</td><td>2.463836751915467e+23</td><td>1327.2110840755804</td><td>333642989.08683115</td><td>4.438075463320726</td><td>False</td><td>0.23</td><td>5.0</td><td>False</td><td>1</td><td>35.30175910789871</td><td>32.53375408345714</td><td>32.44397896932759</td><td>28.323385276329212</td><td>23.538861868398694</td></tr>\n",
       "<tr><td>0.22999999999999998</td><td>0.5594465913119708</td><td>2.463836751915467e+23</td><td>1327.2110840755804</td><td>333642989.08683115</td><td>4.438075463320726</td><td>False</td><td>0.23</td><td>5.0</td><td>False</td><td>1</td><td>35.30175910789871</td><td>32.53375408345714</td><td>32.44397896932759</td><td>28.323385276329212</td><td>23.538861868398694</td></tr>\n",
       "</table>"
      ],
      "text/plain": [
       "<Table length=17>\n",
       "        mass               log_a         ...      m_ubv_I      \n",
       "      solMass                            ...                   \n",
       "      float64             float64        ...      float64      \n",
       "------------------- -------------------- ... ------------------\n",
       "0.22999999999999998  -0.5072204086880292 ... 23.538861868398694\n",
       "0.22999999999999998 -0.37388640868802914 ... 23.538861868398694\n",
       "0.22999999999999998   0.9594465913119707 ... 23.538861868398694\n",
       "0.22999999999999998  0.29277959131197084 ... 23.538861868398694\n",
       "0.22999999999999998  -0.9072204086880291 ... 23.538861868398694\n",
       "0.22999999999999998   0.6927795913119708 ... 23.538861868398694\n",
       "0.22999999999999998   0.4261135913119709 ... 23.538861868398694\n",
       "0.22999999999999998   0.8261135913119708 ... 23.538861868398694\n",
       "0.22999999999999998   -0.240553408688029 ... 23.538861868398694\n",
       "0.22999999999999998 0.026113591311970996 ... 23.538861868398694\n",
       "0.22999999999999998  0.15944659131197092 ... 23.538861868398694\n",
       "0.22999999999999998  -0.6405534086880291 ... 23.538861868398694\n",
       "0.22999999999999998 -0.10722040868802907 ... 23.538861868398694\n",
       "0.22999999999999998   1.0927795913119707 ... 23.538861868398694\n",
       "0.22999999999999998  -1.0405534086880293 ... 23.538861868398694\n",
       "0.22999999999999998  -0.7738864086880293 ... 23.538861868398694\n",
       "0.22999999999999998   0.5594465913119708 ... 23.538861868398694"
      ]
     },
     "execution_count": 28,
     "metadata": {},
     "output_type": "execute_result"
    }
   ],
   "source": [
    "bad_line"
   ]
  },
  {
   "cell_type": "markdown",
   "metadata": {},
   "source": [
    "What sorts of characteristics (logg, Teff, L) can be causing it? Let's find out"
   ]
  },
  {
   "cell_type": "markdown",
   "metadata": {},
   "source": [
    "Is this the mystery compact remnant?"
   ]
  },
  {
   "cell_type": "code",
   "execution_count": 29,
   "metadata": {},
   "outputs": [
    {
     "data": {
      "text/html": [
       "&lt;Column name=&apos;phase&apos; dtype=&apos;float64&apos; length=1&gt;\n",
       "<table>\n",
       "<tr><td>5.0</td></tr>\n",
       "</table>"
      ],
      "text/plain": [
       "<Column name='phase' dtype='float64' length=1>\n",
       "5.0"
      ]
     },
     "execution_count": 29,
     "metadata": {},
     "output_type": "execute_result"
    }
   ],
   "source": [
    "np.unique(bad_line['phase'])"
   ]
  },
  {
   "cell_type": "markdown",
   "metadata": {},
   "source": [
    "Now, we actually do plots for the clusters that I have created."
   ]
  },
  {
   "cell_type": "code",
   "execution_count": 30,
   "metadata": {},
   "outputs": [
    {
     "name": "stderr",
     "output_type": "stream",
     "text": [
      "/opt/anaconda3/envs/astroconda/lib/python3.7/site-packages/ipykernel_launcher.py:7: RuntimeWarning: divide by zero encountered in log10\n",
      "  import sys\n"
     ]
    },
    {
     "data": {
      "text/plain": [
       "<matplotlib.legend.Legend at 0x7fb93274c470>"
      ]
     },
     "execution_count": 30,
     "metadata": {},
     "output_type": "execute_result"
    },
    {
     "data": {
      "image/png": "[encoded data removed]",
      "text/plain": [
       "<Figure size 432x288 with 1 Axes>"
      ]
     },
     "metadata": {
      "needs_background": "light"
     },
     "output_type": "display_data"
    }
   ],
   "source": [
    "# Plot the mass-luminosity relationship\n",
    "from astropy import constants as cs\n",
    "from astropy import units as u\n",
    "import numpy as np\n",
    "import matplotlib.pyplot as plt\n",
    "plt.plot((clus_1.star_systems['mass_current']), np.log10(clus_1.star_systems[\"L\"]), \"r.\", label=\"Binary_Cluster made from BPASS\", alpha =0.2)\n",
    "plt.plot((clus_1.companions['mass_current']), np.log10(clus_1.companions[\"L\"]), \"r.\", label=\"Binary_Cluster made from BPASS\", alpha = 0.2)\n",
    "plt.plot((clus_2.star_systems['mass_current']), np.log10(clus_2.star_systems[\"L\"]), \"b.\", label=\"Cluster made from MISTv.1\", alpha =0.2)\n",
    "plt.plot((clus_2.companions['mass_current']), np.log10(clus_2.companions[\"L\"]), \"b.\", label=\"Cluster made from MISTv.1\", alpha = 0.1)\n",
    "plt.xlabel(\"Current Mass in solar masses\")\n",
    "plt.ylabel(\"log(L in Watts)\")\n",
    "plt.title(\"Mass-logL of Cluster at solar metallicity and 10**7.5 years age\")\n",
    "plt.legend()\n",
    "# Rough pattern seems to fit. What's that line?"
   ]
  },
  {
   "cell_type": "code",
   "execution_count": 31,
   "metadata": {},
   "outputs": [
    {
     "data": {
      "text/html": [
       "&lt;Column name=&apos;mass_current&apos; dtype=&apos;float64&apos; length=117&gt;\n",
       "<table>\n",
       "<tr><td>3.19997</td></tr>\n",
       "<tr><td>6.299935</td></tr>\n",
       "<tr><td>6.697513</td></tr>\n",
       "<tr><td>4.79907</td></tr>\n",
       "<tr><td>4.0</td></tr>\n",
       "<tr><td>1.2</td></tr>\n",
       "<tr><td>0.92</td></tr>\n",
       "<tr><td>0.7</td></tr>\n",
       "<tr><td>3.09997</td></tr>\n",
       "<tr><td>6.48999</td></tr>\n",
       "<tr><td>2.8</td></tr>\n",
       "<tr><td>0.46</td></tr>\n",
       "<tr><td>...</td></tr>\n",
       "<tr><td>0.92</td></tr>\n",
       "<tr><td>1.38</td></tr>\n",
       "<tr><td>1.2</td></tr>\n",
       "<tr><td>1.1</td></tr>\n",
       "<tr><td>1.61</td></tr>\n",
       "<tr><td>3.85</td></tr>\n",
       "<tr><td>1.38</td></tr>\n",
       "<tr><td>1.65</td></tr>\n",
       "<tr><td>1.8</td></tr>\n",
       "<tr><td>1.8</td></tr>\n",
       "<tr><td>4.79907</td></tr>\n",
       "<tr><td>2.07</td></tr>\n",
       "</table>"
      ],
      "text/plain": [
       "<Column name='mass_current' dtype='float64' length=117>\n",
       " 3.19997\n",
       "6.299935\n",
       "6.697513\n",
       " 4.79907\n",
       "     4.0\n",
       "     1.2\n",
       "    0.92\n",
       "     0.7\n",
       " 3.09997\n",
       " 6.48999\n",
       "     2.8\n",
       "    0.46\n",
       "     ...\n",
       "    0.92\n",
       "    1.38\n",
       "     1.2\n",
       "     1.1\n",
       "    1.61\n",
       "    3.85\n",
       "    1.38\n",
       "    1.65\n",
       "     1.8\n",
       "     1.8\n",
       " 4.79907\n",
       "    2.07"
      ]
     },
     "execution_count": 31,
     "metadata": {},
     "output_type": "execute_result"
    }
   ],
   "source": [
    "clus_1.companions['mass_current']"
   ]
  },
  {
   "cell_type": "markdown",
   "metadata": {},
   "source": [
    "If you look at the star systems that each companion corresponds to, you will find them here. The numbers are indices from the star_systems table."
   ]
  },
  {
   "cell_type": "code",
   "execution_count": 32,
   "metadata": {},
   "outputs": [
    {
     "data": {
      "text/html": [
       "&lt;Column name=&apos;system_idx&apos; dtype=&apos;int64&apos; length=117&gt;\n",
       "<table>\n",
       "<tr><td>0</td></tr>\n",
       "<tr><td>0</td></tr>\n",
       "<tr><td>1</td></tr>\n",
       "<tr><td>2</td></tr>\n",
       "<tr><td>2</td></tr>\n",
       "<tr><td>3</td></tr>\n",
       "<tr><td>4</td></tr>\n",
       "<tr><td>5</td></tr>\n",
       "<tr><td>5</td></tr>\n",
       "<tr><td>6</td></tr>\n",
       "<tr><td>6</td></tr>\n",
       "<tr><td>7</td></tr>\n",
       "<tr><td>...</td></tr>\n",
       "<tr><td>93</td></tr>\n",
       "<tr><td>94</td></tr>\n",
       "<tr><td>95</td></tr>\n",
       "<tr><td>96</td></tr>\n",
       "<tr><td>97</td></tr>\n",
       "<tr><td>98</td></tr>\n",
       "<tr><td>99</td></tr>\n",
       "<tr><td>100</td></tr>\n",
       "<tr><td>101</td></tr>\n",
       "<tr><td>102</td></tr>\n",
       "<tr><td>102</td></tr>\n",
       "<tr><td>103</td></tr>\n",
       "</table>"
      ],
      "text/plain": [
       "<Column name='system_idx' dtype='int64' length=117>\n",
       "  0\n",
       "  0\n",
       "  1\n",
       "  2\n",
       "  2\n",
       "  3\n",
       "  4\n",
       "  5\n",
       "  5\n",
       "  6\n",
       "  6\n",
       "  7\n",
       "...\n",
       " 93\n",
       " 94\n",
       " 95\n",
       " 96\n",
       " 97\n",
       " 98\n",
       " 99\n",
       "100\n",
       "101\n",
       "102\n",
       "102\n",
       "103"
      ]
     },
     "execution_count": 32,
     "metadata": {},
     "output_type": "execute_result"
    }
   ],
   "source": [
    "clus_1.companions['system_idx']"
   ]
  },
  {
   "cell_type": "code",
   "execution_count": 33,
   "metadata": {},
   "outputs": [
    {
     "data": {
      "text/html": [
       "&lt;Column name=&apos;log_a&apos; dtype=&apos;float64&apos; length=117&gt;\n",
       "<table>\n",
       "<tr><td>0.9414030608572284</td></tr>\n",
       "<tr><td>0.6577439600087123</td></tr>\n",
       "<tr><td>0.6436006929192115</td></tr>\n",
       "<tr><td>1.0592990514553762</td></tr>\n",
       "<tr><td>-1.1185783144083126</td></tr>\n",
       "<tr><td>0.35891249185904495</td></tr>\n",
       "<tr><td>0.17423025298332484</td></tr>\n",
       "<tr><td>0.7781008671181844</td></tr>\n",
       "<tr><td>1.0897319026463854</td></tr>\n",
       "<tr><td>2.311742864510547</td></tr>\n",
       "<tr><td>0.44765439430059595</td></tr>\n",
       "<tr><td>0.4299539559985799</td></tr>\n",
       "<tr><td>...</td></tr>\n",
       "<tr><td>-0.9197425078819754</td></tr>\n",
       "<tr><td>0.8103221488722301</td></tr>\n",
       "<tr><td>0.7868100073711428</td></tr>\n",
       "<tr><td>-0.9385740786744043</td></tr>\n",
       "<tr><td>0.9413962168316641</td></tr>\n",
       "<tr><td>0.7930496040002555</td></tr>\n",
       "<tr><td>0.8576456189412733</td></tr>\n",
       "<tr><td>1.5246637378234014</td></tr>\n",
       "<tr><td>1.337628388509999</td></tr>\n",
       "<tr><td>1.0270948662899622</td></tr>\n",
       "<tr><td>1.467708256187263</td></tr>\n",
       "<tr><td>1.115327735498088</td></tr>\n",
       "</table>"
      ],
      "text/plain": [
       "<Column name='log_a' dtype='float64' length=117>\n",
       " 0.9414030608572284\n",
       " 0.6577439600087123\n",
       " 0.6436006929192115\n",
       " 1.0592990514553762\n",
       "-1.1185783144083126\n",
       "0.35891249185904495\n",
       "0.17423025298332484\n",
       " 0.7781008671181844\n",
       " 1.0897319026463854\n",
       "  2.311742864510547\n",
       "0.44765439430059595\n",
       " 0.4299539559985799\n",
       "                ...\n",
       "-0.9197425078819754\n",
       " 0.8103221488722301\n",
       " 0.7868100073711428\n",
       "-0.9385740786744043\n",
       " 0.9413962168316641\n",
       " 0.7930496040002555\n",
       " 0.8576456189412733\n",
       " 1.5246637378234014\n",
       "  1.337628388509999\n",
       " 1.0270948662899622\n",
       "  1.467708256187263\n",
       "  1.115327735498088"
      ]
     },
     "execution_count": 33,
     "metadata": {},
     "output_type": "execute_result"
    }
   ],
   "source": [
    "clus_1.companions['log_a']"
   ]
  },
  {
   "cell_type": "markdown",
   "metadata": {},
   "source": [
    "Where is that vertical line coming from?"
   ]
  },
  {
   "cell_type": "code",
   "execution_count": 34,
   "metadata": {},
   "outputs": [
    {
     "data": {
      "text/plain": [
       "<matplotlib.legend.Legend at 0x7fb902a0df28>"
      ]
     },
     "execution_count": 34,
     "metadata": {},
     "output_type": "execute_result"
    },
    {
     "data": {
      "image/png": "[encoded data removed]",
      "text/plain": [
       "<Figure size 432x288 with 1 Axes>"
      ]
     },
     "metadata": {
      "needs_background": "light"
     },
     "output_type": "display_data"
    }
   ],
   "source": [
    "# Plot the mass-luminosity relationship\n",
    "from astropy import constants as cs\n",
    "from astropy import units as u\n",
    "import matplotlib.pyplot as plt\n",
    "plt.plot(clus_1.star_systems['mass_current'], np.log10(clus_1.star_systems[\"L\"]), \"r.\", label=\"Binary_Cluster made from BPASS\", alpha =1)\n",
    "plt.xlabel(\"Current Mass in solar masses\")\n",
    "plt.ylabel(\"log(L/L_solar)\")\n",
    "plt.title(\"log-Mass-logL of Cluster at solar metallicity and 10**7.5 years age\")\n",
    "plt.legend()\n",
    "# Rough pattern seems to fit. What's that line?"
   ]
  },
  {
   "cell_type": "markdown",
   "metadata": {},
   "source": [
    "Now go back to the shape of the clusters' Color magnitude diagrams."
   ]
  },
  {
   "cell_type": "markdown",
   "metadata": {},
   "source": [
    "So if was the companions..."
   ]
  },
  {
   "cell_type": "code",
   "execution_count": 35,
   "metadata": {},
   "outputs": [
    {
     "data": {
      "text/plain": [
       "<matplotlib.legend.Legend at 0x7fb9112abe80>"
      ]
     },
     "execution_count": 35,
     "metadata": {},
     "output_type": "execute_result"
    },
    {
     "data": {
      "image/png": "[encoded data removed]",
      "text/plain": [
       "<Figure size 432x288 with 1 Axes>"
      ]
     },
     "metadata": {
      "needs_background": "light"
     },
     "output_type": "display_data"
    }
   ],
   "source": [
    "# Taking a look at the Binary Cluster vs Default Settings cluster Observer's HR Diagram\n",
    "# Remember to use a distance modulus!\n",
    "import matplotlib.pyplot as plt\n",
    "plt.plot(clus_1.star_systems['m_ubv_B']-clus_1.star_systems[\"m_ubv_V\"], clus_1.star_systems[\"m_ubv_V\"]-5*np.log10(100), \"r.\",label=\"BPASS isochrone\")\n",
    "plt.plot(clus_2.star_systems['m_ubv_B']-clus_2.star_systems[\"m_ubv_V\"], clus_2.star_systems[\"m_ubv_V\"]-5*np.log10(100), \"b+\", label=\"MISTv1\", alpha=0.1)\n",
    "plt.xlabel(\"B-V\")\n",
    "plt.ylabel(\"M_V\")\n",
    "plt.title(\"Color magnitude Diagram of clusters at solar metallicity and 10**7.5 years of age\")\n",
    "plt.gca().invert_yaxis()\n",
    "plt.legend()"
   ]
  },
  {
   "cell_type": "code",
   "execution_count": 36,
   "metadata": {},
   "outputs": [
    {
     "name": "stderr",
     "output_type": "stream",
     "text": [
      "/opt/anaconda3/envs/astroconda/lib/python3.7/site-packages/ipykernel_launcher.py:2: RuntimeWarning: divide by zero encountered in log10\n",
      "  \n"
     ]
    },
    {
     "data": {
      "text/plain": [
       "<matplotlib.legend.Legend at 0x7fb91120f780>"
      ]
     },
     "execution_count": 36,
     "metadata": {},
     "output_type": "execute_result"
    },
    {
     "data": {
      "image/png": "[encoded data removed]",
      "text/plain": [
       "<Figure size 432x288 with 1 Axes>"
      ]
     },
     "metadata": {
      "needs_background": "light"
     },
     "output_type": "display_data"
    }
   ],
   "source": [
    "import matplotlib.pyplot as plt\n",
    "plt.plot(np.log10(clus_1.companions['Teff']), np.log10(clus_1.companions[\"L\"]), \"r.\",label=\"BPASS isochrone\", alpha=0.5)\n",
    "plt.plot(np.log10(clus_2.companions['Teff']), np.log10(clus_2.companions[\"L\"]), \"b+\", alpha=0.15)\n",
    "plt.plot(np.log10(clus_1.star_systems['Teff']), np.log10(clus_1.star_systems[\"L\"]), \"r.\",label=\"BPASS isochrone\", alpha=0.5)\n",
    "plt.plot(np.log10(clus_2.star_systems['Teff']), np.log10(clus_2.star_systems[\"L\"]), \"b+\", label=\"MISTv1\", alpha=0.15)\n",
    "plt.xlabel(\"log(T in kelvin)\")\n",
    "plt.ylabel(\"log(L in watts)\")\n",
    "plt.title(\"Color magnitude Diagram of clusters at solar metallicity and 10**7.5 years age\")\n",
    "plt.gca().invert_xaxis()\n",
    "plt.legend()"
   ]
  },
  {
   "cell_type": "markdown",
   "metadata": {},
   "source": [
    "Looking at which stars are the white dwarves?"
   ]
  },
  {
   "cell_type": "code",
   "execution_count": 37,
   "metadata": {},
   "outputs": [
    {
     "data": {
      "text/plain": [
       "array([], dtype=int64)"
      ]
     },
     "execution_count": 37,
     "metadata": {},
     "output_type": "execute_result"
    }
   ],
   "source": [
    "import numpy as np\n",
    "np.where(clus_1.star_systems['phase']==101.0)[0]"
   ]
  },
  {
   "cell_type": "markdown",
   "metadata": {},
   "source": [
    "Black Holes?"
   ]
  },
  {
   "cell_type": "code",
   "execution_count": 38,
   "metadata": {},
   "outputs": [
    {
     "data": {
      "text/plain": [
       "array([], dtype=int64)"
      ]
     },
     "execution_count": 38,
     "metadata": {},
     "output_type": "execute_result"
    }
   ],
   "source": [
    "np.where(clus_1.star_systems['phase']==103.0)[0]"
   ]
  },
  {
   "cell_type": "markdown",
   "metadata": {},
   "source": [
    "Do I see any neutron stars?"
   ]
  },
  {
   "cell_type": "code",
   "execution_count": 39,
   "metadata": {},
   "outputs": [
    {
     "data": {
      "text/plain": [
       "array([], dtype=int64)"
      ]
     },
     "execution_count": 39,
     "metadata": {},
     "output_type": "execute_result"
    }
   ],
   "source": [
    "np.where(clus_1.star_systems['phase']==102.0)[0]"
   ]
  },
  {
   "cell_type": "markdown",
   "metadata": {},
   "source": [
    "Making sure that I am getting enough star mass for each cluster. (2000 solar masses was the goal)"
   ]
  },
  {
   "cell_type": "code",
   "execution_count": 40,
   "metadata": {},
   "outputs": [
    {
     "data": {
      "text/plain": [
       "1624.283696780787"
      ]
     },
     "execution_count": 40,
     "metadata": {},
     "output_type": "execute_result"
    }
   ],
   "source": [
    "clus_1.star_systems['systemMass'].sum()"
   ]
  },
  {
   "cell_type": "code",
   "execution_count": 41,
   "metadata": {},
   "outputs": [
    {
     "data": {
      "text/plain": [
       "1897.682899959565"
      ]
     },
     "execution_count": 41,
     "metadata": {},
     "output_type": "execute_result"
    }
   ],
   "source": [
    "clus_2.star_systems['systemMass'].sum()"
   ]
  },
  {
   "cell_type": "markdown",
   "metadata": {},
   "source": [
    "I want to see what the raw BPASS models say with regards to the color magnitude diagram for my secondaries. BPASS gives me the secondary star magnitudes. For some reason, I see some sort of shift of the overall trend. Also no vertical lines."
   ]
  },
  {
   "cell_type": "markdown",
   "metadata": {},
   "source": []
  }
 ],
 "metadata": {
  "kernelspec": {
   "display_name": "astroconda",
   "language": "python",
   "name": "astroconda"
  },
  "language_info": {
   "codemirror_mode": {
    "name": "ipython",
    "version": 3
   },
   "file_extension": ".py",
   "mimetype": "text/x-python",
   "name": "python",
   "nbconvert_exporter": "python",
   "pygments_lexer": "ipython3",
   "version": "3.7.3"
  }
 },
 "nbformat": 4,
 "nbformat_minor": 2
}
