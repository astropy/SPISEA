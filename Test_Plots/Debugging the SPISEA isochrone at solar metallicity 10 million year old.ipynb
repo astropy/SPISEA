{
 "cells": [
  {
   "cell_type": "markdown",
   "metadata": {},
   "source": [
    "## Testing the BPASS isochrone at 10^7 years age.\n",
    "In this BPASS isochrone and cluster plot, I go over the BPASS isochrone for 10^7 years age, solar metallicity, AKs=0.7, and distance of 100 parsecs from Earth. From the isochrone and cluster, we discuss several plots such as the log_g frequency distribution of the isochrone, the color magnitude diagram (B-V vs M_V), and the mass luminosity relationshi of the cluster.\n",
    "Important note when I use M_V, it is a pseudo-absolute magnitude. I.e. it is basically absolute magnitude without taking into account extinction.\n",
    "\n",
    "Formula for pseudo-absolute magnitude:\n",
    "pseudo-M_V = m_V - 5$log_{10}$(distance to cluster/ 10 pc)"
   ]
  },
  {
   "cell_type": "code",
   "execution_count": 1,
   "metadata": {},
   "outputs": [
    {
     "name": "stderr",
     "output_type": "stream",
     "text": [
      "/opt/anaconda3/envs/astroconda/lib/python3.7/site-packages/pysynphot/locations.py:346: UserWarning: Extinction files not found in /g/lu/models/cdbs/extinction\n",
      "  warnings.warn('Extinction files not found in %s' % (extdir, ))\n",
      "/opt/anaconda3/envs/astroconda/lib/python3.7/site-packages/pysynphot/refs.py:125: UserWarning: No thermal tables found, no thermal calculations can be performed. No files found for /g/lu/models/cdbs/mtab/*_tmt.fits\n",
      "  'no thermal calculations can be performed. ' + str(e))\n",
      "/opt/anaconda3/envs/astroconda/lib/python3.7/site-packages/astropy/units/quantity.py:477: RuntimeWarning: invalid value encountered in true_divide\n",
      "  result = super().__array_ufunc__(function, method, *arrays, **kwargs)\n",
      "/u/ryotainagaki/Desktop/PyPopStar/spisea/evolution.py:1771: RuntimeWarning: overflow encountered in power\n",
      "  (1 / cs.au) * un.m)\n",
      "/opt/anaconda3/envs/astroconda/lib/python3.7/site-packages/astropy/table/column.py:1020: RuntimeWarning: invalid value encountered in greater\n",
      "  result = getattr(super(), op)(other)\n",
      "/opt/anaconda3/envs/astroconda/lib/python3.7/site-packages/astropy/table/column.py:1020: RuntimeWarning: invalid value encountered in less_equal\n",
      "  result = getattr(super(), op)(other)\n",
      "/opt/anaconda3/envs/astroconda/lib/python3.7/site-packages/astropy/units/quantity.py:477: RuntimeWarning: divide by zero encountered in true_divide\n",
      "  result = super().__array_ufunc__(function, method, *arrays, **kwargs)\n"
     ]
    },
    {
     "name": "stdout",
     "output_type": "stream",
     "text": [
      "Changing to T= 50000 for T= 61325 logg=4.18\n",
      "Changing to logg=5.00 for T= 61325 logg=4.18\n",
      "Changing to T= 50000 for T=102953 logg=5.41\n",
      "Changing to logg=5.00 for T=102953 logg=5.41\n",
      "Changing to T= 50000 for T=102716 logg=5.41\n",
      "Changing to logg=5.00 for T=102716 logg=5.41\n",
      "Changing to T= 50000 for T= 55505 logg=4.24\n",
      "Changing to logg=5.00 for T= 55505 logg=4.24\n",
      "Changing to T= 50000 for T=103555 logg=5.41\n",
      "Changing to logg=5.00 for T=103555 logg=5.41\n",
      "Changing to logg=4.00 for T= 31478 logg=3.74\n",
      "Changing to T= 50000 for T=102209 logg=5.40\n",
      "Changing to logg=5.00 for T=102209 logg=5.40\n",
      "Changing to T= 50000 for T= 67205 logg=4.32\n",
      "Changing to logg=5.00 for T= 67205 logg=4.32\n",
      "Changing to logg=3.00 for T= 22218 logg=2.77\n",
      "Changing to T= 50000 for T= 71269 logg=4.77\n",
      "Changing to logg=5.00 for T= 71269 logg=4.77\n",
      "Changing to logg=5.00 for T= 49043 logg=4.00\n",
      "Changing to T= 50000 for T= 57106 logg=4.30\n",
      "Changing to logg=5.00 for T= 57106 logg=4.30\n",
      "Changing to T= 50000 for T= 65121 logg=4.26\n",
      "Changing to logg=5.00 for T= 65121 logg=4.26\n",
      "Changing to T= 50000 for T=101887 logg=5.41\n",
      "Changing to logg=5.00 for T=101887 logg=5.41\n",
      "Changing to T= 50000 for T= 78170 logg=5.01\n",
      "Changing to logg=5.00 for T= 78170 logg=5.01\n",
      "Changing to T= 50000 for T= 67022 logg=4.33\n",
      "Changing to logg=5.00 for T= 67022 logg=4.33\n",
      "Changing to T= 50000 for T=101672 logg=5.40\n",
      "Changing to logg=5.00 for T=101672 logg=5.40\n",
      "Changing to T= 50000 for T= 55242 logg=3.98\n",
      "Changing to logg=5.00 for T= 55242 logg=3.98\n",
      "Changing to logg=4.00 for T= 32053 logg=3.87\n",
      "Changing to T= 50000 for T=103633 logg=5.41\n",
      "Changing to logg=5.00 for T=103633 logg=5.41\n",
      "Changing to T= 50000 for T=101414 logg=5.41\n",
      "Changing to logg=5.00 for T=101414 logg=5.41\n",
      "Changing to T= 50000 for T= 65996 logg=4.30\n",
      "Changing to logg=5.00 for T= 65996 logg=4.30\n",
      "Changing to T= 50000 for T= 56169 logg=4.27\n",
      "Changing to logg=5.00 for T= 56169 logg=4.27\n",
      "Changing to T= 50000 for T=170279 logg=5.84\n",
      "Changing to logg=5.00 for T=170279 logg=5.84\n",
      "Changing to T= 50000 for T= 66161 logg=4.60\n",
      "Changing to logg=5.00 for T= 66161 logg=4.60\n",
      "Changing to T= 50000 for T= 52235 logg=4.13\n",
      "Changing to logg=5.00 for T= 52235 logg=4.13\n",
      "Changing to T= 50000 for T= 60392 logg=4.41\n",
      "Changing to logg=5.00 for T= 60392 logg=4.41\n",
      "Changing to T= 50000 for T= 66595 logg=4.30\n",
      "Changing to logg=5.00 for T= 66595 logg=4.30\n",
      "Changing to T= 50000 for T= 68127 logg=4.34\n",
      "Changing to logg=5.00 for T= 68127 logg=4.34\n",
      "Changing to logg=4.50 for T= 44431 logg=3.82\n",
      "Changing to T= 50000 for T= 69390 logg=4.71\n",
      "Changing to logg=5.00 for T= 69390 logg=4.71\n",
      "Changing to T= 50000 for T= 75507 logg=4.92\n",
      "Changing to logg=5.00 for T= 75507 logg=4.92\n",
      "Changing to T= 50000 for T=102193 logg=5.41\n",
      "Changing to logg=5.00 for T=102193 logg=5.41\n",
      "Changing to T= 50000 for T=101391 logg=5.41\n",
      "Changing to logg=5.00 for T=101391 logg=5.41\n",
      "Changing to T= 50000 for T= 82065 logg=4.94\n",
      "Changing to logg=5.00 for T= 82065 logg=4.94\n",
      "Changing to T= 50000 for T=102438 logg=5.42\n",
      "Changing to logg=5.00 for T=102438 logg=5.42\n",
      "Changing to T= 50000 for T= 65203 logg=4.27\n",
      "Changing to logg=5.00 for T= 65203 logg=4.27\n",
      "Changing to T= 50000 for T=103443 logg=5.40\n",
      "Changing to logg=5.00 for T=103443 logg=5.40\n",
      "Changing to T= 50000 for T= 80369 logg=4.61\n",
      "Changing to logg=5.00 for T= 80369 logg=4.61\n",
      "Changing to T= 50000 for T= 67344 logg=4.32\n",
      "Changing to logg=5.00 for T= 67344 logg=4.32\n",
      "Changing to logg=4.00 for T= 32382 logg=3.55\n",
      "Changing to T= 50000 for T= 67916 logg=4.33\n",
      "Changing to logg=5.00 for T= 67916 logg=4.33\n",
      "Changing to logg=4.50 for T= 40176 logg=3.63\n",
      "Changing to T= 50000 for T=168846 logg=5.83\n",
      "Changing to logg=5.00 for T=168846 logg=5.83\n",
      "Changing to T= 50000 for T= 95984 logg=4.82\n",
      "Changing to logg=5.00 for T= 95984 logg=4.82\n",
      "Changing to T= 50000 for T= 68468 logg=4.34\n",
      "Changing to logg=5.00 for T= 68468 logg=4.34\n",
      "Changing to T= 50000 for T= 67473 logg=4.32\n",
      "Changing to logg=5.00 for T= 67473 logg=4.32\n",
      "Changing to T= 50000 for T= 83044 logg=5.15\n",
      "Changing to logg=5.00 for T= 83044 logg=5.15\n",
      "Changing to logg=4.00 for T= 35763 logg=3.88\n",
      "Changing to T= 50000 for T= 65074 logg=4.27\n",
      "Changing to logg=5.00 for T= 65074 logg=4.27\n",
      "Changing to T= 50000 for T= 68547 logg=4.68\n",
      "Changing to logg=5.00 for T= 68547 logg=4.68\n",
      "Changing to logg=4.50 for T= 45606 logg=3.87\n",
      "Changing to T= 50000 for T=102160 logg=5.40\n",
      "Changing to logg=5.00 for T=102160 logg=5.40\n",
      "Changing to T= 50000 for T=101506 logg=5.42\n",
      "Changing to logg=5.00 for T=101506 logg=5.42\n",
      "Changing to logg=3.00 for T= 21306 logg=2.99\n",
      "Changing to T= 50000 for T= 67360 logg=4.33\n",
      "Changing to logg=5.00 for T= 67360 logg=4.33\n",
      "Changing to logg=4.00 for T= 34157 logg=3.71\n",
      "Changing to T= 50000 for T=102527 logg=5.39\n",
      "Changing to logg=5.00 for T=102527 logg=5.39\n",
      "Changing to T= 50000 for T= 69440 logg=4.37\n",
      "Changing to logg=5.00 for T= 69440 logg=4.37\n",
      "Changing to T= 50000 for T= 66876 logg=4.31\n",
      "Changing to logg=5.00 for T= 66876 logg=4.31\n",
      "Changing to T= 50000 for T=103674 logg=5.41\n",
      "Changing to logg=5.00 for T=103674 logg=5.41\n",
      "Changing to T= 50000 for T=102282 logg=5.39\n",
      "Changing to logg=5.00 for T=102282 logg=5.39\n",
      "Changing to T= 50000 for T= 84300 logg=4.58\n",
      "Changing to logg=5.00 for T= 84300 logg=4.58\n",
      "Changing to T= 50000 for T= 69107 logg=4.36\n",
      "Changing to logg=5.00 for T= 69107 logg=4.36\n",
      "Changing to logg=4.50 for T= 46078 logg=3.89\n",
      "Changing to T= 50000 for T= 68735 logg=4.35\n",
      "Changing to logg=5.00 for T= 68735 logg=4.35\n",
      "Changing to T= 50000 for T= 65130 logg=4.27\n",
      "Changing to logg=5.00 for T= 65130 logg=4.27\n",
      "Changing to T= 50000 for T=101747 logg=5.38\n",
      "Changing to logg=5.00 for T=101747 logg=5.38\n",
      "Changing to T= 50000 for T=102113 logg=5.40\n",
      "Changing to logg=5.00 for T=102113 logg=5.40\n",
      "Changing to T= 50000 for T= 61608 logg=4.45\n",
      "Changing to logg=5.00 for T= 61608 logg=4.45\n",
      "Changing to logg=4.00 for T= 31761 logg=3.51\n",
      "Changing to T= 50000 for T= 59627 logg=4.39\n",
      "Changing to logg=5.00 for T= 59627 logg=4.39\n",
      "Changing to T= 50000 for T= 85743 logg=5.01\n",
      "Changing to logg=5.00 for T= 85743 logg=5.01\n",
      "Changing to T= 50000 for T=103060 logg=5.41\n",
      "Changing to logg=5.00 for T=103060 logg=5.41\n",
      "Changing to T= 50000 for T= 69725 logg=4.38\n",
      "Changing to logg=5.00 for T= 69725 logg=4.38\n",
      "Changing to T= 50000 for T= 67185 logg=4.32\n",
      "Changing to logg=5.00 for T= 67185 logg=4.32\n",
      "Changing to T= 50000 for T= 68431 logg=4.34\n",
      "Changing to logg=5.00 for T= 68431 logg=4.34\n",
      "Changing to T= 50000 for T=102433 logg=5.39\n",
      "Changing to logg=5.00 for T=102433 logg=5.39\n",
      "Changing to T= 50000 for T=103748 logg=5.41\n",
      "Changing to logg=5.00 for T=103748 logg=5.41\n",
      "Changing to T= 50000 for T= 68997 logg=4.70\n",
      "Changing to logg=5.00 for T= 68997 logg=4.70\n",
      "Changing to T= 50000 for T= 65654 logg=4.28\n",
      "Changing to logg=5.00 for T= 65654 logg=4.28\n",
      "Changing to T= 50000 for T= 64973 logg=4.27\n",
      "Changing to logg=5.00 for T= 64973 logg=4.27\n",
      "Changing to T= 50000 for T= 82465 logg=5.17\n",
      "Changing to logg=5.00 for T= 82465 logg=5.17\n",
      "Changing to logg=3.50 for T= 26974 logg=3.45\n",
      "Changing to logg=4.50 for T= 43710 logg=3.79\n",
      "Changing to T= 50000 for T= 54789 logg=4.22\n",
      "Changing to logg=5.00 for T= 54789 logg=4.22\n",
      "Changing to logg=4.50 for T= 46562 logg=3.91\n",
      "Changing to T= 50000 for T=101384 logg=5.42\n",
      "Changing to logg=5.00 for T=101384 logg=5.42\n",
      "Changing to T= 50000 for T= 75950 logg=4.93\n",
      "Changing to logg=5.00 for T= 75950 logg=4.93\n",
      "Changing to logg=4.00 for T= 32746 logg=3.73\n",
      "Changing to T= 50000 for T=101838 logg=5.38\n",
      "Changing to logg=5.00 for T=101838 logg=5.38\n",
      "Changing to logg=4.00 for T= 32875 logg=3.84\n",
      "Changing to logg=4.00 for T= 34156 logg=3.75\n",
      "Changing to T= 50000 for T= 67151 logg=4.31\n",
      "Changing to logg=5.00 for T= 67151 logg=4.31\n",
      "Changing to T= 50000 for T= 67318 logg=4.32\n",
      "Changing to logg=5.00 for T= 67318 logg=4.32\n",
      "Changing to T= 50000 for T=103240 logg=5.41\n",
      "Changing to logg=5.00 for T=103240 logg=5.41\n",
      "Changing to T= 50000 for T= 69920 logg=4.38\n",
      "Changing to logg=5.00 for T= 69920 logg=4.38\n",
      "Changing to logg=4.00 for T= 35293 logg=3.85\n",
      "Changing to T= 50000 for T=101695 logg=5.38\n",
      "Changing to logg=5.00 for T=101695 logg=5.38\n",
      "Changing to T= 50000 for T= 65822 logg=4.29\n",
      "Changing to logg=5.00 for T= 65822 logg=4.29\n",
      "Changing to T= 50000 for T= 67582 logg=4.33\n",
      "Changing to logg=5.00 for T= 67582 logg=4.33\n",
      "Changing to T= 50000 for T= 65433 logg=4.28\n",
      "Changing to logg=5.00 for T= 65433 logg=4.28\n"
     ]
    },
    {
     "name": "stdout",
     "output_type": "stream",
     "text": [
      "Changing to T= 50000 for T=102922 logg=5.42\n",
      "Changing to logg=5.00 for T=102922 logg=5.42\n",
      "Changing to T= 50000 for T= 67624 logg=4.65\n",
      "Changing to logg=5.00 for T= 67624 logg=4.65\n",
      "Changing to T= 50000 for T= 67593 logg=4.33\n",
      "Changing to logg=5.00 for T= 67593 logg=4.33\n",
      "Changing to logg=4.50 for T= 43082 logg=3.76\n",
      "Changing to T= 50000 for T=102537 logg=5.40\n",
      "Changing to logg=5.00 for T=102537 logg=5.40\n",
      "Changing to T= 50000 for T= 52802 logg=3.95\n",
      "Changing to logg=5.00 for T= 52802 logg=3.95\n",
      "Changing to T= 50000 for T=102440 logg=5.41\n",
      "Changing to logg=5.00 for T=102440 logg=5.41\n",
      "Changing to T= 50000 for T= 91289 logg=5.38\n",
      "Changing to logg=5.00 for T= 91289 logg=5.38\n",
      "Changing to T= 50000 for T= 67806 logg=4.33\n",
      "Changing to logg=5.00 for T= 67806 logg=4.33\n",
      "Changing to T= 50000 for T= 80581 logg=5.10\n",
      "Changing to logg=5.00 for T= 80581 logg=5.10\n",
      "Changing to T= 50000 for T= 67630 logg=4.33\n",
      "Changing to logg=5.00 for T= 67630 logg=4.33\n",
      "Changing to logg=4.50 for T= 44663 logg=3.83\n",
      "Changing to T= 50000 for T= 83778 logg=4.69\n",
      "Changing to logg=5.00 for T= 83778 logg=4.69\n",
      "Changing to T= 50000 for T= 67151 logg=4.32\n",
      "Changing to logg=5.00 for T= 67151 logg=4.32\n",
      "Changing to T= 50000 for T= 50619 logg=4.06\n",
      "Changing to logg=5.00 for T= 50619 logg=4.06\n",
      "Changing to T= 50000 for T= 59869 logg=4.39\n",
      "Changing to logg=5.00 for T= 59869 logg=4.39\n",
      "Changing to T= 50000 for T=102009 logg=5.40\n",
      "Changing to logg=5.00 for T=102009 logg=5.40\n",
      "Changing to logg=3.50 for T= 27580 logg=3.14\n",
      "Changing to T= 50000 for T= 56171 logg=4.27\n",
      "Changing to logg=5.00 for T= 56171 logg=4.27\n",
      "Changing to T= 50000 for T=102040 logg=5.39\n",
      "Changing to logg=5.00 for T=102040 logg=5.39\n",
      "Changing to T= 50000 for T= 66141 logg=4.29\n",
      "Changing to logg=5.00 for T= 66141 logg=4.29\n",
      "Changing to T= 50000 for T=109252 logg=5.51\n",
      "Changing to logg=5.00 for T=109252 logg=5.51\n",
      "Changing to T= 50000 for T= 61844 logg=4.19\n",
      "Changing to logg=5.00 for T= 61844 logg=4.19\n",
      "Changing to T= 50000 for T= 61191 logg=4.44\n",
      "Changing to logg=5.00 for T= 61191 logg=4.44\n",
      "Changing to T= 50000 for T=103183 logg=5.45\n",
      "Changing to logg=5.00 for T=103183 logg=5.45\n",
      "Changing to T= 50000 for T=102237 logg=5.40\n",
      "Changing to logg=5.00 for T=102237 logg=5.40\n",
      "Changing to logg=4.00 for T= 34489 logg=3.74\n",
      "Changing to T= 50000 for T= 64999 logg=4.26\n",
      "Changing to logg=5.00 for T= 64999 logg=4.26\n",
      "Changing to T= 50000 for T=101513 logg=5.42\n",
      "Changing to logg=5.00 for T=101513 logg=5.42\n",
      "Changing to T= 50000 for T=102582 logg=5.41\n",
      "Changing to logg=5.00 for T=102582 logg=5.41\n",
      "Changing to T= 50000 for T= 66322 logg=4.29\n",
      "Changing to logg=5.00 for T= 66322 logg=4.29\n",
      "Changing to T= 50000 for T= 83603 logg=5.19\n",
      "Changing to logg=5.00 for T= 83603 logg=5.19\n",
      "Changing to T= 50000 for T= 65755 logg=4.28\n",
      "Changing to logg=5.00 for T= 65755 logg=4.28\n",
      "Changing to T= 50000 for T= 69250 logg=4.36\n",
      "Changing to logg=5.00 for T= 69250 logg=4.36\n",
      "Changing to T= 50000 for T=101623 logg=5.42\n",
      "Changing to logg=5.00 for T=101623 logg=5.42\n",
      "Changing to T= 50000 for T= 67149 logg=4.32\n",
      "Changing to logg=5.00 for T= 67149 logg=4.32\n",
      "Changing to T= 50000 for T= 61468 logg=4.45\n",
      "Changing to logg=5.00 for T= 61468 logg=4.45\n",
      "Changing to T= 50000 for T=101277 logg=5.41\n",
      "Changing to logg=5.00 for T=101277 logg=5.41\n",
      "Changing to logg=3.00 for T= 20951 logg=2.96\n",
      "Changing to T= 50000 for T= 69328 logg=4.36\n",
      "Changing to logg=5.00 for T= 69328 logg=4.36\n",
      "Changing to T= 50000 for T=103870 logg=5.41\n",
      "Changing to logg=5.00 for T=103870 logg=5.41\n",
      "Changing to T= 50000 for T= 68096 logg=4.34\n",
      "Changing to logg=5.00 for T= 68096 logg=4.34\n",
      "Changing to T= 50000 for T= 76206 logg=4.80\n",
      "Changing to logg=5.00 for T= 76206 logg=4.80\n",
      "Changing to T= 50000 for T=101368 logg=5.42\n",
      "Changing to logg=5.00 for T=101368 logg=5.42\n",
      "Changing to T= 50000 for T= 79287 logg=4.87\n",
      "Changing to logg=5.00 for T= 79287 logg=4.87\n",
      "Changing to T= 50000 for T= 52571 logg=4.14\n",
      "Changing to logg=5.00 for T= 52571 logg=4.14\n",
      "Changing to T= 50000 for T=110499 logg=5.22\n",
      "Changing to logg=5.00 for T=110499 logg=5.22\n",
      "Changing to T= 50000 for T= 81204 logg=4.62\n",
      "Changing to logg=5.00 for T= 81204 logg=4.62\n",
      "Changing to T= 50000 for T= 61518 logg=4.45\n",
      "Changing to logg=5.00 for T= 61518 logg=4.45\n",
      "Changing to T= 50000 for T= 61100 logg=4.37\n",
      "Changing to logg=5.00 for T= 61100 logg=4.37\n",
      "Changing to T= 50000 for T=103193 logg=5.40\n",
      "Changing to logg=5.00 for T=103193 logg=5.40\n",
      "Changing to T= 50000 for T=102134 logg=5.40\n",
      "Changing to logg=5.00 for T=102134 logg=5.40\n",
      "Changing to logg=4.50 for T= 44222 logg=3.81\n",
      "Changing to T= 50000 for T= 77190 logg=4.51\n",
      "Changing to logg=5.00 for T= 77190 logg=4.51\n",
      "Changing to T= 50000 for T= 56498 logg=4.28\n",
      "Changing to logg=5.00 for T= 56498 logg=4.28\n",
      "Changing to T= 50000 for T= 94724 logg=5.40\n",
      "Changing to logg=5.00 for T= 94724 logg=5.40\n",
      "Changing to T= 50000 for T= 68000 logg=4.33\n",
      "Changing to logg=5.00 for T= 68000 logg=4.33\n",
      "Changing to T= 50000 for T= 85889 logg=5.01\n",
      "Changing to logg=5.00 for T= 85889 logg=5.01\n",
      "Changing to logg=3.50 for T= 28262 logg=3.29\n",
      "Changing to logg=5.00 for T= 49825 logg=4.03\n",
      "Changing to T= 50000 for T=103464 logg=5.41\n",
      "Changing to logg=5.00 for T=103464 logg=5.41\n",
      "Changing to T= 50000 for T= 92805 logg=5.39\n",
      "Changing to logg=5.00 for T= 92805 logg=5.39\n",
      "Changing to T= 50000 for T=172330 logg=5.86\n",
      "Changing to logg=5.00 for T=172330 logg=5.86\n",
      "Changing to T= 50000 for T= 76554 logg=4.95\n",
      "Changing to logg=5.00 for T= 76554 logg=4.95\n",
      "Changing to T= 50000 for T=103295 logg=5.41\n",
      "Changing to logg=5.00 for T=103295 logg=5.41\n",
      "Changing to T= 50000 for T=102527 logg=5.40\n",
      "Changing to logg=5.00 for T=102527 logg=5.40\n",
      "Changing to T= 50000 for T= 72947 logg=4.83\n",
      "Changing to logg=5.00 for T= 72947 logg=4.83\n",
      "Changing to T= 50000 for T= 93573 logg=5.40\n",
      "Changing to logg=5.00 for T= 93573 logg=5.40\n",
      "Changing to T= 50000 for T= 71698 logg=4.79\n",
      "Changing to logg=5.00 for T= 71698 logg=4.79\n",
      "Changing to T= 50000 for T= 69859 logg=4.38\n",
      "Changing to logg=5.00 for T= 69859 logg=4.38\n",
      "Changing to T= 50000 for T= 62689 logg=4.49\n",
      "Changing to logg=5.00 for T= 62689 logg=4.49\n",
      "Changing to logg=4.50 for T= 42930 logg=3.76\n",
      "Changing to logg=4.50 for T= 46746 logg=3.91\n",
      "Changing to T= 50000 for T=101974 logg=5.40\n",
      "Changing to logg=5.00 for T=101974 logg=5.40\n",
      "Changing to T= 50000 for T= 65131 logg=4.26\n",
      "Changing to logg=5.00 for T= 65131 logg=4.26\n",
      "Changing to logg=4.50 for T= 45540 logg=3.87\n",
      "Changing to logg=4.50 for T= 47669 logg=3.95\n",
      "Changing to T= 50000 for T=102197 logg=5.40\n",
      "Changing to logg=5.00 for T=102197 logg=5.40\n",
      "Changing to T= 50000 for T=132468 logg=5.53\n",
      "Changing to logg=5.00 for T=132468 logg=5.53\n",
      "Changing to T= 50000 for T=102991 logg=5.41\n",
      "Changing to logg=5.00 for T=102991 logg=5.41\n",
      "Changing to T= 50000 for T= 67855 logg=4.34\n",
      "Changing to logg=5.00 for T= 67855 logg=4.34\n",
      "Changing to T= 50000 for T= 66968 logg=4.31\n",
      "Changing to logg=5.00 for T= 66968 logg=4.31\n",
      "Changing to T= 50000 for T= 67324 logg=4.32\n",
      "Changing to logg=5.00 for T= 67324 logg=4.32\n",
      "Changing to T= 50000 for T= 92342 logg=5.39\n",
      "Changing to logg=5.00 for T= 92342 logg=5.39\n",
      "Changing to T= 50000 for T=163298 logg=5.77\n",
      "Changing to logg=5.00 for T=163298 logg=5.77\n",
      "Changing to T= 50000 for T= 79066 logg=4.86\n",
      "Changing to logg=5.00 for T= 79066 logg=4.86\n",
      "Changing to T= 50000 for T=102400 logg=5.42\n",
      "Changing to logg=5.00 for T=102400 logg=5.42\n",
      "Changing to logg=3.50 for T= 27462 logg=2.95\n",
      "Changing to T= 50000 for T=170381 logg=5.84\n",
      "Changing to logg=5.00 for T=170381 logg=5.84\n",
      "Changing to T= 50000 for T= 67075 logg=4.31\n",
      "Changing to logg=5.00 for T= 67075 logg=4.31\n",
      "Changing to T= 50000 for T= 57582 logg=4.32\n",
      "Changing to logg=5.00 for T= 57582 logg=4.32\n",
      "Changing to T= 50000 for T=102849 logg=5.40\n",
      "Changing to logg=5.00 for T=102849 logg=5.40\n",
      "Changing to T= 50000 for T=101871 logg=5.40\n",
      "Changing to logg=5.00 for T=101871 logg=5.40\n",
      "Changing to T= 50000 for T=102948 logg=5.41\n",
      "Changing to logg=5.00 for T=102948 logg=5.41\n",
      "Changing to T= 50000 for T= 65569 logg=4.28\n",
      "Changing to logg=5.00 for T= 65569 logg=4.28\n",
      "Changing to T= 50000 for T= 63838 logg=4.53\n",
      "Changing to logg=5.00 for T= 63838 logg=4.53\n",
      "Changing to T= 50000 for T= 63810 logg=4.24\n",
      "Changing to logg=5.00 for T= 63810 logg=4.24\n",
      "Changing to T= 50000 for T= 79299 logg=5.03\n",
      "Changing to logg=5.00 for T= 79299 logg=5.03\n",
      "Changing to T= 50000 for T=102249 logg=5.40\n",
      "Changing to logg=5.00 for T=102249 logg=5.40\n"
     ]
    },
    {
     "name": "stdout",
     "output_type": "stream",
     "text": [
      "Changing to T= 50000 for T=103314 logg=5.40\n",
      "Changing to logg=5.00 for T=103314 logg=5.40\n",
      "Changing to T= 50000 for T= 65749 logg=4.28\n",
      "Changing to logg=5.00 for T= 65749 logg=4.28\n",
      "Changing to T= 50000 for T= 93233 logg=5.17\n",
      "Changing to logg=5.00 for T= 93233 logg=5.17\n",
      "Changing to T= 50000 for T=103409 logg=5.41\n",
      "Changing to logg=5.00 for T=103409 logg=5.41\n",
      "Changing to T= 50000 for T=102056 logg=5.41\n",
      "Changing to logg=5.00 for T=102056 logg=5.41\n",
      "Changing to T= 50000 for T= 65967 logg=4.28\n",
      "Changing to logg=5.00 for T= 65967 logg=4.28\n",
      "Changing to T= 50000 for T=103302 logg=5.45\n",
      "Changing to logg=5.00 for T=103302 logg=5.45\n",
      "Changing to T= 50000 for T= 66243 logg=4.29\n",
      "Changing to logg=5.00 for T= 66243 logg=4.29\n",
      "Changing to T= 50000 for T= 67353 logg=4.32\n",
      "Changing to logg=5.00 for T= 67353 logg=4.32\n",
      "Changing to T= 50000 for T= 78201 logg=4.55\n",
      "Changing to logg=5.00 for T= 78201 logg=4.55\n",
      "Changing to T= 50000 for T=101007 logg=5.42\n",
      "Changing to logg=5.00 for T=101007 logg=5.42\n",
      "Changing to T= 50000 for T= 71302 logg=4.41\n",
      "Changing to logg=5.00 for T= 71302 logg=4.41\n",
      "Changing to T= 50000 for T=101728 logg=5.41\n",
      "Changing to logg=5.00 for T=101728 logg=5.41\n",
      "Changing to T= 50000 for T= 64880 logg=4.26\n",
      "Changing to logg=5.00 for T= 64880 logg=4.26\n",
      "Changing to T= 50000 for T= 58381 logg=4.34\n",
      "Changing to logg=5.00 for T= 58381 logg=4.34\n",
      "Changing to T= 50000 for T= 67191 logg=4.32\n",
      "Changing to logg=5.00 for T= 67191 logg=4.32\n",
      "Changing to logg=4.50 for T= 42214 logg=3.72\n",
      "Changing to T= 50000 for T= 67059 logg=4.33\n",
      "Changing to logg=5.00 for T= 67059 logg=4.33\n",
      "Changing to logg=3.00 for T= 19883 logg=2.48\n",
      "Changing to T= 50000 for T=103548 logg=5.41\n",
      "Changing to logg=5.00 for T=103548 logg=5.41\n",
      "Changing to T= 50000 for T= 70529 logg=4.34\n",
      "Changing to logg=5.00 for T= 70529 logg=4.34\n",
      "Changing to T= 50000 for T=101726 logg=5.41\n",
      "Changing to logg=5.00 for T=101726 logg=5.41\n",
      "Changing to logg=3.50 for T= 28029 logg=3.30\n",
      "Changing to T= 50000 for T= 59709 logg=4.13\n",
      "Changing to logg=5.00 for T= 59709 logg=4.13\n",
      "Changing to T= 50000 for T= 67178 logg=4.31\n",
      "Changing to logg=5.00 for T= 67178 logg=4.31\n",
      "Changing to T= 50000 for T=103750 logg=5.41\n",
      "Changing to logg=5.00 for T=103750 logg=5.41\n",
      "Changing to logg=4.00 for T= 32467 logg=3.86\n",
      "Changing to T= 50000 for T= 61423 logg=4.19\n",
      "Changing to logg=5.00 for T= 61423 logg=4.19\n",
      "Changing to logg=3.50 for T= 27299 logg=3.50\n",
      "Changing to T= 50000 for T=103863 logg=5.41\n",
      "Changing to logg=5.00 for T=103863 logg=5.41\n",
      "Changing to logg=3.50 for T= 27719 logg=3.22\n",
      "Changing to T= 50000 for T= 67816 logg=4.33\n",
      "Changing to logg=5.00 for T= 67816 logg=4.33\n",
      "Changing to T= 50000 for T= 66604 logg=4.62\n",
      "Changing to logg=5.00 for T= 66604 logg=4.62\n",
      "Changing to T= 50000 for T= 66764 logg=4.30\n",
      "Changing to logg=5.00 for T= 66764 logg=4.30\n",
      "Changing to T= 50000 for T= 67185 logg=4.64\n",
      "Changing to logg=5.00 for T= 67185 logg=4.64\n",
      "Changing to logg=1.50 for T=  8770 logg=1.44\n",
      "Changing to T= 50000 for T= 90738 logg=5.12\n",
      "Changing to logg=5.00 for T= 90738 logg=5.12\n",
      "Changing to T= 50000 for T= 64892 logg=4.26\n",
      "Changing to logg=5.00 for T= 64892 logg=4.26\n",
      "Changing to T= 50000 for T=102702 logg=5.40\n",
      "Changing to logg=5.00 for T=102702 logg=5.40\n",
      "Changing to T= 50000 for T=103359 logg=5.41\n",
      "Changing to logg=5.00 for T=103359 logg=5.41\n",
      "Changing to T= 50000 for T=102638 logg=5.40\n",
      "Changing to logg=5.00 for T=102638 logg=5.40\n",
      "Changing to T= 50000 for T= 71453 logg=4.77\n",
      "Changing to logg=5.00 for T= 71453 logg=4.77\n",
      "Changing to T= 50000 for T= 65928 logg=4.29\n",
      "Changing to logg=5.00 for T= 65928 logg=4.29\n",
      "Changing to T= 50000 for T= 67786 logg=4.33\n",
      "Changing to logg=5.00 for T= 67786 logg=4.33\n",
      "Changing to T= 50000 for T=102419 logg=5.40\n",
      "Changing to logg=5.00 for T=102419 logg=5.40\n",
      "Changing to T= 50000 for T= 98215 logg=4.84\n",
      "Changing to logg=5.00 for T= 98215 logg=4.84\n",
      "Changing to T= 50000 for T= 59860 logg=4.13\n",
      "Changing to logg=5.00 for T= 59860 logg=4.13\n",
      "Changing to T= 50000 for T=102054 logg=5.41\n",
      "Changing to logg=5.00 for T=102054 logg=5.41\n",
      "Changing to T= 50000 for T= 72058 logg=4.80\n",
      "Changing to logg=5.00 for T= 72058 logg=4.80\n",
      "Changing to T= 50000 for T= 65516 logg=4.27\n",
      "Changing to logg=5.00 for T= 65516 logg=4.27\n",
      "Changing to T= 50000 for T=103383 logg=5.41\n",
      "Changing to logg=5.00 for T=103383 logg=5.41\n",
      "Changing to logg=5.00 for T= 49828 logg=4.04\n",
      "Changing to T= 50000 for T=103343 logg=5.41\n",
      "Changing to logg=5.00 for T=103343 logg=5.41\n",
      "Changing to T= 50000 for T=168597 logg=5.82\n",
      "Changing to logg=5.00 for T=168597 logg=5.82\n",
      "Changing to T= 50000 for T=103200 logg=5.41\n",
      "Changing to logg=5.00 for T=103200 logg=5.41\n",
      "Changing to logg=4.50 for T= 41746 logg=3.70\n",
      "Changing to T= 50000 for T=103153 logg=5.41\n",
      "Changing to logg=5.00 for T=103153 logg=5.41\n",
      "Changing to T= 50000 for T= 66293 logg=4.31\n",
      "Changing to logg=5.00 for T= 66293 logg=4.31\n",
      "Changing to T= 50000 for T= 65151 logg=4.27\n",
      "Changing to logg=5.00 for T= 65151 logg=4.27\n",
      "Changing to T= 50000 for T= 67596 logg=4.65\n",
      "Changing to logg=5.00 for T= 67596 logg=4.65\n",
      "Changing to T= 50000 for T= 67059 logg=4.31\n",
      "Changing to logg=5.00 for T= 67059 logg=4.31\n",
      "Changing to T= 50000 for T=102134 logg=5.40\n",
      "Changing to logg=5.00 for T=102134 logg=5.40\n",
      "Changing to T= 50000 for T= 59073 logg=4.37\n",
      "Changing to logg=5.00 for T= 59073 logg=4.37\n",
      "Changing to logg=4.50 for T= 46309 logg=3.90\n",
      "Changing to T= 50000 for T=123259 logg=5.43\n",
      "Changing to logg=5.00 for T=123259 logg=5.43\n",
      "Changing to logg=3.50 for T= 26831 logg=3.32\n",
      "Changing to T= 50000 for T= 67248 logg=4.32\n",
      "Changing to logg=5.00 for T= 67248 logg=4.32\n",
      "Changing to T= 50000 for T= 76516 logg=4.96\n",
      "Changing to logg=5.00 for T= 76516 logg=4.96\n",
      "Changing to T= 50000 for T=102353 logg=5.41\n",
      "Changing to logg=5.00 for T=102353 logg=5.41\n",
      "Changing to T= 50000 for T= 67391 logg=4.32\n",
      "Changing to logg=5.00 for T= 67391 logg=4.32\n",
      "Changing to T= 50000 for T=102223 logg=5.38\n",
      "Changing to logg=5.00 for T=102223 logg=5.38\n",
      "Changing to T= 50000 for T=102840 logg=5.41\n",
      "Changing to logg=5.00 for T=102840 logg=5.41\n",
      "Changing to logg=4.00 for T= 31615 logg=3.92\n",
      "Changing to T= 50000 for T=102669 logg=5.40\n",
      "Changing to logg=5.00 for T=102669 logg=5.40\n",
      "Changing to logg=3.50 for T= 26285 logg=3.28\n",
      "Changing to T= 50000 for T= 65088 logg=4.27\n",
      "Changing to logg=5.00 for T= 65088 logg=4.27\n",
      "Changing to T= 50000 for T= 68314 logg=4.34\n",
      "Changing to logg=5.00 for T= 68314 logg=4.34\n",
      "Changing to logg=4.50 for T= 41893 logg=3.71\n",
      "Changing to T= 50000 for T= 83506 logg=5.33\n",
      "Changing to logg=5.00 for T= 83506 logg=5.33\n",
      "Changing to T= 50000 for T=100716 logg=5.42\n",
      "Changing to logg=5.00 for T=100716 logg=5.42\n",
      "Changing to T= 50000 for T= 67276 logg=4.32\n",
      "Changing to logg=5.00 for T= 67276 logg=4.32\n",
      "Changing to T= 50000 for T=169805 logg=5.84\n",
      "Changing to logg=5.00 for T=169805 logg=5.84\n",
      "Changing to logg=4.00 for T= 35832 logg=3.76\n",
      "Changing to logg=4.50 for T= 45774 logg=3.87\n",
      "Changing to T= 50000 for T=162637 logg=5.76\n",
      "Changing to logg=5.00 for T=162637 logg=5.76\n",
      "Changing to logg=4.00 for T= 32240 logg=3.61\n",
      "Changing to T= 50000 for T=101962 logg=5.39\n",
      "Changing to logg=5.00 for T=101962 logg=5.39\n",
      "Changing to logg=3.50 for T= 26486 logg=3.38\n",
      "Changing to T= 50000 for T= 67526 logg=4.32\n",
      "Changing to logg=5.00 for T= 67526 logg=4.32\n",
      "Changing to T= 50000 for T= 66240 logg=4.30\n",
      "Changing to logg=5.00 for T= 66240 logg=4.30\n",
      "Changing to logg=4.00 for T= 33232 logg=3.72\n",
      "Changing to T= 50000 for T= 77477 logg=4.99\n",
      "Changing to logg=5.00 for T= 77477 logg=4.99\n",
      "Changing to T= 50000 for T= 67101 logg=4.31\n",
      "Changing to logg=5.00 for T= 67101 logg=4.31\n",
      "Changing to logg=5.00 for T= 49067 logg=4.01\n",
      "Changing to T= 50000 for T= 80553 logg=5.09\n",
      "Changing to logg=5.00 for T= 80553 logg=5.09\n",
      "Changing to T= 50000 for T=102866 logg=5.41\n",
      "Changing to logg=5.00 for T=102866 logg=5.41\n",
      "Changing to logg=4.00 for T= 32897 logg=3.88\n",
      "Changing to logg=4.50 for T= 45454 logg=3.86\n",
      "Changing to T= 50000 for T=103770 logg=5.41\n",
      "Changing to logg=5.00 for T=103770 logg=5.41\n",
      "Changing to logg=4.50 for T= 44419 logg=3.82\n",
      "Changing to T= 50000 for T=101167 logg=5.41\n",
      "Changing to logg=5.00 for T=101167 logg=5.41\n",
      "Changing to T= 50000 for T=103279 logg=5.41\n",
      "Changing to logg=5.00 for T=103279 logg=5.41\n",
      "Changing to logg=5.00 for T= 49567 logg=4.02\n",
      "Changing to T= 50000 for T= 66924 logg=4.31\n",
      "Changing to logg=5.00 for T= 66924 logg=4.31\n"
     ]
    },
    {
     "name": "stdout",
     "output_type": "stream",
     "text": [
      "Changing to T= 50000 for T= 65498 logg=4.28\n",
      "Changing to logg=5.00 for T= 65498 logg=4.28\n",
      "Changing to T= 50000 for T= 94748 logg=5.39\n",
      "Changing to logg=5.00 for T= 94748 logg=5.39\n",
      "Changing to logg=4.50 for T= 41743 logg=3.70\n",
      "Changing to T= 50000 for T= 66702 logg=4.30\n",
      "Changing to logg=5.00 for T= 66702 logg=4.30\n",
      "Changing to T= 50000 for T=173680 logg=5.88\n",
      "Changing to logg=5.00 for T=173680 logg=5.88\n",
      "Changing to logg=3.50 for T= 26443 logg=3.24\n",
      "Changing to T= 50000 for T= 65814 logg=4.28\n",
      "Changing to logg=5.00 for T= 65814 logg=4.28\n",
      "Changing to logg=3.00 for T= 25019 logg=2.99\n",
      "Changing to T= 50000 for T= 80822 logg=5.09\n",
      "Changing to logg=5.00 for T= 80822 logg=5.09\n",
      "Changing to T= 50000 for T= 67619 logg=4.34\n",
      "Changing to logg=5.00 for T= 67619 logg=4.34\n",
      "Changing to T= 50000 for T=103024 logg=5.41\n",
      "Changing to logg=5.00 for T=103024 logg=5.41\n",
      "Changing to T= 50000 for T= 96381 logg=5.41\n",
      "Changing to logg=5.00 for T= 96381 logg=5.41\n",
      "Changing to T= 50000 for T= 50852 logg=4.07\n",
      "Changing to logg=5.00 for T= 50852 logg=4.07\n",
      "Changing to T= 50000 for T= 73318 logg=4.84\n",
      "Changing to logg=5.00 for T= 73318 logg=4.84\n",
      "Changing to logg=4.50 for T= 44957 logg=3.84\n",
      "Changing to T= 50000 for T=173760 logg=5.88\n",
      "Changing to logg=5.00 for T=173760 logg=5.88\n",
      "Changing to T= 50000 for T=101623 logg=5.40\n",
      "Changing to logg=5.00 for T=101623 logg=5.40\n",
      "Changing to logg=4.50 for T= 48500 logg=3.98\n",
      "Changing to T= 50000 for T= 65605 logg=4.58\n",
      "Changing to logg=5.00 for T= 65605 logg=4.58\n",
      "Changing to logg=4.00 for T= 31125 logg=3.66\n",
      "Changing to T= 50000 for T=132764 logg=5.53\n",
      "Changing to logg=5.00 for T=132764 logg=5.53\n",
      "Changing to T= 50000 for T=103319 logg=5.40\n",
      "Changing to logg=5.00 for T=103319 logg=5.40\n",
      "Changing to T= 50000 for T= 69239 logg=4.36\n",
      "Changing to logg=5.00 for T= 69239 logg=4.36\n",
      "Changing to T= 50000 for T= 67724 logg=4.33\n",
      "Changing to logg=5.00 for T= 67724 logg=4.33\n",
      "Changing to T= 50000 for T= 65890 logg=4.28\n",
      "Changing to logg=5.00 for T= 65890 logg=4.28\n",
      "Changing to T= 50000 for T= 67123 logg=4.31\n",
      "Changing to logg=5.00 for T= 67123 logg=4.31\n",
      "Changing to T= 50000 for T= 68368 logg=4.68\n",
      "Changing to logg=5.00 for T= 68368 logg=4.68\n",
      "Changing to T= 50000 for T= 68509 logg=4.34\n",
      "Changing to logg=5.00 for T= 68509 logg=4.34\n",
      "Changing to T= 50000 for T= 66874 logg=4.31\n",
      "Changing to logg=5.00 for T= 66874 logg=4.31\n",
      "Changing to T= 50000 for T= 66324 logg=4.31\n",
      "Changing to logg=5.00 for T= 66324 logg=4.31\n",
      "Changing to T= 50000 for T=100788 logg=5.42\n",
      "Changing to logg=5.00 for T=100788 logg=5.42\n",
      "Changing to T= 50000 for T=102877 logg=5.42\n",
      "Changing to logg=5.00 for T=102877 logg=5.42\n",
      "Changing to T= 50000 for T= 66357 logg=4.29\n",
      "Changing to logg=5.00 for T= 66357 logg=4.29\n",
      "Changing to T= 50000 for T= 51387 logg=4.09\n",
      "Changing to logg=5.00 for T= 51387 logg=4.09\n",
      "Changing to logg=4.00 for T= 31018 logg=3.75\n",
      "Changing to T= 50000 for T= 54369 logg=4.20\n",
      "Changing to logg=5.00 for T= 54369 logg=4.20\n",
      "Changing to T= 50000 for T=102676 logg=5.41\n",
      "Changing to logg=5.00 for T=102676 logg=5.41\n",
      "Changing to logg=4.00 for T= 36458 logg=3.95\n",
      "Changing to logg=3.50 for T= 27049 logg=3.39\n",
      "Changing to T= 50000 for T= 67781 logg=4.34\n",
      "Changing to logg=5.00 for T= 67781 logg=4.34\n",
      "Changing to T= 50000 for T= 69530 logg=4.37\n",
      "Changing to logg=5.00 for T= 69530 logg=4.37\n",
      "Changing to T= 50000 for T= 52338 logg=4.13\n",
      "Changing to logg=5.00 for T= 52338 logg=4.13\n",
      "Changing to T= 50000 for T= 78703 logg=4.56\n",
      "Changing to logg=5.00 for T= 78703 logg=4.56\n",
      "Changing to T= 50000 for T=101445 logg=5.42\n",
      "Changing to logg=5.00 for T=101445 logg=5.42\n",
      "Changing to T= 50000 for T= 65184 logg=4.27\n",
      "Changing to logg=5.00 for T= 65184 logg=4.27\n",
      "Changing to T= 50000 for T= 78712 logg=5.02\n",
      "Changing to logg=5.00 for T= 78712 logg=5.02\n",
      "Changing to logg=3.00 for T= 23512 logg=2.25\n",
      "Changing to T= 50000 for T= 68290 logg=4.34\n",
      "Changing to logg=5.00 for T= 68290 logg=4.34\n",
      "Changing to T= 50000 for T= 57361 logg=4.31\n",
      "Changing to logg=5.00 for T= 57361 logg=4.31\n",
      "Changing to T= 50000 for T=100772 logg=5.42\n",
      "Changing to logg=5.00 for T=100772 logg=5.42\n",
      "Changing to T= 50000 for T=101667 logg=5.41\n",
      "Changing to logg=5.00 for T=101667 logg=5.41\n",
      "Changing to T= 50000 for T=102353 logg=5.41\n",
      "Changing to logg=5.00 for T=102353 logg=5.41\n",
      "Changing to T= 50000 for T= 72144 logg=4.80\n",
      "Changing to logg=5.00 for T= 72144 logg=4.80\n",
      "Changing to T= 50000 for T= 75943 logg=4.93\n",
      "Changing to logg=5.00 for T= 75943 logg=4.93\n",
      "Changing to logg=4.50 for T= 47335 logg=3.94\n",
      "Changing to T= 50000 for T= 67126 logg=4.31\n",
      "Changing to logg=5.00 for T= 67126 logg=4.31\n",
      "Changing to T= 50000 for T= 66434 logg=4.30\n",
      "Changing to logg=5.00 for T= 66434 logg=4.30\n",
      "Changing to T= 50000 for T=103719 logg=5.41\n",
      "Changing to logg=5.00 for T=103719 logg=5.41\n",
      "Changing to T= 50000 for T=102806 logg=5.41\n",
      "Changing to logg=5.00 for T=102806 logg=5.41\n",
      "Changing to logg=4.50 for T= 42917 logg=3.76\n",
      "Changing to logg=4.00 for T= 32498 logg=3.50\n",
      "Changing to logg=4.00 for T= 31789 logg=3.54\n",
      "Changing to logg=4.00 for T= 31309 logg=3.80\n",
      "Changing to T= 50000 for T= 66161 logg=4.29\n",
      "Changing to logg=5.00 for T= 66161 logg=4.29\n",
      "Changing to T= 50000 for T=102771 logg=5.42\n",
      "Changing to logg=5.00 for T=102771 logg=5.42\n",
      "Changing to logg=4.50 for T= 48012 logg=3.96\n",
      "Changing to T= 50000 for T=102183 logg=5.41\n",
      "Changing to logg=5.00 for T=102183 logg=5.41\n",
      "Changing to T= 50000 for T= 66816 logg=4.31\n",
      "Changing to logg=5.00 for T= 66816 logg=4.31\n",
      "Changing to T= 50000 for T= 79382 logg=5.04\n",
      "Changing to logg=5.00 for T= 79382 logg=5.04\n",
      "Changing to T= 50000 for T=101719 logg=5.39\n",
      "Changing to logg=5.00 for T=101719 logg=5.39\n",
      "Changing to T= 50000 for T= 65990 logg=4.29\n",
      "Changing to logg=5.00 for T= 65990 logg=4.29\n",
      "Changing to T= 50000 for T= 65100 logg=4.26\n",
      "Changing to logg=5.00 for T= 65100 logg=4.26\n",
      "Changing to T= 50000 for T= 82949 logg=5.17\n",
      "Changing to logg=5.00 for T= 82949 logg=5.17\n",
      "Changing to T= 50000 for T= 66487 logg=4.30\n",
      "Changing to logg=5.00 for T= 66487 logg=4.30\n",
      "Changing to logg=4.50 for T= 47507 logg=3.94\n",
      "Changing to T= 50000 for T=102783 logg=5.40\n",
      "Changing to logg=5.00 for T=102783 logg=5.40\n",
      "Changing to T= 50000 for T= 67217 logg=4.32\n",
      "Changing to logg=5.00 for T= 67217 logg=4.32\n",
      "Changing to T= 50000 for T= 67352 logg=4.32\n",
      "Changing to logg=5.00 for T= 67352 logg=4.32\n",
      "Changing to T= 50000 for T=103548 logg=5.46\n",
      "Changing to logg=5.00 for T=103548 logg=5.46\n",
      "Changing to T= 50000 for T= 71702 logg=4.79\n",
      "Changing to logg=5.00 for T= 71702 logg=4.79\n",
      "Changing to T= 50000 for T=102308 logg=5.41\n",
      "Changing to logg=5.00 for T=102308 logg=5.41\n",
      "Changing to T= 50000 for T=102530 logg=5.42\n",
      "Changing to logg=5.00 for T=102530 logg=5.42\n",
      "Changing to T= 50000 for T= 65318 logg=4.27\n",
      "Changing to logg=5.00 for T= 65318 logg=4.27\n",
      "Changing to T= 50000 for T= 76591 logg=4.95\n",
      "Changing to logg=5.00 for T= 76591 logg=4.95\n",
      "Changing to T= 50000 for T=102045 logg=5.39\n",
      "Changing to logg=5.00 for T=102045 logg=5.39\n",
      "Changing to T= 50000 for T=170781 logg=5.85\n",
      "Changing to logg=5.00 for T=170781 logg=5.85\n",
      "Changing to T= 50000 for T=103588 logg=5.41\n",
      "Changing to logg=5.00 for T=103588 logg=5.41\n",
      "Changing to logg=4.50 for T= 42886 logg=3.75\n",
      "Changing to logg=4.50 for T= 42780 logg=3.75\n",
      "Changing to T= 50000 for T= 67186 logg=4.31\n",
      "Changing to logg=5.00 for T= 67186 logg=4.31\n",
      "Changing to T= 50000 for T=101932 logg=5.39\n",
      "Changing to logg=5.00 for T=101932 logg=5.39\n",
      "Changing to logg=3.00 for T= 21835 logg=2.72\n",
      "Changing to T= 50000 for T=103619 logg=5.41\n",
      "Changing to logg=5.00 for T=103619 logg=5.41\n",
      "Changing to T= 50000 for T=102958 logg=5.41\n",
      "Changing to logg=5.00 for T=102958 logg=5.41\n",
      "Changing to T= 50000 for T= 54474 logg=4.21\n",
      "Changing to logg=5.00 for T= 54474 logg=4.21\n",
      "Changing to T= 50000 for T= 65169 logg=4.27\n",
      "Changing to logg=5.00 for T= 65169 logg=4.27\n",
      "Changing to logg=3.50 for T= 30090 logg=2.88\n",
      "Changing to T= 50000 for T= 67845 logg=4.33\n",
      "Changing to logg=5.00 for T= 67845 logg=4.33\n",
      "Changing to logg=4.50 for T= 45086 logg=3.85\n",
      "Changing to T= 50000 for T= 70651 logg=4.75\n",
      "Changing to logg=5.00 for T= 70651 logg=4.75\n",
      "Changing to T= 50000 for T= 53145 logg=4.16\n",
      "Changing to logg=5.00 for T= 53145 logg=4.16\n",
      "Changing to T= 50000 for T= 66364 logg=4.29\n",
      "Changing to logg=5.00 for T= 66364 logg=4.29\n",
      "Changing to logg=3.50 for T= 26165 logg=3.21\n",
      "Changing to logg=4.50 for T= 42028 logg=3.72\n"
     ]
    },
    {
     "name": "stdout",
     "output_type": "stream",
     "text": [
      "Changing to T= 50000 for T= 65670 logg=4.28\n",
      "Changing to logg=5.00 for T= 65670 logg=4.28\n",
      "Changing to T=  1200 for T=   808 logg=4.44\n",
      "Changing to T=  1200 for T=   808 logg=4.44\n",
      "Changing to logg=0.00 for T=  3554 logg=-0.25\n",
      "Changing to logg=1.50 for T=  8770 logg=1.44\n",
      "Changing to logg=1.50 for T=  8770 logg=1.44\n",
      "Changing to logg=5.00 for T=  1616 logg=4.44\n",
      "Changing to logg=5.00 for T=  1616 logg=4.44\n",
      "Changing to logg=1.50 for T=  8770 logg=1.44\n",
      "Changing to T= 50000 for T= 76273 logg=5.44\n",
      "Changing to logg=5.00 for T= 76273 logg=5.44\n",
      "Changing to logg=2.00 for T=  9772 logg=1.67\n",
      "Changing to logg=0.00 for T=  3325 logg=-0.66\n",
      "Changing to logg=0.00 for T=  3325 logg=-0.66\n",
      "Changing to T= 50000 for T= 69480 logg=4.37\n",
      "Changing to logg=5.00 for T= 69480 logg=4.37\n",
      "Changing to T=  1200 for T=   808 logg=4.44\n",
      "Changing to T= 50000 for T= 66362 logg=4.28\n",
      "Changing to logg=5.00 for T= 66362 logg=4.28\n",
      "Changing to logg=0.00 for T=  3325 logg=-0.66\n",
      "Changing to T= 50000 for T= 82393 logg=5.42\n",
      "Changing to logg=5.00 for T= 82393 logg=5.42\n",
      "Changing to T= 50000 for T= 65399 logg=4.25\n",
      "Changing to logg=5.00 for T= 65399 logg=4.25\n",
      "Changing to T= 50000 for T= 71017 logg=4.41\n",
      "Changing to logg=5.00 for T= 71017 logg=4.41\n",
      "Changing to T= 50000 for T= 65770 logg=4.26\n",
      "Changing to logg=5.00 for T= 65770 logg=4.26\n",
      "Changing to T=  1200 for T=   808 logg=4.44\n",
      "Changing to T=  1200 for T=   692 logg=4.44\n",
      "Changing to logg=0.00 for T=  3337 logg=-0.66\n",
      "Changing to T= 50000 for T= 70487 logg=4.40\n",
      "Changing to logg=5.00 for T= 70487 logg=4.40\n",
      "Changing to logg=1.50 for T=  8770 logg=1.44\n",
      "Changing to T= 50000 for T= 63749 logg=4.21\n",
      "Changing to logg=5.00 for T= 63749 logg=4.21\n",
      "Changing to logg=0.00 for T=  3325 logg=-0.66\n",
      "Changing to T= 50000 for T=101233 logg=5.40\n",
      "Changing to logg=5.00 for T=101233 logg=5.40\n",
      "Changing to logg=2.00 for T=  9787 logg=1.68\n",
      "Changing to T= 50000 for T=104937 logg=5.55\n",
      "Changing to logg=5.00 for T=104937 logg=5.55\n",
      "Changing to T=  1200 for T=   692 logg=4.44\n",
      "Changing to logg=0.00 for T=  3554 logg=-0.25\n",
      "Changing to logg=1.50 for T=  8770 logg=1.44\n",
      "Changing to T=  1200 for T=   692 logg=4.44\n",
      "Changing to logg=0.00 for T=  3325 logg=-0.66\n",
      "Changing to logg=2.00 for T=  9833 logg=1.68\n",
      "Changing to T= 50000 for T= 67861 logg=4.32\n",
      "Changing to logg=5.00 for T= 67861 logg=4.32\n",
      "Changing to logg=0.00 for T=  3294 logg=-0.74\n",
      "Changing to T=  1200 for T=   692 logg=4.44\n",
      "Changing to logg=1.50 for T=  8770 logg=1.44\n",
      "Changing to logg=0.00 for T=  3325 logg=-0.66\n",
      "Changing to logg=1.50 for T=  8770 logg=1.44\n",
      "Changing to T= 50000 for T= 70920 logg=4.41\n",
      "Changing to logg=5.00 for T= 70920 logg=4.41\n",
      "Changing to logg=2.00 for T=  9391 logg=1.55\n",
      "Changing to logg=1.50 for T=  8770 logg=1.44\n",
      "Changing to T= 50000 for T= 62552 logg=4.18\n",
      "Changing to logg=5.00 for T= 62552 logg=4.18\n",
      "Changing to T= 50000 for T= 70881 logg=4.41\n",
      "Changing to logg=5.00 for T= 70881 logg=4.41\n",
      "Changing to logg=5.00 for T=  1616 logg=4.44\n",
      "Changing to logg=0.00 for T=  3554 logg=-0.25\n",
      "Changing to logg=5.00 for T=  1616 logg=4.44\n",
      "Changing to T= 50000 for T= 70963 logg=4.40\n",
      "Changing to logg=5.00 for T= 70963 logg=4.40\n",
      "Changing to logg=1.50 for T=  8770 logg=1.44\n",
      "Changing to logg=5.00 for T=  1616 logg=4.44\n",
      "Changing to logg=1.50 for T=  8770 logg=1.44\n",
      "Changing to T= 50000 for T=100823 logg=5.41\n",
      "Changing to logg=5.00 for T=100823 logg=5.41\n",
      "Changing to T= 50000 for T= 65349 logg=4.25\n",
      "Changing to logg=5.00 for T= 65349 logg=4.25\n",
      "Changing to T= 50000 for T= 83774 logg=5.42\n",
      "Changing to logg=5.00 for T= 83774 logg=5.42\n",
      "Changing to logg=2.50 for T= 17098 logg=2.30\n",
      "Changing to T= 50000 for T= 62008 logg=4.16\n",
      "Changing to logg=5.00 for T= 62008 logg=4.16\n",
      "Changing to logg=1.50 for T=  8770 logg=1.44\n",
      "Changing to T= 50000 for T=102994 logg=5.41\n",
      "Changing to logg=5.00 for T=102994 logg=5.41\n",
      "Changing to logg=0.00 for T=  3325 logg=-0.66\n",
      "Changing to logg=0.00 for T=  3317 logg=-0.68\n",
      "Changing to logg=0.00 for T=  3285 logg=-0.77\n",
      "Changing to T= 50000 for T= 68173 logg=4.34\n",
      "Changing to logg=5.00 for T= 68173 logg=4.34\n",
      "Changing to T=  1200 for T=   808 logg=4.44\n",
      "Changing to T=  1200 for T=   808 logg=4.44\n",
      "Changing to T=  1200 for T=   808 logg=4.44\n",
      "Changing to logg=2.00 for T= 10354 logg=1.62\n",
      "Changing to T= 50000 for T=102558 logg=5.41\n",
      "Changing to logg=5.00 for T=102558 logg=5.41\n",
      "Changing to logg=1.50 for T=  8770 logg=1.44\n",
      "Changing to logg=1.50 for T=  8783 logg=1.48\n",
      "Changing to T= 50000 for T=101226 logg=5.40\n",
      "Changing to logg=5.00 for T=101226 logg=5.40\n",
      "Changing to logg=5.00 for T=  1616 logg=4.44\n",
      "Changing to T= 50000 for T= 68126 logg=4.67\n",
      "Changing to logg=5.00 for T= 68126 logg=4.67\n",
      "Changing to T= 50000 for T= 67408 logg=4.31\n",
      "Changing to logg=5.00 for T= 67408 logg=4.31\n",
      "Changing to logg=1.50 for T=  8770 logg=1.44\n",
      "Changing to T= 50000 for T=101335 logg=5.42\n",
      "Changing to logg=5.00 for T=101335 logg=5.42\n",
      "Changing to logg=0.00 for T=  3325 logg=-0.66\n",
      "Changing to logg=5.00 for T=  1616 logg=4.44\n",
      "Changing to T=  1200 for T=   808 logg=4.44\n",
      "Changing to logg=1.50 for T=  8770 logg=1.44\n",
      "Changing to logg=0.00 for T=  3554 logg=-0.25\n",
      "Changing to T=  1200 for T=   808 logg=4.44\n",
      "Changing to T= 50000 for T=102393 logg=5.41\n",
      "Changing to logg=5.00 for T=102393 logg=5.41\n",
      "Changing to logg=0.00 for T=  3325 logg=-0.66\n",
      "Changing to logg=2.00 for T=  9832 logg=1.63\n",
      "Changing to logg=0.00 for T=  3554 logg=-0.25\n",
      "Changing to logg=5.00 for T=  1616 logg=4.44\n",
      "Changing to T= 50000 for T=132114 logg=5.77\n",
      "Changing to logg=5.00 for T=132114 logg=5.77\n",
      "Changing to logg=1.50 for T=  8770 logg=1.44\n",
      "Changing to logg=1.50 for T=  8770 logg=1.44\n",
      "Changing to logg=2.00 for T=  9849 logg=1.64\n",
      "Changing to T= 50000 for T= 70791 logg=4.41\n",
      "Changing to logg=5.00 for T= 70791 logg=4.41\n",
      "Changing to T= 50000 for T=101904 logg=5.42\n",
      "Changing to logg=5.00 for T=101904 logg=5.42\n",
      "Changing to logg=0.00 for T=  3325 logg=-0.66\n",
      "Changing to logg=1.50 for T=  8770 logg=1.44\n",
      "Changing to T= 50000 for T= 56673 logg=4.23\n",
      "Changing to logg=5.00 for T= 56673 logg=4.23\n",
      "Changing to logg=3.50 for T= 26699 logg=2.90\n",
      "Changing to T= 50000 for T= 69696 logg=4.37\n",
      "Changing to logg=5.00 for T= 69696 logg=4.37\n",
      "Changing to T= 50000 for T= 96627 logg=5.44\n",
      "Changing to logg=5.00 for T= 96627 logg=5.44\n",
      "Changing to logg=1.50 for T=  8770 logg=1.44\n",
      "Changing to logg=0.00 for T=  3325 logg=-0.66\n",
      "Changing to logg=1.50 for T=  8770 logg=1.44\n",
      "Changing to T= 50000 for T= 95993 logg=5.47\n",
      "Changing to logg=5.00 for T= 95993 logg=5.47\n",
      "Changing to logg=1.50 for T=  8770 logg=1.44\n",
      "Changing to T= 50000 for T=100316 logg=5.42\n",
      "Changing to logg=5.00 for T=100316 logg=5.42\n",
      "Changing to logg=1.50 for T=  8770 logg=1.44\n",
      "Changing to logg=0.00 for T=  3325 logg=-0.66\n",
      "Changing to logg=1.50 for T=  8770 logg=1.44\n",
      "Changing to logg=1.50 for T=  8770 logg=1.44\n",
      "Changing to T= 50000 for T= 68454 logg=4.35\n",
      "Changing to logg=5.00 for T= 68454 logg=4.35\n",
      "Changing to logg=5.00 for T=  1616 logg=4.44\n",
      "Changing to logg=1.50 for T=  8770 logg=1.44\n",
      "Changing to T= 50000 for T=102747 logg=5.41\n",
      "Changing to logg=5.00 for T=102747 logg=5.41\n",
      "Changing to logg=1.50 for T=  8770 logg=1.44\n",
      "Changing to T= 50000 for T= 70265 logg=4.39\n",
      "Changing to logg=5.00 for T= 70265 logg=4.39\n",
      "Changing to T= 50000 for T= 70474 logg=4.40\n",
      "Changing to logg=5.00 for T= 70474 logg=4.40\n",
      "Changing to T= 50000 for T= 67588 logg=4.31\n",
      "Changing to logg=5.00 for T= 67588 logg=4.31\n",
      "Changing to T= 50000 for T=104042 logg=5.41\n",
      "Changing to logg=5.00 for T=104042 logg=5.41\n",
      "Changing to T= 50000 for T=102099 logg=5.41\n",
      "Changing to logg=5.00 for T=102099 logg=5.41\n",
      "Changing to T= 50000 for T= 95192 logg=5.08\n",
      "Changing to logg=5.00 for T= 95192 logg=5.08\n",
      "Changing to T= 50000 for T= 68919 logg=4.35\n",
      "Changing to logg=5.00 for T= 68919 logg=4.35\n",
      "Changing to T= 50000 for T= 86137 logg=5.29\n",
      "Changing to logg=5.00 for T= 86137 logg=5.29\n",
      "Changing to logg=1.50 for T=  8927 logg=1.48\n",
      "Changing to T= 50000 for T=101606 logg=5.41\n",
      "Changing to logg=5.00 for T=101606 logg=5.41\n",
      "Changing to logg=1.50 for T=  8770 logg=1.44\n",
      "Changing to logg=5.00 for T=  1616 logg=4.44\n",
      "Changing to T=  1200 for T=   692 logg=4.44\n",
      "Changing to logg=0.00 for T=  3325 logg=-0.66\n",
      "Changing to T= 50000 for T= 69785 logg=4.37\n",
      "Changing to logg=5.00 for T= 69785 logg=4.37\n",
      "Changing to logg=1.50 for T=  8770 logg=1.44\n",
      "Changing to T=  1200 for T=   692 logg=4.44\n"
     ]
    },
    {
     "name": "stdout",
     "output_type": "stream",
     "text": [
      "Changing to T=  1200 for T=   692 logg=4.44\n",
      "Changing to logg=1.50 for T=  8770 logg=1.44\n",
      "Changing to logg=0.00 for T=  3554 logg=-0.25\n",
      "Changing to logg=1.50 for T=  8770 logg=1.44\n",
      "Changing to logg=1.50 for T=  8770 logg=1.44\n",
      "Changing to logg=0.00 for T=  3325 logg=-0.66\n",
      "Changing to logg=0.00 for T=  3325 logg=-0.66\n",
      "Changing to T= 50000 for T= 71010 logg=4.41\n",
      "Changing to logg=5.00 for T= 71010 logg=4.41\n",
      "Changing to logg=0.00 for T=  3554 logg=-0.25\n",
      "Changing to logg=1.50 for T=  8770 logg=1.44\n",
      "Changing to T= 50000 for T= 72304 logg=4.45\n",
      "Changing to logg=5.00 for T= 72304 logg=4.45\n",
      "Changing to T= 50000 for T= 68524 logg=4.35\n",
      "Changing to logg=5.00 for T= 68524 logg=4.35\n",
      "Changing to T= 50000 for T= 67298 logg=4.32\n",
      "Changing to logg=5.00 for T= 67298 logg=4.32\n",
      "Changing to T= 50000 for T= 81506 logg=5.45\n",
      "Changing to logg=5.00 for T= 81506 logg=5.45\n",
      "Changing to logg=0.00 for T=  3554 logg=-0.25\n",
      "Changing to logg=0.00 for T=  3325 logg=-0.66\n",
      "Changing to logg=1.50 for T=  8770 logg=1.44\n",
      "Changing to T= 50000 for T= 69454 logg=4.37\n",
      "Changing to logg=5.00 for T= 69454 logg=4.37\n",
      "Changing to logg=0.00 for T=  3325 logg=-0.66\n",
      "Changing to logg=0.00 for T=  3554 logg=-0.25\n",
      "Changing to logg=0.00 for T=  3325 logg=-0.66\n",
      "Changing to T=  1200 for T=   692 logg=4.44\n",
      "Changing to T= 50000 for T= 63602 logg=4.20\n",
      "Changing to logg=5.00 for T= 63602 logg=4.20\n",
      "Changing to logg=1.50 for T=  8770 logg=1.44\n",
      "Changing to T= 50000 for T=101046 logg=5.41\n",
      "Changing to logg=5.00 for T=101046 logg=5.41\n",
      "Changing to T= 50000 for T= 63378 logg=4.21\n",
      "Changing to logg=5.00 for T= 63378 logg=4.21\n",
      "Changing to logg=1.50 for T=  8770 logg=1.44\n",
      "Changing to logg=1.50 for T=  8770 logg=1.44\n",
      "Changing to logg=1.50 for T=  8770 logg=1.44\n",
      "Changing to logg=1.50 for T=  8770 logg=1.44\n",
      "Changing to T= 50000 for T= 68456 logg=4.34\n",
      "Changing to logg=5.00 for T= 68456 logg=4.34\n",
      "Changing to T= 50000 for T=102341 logg=5.42\n",
      "Changing to logg=5.00 for T=102341 logg=5.42\n",
      "Changing to T= 50000 for T=101265 logg=5.40\n",
      "Changing to logg=5.00 for T=101265 logg=5.40\n",
      "Changing to logg=0.00 for T=  3325 logg=-0.66\n",
      "Changing to logg=0.00 for T=  3325 logg=-0.66\n",
      "Changing to T= 50000 for T=102887 logg=5.41\n",
      "Changing to logg=5.00 for T=102887 logg=5.41\n",
      "Changing to logg=0.00 for T=  3325 logg=-0.66\n",
      "Changing to logg=1.50 for T=  8770 logg=1.44\n",
      "Changing to T= 50000 for T= 66501 logg=4.29\n",
      "Changing to logg=5.00 for T= 66501 logg=4.29\n",
      "Changing to logg=1.50 for T=  8770 logg=1.44\n",
      "Changing to logg=1.50 for T=  8770 logg=1.44\n",
      "Changing to logg=1.50 for T=  8770 logg=1.44\n",
      "Changing to T= 50000 for T=102681 logg=5.41\n",
      "Changing to logg=5.00 for T=102681 logg=5.41\n",
      "Changing to T= 50000 for T=102948 logg=5.41\n",
      "Changing to logg=5.00 for T=102948 logg=5.41\n",
      "Changing to logg=0.00 for T=  3554 logg=-0.25\n",
      "Changing to T= 50000 for T= 69700 logg=4.38\n",
      "Changing to logg=5.00 for T= 69700 logg=4.38\n",
      "Changing to T= 50000 for T= 66374 logg=4.28\n",
      "Changing to logg=5.00 for T= 66374 logg=4.28\n",
      "Changing to logg=0.00 for T=  3337 logg=-0.66\n",
      "Changing to logg=0.00 for T=  3325 logg=-0.66\n",
      "Changing to T= 50000 for T= 70651 logg=4.40\n",
      "Changing to logg=5.00 for T= 70651 logg=4.40\n",
      "Changing to T= 50000 for T= 68910 logg=4.35\n",
      "Changing to logg=5.00 for T= 68910 logg=4.35\n",
      "Changing to logg=1.50 for T=  8770 logg=1.44\n",
      "Changing to T= 50000 for T= 65896 logg=4.27\n",
      "Changing to logg=5.00 for T= 65896 logg=4.27\n",
      "Changing to logg=1.50 for T=  8770 logg=1.44\n",
      "Changing to logg=1.50 for T=  8770 logg=1.44\n",
      "Changing to logg=0.00 for T=  3325 logg=-0.66\n",
      "Changing to T=  1200 for T=   692 logg=4.44\n",
      "Changing to logg=1.50 for T=  8770 logg=1.44\n",
      "Changing to logg=1.50 for T=  8770 logg=1.44\n",
      "Changing to T= 50000 for T=101906 logg=5.42\n",
      "Changing to logg=5.00 for T=101906 logg=5.42\n",
      "Changing to logg=1.50 for T=  8770 logg=1.44\n",
      "Changing to T= 50000 for T=102464 logg=5.41\n",
      "Changing to logg=5.00 for T=102464 logg=5.41\n",
      "Changing to logg=0.00 for T=  3545 logg=-0.23\n",
      "Changing to logg=0.00 for T=  3325 logg=-0.66\n",
      "Changing to T= 50000 for T= 61937 logg=4.17\n",
      "Changing to logg=5.00 for T= 61937 logg=4.17\n",
      "Changing to logg=1.50 for T=  8770 logg=1.44\n",
      "Changing to T= 50000 for T= 70317 logg=4.40\n",
      "Changing to logg=5.00 for T= 70317 logg=4.40\n",
      "Changing to logg=2.00 for T=  9034 logg=1.64\n",
      "Changing to T= 50000 for T=101478 logg=5.42\n",
      "Changing to logg=5.00 for T=101478 logg=5.42\n",
      "Changing to T= 50000 for T= 61732 logg=4.16\n",
      "Changing to logg=5.00 for T= 61732 logg=4.16\n",
      "Changing to T= 50000 for T= 66393 logg=4.29\n",
      "Changing to logg=5.00 for T= 66393 logg=4.29\n",
      "Changing to logg=0.00 for T=  3325 logg=-0.66\n",
      "Changing to logg=0.00 for T=  3325 logg=-0.66\n",
      "Changing to T= 50000 for T= 69402 logg=4.37\n",
      "Changing to logg=5.00 for T= 69402 logg=4.37\n",
      "Changing to T= 50000 for T=101237 logg=5.41\n",
      "Changing to logg=5.00 for T=101237 logg=5.41\n",
      "Changing to T= 50000 for T= 67894 logg=4.31\n",
      "Changing to logg=5.00 for T= 67894 logg=4.31\n",
      "Changing to logg=1.50 for T=  8770 logg=1.44\n",
      "Changing to T= 50000 for T= 93401 logg=5.43\n",
      "Changing to logg=5.00 for T= 93401 logg=5.43\n",
      "Changing to T= 50000 for T= 99591 logg=5.45\n",
      "Changing to logg=5.00 for T= 99591 logg=5.45\n",
      "Changing to logg=1.50 for T=  8770 logg=1.44\n",
      "Changing to T= 50000 for T= 84680 logg=5.43\n",
      "Changing to logg=5.00 for T= 84680 logg=5.43\n",
      "Changing to T= 50000 for T=101681 logg=5.41\n",
      "Changing to logg=5.00 for T=101681 logg=5.41\n",
      "Changing to logg=2.00 for T=  9842 logg=1.63\n",
      "Changing to logg=0.00 for T=  3325 logg=-0.66\n",
      "Changing to logg=4.00 for T= 35481 logg=3.37\n",
      "Changing to logg=1.50 for T=  8770 logg=1.44\n",
      "Changing to logg=0.00 for T=  3554 logg=-0.25\n",
      "Changing to logg=1.50 for T=  8770 logg=1.44\n",
      "Changing to logg=0.00 for T=  3325 logg=-0.66\n",
      "Changing to logg=1.50 for T=  8770 logg=1.44\n",
      "Changing to T= 50000 for T= 63596 logg=4.20\n",
      "Changing to logg=5.00 for T= 63596 logg=4.20\n",
      "Changing to T=  1200 for T=   808 logg=4.44\n",
      "Changing to logg=1.50 for T=  8770 logg=1.44\n",
      "Changing to logg=5.00 for T=  1616 logg=4.44\n",
      "Changing to logg=1.50 for T=  8770 logg=1.44\n",
      "Changing to T= 50000 for T= 67791 logg=4.33\n",
      "Changing to logg=5.00 for T= 67791 logg=4.33\n",
      "Changing to logg=0.00 for T=  3554 logg=-0.25\n",
      "Changing to T= 50000 for T= 81495 logg=5.50\n",
      "Changing to logg=5.00 for T= 81495 logg=5.50\n",
      "Changing to logg=0.00 for T=  3554 logg=-0.25\n",
      "Changing to T= 50000 for T=100244 logg=5.42\n",
      "Changing to logg=5.00 for T=100244 logg=5.42\n",
      "Changing to logg=1.50 for T=  8770 logg=1.44\n",
      "Changing to T= 50000 for T=101295 logg=5.42\n",
      "Changing to logg=5.00 for T=101295 logg=5.42\n",
      "Changing to logg=1.50 for T=  8770 logg=1.44\n",
      "Changing to T= 50000 for T=101824 logg=5.41\n",
      "Changing to logg=5.00 for T=101824 logg=5.41\n",
      "Changing to logg=4.00 for T= 31386 logg=3.65\n",
      "Changing to T= 50000 for T= 72345 logg=4.44\n",
      "Changing to logg=5.00 for T= 72345 logg=4.44\n",
      "Changing to T=  1200 for T=   692 logg=4.44\n",
      "Changing to logg=0.00 for T=  3554 logg=-0.25\n",
      "Changing to T=  1200 for T=   808 logg=4.44\n",
      "Changing to T= 50000 for T= 61686 logg=4.15\n",
      "Changing to logg=5.00 for T= 61686 logg=4.15\n",
      "Changing to T= 50000 for T=102712 logg=5.41\n",
      "Changing to logg=5.00 for T=102712 logg=5.41\n",
      "Changing to T= 50000 for T= 69387 logg=4.36\n",
      "Changing to logg=5.00 for T= 69387 logg=4.36\n",
      "Changing to logg=1.50 for T=  8770 logg=1.44\n",
      "Changing to logg=5.00 for T=  1616 logg=4.44\n",
      "Changing to logg=0.00 for T=  3325 logg=-0.66\n",
      "Changing to logg=0.00 for T=  3325 logg=-0.66\n",
      "Changing to logg=2.00 for T=  9759 logg=1.72\n",
      "Changing to T=  1200 for T=   692 logg=4.44\n",
      "Changing to logg=0.00 for T=  3325 logg=-0.66\n",
      "Changing to logg=0.00 for T=  3554 logg=-0.25\n",
      "Changing to logg=0.00 for T=  3325 logg=-0.66\n",
      "Changing to logg=1.50 for T=  8770 logg=1.44\n",
      "Changing to T=  1200 for T=   808 logg=4.44\n",
      "Changing to logg=2.00 for T=  9671 logg=1.71\n",
      "Changing to T=  1200 for T=   808 logg=4.44\n",
      "Changing to logg=1.50 for T=  8770 logg=1.44\n",
      "Changing to logg=1.50 for T=  8770 logg=1.44\n",
      "Changing to logg=2.00 for T=  9845 logg=1.65\n",
      "Changing to logg=1.50 for T=  8770 logg=1.44\n",
      "Changing to T= 50000 for T= 68243 logg=4.33\n",
      "Changing to logg=5.00 for T= 68243 logg=4.33\n",
      "Changing to T= 50000 for T= 66627 logg=4.29\n",
      "Changing to logg=5.00 for T= 66627 logg=4.29\n",
      "Changing to logg=0.00 for T=  3325 logg=-0.66\n",
      "Changing to T=  1200 for T=   808 logg=4.44\n",
      "Changing to logg=1.50 for T=  8770 logg=1.44\n",
      "Changing to logg=0.00 for T=  3325 logg=-0.66\n",
      "Changing to logg=3.00 for T= 20116 logg=2.54\n"
     ]
    },
    {
     "name": "stdout",
     "output_type": "stream",
     "text": [
      "Changing to logg=1.50 for T=  8770 logg=1.44\n",
      "Changing to T= 50000 for T=101375 logg=5.40\n",
      "Changing to logg=5.00 for T=101375 logg=5.40\n",
      "Changing to logg=1.50 for T=  8770 logg=1.44\n",
      "Changing to T= 50000 for T= 67825 logg=4.33\n",
      "Changing to logg=5.00 for T= 67825 logg=4.33\n",
      "Changing to T=  1200 for T=   808 logg=4.44\n",
      "Changing to logg=1.50 for T=  8770 logg=1.44\n",
      "Changing to T= 50000 for T= 70351 logg=4.40\n",
      "Changing to logg=5.00 for T= 70351 logg=4.40\n",
      "Changing to logg=3.00 for T= 19590 logg=2.49\n",
      "Changing to T= 50000 for T=101037 logg=5.40\n",
      "Changing to logg=5.00 for T=101037 logg=5.40\n",
      "Changing to T=  1200 for T=   692 logg=4.44\n",
      "Changing to T= 50000 for T=100510 logg=5.42\n",
      "Changing to logg=5.00 for T=100510 logg=5.42\n",
      "Changing to logg=1.50 for T=  8770 logg=1.44\n",
      "Changing to T= 50000 for T= 63004 logg=4.19\n",
      "Changing to logg=5.00 for T= 63004 logg=4.19\n",
      "Changing to logg=0.00 for T=  3325 logg=-0.66\n",
      "Changing to T= 50000 for T= 77947 logg=5.46\n",
      "Changing to logg=5.00 for T= 77947 logg=5.46\n",
      "Changing to logg=1.50 for T=  8770 logg=1.44\n",
      "Changing to logg=5.00 for T=  1616 logg=4.44\n",
      "Changing to T=  1200 for T=   692 logg=4.44\n",
      "Changing to logg=1.50 for T=  8770 logg=1.44\n",
      "Changing to logg=2.00 for T= 11252 logg=1.72\n",
      "Changing to T= 50000 for T=101067 logg=5.42\n",
      "Changing to logg=5.00 for T=101067 logg=5.42\n",
      "Changing to logg=1.50 for T=  8770 logg=1.44\n",
      "Changing to logg=0.00 for T=  3554 logg=-0.25\n",
      "Changing to T= 50000 for T= 99582 logg=5.43\n",
      "Changing to logg=5.00 for T= 99582 logg=5.43\n",
      "Changing to T= 50000 for T= 77780 logg=5.39\n",
      "Changing to logg=5.00 for T= 77780 logg=5.39\n",
      "Changing to T= 50000 for T= 68454 logg=4.35\n",
      "Changing to logg=5.00 for T= 68454 logg=4.35\n",
      "Changing to logg=0.00 for T=  3325 logg=-0.66\n",
      "Changing to logg=1.50 for T=  8770 logg=1.44\n",
      "Changing to logg=1.50 for T=  8770 logg=1.44\n",
      "Changing to T= 50000 for T= 87789 logg=5.30\n",
      "Changing to logg=5.00 for T= 87789 logg=5.30\n",
      "Changing to T=  1200 for T=   692 logg=4.44\n",
      "Changing to T= 50000 for T=101167 logg=5.42\n",
      "Changing to logg=5.00 for T=101167 logg=5.42\n",
      "Changing to T= 50000 for T=101042 logg=5.42\n",
      "Changing to logg=5.00 for T=101042 logg=5.42\n",
      "Changing to logg=5.00 for T=  1616 logg=4.44\n",
      "Changing to T= 50000 for T= 73646 logg=5.52\n",
      "Changing to logg=5.00 for T= 73646 logg=5.52\n",
      "Changing to logg=0.00 for T=  3554 logg=-0.25\n",
      "Changing to T= 50000 for T= 64500 logg=4.23\n",
      "Changing to logg=5.00 for T= 64500 logg=4.23\n",
      "Changing to T= 50000 for T=100422 logg=5.42\n",
      "Changing to logg=5.00 for T=100422 logg=5.42\n",
      "Changing to T= 50000 for T= 87809 logg=5.45\n",
      "Changing to logg=5.00 for T= 87809 logg=5.45\n",
      "Changing to logg=0.00 for T=  3325 logg=-0.66\n",
      "Changing to logg=1.50 for T=  8770 logg=1.44\n",
      "Changing to logg=1.50 for T=  8770 logg=1.44\n",
      "Changing to logg=0.00 for T=  3325 logg=-0.66\n",
      "Changing to logg=0.00 for T=  3554 logg=-0.25\n",
      "Changing to logg=1.50 for T=  8770 logg=1.44\n",
      "Changing to T= 50000 for T= 66483 logg=4.28\n",
      "Changing to logg=5.00 for T= 66483 logg=4.28\n",
      "Changing to logg=5.00 for T=  1616 logg=4.44\n",
      "Changing to T= 50000 for T=100376 logg=5.42\n",
      "Changing to logg=5.00 for T=100376 logg=5.42\n",
      "Changing to T= 50000 for T= 62509 logg=4.18\n",
      "Changing to logg=5.00 for T= 62509 logg=4.18\n",
      "Changing to T=  1200 for T=   808 logg=4.44\n",
      "Changing to T= 50000 for T= 69929 logg=4.39\n",
      "Changing to logg=5.00 for T= 69929 logg=4.39\n",
      "Changing to logg=0.00 for T=  3337 logg=-0.66\n",
      "Changing to logg=1.50 for T=  8770 logg=1.44\n",
      "Changing to logg=1.50 for T=  8770 logg=1.44\n",
      "Changing to logg=1.50 for T=  8770 logg=1.44\n",
      "Changing to logg=5.00 for T=  1616 logg=4.44\n",
      "Changing to logg=0.00 for T=  3554 logg=-0.25\n",
      "Changing to logg=0.00 for T=  3554 logg=-0.25\n",
      "Changing to T= 50000 for T= 67602 logg=4.32\n",
      "Changing to logg=5.00 for T= 67602 logg=4.32\n",
      "Changing to T= 50000 for T= 66757 logg=4.29\n",
      "Changing to logg=5.00 for T= 66757 logg=4.29\n",
      "Changing to logg=4.50 for T= 45560 logg=3.71\n",
      "Changing to T= 50000 for T=100228 logg=5.42\n",
      "Changing to logg=5.00 for T=100228 logg=5.42\n",
      "Changing to logg=4.50 for T= 43064 logg=3.76\n",
      "Changing to T= 50000 for T=102908 logg=5.41\n",
      "Changing to logg=5.00 for T=102908 logg=5.41\n",
      "Changing to T= 50000 for T= 73018 logg=5.46\n",
      "Changing to logg=5.00 for T= 73018 logg=5.46\n",
      "Changing to T= 50000 for T= 57932 logg=4.06\n",
      "Changing to logg=5.00 for T= 57932 logg=4.06\n",
      "Changing to logg=0.00 for T=  3325 logg=-0.66\n",
      "Changing to T=  1200 for T=   808 logg=4.44\n",
      "Changing to logg=1.50 for T=  8770 logg=1.44\n",
      "Changing to logg=1.50 for T=  8770 logg=1.44\n",
      "Changing to T= 50000 for T= 69322 logg=4.37\n",
      "Changing to logg=5.00 for T= 69322 logg=4.37\n",
      "Changing to logg=1.50 for T=  8770 logg=1.44\n",
      "Changing to T=  1200 for T=   692 logg=4.44\n",
      "Changing to T= 50000 for T= 64353 logg=4.22\n",
      "Changing to logg=5.00 for T= 64353 logg=4.22\n",
      "Changing to T= 50000 for T= 62987 logg=4.19\n",
      "Changing to logg=5.00 for T= 62987 logg=4.19\n",
      "Changing to T=  1200 for T=   692 logg=4.44\n",
      "Changing to T= 50000 for T= 66211 logg=5.49\n",
      "Changing to logg=5.00 for T= 66211 logg=5.49\n",
      "Changing to logg=1.50 for T=  8770 logg=1.44\n",
      "Changing to logg=5.00 for T=  1616 logg=4.44\n",
      "Changing to logg=1.50 for T=  8770 logg=1.44\n",
      "Making photometry for isochrone: log(t) = 7.00  AKs = 0.70  dist = 100\n",
      "     Starting at:  2020-12-14 16:06:34.694753   Usually takes ~5 minutes\n",
      "Starting filter: ubv,U   Elapsed time: 0.00 seconds\n",
      "Starting synthetic photometry\n",
      "Singles\n",
      "M =   1.800 Msun  T =  8138 K  m_ubv_U = 18.65\n",
      "Primaries\n",
      "M =  11.000 Msun  T = 24663 K  m_ubv_U = 12.22\n",
      "M =  10.000 Msun  T = 25914 K  m_ubv_U = 11.61\n",
      "M =  13.000 Msun  T = 26107 K  m_ubv_U = 11.60\n",
      "M =  15.000 Msun  T = 26270 K  m_ubv_U = 10.93\n",
      "M =  16.000 Msun  T = 24883 K  m_ubv_U = 10.48\n",
      "M =   1.200 Msun  T =  5987 K  m_ubv_U = 21.20\n",
      "M =   1.400 Msun  T =  2739 K  m_ubv_U =  nan\n",
      "M =  13.000 Msun  T = 26107 K  m_ubv_U = 11.60\n",
      "M =   0.501 Msun  T =  2739 K  m_ubv_U =  nan\n",
      "M =   8.000 Msun  T = 26108 K  m_ubv_U = 11.10\n",
      "M =  15.000 Msun  T = 26270 K  m_ubv_U = 10.93\n",
      "M =   0.398 Msun  T =   nan K  m_ubv_U =  nan\n",
      "M =  16.000 Msun  T = 24883 K  m_ubv_U = 10.48\n",
      "M =   5.012 Msun  T =  2739 K  m_ubv_U =  nan\n",
      "M =  18.000 Msun  T = 27462 K  m_ubv_U = 9.90\n",
      "M =  11.000 Msun  T = 24577 K  m_ubv_U = 12.20\n",
      "M =   1.200 Msun  T =  5987 K  m_ubv_U = 21.20\n",
      "M =  15.000 Msun  T = 25823 K  m_ubv_U = 10.84\n",
      "M =  18.000 Msun  T = 23134 K  m_ubv_U = 9.10\n",
      "M =   1.400 Msun  T =  2739 K  m_ubv_U =  nan\n",
      "M =  13.000 Msun  T = 26107 K  m_ubv_U = 11.60\n",
      "M =  13.000 Msun  T = 26107 K  m_ubv_U = 11.60\n",
      "M =  15.000 Msun  T = 26270 K  m_ubv_U = 10.93\n",
      "M =   1.400 Msun  T =  2739 K  m_ubv_U =  nan\n",
      "M =   1.400 Msun  T =  6560 K  m_ubv_U = 19.99\n",
      "M =  18.000 Msun  T = 68368 K  m_ubv_U = 13.23\n",
      "M =   1.400 Msun  T =  2739 K  m_ubv_U =  nan\n",
      "M =   5.012 Msun  T =  2739 K  m_ubv_U =  nan\n",
      "M =  19.000 Msun  T = 101719 K  m_ubv_U = 14.98\n",
      "M =  17.000 Msun  T = 24307 K  m_ubv_U = 10.18\n",
      "M =  15.000 Msun  T = 26270 K  m_ubv_U = 10.93\n",
      "Secondaries\n",
      "M =   7.700 Msun  T = 22167 K  m_ubv_U = 13.56\n",
      "M =   3.000 Msun  T =   nan K  m_ubv_U =  nan\n",
      "M =   6.500 Msun  T = 20081 K  m_ubv_U = 14.08\n",
      "M =   4.500 Msun  T = 16036 K  m_ubv_U = 15.17\n",
      "M =   8.000 Msun  T = 22663 K  m_ubv_U = 13.43\n",
      "M =   0.240 Msun  T =  1385 K  m_ubv_U = 36.67\n",
      "M =  19.000 Msun  T = 101226 K  m_ubv_U = 15.03\n",
      "M =  11.700 Msun  T = 27413 K  m_ubv_U = 12.16\n",
      "M =   8.000 Msun  T = 21330 K  m_ubv_U = 13.30\n",
      "M =   6.400 Msun  T =   nan K  m_ubv_U =  nan\n",
      "M =   7.500 Msun  T = 21835 K  m_ubv_U = 13.64\n",
      "M =   1.400 Msun  T =  6571 K  m_ubv_U = 19.98\n",
      "M =   8.000 Msun  T = 22663 K  m_ubv_U = 13.43\n",
      "M =  15.000 Msun  T = 25833 K  m_ubv_U = 10.83\n",
      "M =   3.600 Msun  T = 13875 K  m_ubv_U = 15.87\n",
      "M =   3.300 Msun  T = 13101 K  m_ubv_U = 16.17\n",
      "M =   0.600 Msun  T =  3462 K  m_ubv_U = 27.28\n",
      "M =  12.000 Msun  T = 27502 K  m_ubv_U = 12.00\n",
      "M =   5.400 Msun  T =   nan K  m_ubv_U =  nan\n",
      "M =  18.000 Msun  T =  8770 K  m_ubv_U = 8.55\n",
      "M =   2.600 Msun  T = 11099 K  m_ubv_U = 17.05\n",
      "M =   5.200 Msun  T = 17553 K  m_ubv_U = 14.74\n",
      "M =   3.000 Msun  T = 12276 K  m_ubv_U = 16.50\n",
      "M =   8.000 Msun  T = 21330 K  m_ubv_U = 13.30\n",
      "M =   1.120 Msun  T =  5956 K  m_ubv_U = 21.46\n",
      "M =   1.800 Msun  T =  8303 K  m_ubv_U = 18.65\n",
      "M =  11.000 Msun  T = 24743 K  m_ubv_U = 12.22\n",
      "M =  12.000 Msun  T = 25289 K  m_ubv_U = 11.85\n",
      "M =  13.300 Msun  T = 28197 K  m_ubv_U = 11.59\n",
      "M =   5.100 Msun  T = 17346 K  m_ubv_U = 14.80\n",
      "M =   4.500 Msun  T = 16036 K  m_ubv_U = 15.17\n"
     ]
    },
    {
     "name": "stdout",
     "output_type": "stream",
     "text": [
      "Starting filter: ubv,V   Elapsed time: 11.41 seconds\n",
      "Starting synthetic photometry\n",
      "Singles\n",
      "M =   1.800 Msun  T =  8138 K  m_ubv_V = 17.55\n",
      "Primaries\n",
      "M =  11.000 Msun  T = 24663 K  m_ubv_V = 12.58\n",
      "M =  10.000 Msun  T = 25914 K  m_ubv_V = 12.01\n",
      "M =  13.000 Msun  T = 26107 K  m_ubv_V = 12.00\n",
      "M =  15.000 Msun  T = 26270 K  m_ubv_V = 11.35\n",
      "M =  16.000 Msun  T = 24883 K  m_ubv_V = 10.87\n",
      "M =   1.200 Msun  T =  5987 K  m_ubv_V = 19.59\n",
      "M =   1.400 Msun  T =  2739 K  m_ubv_V =  nan\n",
      "M =  13.000 Msun  T = 26107 K  m_ubv_V = 12.00\n",
      "M =   0.501 Msun  T =  2739 K  m_ubv_V =  nan\n",
      "M =   8.000 Msun  T = 26108 K  m_ubv_V = 11.52\n",
      "M =  15.000 Msun  T = 26270 K  m_ubv_V = 11.35\n",
      "M =   0.398 Msun  T =   nan K  m_ubv_V =  nan\n",
      "M =  16.000 Msun  T = 24883 K  m_ubv_V = 10.87\n",
      "M =   5.012 Msun  T =  2739 K  m_ubv_V =  nan\n",
      "M =  18.000 Msun  T = 27462 K  m_ubv_V = 10.37\n",
      "M =  11.000 Msun  T = 24577 K  m_ubv_V = 12.55\n",
      "M =   1.200 Msun  T =  5987 K  m_ubv_V = 19.59\n",
      "M =  15.000 Msun  T = 25823 K  m_ubv_V = 11.25\n",
      "M =  18.000 Msun  T = 23134 K  m_ubv_V = 9.47\n",
      "M =   1.400 Msun  T =  2739 K  m_ubv_V =  nan\n",
      "M =  13.000 Msun  T = 26107 K  m_ubv_V = 12.00\n",
      "M =  13.000 Msun  T = 26107 K  m_ubv_V = 12.00\n",
      "M =  15.000 Msun  T = 26270 K  m_ubv_V = 11.35\n",
      "M =   1.400 Msun  T =  2739 K  m_ubv_V =  nan\n",
      "M =   1.400 Msun  T =  6560 K  m_ubv_V = 18.64\n",
      "M =  18.000 Msun  T = 68368 K  m_ubv_V = 13.89\n",
      "M =   1.400 Msun  T =  2739 K  m_ubv_V =  nan\n",
      "M =   5.012 Msun  T =  2739 K  m_ubv_V =  nan\n",
      "M =  19.000 Msun  T = 101719 K  m_ubv_V = 15.63\n",
      "M =  17.000 Msun  T = 24307 K  m_ubv_V = 10.56\n",
      "M =  15.000 Msun  T = 26270 K  m_ubv_V = 11.35\n",
      "Secondaries\n",
      "M =   7.700 Msun  T = 22167 K  m_ubv_V = 13.81\n",
      "M =   3.000 Msun  T =   nan K  m_ubv_V =  nan\n",
      "M =   6.500 Msun  T = 20081 K  m_ubv_V = 14.24\n",
      "M =   4.500 Msun  T = 16036 K  m_ubv_V = 15.11\n",
      "M =   8.000 Msun  T = 22663 K  m_ubv_V = 13.70\n",
      "M =   0.240 Msun  T =  1385 K  m_ubv_V = 35.06\n",
      "M =  19.000 Msun  T = 101226 K  m_ubv_V = 15.68\n",
      "M =  11.700 Msun  T = 27413 K  m_ubv_V = 12.59\n",
      "M =   8.000 Msun  T = 21330 K  m_ubv_V = 13.52\n",
      "M =   6.400 Msun  T =   nan K  m_ubv_V =  nan\n",
      "M =   7.500 Msun  T = 21835 K  m_ubv_V = 13.88\n",
      "M =   1.400 Msun  T =  6571 K  m_ubv_V = 18.64\n",
      "M =   8.000 Msun  T = 22663 K  m_ubv_V = 13.70\n",
      "M =  15.000 Msun  T = 25833 K  m_ubv_V = 11.24\n",
      "M =   3.600 Msun  T = 13875 K  m_ubv_V = 15.64\n",
      "M =   3.300 Msun  T = 13101 K  m_ubv_V = 15.86\n",
      "M =   0.600 Msun  T =  3462 K  m_ubv_V = 24.38\n",
      "M =  12.000 Msun  T = 27502 K  m_ubv_V = 12.44\n",
      "M =   5.400 Msun  T =   nan K  m_ubv_V =  nan\n",
      "M =  18.000 Msun  T =  8770 K  m_ubv_V = 7.77\n",
      "M =   2.600 Msun  T = 11099 K  m_ubv_V = 16.47\n",
      "M =   5.200 Msun  T = 17553 K  m_ubv_V = 14.77\n",
      "M =   3.000 Msun  T = 12276 K  m_ubv_V = 16.10\n",
      "M =   8.000 Msun  T = 21330 K  m_ubv_V = 13.52\n",
      "M =   1.120 Msun  T =  5956 K  m_ubv_V = 19.83\n",
      "M =   1.800 Msun  T =  8303 K  m_ubv_V = 17.58\n",
      "M =  11.000 Msun  T = 24743 K  m_ubv_V = 12.58\n",
      "M =  12.000 Msun  T = 25289 K  m_ubv_V = 12.23\n",
      "M =  13.300 Msun  T = 28197 K  m_ubv_V = 12.04\n",
      "M =   5.100 Msun  T = 17346 K  m_ubv_V = 14.82\n",
      "M =   4.500 Msun  T = 16036 K  m_ubv_V = 15.11\n",
      "Starting filter: ubv,B   Elapsed time: 20.83 seconds\n",
      "Starting synthetic photometry\n",
      "Singles\n",
      "M =   1.800 Msun  T =  8138 K  m_ubv_B = 18.62\n",
      "Primaries\n",
      "M =  11.000 Msun  T = 24663 K  m_ubv_B = 13.14\n",
      "M =  10.000 Msun  T = 25914 K  m_ubv_B = 12.56\n",
      "M =  13.000 Msun  T = 26107 K  m_ubv_B = 12.56\n",
      "M =  15.000 Msun  T = 26270 K  m_ubv_B = 11.91\n",
      "M =  16.000 Msun  T = 24883 K  m_ubv_B = 11.43\n",
      "M =   1.200 Msun  T =  5987 K  m_ubv_B = 21.22\n",
      "M =   1.400 Msun  T =  2739 K  m_ubv_B =  nan\n",
      "M =  13.000 Msun  T = 26107 K  m_ubv_B = 12.56\n",
      "M =   0.501 Msun  T =  2739 K  m_ubv_B =  nan\n",
      "M =   8.000 Msun  T = 26108 K  m_ubv_B = 12.07\n",
      "M =  15.000 Msun  T = 26270 K  m_ubv_B = 11.91\n",
      "M =   0.398 Msun  T =   nan K  m_ubv_B =  nan\n",
      "M =  16.000 Msun  T = 24883 K  m_ubv_B = 11.43\n",
      "M =   5.012 Msun  T =  2739 K  m_ubv_B =  nan\n",
      "M =  18.000 Msun  T = 27462 K  m_ubv_B = 10.91\n",
      "M =  11.000 Msun  T = 24577 K  m_ubv_B = 13.12\n",
      "M =   1.200 Msun  T =  5987 K  m_ubv_B = 21.22\n",
      "M =  15.000 Msun  T = 25823 K  m_ubv_B = 11.80\n",
      "M =  18.000 Msun  T = 23134 K  m_ubv_B = 10.06\n",
      "M =   1.400 Msun  T =  2739 K  m_ubv_B =  nan\n",
      "M =  13.000 Msun  T = 26107 K  m_ubv_B = 12.56\n",
      "M =  13.000 Msun  T = 26107 K  m_ubv_B = 12.56\n",
      "M =  15.000 Msun  T = 26270 K  m_ubv_B = 11.91\n",
      "M =   1.400 Msun  T =  2739 K  m_ubv_B =  nan\n",
      "M =   1.400 Msun  T =  6560 K  m_ubv_B = 20.07\n",
      "M =  18.000 Msun  T = 68368 K  m_ubv_B = 14.35\n",
      "M =   1.400 Msun  T =  2739 K  m_ubv_B =  nan\n",
      "M =   5.012 Msun  T =  2739 K  m_ubv_B =  nan\n",
      "M =  19.000 Msun  T = 101719 K  m_ubv_B = 16.09\n",
      "M =  17.000 Msun  T = 24307 K  m_ubv_B = 11.14\n",
      "M =  15.000 Msun  T = 26270 K  m_ubv_B = 11.91\n",
      "Secondaries\n",
      "M =   7.700 Msun  T = 22167 K  m_ubv_B = 14.40\n",
      "M =   3.000 Msun  T =   nan K  m_ubv_B =  nan\n",
      "M =   6.500 Msun  T = 20081 K  m_ubv_B = 14.85\n",
      "M =   4.500 Msun  T = 16036 K  m_ubv_B = 15.78\n",
      "M =   8.000 Msun  T = 22663 K  m_ubv_B = 14.28\n",
      "M =   0.240 Msun  T =  1385 K  m_ubv_B = 37.68\n",
      "M =  19.000 Msun  T = 101226 K  m_ubv_B = 16.14\n",
      "M =  11.700 Msun  T = 27413 K  m_ubv_B = 13.13\n",
      "M =   8.000 Msun  T = 21330 K  m_ubv_B = 14.12\n",
      "M =   6.400 Msun  T =   nan K  m_ubv_B =  nan\n",
      "M =   7.500 Msun  T = 21835 K  m_ubv_B = 14.47\n",
      "M =   1.400 Msun  T =  6571 K  m_ubv_B = 20.06\n",
      "M =   8.000 Msun  T = 22663 K  m_ubv_B = 14.28\n",
      "M =  15.000 Msun  T = 25833 K  m_ubv_B = 11.80\n",
      "M =   3.600 Msun  T = 13875 K  m_ubv_B = 16.35\n",
      "M =   3.300 Msun  T = 13101 K  m_ubv_B = 16.58\n",
      "M =   0.600 Msun  T =  3462 K  m_ubv_B = 26.79\n",
      "M =  12.000 Msun  T = 27502 K  m_ubv_B = 12.98\n",
      "M =   5.400 Msun  T =   nan K  m_ubv_B =  nan\n",
      "M =  18.000 Msun  T =  8770 K  m_ubv_B = 8.64\n",
      "M =   2.600 Msun  T = 11099 K  m_ubv_B = 17.25\n",
      "M =   5.200 Msun  T = 17553 K  m_ubv_B = 15.42\n",
      "M =   3.000 Msun  T = 12276 K  m_ubv_B = 16.84\n",
      "M =   8.000 Msun  T = 21330 K  m_ubv_B = 14.12\n",
      "M =   1.120 Msun  T =  5956 K  m_ubv_B = 21.47\n",
      "M =   1.800 Msun  T =  8303 K  m_ubv_B = 18.62\n",
      "M =  11.000 Msun  T = 24743 K  m_ubv_B = 13.14\n",
      "M =  12.000 Msun  T = 25289 K  m_ubv_B = 12.79\n",
      "M =  13.300 Msun  T = 28197 K  m_ubv_B = 12.58\n",
      "M =   5.100 Msun  T = 17346 K  m_ubv_B = 15.46\n",
      "M =   4.500 Msun  T = 16036 K  m_ubv_B = 15.78\n",
      "Starting filter: ubv,R   Elapsed time: 30.18 seconds\n",
      "Starting synthetic photometry\n",
      "Singles\n",
      "M =   1.800 Msun  T =  8138 K  m_ubv_R = 14.84\n",
      "Primaries\n",
      "M =  11.000 Msun  T = 24663 K  m_ubv_R = 10.08\n",
      "M =  10.000 Msun  T = 25914 K  m_ubv_R = 9.52\n",
      "M =  13.000 Msun  T = 26107 K  m_ubv_R = 9.51\n",
      "M =  15.000 Msun  T = 26270 K  m_ubv_R = 8.86\n",
      "M =  16.000 Msun  T = 24883 K  m_ubv_R = 8.37\n",
      "M =   1.200 Msun  T =  5987 K  m_ubv_R = 16.63\n",
      "M =   1.400 Msun  T =  2739 K  m_ubv_R =  nan\n",
      "M =  13.000 Msun  T = 26107 K  m_ubv_R = 9.51\n",
      "M =   0.501 Msun  T =  2739 K  m_ubv_R =  nan\n",
      "M =   8.000 Msun  T = 26108 K  m_ubv_R = 9.03\n",
      "M =  15.000 Msun  T = 26270 K  m_ubv_R = 8.86\n",
      "M =   0.398 Msun  T =   nan K  m_ubv_R =  nan\n",
      "M =  16.000 Msun  T = 24883 K  m_ubv_R = 8.37\n",
      "M =   5.012 Msun  T =  2739 K  m_ubv_R =  nan\n",
      "M =  18.000 Msun  T = 27462 K  m_ubv_R = 7.88\n",
      "M =  11.000 Msun  T = 24577 K  m_ubv_R = 10.05\n",
      "M =   1.200 Msun  T =  5987 K  m_ubv_R = 16.63\n",
      "M =  15.000 Msun  T = 25823 K  m_ubv_R = 8.76\n",
      "M =  18.000 Msun  T = 23134 K  m_ubv_R = 6.96\n",
      "M =   1.400 Msun  T =  2739 K  m_ubv_R =  nan\n",
      "M =  13.000 Msun  T = 26107 K  m_ubv_R = 9.51\n",
      "M =  13.000 Msun  T = 26107 K  m_ubv_R = 9.51\n",
      "M =  15.000 Msun  T = 26270 K  m_ubv_R = 8.86\n",
      "M =   1.400 Msun  T =  2739 K  m_ubv_R =  nan\n",
      "M =   1.400 Msun  T =  6560 K  m_ubv_R = 15.75\n",
      "M =  18.000 Msun  T = 68368 K  m_ubv_R = 11.42\n",
      "M =   1.400 Msun  T =  2739 K  m_ubv_R =  nan\n",
      "M =   5.012 Msun  T =  2739 K  m_ubv_R =  nan\n",
      "M =  19.000 Msun  T = 101719 K  m_ubv_R = 13.17\n",
      "M =  17.000 Msun  T = 24307 K  m_ubv_R = 8.06\n",
      "M =  15.000 Msun  T = 26270 K  m_ubv_R = 8.86\n",
      "Secondaries\n",
      "M =   7.700 Msun  T = 22167 K  m_ubv_R = 11.30\n",
      "M =   3.000 Msun  T =   nan K  m_ubv_R =  nan\n",
      "M =   6.500 Msun  T = 20081 K  m_ubv_R = 11.72\n",
      "M =   4.500 Msun  T = 16036 K  m_ubv_R = 12.57\n",
      "M =   8.000 Msun  T = 22663 K  m_ubv_R = 11.19\n",
      "M =   0.240 Msun  T =  1385 K  m_ubv_R = 28.85\n",
      "M =  19.000 Msun  T = 101226 K  m_ubv_R = 13.21\n",
      "M =  11.700 Msun  T = 27413 K  m_ubv_R = 10.11\n",
      "M =   8.000 Msun  T = 21330 K  m_ubv_R = 11.01\n",
      "M =   6.400 Msun  T =   nan K  m_ubv_R =  nan\n",
      "M =   7.500 Msun  T = 21835 K  m_ubv_R = 11.37\n"
     ]
    },
    {
     "name": "stdout",
     "output_type": "stream",
     "text": [
      "M =   1.400 Msun  T =  6571 K  m_ubv_R = 15.75\n",
      "M =   8.000 Msun  T = 22663 K  m_ubv_R = 11.19\n",
      "M =  15.000 Msun  T = 25833 K  m_ubv_R = 8.75\n",
      "M =   3.600 Msun  T = 13875 K  m_ubv_R = 13.08\n",
      "M =   3.300 Msun  T = 13101 K  m_ubv_R = 13.29\n",
      "M =   0.600 Msun  T =  3462 K  m_ubv_R = 20.46\n",
      "M =  12.000 Msun  T = 27502 K  m_ubv_R = 9.95\n",
      "M =   5.400 Msun  T =   nan K  m_ubv_R =  nan\n",
      "M =  18.000 Msun  T =  8770 K  m_ubv_R = 5.11\n",
      "M =   2.600 Msun  T = 11099 K  m_ubv_R = 13.89\n",
      "M =   5.200 Msun  T = 17553 K  m_ubv_R = 12.24\n",
      "M =   3.000 Msun  T = 12276 K  m_ubv_R = 13.53\n",
      "M =   8.000 Msun  T = 21330 K  m_ubv_R = 11.01\n",
      "M =   1.120 Msun  T =  5956 K  m_ubv_R = 16.87\n",
      "M =   1.800 Msun  T =  8303 K  m_ubv_R = 14.88\n",
      "M =  11.000 Msun  T = 24743 K  m_ubv_R = 10.08\n",
      "M =  12.000 Msun  T = 25289 K  m_ubv_R = 9.73\n",
      "M =  13.300 Msun  T = 28197 K  m_ubv_R = 9.56\n",
      "M =   5.100 Msun  T = 17346 K  m_ubv_R = 12.28\n",
      "M =   4.500 Msun  T = 16036 K  m_ubv_R = 12.57\n",
      "Starting filter: ubv,I   Elapsed time: 39.42 seconds\n",
      "Starting synthetic photometry\n",
      "Singles\n",
      "M =   1.800 Msun  T =  8138 K  m_ubv_I = 11.23\n",
      "Primaries\n",
      "M =  11.000 Msun  T = 24663 K  m_ubv_I = 6.78\n",
      "M =  10.000 Msun  T = 25914 K  m_ubv_I = 6.22\n",
      "M =  13.000 Msun  T = 26107 K  m_ubv_I = 6.22\n",
      "M =  15.000 Msun  T = 26270 K  m_ubv_I = 5.57\n",
      "M =  16.000 Msun  T = 24883 K  m_ubv_I = 5.07\n",
      "M =   1.200 Msun  T =  5987 K  m_ubv_I = 12.81\n",
      "M =   1.400 Msun  T =  2739 K  m_ubv_I =  nan\n",
      "M =  13.000 Msun  T = 26107 K  m_ubv_I = 6.22\n",
      "M =   0.501 Msun  T =  2739 K  m_ubv_I =  nan\n",
      "M =   8.000 Msun  T = 26108 K  m_ubv_I = 5.74\n",
      "M =  15.000 Msun  T = 26270 K  m_ubv_I = 5.57\n",
      "M =   0.398 Msun  T =   nan K  m_ubv_I =  nan\n",
      "M =  16.000 Msun  T = 24883 K  m_ubv_I = 5.07\n",
      "M =   5.012 Msun  T =  2739 K  m_ubv_I =  nan\n",
      "M =  18.000 Msun  T = 27462 K  m_ubv_I = 4.60\n",
      "M =  11.000 Msun  T = 24577 K  m_ubv_I = 6.75\n",
      "M =   1.200 Msun  T =  5987 K  m_ubv_I = 12.81\n",
      "M =  15.000 Msun  T = 25823 K  m_ubv_I = 5.46\n",
      "M =  18.000 Msun  T = 23134 K  m_ubv_I = 3.65\n",
      "M =   1.400 Msun  T =  2739 K  m_ubv_I =  nan\n",
      "M =  13.000 Msun  T = 26107 K  m_ubv_I = 6.22\n",
      "M =  13.000 Msun  T = 26107 K  m_ubv_I = 6.22\n",
      "M =  15.000 Msun  T = 26270 K  m_ubv_I = 5.57\n",
      "M =   1.400 Msun  T =  2739 K  m_ubv_I =  nan\n",
      "M =   1.400 Msun  T =  6560 K  m_ubv_I = 12.00\n",
      "M =  18.000 Msun  T = 68368 K  m_ubv_I = 8.19\n",
      "M =   1.400 Msun  T =  2739 K  m_ubv_I =  nan\n",
      "M =   5.012 Msun  T =  2739 K  m_ubv_I =  nan\n",
      "M =  19.000 Msun  T = 101719 K  m_ubv_I = 9.93\n",
      "M =  17.000 Msun  T = 24307 K  m_ubv_I = 4.76\n",
      "M =  15.000 Msun  T = 26270 K  m_ubv_I = 5.57\n",
      "Secondaries\n",
      "M =   7.700 Msun  T = 22167 K  m_ubv_I = 7.98\n",
      "M =   3.000 Msun  T =   nan K  m_ubv_I =  nan\n",
      "M =   6.500 Msun  T = 20081 K  m_ubv_I = 8.38\n",
      "M =   4.500 Msun  T = 16036 K  m_ubv_I = 9.18\n",
      "M =   8.000 Msun  T = 22663 K  m_ubv_I = 7.88\n",
      "M =   0.240 Msun  T =  1385 K  m_ubv_I = 21.83\n",
      "M =  19.000 Msun  T = 101226 K  m_ubv_I = 9.98\n",
      "M =  11.700 Msun  T = 27413 K  m_ubv_I = 6.82\n",
      "M =   8.000 Msun  T = 21330 K  m_ubv_I = 7.69\n",
      "M =   6.400 Msun  T =   nan K  m_ubv_I =  nan\n",
      "M =   7.500 Msun  T = 21835 K  m_ubv_I = 8.05\n",
      "M =   1.400 Msun  T =  6571 K  m_ubv_I = 12.00\n",
      "M =   8.000 Msun  T = 22663 K  m_ubv_I = 7.88\n",
      "M =  15.000 Msun  T = 25833 K  m_ubv_I = 5.46\n",
      "M =   3.600 Msun  T = 13875 K  m_ubv_I = 9.66\n",
      "M =   3.300 Msun  T = 13101 K  m_ubv_I = 9.85\n",
      "M =   0.600 Msun  T =  3462 K  m_ubv_I = 15.69\n",
      "M =  12.000 Msun  T = 27502 K  m_ubv_I = 6.67\n",
      "M =   5.400 Msun  T =   nan K  m_ubv_I =  nan\n",
      "M =  18.000 Msun  T =  8770 K  m_ubv_I = 1.51\n",
      "M =   2.600 Msun  T = 11099 K  m_ubv_I = 10.40\n",
      "M =   5.200 Msun  T = 17553 K  m_ubv_I = 8.87\n",
      "M =   3.000 Msun  T = 12276 K  m_ubv_I = 10.07\n",
      "M =   8.000 Msun  T = 21330 K  m_ubv_I = 7.69\n",
      "M =   1.120 Msun  T =  5956 K  m_ubv_I = 13.05\n",
      "M =   1.800 Msun  T =  8303 K  m_ubv_I = 11.28\n",
      "M =  11.000 Msun  T = 24743 K  m_ubv_I = 6.78\n",
      "M =  12.000 Msun  T = 25289 K  m_ubv_I = 6.44\n",
      "M =  13.300 Msun  T = 28197 K  m_ubv_I = 6.28\n",
      "M =   5.100 Msun  T = 17346 K  m_ubv_I = 8.91\n",
      "M =   4.500 Msun  T = 16036 K  m_ubv_I = 9.18\n",
      "      Time taken: 48.64 seconds\n",
      "Isochrone generation took 455.971505 s.\n"
     ]
    }
   ],
   "source": [
    "import spisea\n",
    "from spisea import evolution, synthetic\n",
    "import math\n",
    "# Check if the evolution class works fine\n",
    "import time\n",
    "t1=time.time()\n",
    "bps=evolution.BPASS()\n",
    "iso1=synthetic.Isochrone_Binary(7.0, 0.7, 100,math.log10(1), mass_sampling=1, filepath='/g/lu/scratch/ryotainagaki/BPASS_iso_filesTimedIsolated/')"
   ]
  },
  {
   "cell_type": "markdown",
   "metadata": {},
   "source": [
    "For a sanity check, we can see that the primaries, secondaries, and single stars have phasees of 5 or of 101 or of 110. Note that we will have a phase of 110 in order to indicate a mystery compact remnant that BPASS provides for NEWSECMODS (secondary star models with compact primaries). This is since we haven't added neutron stars or black holes yet. Stars with phase of -99 exist, and those are the secondary stars that have already merged."
   ]
  },
  {
   "cell_type": "code",
   "execution_count": 2,
   "metadata": {},
   "outputs": [
    {
     "data": {
      "text/plain": [
       "False"
      ]
     },
     "execution_count": 2,
     "metadata": {},
     "output_type": "execute_result"
    }
   ],
   "source": [
    "import numpy as np\n",
    "np.all([(x==5 or x==101) for x in iso1.primaries['phase']])"
   ]
  },
  {
   "cell_type": "code",
   "execution_count": 3,
   "metadata": {},
   "outputs": [
    {
     "data": {
      "text/plain": [
       "True"
      ]
     },
     "execution_count": 3,
     "metadata": {},
     "output_type": "execute_result"
    }
   ],
   "source": [
    "np.all([(x==5 or x==101) for x in iso1.singles['phase']])"
   ]
  },
  {
   "cell_type": "code",
   "execution_count": 4,
   "metadata": {},
   "outputs": [
    {
     "data": {
      "text/plain": [
       "True"
      ]
     },
     "execution_count": 4,
     "metadata": {},
     "output_type": "execute_result"
    }
   ],
   "source": [
    "np.all([(x==5 or x==101 or x==-99) for x in iso1.secondaries['phase']])"
   ]
  },
  {
   "cell_type": "markdown",
   "metadata": {},
   "source": [
    "Find the maximum, mean, and median  values of logg (cgs) for primaries, single stars, and secondaries. "
   ]
  },
  {
   "cell_type": "code",
   "execution_count": 5,
   "metadata": {},
   "outputs": [
    {
     "data": {
      "text/plain": [
       "4.585626078546701"
      ]
     },
     "execution_count": 5,
     "metadata": {},
     "output_type": "execute_result"
    }
   ],
   "source": [
    "import numpy as np\n",
    "np.max(iso1.singles['logg'])"
   ]
  },
  {
   "cell_type": "code",
   "execution_count": 6,
   "metadata": {},
   "outputs": [
    {
     "data": {
      "text/plain": [
       "5.916387471716592"
      ]
     },
     "execution_count": 6,
     "metadata": {},
     "output_type": "execute_result"
    }
   ],
   "source": [
    "import numpy as np\n",
    "np.max(np.nan_to_num(iso1.primaries['logg'], -np.inf))"
   ]
  },
  {
   "cell_type": "code",
   "execution_count": 7,
   "metadata": {},
   "outputs": [
    {
     "data": {
      "text/plain": [
       "5.7676806790772"
      ]
     },
     "execution_count": 7,
     "metadata": {},
     "output_type": "execute_result"
    }
   ],
   "source": [
    "np.max(np.nan_to_num(iso1.secondaries['logg']))"
   ]
  },
  {
   "cell_type": "code",
   "execution_count": 8,
   "metadata": {},
   "outputs": [
    {
     "data": {
      "text/plain": [
       "4.148394193281249"
      ]
     },
     "execution_count": 8,
     "metadata": {},
     "output_type": "execute_result"
    }
   ],
   "source": [
    "np.mean(iso1.singles['logg'])"
   ]
  },
  {
   "cell_type": "code",
   "execution_count": 9,
   "metadata": {},
   "outputs": [
    {
     "data": {
      "text/plain": [
       "3.7622722522134566"
      ]
     },
     "execution_count": 9,
     "metadata": {},
     "output_type": "execute_result"
    }
   ],
   "source": [
    "np.mean((np.nan_to_num(iso1.secondaries['logg'])))"
   ]
  },
  {
   "cell_type": "code",
   "execution_count": 10,
   "metadata": {},
   "outputs": [
    {
     "data": {
      "text/plain": [
       "4.035012310497645"
      ]
     },
     "execution_count": 10,
     "metadata": {},
     "output_type": "execute_result"
    }
   ],
   "source": [
    "np.mean((np.nan_to_num(iso1.primaries['logg'])))"
   ]
  },
  {
   "cell_type": "code",
   "execution_count": 11,
   "metadata": {},
   "outputs": [
    {
     "data": {
      "text/plain": [
       "4.16304552121136"
      ]
     },
     "execution_count": 11,
     "metadata": {},
     "output_type": "execute_result"
    }
   ],
   "source": [
    "np.median(iso1.singles['logg'])"
   ]
  },
  {
   "cell_type": "code",
   "execution_count": 12,
   "metadata": {},
   "outputs": [
    {
     "data": {
      "text/plain": [
       "nan"
      ]
     },
     "execution_count": 12,
     "metadata": {},
     "output_type": "execute_result"
    }
   ],
   "source": [
    "np.median(iso1.primaries['logg'])"
   ]
  },
  {
   "cell_type": "code",
   "execution_count": 13,
   "metadata": {},
   "outputs": [
    {
     "data": {
      "text/plain": [
       "Text(0.5, 0, 'logg in cgs')"
      ]
     },
     "execution_count": 13,
     "metadata": {},
     "output_type": "execute_result"
    },
    {
     "data": {
      "image/png": "[encoded data removed]",
      "text/plain": [
       "<Figure size 432x288 with 1 Axes>"
      ]
     },
     "metadata": {
      "needs_background": "light"
     },
     "output_type": "display_data"
    }
   ],
   "source": [
    "import matplotlib.pyplot as plt\n",
    "plt.title(\"Distribution of logg values (secondaries) of isochrone\")\n",
    "plt.hist(np.array([x for x in iso1.secondaries['logg'] if np.isfinite(x)]), np.arange(0, 30, 1))\n",
    "plt.xlabel(\"logg in cgs\")"
   ]
  },
  {
   "cell_type": "code",
   "execution_count": 14,
   "metadata": {},
   "outputs": [
    {
     "data": {
      "text/plain": [
       "Text(0.5, 0, 'logg in cgs')"
      ]
     },
     "execution_count": 14,
     "metadata": {},
     "output_type": "execute_result"
    },
    {
     "data": {
      "image/png": "[encoded data removed]",
      "text/plain": [
       "<Figure size 432x288 with 1 Axes>"
      ]
     },
     "metadata": {
      "needs_background": "light"
     },
     "output_type": "display_data"
    }
   ],
   "source": [
    "import matplotlib.pyplot as plt\n",
    "plt.title(\"Distribution of logg values (primaries) of isochrone\")\n",
    "plt.hist(np.array([x for x in iso1.primaries['logg'] if np.isfinite(x)]), np.arange(0, 30, 1))\n",
    "plt.xlabel(\"logg in cgs\")"
   ]
  },
  {
   "cell_type": "code",
   "execution_count": 15,
   "metadata": {},
   "outputs": [
    {
     "data": {
      "text/plain": [
       "Text(0.5, 0, 'logg in cgs')"
      ]
     },
     "execution_count": 15,
     "metadata": {},
     "output_type": "execute_result"
    },
    {
     "data": {
      "image/png": "[encoded data removed]",
      "text/plain": [
       "<Figure size 432x288 with 1 Axes>"
      ]
     },
     "metadata": {
      "needs_background": "light"
     },
     "output_type": "display_data"
    }
   ],
   "source": [
    "import matplotlib.pyplot as plt\n",
    "plt.title(\"Distribution of logg values single stars of isochrone\")\n",
    "plt.hist(np.array([x for x in iso1.singles['logg'] if np.isfinite(x)]), np.arange(0, 30, 1))\n",
    "plt.xlabel(\"logg in cgs\")"
   ]
  },
  {
   "cell_type": "code",
   "execution_count": 16,
   "metadata": {},
   "outputs": [
    {
     "name": "stdout",
     "output_type": "stream",
     "text": [
      "Changing to logg=3.50 for T= 26068 logg=3.41\n",
      "Changing to logg=3.50 for T= 26167 logg=3.41\n",
      "Changing to logg=3.50 for T= 26263 logg=3.42\n",
      "Changing to logg=3.50 for T= 26355 logg=3.42\n",
      "Changing to logg=3.50 for T= 26443 logg=3.42\n",
      "Changing to logg=3.50 for T= 26528 logg=3.43\n",
      "Changing to logg=3.50 for T= 26609 logg=3.43\n",
      "Changing to logg=3.50 for T= 26685 logg=3.43\n",
      "Changing to logg=3.50 for T= 26758 logg=3.43\n",
      "Changing to logg=3.50 for T= 26826 logg=3.44\n",
      "Changing to logg=3.50 for T= 26889 logg=3.44\n",
      "Changing to logg=3.50 for T= 26943 logg=3.44\n",
      "Changing to logg=3.50 for T= 26985 logg=3.44\n",
      "Changing to logg=3.50 for T= 27008 logg=3.45\n",
      "Changing to logg=3.50 for T= 27006 logg=3.45\n",
      "Changing to logg=3.50 for T= 26955 logg=3.45\n",
      "Changing to logg=3.50 for T= 26861 logg=3.44\n",
      "Changing to logg=3.50 for T= 26740 logg=3.44\n",
      "Changing to logg=3.50 for T= 26600 logg=3.44\n",
      "Changing to logg=3.50 for T= 26446 logg=3.43\n",
      "Changing to logg=3.50 for T= 26289 logg=3.42\n",
      "Changing to logg=3.50 for T= 26128 logg=3.41\n",
      "Changing to logg=3.00 for T= 21082 logg=2.99\n",
      "Changing to logg=3.00 for T= 20939 logg=2.98\n",
      "Changing to logg=3.00 for T= 20797 logg=2.97\n",
      "Changing to logg=3.00 for T= 20655 logg=2.96\n",
      "Changing to logg=3.00 for T= 20513 logg=2.94\n",
      "Changing to logg=3.00 for T= 20372 logg=2.93\n",
      "Changing to logg=3.00 for T= 20231 logg=2.92\n",
      "Changing to logg=3.00 for T= 20091 logg=2.91\n",
      "Changing to logg=3.00 for T= 19951 logg=2.90\n",
      "Changing to logg=3.00 for T= 19813 logg=2.88\n",
      "Changing to logg=3.00 for T= 19675 logg=2.87\n",
      "Changing to logg=3.00 for T= 19538 logg=2.86\n",
      "Changing to logg=3.00 for T= 19401 logg=2.85\n",
      "Changing to logg=3.00 for T= 19265 logg=2.83\n",
      "Changing to logg=3.00 for T= 19131 logg=2.82\n",
      "Changing to logg=2.50 for T= 15896 logg=2.49\n",
      "Changing to logg=2.50 for T= 15781 logg=2.48\n",
      "Changing to logg=2.50 for T= 15667 logg=2.47\n",
      "Changing to logg=2.50 for T= 15554 logg=2.46\n",
      "Changing to logg=2.50 for T= 15442 logg=2.44\n",
      "Changing to logg=2.50 for T= 15330 logg=2.43\n",
      "Changing to logg=2.50 for T= 15219 logg=2.42\n",
      "Changing to logg=2.50 for T= 15109 logg=2.40\n",
      "Changing to logg=2.50 for T= 14999 logg=2.39\n",
      "Changing to logg=2.50 for T= 14891 logg=2.38\n",
      "Changing to logg=2.50 for T= 14782 logg=2.37\n",
      "Changing to logg=2.50 for T= 14675 logg=2.35\n",
      "Changing to logg=2.50 for T= 14569 logg=2.34\n",
      "Changing to logg=2.50 for T= 14463 logg=2.33\n",
      "Changing to logg=2.50 for T= 14358 logg=2.31\n",
      "Changing to logg=2.50 for T= 14254 logg=2.30\n",
      "Changing to logg=2.50 for T= 14150 logg=2.29\n",
      "Changing to logg=2.50 for T= 14048 logg=2.27\n",
      "Changing to logg=2.50 for T= 13946 logg=2.26\n",
      "Changing to logg=2.50 for T= 13844 logg=2.25\n",
      "Changing to logg=2.50 for T= 13744 logg=2.23\n",
      "Changing to logg=2.50 for T= 13644 logg=2.22\n",
      "Changing to logg=2.50 for T= 13545 logg=2.21\n",
      "Changing to logg=2.50 for T= 13447 logg=2.19\n",
      "Changing to logg=2.50 for T= 13350 logg=2.18\n",
      "Changing to logg=2.50 for T= 13253 logg=2.17\n",
      "Changing to logg=2.50 for T= 13157 logg=2.16\n",
      "Changing to logg=2.50 for T= 13061 logg=2.14\n",
      "Changing to logg=2.50 for T= 12967 logg=2.13\n",
      "Changing to logg=2.50 for T= 12873 logg=2.12\n",
      "Changing to logg=2.50 for T= 12779 logg=2.10\n",
      "Changing to logg=2.50 for T= 12687 logg=2.09\n",
      "Changing to logg=2.50 for T= 12595 logg=2.08\n",
      "Changing to logg=2.50 for T= 12504 logg=2.06\n",
      "Changing to logg=2.50 for T= 12413 logg=2.05\n",
      "Changing to logg=2.50 for T= 12323 logg=2.04\n",
      "Changing to logg=2.50 for T= 12234 logg=2.02\n",
      "Changing to logg=2.50 for T= 12145 logg=2.01\n",
      "Changing to logg=2.50 for T= 12058 logg=2.00\n",
      "Changing to logg=2.50 for T= 11970 logg=1.98\n",
      "Changing to logg=2.50 for T= 11884 logg=1.97\n",
      "Changing to logg=2.50 for T= 11798 logg=1.96\n",
      "Changing to logg=2.00 for T= 11712 logg=1.94\n",
      "Changing to logg=2.00 for T= 11628 logg=1.93\n",
      "Changing to logg=2.00 for T= 11543 logg=1.92\n",
      "Changing to logg=2.00 for T= 11460 logg=1.90\n",
      "Changing to logg=2.00 for T= 11377 logg=1.89\n",
      "Changing to logg=2.00 for T= 11295 logg=1.88\n",
      "Changing to logg=2.00 for T= 11213 logg=1.86\n",
      "Changing to logg=2.00 for T= 11132 logg=1.85\n",
      "Changing to logg=2.00 for T= 11052 logg=1.84\n",
      "Changing to logg=2.00 for T= 10972 logg=1.82\n",
      "Changing to logg=2.00 for T= 10893 logg=1.81\n",
      "Changing to logg=2.00 for T= 10814 logg=1.80\n",
      "Changing to logg=2.00 for T= 10736 logg=1.78\n",
      "Changing to logg=2.00 for T= 10658 logg=1.77\n",
      "Changing to logg=2.00 for T= 10582 logg=1.76\n",
      "Changing to logg=2.00 for T= 10505 logg=1.74\n",
      "Changing to logg=2.00 for T= 10429 logg=1.73\n",
      "Changing to logg=2.00 for T= 10354 logg=1.72\n",
      "Changing to logg=2.00 for T= 10280 logg=1.71\n",
      "Changing to logg=2.00 for T= 10206 logg=1.69\n",
      "Changing to logg=2.00 for T= 10132 logg=1.68\n",
      "Changing to logg=2.00 for T= 10059 logg=1.67\n",
      "Changing to logg=2.00 for T=  9987 logg=1.65\n",
      "Changing to logg=2.00 for T=  9915 logg=1.64\n",
      "Changing to logg=2.00 for T=  9844 logg=1.63\n",
      "Changing to logg=2.00 for T=  9773 logg=1.61\n",
      "Changing to logg=2.00 for T=  9703 logg=1.60\n",
      "Changing to logg=2.00 for T=  9634 logg=1.59\n",
      "Changing to logg=2.00 for T=  9565 logg=1.58\n",
      "Changing to logg=2.00 for T=  9496 logg=1.56\n",
      "Changing to logg=2.00 for T=  9359 logg=1.54\n",
      "Changing to logg=2.00 for T=  9225 logg=1.51\n",
      "Changing to logg=2.00 for T=  9093 logg=1.49\n",
      "Changing to logg=1.50 for T=  8963 logg=1.46\n",
      "Changing to logg=1.50 for T=  8836 logg=1.44\n",
      "Changing to logg=1.50 for T=  8711 logg=1.41\n",
      "Changing to logg=1.50 for T=  8589 logg=1.39\n",
      "Changing to logg=1.50 for T=  8468 logg=1.36\n",
      "Changing to logg=1.50 for T=  8350 logg=1.34\n",
      "Isochrone generation took 42.755216 s.\n",
      "Making photometry for isochrone: log(t) = 7.00  AKs = 0.70  dist = 100\n",
      "     Starting at:  2020-12-14 16:08:06.876522   Usually takes ~5 minutes\n",
      "Starting filter: ubv,U   Elapsed time: 0.00 seconds\n",
      "Starting synthetic photometry\n",
      "M =   0.112 Msun  T =  3025 K  m_ubv_U = 29.86\n",
      "M =   2.350 Msun  T = 10414 K  m_ubv_U = 17.42\n",
      "M =   9.793 Msun  T = 24007 K  m_ubv_U = 12.72\n",
      "M =  17.853 Msun  T = 25534 K  m_ubv_U = 10.06\n",
      "M =  17.889 Msun  T = 15781 K  m_ubv_U = 9.07\n",
      "M =  17.971 Msun  T =  6489 K  m_ubv_U = 9.12\n",
      "Starting filter: ubv,B   Elapsed time: 1.09 seconds\n",
      "Starting synthetic photometry\n",
      "M =   0.112 Msun  T =  3025 K  m_ubv_B = 29.64\n",
      "M =   2.350 Msun  T = 10414 K  m_ubv_B = 17.53\n",
      "M =   9.793 Msun  T = 24007 K  m_ubv_B = 13.62\n",
      "M =  17.853 Msun  T = 25534 K  m_ubv_B = 11.04\n",
      "M =  17.889 Msun  T = 15781 K  m_ubv_B = 9.79\n",
      "M =  17.971 Msun  T =  6489 K  m_ubv_B = 8.83\n",
      "Starting filter: ubv,V   Elapsed time: 2.17 seconds\n",
      "Starting synthetic photometry\n",
      "M =   0.112 Msun  T =  3025 K  m_ubv_V = 27.65\n",
      "M =   2.350 Msun  T = 10414 K  m_ubv_V = 16.73\n",
      "M =   9.793 Msun  T = 24007 K  m_ubv_V = 13.05\n",
      "M =  17.853 Msun  T = 25534 K  m_ubv_V = 10.48\n",
      "M =  17.889 Msun  T = 15781 K  m_ubv_V = 9.12\n",
      "M =  17.971 Msun  T =  6489 K  m_ubv_V = 7.51\n",
      "Starting filter: ubv,R   Elapsed time: 3.24 seconds\n",
      "Starting synthetic photometry\n",
      "M =   0.112 Msun  T =  3025 K  m_ubv_R = 22.85\n",
      "M =   2.350 Msun  T = 10414 K  m_ubv_R = 14.13\n",
      "M =   9.793 Msun  T = 24007 K  m_ubv_R = 10.55\n",
      "M =  17.853 Msun  T = 25534 K  m_ubv_R = 7.98\n",
      "M =  17.889 Msun  T = 15781 K  m_ubv_R = 6.56\n",
      "M =  17.971 Msun  T =  6489 K  m_ubv_R = 4.66\n",
      "Starting filter: ubv,I   Elapsed time: 4.28 seconds\n",
      "Starting synthetic photometry\n",
      "M =   0.112 Msun  T =  3025 K  m_ubv_I = 17.49\n",
      "M =   2.350 Msun  T = 10414 K  m_ubv_I = 10.62\n",
      "M =   9.793 Msun  T = 24007 K  m_ubv_I = 7.24\n",
      "M =  17.853 Msun  T = 25534 K  m_ubv_I = 4.69\n",
      "M =  17.889 Msun  T = 15781 K  m_ubv_I = 3.17\n",
      "M =  17.971 Msun  T =  6489 K  m_ubv_I = 0.88\n",
      "      Time taken: 5.33 seconds\n"
     ]
    }
   ],
   "source": [
    "iso2=synthetic.IsochronePhot(7.0, 0.7, 100, math.log(1), recomp=True) # New MIST v.1 isochrone for same metallicity"
   ]
  },
  {
   "cell_type": "code",
   "execution_count": 17,
   "metadata": {},
   "outputs": [
    {
     "data": {
      "text/plain": [
       "4.3301956912058674"
      ]
     },
     "execution_count": 17,
     "metadata": {},
     "output_type": "execute_result"
    }
   ],
   "source": [
    "np.max(iso2.points['logg'])"
   ]
  },
  {
   "cell_type": "code",
   "execution_count": 18,
   "metadata": {},
   "outputs": [
    {
     "data": {
      "text/plain": [
       "(array([ 60.,  57.,  78., 149., 210.,   0.,   0.,   0.,   0.,   0.,   0.,\n",
       "          0.,   0.,   0.,   0.,   0.,   0.,   0.,   0.,   0.,   0.,   0.,\n",
       "          0.,   0.,   0.,   0.,   0.,   0.,   0.]),\n",
       " array([ 0,  1,  2,  3,  4,  5,  6,  7,  8,  9, 10, 11, 12, 13, 14, 15, 16,\n",
       "        17, 18, 19, 20, 21, 22, 23, 24, 25, 26, 27, 28, 29]),\n",
       " <a list of 29 Patch objects>)"
      ]
     },
     "execution_count": 18,
     "metadata": {},
     "output_type": "execute_result"
    },
    {
     "data": {
      "image/png": "[encoded data removed]",
      "text/plain": [
       "<Figure size 432x288 with 1 Axes>"
      ]
     },
     "metadata": {
      "needs_background": "light"
     },
     "output_type": "display_data"
    }
   ],
   "source": [
    "import matplotlib.pyplot as plt\n",
    "plt.xlabel(\"logg in cgs\")\n",
    "plt.title(\"Histogram of logg values of stars in the MIST v1 isochrone\")\n",
    "plt.hist(np.array([x for x in iso2.points['logg'] if np.isfinite(x)]), np.arange(0, 30, 1))"
   ]
  },
  {
   "cell_type": "code",
   "execution_count": 19,
   "metadata": {},
   "outputs": [
    {
     "data": {
      "text/plain": [
       "3.44315451781853"
      ]
     },
     "execution_count": 19,
     "metadata": {},
     "output_type": "execute_result"
    }
   ],
   "source": [
    "np.median(iso2.points['logg'])"
   ]
  },
  {
   "cell_type": "code",
   "execution_count": 20,
   "metadata": {},
   "outputs": [
    {
     "data": {
      "text/plain": [
       "3.1148461826295915"
      ]
     },
     "execution_count": 20,
     "metadata": {},
     "output_type": "execute_result"
    }
   ],
   "source": [
    "np.mean(iso2.points['logg'])"
   ]
  },
  {
   "cell_type": "code",
   "execution_count": 21,
   "metadata": {},
   "outputs": [],
   "source": [
    "from spisea import imf\n",
    "from spisea.imf import imf, multiplicity\n",
    "from spisea import ifmr\n"
   ]
  },
  {
   "cell_type": "markdown",
   "metadata": {},
   "source": [
    "Make the clusters corresponding to the binary star isochrone and the MISTv.1 isochrone"
   ]
  },
  {
   "cell_type": "code",
   "execution_count": 22,
   "metadata": {},
   "outputs": [
    {
     "name": "stderr",
     "output_type": "stream",
     "text": [
      "/opt/anaconda3/envs/astroconda/lib/python3.7/site-packages/astropy/table/column.py:1020: RuntimeWarning: invalid value encountered in greater_equal\n",
      "  result = getattr(super(), op)(other)\n"
     ]
    }
   ],
   "source": [
    "clus_1=synthetic.Binary_Cluster(iso1, imf.IMFSalpeter1955(multiplicity=multiplicity.MultiplicityResolvedDK()), 2000, ifmr=ifmr.IFMR_Spera15())\n",
    "clus_2=synthetic.ResolvedCluster(iso2, imf.IMFSalpeter1955(multiplicity=multiplicity.MultiplicityResolvedDK()), 2000, ifmr=ifmr.IFMR_Spera15())"
   ]
  },
  {
   "cell_type": "markdown",
   "metadata": {},
   "source": [
    "Now let's visualize the isochrone we have created so far with a color magnitude diagram. There we can see the end of main sequence and perhaps the beginnings of the subgiant branch. That turnoff will turn out to be quite important when using the clusters to find age of real stellar populations.\\n But first, let's look at the isochrones and plot the observers' and theorist's HR diagrams and juxtapose the evolution models."
   ]
  },
  {
   "cell_type": "code",
   "execution_count": 23,
   "metadata": {},
   "outputs": [
    {
     "data": {
      "text/plain": [
       "<matplotlib.legend.Legend at 0x7fda6191fd68>"
      ]
     },
     "execution_count": 23,
     "metadata": {},
     "output_type": "execute_result"
    },
    {
     "data": {
      "image/png": "[encoded data removed]",
      "text/plain": [
       "<Figure size 432x288 with 1 Axes>"
      ]
     },
     "metadata": {
      "needs_background": "light"
     },
     "output_type": "display_data"
    }
   ],
   "source": [
    "# Taking a look at the Binary Cluster vs Default Settings cluster Observer's HR Diagram\n",
    "# Remember to use a distance modulus!\n",
    "import matplotlib.pyplot as plt\n",
    "plt.plot(iso1.primaries['m_ubv_B']-iso1.primaries[\"m_ubv_V\"], iso1.primaries[\"m_ubv_V\"]-5*np.log10(100), \"r.\")\n",
    "plt.plot(iso1.secondaries['m_ubv_B']-iso1.secondaries[\"m_ubv_V\"], iso1.secondaries[\"m_ubv_V\"]-5*np.log10(100), \"r.\")\n",
    "plt.plot(iso1.singles['m_ubv_B']-iso1.singles[\"m_ubv_V\"], iso1.singles[\"m_ubv_V\"]-5*np.log10(100), \"r.\", label=\"BPASS isochrone\")\n",
    "plt.plot(iso2.points['m_ubv_B']-iso2.points[\"m_ubv_V\"], iso2.points[\"m_ubv_V\"]-5*np.log10(100), \"b.\", label=\"MISTv1\", alpha =0.2)\n",
    "plt.xlabel(\"B-V\")\n",
    "plt.ylabel(\"pseudo- M_V\")\n",
    "plt.title(\"Color magnitude Diagram of Isochrones at solar metallicity and 10 million years age\")\n",
    "plt.gca().invert_yaxis()\n",
    "plt.legend()"
   ]
  },
  {
   "cell_type": "markdown",
   "metadata": {},
   "source": [
    "Hmm, where is the vertical line coming from"
   ]
  },
  {
   "cell_type": "code",
   "execution_count": 24,
   "metadata": {},
   "outputs": [
    {
     "data": {
      "text/plain": [
       "<matplotlib.legend.Legend at 0x7fda61947080>"
      ]
     },
     "execution_count": 24,
     "metadata": {},
     "output_type": "execute_result"
    },
    {
     "data": {
      "image/png": "[encoded data removed]",
      "text/plain": [
       "<Figure size 432x288 with 1 Axes>"
      ]
     },
     "metadata": {
      "needs_background": "light"
     },
     "output_type": "display_data"
    }
   ],
   "source": [
    "# Taking a look at the Binary Cluster vs Default Settings cluster Observer's HR Diagram\n",
    "# Remember to use a distance modulus!\n",
    "import matplotlib.pyplot as plt\n",
    "plt.plot(iso1.primaries['m_ubv_B']-iso1.primaries[\"m_ubv_V\"], iso1.primaries[\"m_ubv_V\"]-5*np.log10(100), \"r.\",  label=\"BPASS isochrone (primaries)\")\n",
    "plt.xlabel(\"B-V\")\n",
    "plt.ylabel(\"pseudo-M_V\")\n",
    "plt.title(\"Color magnitude Diagram of Isochrones at solar metallicity and 10 million years age\")\n",
    "plt.gca().invert_yaxis()\n",
    "plt.legend()"
   ]
  },
  {
   "cell_type": "code",
   "execution_count": 25,
   "metadata": {},
   "outputs": [
    {
     "name": "stderr",
     "output_type": "stream",
     "text": [
      "/opt/anaconda3/envs/astroconda/lib/python3.7/site-packages/astropy/table/column.py:1020: RuntimeWarning: invalid value encountered in greater\n",
      "  result = getattr(super(), op)(other)\n",
      "/opt/anaconda3/envs/astroconda/lib/python3.7/site-packages/astropy/table/column.py:1020: RuntimeWarning: invalid value encountered in less_equal\n",
      "  result = getattr(super(), op)(other)\n"
     ]
    }
   ],
   "source": [
    "line = iso1.primaries[np.where(((iso1.primaries['m_ubv_B']-iso1.primaries[\"m_ubv_V\"])>0.45) & ((iso1.primaries['m_ubv_B']-iso1.primaries[\"m_ubv_V\"])<=0.4583))[0]]"
   ]
  },
  {
   "cell_type": "code",
   "execution_count": 26,
   "metadata": {},
   "outputs": [
    {
     "data": {
      "text/html": [
       "<i>Table length=329</i>\n",
       "<table id=\"table140575916717336\" class=\"table-striped table-bordered table-condensed\">\n",
       "<thead><tr><th>mass</th><th>log_a</th><th>L</th><th>Teff</th><th>R</th><th>logg</th><th>isWR</th><th>mass_current</th><th>phase</th><th>merged</th><th>source</th><th>m_ubv_U</th><th>m_ubv_V</th><th>m_ubv_B</th><th>m_ubv_R</th><th>m_ubv_I</th></tr></thead>\n",
       "<thead><tr><th>solMass</th><th></th><th>W</th><th>K</th><th>m</th><th></th><th></th><th>solMass</th><th></th><th></th><th></th><th></th><th></th><th></th><th></th><th></th></tr></thead>\n",
       "<thead><tr><th>float64</th><th>float64</th><th>float64</th><th>float64</th><th>float64</th><th>float64</th><th>bool</th><th>float64</th><th>float64</th><th>bool</th><th>int64</th><th>float64</th><th>float64</th><th>float64</th><th>float64</th><th>float64</th></tr></thead>\n",
       "<tr><td>16.0</td><td>-0.40774340868802916</td><td>1.9302871923808372e+31</td><td>21408.192439307928</td><td>11350160513.7744</td><td>3.4660199344483207</td><td>False</td><td>28.38653</td><td>5.0</td><td>False</td><td>1</td><td>10.242322162080631</td><td>10.50796545228821</td><td>11.098533039040335</td><td>7.995286838024205</td><td>4.668898702963345</td></tr>\n",
       "<tr><td>11.4</td><td>-0.5084654086880291</td><td>4.68653569420061e+30</td><td>26918.44696161242</td><td>3537300890.0056734</td><td>4.0887331667704565</td><td>False</td><td>11.56553</td><td>5.0</td><td>False</td><td>1</td><td>12.21371566506624</td><td>12.628850533465604</td><td>13.177132662416641</td><td>10.14135896795864</td><td>6.856552280830484</td></tr>\n",
       "<tr><td>15.200000000000001</td><td>-0.3038524086880292</td><td>1.5501078981690119e+31</td><td>27721.708978258855</td><td>6065854703.383108</td><td>3.74361242111509</td><td>False</td><td>15.36331</td><td>5.0</td><td>False</td><td>1</td><td>10.90976074381617</td><td>11.366843318689433</td><td>11.90728775219577</td><td>8.881304153395849</td><td>5.602425390031274</td></tr>\n",
       "<tr><td>16.2</td><td>-0.2998124086880294</td><td>2.0444755873590473e+31</td><td>26562.564379980977</td><td>7587557641.393461</td><td>3.5740682195121476</td><td>False</td><td>16.26899</td><td>5.0</td><td>False</td><td>1</td><td>10.52251965554147</td><td>10.957957137341195</td><td>11.507198330344771</td><td>8.467308149105392</td><td>5.181017741845765</td></tr>\n",
       "<tr><td>3.8000000000000003</td><td>0.1823685913119708</td><td>7.631359784926211e+28</td><td>14385.00443094354</td><td>1580672884.7327638</td><td>4.305050422942249</td><td>False</td><td>3.800343</td><td>5.0</td><td>False</td><td>1</td><td>15.696481818094357</td><td>15.513398713158223</td><td>16.20865425870235</td><td>12.95645538566047</td><td>9.542650409975328</td></tr>\n",
       "<tr><td>1.9000000000000001</td><td>-0.5123974086880292</td><td>4.929489309509867e+27</td><td>8701.016655822772</td><td>1098049714.4935458</td><td>4.32042808548312</td><td>False</td><td>1.90003</td><td>5.0</td><td>False</td><td>1</td><td>18.39288856955239</td><td>17.379572008411067</td><td>18.351975914716615</td><td>14.71533461521816</td><td>11.140254091904245</td></tr>\n",
       "<tr><td>6.0</td><td>0.15043659131197096</td><td>4.126310728886609e+29</td><td>19146.96749486642</td><td>2074636447.4311144</td><td>4.267406750115069</td><td>False</td><td>6.003149</td><td>5.0</td><td>False</td><td>1</td><td>14.313370572170259</td><td>14.430567057463097</td><td>15.051772956614654</td><td>11.907023868661955</td><td>8.557095001809065</td></tr>\n",
       "<tr><td>1.8</td><td>-0.9953354086880293</td><td>3.9226714005293314e+27</td><td>8303.477247785491</td><td>1075528698.8273094</td><td>4.315183751523423</td><td>False</td><td>1.80101</td><td>5.0</td><td>False</td><td>1</td><td>18.65379805300129</td><td>17.57741456525376</td><td>18.61992449726684</td><td>14.880370930338435</td><td>11.283766303213675</td></tr>\n",
       "<tr><td>1.8</td><td>-0.5606434086880292</td><td>3.9226714005293314e+27</td><td>8302.712504486535</td><td>1075751606.5948067</td><td>4.315244341997311</td><td>False</td><td>1.802008</td><td>5.0</td><td>False</td><td>1</td><td>18.65378314608896</td><td>17.577283958076027</td><td>18.61995505156662</td><td>14.880166304832477</td><td>11.283517095964779</td></tr>\n",
       "<tr><td>...</td><td>...</td><td>...</td><td>...</td><td>...</td><td>...</td><td>...</td><td>...</td><td>...</td><td>...</td><td>...</td><td>...</td><td>...</td><td>...</td><td>...</td><td>...</td></tr>\n",
       "<tr><td>1.9000000000000001</td><td>0.034112591311970863</td><td>4.929489309509867e+27</td><td>8701.016655822772</td><td>1098049714.4935458</td><td>4.320424656883075</td><td>False</td><td>1.900015</td><td>5.0</td><td>False</td><td>1</td><td>18.392888480831797</td><td>17.379571972070483</td><td>18.351975560532036</td><td>14.715334648724586</td><td>11.140254061128267</td></tr>\n",
       "<tr><td>13.299999999999999</td><td>0.1883675913119709</td><td>8.807688144839383e+30</td><td>28172.15051329737</td><td>4427433056.992599</td><td>3.956173141214231</td><td>False</td><td>13.35259</td><td>5.0</td><td>False</td><td>1</td><td>11.581268607245086</td><td>12.036943063181127</td><td>12.573600747946946</td><td>9.554413202782252</td><td>6.2780386194826345</td></tr>\n",
       "<tr><td>11.4</td><td>-0.6407864086880293</td><td>4.690530119971557e+30</td><td>26884.99747346278</td><td>3547741787.184761</td><td>4.087789718859771</td><td>False</td><td>11.60866</td><td>5.0</td><td>False</td><td>1</td><td>12.210550022760708</td><td>12.624839365855559</td><td>13.173374596834746</td><td>10.137213647241015</td><td>6.852196936616739</td></tr>\n",
       "<tr><td>5.3999999999999995</td><td>-0.331148408688029</td><td>2.8108775643415103e+29</td><td>17941.138548352636</td><td>1950212803.6087496</td><td>4.277542498068481</td><td>False</td><td>5.429938</td><td>5.0</td><td>False</td><td>1</td><td>14.623678639060394</td><td>14.677749728651927</td><td>15.315468586801563</td><td>12.146267925106642</td><td>8.782504768558736</td></tr>\n",
       "<tr><td>16.0</td><td>-0.5451254086880293</td><td>1.869011308535817e+31</td><td>27418.26691869462</td><td>6809135919.366956</td><td>3.669343985710577</td><td>False</td><td>16.3161</td><td>5.0</td><td>False</td><td>1</td><td>10.679304253783215</td><td>11.132793784329955</td><td>11.675500154145622</td><td>8.645783615110398</td><td>5.365095194781481</td></tr>\n",
       "<tr><td>4.0</td><td>-0.4518094086880291</td><td>9.244468120034215e+28</td><td>14871.336476019498</td><td>1627766114.1426516</td><td>4.3018464615468766</td><td>False</td><td>4.000542</td><td>5.0</td><td>False</td><td>1</td><td>15.535540157305379</td><td>15.391490152187872</td><td>16.078211111233657</td><td>12.838101584766004</td><td>9.43234373447309</td></tr>\n",
       "<tr><td>14.4</td><td>-0.7238654086880292</td><td>1.2300759547916942e+31</td><td>27919.009082785342</td><td>5327482151.162057</td><td>3.842380654920213</td><td>False</td><td>14.87692</td><td>5.0</td><td>False</td><td>1</td><td>11.187216318932158</td><td>11.643280903576528</td><td>12.18216803663968</td><td>9.159052632861044</td><td>5.88123368921593</td></tr>\n",
       "<tr><td>10.799999999999999</td><td>-0.27527140868802924</td><td>3.774608635168119e+30</td><td>26361.49280794659</td><td>3310182995.447341</td><td>4.121128700173836</td><td>False</td><td>10.91242</td><td>5.0</td><td>False</td><td>1</td><td>12.4177208414945</td><td>12.816014793877908</td><td>13.369198633492344</td><td>10.326284183709323</td><td>7.0378884944411455</td></tr>\n",
       "<tr><td>6.0</td><td>-0.2573164086880291</td><td>4.1264057417962154e+29</td><td>19144.76324565916</td><td>2075114205.1286151</td><td>4.267364287739653</td><td>False</td><td>6.005327</td><td>5.0</td><td>False</td><td>1</td><td>14.313186015858465</td><td>14.43027083372974</td><td>15.051504845356394</td><td>11.906712992271355</td><td>8.556758984692497</td></tr>\n",
       "<tr><td>2.0</td><td>-0.6006484086880293</td><td>6.106072114033895e+27</td><td>9081.132241151266</td><td>1121920292.6380215</td><td>4.324023920191447</td><td>False</td><td>2.000029</td><td>5.0</td><td>False</td><td>1</td><td>18.148495708436723</td><td>17.208924553621628</td><td>18.129142295510984</td><td>14.567723762353276</td><td>11.009925987405733</td></tr>\n",
       "</table>"
      ],
      "text/plain": [
       "<Table length=329>\n",
       "       mass               log_a         ...      m_ubv_I      \n",
       "     solMass                            ...                   \n",
       "     float64             float64        ...      float64      \n",
       "------------------ -------------------- ... ------------------\n",
       "              16.0 -0.40774340868802916 ...  4.668898702963345\n",
       "              11.4  -0.5084654086880291 ...  6.856552280830484\n",
       "15.200000000000001  -0.3038524086880292 ...  5.602425390031274\n",
       "              16.2  -0.2998124086880294 ...  5.181017741845765\n",
       "3.8000000000000003   0.1823685913119708 ...  9.542650409975328\n",
       "1.9000000000000001  -0.5123974086880292 ... 11.140254091904245\n",
       "               6.0  0.15043659131197096 ...  8.557095001809065\n",
       "               1.8  -0.9953354086880293 ... 11.283766303213675\n",
       "               1.8  -0.5606434086880292 ... 11.283517095964779\n",
       "               ...                  ... ...                ...\n",
       "1.9000000000000001 0.034112591311970863 ... 11.140254061128267\n",
       "13.299999999999999   0.1883675913119709 ... 6.2780386194826345\n",
       "              11.4  -0.6407864086880293 ...  6.852196936616739\n",
       "5.3999999999999995   -0.331148408688029 ...  8.782504768558736\n",
       "              16.0  -0.5451254086880293 ...  5.365095194781481\n",
       "               4.0  -0.4518094086880291 ...   9.43234373447309\n",
       "              14.4  -0.7238654086880292 ...   5.88123368921593\n",
       "10.799999999999999 -0.27527140868802924 ... 7.0378884944411455\n",
       "               6.0  -0.2573164086880291 ...  8.556758984692497\n",
       "               2.0  -0.6006484086880293 ... 11.009925987405733"
      ]
     },
     "execution_count": 26,
     "metadata": {},
     "output_type": "execute_result"
    }
   ],
   "source": [
    "iso1.secondaries[np.where(((iso1.primaries['m_ubv_B']-iso1.primaries[\"m_ubv_V\"])>0.45) & ((iso1.primaries['m_ubv_B']-iso1.primaries[\"m_ubv_V\"])<=0.4583))[0]]"
   ]
  },
  {
   "cell_type": "code",
   "execution_count": 27,
   "metadata": {},
   "outputs": [
    {
     "data": {
      "text/plain": [
       "<matplotlib.legend.Legend at 0x7fda32833048>"
      ]
     },
     "execution_count": 27,
     "metadata": {},
     "output_type": "execute_result"
    },
    {
     "data": {
      "image/png": "[encoded data removed]",
      "text/plain": [
       "<Figure size 432x288 with 1 Axes>"
      ]
     },
     "metadata": {
      "needs_background": "light"
     },
     "output_type": "display_data"
    }
   ],
   "source": [
    "# Taking a look at the Binary Cluster vs Default Settings cluster Observer's HR Diagram\n",
    "# Remember to use a distance modulus!\n",
    "import matplotlib.pyplot as plt\n",
    "plt.plot(line['m_ubv_B']-line[\"m_ubv_V\"], line[\"m_ubv_V\"]-5*np.log10(100), \"r.\",  label=\"BPASS isochrone\")\n",
    "plt.xlabel(\"B-V\")\n",
    "plt.ylabel(\"pseudo-M_V\")\n",
    "plt.title(\"Color magnitude Diagram of Isochrones at solar metallicity and 10 million years age\")\n",
    "plt.gca().invert_yaxis()\n",
    "plt.legend()"
   ]
  },
  {
   "cell_type": "markdown",
   "metadata": {},
   "source": [
    "What exactly is causing this line. We need to look specifically at the properties of the stars there."
   ]
  },
  {
   "cell_type": "code",
   "execution_count": 28,
   "metadata": {},
   "outputs": [
    {
     "data": {
      "text/html": [
       "<i>Table length=329</i>\n",
       "<table id=\"table140574551330656\" class=\"table-striped table-bordered table-condensed\">\n",
       "<thead><tr><th>mass</th><th>log_a</th><th>L</th><th>Teff</th><th>R</th><th>logg</th><th>isWR</th><th>mass_current</th><th>phase</th><th>source</th><th>m_ubv_U</th><th>m_ubv_V</th><th>m_ubv_B</th><th>m_ubv_R</th><th>m_ubv_I</th></tr></thead>\n",
       "<thead><tr><th>solMass</th><th></th><th>W</th><th>K</th><th>m</th><th></th><th></th><th>solMass</th><th></th><th></th><th></th><th></th><th></th><th></th><th></th></tr></thead>\n",
       "<thead><tr><th>float64</th><th>float64</th><th>float64</th><th>float64</th><th>float64</th><th>float64</th><th>bool</th><th>float64</th><th>float64</th><th>int64</th><th>float64</th><th>float64</th><th>float64</th><th>float64</th><th>float64</th></tr></thead>\n",
       "<tr><td>20.0</td><td>-0.40774340868802916</td><td>4.412979694274203e+31</td><td>61325.34498447098</td><td>2092546724.8954647</td><td>4.177496480016477</td><td>True</td><td>4.9816</td><td>5.0</td><td>1</td><td>12.127692839410303</td><td>12.782864183602355</td><td>13.241105277934127</td><td>10.315417694201308</td><td>7.084490434830406</td></tr>\n",
       "<tr><td>19.0</td><td>-0.5084654086880291</td><td>2.310584890770242e+31</td><td>102953.23557268221</td><td>537242256.1087389</td><td>5.4120192355523145</td><td>True</td><td>5.63497</td><td>5.0</td><td>1</td><td>15.080217839410306</td><td>15.735389183602358</td><td>16.193630277934133</td><td>13.26794269420131</td><td>10.037015434830408</td></tr>\n",
       "<tr><td>19.0</td><td>-0.3038524086880292</td><td>2.3522957780992267e+31</td><td>102716.44970160333</td><td>544571820.1339548</td><td>5.406885613781115</td><td>True</td><td>5.72187</td><td>5.0</td><td>1</td><td>15.050792839410304</td><td>15.705964183602353</td><td>16.16420527793413</td><td>13.238517694201306</td><td>10.007590434830405</td></tr>\n",
       "<tr><td>18.0</td><td>-0.2998124086880294</td><td>2.960137802369818e+31</td><td>55504.73071690754</td><td>2092113125.8044019</td><td>4.243198652621343</td><td>True</td><td>5.7931</td><td>5.0</td><td>1</td><td>12.128142839410302</td><td>12.78331418360235</td><td>13.241555277934125</td><td>10.315867694201303</td><td>7.084940434830405</td></tr>\n",
       "<tr><td>19.0</td><td>0.1823685913119708</td><td>2.460435185909145e+31</td><td>103554.7441491209</td><td>547967958.0343926</td><td>5.4072865064767015</td><td>True</td><td>5.79881</td><td>5.0</td><td>1</td><td>15.037292839410307</td><td>15.692464183602358</td><td>16.150705277934133</td><td>13.225017694201311</td><td>9.99409043483041</td></tr>\n",
       "<tr><td>19.0</td><td>-0.5123974086880292</td><td>2.3415957927214727e+31</td><td>102209.20257904973</td><td>548738161.9525678</td><td>5.401647413762852</td><td>True</td><td>5.73984</td><td>5.0</td><td>1</td><td>15.034242839410311</td><td>15.68941418360236</td><td>16.147655277934135</td><td>13.221967694201313</td><td>9.991040434830412</td></tr>\n",
       "<tr><td>20.0</td><td>0.15043659131197096</td><td>5.227956064158395e+31</td><td>67204.75466282961</td><td>1896510118.8251495</td><td>4.3157473551323156</td><td>True</td><td>5.626</td><td>5.0</td><td>1</td><td>12.341292839410302</td><td>12.996464183602352</td><td>13.454705277934126</td><td>10.529017694201306</td><td>7.298090434830406</td></tr>\n",
       "<tr><td>18.0</td><td>-0.9953354086880293</td><td>2.317991980460485e+31</td><td>71268.89085463733</td><td>1122910555.3611505</td><td>4.7689795319213255</td><td>True</td><td>5.60005</td><td>5.0</td><td>1</td><td>13.479342839410306</td><td>14.134514183602354</td><td>14.592755277934126</td><td>11.667067694201307</td><td>8.436140434830406</td></tr>\n",
       "<tr><td>18.0</td><td>-0.5606434086880292</td><td>2.9075817154845028e+31</td><td>57105.77107450287</td><td>1958822862.3033466</td><td>4.299331594191537</td><td>True</td><td>5.77915</td><td>5.0</td><td>1</td><td>12.271092839410308</td><td>12.926264183602356</td><td>13.38450527793413</td><td>10.45881769420131</td><td>7.227890434830409</td></tr>\n",
       "<tr><td>...</td><td>...</td><td>...</td><td>...</td><td>...</td><td>...</td><td>...</td><td>...</td><td>...</td><td>...</td><td>...</td><td>...</td><td>...</td><td>...</td><td>...</td></tr>\n",
       "<tr><td>19.0</td><td>0.034112591311970863</td><td>2.440629909120157e+31</td><td>101931.87195456008</td><td>563274595.312181</td><td>5.387205764326161</td><td>True</td><td>5.8503</td><td>5.0</td><td>1</td><td>14.977467839410304</td><td>15.632639183602356</td><td>16.09088027793413</td><td>13.165192694201309</td><td>9.934265434830406</td></tr>\n",
       "<tr><td>19.0</td><td>0.1883675913119709</td><td>2.449525298110052e+31</td><td>103619.14394040684</td><td>546072321.5002505</td><td>5.408742452063443</td><td>True</td><td>5.77823</td><td>5.0</td><td>1</td><td>15.044817839410303</td><td>15.699989183602353</td><td>16.158230277934127</td><td>13.232542694201307</td><td>10.001615434830404</td></tr>\n",
       "<tr><td>19.0</td><td>-0.6407864086880293</td><td>2.27306538849101e+31</td><td>102957.97685356354</td><td>532813431.43899584</td><td>5.414087688311354</td><td>True</td><td>5.56878</td><td>5.0</td><td>1</td><td>15.098192839410308</td><td>15.753364183602356</td><td>16.211605277934133</td><td>13.285917694201311</td><td>10.05499043483041</td></tr>\n",
       "<tr><td>18.0</td><td>-0.331148408688029</td><td>2.9982782139481236e+31</td><td>54474.09200599129</td><td>2185974866.1528077</td><td>4.206947907600897</td><td>True</td><td>5.81782</td><td>5.0</td><td>1</td><td>12.032842839410302</td><td>12.688014183602352</td><td>13.146255277934126</td><td>10.220567694201305</td><td>6.989640434830404</td></tr>\n",
       "<tr><td>20.0</td><td>-0.5451254086880293</td><td>5.043498884453185e+31</td><td>65168.84140178753</td><td>1980957527.6205</td><td>4.2663930743920275</td><td>True</td><td>5.4788</td><td>5.0</td><td>1</td><td>12.246692839410308</td><td>12.901864183602356</td><td>13.36010527793413</td><td>10.43441769420131</td><td>7.203490434830409</td></tr>\n",
       "<tr><td>20.0</td><td>-0.4518094086880291</td><td>5.172755237423954e+31</td><td>67845.3363710885</td><td>1851015963.5771432</td><td>4.329280501073883</td><td>True</td><td>5.52908</td><td>5.0</td><td>1</td><td>12.394017839410308</td><td>13.049189183602357</td><td>13.50743027793413</td><td>10.581742694201312</td><td>7.35081543483041</td></tr>\n",
       "<tr><td>18.0</td><td>-0.7238654086880292</td><td>2.3496973609295044e+31</td><td>70651.27439807402</td><td>1150416664.7978196</td><td>4.749615293223985</td><td>True</td><td>5.6217</td><td>5.0</td><td>1</td><td>13.426792839410306</td><td>14.081964183602356</td><td>14.54020527793413</td><td>11.614517694201309</td><td>8.383590434830408</td></tr>\n",
       "<tr><td>18.0</td><td>-0.27527140868802924</td><td>3.0358613218561958e+31</td><td>53144.704917031086</td><td>2311054377.372909</td><td>4.158507279190058</td><td>True</td><td>5.81674</td><td>5.0</td><td>1</td><td>11.912017839410305</td><td>12.567189183602354</td><td>13.025430277934129</td><td>10.099742694201309</td><td>6.868815434830409</td></tr>\n",
       "<tr><td>20.0</td><td>-0.2573164086880291</td><td>5.167755157744778e+31</td><td>66363.60962802722</td><td>1933660226.1196299</td><td>4.294106749733393</td><td>True</td><td>5.56441</td><td>5.0</td><td>1</td><td>12.299167839410305</td><td>12.954339183602357</td><td>13.412580277934131</td><td>10.486892694201309</td><td>7.25596543483041</td></tr>\n",
       "<tr><td>20.0</td><td>-0.6006484086880293</td><td>5.087705086658519e+31</td><td>65670.45117097952</td><td>1959341621.9604821</td><td>4.277953393098762</td><td>True</td><td>5.5046</td><td>5.0</td><td>1</td><td>12.270517839410308</td><td>12.925689183602358</td><td>13.383930277934134</td><td>10.458242694201312</td><td>7.227315434830412</td></tr>\n",
       "</table>"
      ],
      "text/plain": [
       "<Table length=329>\n",
       "  mass         log_a         ...      m_ubv_R            m_ubv_I      \n",
       "solMass                      ...                                      \n",
       "float64       float64        ...      float64            float64      \n",
       "------- -------------------- ... ------------------ ------------------\n",
       "   20.0 -0.40774340868802916 ... 10.315417694201308  7.084490434830406\n",
       "   19.0  -0.5084654086880291 ...  13.26794269420131 10.037015434830408\n",
       "   19.0  -0.3038524086880292 ... 13.238517694201306 10.007590434830405\n",
       "   18.0  -0.2998124086880294 ... 10.315867694201303  7.084940434830405\n",
       "   19.0   0.1823685913119708 ... 13.225017694201311   9.99409043483041\n",
       "   19.0  -0.5123974086880292 ... 13.221967694201313  9.991040434830412\n",
       "   20.0  0.15043659131197096 ... 10.529017694201306  7.298090434830406\n",
       "   18.0  -0.9953354086880293 ... 11.667067694201307  8.436140434830406\n",
       "   18.0  -0.5606434086880292 ...  10.45881769420131  7.227890434830409\n",
       "    ...                  ... ...                ...                ...\n",
       "   19.0 0.034112591311970863 ... 13.165192694201309  9.934265434830406\n",
       "   19.0   0.1883675913119709 ... 13.232542694201307 10.001615434830404\n",
       "   19.0  -0.6407864086880293 ... 13.285917694201311  10.05499043483041\n",
       "   18.0   -0.331148408688029 ... 10.220567694201305  6.989640434830404\n",
       "   20.0  -0.5451254086880293 ...  10.43441769420131  7.203490434830409\n",
       "   20.0  -0.4518094086880291 ... 10.581742694201312   7.35081543483041\n",
       "   18.0  -0.7238654086880292 ... 11.614517694201309  8.383590434830408\n",
       "   18.0 -0.27527140868802924 ... 10.099742694201309  6.868815434830409\n",
       "   20.0  -0.2573164086880291 ... 10.486892694201309   7.25596543483041\n",
       "   20.0  -0.6006484086880293 ... 10.458242694201312  7.227315434830412"
      ]
     },
     "execution_count": 28,
     "metadata": {},
     "output_type": "execute_result"
    }
   ],
   "source": [
    "line"
   ]
  },
  {
   "cell_type": "code",
   "execution_count": 29,
   "metadata": {},
   "outputs": [
    {
     "data": {
      "text/html": [
       "&lt;Column name=&apos;mass_current&apos; dtype=&apos;float64&apos; unit=&apos;solMass&apos; length=328&gt;\n",
       "<table>\n",
       "<tr><td>4.44683</td></tr>\n",
       "<tr><td>4.44977</td></tr>\n",
       "<tr><td>4.5998</td></tr>\n",
       "<tr><td>4.65934</td></tr>\n",
       "<tr><td>4.82873</td></tr>\n",
       "<tr><td>4.84274</td></tr>\n",
       "<tr><td>4.87838</td></tr>\n",
       "<tr><td>4.93716</td></tr>\n",
       "<tr><td>4.94025</td></tr>\n",
       "<tr><td>4.94141</td></tr>\n",
       "<tr><td>4.94283</td></tr>\n",
       "<tr><td>4.95483</td></tr>\n",
       "<tr><td>...</td></tr>\n",
       "<tr><td>9.95174</td></tr>\n",
       "<tr><td>9.99668</td></tr>\n",
       "<tr><td>10.08157</td></tr>\n",
       "<tr><td>10.18541</td></tr>\n",
       "<tr><td>10.25105</td></tr>\n",
       "<tr><td>10.27081</td></tr>\n",
       "<tr><td>10.28467</td></tr>\n",
       "<tr><td>10.32685</td></tr>\n",
       "<tr><td>10.64173</td></tr>\n",
       "<tr><td>10.88422</td></tr>\n",
       "<tr><td>11.27002</td></tr>\n",
       "<tr><td>12.893</td></tr>\n",
       "</table>"
      ],
      "text/plain": [
       "<Column name='mass_current' dtype='float64' unit='solMass' length=328>\n",
       " 4.44683\n",
       " 4.44977\n",
       "  4.5998\n",
       " 4.65934\n",
       " 4.82873\n",
       " 4.84274\n",
       " 4.87838\n",
       " 4.93716\n",
       " 4.94025\n",
       " 4.94141\n",
       " 4.94283\n",
       " 4.95483\n",
       "     ...\n",
       " 9.95174\n",
       " 9.99668\n",
       "10.08157\n",
       "10.18541\n",
       "10.25105\n",
       "10.27081\n",
       "10.28467\n",
       "10.32685\n",
       "10.64173\n",
       "10.88422\n",
       "11.27002\n",
       "  12.893"
      ]
     },
     "execution_count": 29,
     "metadata": {},
     "output_type": "execute_result"
    }
   ],
   "source": [
    "np.unique(line['mass_current'])"
   ]
  },
  {
   "cell_type": "code",
   "execution_count": 30,
   "metadata": {},
   "outputs": [
    {
     "data": {
      "text/html": [
       "&lt;Column name=&apos;source&apos; dtype=&apos;int64&apos; length=1&gt;\n",
       "<table>\n",
       "<tr><td>1</td></tr>\n",
       "</table>"
      ],
      "text/plain": [
       "<Column name='source' dtype='int64' length=1>\n",
       "1"
      ]
     },
     "execution_count": 30,
     "metadata": {},
     "output_type": "execute_result"
    }
   ],
   "source": [
    "np.unique(line['source'])"
   ]
  },
  {
   "cell_type": "code",
   "execution_count": 31,
   "metadata": {},
   "outputs": [
    {
     "data": {
      "text/plain": [
       "array([3.9, 4. , 4.1, 4.2, 4.3, 4.4, 4.5, 4.6, 4.7, 4.8, 4.9, 5. , 5.1,\n",
       "       5.2, 5.3, 5.4, 5.5, 5.8, 5.9])"
      ]
     },
     "execution_count": 31,
     "metadata": {},
     "output_type": "execute_result"
    }
   ],
   "source": [
    "np.unique(np.round(line['logg'], 1))"
   ]
  },
  {
   "cell_type": "code",
   "execution_count": 32,
   "metadata": {},
   "outputs": [
    {
     "data": {
      "text/html": [
       "&lt;Column name=&apos;mass&apos; dtype=&apos;float64&apos; unit=&apos;solMass&apos; length=7&gt;\n",
       "<table>\n",
       "<tr><td>18.0</td></tr>\n",
       "<tr><td>19.0</td></tr>\n",
       "<tr><td>20.0</td></tr>\n",
       "<tr><td>21.0</td></tr>\n",
       "<tr><td>22.0</td></tr>\n",
       "<tr><td>23.0</td></tr>\n",
       "<tr><td>24.0</td></tr>\n",
       "</table>"
      ],
      "text/plain": [
       "<Column name='mass' dtype='float64' unit='solMass' length=7>\n",
       "18.0\n",
       "19.0\n",
       "20.0\n",
       "21.0\n",
       "22.0\n",
       "23.0\n",
       "24.0"
      ]
     },
     "execution_count": 32,
     "metadata": {},
     "output_type": "execute_result"
    }
   ],
   "source": [
    "np.unique(line['mass'])"
   ]
  },
  {
   "cell_type": "markdown",
   "metadata": {},
   "source": [
    "Ah, that may be it: the initial mass of the stars seem to be around the same so it may be no surprise that there is an issue with the line. Something to look into."
   ]
  },
  {
   "cell_type": "code",
   "execution_count": 33,
   "metadata": {},
   "outputs": [
    {
     "data": {
      "text/html": [
       "&lt;Column name=&apos;Teff&apos; dtype=&apos;float64&apos; unit=&apos;K&apos; length=320&gt;\n",
       "<table>\n",
       "<tr><td>50618.58492369347</td></tr>\n",
       "<tr><td>50852.22969589034</td></tr>\n",
       "<tr><td>51386.613785233334</td></tr>\n",
       "<tr><td>52234.807674770746</td></tr>\n",
       "<tr><td>52338.346733117745</td></tr>\n",
       "<tr><td>52571.45536477341</td></tr>\n",
       "<tr><td>52801.95467813457</td></tr>\n",
       "<tr><td>53144.704917031086</td></tr>\n",
       "<tr><td>54368.831599590194</td></tr>\n",
       "<tr><td>54474.09200599129</td></tr>\n",
       "<tr><td>54788.57437110441</td></tr>\n",
       "<tr><td>55242.07714202513</td></tr>\n",
       "<tr><td>...</td></tr>\n",
       "<tr><td>132763.89953470658</td></tr>\n",
       "<tr><td>162637.2416506502</td></tr>\n",
       "<tr><td>163297.67448045366</td></tr>\n",
       "<tr><td>168597.06111956775</td></tr>\n",
       "<tr><td>168845.69808804066</td></tr>\n",
       "<tr><td>169804.8146190283</td></tr>\n",
       "<tr><td>170278.57222941014</td></tr>\n",
       "<tr><td>170380.54378466692</td></tr>\n",
       "<tr><td>170781.176084647</td></tr>\n",
       "<tr><td>172329.6476328457</td></tr>\n",
       "<tr><td>173680.0758049759</td></tr>\n",
       "<tr><td>173760.07685518448</td></tr>\n",
       "</table>"
      ],
      "text/plain": [
       "<Column name='Teff' dtype='float64' unit='K' length=320>\n",
       " 50618.58492369347\n",
       " 50852.22969589034\n",
       "51386.613785233334\n",
       "52234.807674770746\n",
       "52338.346733117745\n",
       " 52571.45536477341\n",
       " 52801.95467813457\n",
       "53144.704917031086\n",
       "54368.831599590194\n",
       " 54474.09200599129\n",
       " 54788.57437110441\n",
       " 55242.07714202513\n",
       "               ...\n",
       "132763.89953470658\n",
       " 162637.2416506502\n",
       "163297.67448045366\n",
       "168597.06111956775\n",
       "168845.69808804066\n",
       " 169804.8146190283\n",
       "170278.57222941014\n",
       "170380.54378466692\n",
       "  170781.176084647\n",
       " 172329.6476328457\n",
       " 173680.0758049759\n",
       "173760.07685518448"
      ]
     },
     "execution_count": 33,
     "metadata": {},
     "output_type": "execute_result"
    }
   ],
   "source": [
    "np.unique(line['Teff'])"
   ]
  },
  {
   "cell_type": "code",
   "execution_count": 34,
   "metadata": {},
   "outputs": [
    {
     "data": {
      "text/html": [
       "&lt;Column name=&apos;logg&apos; dtype=&apos;float64&apos; unit=&apos;&apos; length=329&gt;\n",
       "<table>\n",
       "<tr><td>3.946765191022875</td></tr>\n",
       "<tr><td>3.980032030118002</td></tr>\n",
       "<tr><td>4.064789313032161</td></tr>\n",
       "<tr><td>4.073869467356354</td></tr>\n",
       "<tr><td>4.093679606265179</td></tr>\n",
       "<tr><td>4.125200311792465</td></tr>\n",
       "<tr><td>4.129084829060066</td></tr>\n",
       "<tr><td>4.129157361932568</td></tr>\n",
       "<tr><td>4.1340233012210135</td></tr>\n",
       "<tr><td>4.137856285342354</td></tr>\n",
       "<tr><td>4.158507279190058</td></tr>\n",
       "<tr><td>4.177496480016477</td></tr>\n",
       "<tr><td>...</td></tr>\n",
       "<tr><td>5.530255797234294</td></tr>\n",
       "<tr><td>5.762339813265446</td></tr>\n",
       "<tr><td>5.76906685021766</td></tr>\n",
       "<tr><td>5.820326648383768</td></tr>\n",
       "<tr><td>5.8290208982994995</td></tr>\n",
       "<tr><td>5.837063417595005</td></tr>\n",
       "<tr><td>5.838168951636195</td></tr>\n",
       "<tr><td>5.843518270928504</td></tr>\n",
       "<tr><td>5.851155496137219</td></tr>\n",
       "<tr><td>5.85744614293227</td></tr>\n",
       "<tr><td>5.875115979119396</td></tr>\n",
       "<tr><td>5.8768401457842785</td></tr>\n",
       "</table>"
      ],
      "text/plain": [
       "<Column name='logg' dtype='float64' unit='' length=329>\n",
       " 3.946765191022875\n",
       " 3.980032030118002\n",
       " 4.064789313032161\n",
       " 4.073869467356354\n",
       " 4.093679606265179\n",
       " 4.125200311792465\n",
       " 4.129084829060066\n",
       " 4.129157361932568\n",
       "4.1340233012210135\n",
       " 4.137856285342354\n",
       " 4.158507279190058\n",
       " 4.177496480016477\n",
       "               ...\n",
       " 5.530255797234294\n",
       " 5.762339813265446\n",
       "  5.76906685021766\n",
       " 5.820326648383768\n",
       "5.8290208982994995\n",
       " 5.837063417595005\n",
       " 5.838168951636195\n",
       " 5.843518270928504\n",
       " 5.851155496137219\n",
       "  5.85744614293227\n",
       " 5.875115979119396\n",
       "5.8768401457842785"
      ]
     },
     "execution_count": 34,
     "metadata": {},
     "output_type": "execute_result"
    }
   ],
   "source": [
    "np.unique(line['logg'])"
   ]
  },
  {
   "cell_type": "code",
   "execution_count": 35,
   "metadata": {},
   "outputs": [
    {
     "data": {
      "text/plain": [
       "array([31. , 31.1, 31.2, 31.3, 31.4, 31.5, 31.6, 31.7, 31.8, 31.9, 32. ,\n",
       "       32.1])"
      ]
     },
     "execution_count": 35,
     "metadata": {},
     "output_type": "execute_result"
    }
   ],
   "source": [
    "np.unique(np.round(np.log10(line['L']), 1))"
   ]
  },
  {
   "cell_type": "code",
   "execution_count": 36,
   "metadata": {},
   "outputs": [
    {
     "data": {
      "text/plain": [
       "<matplotlib.legend.Legend at 0x7fda52d82908>"
      ]
     },
     "execution_count": 36,
     "metadata": {},
     "output_type": "execute_result"
    },
    {
     "data": {
      "image/png": "[encoded data removed]",
      "text/plain": [
       "<Figure size 432x288 with 1 Axes>"
      ]
     },
     "metadata": {
      "needs_background": "light"
     },
     "output_type": "display_data"
    }
   ],
   "source": [
    "import matplotlib.pyplot as plt\n",
    "plt.plot(np.log10(iso1.primaries['Teff']), np.log10(iso1.primaries[\"L\"]), \"r.\")\n",
    "plt.plot(np.log10(iso1.secondaries['Teff']), np.log10(iso1.secondaries[\"L\"]), \"r.\")\n",
    "plt.plot(np.log10(iso1.singles['Teff']), np.log10(iso1.singles[\"L\"]), \"r.\", label=\"BPASS isochrone\")\n",
    "plt.plot(np.log10(iso2.points['Teff']), np.log10(iso2.points[\"L\"]), \"b.\", label=\"MISTv1\")\n",
    "plt.xlabel(\"log(T in Kelvin)\")\n",
    "plt.ylabel(\"log(L in Watts)\")\n",
    "plt.title(\"HR Diagram of Isochrones at solar metallicity and 10 million years age\")\n",
    "plt.gca().invert_xaxis()\n",
    "plt.legend()\n",
    "# Rough pattern seems to fit. What's that line?"
   ]
  },
  {
   "cell_type": "code",
   "execution_count": 37,
   "metadata": {},
   "outputs": [
    {
     "data": {
      "text/plain": [
       "<matplotlib.legend.Legend at 0x7fda52df9358>"
      ]
     },
     "execution_count": 37,
     "metadata": {},
     "output_type": "execute_result"
    },
    {
     "data": {
      "image/png": "[encoded data removed]",
      "text/plain": [
       "<Figure size 432x288 with 1 Axes>"
      ]
     },
     "metadata": {
      "needs_background": "light"
     },
     "output_type": "display_data"
    }
   ],
   "source": [
    "# Plot the mass-luminosity relationship\n",
    "from astropy import constants as cs\n",
    "import matplotlib.pyplot as plt\n",
    "plt.plot(np.log10(iso1.primaries['mass_current']), np.log10(iso1.primaries[\"L\"]/cs.L_sun), \"r.\")\n",
    "plt.plot(np.log10(iso1.secondaries['mass_current']), np.log10(iso1.secondaries[\"L\"]/cs.L_sun), \"r.\")\n",
    "plt.plot(np.log10(iso1.singles['mass_current']), np.log10(iso1.singles[\"L\"]/cs.L_sun), \"r.\", label=\"BPASS isochrone\")\n",
    "plt.plot(np.log10(iso2.points['mass_current']), np.log10(iso2.points[\"L\"]/cs.L_sun), \"b.\", label=\"MISTv1\")\n",
    "plt.xlabel(\"log(Current Mass in solar masses)\")\n",
    "plt.ylabel(\"log(L/L_solar)\")\n",
    "plt.title(\"Mass-logL of Isochrones at solar metallicity and 10 million years age\")\n",
    "plt.legend()\n",
    "# Rough pattern seems to fit. What's that line?"
   ]
  },
  {
   "cell_type": "markdown",
   "metadata": {},
   "source": [
    "Which table is causing that line?\n",
    "The primaries seem to be causing that issue."
   ]
  },
  {
   "cell_type": "code",
   "execution_count": 38,
   "metadata": {},
   "outputs": [
    {
     "data": {
      "text/plain": [
       "[<matplotlib.lines.Line2D at 0x7fda4117ae80>]"
      ]
     },
     "execution_count": 38,
     "metadata": {},
     "output_type": "execute_result"
    },
    {
     "data": {
      "image/png": "[encoded data removed]",
      "text/plain": [
       "<Figure size 432x288 with 1 Axes>"
      ]
     },
     "metadata": {
      "needs_background": "light"
     },
     "output_type": "display_data"
    }
   ],
   "source": [
    "from astropy import constants as cs\n",
    "import matplotlib.pyplot as plt\n",
    "plt.plot(np.log10(iso1.primaries['mass_current']), np.log10(iso1.primaries[\"L\"]/cs.L_sun), \"r.\", label=\"BPASS isochrone\")"
   ]
  },
  {
   "cell_type": "markdown",
   "metadata": {},
   "source": [
    "Which type of secondary star is it that is causing this strange pattern?"
   ]
  },
  {
   "cell_type": "code",
   "execution_count": 39,
   "metadata": {},
   "outputs": [
    {
     "name": "stderr",
     "output_type": "stream",
     "text": [
      "/opt/anaconda3/envs/astroconda/lib/python3.7/site-packages/astropy/units/quantity.py:477: RuntimeWarning: invalid value encountered in greater\n",
      "  result = super().__array_ufunc__(function, method, *arrays, **kwargs)\n",
      "/opt/anaconda3/envs/astroconda/lib/python3.7/site-packages/astropy/units/quantity.py:477: RuntimeWarning: invalid value encountered in less\n",
      "  result = super().__array_ufunc__(function, method, *arrays, **kwargs)\n"
     ]
    }
   ],
   "source": [
    "bad_line = iso1.primaries[np.where((np.log10(iso1.primaries[\"L\"]/cs.L_sun)>-4) & (np.log10(iso1.primaries[\"L\"]/cs.L_sun)<-2))[0]]"
   ]
  },
  {
   "cell_type": "code",
   "execution_count": 40,
   "metadata": {},
   "outputs": [
    {
     "data": {
      "text/html": [
       "<i>Table length=863</i>\n",
       "<table id=\"table140575126599272\" class=\"table-striped table-bordered table-condensed\">\n",
       "<thead><tr><th>mass</th><th>log_a</th><th>L</th><th>Teff</th><th>R</th><th>logg</th><th>isWR</th><th>mass_current</th><th>phase</th><th>source</th><th>m_ubv_U</th><th>m_ubv_V</th><th>m_ubv_B</th><th>m_ubv_R</th><th>m_ubv_I</th></tr></thead>\n",
       "<thead><tr><th>solMass</th><th></th><th>W</th><th>K</th><th>m</th><th></th><th></th><th>solMass</th><th></th><th></th><th></th><th></th><th></th><th></th><th></th></tr></thead>\n",
       "<thead><tr><th>float64</th><th>float64</th><th>float64</th><th>float64</th><th>float64</th><th>float64</th><th>bool</th><th>float64</th><th>float64</th><th>int64</th><th>float64</th><th>float64</th><th>float64</th><th>float64</th><th>float64</th></tr></thead>\n",
       "<tr><td>7.94328</td><td>0.4736675913119708</td><td>2.6668705105418817e+23</td><td>2738.7349246249955</td><td>81562431.48962052</td><td>5.338067498968938</td><td>False</td><td>7.94328</td><td>110.0</td><td>4</td><td>nan</td><td>nan</td><td>nan</td><td>nan</td><td>nan</td></tr>\n",
       "<tr><td>3.16228</td><td>1.0592325913119707</td><td>2.6668705105418817e+23</td><td>2738.7349246249955</td><td>81562431.48962052</td><td>4.938067948646069</td><td>False</td><td>3.16228</td><td>110.0</td><td>4</td><td>nan</td><td>nan</td><td>nan</td><td>nan</td><td>nan</td></tr>\n",
       "<tr><td>1.4</td><td>-1.5612380086880293</td><td>2.6668705105418817e+23</td><td>2738.7349246249955</td><td>81562431.48962052</td><td>4.628521191018658</td><td>False</td><td>1.550435</td><td>110.0</td><td>3</td><td>nan</td><td>nan</td><td>nan</td><td>nan</td><td>nan</td></tr>\n",
       "<tr><td>3.98107</td><td>1.0218025913119706</td><td>2.6668705105418817e+23</td><td>2738.7349246249955</td><td>81562431.48962052</td><td>5.038067441246554</td><td>False</td><td>3.98107</td><td>110.0</td><td>4</td><td>nan</td><td>nan</td><td>nan</td><td>nan</td><td>nan</td></tr>\n",
       "<tr><td>1.4</td><td>1.272567591311971</td><td>2.6668705105418817e+23</td><td>2738.7349246249955</td><td>81562431.48962052</td><td>4.584195662981371</td><td>False</td><td>1.4</td><td>110.0</td><td>4</td><td>nan</td><td>nan</td><td>nan</td><td>nan</td><td>nan</td></tr>\n",
       "<tr><td>1.4</td><td>-0.45007040868802917</td><td>2.6668705105418817e+23</td><td>2738.7349246249955</td><td>81562431.48962052</td><td>4.584195662981371</td><td>False</td><td>1.4</td><td>110.0</td><td>4</td><td>nan</td><td>nan</td><td>nan</td><td>nan</td><td>nan</td></tr>\n",
       "<tr><td>7.94328</td><td>0.6070005913119707</td><td>2.6668705105418817e+23</td><td>2738.7349246249955</td><td>81562431.48962052</td><td>5.338067498968938</td><td>False</td><td>7.94328</td><td>110.0</td><td>4</td><td>nan</td><td>nan</td><td>nan</td><td>nan</td><td>nan</td></tr>\n",
       "<tr><td>1.4</td><td>0.3000205913119709</td><td>2.6668705105418817e+23</td><td>2738.7349246249955</td><td>81562431.48962052</td><td>4.584195662981371</td><td>False</td><td>1.4</td><td>110.0</td><td>4</td><td>nan</td><td>nan</td><td>nan</td><td>nan</td><td>nan</td></tr>\n",
       "<tr><td>5.01187</td><td>0.06156459131197067</td><td>2.6668705105418817e+23</td><td>2738.7349246249955</td><td>81562431.48962052</td><td>5.138067424857716</td><td>False</td><td>5.01187</td><td>110.0</td><td>4</td><td>nan</td><td>nan</td><td>nan</td><td>nan</td><td>nan</td></tr>\n",
       "<tr><td>...</td><td>...</td><td>...</td><td>...</td><td>...</td><td>...</td><td>...</td><td>...</td><td>...</td><td>...</td><td>...</td><td>...</td><td>...</td><td>...</td><td>...</td></tr>\n",
       "<tr><td>1.4</td><td>1.2230445913119707</td><td>2.6668705105418817e+23</td><td>2738.7349246249955</td><td>81562431.48962052</td><td>4.584195662981371</td><td>False</td><td>1.4</td><td>110.0</td><td>4</td><td>nan</td><td>nan</td><td>nan</td><td>nan</td><td>nan</td></tr>\n",
       "<tr><td>1.4</td><td>-0.3769554086880291</td><td>2.6668705105418817e+23</td><td>2738.7349246249955</td><td>81562431.48962052</td><td>4.584195662981371</td><td>False</td><td>1.4</td><td>110.0</td><td>4</td><td>nan</td><td>nan</td><td>nan</td><td>nan</td><td>nan</td></tr>\n",
       "<tr><td>6.30957</td><td>-1.5585136086880294</td><td>2.6668705105418817e+23</td><td>2738.7349246249955</td><td>81562431.48962052</td><td>5.288588640214786</td><td>False</td><td>7.087956</td><td>110.0</td><td>3</td><td>nan</td><td>nan</td><td>nan</td><td>nan</td><td>nan</td></tr>\n",
       "<tr><td>3.16228</td><td>1.8169395913119706</td><td>2.6668705105418817e+23</td><td>2738.7349246249955</td><td>81562431.48962052</td><td>4.938067948646069</td><td>False</td><td>3.16228</td><td>110.0</td><td>4</td><td>nan</td><td>nan</td><td>nan</td><td>nan</td><td>nan</td></tr>\n",
       "<tr><td>2.51189</td><td>0.4525225913119706</td><td>2.6668705105418817e+23</td><td>2738.7349246249955</td><td>81562431.48962052</td><td>4.838068244279513</td><td>False</td><td>2.51189</td><td>110.0</td><td>4</td><td>nan</td><td>nan</td><td>nan</td><td>nan</td><td>nan</td></tr>\n",
       "<tr><td>3.16228</td><td>1.6478045913119708</td><td>2.6668705105418817e+23</td><td>2738.7349246249955</td><td>81562431.48962052</td><td>4.938067948646069</td><td>False</td><td>3.16228</td><td>110.0</td><td>4</td><td>nan</td><td>nan</td><td>nan</td><td>nan</td><td>nan</td></tr>\n",
       "<tr><td>1.4</td><td>-0.8784844086880292</td><td>2.6668705105418817e+23</td><td>2738.7349246249955</td><td>81562431.48962052</td><td>4.584195662981371</td><td>False</td><td>1.4</td><td>110.0</td><td>3</td><td>nan</td><td>nan</td><td>nan</td><td>nan</td><td>nan</td></tr>\n",
       "<tr><td>6.30957</td><td>1.2704935913119706</td><td>2.6668705105418817e+23</td><td>2738.7349246249955</td><td>81562431.48962052</td><td>5.23806739019378</td><td>False</td><td>6.30957</td><td>110.0</td><td>4</td><td>nan</td><td>nan</td><td>nan</td><td>nan</td><td>nan</td></tr>\n",
       "<tr><td>5.01187</td><td>0.7610385913119706</td><td>2.6668705105418817e+23</td><td>2738.7349246249955</td><td>81562431.48962052</td><td>5.138067424857716</td><td>False</td><td>5.01187</td><td>110.0</td><td>4</td><td>nan</td><td>nan</td><td>nan</td><td>nan</td><td>nan</td></tr>\n",
       "<tr><td>2.51189</td><td>0.852522591311971</td><td>2.6668705105418817e+23</td><td>2738.7349246249955</td><td>81562431.48962052</td><td>4.838068244279513</td><td>False</td><td>2.51189</td><td>110.0</td><td>4</td><td>nan</td><td>nan</td><td>nan</td><td>nan</td><td>nan</td></tr>\n",
       "</table>"
      ],
      "text/plain": [
       "<Table length=863>\n",
       "  mass         log_a                   L            ... m_ubv_B m_ubv_R m_ubv_I\n",
       "solMass                                W            ...                        \n",
       "float64       float64               float64         ... float64 float64 float64\n",
       "------- -------------------- ---------------------- ... ------- ------- -------\n",
       "7.94328   0.4736675913119708 2.6668705105418817e+23 ...     nan     nan     nan\n",
       "3.16228   1.0592325913119707 2.6668705105418817e+23 ...     nan     nan     nan\n",
       "    1.4  -1.5612380086880293 2.6668705105418817e+23 ...     nan     nan     nan\n",
       "3.98107   1.0218025913119706 2.6668705105418817e+23 ...     nan     nan     nan\n",
       "    1.4    1.272567591311971 2.6668705105418817e+23 ...     nan     nan     nan\n",
       "    1.4 -0.45007040868802917 2.6668705105418817e+23 ...     nan     nan     nan\n",
       "7.94328   0.6070005913119707 2.6668705105418817e+23 ...     nan     nan     nan\n",
       "    1.4   0.3000205913119709 2.6668705105418817e+23 ...     nan     nan     nan\n",
       "5.01187  0.06156459131197067 2.6668705105418817e+23 ...     nan     nan     nan\n",
       "    ...                  ...                    ... ...     ...     ...     ...\n",
       "    1.4   1.2230445913119707 2.6668705105418817e+23 ...     nan     nan     nan\n",
       "    1.4  -0.3769554086880291 2.6668705105418817e+23 ...     nan     nan     nan\n",
       "6.30957  -1.5585136086880294 2.6668705105418817e+23 ...     nan     nan     nan\n",
       "3.16228   1.8169395913119706 2.6668705105418817e+23 ...     nan     nan     nan\n",
       "2.51189   0.4525225913119706 2.6668705105418817e+23 ...     nan     nan     nan\n",
       "3.16228   1.6478045913119708 2.6668705105418817e+23 ...     nan     nan     nan\n",
       "    1.4  -0.8784844086880292 2.6668705105418817e+23 ...     nan     nan     nan\n",
       "6.30957   1.2704935913119706 2.6668705105418817e+23 ...     nan     nan     nan\n",
       "5.01187   0.7610385913119706 2.6668705105418817e+23 ...     nan     nan     nan\n",
       "2.51189    0.852522591311971 2.6668705105418817e+23 ...     nan     nan     nan"
      ]
     },
     "execution_count": 40,
     "metadata": {},
     "output_type": "execute_result"
    }
   ],
   "source": [
    "bad_line"
   ]
  },
  {
   "cell_type": "markdown",
   "metadata": {},
   "source": [
    "What sorts of characteristics (logg, Teff, L) can be causing it? Let's find out"
   ]
  },
  {
   "cell_type": "code",
   "execution_count": 41,
   "metadata": {},
   "outputs": [
    {
     "data": {
      "text/html": [
       "&lt;Column name=&apos;L&apos; dtype=&apos;float64&apos; unit=&apos;W&apos; length=1&gt;\n",
       "<table>\n",
       "<tr><td>2.6668705105418817e+23</td></tr>\n",
       "</table>"
      ],
      "text/plain": [
       "<Column name='L' dtype='float64' unit='W' length=1>\n",
       "2.6668705105418817e+23"
      ]
     },
     "execution_count": 41,
     "metadata": {},
     "output_type": "execute_result"
    }
   ],
   "source": [
    "np.unique(bad_line['L'])"
   ]
  },
  {
   "cell_type": "code",
   "execution_count": 42,
   "metadata": {},
   "outputs": [
    {
     "data": {
      "text/html": [
       "&lt;Column name=&apos;Teff&apos; dtype=&apos;float64&apos; unit=&apos;K&apos; length=1&gt;\n",
       "<table>\n",
       "<tr><td>2738.7349246249955</td></tr>\n",
       "</table>"
      ],
      "text/plain": [
       "<Column name='Teff' dtype='float64' unit='K' length=1>\n",
       "2738.7349246249955"
      ]
     },
     "execution_count": 42,
     "metadata": {},
     "output_type": "execute_result"
    }
   ],
   "source": [
    "np.unique(bad_line['Teff'])"
   ]
  },
  {
   "cell_type": "code",
   "execution_count": 43,
   "metadata": {},
   "outputs": [
    {
     "data": {
      "text/html": [
       "&lt;Column name=&apos;logg&apos; dtype=&apos;float64&apos; unit=&apos;&apos; length=233&gt;\n",
       "<table>\n",
       "<tr><td>4.038067441246554</td></tr>\n",
       "<tr><td>4.138067424857716</td></tr>\n",
       "<tr><td>4.23806739019378</td></tr>\n",
       "<tr><td>4.538069210104485</td></tr>\n",
       "<tr><td>4.584195662981371</td></tr>\n",
       "<tr><td>4.584533350726831</td></tr>\n",
       "<tr><td>4.584544199514462</td></tr>\n",
       "<tr><td>4.584582013169922</td></tr>\n",
       "<tr><td>4.58467870197079</td></tr>\n",
       "<tr><td>4.584705969279498</td></tr>\n",
       "<tr><td>4.584723630145464</td></tr>\n",
       "<tr><td>4.584752133887823</td></tr>\n",
       "<tr><td>...</td></tr>\n",
       "<tr><td>5.656308689249822</td></tr>\n",
       "<tr><td>5.669137401271476</td></tr>\n",
       "<tr><td>5.709981919827759</td></tr>\n",
       "<tr><td>5.714119760661121</td></tr>\n",
       "<tr><td>5.754771457553164</td></tr>\n",
       "<tr><td>5.758970464159073</td></tr>\n",
       "<tr><td>5.766594825004219</td></tr>\n",
       "<tr><td>5.770588898270764</td></tr>\n",
       "<tr><td>5.771291348875911</td></tr>\n",
       "<tr><td>5.7741413279939655</td></tr>\n",
       "<tr><td>5.9078336966598695</td></tr>\n",
       "<tr><td>5.916387471716592</td></tr>\n",
       "</table>"
      ],
      "text/plain": [
       "<Column name='logg' dtype='float64' unit='' length=233>\n",
       " 4.038067441246554\n",
       " 4.138067424857716\n",
       "  4.23806739019378\n",
       " 4.538069210104485\n",
       " 4.584195662981371\n",
       " 4.584533350726831\n",
       " 4.584544199514462\n",
       " 4.584582013169922\n",
       "  4.58467870197079\n",
       " 4.584705969279498\n",
       " 4.584723630145464\n",
       " 4.584752133887823\n",
       "               ...\n",
       " 5.656308689249822\n",
       " 5.669137401271476\n",
       " 5.709981919827759\n",
       " 5.714119760661121\n",
       " 5.754771457553164\n",
       " 5.758970464159073\n",
       " 5.766594825004219\n",
       " 5.770588898270764\n",
       " 5.771291348875911\n",
       "5.7741413279939655\n",
       "5.9078336966598695\n",
       " 5.916387471716592"
      ]
     },
     "execution_count": 43,
     "metadata": {},
     "output_type": "execute_result"
    }
   ],
   "source": [
    "np.unique(bad_line['logg'])"
   ]
  },
  {
   "cell_type": "code",
   "execution_count": 44,
   "metadata": {},
   "outputs": [
    {
     "data": {
      "text/html": [
       "&lt;Column name=&apos;mass&apos; dtype=&apos;float64&apos; unit=&apos;solMass&apos; length=12&gt;\n",
       "<table>\n",
       "<tr><td>0.398107</td></tr>\n",
       "<tr><td>0.501187</td></tr>\n",
       "<tr><td>0.630957</td></tr>\n",
       "<tr><td>1.25893</td></tr>\n",
       "<tr><td>1.4</td></tr>\n",
       "<tr><td>1.99526</td></tr>\n",
       "<tr><td>2.51189</td></tr>\n",
       "<tr><td>3.16228</td></tr>\n",
       "<tr><td>3.98107</td></tr>\n",
       "<tr><td>5.01187</td></tr>\n",
       "<tr><td>6.30957</td></tr>\n",
       "<tr><td>7.94328</td></tr>\n",
       "</table>"
      ],
      "text/plain": [
       "<Column name='mass' dtype='float64' unit='solMass' length=12>\n",
       "0.398107\n",
       "0.501187\n",
       "0.630957\n",
       " 1.25893\n",
       "     1.4\n",
       " 1.99526\n",
       " 2.51189\n",
       " 3.16228\n",
       " 3.98107\n",
       " 5.01187\n",
       " 6.30957\n",
       " 7.94328"
      ]
     },
     "execution_count": 44,
     "metadata": {},
     "output_type": "execute_result"
    }
   ],
   "source": [
    "np.unique(bad_line['mass'])"
   ]
  },
  {
   "cell_type": "code",
   "execution_count": 45,
   "metadata": {},
   "outputs": [
    {
     "data": {
      "text/html": [
       "&lt;Column name=&apos;mass_current&apos; dtype=&apos;float64&apos; unit=&apos;solMass&apos; length=233&gt;\n",
       "<table>\n",
       "<tr><td>0.398107</td></tr>\n",
       "<tr><td>0.501187</td></tr>\n",
       "<tr><td>0.630957</td></tr>\n",
       "<tr><td>1.25893</td></tr>\n",
       "<tr><td>1.4</td></tr>\n",
       "<tr><td>1.401089</td></tr>\n",
       "<tr><td>1.401124</td></tr>\n",
       "<tr><td>1.401246</td></tr>\n",
       "<tr><td>1.401558</td></tr>\n",
       "<tr><td>1.401646</td></tr>\n",
       "<tr><td>1.401703</td></tr>\n",
       "<tr><td>1.401795</td></tr>\n",
       "<tr><td>...</td></tr>\n",
       "<tr><td>16.52879</td></tr>\n",
       "<tr><td>17.02432</td></tr>\n",
       "<tr><td>18.70313</td></tr>\n",
       "<tr><td>18.88218</td></tr>\n",
       "<tr><td>20.73499</td></tr>\n",
       "<tr><td>20.93644</td></tr>\n",
       "<tr><td>21.30724</td></tr>\n",
       "<tr><td>21.5041</td></tr>\n",
       "<tr><td>21.53891</td></tr>\n",
       "<tr><td>21.68072</td></tr>\n",
       "<tr><td>29.4962</td></tr>\n",
       "<tr><td>30.08291</td></tr>\n",
       "</table>"
      ],
      "text/plain": [
       "<Column name='mass_current' dtype='float64' unit='solMass' length=233>\n",
       "0.398107\n",
       "0.501187\n",
       "0.630957\n",
       " 1.25893\n",
       "     1.4\n",
       "1.401089\n",
       "1.401124\n",
       "1.401246\n",
       "1.401558\n",
       "1.401646\n",
       "1.401703\n",
       "1.401795\n",
       "     ...\n",
       "16.52879\n",
       "17.02432\n",
       "18.70313\n",
       "18.88218\n",
       "20.73499\n",
       "20.93644\n",
       "21.30724\n",
       " 21.5041\n",
       "21.53891\n",
       "21.68072\n",
       " 29.4962\n",
       "30.08291"
      ]
     },
     "execution_count": 45,
     "metadata": {},
     "output_type": "execute_result"
    }
   ],
   "source": [
    "np.unique(bad_line['mass_current'])"
   ]
  },
  {
   "cell_type": "code",
   "execution_count": 46,
   "metadata": {},
   "outputs": [
    {
     "data": {
      "text/html": [
       "&lt;Column name=&apos;isWR&apos; dtype=&apos;bool&apos; length=1&gt;\n",
       "<table>\n",
       "<tr><td>False</td></tr>\n",
       "</table>"
      ],
      "text/plain": [
       "<Column name='isWR' dtype='bool' length=1>\n",
       "False"
      ]
     },
     "execution_count": 46,
     "metadata": {},
     "output_type": "execute_result"
    }
   ],
   "source": [
    "np.unique(bad_line['isWR'])"
   ]
  },
  {
   "cell_type": "code",
   "execution_count": 47,
   "metadata": {},
   "outputs": [
    {
     "data": {
      "text/html": [
       "&lt;Column name=&apos;phase&apos; dtype=&apos;float64&apos; length=1&gt;\n",
       "<table>\n",
       "<tr><td>110.0</td></tr>\n",
       "</table>"
      ],
      "text/plain": [
       "<Column name='phase' dtype='float64' length=1>\n",
       "110.0"
      ]
     },
     "execution_count": 47,
     "metadata": {},
     "output_type": "execute_result"
    }
   ],
   "source": [
    "np.unique(bad_line['phase'])"
   ]
  },
  {
   "cell_type": "markdown",
   "metadata": {},
   "source": [
    "So it looks like the stars causing the line are compact remnants from the NEWSECMODS. For now, I have designated them as mystery compact remnants. That is fine for now, even though it may look a bit dismaying."
   ]
  },
  {
   "cell_type": "markdown",
   "metadata": {},
   "source": [
    "Ah, so perhaps the horizontal line with the mass- luminosity plot causes the horizontal line in the CMD. Not surprising, as this lack of variation in the luminosity ends up creating lack of variation in M_V.\n",
    "Now onto examining the companions table for the cluster."
   ]
  },
  {
   "cell_type": "code",
   "execution_count": 48,
   "metadata": {},
   "outputs": [
    {
     "data": {
      "text/html": [
       "<i>Table length=182</i>\n",
       "<table id=\"table140575667514448\" class=\"table-striped table-bordered table-condensed\">\n",
       "<thead><tr><th>system_idx</th><th>mass</th><th>Teff</th><th>L</th><th>logg</th><th>isWR</th><th>mass_current</th><th>phase</th><th>metallicity</th><th>m_ubv_U</th><th>m_ubv_V</th><th>m_ubv_B</th><th>m_ubv_R</th><th>m_ubv_I</th><th>log_a</th><th>e</th><th>i</th><th>Omega</th><th>omega</th></tr></thead>\n",
       "<thead><tr><th>int64</th><th>float64</th><th>float64</th><th>float64</th><th>float64</th><th>bool</th><th>float64</th><th>int64</th><th>float64</th><th>float64</th><th>float64</th><th>float64</th><th>float64</th><th>float64</th><th>float64</th><th>float64</th><th>float64</th><th>float64</th><th>float64</th></tr></thead>\n",
       "<tr><td>0</td><td>1.1</td><td>5905.273274791816</td><td>4.233718019471322e+26</td><td>4.475800312461359</td><td>False</td><td>1.1</td><td>5</td><td>0.0</td><td>21.582327240247473</td><td>19.92754332589488</td><td>21.584439725847403</td><td>16.955139607176314</td><td>13.129029869574783</td><td>-0.8184116097655425</td><td>0.9814457611708565</td><td>128.85239316148326</td><td>121.18874235524085</td><td>64.64925796980019</td></tr>\n",
       "<tr><td>0</td><td>8.5</td><td>21928.554271313136</td><td>1.5375240902039437e+30</td><td>4.080065285565178</td><td>False</td><td>8.48316</td><td>5</td><td>0.0</td><td>13.092601643007603</td><td>13.341701143835568</td><td>13.929748056196226</td><td>10.833936721602733</td><td>7.512002630428639</td><td>2.622807894383729</td><td>0.44455285876537665</td><td>94.63922434454359</td><td>221.78251367303366</td><td>212.14501917114487</td></tr>\n",
       "<tr><td>0</td><td>7.5</td><td>20636.21291138488</td><td>9.537662032051415e+29</td><td>4.1280329185090565</td><td>False</td><td>7.49351</td><td>5</td><td>0.0</td><td>13.515141524825404</td><td>13.70853562093671</td><td>14.309758461341465</td><td>11.193998801745966</td><td>7.8595911794232025</td><td>1.0485573327481452</td><td>0.18303973885487695</td><td>13.610574800154975</td><td>359.7072713191484</td><td>267.6727798314125</td></tr>\n",
       "<tr><td>1</td><td>1.1199999999999999</td><td>5956.347129051855</td><td>4.614258587035191e+26</td><td>4.461225649973315</td><td>False</td><td>1.12</td><td>5</td><td>0.0</td><td>21.456457239316983</td><td>19.832741538617416</td><td>21.47144088724265</td><td>16.86655247081092</td><td>13.046920105975458</td><td>0.2814184928413217</td><td>0.31925877312867706</td><td>41.22415928655573</td><td>300.66294048719635</td><td>212.49559944959978</td></tr>\n",
       "<tr><td>2</td><td>0.6</td><td>3462.262564585446</td><td>2.976678489449759e+25</td><td>4.438058877686777</td><td>False</td><td>0.6</td><td>5</td><td>0.0</td><td>27.27626626769178</td><td>24.382098475286046</td><td>26.79137659954946</td><td>20.462775520878672</td><td>15.688463901881187</td><td>-1.3030399395042436</td><td>0.846245693513129</td><td>59.5724553840226</td><td>114.67357867853401</td><td>85.73688731993165</td></tr>\n",
       "<tr><td>2</td><td>0.86</td><td>4985.514687036238</td><td>1.3002052912942706e+26</td><td>4.585626078546701</td><td>False</td><td>0.86</td><td>5</td><td>0.0</td><td>23.838171088516376</td><td>21.362203513198704</td><td>23.37425761799386</td><td>18.237271585878233</td><td>14.259440506025383</td><td>1.9103241498732522</td><td>0.4588398587161617</td><td>112.27282994512163</td><td>132.97512842963104</td><td>50.180120648037125</td></tr>\n",
       "<tr><td>3</td><td>0.96</td><td>5539.620324568145</td><td>3.1212742470125126e+26</td><td>4.438058860342702</td><td>False</td><td>0.96</td><td>5</td><td>0.0</td><td>22.228178073936636</td><td>20.287146060343368</td><td>22.094395521387543</td><td>17.264666825551412</td><td>13.386068515125912</td><td>1.068058326263086</td><td>0.25580905088849465</td><td>98.13412786073485</td><td>180.45588950785552</td><td>238.1230425371516</td></tr>\n",
       "<tr><td>4</td><td>0.5</td><td>3758.374042884443</td><td>1.449846181570299e+25</td><td>4.813857631639152</td><td>False</td><td>0.5</td><td>5</td><td>0.0</td><td>27.67752155105963</td><td>24.53030292257732</td><td>27.122862504528776</td><td>20.964341734531565</td><td>16.505852701957764</td><td>0.6562953080407514</td><td>0.578073988867552</td><td>88.35228941908117</td><td>84.00434364881781</td><td>306.1600379733339</td></tr>\n",
       "<tr><td>5</td><td>1.1199999999999999</td><td>5956.347129051855</td><td>4.614258587035191e+26</td><td>4.461225649973315</td><td>False</td><td>1.12</td><td>5</td><td>0.0</td><td>21.456457239316983</td><td>19.832741538617416</td><td>21.47144088724265</td><td>16.86655247081092</td><td>13.046920105975458</td><td>1.2752310875339294</td><td>0.9944758595708653</td><td>67.11442718101306</td><td>245.7497614333954</td><td>47.664621857360515</td></tr>\n",
       "<tr><td>6</td><td>0.96</td><td>5539.620324568145</td><td>3.1212742470125126e+26</td><td>4.438058860342702</td><td>False</td><td>0.96</td><td>5</td><td>0.0</td><td>22.228178073936636</td><td>20.287146060343368</td><td>22.094395521387543</td><td>17.264666825551412</td><td>13.386068515125912</td><td>-0.4288033458899938</td><td>0.9881666614580049</td><td>59.44499259915694</td><td>53.27362674731933</td><td>29.064358757077603</td></tr>\n",
       "<tr><td>...</td><td>...</td><td>...</td><td>...</td><td>...</td><td>...</td><td>...</td><td>...</td><td>...</td><td>...</td><td>...</td><td>...</td><td>...</td><td>...</td><td>...</td><td>...</td><td>...</td><td>...</td><td>...</td></tr>\n",
       "<tr><td>149</td><td>1.08</td><td>5850.998678210819</td><td>3.8766976331725224e+26</td><td>4.4900713827900836</td><td>False</td><td>1.08</td><td>5</td><td>0.0</td><td>21.717600050872274</td><td>20.025923519719697</td><td>21.703940754235273</td><td>17.04646742005809</td><td>13.213074791656926</td><td>-0.11776546044239455</td><td>0.8929997534115491</td><td>49.0910561994355</td><td>26.233078946348293</td><td>40.24997518492714</td></tr>\n",
       "<tr><td>150</td><td>1.4</td><td>6571.280412702895</td><td>1.368711540542317e+27</td><td>4.254715662981371</td><td>False</td><td>1.4</td><td>5</td><td>0.0</td><td>19.97984723432443</td><td>18.63777519846185</td><td>20.060727810141103</td><td>15.748389183295382</td><td>12.002676421966383</td><td>-0.835322294826975</td><td>0.9328353368156905</td><td>95.99991293620151</td><td>298.31248035020445</td><td>215.8447703638186</td></tr>\n",
       "<tr><td>151</td><td>1.26</td><td>6282.174563205211</td><td>8.036407107968236e+26</td><td>4.363918172420696</td><td>False</td><td>1.26</td><td>5</td><td>0.0</td><td>20.67059675282277</td><td>19.222556144102874</td><td>20.742203997795944</td><td>16.29710111652757</td><td>12.518103409243066</td><td>1.0496660096895263</td><td>0.4197540345891117</td><td>92.384737327116</td><td>156.90093571219546</td><td>283.836183673586</td></tr>\n",
       "<tr><td>152</td><td>0.84</td><td>4847.189514295503</td><td>1.600928474310879e+26</td><td>4.438066913365015</td><td>False</td><td>0.84</td><td>5</td><td>0.0</td><td>23.785498954698</td><td>21.180835430965285</td><td>23.255810216667648</td><td>18.027768573144694</td><td>14.020845100394368</td><td>1.1035790787146038</td><td>0.5823879282966015</td><td>89.53358955311046</td><td>250.11572670971566</td><td>252.1179513694632</td></tr>\n",
       "<tr><td>153</td><td>1.6</td><td>7472.742201492755</td><td>2.360597425303899e+27</td><td>4.301207609959058</td><td>False</td><td>1.6</td><td>5</td><td>0.0</td><td>19.243677489233164</td><td>18.073582671755617</td><td>19.278725410538723</td><td>15.288175487152067</td><td>11.630477896388411</td><td>1.5345514490387313</td><td>0.2582251927512777</td><td>139.77187123982318</td><td>215.36192739687118</td><td>221.17786767475607</td></tr>\n",
       "<tr><td>154</td><td>0.84</td><td>4847.189514295503</td><td>1.600928474310879e+26</td><td>4.438066913365015</td><td>False</td><td>0.84</td><td>5</td><td>0.0</td><td>23.785498954698</td><td>21.180835430965285</td><td>23.255810216667648</td><td>18.027768573144694</td><td>14.020845100394368</td><td>0.8085456859638613</td><td>0.49468093083087233</td><td>52.404182443959996</td><td>82.42926612223613</td><td>158.8103814196244</td></tr>\n",
       "<tr><td>155</td><td>4.8</td><td>16705.90471485953</td><td>1.824449845854208e+29</td><td>4.287808864678721</td><td>False</td><td>4.8</td><td>5</td><td>0.0</td><td>14.975922054471193</td><td>14.95896400953051</td><td>15.615074697147703</td><td>12.41902290105953</td><td>9.039858968790245</td><td>1.397861965009638</td><td>0.8467059115239758</td><td>100.83370046008609</td><td>112.99769486182458</td><td>170.76189649661254</td></tr>\n",
       "<tr><td>156</td><td>0.96</td><td>5539.620324568145</td><td>3.1212742470125126e+26</td><td>4.438058860342702</td><td>False</td><td>0.96</td><td>5</td><td>0.0</td><td>22.228178073936636</td><td>20.287146060343368</td><td>22.094395521387543</td><td>17.264666825551412</td><td>13.386068515125912</td><td>1.315017489549411</td><td>0.9111002013645688</td><td>135.03478437533678</td><td>135.27797897357183</td><td>100.18334651491597</td></tr>\n",
       "<tr><td>157</td><td>0.42</td><td>2423.594732950453</td><td>5.002901232475354e+24</td><td>4.438076917701034</td><td>False</td><td>0.42</td><td>5</td><td>0.0</td><td>32.05219110774986</td><td>30.19437064231244</td><td>32.90048565417926</td><td>24.23305868480447</td><td>17.764581399517095</td><td>0.5997848004311672</td><td>0.46517280391557764</td><td>162.77633623459687</td><td>305.1336424648434</td><td>81.16078839263669</td></tr>\n",
       "<tr><td>158</td><td>8.8</td><td>23887.461494461044</td><td>1.7160973833144615e+30</td><td>4.198764558085717</td><td>False</td><td>8.798668</td><td>5</td><td>0.0</td><td>13.121556847452036</td><td>13.438237377244711</td><td>14.011733401934297</td><td>10.939119473653474</td><td>7.633703944775635</td><td>1.5182112628496731</td><td>0.8641795913130049</td><td>88.23618954643524</td><td>236.94894509962762</td><td>284.615725178737</td></tr>\n",
       "</table>"
      ],
      "text/plain": [
       "<Table length=182>\n",
       "system_idx        mass        ...       Omega              omega       \n",
       "  int64         float64       ...      float64            float64      \n",
       "---------- ------------------ ... ------------------ ------------------\n",
       "         0                1.1 ... 121.18874235524085  64.64925796980019\n",
       "         0                8.5 ... 221.78251367303366 212.14501917114487\n",
       "         0                7.5 ...  359.7072713191484  267.6727798314125\n",
       "         1 1.1199999999999999 ... 300.66294048719635 212.49559944959978\n",
       "         2                0.6 ... 114.67357867853401  85.73688731993165\n",
       "         2               0.86 ... 132.97512842963104 50.180120648037125\n",
       "         3               0.96 ... 180.45588950785552  238.1230425371516\n",
       "         4                0.5 ...  84.00434364881781  306.1600379733339\n",
       "         5 1.1199999999999999 ...  245.7497614333954 47.664621857360515\n",
       "         6               0.96 ...  53.27362674731933 29.064358757077603\n",
       "       ...                ... ...                ...                ...\n",
       "       149               1.08 ... 26.233078946348293  40.24997518492714\n",
       "       150                1.4 ... 298.31248035020445  215.8447703638186\n",
       "       151               1.26 ... 156.90093571219546   283.836183673586\n",
       "       152               0.84 ... 250.11572670971566  252.1179513694632\n",
       "       153                1.6 ... 215.36192739687118 221.17786767475607\n",
       "       154               0.84 ...  82.42926612223613  158.8103814196244\n",
       "       155                4.8 ... 112.99769486182458 170.76189649661254\n",
       "       156               0.96 ... 135.27797897357183 100.18334651491597\n",
       "       157               0.42 ...  305.1336424648434  81.16078839263669\n",
       "       158                8.8 ... 236.94894509962762   284.615725178737"
      ]
     },
     "execution_count": 48,
     "metadata": {},
     "output_type": "execute_result"
    }
   ],
   "source": [
    "clus_1.companions"
   ]
  },
  {
   "cell_type": "code",
   "execution_count": 49,
   "metadata": {},
   "outputs": [
    {
     "data": {
      "text/plain": [
       "<matplotlib.legend.Legend at 0x7fda52e56240>"
      ]
     },
     "execution_count": 49,
     "metadata": {},
     "output_type": "execute_result"
    },
    {
     "data": {
      "image/png": "[encoded data removed]",
      "text/plain": [
       "<Figure size 432x288 with 1 Axes>"
      ]
     },
     "metadata": {
      "needs_background": "light"
     },
     "output_type": "display_data"
    }
   ],
   "source": [
    "# Plot the mass-luminosity relationship\n",
    "from astropy import constants as cs\n",
    "from astropy import units as u\n",
    "import numpy as np\n",
    "import matplotlib.pyplot as plt\n",
    "plt.plot((clus_1.star_systems['mass_current']), np.log10(clus_1.star_systems[\"L\"]), \"r.\", label=\"Binary_Cluster made from BPASS\", alpha =1)\n",
    "plt.plot((clus_1.companions['mass_current']), np.log10(clus_1.companions[\"L\"]), \"r.\", label=\"Binary_Cluster made from BPASS\", alpha = 1)\n",
    "plt.plot((clus_2.star_systems['mass_current']), np.log10(clus_2.star_systems[\"L\"]), \"b.\", label=\"Binary Cluster made from MIST v.1\", alpha =0.1)\n",
    "plt.plot((clus_2.companions['mass_current']), np.log10(clus_2.companions[\"L\"]), \"b.\", label=\"Binary Cluster made from MIST v.1\", alpha = 0.1)\n",
    "plt.xlabel(\"Current Mass in solar masses\")\n",
    "plt.ylabel(\"log(L in Watts)\")\n",
    "plt.title(\"Mass-logL of Cluster at solar metallicity and 10 million years age\")\n",
    "plt.legend()\n",
    "# Rough pattern seems to fit. What's that line?"
   ]
  },
  {
   "cell_type": "markdown",
   "metadata": {},
   "source": [
    "Now go back to the shape of the clusters' Color magnitude diagrams."
   ]
  },
  {
   "cell_type": "code",
   "execution_count": 50,
   "metadata": {},
   "outputs": [
    {
     "data": {
      "text/plain": [
       "<matplotlib.legend.Legend at 0x7fda52e86dd8>"
      ]
     },
     "execution_count": 50,
     "metadata": {},
     "output_type": "execute_result"
    },
    {
     "data": {
      "image/png": "[encoded data removed]",
      "text/plain": [
       "<Figure size 432x288 with 1 Axes>"
      ]
     },
     "metadata": {
      "needs_background": "light"
     },
     "output_type": "display_data"
    }
   ],
   "source": [
    "from astropy import constants as cs\n",
    "from astropy import units as u\n",
    "import numpy as np\n",
    "import matplotlib.pyplot as plt\n",
    "plt.plot((clus_1.companions['mass_current']), np.log10(clus_1.companions[\"L\"]), \"r.\", label=\"Binary_Cluster made from BPASS\", alpha = 1)\n",
    "plt.plot((clus_2.companions['mass_current']), np.log10(clus_2.companions[\"L\"]), \"b.\", label=\"Binary Cluster made from MIST v.1\", alpha = 0.1)\n",
    "plt.xlabel(\"Current Mass in solar masses\")\n",
    "plt.ylabel(\"log(L in Watts)\")\n",
    "plt.title(\"Mass-logL of Cluster at solar metallicity and 10 million years age\")\n",
    "plt.legend()\n",
    "# Rough pattern seems to fit. What's that line?"
   ]
  },
  {
   "cell_type": "code",
   "execution_count": 51,
   "metadata": {},
   "outputs": [
    {
     "data": {
      "text/html": [
       "&lt;Column name=&apos;mass_current&apos; dtype=&apos;float64&apos; length=59&gt;\n",
       "<table>\n",
       "<tr><td>0.42</td></tr>\n",
       "<tr><td>0.5</td></tr>\n",
       "<tr><td>0.56</td></tr>\n",
       "<tr><td>0.6</td></tr>\n",
       "<tr><td>0.7</td></tr>\n",
       "<tr><td>0.72</td></tr>\n",
       "<tr><td>0.75</td></tr>\n",
       "<tr><td>0.8</td></tr>\n",
       "<tr><td>0.84</td></tr>\n",
       "<tr><td>0.86</td></tr>\n",
       "<tr><td>0.88</td></tr>\n",
       "<tr><td>0.96</td></tr>\n",
       "<tr><td>...</td></tr>\n",
       "<tr><td>8.798668</td></tr>\n",
       "<tr><td>nan</td></tr>\n",
       "<tr><td>nan</td></tr>\n",
       "<tr><td>nan</td></tr>\n",
       "<tr><td>nan</td></tr>\n",
       "<tr><td>nan</td></tr>\n",
       "<tr><td>nan</td></tr>\n",
       "<tr><td>nan</td></tr>\n",
       "<tr><td>nan</td></tr>\n",
       "<tr><td>nan</td></tr>\n",
       "<tr><td>nan</td></tr>\n",
       "<tr><td>nan</td></tr>\n",
       "</table>"
      ],
      "text/plain": [
       "<Column name='mass_current' dtype='float64' length=59>\n",
       "    0.42\n",
       "     0.5\n",
       "    0.56\n",
       "     0.6\n",
       "     0.7\n",
       "    0.72\n",
       "    0.75\n",
       "     0.8\n",
       "    0.84\n",
       "    0.86\n",
       "    0.88\n",
       "    0.96\n",
       "     ...\n",
       "8.798668\n",
       "     nan\n",
       "     nan\n",
       "     nan\n",
       "     nan\n",
       "     nan\n",
       "     nan\n",
       "     nan\n",
       "     nan\n",
       "     nan\n",
       "     nan\n",
       "     nan"
      ]
     },
     "execution_count": 51,
     "metadata": {},
     "output_type": "execute_result"
    }
   ],
   "source": [
    "np.unique((clus_1.companions['mass_current']))"
   ]
  },
  {
   "cell_type": "code",
   "execution_count": 52,
   "metadata": {},
   "outputs": [
    {
     "data": {
      "text/plain": [
       "<matplotlib.legend.Legend at 0x7fda52ba7d68>"
      ]
     },
     "execution_count": 52,
     "metadata": {},
     "output_type": "execute_result"
    },
    {
     "data": {
      "image/png": "[encoded data removed]",
      "text/plain": [
       "<Figure size 432x288 with 1 Axes>"
      ]
     },
     "metadata": {
      "needs_background": "light"
     },
     "output_type": "display_data"
    }
   ],
   "source": [
    "# Taking a look at the Binary Cluster vs Default Settings cluster Observer's HR Diagram\n",
    "# Remember to use a distance modulus!\n",
    "import matplotlib.pyplot as plt\n",
    "plt.plot(clus_1.star_systems['m_ubv_B']-clus_1.star_systems[\"m_ubv_V\"], clus_1.star_systems[\"m_ubv_V\"]-5*np.log10(100), \"r.\",label=\"BPASS\")\n",
    "plt.plot(clus_2.star_systems['m_ubv_B']-clus_2.star_systems[\"m_ubv_V\"], clus_2.star_systems[\"m_ubv_V\"]-5*np.log10(100), \"b+\", label=\"MISTv1\", alpha=0.1)\n",
    "plt.xlabel(\"B-V\")\n",
    "plt.ylabel(\"pseudo-M_V\")\n",
    "plt.title(\"Color magnitude Diagram of clusters at solar metallicity and 10 million years age\")\n",
    "plt.gca().invert_yaxis()\n",
    "plt.legend()"
   ]
  },
  {
   "cell_type": "code",
   "execution_count": 53,
   "metadata": {},
   "outputs": [
    {
     "data": {
      "text/plain": [
       "<matplotlib.legend.Legend at 0x7fda410cff60>"
      ]
     },
     "execution_count": 53,
     "metadata": {},
     "output_type": "execute_result"
    },
    {
     "data": {
      "image/png": "[encoded data removed]",
      "text/plain": [
       "<Figure size 432x288 with 1 Axes>"
      ]
     },
     "metadata": {
      "needs_background": "light"
     },
     "output_type": "display_data"
    }
   ],
   "source": [
    "import matplotlib.pyplot as plt\n",
    "plt.plot(np.log10(clus_1.companions['Teff']), np.log10(clus_1.companions[\"L\"]), \"r.\",label=\"BPASS\", alpha=0.5)\n",
    "plt.plot(np.log10(clus_2.companions['Teff']), np.log10(clus_2.companions[\"L\"]), \"b+\", alpha=0.15)\n",
    "plt.plot(np.log10(clus_1.star_systems['Teff']), np.log10(clus_1.star_systems[\"L\"]), \"r.\",label=\"BPASS\", alpha=0.5)\n",
    "plt.plot(np.log10(clus_2.star_systems['Teff']), np.log10(clus_2.star_systems[\"L\"]), \"b+\", label=\"MISTv1\", alpha=0.15)\n",
    "plt.xlabel(\"log(T in kelvin)\")\n",
    "plt.ylabel(\"log(L in watts)\")\n",
    "plt.title(\"Color magnitude Diagram of clusters at solar metallicity and 10 million years age\")\n",
    "plt.gca().invert_xaxis()\n",
    "plt.legend()"
   ]
  },
  {
   "cell_type": "markdown",
   "metadata": {},
   "source": [
    "Looking at which stars are the white dwarves?"
   ]
  },
  {
   "cell_type": "code",
   "execution_count": 54,
   "metadata": {},
   "outputs": [
    {
     "data": {
      "text/plain": [
       "array([ 19,  24,  77,  80,  90, 122, 130, 138, 150])"
      ]
     },
     "execution_count": 54,
     "metadata": {},
     "output_type": "execute_result"
    }
   ],
   "source": [
    "import numpy as np\n",
    "np.where(clus_1.star_systems['phase']==101.0)[0]"
   ]
  },
  {
   "cell_type": "markdown",
   "metadata": {},
   "source": [
    "Black Holes?"
   ]
  },
  {
   "cell_type": "code",
   "execution_count": 55,
   "metadata": {},
   "outputs": [
    {
     "data": {
      "text/plain": [
       "array([], dtype=int64)"
      ]
     },
     "execution_count": 55,
     "metadata": {},
     "output_type": "execute_result"
    }
   ],
   "source": [
    "np.where(clus_1.star_systems['phase']==103.0)[0]"
   ]
  },
  {
   "cell_type": "markdown",
   "metadata": {},
   "source": [
    "Do we have any neutron stars?"
   ]
  },
  {
   "cell_type": "code",
   "execution_count": 56,
   "metadata": {},
   "outputs": [
    {
     "data": {
      "text/plain": [
       "array([], dtype=int64)"
      ]
     },
     "execution_count": 56,
     "metadata": {},
     "output_type": "execute_result"
    }
   ],
   "source": [
    "np.where(clus_1.star_systems['phase']==102.0)[0]"
   ]
  },
  {
   "cell_type": "markdown",
   "metadata": {},
   "source": [
    "Let's make sure that I am getting just about enough star mass for my cluster. (It was a bug before I used an adjustment factor.)"
   ]
  },
  {
   "cell_type": "code",
   "execution_count": 57,
   "metadata": {},
   "outputs": [
    {
     "data": {
      "text/plain": [
       "2217.550504139359"
      ]
     },
     "execution_count": 57,
     "metadata": {},
     "output_type": "execute_result"
    }
   ],
   "source": [
    "clus_1.star_systems['systemMass'].sum()"
   ]
  },
  {
   "cell_type": "code",
   "execution_count": 58,
   "metadata": {},
   "outputs": [
    {
     "data": {
      "text/plain": [
       "1999.590128899988"
      ]
     },
     "execution_count": 58,
     "metadata": {},
     "output_type": "execute_result"
    }
   ],
   "source": [
    "clus_2.star_systems['systemMass'].sum()"
   ]
  },
  {
   "cell_type": "code",
   "execution_count": 59,
   "metadata": {},
   "outputs": [
    {
     "data": {
      "text/plain": [
       "11"
      ]
     },
     "execution_count": 59,
     "metadata": {},
     "output_type": "execute_result"
    }
   ],
   "source": [
    "len(np.where(clus_1.star_systems['merged'])[0])"
   ]
  },
  {
   "cell_type": "markdown",
   "metadata": {},
   "source": [
    "What systems do all of these companions correspond to?"
   ]
  },
  {
   "cell_type": "code",
   "execution_count": 60,
   "metadata": {},
   "outputs": [
    {
     "data": {
      "text/html": [
       "<i>Table length=182</i>\n",
       "<table id=\"table140575125677672\" class=\"table-striped table-bordered table-condensed\">\n",
       "<thead><tr><th>log_a</th><th>system_idx</th></tr></thead>\n",
       "<thead><tr><th>float64</th><th>int64</th></tr></thead>\n",
       "<tr><td>-0.8184116097655425</td><td>0</td></tr>\n",
       "<tr><td>2.622807894383729</td><td>0</td></tr>\n",
       "<tr><td>1.0485573327481452</td><td>0</td></tr>\n",
       "<tr><td>0.2814184928413217</td><td>1</td></tr>\n",
       "<tr><td>-1.3030399395042436</td><td>2</td></tr>\n",
       "<tr><td>1.9103241498732522</td><td>2</td></tr>\n",
       "<tr><td>1.068058326263086</td><td>3</td></tr>\n",
       "<tr><td>0.6562953080407514</td><td>4</td></tr>\n",
       "<tr><td>1.2752310875339294</td><td>5</td></tr>\n",
       "<tr><td>-0.4288033458899938</td><td>6</td></tr>\n",
       "<tr><td>...</td><td>...</td></tr>\n",
       "<tr><td>-0.11776546044239455</td><td>149</td></tr>\n",
       "<tr><td>-0.835322294826975</td><td>150</td></tr>\n",
       "<tr><td>1.0496660096895263</td><td>151</td></tr>\n",
       "<tr><td>1.1035790787146038</td><td>152</td></tr>\n",
       "<tr><td>1.5345514490387313</td><td>153</td></tr>\n",
       "<tr><td>0.8085456859638613</td><td>154</td></tr>\n",
       "<tr><td>1.397861965009638</td><td>155</td></tr>\n",
       "<tr><td>1.315017489549411</td><td>156</td></tr>\n",
       "<tr><td>0.5997848004311672</td><td>157</td></tr>\n",
       "<tr><td>1.5182112628496731</td><td>158</td></tr>\n",
       "</table>"
      ],
      "text/plain": [
       "<Table length=182>\n",
       "       log_a         system_idx\n",
       "      float64          int64   \n",
       "-------------------- ----------\n",
       " -0.8184116097655425          0\n",
       "   2.622807894383729          0\n",
       "  1.0485573327481452          0\n",
       "  0.2814184928413217          1\n",
       " -1.3030399395042436          2\n",
       "  1.9103241498732522          2\n",
       "   1.068058326263086          3\n",
       "  0.6562953080407514          4\n",
       "  1.2752310875339294          5\n",
       " -0.4288033458899938          6\n",
       "                 ...        ...\n",
       "-0.11776546044239455        149\n",
       "  -0.835322294826975        150\n",
       "  1.0496660096895263        151\n",
       "  1.1035790787146038        152\n",
       "  1.5345514490387313        153\n",
       "  0.8085456859638613        154\n",
       "   1.397861965009638        155\n",
       "   1.315017489549411        156\n",
       "  0.5997848004311672        157\n",
       "  1.5182112628496731        158"
      ]
     },
     "execution_count": 60,
     "metadata": {},
     "output_type": "execute_result"
    }
   ],
   "source": [
    "clus_1.companions[['system_idx']]"
   ]
  }
 ],
 "metadata": {
  "kernelspec": {
   "display_name": "astroconda",
   "language": "python",
   "name": "astroconda"
  },
  "language_info": {
   "codemirror_mode": {
    "name": "ipython",
    "version": 3
   },
   "file_extension": ".py",
   "mimetype": "text/x-python",
   "name": "python",
   "nbconvert_exporter": "python",
   "pygments_lexer": "ipython3",
   "version": "3.7.3"
  }
 },
 "nbformat": 4,
 "nbformat_minor": 2
}
