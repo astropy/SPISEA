{
 "cells": [
  {
   "cell_type": "markdown",
   "metadata": {},
   "source": [
    "## Testing the BPASS isochrone at $10^{8.2}$ years age and Comparing With Parsec (Solar Metallicity)\n",
    "In this BPASS isochrone and cluster plot, I go over the BPASS isochrone for $10^{8.2}$ years age, solar metallicity, AKs=0.0, and distance of 100 parsecs from Earth. From the isochrone and cluster, we discuss several plots such as the log_g frequency distribution of the isochrone, the color magnitude diagram ($B-V$ vs $M_V$), and the mass luminosity relationship of the cluster. The BPASS isochrone is compared to a Parsec isochrone in this notebook."
   ]
  },
  {
   "cell_type": "markdown",
   "metadata": {},
   "source": [
    "## Note: This notebook can also be used for demonstration of how the new Isochrone_Binary and Binary_Cluster can be used"
   ]
  },
  {
   "cell_type": "code",
   "execution_count": 1,
   "metadata": {},
   "outputs": [
    {
     "name": "stderr",
     "output_type": "stream",
     "text": [
      "/opt/anaconda3/envs/astroconda/lib/python3.7/site-packages/pysynphot/locations.py:345: UserWarning: Extinction files not found in /g/lu/models/cdbs/extinction\n",
      "  warnings.warn('Extinction files not found in %s' % (extdir, ))\n",
      "/opt/anaconda3/envs/astroconda/lib/python3.7/site-packages/pysynphot/refs.py:125: UserWarning: No thermal tables found, no thermal calculations can be performed. No files found for /g/lu/models/cdbs/mtab/*_tmt.fits\n",
      "  'no thermal calculations can be performed. ' + str(e))\n",
      "/opt/anaconda3/envs/astroconda/lib/python3.7/site-packages/astropy/units/quantity.py:479: RuntimeWarning: invalid value encountered in true_divide\n",
      "  result = super().__array_ufunc__(function, method, *arrays, **kwargs)\n",
      "/u/ryotainagaki/Desktop/PyPopStar/spisea/evolution.py:1807: RuntimeWarning: overflow encountered in power\n",
      "  (1 / cs.au) * un.m)\n",
      "/opt/anaconda3/envs/astroconda/lib/python3.7/site-packages/astropy/units/quantity.py:479: RuntimeWarning: divide by zero encountered in true_divide\n",
      "  result = super().__array_ufunc__(function, method, *arrays, **kwargs)\n"
     ]
    },
    {
     "name": "stdout",
     "output_type": "stream",
     "text": [
      "[]\n",
      "[]\n",
      "Changing to T= 50000 for T= 52330 logg=8.47\n",
      "Changing to logg=5.00 for T= 52330 logg=8.47\n",
      "Changing to logg=5.00 for T= 44758 logg=8.49\n",
      "Changing to logg=5.00 for T= 36146 logg=8.54\n",
      "Changing to logg=5.00 for T= 38774 logg=8.52\n",
      "Changing to logg=5.00 for T= 38361 logg=8.50\n",
      "Changing to T= 50000 for T= 73161 logg=8.45\n",
      "Changing to logg=5.00 for T= 73161 logg=8.45\n",
      "Changing to logg=5.00 for T= 37966 logg=5.70\n",
      "Changing to logg=5.00 for T= 39842 logg=5.51\n",
      "Changing to logg=5.00 for T= 32888 logg=5.68\n",
      "Changing to logg=5.00 for T= 45669 logg=8.52\n",
      "Changing to logg=5.00 for T= 35701 logg=8.52\n",
      "Changing to logg=5.00 for T= 37547 logg=5.70\n",
      "Changing to logg=5.00 for T= 45668 logg=8.52\n",
      "Changing to logg=5.00 for T= 38750 logg=8.52\n",
      "Changing to logg=5.00 for T= 38750 logg=8.52\n",
      "Changing to logg=5.00 for T= 42302 logg=8.53\n",
      "Changing to logg=5.00 for T= 38974 logg=5.38\n",
      "Changing to logg=5.00 for T= 38750 logg=8.52\n",
      "Changing to logg=5.00 for T= 38750 logg=8.52\n",
      "Changing to logg=5.00 for T= 38750 logg=8.52\n",
      "Changing to logg=5.00 for T= 35701 logg=8.52\n",
      "Changing to logg=5.00 for T= 39110 logg=5.45\n",
      "Changing to logg=5.00 for T= 38030 logg=5.34\n",
      "Changing to logg=5.00 for T= 35710 logg=8.52\n",
      "Changing to logg=5.00 for T= 39081 logg=5.47\n",
      "Changing to logg=5.00 for T= 38750 logg=8.52\n",
      "Changing to logg=5.00 for T= 38681 logg=5.49\n",
      "Changing to logg=5.00 for T= 39333 logg=5.52\n",
      "Changing to logg=5.00 for T= 37796 logg=5.52\n",
      "Changing to logg=5.00 for T= 39001 logg=5.46\n",
      "Changing to logg=5.00 for T= 38750 logg=8.52\n",
      "Changing to logg=5.00 for T= 39098 logg=5.41\n",
      "Changing to logg=5.00 for T= 39018 logg=5.53\n",
      "Changing to logg=5.00 for T= 45668 logg=8.52\n",
      "Changing to logg=5.00 for T= 34722 logg=5.55\n",
      "Changing to logg=5.00 for T= 38750 logg=8.52\n",
      "Changing to logg=5.00 for T= 38750 logg=8.52\n",
      "Changing to logg=5.00 for T= 37968 logg=5.42\n",
      "Changing to logg=5.00 for T= 39042 logg=5.41\n",
      "Changing to logg=5.00 for T= 39090 logg=5.47\n",
      "Changing to logg=5.00 for T= 47516 logg=9.02\n",
      "Changing to logg=5.00 for T= 38778 logg=5.38\n",
      "Changing to logg=5.00 for T= 43455 logg=8.58\n",
      "Changing to logg=5.00 for T= 38810 logg=5.36\n",
      "Changing to logg=5.00 for T= 38750 logg=8.52\n",
      "Changing to logg=5.00 for T= 32931 logg=5.73\n",
      "Changing to logg=5.00 for T= 38750 logg=8.52\n",
      "Changing to logg=5.00 for T= 38750 logg=8.52\n",
      "Changing to logg=5.00 for T= 38008 logg=5.41\n",
      "Changing to logg=5.00 for T= 42300 logg=8.53\n",
      "Changing to logg=5.00 for T= 38543 logg=5.67\n",
      "Changing to logg=5.00 for T= 35665 logg=8.52\n",
      "Changing to logg=5.00 for T= 38216 logg=5.28\n",
      "Changing to logg=5.00 for T= 35040 logg=8.49\n",
      "Changing to logg=5.00 for T= 38912 logg=5.40\n",
      "Changing to logg=5.00 for T= 42300 logg=8.53\n",
      "Changing to logg=5.00 for T= 42302 logg=8.53\n",
      "Changing to logg=5.00 for T= 38750 logg=8.52\n",
      "Changing to logg=5.00 for T= 35759 logg=5.48\n",
      "Changing to logg=5.00 for T= 35776 logg=8.52\n",
      "Changing to logg=5.00 for T= 38750 logg=8.52\n",
      "Changing to logg=5.00 for T= 43455 logg=8.58\n",
      "Changing to logg=5.00 for T= 37645 logg=8.47\n",
      "Changing to logg=5.00 for T= 37474 logg=5.67\n",
      "Changing to logg=5.00 for T= 38750 logg=8.52\n",
      "Changing to logg=5.00 for T= 42302 logg=8.53\n",
      "Changing to logg=5.00 for T= 38938 logg=5.41\n",
      "Changing to logg=5.00 for T= 42302 logg=8.53\n",
      "Changing to logg=5.00 for T= 38864 logg=5.34\n",
      "Changing to logg=5.00 for T= 38164 logg=5.31\n",
      "Changing to logg=5.00 for T= 38750 logg=8.52\n",
      "Changing to logg=5.00 for T= 39126 logg=5.42\n",
      "Changing to logg=5.00 for T= 38750 logg=8.52\n",
      "Changing to logg=5.00 for T= 45739 logg=8.21\n",
      "Changing to logg=5.00 for T= 42302 logg=8.53\n",
      "Changing to logg=5.00 for T= 35706 logg=8.52\n",
      "Changing to logg=5.00 for T= 38268 logg=5.57\n",
      "Changing to logg=5.00 for T= 38750 logg=8.52\n",
      "Changing to logg=5.00 for T= 42300 logg=8.53\n",
      "Changing to logg=5.00 for T= 35714 logg=8.52\n",
      "Changing to logg=5.00 for T= 38750 logg=8.52\n",
      "Changing to logg=5.00 for T= 35715 logg=8.52\n",
      "Changing to logg=4.50 for T= 39634 logg=4.15\n",
      "Changing to logg=5.00 for T= 40536 logg=5.52\n",
      "Changing to logg=5.00 for T= 34113 logg=5.11\n",
      "Changing to logg=5.00 for T= 38750 logg=8.52\n",
      "Changing to logg=5.00 for T= 40751 logg=8.18\n",
      "Changing to logg=5.00 for T= 42300 logg=8.53\n",
      "Changing to logg=5.00 for T= 43455 logg=8.58\n",
      "Changing to logg=5.00 for T= 38868 logg=5.45\n",
      "Changing to logg=5.00 for T= 35519 logg=8.51\n",
      "Changing to logg=5.00 for T= 39136 logg=5.47\n",
      "Changing to logg=5.00 for T= 39036 logg=5.38\n",
      "Changing to logg=5.00 for T= 38750 logg=8.52\n",
      "Changing to logg=5.00 for T= 38750 logg=8.52\n",
      "Changing to logg=5.00 for T= 33207 logg=5.01\n",
      "Changing to logg=5.00 for T= 42302 logg=8.53\n",
      "Changing to logg=5.00 for T= 38863 logg=5.61\n",
      "Changing to logg=5.00 for T= 38750 logg=8.52\n",
      "Changing to logg=5.00 for T= 45954 logg=8.68\n",
      "Changing to logg=5.00 for T= 45668 logg=8.52\n",
      "Changing to logg=5.00 for T= 38886 logg=5.50\n",
      "Changing to logg=5.00 for T= 39074 logg=5.38\n",
      "Changing to logg=5.00 for T= 42300 logg=8.53\n",
      "Changing to logg=5.00 for T= 38499 logg=5.32\n",
      "Changing to logg=5.00 for T= 42302 logg=8.53\n",
      "Changing to logg=5.00 for T= 39105 logg=5.40\n",
      "Changing to logg=5.00 for T= 38901 logg=5.40\n",
      "Changing to logg=5.00 for T= 38260 logg=5.41\n",
      "Changing to logg=5.00 for T= 42302 logg=8.53\n",
      "Changing to logg=5.00 for T= 38820 logg=5.38\n",
      "Changing to logg=5.00 for T= 39086 logg=5.37\n",
      "Changing to logg=5.00 for T= 45668 logg=8.52\n",
      "Changing to logg=5.00 for T= 38750 logg=8.52\n",
      "Changing to logg=5.00 for T= 38750 logg=8.52\n",
      "Changing to logg=5.00 for T= 42302 logg=8.53\n",
      "Changing to logg=5.00 for T= 38750 logg=8.52\n",
      "Changing to logg=5.00 for T= 38750 logg=8.52\n",
      "Changing to logg=5.00 for T= 37638 logg=5.66\n",
      "Changing to logg=5.00 for T= 42302 logg=8.53\n",
      "Changing to logg=5.00 for T= 45669 logg=8.52\n",
      "Changing to logg=5.00 for T= 35706 logg=5.17\n",
      "Changing to logg=5.00 for T= 41390 logg=5.50\n",
      "Changing to logg=5.00 for T= 39027 logg=5.57\n",
      "Changing to logg=5.00 for T= 40930 logg=5.50\n",
      "Changing to logg=5.00 for T= 31378 logg=8.25\n",
      "Changing to logg=5.00 for T= 35709 logg=8.52\n",
      "Changing to logg=5.00 for T= 39059 logg=5.38\n",
      "Changing to T= 50000 for T= 52469 logg=8.18\n",
      "Changing to logg=5.00 for T= 52469 logg=8.18\n",
      "Changing to logg=5.00 for T= 39097 logg=5.40\n",
      "Changing to logg=5.00 for T= 40327 logg=8.45\n",
      "Changing to logg=5.00 for T= 45668 logg=8.52\n",
      "Changing to logg=5.00 for T= 43455 logg=8.58\n",
      "Changing to logg=5.00 for T= 38866 logg=5.46\n",
      "Changing to logg=5.00 for T= 45668 logg=8.52\n",
      "Changing to logg=5.00 for T= 38750 logg=8.52\n",
      "Changing to logg=5.00 for T= 33157 logg=5.77\n",
      "Changing to logg=5.00 for T= 38750 logg=8.52\n",
      "Changing to logg=5.00 for T= 37690 logg=5.71\n",
      "Changing to logg=5.00 for T= 38205 logg=5.40\n",
      "Changing to logg=5.00 for T= 39156 logg=5.49\n",
      "Changing to logg=5.00 for T= 45669 logg=8.52\n",
      "Changing to logg=5.00 for T= 35714 logg=8.52\n",
      "Changing to logg=5.00 for T= 35722 logg=8.52\n",
      "Changing to logg=5.00 for T= 37950 logg=5.39\n",
      "Changing to logg=5.00 for T= 37640 logg=8.47\n",
      "Changing to logg=5.00 for T= 35929 logg=8.18\n",
      "Changing to logg=5.00 for T= 39474 logg=5.51\n",
      "Changing to logg=5.00 for T= 38750 logg=8.52\n",
      "Changing to logg=5.00 for T= 38750 logg=8.52\n",
      "Changing to logg=5.00 for T= 38750 logg=8.52\n",
      "Changing to logg=5.00 for T= 45669 logg=8.52\n",
      "Changing to logg=5.00 for T= 38945 logg=5.49\n",
      "Changing to logg=5.00 for T= 42302 logg=8.53\n",
      "Changing to logg=5.00 for T= 43455 logg=8.58\n",
      "Changing to logg=5.00 for T= 45668 logg=8.52\n",
      "Changing to logg=5.00 for T= 38750 logg=8.52\n",
      "Changing to logg=5.00 for T= 45668 logg=8.52\n",
      "Changing to logg=5.00 for T= 38750 logg=8.52\n",
      "Changing to logg=5.00 for T= 45668 logg=8.52\n",
      "Changing to logg=5.00 for T= 34757 logg=5.54\n",
      "Changing to logg=5.00 for T= 35710 logg=8.52\n",
      "Changing to logg=5.00 for T= 33652 logg=5.61\n",
      "Changing to logg=5.00 for T= 38750 logg=8.52\n",
      "Changing to logg=5.00 for T= 38750 logg=8.52\n",
      "Changing to logg=5.00 for T= 35715 logg=8.52\n",
      "Changing to logg=5.00 for T= 47227 logg=8.14\n",
      "Changing to logg=5.00 for T= 38030 logg=5.41\n",
      "Changing to logg=5.00 for T= 38796 logg=5.38\n",
      "Changing to logg=5.00 for T= 38530 logg=5.55\n",
      "Changing to logg=5.00 for T= 38750 logg=8.52\n",
      "Changing to logg=5.00 for T= 38942 logg=5.43\n",
      "Changing to logg=5.00 for T= 45668 logg=8.52\n",
      "Changing to logg=5.00 for T= 45668 logg=8.52\n",
      "Changing to logg=5.00 for T= 45668 logg=8.52\n",
      "Changing to logg=5.00 for T= 38750 logg=8.52\n",
      "Changing to logg=5.00 for T= 34986 logg=5.58\n",
      "Changing to logg=5.00 for T= 33657 logg=5.67\n",
      "Changing to logg=5.00 for T= 38750 logg=8.52\n",
      "Changing to logg=5.00 for T= 42302 logg=8.53\n",
      "Changing to logg=5.00 for T= 45669 logg=8.52\n",
      "Changing to logg=5.00 for T= 39010 logg=5.57\n",
      "Changing to logg=5.00 for T= 38750 logg=8.52\n",
      "Changing to logg=5.00 for T= 42302 logg=8.53\n",
      "Changing to logg=5.00 for T= 38062 logg=5.44\n",
      "Changing to logg=5.00 for T= 35708 logg=8.52\n",
      "Changing to logg=5.00 for T= 38750 logg=8.52\n",
      "Changing to logg=5.00 for T= 38751 logg=8.52\n",
      "Changing to logg=5.00 for T= 38750 logg=8.52\n",
      "Changing to logg=5.00 for T= 45668 logg=8.52\n",
      "Changing to logg=5.00 for T= 38924 logg=5.38\n",
      "Changing to logg=5.00 for T= 38750 logg=8.52\n",
      "Changing to logg=5.00 for T= 42302 logg=8.53\n",
      "Changing to T= 50000 for T= 55186 logg=8.12\n",
      "Changing to logg=5.00 for T= 55186 logg=8.12\n",
      "Changing to logg=5.00 for T= 38750 logg=8.52\n",
      "Changing to logg=5.00 for T= 45668 logg=8.52\n",
      "Changing to logg=5.00 for T= 41051 logg=8.91\n",
      "Changing to logg=5.00 for T= 38968 logg=5.47\n",
      "Changing to logg=5.00 for T= 38751 logg=8.52\n",
      "Changing to logg=5.00 for T= 35722 logg=8.52\n",
      "Changing to logg=5.00 for T= 34428 logg=5.62\n",
      "Changing to logg=5.00 for T= 42302 logg=8.53\n",
      "Changing to logg=5.00 for T= 37422 logg=5.67\n",
      "Changing to logg=5.00 for T= 34980 logg=5.56\n",
      "Changing to logg=5.00 for T= 34191 logg=8.16\n",
      "Changing to logg=5.00 for T= 45668 logg=8.52\n",
      "Changing to logg=5.00 for T= 37820 logg=5.74\n",
      "Changing to logg=5.00 for T= 38913 logg=5.59\n",
      "Changing to logg=5.00 for T= 38797 logg=5.34\n",
      "Changing to logg=5.00 for T= 35649 logg=8.52\n",
      "Changing to logg=5.00 for T= 38750 logg=8.52\n",
      "Changing to logg=5.00 for T= 35392 logg=8.22\n",
      "Changing to logg=5.00 for T= 35709 logg=8.52\n",
      "Changing to logg=5.00 for T= 37225 logg=5.46\n",
      "Changing to logg=5.00 for T= 38747 logg=5.38\n",
      "Changing to logg=5.00 for T= 42302 logg=8.53\n",
      "Changing to logg=5.00 for T= 39121 logg=5.40\n",
      "Changing to logg=5.00 for T= 45668 logg=8.52\n",
      "Changing to logg=5.00 for T= 37138 logg=5.69\n",
      "Changing to logg=5.00 for T= 35041 logg=8.49\n",
      "Changing to logg=5.00 for T= 35098 logg=8.49\n",
      "Changing to logg=5.00 for T= 38377 logg=5.39\n",
      "Changing to logg=5.00 for T= 39010 logg=5.64\n",
      "Changing to logg=5.00 for T= 39290 logg=5.53\n",
      "Changing to logg=5.00 for T= 37889 logg=5.54\n",
      "Changing to logg=5.00 for T= 35040 logg=8.49\n",
      "Changing to logg=5.00 for T= 35040 logg=8.49\n",
      "Changing to logg=5.00 for T= 35040 logg=8.49\n",
      "Changing to logg=0.00 for T=  3317 logg=-0.19\n",
      "Changing to logg=5.00 for T= 34340 logg=5.63\n",
      "Changing to logg=5.00 for T= 35040 logg=8.49\n",
      "Changing to logg=5.00 for T= 35040 logg=8.49\n",
      "Changing to logg=5.00 for T= 39098 logg=5.57\n",
      "Changing to logg=0.00 for T=  3317 logg=-0.19\n",
      "Changing to logg=5.00 for T= 44961 logg=8.20\n",
      "Changing to logg=5.00 for T= 37700 logg=5.76\n",
      "Changing to logg=5.00 for T= 35041 logg=8.49\n",
      "Changing to T= 50000 for T= 80369 logg=8.32\n",
      "Changing to logg=5.00 for T= 80369 logg=8.32\n",
      "Changing to T= 50000 for T=196662 logg=7.28\n",
      "Changing to logg=5.00 for T=196662 logg=7.28\n",
      "Changing to logg=5.00 for T= 39296 logg=5.53\n",
      "Changing to logg=5.00 for T= 33848 logg=5.68\n",
      "Changing to logg=5.00 for T= 42994 logg=5.57\n",
      "Changing to logg=5.00 for T= 37933 logg=5.39\n",
      "Changing to logg=5.00 for T= 34437 logg=5.46\n",
      "Changing to logg=5.00 for T= 35040 logg=8.49\n",
      "Changing to logg=5.00 for T= 42289 logg=5.55\n",
      "Changing to logg=5.00 for T= 37723 logg=5.77\n",
      "Changing to logg=5.00 for T= 35040 logg=8.49\n",
      "Changing to logg=5.00 for T= 31631 logg=5.78\n",
      "Changing to logg=5.00 for T= 35046 logg=8.49\n",
      "Changing to logg=5.00 for T= 35040 logg=8.49\n",
      "Changing to logg=5.00 for T= 35040 logg=8.49\n",
      "Changing to logg=5.00 for T= 35040 logg=8.49\n",
      "Changing to logg=5.00 for T= 35040 logg=8.49\n",
      "Changing to logg=5.00 for T= 39033 logg=5.45\n",
      "Changing to logg=5.00 for T= 35123 logg=8.49\n",
      "Changing to logg=5.00 for T= 35233 logg=8.21\n",
      "Changing to logg=5.00 for T= 39162 logg=5.48\n",
      "Changing to T= 50000 for T= 91531 logg=8.30\n",
      "Changing to logg=5.00 for T= 91531 logg=8.30\n",
      "Changing to logg=5.00 for T= 35040 logg=8.49\n",
      "Changing to logg=5.00 for T= 35040 logg=8.49\n",
      "Changing to logg=5.00 for T= 35040 logg=8.49\n",
      "Changing to logg=5.00 for T= 44686 logg=8.19\n",
      "Changing to T= 50000 for T=172024 logg=7.24\n",
      "Changing to logg=5.00 for T=172024 logg=7.24\n",
      "Changing to logg=5.00 for T= 35040 logg=8.49\n",
      "Changing to logg=5.00 for T= 38002 logg=5.45\n",
      "Changing to logg=5.00 for T= 38718 logg=5.32\n",
      "Changing to logg=5.00 for T= 35041 logg=8.49\n",
      "Changing to logg=5.00 for T= 35040 logg=8.49\n",
      "Changing to logg=5.00 for T= 37054 logg=5.15\n",
      "Changing to logg=5.00 for T= 34271 logg=5.61\n",
      "Changing to logg=5.00 for T= 35040 logg=8.49\n",
      "Changing to logg=5.00 for T= 35040 logg=8.49\n",
      "Changing to logg=5.00 for T= 35040 logg=8.49\n",
      "Changing to logg=5.00 for T= 31499 logg=8.21\n",
      "Changing to logg=5.00 for T= 39297 logg=5.50\n",
      "Changing to logg=5.00 for T= 35040 logg=8.49\n",
      "Changing to logg=5.00 for T= 35040 logg=8.49\n",
      "Changing to logg=5.00 for T= 39015 logg=5.63\n",
      "Changing to logg=5.00 for T= 35041 logg=8.49\n",
      "Changing to logg=5.00 for T= 39282 logg=5.39\n",
      "Changing to T= 50000 for T=122659 logg=7.98\n",
      "Changing to logg=5.00 for T=122659 logg=7.98\n",
      "Changing to logg=5.00 for T= 39152 logg=5.49\n",
      "Changing to logg=5.00 for T= 35040 logg=8.49\n",
      "Changing to logg=5.00 for T= 38506 logg=5.66\n",
      "Changing to logg=5.00 for T= 39300 logg=5.53\n",
      "Changing to logg=5.00 for T= 35040 logg=8.49\n",
      "Changing to T= 50000 for T= 53154 logg=8.20\n",
      "Changing to logg=5.00 for T= 53154 logg=8.20\n",
      "Changing to T= 50000 for T= 90298 logg=8.31\n",
      "Changing to logg=5.00 for T= 90298 logg=8.31\n",
      "Changing to logg=5.00 for T= 35044 logg=8.49\n",
      "Changing to logg=5.00 for T= 34450 logg=5.60\n",
      "Changing to logg=5.00 for T= 35040 logg=8.49\n",
      "Changing to logg=5.00 for T= 35040 logg=8.49\n",
      "Changing to logg=5.00 for T= 35047 logg=8.49\n",
      "Changing to logg=5.00 for T= 36175 logg=5.49\n",
      "Changing to logg=5.00 for T= 39339 logg=5.50\n",
      "Changing to logg=5.00 for T= 35040 logg=8.49\n",
      "Changing to logg=5.00 for T= 35065 logg=8.49\n",
      "Changing to logg=5.00 for T= 35040 logg=8.49\n",
      "Changing to logg=5.00 for T= 35040 logg=8.49\n",
      "Changing to logg=5.00 for T= 37969 logg=5.40\n",
      "Changing to logg=5.00 for T= 38323 logg=5.43\n",
      "Changing to logg=5.00 for T= 38497 logg=5.67\n",
      "Changing to logg=5.00 for T= 35161 logg=8.49\n",
      "Changing to logg=5.00 for T= 37720 logg=5.76\n",
      "Changing to logg=5.00 for T= 35042 logg=8.49\n",
      "Changing to logg=5.00 for T= 39061 logg=5.47\n",
      "Changing to logg=5.00 for T= 39115 logg=5.45\n",
      "Changing to logg=5.00 for T= 27868 logg=6.18\n",
      "Changing to T= 50000 for T=197624 logg=7.27\n",
      "Changing to logg=5.00 for T=197624 logg=7.27\n",
      "Changing to logg=5.00 for T= 39260 logg=5.51\n",
      "Changing to logg=5.00 for T= 35040 logg=8.49\n",
      "Changing to T= 50000 for T=170279 logg=7.23\n",
      "Changing to logg=5.00 for T=170279 logg=7.23\n",
      "Changing to logg=5.00 for T= 39090 logg=5.45\n",
      "Changing to logg=5.00 for T= 35040 logg=8.49\n",
      "Changing to logg=5.00 for T= 35040 logg=8.49\n",
      "Changing to logg=5.00 for T= 35040 logg=8.49\n",
      "Changing to logg=5.00 for T= 35040 logg=8.49\n",
      "Changing to logg=5.00 for T= 35040 logg=8.49\n",
      "Changing to logg=0.00 for T=  3294 logg=-0.23\n",
      "Changing to logg=5.00 for T= 38348 logg=5.37\n",
      "Changing to logg=5.00 for T= 35040 logg=8.49\n",
      "Changing to logg=0.00 for T=  3317 logg=-0.19\n",
      "Changing to logg=5.00 for T= 37267 logg=5.48\n",
      "Changing to T= 50000 for T= 81089 logg=8.14\n",
      "Changing to logg=5.00 for T= 81089 logg=8.14\n",
      "Changing to logg=5.00 for T= 36208 logg=8.26\n",
      "Changing to logg=5.00 for T= 35040 logg=8.49\n",
      "Changing to logg=5.00 for T= 39215 logg=5.43\n",
      "Changing to logg=5.00 for T= 35040 logg=8.49\n",
      "Changing to logg=5.00 for T= 38042 logg=5.48\n",
      "Changing to logg=5.00 for T= 39003 logg=5.46\n",
      "Changing to logg=0.00 for T=  3317 logg=-0.19\n",
      "Changing to logg=5.00 for T= 35040 logg=8.49\n",
      "Changing to logg=5.00 for T= 39019 logg=5.46\n",
      "Changing to T= 50000 for T= 85704 logg=8.31\n",
      "Changing to logg=5.00 for T= 85704 logg=8.31\n",
      "Changing to logg=5.00 for T= 35040 logg=8.49\n",
      "Changing to logg=5.00 for T= 38521 logg=5.66\n",
      "Changing to logg=5.00 for T= 35040 logg=8.49\n",
      "Changing to logg=5.00 for T= 27144 logg=6.25\n",
      "Changing to T= 50000 for T= 52576 logg=8.18\n",
      "Changing to logg=5.00 for T= 52576 logg=8.18\n",
      "Changing to logg=5.00 for T= 35040 logg=8.49\n",
      "Changing to logg=5.00 for T= 39184 logg=5.47\n",
      "Changing to logg=0.00 for T=  3295 logg=-0.23\n",
      "Making photometry for isochrone: log(t) = 8.20  AKs = 0.00  dist = 100\n",
      "     Starting at:  2021-08-07 20:08:09.605235   Usually takes ~5 minutes\n",
      "Starting filter: ubv,U   Elapsed time: 0.01 seconds\n",
      "Starting synthetic photometry\n",
      "M =   1.240 Msun  T =  6225 K  m_ubv_U = 9.54\n",
      "M =   5.500 Msun  T = 27287 K  m_ubv_U = 14.77\n",
      "M =   4.500 Msun  T =  4524 K  m_ubv_U = 5.30\n",
      "M =   2.700 Msun  T = 10526 K  m_ubv_U = 5.49\n",
      "M =   1.259 Msun  T =   nan K  m_ubv_U =  nan\n",
      "M =   6.000 Msun  T = 24066 K  m_ubv_U = 14.97\n",
      "M =   2.500 Msun  T = 10121 K  m_ubv_U = 5.86\n",
      "M =   5.000 Msun  T = 38750 K  m_ubv_U = 13.92\n",
      "M =   3.200 Msun  T = 11657 K  m_ubv_U = 4.73\n",
      "M =   5.012 Msun  T =   nan K  m_ubv_U =  nan\n",
      "M =   2.700 Msun  T = 12431 K  m_ubv_U = 3.17\n",
      "M =   3.000 Msun  T = 11265 K  m_ubv_U = 5.03\n",
      "M =   4.000 Msun  T = 11805 K  m_ubv_U = 3.36\n",
      "M =   6.000 Msun  T = 30830 K  m_ubv_U = 14.86\n",
      "M =   6.000 Msun  T = 27033 K  m_ubv_U = 14.67\n",
      "M =   0.501 Msun  T =   nan K  m_ubv_U =  nan\n",
      "M =   0.631 Msun  T =   nan K  m_ubv_U =  nan\n",
      "M =   1.000 Msun  T =   nan K  m_ubv_U =  nan\n",
      "M =   5.000 Msun  T = 38750 K  m_ubv_U = 13.92\n",
      "M =   3.000 Msun  T = 11287 K  m_ubv_U = 5.01\n",
      "M =   3.200 Msun  T = 45669 K  m_ubv_U = 13.68\n",
      "M =   5.500 Msun  T = 27836 K  m_ubv_U = 14.68\n",
      "M =   4.500 Msun  T =  4524 K  m_ubv_U = 5.30\n",
      "M =   2.500 Msun  T = 10121 K  m_ubv_U = 5.86\n",
      "M =   6.000 Msun  T = 33082 K  m_ubv_U = 14.91\n",
      "M =   2.300 Msun  T = 10194 K  m_ubv_U = 5.81\n",
      "M =   3.700 Msun  T = 11328 K  m_ubv_U = 2.69\n",
      "M =   3.200 Msun  T = 41469 K  m_ubv_U = 15.34\n",
      "M =   1.650 Msun  T =  7676 K  m_ubv_U = 7.82\n",
      "M =   3.600 Msun  T = 13127 K  m_ubv_U = 4.12\n",
      "M =   1.350 Msun  T =  6542 K  m_ubv_U = 8.99\n",
      "M =   4.500 Msun  T =  4534 K  m_ubv_U = 5.26\n",
      "M =   0.600 Msun  T =  3945 K  m_ubv_U = 16.08\n",
      "M =   2.000 Msun  T =  9101 K  m_ubv_U = 6.86\n",
      "M =   4.000 Msun  T = 14082 K  m_ubv_U = 3.75\n",
      "M =   2.240 Msun  T =  9965 K  m_ubv_U = 6.34\n",
      "M =   7.000 Msun  T = 39833 K  m_ubv_U = 15.56\n",
      "M =   0.810 Msun  T =   nan K  m_ubv_U =  nan\n",
      "M =   1.500 Msun  T =  7078 K  m_ubv_U = 8.34\n",
      "M =   0.400 Msun  T =  3660 K  m_ubv_U = 17.59\n",
      "M =   5.400 Msun  T = 12339 K  m_ubv_U = 2.08\n",
      "M =   3.600 Msun  T = 10929 K  m_ubv_U = 4.00\n",
      "M =   4.500 Msun  T = 38506 K  m_ubv_U = 7.11\n",
      "M =   5.500 Msun  T = 26754 K  m_ubv_U = 14.78\n",
      "M =   3.200 Msun  T = 11594 K  m_ubv_U = 4.70\n",
      "M =   0.500 Msun  T =  3758 K  m_ubv_U = 16.92\n",
      "M =   2.700 Msun  T = 11431 K  m_ubv_U = 5.51\n",
      "M =   0.960 Msun  T =   nan K  m_ubv_U =  nan\n",
      "M =   2.200 Msun  T =  9709 K  m_ubv_U = 6.41\n",
      "M =   2.700 Msun  T = 11422 K  m_ubv_U = 5.50\n",
      "M =   0.500 Msun  T =  3758 K  m_ubv_U = 16.92\n",
      "M =   3.600 Msun  T = 13801 K  m_ubv_U = 4.45\n",
      "M =   0.230 Msun  T =   nan K  m_ubv_U =  nan\n",
      "M =   0.370 Msun  T =   nan K  m_ubv_U =  nan\n",
      "M =   1.920 Msun  T =   nan K  m_ubv_U =  nan\n",
      "Starting filter: ubv,V   Elapsed time: 15.72 seconds\n",
      "Starting synthetic photometry\n",
      "M =   1.240 Msun  T =  6225 K  m_ubv_V = 9.01\n",
      "M =   5.500 Msun  T = 27287 K  m_ubv_V = 15.91\n",
      "M =   4.500 Msun  T =  4524 K  m_ubv_V = 2.80\n",
      "M =   2.700 Msun  T = 10526 K  m_ubv_V = 5.66\n",
      "M =   1.259 Msun  T =   nan K  m_ubv_V =  nan\n",
      "M =   6.000 Msun  T = 24066 K  m_ubv_V = 15.99\n",
      "M =   2.500 Msun  T = 10121 K  m_ubv_V = 5.97\n",
      "M =   5.000 Msun  T = 38750 K  m_ubv_V = 15.31\n",
      "M =   3.200 Msun  T = 11657 K  m_ubv_V = 5.08\n",
      "M =   5.012 Msun  T =   nan K  m_ubv_V =  nan\n",
      "M =   2.700 Msun  T = 12431 K  m_ubv_V = 3.66\n",
      "M =   3.000 Msun  T = 11265 K  m_ubv_V = 5.33\n",
      "M =   4.000 Msun  T = 11805 K  m_ubv_V = 3.77\n",
      "M =   6.000 Msun  T = 30830 K  m_ubv_V = 16.10\n",
      "M =   6.000 Msun  T = 27033 K  m_ubv_V = 15.80\n",
      "M =   0.501 Msun  T =   nan K  m_ubv_V =  nan\n",
      "M =   0.631 Msun  T =   nan K  m_ubv_V =  nan\n",
      "M =   1.000 Msun  T =   nan K  m_ubv_V =  nan\n",
      "M =   5.000 Msun  T = 38750 K  m_ubv_V = 15.31\n",
      "M =   3.000 Msun  T = 11287 K  m_ubv_V = 5.31\n",
      "M =   3.200 Msun  T = 45669 K  m_ubv_V = 15.10\n",
      "M =   5.500 Msun  T = 27836 K  m_ubv_V = 15.83\n",
      "M =   4.500 Msun  T =  4524 K  m_ubv_V = 2.80\n",
      "M =   2.500 Msun  T = 10121 K  m_ubv_V = 5.97\n",
      "M =   6.000 Msun  T = 33082 K  m_ubv_V = 16.20\n",
      "M =   2.300 Msun  T = 10194 K  m_ubv_V = 5.92\n",
      "M =   3.700 Msun  T = 11328 K  m_ubv_V = 3.06\n",
      "M =   3.200 Msun  T = 41469 K  m_ubv_V = 16.72\n",
      "M =   1.650 Msun  T =  7676 K  m_ubv_V = 7.56\n",
      "M =   3.600 Msun  T = 13127 K  m_ubv_V = 4.66\n",
      "M =   1.350 Msun  T =  6542 K  m_ubv_V = 8.57\n",
      "M =   4.500 Msun  T =  4534 K  m_ubv_V = 2.77\n",
      "M =   0.600 Msun  T =  3945 K  m_ubv_V = 13.70\n",
      "M =   2.000 Msun  T =  9101 K  m_ubv_V = 6.77\n",
      "M =   4.000 Msun  T = 14082 K  m_ubv_V = 4.38\n",
      "M =   2.240 Msun  T =  9965 K  m_ubv_V = 6.40\n",
      "M =   7.000 Msun  T = 39833 K  m_ubv_V = 16.93\n",
      "M =   0.810 Msun  T =   nan K  m_ubv_V =  nan\n",
      "M =   1.500 Msun  T =  7078 K  m_ubv_V = 8.03\n",
      "M =   0.400 Msun  T =  3660 K  m_ubv_V = 15.20\n",
      "M =   5.400 Msun  T = 12339 K  m_ubv_V = 2.56\n",
      "M =   3.600 Msun  T = 10929 K  m_ubv_V = 4.26\n",
      "M =   4.500 Msun  T = 38506 K  m_ubv_V = 8.50\n",
      "M =   5.500 Msun  T = 26754 K  m_ubv_V = 15.90\n",
      "M =   3.200 Msun  T = 11594 K  m_ubv_V = 5.05\n",
      "M =   0.500 Msun  T =  3758 K  m_ubv_V = 14.53\n",
      "M =   2.700 Msun  T = 11431 K  m_ubv_V = 5.82\n",
      "M =   0.960 Msun  T =   nan K  m_ubv_V =  nan\n",
      "M =   2.200 Msun  T =  9709 K  m_ubv_V = 6.43\n",
      "M =   2.700 Msun  T = 11422 K  m_ubv_V = 5.81\n",
      "M =   0.500 Msun  T =  3758 K  m_ubv_V = 14.53\n",
      "M =   3.600 Msun  T = 13801 K  m_ubv_V = 5.04\n",
      "M =   0.230 Msun  T =   nan K  m_ubv_V =  nan\n",
      "M =   0.370 Msun  T =   nan K  m_ubv_V =  nan\n",
      "M =   1.920 Msun  T =   nan K  m_ubv_V =  nan\n",
      "Starting filter: ubv,B   Elapsed time: 31.32 seconds\n",
      "Starting synthetic photometry\n",
      "M =   1.240 Msun  T =  6225 K  m_ubv_B = 9.57\n",
      "M =   5.500 Msun  T = 27287 K  m_ubv_B = 15.76\n",
      "M =   4.500 Msun  T =  4524 K  m_ubv_B = 4.06\n",
      "M =   2.700 Msun  T = 10526 K  m_ubv_B = 5.61\n",
      "M =   1.259 Msun  T =   nan K  m_ubv_B =  nan\n",
      "M =   6.000 Msun  T = 24066 K  m_ubv_B = 15.89\n",
      "M =   2.500 Msun  T = 10121 K  m_ubv_B = 5.94\n",
      "M =   5.000 Msun  T = 38750 K  m_ubv_B = 15.00\n",
      "M =   3.200 Msun  T = 11657 K  m_ubv_B = 5.00\n",
      "M =   5.012 Msun  T =   nan K  m_ubv_B =  nan\n",
      "M =   2.700 Msun  T = 12431 K  m_ubv_B = 3.55\n",
      "M =   3.000 Msun  T = 11265 K  m_ubv_B = 5.25\n",
      "M =   4.000 Msun  T = 11805 K  m_ubv_B = 3.67\n",
      "M =   6.000 Msun  T = 30830 K  m_ubv_B = 15.91\n",
      "M =   6.000 Msun  T = 27033 K  m_ubv_B = 15.65\n",
      "M =   0.501 Msun  T =   nan K  m_ubv_B =  nan\n",
      "M =   0.631 Msun  T =   nan K  m_ubv_B =  nan\n",
      "M =   1.000 Msun  T =   nan K  m_ubv_B =  nan\n",
      "M =   5.000 Msun  T = 38750 K  m_ubv_B = 15.00\n",
      "M =   3.000 Msun  T = 11287 K  m_ubv_B = 5.23\n",
      "M =   3.200 Msun  T = 45669 K  m_ubv_B = 14.78\n",
      "M =   5.500 Msun  T = 27836 K  m_ubv_B = 15.67\n",
      "M =   4.500 Msun  T =  4524 K  m_ubv_B = 4.06\n",
      "M =   2.500 Msun  T = 10121 K  m_ubv_B = 5.94\n",
      "M =   6.000 Msun  T = 33082 K  m_ubv_B = 15.99\n",
      "M =   2.300 Msun  T = 10194 K  m_ubv_B = 5.89\n",
      "M =   3.700 Msun  T = 11328 K  m_ubv_B = 2.97\n",
      "M =   3.200 Msun  T = 41469 K  m_ubv_B = 16.47\n",
      "M =   1.650 Msun  T =  7676 K  m_ubv_B = 7.81\n",
      "M =   3.600 Msun  T = 13127 K  m_ubv_B = 4.54\n",
      "M =   1.350 Msun  T =  6542 K  m_ubv_B = 9.04\n",
      "M =   4.500 Msun  T =  4534 K  m_ubv_B = 4.03\n",
      "M =   0.600 Msun  T =  3945 K  m_ubv_B = 15.05\n",
      "M =   2.000 Msun  T =  9101 K  m_ubv_B = 6.83\n",
      "M =   4.000 Msun  T = 14082 K  m_ubv_B = 4.25\n",
      "M =   2.240 Msun  T =  9965 K  m_ubv_B = 6.39\n",
      "M =   7.000 Msun  T = 39833 K  m_ubv_B = 16.68\n",
      "M =   0.810 Msun  T =   nan K  m_ubv_B =  nan\n",
      "M =   1.500 Msun  T =  7078 K  m_ubv_B = 8.39\n",
      "M =   0.400 Msun  T =  3660 K  m_ubv_B = 16.57\n",
      "M =   5.400 Msun  T = 12339 K  m_ubv_B = 2.45\n",
      "M =   3.600 Msun  T = 10929 K  m_ubv_B = 4.19\n",
      "M =   4.500 Msun  T = 38506 K  m_ubv_B = 8.19\n",
      "M =   5.500 Msun  T = 26754 K  m_ubv_B = 15.76\n",
      "M =   3.200 Msun  T = 11594 K  m_ubv_B = 4.96\n",
      "M =   0.500 Msun  T =  3758 K  m_ubv_B = 15.91\n",
      "M =   2.700 Msun  T = 11431 K  m_ubv_B = 5.75\n",
      "M =   0.960 Msun  T =   nan K  m_ubv_B =  nan\n",
      "M =   2.200 Msun  T =  9709 K  m_ubv_B = 6.44\n",
      "M =   2.700 Msun  T = 11422 K  m_ubv_B = 5.73\n",
      "M =   0.500 Msun  T =  3758 K  m_ubv_B = 15.91\n",
      "M =   3.600 Msun  T = 13801 K  m_ubv_B = 4.92\n",
      "M =   0.230 Msun  T =   nan K  m_ubv_B =  nan\n",
      "M =   0.370 Msun  T =   nan K  m_ubv_B =  nan\n",
      "M =   1.920 Msun  T =   nan K  m_ubv_B =  nan\n",
      "Starting filter: ubv,R   Elapsed time: 46.87 seconds\n",
      "Starting synthetic photometry\n",
      "M =   1.240 Msun  T =  6225 K  m_ubv_R = 8.73\n",
      "M =   5.500 Msun  T = 27287 K  m_ubv_R = 16.03\n",
      "M =   4.500 Msun  T =  4524 K  m_ubv_R = 2.23\n",
      "M =   2.700 Msun  T = 10526 K  m_ubv_R = 5.68\n",
      "M =   1.259 Msun  T =   nan K  m_ubv_R =  nan\n",
      "M =   6.000 Msun  T = 24066 K  m_ubv_R = 16.10\n",
      "M =   2.500 Msun  T = 10121 K  m_ubv_R = 5.98\n",
      "M =   5.000 Msun  T = 38750 K  m_ubv_R = 15.44\n",
      "M =   3.200 Msun  T = 11657 K  m_ubv_R = 5.11\n",
      "M =   5.012 Msun  T =   nan K  m_ubv_R =  nan\n",
      "M =   2.700 Msun  T = 12431 K  m_ubv_R = 3.69\n",
      "M =   3.000 Msun  T = 11265 K  m_ubv_R = 5.36\n",
      "M =   4.000 Msun  T = 11805 K  m_ubv_R = 3.80\n",
      "M =   6.000 Msun  T = 30830 K  m_ubv_R = 16.22\n",
      "M =   6.000 Msun  T = 27033 K  m_ubv_R = 15.91\n",
      "M =   0.501 Msun  T =   nan K  m_ubv_R =  nan\n",
      "M =   0.631 Msun  T =   nan K  m_ubv_R =  nan\n",
      "M =   1.000 Msun  T =   nan K  m_ubv_R =  nan\n",
      "M =   5.000 Msun  T = 38750 K  m_ubv_R = 15.44\n",
      "M =   3.000 Msun  T = 11287 K  m_ubv_R = 5.34\n",
      "M =   3.200 Msun  T = 45669 K  m_ubv_R = 15.24\n",
      "M =   5.500 Msun  T = 27836 K  m_ubv_R = 15.95\n",
      "M =   4.500 Msun  T =  4524 K  m_ubv_R = 2.23\n",
      "M =   2.500 Msun  T = 10121 K  m_ubv_R = 5.98\n",
      "M =   6.000 Msun  T = 33082 K  m_ubv_R = 16.33\n",
      "M =   2.300 Msun  T = 10194 K  m_ubv_R = 5.94\n",
      "M =   3.700 Msun  T = 11328 K  m_ubv_R = 3.09\n",
      "M =   3.200 Msun  T = 41469 K  m_ubv_R = 16.85\n",
      "M =   1.650 Msun  T =  7676 K  m_ubv_R = 7.43\n",
      "M =   3.600 Msun  T = 13127 K  m_ubv_R = 4.70\n",
      "M =   1.350 Msun  T =  6542 K  m_ubv_R = 8.32\n",
      "M =   4.500 Msun  T =  4534 K  m_ubv_R = 2.21\n",
      "M =   0.600 Msun  T =  3945 K  m_ubv_R = 12.93\n",
      "M =   2.000 Msun  T =  9101 K  m_ubv_R = 6.75\n",
      "M =   4.000 Msun  T = 14082 K  m_ubv_R = 4.43\n",
      "M =   2.240 Msun  T =  9965 K  m_ubv_R = 6.41\n",
      "M =   7.000 Msun  T = 39833 K  m_ubv_R = 17.05\n",
      "M =   0.810 Msun  T =   nan K  m_ubv_R =  nan\n",
      "M =   1.500 Msun  T =  7078 K  m_ubv_R = 7.84\n",
      "M =   0.400 Msun  T =  3660 K  m_ubv_R = 14.40\n",
      "M =   5.400 Msun  T = 12339 K  m_ubv_R = 2.59\n",
      "M =   3.600 Msun  T = 10929 K  m_ubv_R = 4.28\n",
      "M =   4.500 Msun  T = 38506 K  m_ubv_R = 8.62\n",
      "M =   5.500 Msun  T = 26754 K  m_ubv_R = 16.01\n",
      "M =   3.200 Msun  T = 11594 K  m_ubv_R = 5.08\n",
      "M =   0.500 Msun  T =  3758 K  m_ubv_R = 13.73\n",
      "M =   2.700 Msun  T = 11431 K  m_ubv_R = 5.85\n",
      "M =   0.960 Msun  T =   nan K  m_ubv_R =  nan\n",
      "M =   2.200 Msun  T =  9709 K  m_ubv_R = 6.43\n",
      "M =   2.700 Msun  T = 11422 K  m_ubv_R = 5.84\n",
      "M =   0.500 Msun  T =  3758 K  m_ubv_R = 13.73\n",
      "M =   3.600 Msun  T = 13801 K  m_ubv_R = 5.09\n",
      "M =   0.230 Msun  T =   nan K  m_ubv_R =  nan\n",
      "M =   0.370 Msun  T =   nan K  m_ubv_R =  nan\n",
      "M =   1.920 Msun  T =   nan K  m_ubv_R =  nan\n",
      "Starting filter: ubv,I   Elapsed time: 62.08 seconds\n",
      "Starting synthetic photometry\n",
      "M =   1.240 Msun  T =  6225 K  m_ubv_I = 8.38\n",
      "M =   5.500 Msun  T = 27287 K  m_ubv_I = 16.27\n",
      "M =   4.500 Msun  T =  4524 K  m_ubv_I = 1.52\n",
      "M =   2.700 Msun  T = 10526 K  m_ubv_I = 5.72\n",
      "M =   1.259 Msun  T =   nan K  m_ubv_I =  nan\n",
      "M =   6.000 Msun  T = 24066 K  m_ubv_I = 16.32\n",
      "M =   2.500 Msun  T = 10121 K  m_ubv_I = 6.01\n",
      "M =   5.000 Msun  T = 38750 K  m_ubv_I = 15.71\n",
      "M =   3.200 Msun  T = 11657 K  m_ubv_I = 5.18\n",
      "M =   5.012 Msun  T =   nan K  m_ubv_I =  nan\n",
      "M =   2.700 Msun  T = 12431 K  m_ubv_I = 3.78\n",
      "M =   3.000 Msun  T = 11265 K  m_ubv_I = 5.42\n",
      "M =   4.000 Msun  T = 11805 K  m_ubv_I = 3.87\n",
      "M =   6.000 Msun  T = 30830 K  m_ubv_I = 16.48\n",
      "M =   6.000 Msun  T = 27033 K  m_ubv_I = 16.15\n",
      "M =   0.501 Msun  T =   nan K  m_ubv_I =  nan\n",
      "M =   0.631 Msun  T =   nan K  m_ubv_I =  nan\n",
      "M =   1.000 Msun  T =   nan K  m_ubv_I =  nan\n",
      "M =   5.000 Msun  T = 38750 K  m_ubv_I = 15.71\n",
      "M =   3.000 Msun  T = 11287 K  m_ubv_I = 5.40\n",
      "M =   3.200 Msun  T = 45669 K  m_ubv_I = 15.51\n",
      "M =   5.500 Msun  T = 27836 K  m_ubv_I = 16.19\n",
      "M =   4.500 Msun  T =  4524 K  m_ubv_I = 1.52\n",
      "M =   2.500 Msun  T = 10121 K  m_ubv_I = 6.01\n",
      "M =   6.000 Msun  T = 33082 K  m_ubv_I = 16.59\n",
      "M =   2.300 Msun  T = 10194 K  m_ubv_I = 5.97\n",
      "M =   3.700 Msun  T = 11328 K  m_ubv_I = 3.14\n",
      "M =   3.200 Msun  T = 41469 K  m_ubv_I = 17.13\n",
      "M =   1.650 Msun  T =  7676 K  m_ubv_I = 7.28\n",
      "M =   3.600 Msun  T = 13127 K  m_ubv_I = 4.80\n",
      "M =   1.350 Msun  T =  6542 K  m_ubv_I = 8.02\n",
      "M =   4.500 Msun  T =  4534 K  m_ubv_I = 1.50\n",
      "M =   0.600 Msun  T =  3945 K  m_ubv_I = 11.87\n",
      "M =   2.000 Msun  T =  9101 K  m_ubv_I = 6.73\n",
      "M =   4.000 Msun  T = 14082 K  m_ubv_I = 4.54\n",
      "M =   2.240 Msun  T =  9965 K  m_ubv_I = 6.44\n",
      "M =   7.000 Msun  T = 39833 K  m_ubv_I = 17.33\n",
      "M =   0.810 Msun  T =   nan K  m_ubv_I =  nan\n",
      "M =   1.500 Msun  T =  7078 K  m_ubv_I = 7.62\n",
      "M =   0.400 Msun  T =  3660 K  m_ubv_I = 13.05\n",
      "M =   5.400 Msun  T = 12339 K  m_ubv_I = 2.68\n",
      "M =   3.600 Msun  T = 10929 K  m_ubv_I = 4.33\n",
      "M =   4.500 Msun  T = 38506 K  m_ubv_I = 8.90\n",
      "M =   5.500 Msun  T = 26754 K  m_ubv_I = 16.25\n",
      "M =   3.200 Msun  T = 11594 K  m_ubv_I = 5.15\n",
      "M =   0.500 Msun  T =  3758 K  m_ubv_I = 12.49\n",
      "M =   2.700 Msun  T = 11431 K  m_ubv_I = 5.92\n",
      "M =   0.960 Msun  T =   nan K  m_ubv_I =  nan\n",
      "M =   2.200 Msun  T =  9709 K  m_ubv_I = 6.45\n",
      "M =   2.700 Msun  T = 11422 K  m_ubv_I = 5.90\n",
      "M =   0.500 Msun  T =  3758 K  m_ubv_I = 12.49\n",
      "M =   3.600 Msun  T = 13801 K  m_ubv_I = 5.20\n",
      "M =   0.230 Msun  T =   nan K  m_ubv_I =  nan\n",
      "M =   0.370 Msun  T =   nan K  m_ubv_I =  nan\n",
      "M =   1.920 Msun  T =   nan K  m_ubv_I =  nan\n",
      "      Time taken: 77.03 seconds\n",
      "Isochrone generation took 576.704108 s.\n"
     ]
    }
   ],
   "source": [
    "import spisea\n",
    "from spisea import evolution, synthetic\n",
    "import math\n",
    "# Check if the evolution class works fine\n",
    "iso1 = synthetic.Isochrone_Binary(8.2, 0.0, 100, math.log10(1), mass_sampling=1)"
   ]
  },
  {
   "cell_type": "markdown",
   "metadata": {},
   "source": [
    "Check if all of the phases represented in the isochrone are valid."
   ]
  },
  {
   "cell_type": "code",
   "execution_count": 2,
   "metadata": {},
   "outputs": [
    {
     "data": {
      "text/plain": [
       "True"
      ]
     },
     "execution_count": 2,
     "metadata": {},
     "output_type": "execute_result"
    }
   ],
   "source": [
    "import numpy as np\n",
    "np.all([(x == 5 or x == 101 or x == 102 or x ==103) for\n",
    "        x in iso1.primaries['phase']])"
   ]
  },
  {
   "cell_type": "code",
   "execution_count": 3,
   "metadata": {},
   "outputs": [
    {
     "data": {
      "text/plain": [
       "True"
      ]
     },
     "execution_count": 3,
     "metadata": {},
     "output_type": "execute_result"
    }
   ],
   "source": [
    "np.all([(x == 5 or x == 101  or x == 102 or x == 103) for\n",
    "        x in iso1.singles['phase']])"
   ]
  },
  {
   "cell_type": "code",
   "execution_count": 4,
   "metadata": {},
   "outputs": [
    {
     "data": {
      "text/plain": [
       "True"
      ]
     },
     "execution_count": 4,
     "metadata": {},
     "output_type": "execute_result"
    }
   ],
   "source": [
    "np.all([(x == 5 or x == 101 or x == -99  or x == 102 or x == 103) for\n",
    "        x in iso1.secondaries['phase']])"
   ]
  },
  {
   "cell_type": "markdown",
   "metadata": {},
   "source": [
    "Find the maximum, mean, and median  values of logg (cgs) for primaries and secondaries accounting for NaNs in the columns. (For max we make NaNs the same as - infinity and for median and mean, we do not include them)"
   ]
  },
  {
   "cell_type": "code",
   "execution_count": 5,
   "metadata": {},
   "outputs": [
    {
     "data": {
      "text/plain": [
       "9.294869501162154"
      ]
     },
     "execution_count": 5,
     "metadata": {},
     "output_type": "execute_result"
    }
   ],
   "source": [
    "np.max(iso1.singles['logg'])"
   ]
  },
  {
   "cell_type": "code",
   "execution_count": 6,
   "metadata": {},
   "outputs": [
    {
     "data": {
      "text/plain": [
       "9.288600394549206"
      ]
     },
     "execution_count": 6,
     "metadata": {},
     "output_type": "execute_result"
    }
   ],
   "source": [
    "np.max(np.nan_to_num(iso1.primaries['logg'], -np.inf))"
   ]
  },
  {
   "cell_type": "code",
   "execution_count": 7,
   "metadata": {},
   "outputs": [
    {
     "data": {
      "text/plain": [
       "9.283702439639246"
      ]
     },
     "execution_count": 7,
     "metadata": {},
     "output_type": "execute_result"
    }
   ],
   "source": [
    "np.max(np.nan_to_num(iso1.secondaries['logg'], -np.inf))"
   ]
  },
  {
   "cell_type": "code",
   "execution_count": 8,
   "metadata": {},
   "outputs": [
    {
     "data": {
      "text/plain": [
       "4.2498758947769355"
      ]
     },
     "execution_count": 8,
     "metadata": {},
     "output_type": "execute_result"
    }
   ],
   "source": [
    "np.median(iso1.singles['logg'][np.where(~np.isnan(iso1.singles['logg']))])"
   ]
  },
  {
   "cell_type": "code",
   "execution_count": 9,
   "metadata": {},
   "outputs": [
    {
     "data": {
      "text/plain": [
       "4.133548174454043"
      ]
     },
     "execution_count": 9,
     "metadata": {},
     "output_type": "execute_result"
    }
   ],
   "source": [
    "np.median(iso1.primaries['logg'][np.where(~np.isnan(iso1.primaries['logg']))])"
   ]
  },
  {
   "cell_type": "code",
   "execution_count": 10,
   "metadata": {},
   "outputs": [
    {
     "name": "stderr",
     "output_type": "stream",
     "text": [
      "/opt/anaconda3/envs/astroconda/lib/python3.7/site-packages/ipykernel_launcher.py:1: FutureWarning: Using a non-tuple sequence for multidimensional indexing is deprecated; use `arr[tuple(seq)]` instead of `arr[seq]`. In the future this will be interpreted as an array index, `arr[np.array(seq)]`, which will result either in an error or a different result.\n",
      "  \"\"\"Entry point for launching an IPython kernel.\n"
     ]
    },
    {
     "data": {
      "text/plain": [
       "4.30006013240644"
      ]
     },
     "execution_count": 10,
     "metadata": {},
     "output_type": "execute_result"
    }
   ],
   "source": [
    "np.median(iso1.secondaries['logg'][[np.where(~np.isnan(iso1.secondaries['logg']))]])"
   ]
  },
  {
   "cell_type": "code",
   "execution_count": 11,
   "metadata": {},
   "outputs": [
    {
     "data": {
      "text/plain": [
       "5.354531279865074"
      ]
     },
     "execution_count": 11,
     "metadata": {},
     "output_type": "execute_result"
    }
   ],
   "source": [
    "np.mean(iso1.singles['logg'][np.where(~np.isnan(iso1.singles['logg']))])"
   ]
  },
  {
   "cell_type": "code",
   "execution_count": 12,
   "metadata": {},
   "outputs": [
    {
     "data": {
      "text/plain": [
       "5.109131776599373"
      ]
     },
     "execution_count": 12,
     "metadata": {},
     "output_type": "execute_result"
    }
   ],
   "source": [
    "np.mean(iso1.primaries['logg'][np.where(~np.isnan(iso1.primaries['logg']))])"
   ]
  },
  {
   "cell_type": "code",
   "execution_count": 13,
   "metadata": {},
   "outputs": [
    {
     "data": {
      "text/plain": [
       "4.762344379541872"
      ]
     },
     "execution_count": 13,
     "metadata": {},
     "output_type": "execute_result"
    }
   ],
   "source": [
    "np.mean(iso1.secondaries['logg'][np.where(~np.isnan(iso1.secondaries['logg']))])"
   ]
  },
  {
   "cell_type": "markdown",
   "metadata": {},
   "source": [
    "Let's make a histogram of log_g values for each table of the isochrone"
   ]
  },
  {
   "cell_type": "code",
   "execution_count": 14,
   "metadata": {},
   "outputs": [
    {
     "data": {
      "text/plain": [
       "Text(0.5, 0, 'logg in cgs')"
      ]
     },
     "execution_count": 14,
     "metadata": {},
     "output_type": "execute_result"
    },
    {
     "name": "stderr",
     "output_type": "stream",
     "text": [
      "findfont: Font family ['sans-serif'] not found. Falling back to DejaVu Sans.\n",
      "findfont: Generic family 'sans-serif' not found because none of the following families were found: Bitstream Vera Sans\n",
      "findfont: Font family ['sans-serif'] not found. Falling back to DejaVu Sans.\n",
      "findfont: Generic family 'sans-serif' not found because none of the following families were found: Bitstream Vera Sans\n"
     ]
    },
    {
     "data": {
      "image/png": "[encoded data removed]",
      "text/plain": [
       "<Figure size 432x288 with 1 Axes>"
      ]
     },
     "metadata": {
      "needs_background": "light"
     },
     "output_type": "display_data"
    }
   ],
   "source": [
    "import matplotlib.pyplot as plt\n",
    "plt.title(\"Histogram of logg values (secondaries) of BPASS isochrone\")\n",
    "plt.hist(np.array([x for x in iso1.secondaries['logg'] if np.isfinite(x)]), np.arange(0, 30, 1))\n",
    "plt.xlabel(\"logg in cgs\")"
   ]
  },
  {
   "cell_type": "code",
   "execution_count": 15,
   "metadata": {},
   "outputs": [
    {
     "data": {
      "text/plain": [
       "Text(0.5, 0, 'logg in cgs')"
      ]
     },
     "execution_count": 15,
     "metadata": {},
     "output_type": "execute_result"
    },
    {
     "data": {
      "image/png": "[encoded data removed]",
      "text/plain": [
       "<Figure size 432x288 with 1 Axes>"
      ]
     },
     "metadata": {
      "needs_background": "light"
     },
     "output_type": "display_data"
    }
   ],
   "source": [
    "plt.title(\"Histogram of logg values (primaries) of BPASS isochrone\")\n",
    "plt.hist(np.array([x for x in iso1.primaries['logg'] if np.isfinite(x)]), np.arange(0, 30, 1))\n",
    "plt.xlabel(\"logg in cgs\")"
   ]
  },
  {
   "cell_type": "code",
   "execution_count": 16,
   "metadata": {},
   "outputs": [
    {
     "data": {
      "text/plain": [
       "Text(0.5, 0, 'logg in cgs')"
      ]
     },
     "execution_count": 16,
     "metadata": {},
     "output_type": "execute_result"
    },
    {
     "data": {
      "image/png": "[encoded data removed]",
      "text/plain": [
       "<Figure size 432x288 with 1 Axes>"
      ]
     },
     "metadata": {
      "needs_background": "light"
     },
     "output_type": "display_data"
    }
   ],
   "source": [
    "plt.title(\"Histogram of logg values single stars of BPASS isochrone\")\n",
    "plt.hist(np.array([x for x in iso1.singles['logg'] if np.isfinite(x)]), np.arange(0, 30, 1))\n",
    "plt.xlabel(\"logg in cgs\")"
   ]
  },
  {
   "cell_type": "markdown",
   "metadata": {},
   "source": [
    "For comparison, let's create a Parsec isochrone  phot using otherwise same parameters."
   ]
  },
  {
   "cell_type": "code",
   "execution_count": 17,
   "metadata": {},
   "outputs": [
    {
     "name": "stdout",
     "output_type": "stream",
     "text": [
      "Isochrone generation took 24.386008 s.\n",
      "Making photometry for isochrone: log(t) = 8.20  AKs = 0.00  dist = 100\n",
      "     Starting at:  2021-08-07 20:09:52.150484   Usually takes ~5 minutes\n",
      "Starting filter: ubv,U   Elapsed time: 0.01 seconds\n",
      "Starting synthetic photometry\n",
      "M =   0.090 Msun  T =  2491 K  m_ubv_U = 26.30\n",
      "M =   4.155 Msun  T = 11703 K  m_ubv_U = 2.87\n",
      "M =   4.371 Msun  T =  4036 K  m_ubv_U = 5.84\n",
      "Starting filter: ubv,B   Elapsed time: 0.77 seconds\n",
      "Starting synthetic photometry\n",
      "M =   0.090 Msun  T =  2491 K  m_ubv_B = 24.47\n",
      "M =   4.155 Msun  T = 11703 K  m_ubv_B = 3.18\n",
      "M =   4.371 Msun  T =  4036 K  m_ubv_B = 3.89\n",
      "Starting filter: ubv,V   Elapsed time: 1.48 seconds\n",
      "Starting synthetic photometry\n",
      "M =   0.090 Msun  T =  2491 K  m_ubv_V = 22.76\n",
      "M =   4.155 Msun  T = 11703 K  m_ubv_V = 3.28\n",
      "M =   4.371 Msun  T =  4036 K  m_ubv_V = 2.35\n",
      "Starting filter: ubv,R   Elapsed time: 2.21 seconds\n",
      "Starting synthetic photometry\n",
      "M =   0.090 Msun  T =  2491 K  m_ubv_R = 20.76\n",
      "M =   4.155 Msun  T = 11703 K  m_ubv_R = 3.31\n",
      "M =   4.371 Msun  T =  4036 K  m_ubv_R = 1.62\n",
      "Starting filter: ubv,I   Elapsed time: 2.92 seconds\n",
      "Starting synthetic photometry\n",
      "M =   0.090 Msun  T =  2491 K  m_ubv_I = 16.78\n",
      "M =   4.155 Msun  T = 11703 K  m_ubv_I = 3.38\n",
      "M =   4.371 Msun  T =  4036 K  m_ubv_I = 0.70\n",
      "      Time taken: 3.62 seconds\n"
     ]
    }
   ],
   "source": [
    "iso2=synthetic.IsochronePhot(8.2, 0.0, 100, math.log10(1),\n",
    "                             evo_model=evolution.Parsec(), recomp=True) # New Parsec isochrone for same metallicity"
   ]
  },
  {
   "cell_type": "markdown",
   "metadata": {},
   "source": [
    "Find the maximum logg of the isochrone and the distribution of logg values of the new isochrone."
   ]
  },
  {
   "cell_type": "code",
   "execution_count": 18,
   "metadata": {},
   "outputs": [
    {
     "data": {
      "text/plain": [
       "4.8974"
      ]
     },
     "execution_count": 18,
     "metadata": {},
     "output_type": "execute_result"
    }
   ],
   "source": [
    "np.max(iso2.points['logg'])"
   ]
  },
  {
   "cell_type": "code",
   "execution_count": 19,
   "metadata": {
    "scrolled": true
   },
   "outputs": [
    {
     "data": {
      "text/plain": [
       "(array([14., 56., 26., 36., 84.,  0.,  0.,  0.,  0.,  0.,  0.,  0.,  0.,\n",
       "         0.,  0.,  0.,  0.,  0.,  0.,  0.,  0.,  0.,  0.,  0.,  0.,  0.,\n",
       "         0.,  0.,  0.]),\n",
       " array([ 0,  1,  2,  3,  4,  5,  6,  7,  8,  9, 10, 11, 12, 13, 14, 15, 16,\n",
       "        17, 18, 19, 20, 21, 22, 23, 24, 25, 26, 27, 28, 29]),\n",
       " <BarContainer object of 29 artists>)"
      ]
     },
     "execution_count": 19,
     "metadata": {},
     "output_type": "execute_result"
    },
    {
     "data": {
      "image/png": "[encoded data removed]",
      "text/plain": [
       "<Figure size 432x288 with 1 Axes>"
      ]
     },
     "metadata": {
      "needs_background": "light"
     },
     "output_type": "display_data"
    }
   ],
   "source": [
    "plt.xlabel(\"logg in cgs\")\n",
    "plt.title(\"Histogram of logg values of stars in the Parsec isochrone\")\n",
    "plt.hist(np.array([x for x in iso2.points['logg'] if np.isfinite(x)]), np.arange(0, 30, 1))"
   ]
  },
  {
   "cell_type": "markdown",
   "metadata": {},
   "source": [
    "Finding the log_g median and mean for the new isochronePhot"
   ]
  },
  {
   "cell_type": "code",
   "execution_count": 20,
   "metadata": {},
   "outputs": [
    {
     "data": {
      "text/plain": [
       "3.4698"
      ]
     },
     "execution_count": 20,
     "metadata": {},
     "output_type": "execute_result"
    }
   ],
   "source": [
    "np.median(iso2.points['logg'])"
   ]
  },
  {
   "cell_type": "code",
   "execution_count": 21,
   "metadata": {},
   "outputs": [
    {
     "data": {
      "text/plain": [
       "3.0808240740740738"
      ]
     },
     "execution_count": 21,
     "metadata": {},
     "output_type": "execute_result"
    }
   ],
   "source": [
    "np.mean(iso2.points['logg'])"
   ]
  },
  {
   "cell_type": "markdown",
   "metadata": {},
   "source": [
    "Now we want to make clusters for both of these models and plot CMD, HR Diagram, and Mass Luminosity relationship for the isochrones. Then, we want to find the Mass luminosity relationship and CMD for the cluster."
   ]
  },
  {
   "cell_type": "code",
   "execution_count": 22,
   "metadata": {},
   "outputs": [],
   "source": [
    "from spisea import imf\n",
    "from spisea.imf import imf, multiplicity\n",
    "from spisea import ifmr"
   ]
  },
  {
   "cell_type": "code",
   "execution_count": 23,
   "metadata": {
    "scrolled": true
   },
   "outputs": [
    {
     "name": "stderr",
     "output_type": "stream",
     "text": [
      "/u/ryotainagaki/Desktop/PyPopStar/spisea/synthetic.py:775: VisibleDeprecationWarning: Creating an ndarray from ragged nested sequences (which is a list-or-tuple of lists-or-tuples-or ndarrays with different lengths or shapes) is deprecated. If you meant to do this, you must specify 'dtype=object' when creating the ndarray.\n",
      "  compMass = np.array([compMass[x] for x in indices])\n"
     ]
    },
    {
     "name": "stdout",
     "output_type": "stream",
     "text": [
      "Creating Interpolator for: Teff\n",
      "55186.39180947247\n",
      "(array([2342]),)\n",
      "Creating Interpolator for: L\n",
      "1.5129407801359633e+30\n",
      "(array([1564]),)\n",
      "Creating Interpolator for: logg\n",
      "9.288600394549206\n",
      "(array([1852]),)\n",
      "Creating Interpolator for: isWR\n",
      "True\n",
      "(array([  12,   39,   55,  101,  104,  144,  150,  180,  237,  250,  253,\n",
      "        293,  295,  312,  313,  318,  324,  349,  360,  375,  387,  417,\n",
      "        429,  452,  485,  492,  497,  511,  523,  532,  544,  565,  616,\n",
      "        638,  649,  662,  707,  716,  760,  763,  773,  807,  857,  875,\n",
      "        902,  911,  932,  933,  947,  961,  982, 1044, 1088, 1105, 1119,\n",
      "       1129, 1175, 1192, 1200, 1207, 1213, 1214, 1227, 1240, 1249, 1268,\n",
      "       1280, 1306, 1351, 1363, 1372, 1380, 1388, 1396, 1443, 1449, 1456,\n",
      "       1459, 1464, 1470, 1504, 1505, 1539, 1550, 1557, 1568, 1589, 1619,\n",
      "       1626, 1632, 1633, 1642, 1647, 1648, 1658, 1659, 1689, 1696, 1698,\n",
      "       1713, 1721, 1726, 1771, 1774, 1781, 1792, 1825, 1902, 1941, 1988,\n",
      "       2006, 2017, 2021, 2054, 2104, 2118, 2128, 2140, 2141, 2157, 2160,\n",
      "       2162, 2186, 2216, 2226, 2230, 2240, 2249, 2261, 2277, 2305, 2319,\n",
      "       2330, 2333, 2342, 2367, 2369, 2373, 2403, 2412, 2436, 2438, 2441,\n",
      "       2460, 2490, 2513, 2517, 2532, 2555, 2586, 2589, 2591, 2602, 2613,\n",
      "       2615, 2638]),)\n",
      "Creating Interpolator for: mass_current\n",
      "28.92493\n",
      "(array([685]),)\n",
      "Creating Interpolator for: phase\n",
      "103.0\n",
      "(array([   3,   19,   43,   45,   56,  129,  156,  183,  187,  197,  235,\n",
      "        333,  407,  437,  449,  451,  466,  467,  471,  494,  569,  581,\n",
      "        612,  619,  620,  623,  685,  800,  804,  860,  872,  880,  904,\n",
      "        910,  923,  951,  975,  978, 1006, 1070, 1130, 1153, 1160, 1168,\n",
      "       1169, 1231, 1261, 1309, 1423, 1447, 1450, 1471, 1494, 1507, 1510,\n",
      "       1519, 1523, 1534, 1535, 1546, 1559, 1566, 1582, 1587, 1629, 1645,\n",
      "       1646, 1707, 1736, 1798, 1816, 1828, 1836, 1866, 1944, 1957, 1978,\n",
      "       1981, 2034, 2073, 2170, 2176, 2178, 2188, 2191, 2264, 2285, 2325,\n",
      "       2337, 2452, 2459, 2499, 2554, 2556, 2614]),)\n",
      "Creating Interpolator for: m_ubv_U\n",
      "24.760312497153958\n",
      "(array([732]),)\n",
      "Creating Interpolator for: m_ubv_V\n",
      "21.84596578672695\n",
      "(array([732]),)\n",
      "Creating Interpolator for: m_ubv_B\n",
      "23.284935719953136\n",
      "(array([732]),)\n",
      "Creating Interpolator for: m_ubv_R\n",
      "20.511293157725653\n",
      "(array([1963]),)\n",
      "Creating Interpolator for: m_ubv_I\n",
      "17.34605619389894\n",
      "(array([590]),)\n"
     ]
    },
    {
     "name": "stderr",
     "output_type": "stream",
     "text": [
      "/opt/anaconda3/envs/astroconda/lib/python3.7/site-packages/astropy/table/table.py:3197: FutureWarning: elementwise == comparison failed and returning scalar instead; this will raise an error or perform elementwise comparison in the future.\n",
      "  result = self.as_array() == other\n"
     ]
    },
    {
     "name": "stdout",
     "output_type": "stream",
     "text": [
      "Found 16 companions out of stellar mass range\n"
     ]
    }
   ],
   "source": [
    "clus_1=synthetic.Cluster_w_Binaries(iso1,\n",
    "                                    imf.IMFSalpeter1955(multiplicity=\n",
    "                                                        multiplicity.MultiplicityResolvedDK()),\n",
    "                                    2000, ifmr=ifmr.IFMR_Spera15())\n",
    "clus_2=synthetic.ResolvedCluster(iso2,\n",
    "                                 imf.IMFSalpeter1955(multiplicity=\n",
    "                                                     multiplicity.MultiplicityResolvedDK()),\n",
    "                                 2000, ifmr=ifmr.IFMR_Spera15())"
   ]
  },
  {
   "cell_type": "code",
   "execution_count": 24,
   "metadata": {},
   "outputs": [],
   "source": [
    "to_examine = iso1.primaries[np.where(np.isclose(iso1.primaries['mass'], 3.3, atol = 0.1))]"
   ]
  },
  {
   "cell_type": "code",
   "execution_count": 25,
   "metadata": {},
   "outputs": [
    {
     "data": {
      "text/plain": [
       "55186.39180947247"
      ]
     },
     "execution_count": 25,
     "metadata": {},
     "output_type": "execute_result"
    }
   ],
   "source": [
    "np.max(iso1.primaries['Teff'][np.where(~np.isnan(iso1.primaries['Teff']))])"
   ]
  },
  {
   "cell_type": "markdown",
   "metadata": {},
   "source": [
    "Examination of data: the previous warning does lead to a potential "
   ]
  },
  {
   "cell_type": "code",
   "execution_count": 26,
   "metadata": {},
   "outputs": [
    {
     "data": {
      "text/html": [
       "&lt;Column name=&apos;mass&apos; dtype=&apos;float64&apos; unit=&apos;solMass&apos; length=2645&gt;\n",
       "<table>\n",
       "<tr><td>5.5</td></tr>\n",
       "<tr><td>4.0</td></tr>\n",
       "<tr><td>1.25893</td></tr>\n",
       "<tr><td>5.01187</td></tr>\n",
       "<tr><td>2.5</td></tr>\n",
       "<tr><td>6.5</td></tr>\n",
       "<tr><td>3.2</td></tr>\n",
       "<tr><td>5.5</td></tr>\n",
       "<tr><td>2.5</td></tr>\n",
       "<tr><td>4.0</td></tr>\n",
       "<tr><td>6.0</td></tr>\n",
       "<tr><td>2.7</td></tr>\n",
       "<tr><td>...</td></tr>\n",
       "<tr><td>7.0</td></tr>\n",
       "<tr><td>4.5</td></tr>\n",
       "<tr><td>0.501187</td></tr>\n",
       "<tr><td>2.3</td></tr>\n",
       "<tr><td>2.7</td></tr>\n",
       "<tr><td>4.5</td></tr>\n",
       "<tr><td>4.5</td></tr>\n",
       "<tr><td>2.7</td></tr>\n",
       "<tr><td>3.5</td></tr>\n",
       "<tr><td>0.501187</td></tr>\n",
       "<tr><td>3.5</td></tr>\n",
       "<tr><td>5.5</td></tr>\n",
       "</table>"
      ],
      "text/plain": [
       "<Column name='mass' dtype='float64' unit='solMass' length=2645>\n",
       "     5.5\n",
       "     4.0\n",
       " 1.25893\n",
       " 5.01187\n",
       "     2.5\n",
       "     6.5\n",
       "     3.2\n",
       "     5.5\n",
       "     2.5\n",
       "     4.0\n",
       "     6.0\n",
       "     2.7\n",
       "     ...\n",
       "     7.0\n",
       "     4.5\n",
       "0.501187\n",
       "     2.3\n",
       "     2.7\n",
       "     4.5\n",
       "     4.5\n",
       "     2.7\n",
       "     3.5\n",
       "0.501187\n",
       "     3.5\n",
       "     5.5"
      ]
     },
     "execution_count": 26,
     "metadata": {},
     "output_type": "execute_result"
    }
   ],
   "source": [
    "iso1.primaries['mass']"
   ]
  },
  {
   "cell_type": "code",
   "execution_count": 27,
   "metadata": {},
   "outputs": [
    {
     "data": {
      "text/html": [
       "&lt;Column name=&apos;mass&apos; dtype=&apos;float64&apos; unit=&apos;solMass&apos; length=2645&gt;\n",
       "<table>\n",
       "<tr><td>1.65</td></tr>\n",
       "<tr><td>3.2</td></tr>\n",
       "<tr><td>4.5</td></tr>\n",
       "<tr><td>7.0</td></tr>\n",
       "<tr><td>0.25</td></tr>\n",
       "<tr><td>1.3</td></tr>\n",
       "<tr><td>0.6400000000000001</td></tr>\n",
       "<tr><td>1.65</td></tr>\n",
       "<tr><td>0.75</td></tr>\n",
       "<tr><td>1.2</td></tr>\n",
       "<tr><td>4.800000000000001</td></tr>\n",
       "<tr><td>1.62</td></tr>\n",
       "<tr><td>...</td></tr>\n",
       "<tr><td>4.8999999999999995</td></tr>\n",
       "<tr><td>2.6999999999999997</td></tr>\n",
       "<tr><td>3.2</td></tr>\n",
       "<tr><td>0.22999999999999998</td></tr>\n",
       "<tr><td>2.16</td></tr>\n",
       "<tr><td>2.6999999999999997</td></tr>\n",
       "<tr><td>3.15</td></tr>\n",
       "<tr><td>0.81</td></tr>\n",
       "<tr><td>1.05</td></tr>\n",
       "<tr><td>3.2</td></tr>\n",
       "<tr><td>2.4499999999999997</td></tr>\n",
       "<tr><td>3.8499999999999996</td></tr>\n",
       "</table>"
      ],
      "text/plain": [
       "<Column name='mass' dtype='float64' unit='solMass' length=2645>\n",
       "               1.65\n",
       "                3.2\n",
       "                4.5\n",
       "                7.0\n",
       "               0.25\n",
       "                1.3\n",
       " 0.6400000000000001\n",
       "               1.65\n",
       "               0.75\n",
       "                1.2\n",
       "  4.800000000000001\n",
       "               1.62\n",
       "                ...\n",
       " 4.8999999999999995\n",
       " 2.6999999999999997\n",
       "                3.2\n",
       "0.22999999999999998\n",
       "               2.16\n",
       " 2.6999999999999997\n",
       "               3.15\n",
       "               0.81\n",
       "               1.05\n",
       "                3.2\n",
       " 2.4499999999999997\n",
       " 3.8499999999999996"
      ]
     },
     "execution_count": 27,
     "metadata": {},
     "output_type": "execute_result"
    }
   ],
   "source": [
    "iso1.secondaries['mass']"
   ]
  },
  {
   "cell_type": "code",
   "execution_count": 28,
   "metadata": {},
   "outputs": [
    {
     "data": {
      "text/html": [
       "&lt;Column name=&apos;log_a&apos; dtype=&apos;float64&apos; unit=&apos;&apos; length=2645&gt;\n",
       "<table>\n",
       "<tr><td>-0.5412254086880293</td></tr>\n",
       "<tr><td>1.2442905913119708</td></tr>\n",
       "<tr><td>0.547117591311971</td></tr>\n",
       "<tr><td>0.9297055913119707</td></tr>\n",
       "<tr><td>-0.0951484086880292</td></tr>\n",
       "<tr><td>-0.7272924086880292</td></tr>\n",
       "<tr><td>-1.3801498086880293</td></tr>\n",
       "<tr><td>-1.492032508688029</td></tr>\n",
       "<tr><td>-0.4709654086880293</td></tr>\n",
       "<tr><td>1.0638885913119709</td></tr>\n",
       "<tr><td>-0.9371514086880293</td></tr>\n",
       "<tr><td>1.0369015913119708</td></tr>\n",
       "<tr><td>...</td></tr>\n",
       "<tr><td>0.4886605913119708</td></tr>\n",
       "<tr><td>0.31235859131197063</td></tr>\n",
       "<tr><td>-0.8521464086880293</td></tr>\n",
       "<tr><td>-1.573886708688029</td></tr>\n",
       "<tr><td>0.6539525913119708</td></tr>\n",
       "<tr><td>-0.37998340868802916</td></tr>\n",
       "<tr><td>-0.9327634086880292</td></tr>\n",
       "<tr><td>-1.2598244086880293</td></tr>\n",
       "<tr><td>-0.9555474086880291</td></tr>\n",
       "<tr><td>-1.2521464086880292</td></tr>\n",
       "<tr><td>-1.4500577086880293</td></tr>\n",
       "<tr><td>1.0210475913119708</td></tr>\n",
       "</table>"
      ],
      "text/plain": [
       "<Column name='log_a' dtype='float64' unit='' length=2645>\n",
       " -0.5412254086880293\n",
       "  1.2442905913119708\n",
       "   0.547117591311971\n",
       "  0.9297055913119707\n",
       " -0.0951484086880292\n",
       " -0.7272924086880292\n",
       " -1.3801498086880293\n",
       "  -1.492032508688029\n",
       " -0.4709654086880293\n",
       "  1.0638885913119709\n",
       " -0.9371514086880293\n",
       "  1.0369015913119708\n",
       "                 ...\n",
       "  0.4886605913119708\n",
       " 0.31235859131197063\n",
       " -0.8521464086880293\n",
       "  -1.573886708688029\n",
       "  0.6539525913119708\n",
       "-0.37998340868802916\n",
       " -0.9327634086880292\n",
       " -1.2598244086880293\n",
       " -0.9555474086880291\n",
       " -1.2521464086880292\n",
       " -1.4500577086880293\n",
       "  1.0210475913119708"
      ]
     },
     "execution_count": 28,
     "metadata": {},
     "output_type": "execute_result"
    }
   ],
   "source": [
    "iso1.secondaries['log_a']"
   ]
  },
  {
   "cell_type": "code",
   "execution_count": 29,
   "metadata": {},
   "outputs": [],
   "source": [
    "# Linear Dependence "
   ]
  },
  {
   "cell_type": "markdown",
   "metadata": {},
   "source": [
    "Taking a look at the BPASS Cluster vs Parsec cluster CMD\n",
    "Remember to subtract from V a distance modulus! 5$log_{10}$(distance to cluster/(10 pc))"
   ]
  },
  {
   "cell_type": "code",
   "execution_count": 30,
   "metadata": {},
   "outputs": [
    {
     "data": {
      "text/plain": [
       "<matplotlib.legend.Legend at 0x7f8cd9190a90>"
      ]
     },
     "execution_count": 30,
     "metadata": {},
     "output_type": "execute_result"
    },
    {
     "data": {
      "image/png": "[encoded data removed]",
      "text/plain": [
       "<Figure size 540x540 with 1 Axes>"
      ]
     },
     "metadata": {
      "needs_background": "light"
     },
     "output_type": "display_data"
    }
   ],
   "source": [
    "plt.figure(figsize = (7.5, 7.5))\n",
    "plt.plot(iso1.primaries['m_ubv_B'] - iso1.primaries[\"m_ubv_V\"],\n",
    "         iso1.primaries[\"m_ubv_V\"] - 5 * np.log10(100 / 10), \"r.\")\n",
    "plt.plot(iso1.secondaries['m_ubv_B'] - iso1.secondaries[\"m_ubv_V\"],\n",
    "         iso1.secondaries[\"m_ubv_V\"] - 5 * np.log10(100 / 10), \"r.\")\n",
    "plt.plot(iso1.singles['m_ubv_B'] - iso1.singles[\"m_ubv_V\"],\n",
    "         iso1.singles[\"m_ubv_V\"] - 5 * np.log10(100 / 10),\n",
    "         \"r.\", label=\"BPASS isochrone\")\n",
    "plt.plot(iso2.points['m_ubv_B']-iso2.points[\"m_ubv_V\"],\n",
    "         iso2.points[\"m_ubv_V\"] - 5 * np.log10(100 / 10),\n",
    "         \"b+\", label=\"Parsec Isochrone\", alpha=0.25)\n",
    "plt.xlabel(\"B-V\")\n",
    "plt.ylabel(\"M_V\")\n",
    "plt.title(\"Color magnitude Diagram of Isochrones at solar metallicity and 10**8.2 years age\")\n",
    "plt.gca().invert_yaxis()\n",
    "plt.legend()"
   ]
  },
  {
   "cell_type": "markdown",
   "metadata": {},
   "source": [
    "Taking a look at the BPASS Cluster vs Parsec Settings cluster CMD\n",
    "Remember to subtract from V a distance modulus! 5$log_{10}$(distance to cluster/(10 pc))"
   ]
  },
  {
   "cell_type": "code",
   "execution_count": 31,
   "metadata": {},
   "outputs": [
    {
     "data": {
      "text/plain": [
       "<matplotlib.legend.Legend at 0x7f8ce8f7a3d0>"
      ]
     },
     "execution_count": 31,
     "metadata": {},
     "output_type": "execute_result"
    },
    {
     "data": {
      "image/png": "[encoded data removed]",
      "text/plain": [
       "<Figure size 540x540 with 1 Axes>"
      ]
     },
     "metadata": {
      "needs_background": "light"
     },
     "output_type": "display_data"
    }
   ],
   "source": [
    "plt.figure(figsize = (7.5, 7.5))\n",
    "plt.plot(np.log10(iso1.primaries['Teff']), np.log10(iso1.primaries[\"L\"]), \"r.\")\n",
    "plt.plot(np.log10(iso1.secondaries['Teff']), np.log10(iso1.secondaries[\"L\"]), \"r.\")\n",
    "plt.plot(np.log10(iso1.singles['Teff']),\n",
    "         np.log10(iso1.singles[\"L\"]), \"r.\", label=\"BPASS isochrone\")\n",
    "plt.plot(np.log10(iso2.points['Teff']),\n",
    "         np.log10(iso2.points[\"L\"]), \"b+\", label=\"Parsec Isochrone\", alpha=0.25)\n",
    "plt.xlabel(\"log10($T_{eff}$ in kelvin)\")\n",
    "plt.ylabel(\"log10(L in watts)\")\n",
    "plt.title(\"HR Diagram of Isochrones at solar metallicity and 10**8.2 years age\")\n",
    "plt.gca().invert_xaxis()\n",
    "plt.legend()\n",
    "# Rough pattern seems to fit. What's that line?"
   ]
  },
  {
   "cell_type": "markdown",
   "metadata": {},
   "source": [
    "Plot the mass-luminosity relationship"
   ]
  },
  {
   "cell_type": "code",
   "execution_count": 32,
   "metadata": {},
   "outputs": [
    {
     "data": {
      "text/plain": [
       "<matplotlib.legend.Legend at 0x7f8d39edb690>"
      ]
     },
     "execution_count": 32,
     "metadata": {},
     "output_type": "execute_result"
    },
    {
     "data": {
      "image/png": "[encoded data removed]",
      "text/plain": [
       "<Figure size 540x540 with 1 Axes>"
      ]
     },
     "metadata": {
      "needs_background": "light"
     },
     "output_type": "display_data"
    }
   ],
   "source": [
    "from astropy import constants as cs\n",
    "plt.figure(figsize = (7.5, 7.5))\n",
    "plt.plot(np.log10(iso1.primaries['mass_current']),\n",
    "         np.log10(iso1.primaries[\"L\"] / cs.L_sun), \"r.\")\n",
    "plt.plot(np.log10(iso1.secondaries['mass_current']),\n",
    "         np.log10(iso1.secondaries[\"L\"] / cs.L_sun), \"r.\")\n",
    "plt.plot(np.log10(iso1.singles['mass_current']), np.log10(iso1.singles[\"L\"] /\n",
    "                                                          cs.L_sun),\n",
    "         \"r.\", label=\"BPASS isochrone\")\n",
    "plt.plot(np.log10(iso2.points['mass_current']), np.log10(iso2.points[\"L\"] /\n",
    "                                                         cs.L_sun),\n",
    "         \"b+\", label=\"Parsec Isochrone\", alpha=0.25)\n",
    "plt.xlabel(\"log10(Current Mass in solar masses)\")\n",
    "plt.ylabel(\"log10(L/L_solar)\")\n",
    "plt.title(\"log Mass-logL of Isochrones at solar metallicity and 10**8.2 years age\")\n",
    "plt.legend()\n",
    "# Rough pattern seems to fit. What's that line?"
   ]
  },
  {
   "cell_type": "code",
   "execution_count": 33,
   "metadata": {},
   "outputs": [
    {
     "ename": "UnitTypeError",
     "evalue": "Can only apply 'log10' function to dimensionless quantities",
     "output_type": "error",
     "traceback": [
      "\u001b[0;31m---------------------------------------------------------------------------\u001b[0m",
      "\u001b[0;31mUnitConversionError\u001b[0m                       Traceback (most recent call last)",
      "\u001b[0;32m/opt/anaconda3/envs/astroconda/lib/python3.7/site-packages/astropy/units/quantity_helper/helpers.py\u001b[0m in \u001b[0;36mget_converter\u001b[0;34m(from_unit, to_unit)\u001b[0m\n\u001b[1;32m     31\u001b[0m     \u001b[0;32mtry\u001b[0m\u001b[0;34m:\u001b[0m\u001b[0;34m\u001b[0m\u001b[0;34m\u001b[0m\u001b[0m\n\u001b[0;32m---> 32\u001b[0;31m         \u001b[0mscale\u001b[0m \u001b[0;34m=\u001b[0m \u001b[0mfrom_unit\u001b[0m\u001b[0;34m.\u001b[0m\u001b[0m_to\u001b[0m\u001b[0;34m(\u001b[0m\u001b[0mto_unit\u001b[0m\u001b[0;34m)\u001b[0m\u001b[0;34m\u001b[0m\u001b[0;34m\u001b[0m\u001b[0m\n\u001b[0m\u001b[1;32m     33\u001b[0m     \u001b[0;32mexcept\u001b[0m \u001b[0mUnitsError\u001b[0m\u001b[0;34m:\u001b[0m\u001b[0;34m\u001b[0m\u001b[0;34m\u001b[0m\u001b[0m\n",
      "\u001b[0;32m/opt/anaconda3/envs/astroconda/lib/python3.7/site-packages/astropy/units/core.py\u001b[0m in \u001b[0;36m_to\u001b[0;34m(self, other)\u001b[0m\n\u001b[1;32m    950\u001b[0m         raise UnitConversionError(\n\u001b[0;32m--> 951\u001b[0;31m             f\"'{self!r}' is not a scaled version of '{other!r}'\")\n\u001b[0m\u001b[1;32m    952\u001b[0m \u001b[0;34m\u001b[0m\u001b[0m\n",
      "\u001b[0;31mUnitConversionError\u001b[0m: 'Unit(\"1 / W\")' is not a scaled version of 'Unit(dimensionless)'",
      "\nDuring handling of the above exception, another exception occurred:\n",
      "\u001b[0;31mUnitConversionError\u001b[0m                       Traceback (most recent call last)",
      "\u001b[0;32m/opt/anaconda3/envs/astroconda/lib/python3.7/site-packages/astropy/units/quantity_helper/helpers.py\u001b[0m in \u001b[0;36mhelper_dimensionless_to_dimensionless\u001b[0;34m(f, unit)\u001b[0m\n\u001b[1;32m    146\u001b[0m     \u001b[0;32mtry\u001b[0m\u001b[0;34m:\u001b[0m\u001b[0;34m\u001b[0m\u001b[0;34m\u001b[0m\u001b[0m\n\u001b[0;32m--> 147\u001b[0;31m         return ([get_converter(unit, dimensionless_unscaled)],\n\u001b[0m\u001b[1;32m    148\u001b[0m                 dimensionless_unscaled)\n",
      "\u001b[0;32m/opt/anaconda3/envs/astroconda/lib/python3.7/site-packages/astropy/units/quantity_helper/helpers.py\u001b[0m in \u001b[0;36mget_converter\u001b[0;34m(from_unit, to_unit)\u001b[0m\n\u001b[1;32m     34\u001b[0m         return from_unit._apply_equivalencies(\n\u001b[0;32m---> 35\u001b[0;31m                 from_unit, to_unit, get_current_unit_registry().equivalencies)\n\u001b[0m\u001b[1;32m     36\u001b[0m     \u001b[0;32mexcept\u001b[0m \u001b[0mAttributeError\u001b[0m\u001b[0;34m:\u001b[0m\u001b[0;34m\u001b[0m\u001b[0;34m\u001b[0m\u001b[0m\n",
      "\u001b[0;32m/opt/anaconda3/envs/astroconda/lib/python3.7/site-packages/astropy/units/core.py\u001b[0m in \u001b[0;36m_apply_equivalencies\u001b[0;34m(self, unit, other, equivalencies)\u001b[0m\n\u001b[1;32m    887\u001b[0m             \"{} and {} are not convertible\".format(\n\u001b[0;32m--> 888\u001b[0;31m                 unit_str, other_str))\n\u001b[0m\u001b[1;32m    889\u001b[0m \u001b[0;34m\u001b[0m\u001b[0m\n",
      "\u001b[0;31mUnitConversionError\u001b[0m: '1 / W' and '' (dimensionless) are not convertible",
      "\nDuring handling of the above exception, another exception occurred:\n",
      "\u001b[0;31mUnitTypeError\u001b[0m                             Traceback (most recent call last)",
      "\u001b[0;32m<ipython-input-33-b46eca772744>\u001b[0m in \u001b[0;36m<module>\u001b[0;34m\u001b[0m\n\u001b[1;32m      3\u001b[0m \u001b[0mplt\u001b[0m\u001b[0;34m.\u001b[0m\u001b[0mfigure\u001b[0m\u001b[0;34m(\u001b[0m\u001b[0mfigsize\u001b[0m \u001b[0;34m=\u001b[0m \u001b[0;34m(\u001b[0m\u001b[0;36m7.5\u001b[0m\u001b[0;34m,\u001b[0m \u001b[0;36m7.5\u001b[0m\u001b[0;34m)\u001b[0m\u001b[0;34m)\u001b[0m\u001b[0;34m\u001b[0m\u001b[0;34m\u001b[0m\u001b[0m\n\u001b[1;32m      4\u001b[0m plt.plot(np.log10(clus_1.star_systems['mass_current']),\n\u001b[0;32m----> 5\u001b[0;31m          \u001b[0mnp\u001b[0m\u001b[0;34m.\u001b[0m\u001b[0mlog10\u001b[0m\u001b[0;34m(\u001b[0m\u001b[0mclus_1\u001b[0m\u001b[0;34m.\u001b[0m\u001b[0mstar_systems\u001b[0m\u001b[0;34m[\u001b[0m\u001b[0;34m\"L\"\u001b[0m\u001b[0;34m]\u001b[0m \u001b[0;34m/\u001b[0m \u001b[0mcs\u001b[0m\u001b[0;34m.\u001b[0m\u001b[0mL_sun\u001b[0m\u001b[0;34m)\u001b[0m\u001b[0;34m,\u001b[0m\u001b[0;34m\u001b[0m\u001b[0;34m\u001b[0m\u001b[0m\n\u001b[0m\u001b[1;32m      6\u001b[0m          \"r.\", label=\"Binary_Cluster made from BPASS\", alpha =1)\n\u001b[1;32m      7\u001b[0m plt.plot(np.log10(clus_2.star_systems['mass_current']),\n",
      "\u001b[0;32m/opt/anaconda3/envs/astroconda/lib/python3.7/site-packages/astropy/units/quantity.py\u001b[0m in \u001b[0;36m__array_ufunc__\u001b[0;34m(self, function, method, *inputs, **kwargs)\u001b[0m\n\u001b[1;32m    457\u001b[0m         \u001b[0;31m# consistent units between two inputs (e.g., in np.add) --\u001b[0m\u001b[0;34m\u001b[0m\u001b[0;34m\u001b[0m\u001b[0;34m\u001b[0m\u001b[0m\n\u001b[1;32m    458\u001b[0m         \u001b[0;31m# and the unit of the result (or tuple of units for nout > 1).\u001b[0m\u001b[0;34m\u001b[0m\u001b[0;34m\u001b[0m\u001b[0;34m\u001b[0m\u001b[0m\n\u001b[0;32m--> 459\u001b[0;31m         \u001b[0mconverters\u001b[0m\u001b[0;34m,\u001b[0m \u001b[0munit\u001b[0m \u001b[0;34m=\u001b[0m \u001b[0mconverters_and_unit\u001b[0m\u001b[0;34m(\u001b[0m\u001b[0mfunction\u001b[0m\u001b[0;34m,\u001b[0m \u001b[0mmethod\u001b[0m\u001b[0;34m,\u001b[0m \u001b[0;34m*\u001b[0m\u001b[0minputs\u001b[0m\u001b[0;34m)\u001b[0m\u001b[0;34m\u001b[0m\u001b[0;34m\u001b[0m\u001b[0m\n\u001b[0m\u001b[1;32m    460\u001b[0m \u001b[0;34m\u001b[0m\u001b[0m\n\u001b[1;32m    461\u001b[0m         \u001b[0mout\u001b[0m \u001b[0;34m=\u001b[0m \u001b[0mkwargs\u001b[0m\u001b[0;34m.\u001b[0m\u001b[0mget\u001b[0m\u001b[0;34m(\u001b[0m\u001b[0;34m'out'\u001b[0m\u001b[0;34m,\u001b[0m \u001b[0;32mNone\u001b[0m\u001b[0;34m)\u001b[0m\u001b[0;34m\u001b[0m\u001b[0;34m\u001b[0m\u001b[0m\n",
      "\u001b[0;32m/opt/anaconda3/envs/astroconda/lib/python3.7/site-packages/astropy/units/quantity_helper/converters.py\u001b[0m in \u001b[0;36mconverters_and_unit\u001b[0;34m(function, method, *args)\u001b[0m\n\u001b[1;32m    164\u001b[0m \u001b[0;34m\u001b[0m\u001b[0m\n\u001b[1;32m    165\u001b[0m         \u001b[0;31m# Determine possible conversion functions, and the result unit.\u001b[0m\u001b[0;34m\u001b[0m\u001b[0;34m\u001b[0m\u001b[0;34m\u001b[0m\u001b[0m\n\u001b[0;32m--> 166\u001b[0;31m         \u001b[0mconverters\u001b[0m\u001b[0;34m,\u001b[0m \u001b[0mresult_unit\u001b[0m \u001b[0;34m=\u001b[0m \u001b[0mufunc_helper\u001b[0m\u001b[0;34m(\u001b[0m\u001b[0mfunction\u001b[0m\u001b[0;34m,\u001b[0m \u001b[0;34m*\u001b[0m\u001b[0munits\u001b[0m\u001b[0;34m)\u001b[0m\u001b[0;34m\u001b[0m\u001b[0;34m\u001b[0m\u001b[0m\n\u001b[0m\u001b[1;32m    167\u001b[0m \u001b[0;34m\u001b[0m\u001b[0m\n\u001b[1;32m    168\u001b[0m         \u001b[0;32mif\u001b[0m \u001b[0many\u001b[0m\u001b[0;34m(\u001b[0m\u001b[0mconverter\u001b[0m \u001b[0;32mis\u001b[0m \u001b[0;32mFalse\u001b[0m \u001b[0;32mfor\u001b[0m \u001b[0mconverter\u001b[0m \u001b[0;32min\u001b[0m \u001b[0mconverters\u001b[0m\u001b[0;34m)\u001b[0m\u001b[0;34m:\u001b[0m\u001b[0;34m\u001b[0m\u001b[0;34m\u001b[0m\u001b[0m\n",
      "\u001b[0;32m/opt/anaconda3/envs/astroconda/lib/python3.7/site-packages/astropy/units/quantity_helper/helpers.py\u001b[0m in \u001b[0;36mhelper_dimensionless_to_dimensionless\u001b[0;34m(f, unit)\u001b[0m\n\u001b[1;32m    150\u001b[0m         raise UnitTypeError(\"Can only apply '{}' function to \"\n\u001b[1;32m    151\u001b[0m                             \u001b[0;34m\"dimensionless quantities\"\u001b[0m\u001b[0;34m\u001b[0m\u001b[0;34m\u001b[0m\u001b[0m\n\u001b[0;32m--> 152\u001b[0;31m                             .format(f.__name__))\n\u001b[0m\u001b[1;32m    153\u001b[0m \u001b[0;34m\u001b[0m\u001b[0m\n\u001b[1;32m    154\u001b[0m \u001b[0;34m\u001b[0m\u001b[0m\n",
      "\u001b[0;31mUnitTypeError\u001b[0m: Can only apply 'log10' function to dimensionless quantities"
     ]
    },
    {
     "data": {
      "text/plain": [
       "<Figure size 540x540 with 0 Axes>"
      ]
     },
     "metadata": {},
     "output_type": "display_data"
    }
   ],
   "source": [
    "# Plot the mass-luminosity relationship\n",
    "from astropy import units as u\n",
    "plt.figure(figsize = (7.5, 7.5))\n",
    "plt.plot(np.log10(clus_1.star_systems['mass_current']),\n",
    "         np.log10(clus_1.star_systems[\"L\"] / cs.L_sun),\n",
    "         \"r.\", label=\"Binary_Cluster made from BPASS\", alpha =1)\n",
    "plt.plot(np.log10(clus_2.star_systems['mass_current']),\n",
    "         np.log10(clus_2.star_systems[\"L\"] / (cs.L_sun * 1 / u.W)),\n",
    "         \"b+\", label=\"Cluster made from Parsec\", alpha=0.1)\n",
    "plt.xlabel(\"log10(Current Mass in solar masses)\")\n",
    "plt.ylabel(\"log10(L/L_solar)\")\n",
    "plt.title(\"log-Mass-logL of Cluster at solar metallicity and\" +\n",
    "          \" 10**8.2 years age (for primaries and single stars)\")\n",
    "plt.legend()\n",
    "# Rough pattern seems to fit. What's that line?"
   ]
  },
  {
   "cell_type": "markdown",
   "metadata": {},
   "source": [
    "Taking a look at the BPASS Cluster vs \"Parsec Settings cluster\" Observer's HR Diagram\n",
    "Remember to use a distance modulus!"
   ]
  },
  {
   "cell_type": "code",
   "execution_count": null,
   "metadata": {},
   "outputs": [],
   "source": [
    "import matplotlib.pyplot as plt\n",
    "plt.figure(figsize = (7.5, 7.5))\n",
    "plt.plot(clus_1.star_systems['m_ubv_B'] - clus_1.star_systems[\"m_ubv_V\"],\n",
    "         clus_1.star_systems[\"m_ubv_V\"] - 5 * np.log10(100 / 10), \"r.\",\n",
    "         label=\"BPASS Cluster\")\n",
    "plt.plot(clus_2.star_systems['m_ubv_B'] - clus_2.star_systems[\"m_ubv_V\"],\n",
    "         clus_2.star_systems[\"m_ubv_V\"] - 5 * np.log10(100 / 10), \"b+\",\n",
    "         label=\"Parsec Cluster\", alpha=0.25)\n",
    "plt.xlabel(\"B-V\")\n",
    "plt.ylabel(\"M_V\")\n",
    "plt.title(\"Color magnitude Diagram of clusters at solar metallicity and 10**8.2 years age\")\n",
    "plt.gca().invert_yaxis()\n",
    "plt.legend()"
   ]
  },
  {
   "cell_type": "markdown",
   "metadata": {},
   "source": [
    "One thing to note about the Binary_Cluster is that it does include the units as information for columns.\n",
    "The usual ResolvedCluster does not. Thus the latter has a disadvantage when we do comparisons with solar luminosity."
   ]
  },
  {
   "cell_type": "markdown",
   "metadata": {},
   "source": [
    "Looking at the total mass of the cluster"
   ]
  },
  {
   "cell_type": "code",
   "execution_count": null,
   "metadata": {},
   "outputs": [],
   "source": [
    "clus_1.star_systems['systemMass'].sum()"
   ]
  },
  {
   "cell_type": "code",
   "execution_count": null,
   "metadata": {},
   "outputs": [],
   "source": [
    "np.unique(clus_1.star_systems['phase'])"
   ]
  },
  {
   "cell_type": "code",
   "execution_count": null,
   "metadata": {},
   "outputs": [],
   "source": []
  },
  {
   "cell_type": "code",
   "execution_count": null,
   "metadata": {
    "scrolled": true
   },
   "outputs": [],
   "source": [
    "clus_1=synthetic.Cluster_w_Binaries(iso1,\n",
    "                                    imf.IMFSalpeter1955(multiplicity=\n",
    "                                                        multiplicity.MultiplicityResolvedDK()),\n",
    "                                    2000, ifmr=ifmr.IFMR_Spera15())\n",
    "clus_2=synthetic.ResolvedCluster(iso2,\n",
    "                                 imf.IMFSalpeter1955(multiplicity=\n",
    "                                                     multiplicity.MultiplicityResolvedDK()),\n",
    "                                 2000, ifmr=ifmr.IFMR_Spera15())"
   ]
  }
 ],
 "metadata": {
  "kernelspec": {
   "display_name": "astroconda",
   "language": "python",
   "name": "astroconda"
  },
  "language_info": {
   "codemirror_mode": {
    "name": "ipython",
    "version": 3
   },
   "file_extension": ".py",
   "mimetype": "text/x-python",
   "name": "python",
   "nbconvert_exporter": "python",
   "pygments_lexer": "ipython3",
   "version": "3.7.10"
  }
 },
 "nbformat": 4,
 "nbformat_minor": 4
}
