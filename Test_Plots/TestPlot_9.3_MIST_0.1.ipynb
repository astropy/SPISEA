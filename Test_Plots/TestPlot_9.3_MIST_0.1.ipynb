{
 "cells": [
  {
   "cell_type": "markdown",
   "metadata": {},
   "source": [
    "## Testing BPASS isochrone at $10^{9.3}$ Years of Age and Comparing MIST Models $0.1Z_{\\odot}$\n",
    "In this BPASS isochrone and cluster plot, I go over the BPASS isochrone for $10^{9.3}$ years age, a tenth of solar metallicity, AKs=0.0, and distance of 1000 parsecs from Earth. From the isochrone and cluster, we discuss several plots such as the log_g frequency distribution of the isochrone, the color magnitude diagram (B-V vs M_V), and the current-mass luminosity relationship of the cluster."
   ]
  },
  {
   "cell_type": "markdown",
   "metadata": {},
   "source": [
    "I use the MISTv.1 for comparison since only MISTv.1 and BPASS can account for non-solar metallicities."
   ]
  },
  {
   "cell_type": "markdown",
   "metadata": {},
   "source": [
    "## This is for tutorial as well as debugging and demonstration purposes."
   ]
  },
  {
   "cell_type": "code",
   "execution_count": null,
   "metadata": {},
   "outputs": [
    {
     "name": "stderr",
     "output_type": "stream",
     "text": [
      "/opt/anaconda3/envs/astroconda/lib/python3.7/site-packages/pysynphot/locations.py:345: UserWarning: Extinction files not found in /g/lu/models/cdbs/extinction\n",
      "  warnings.warn('Extinction files not found in %s' % (extdir, ))\n",
      "/opt/anaconda3/envs/astroconda/lib/python3.7/site-packages/pysynphot/refs.py:125: UserWarning: No thermal tables found, no thermal calculations can be performed. No files found for /g/lu/models/cdbs/mtab/*_tmt.fits\n",
      "  'no thermal calculations can be performed. ' + str(e))\n",
      "/opt/anaconda3/envs/astroconda/lib/python3.7/site-packages/astropy/units/quantity.py:479: RuntimeWarning: invalid value encountered in true_divide\n",
      "  result = super().__array_ufunc__(function, method, *arrays, **kwargs)\n",
      "/u/ryotainagaki/Desktop/PyPopStar/spisea/evolution.py:1807: RuntimeWarning: overflow encountered in power\n",
      "  (1 / cs.au) * un.m)\n",
      "/opt/anaconda3/envs/astroconda/lib/python3.7/site-packages/astropy/units/quantity.py:479: RuntimeWarning: divide by zero encountered in true_divide\n",
      "  result = super().__array_ufunc__(function, method, *arrays, **kwargs)\n"
     ]
    },
    {
     "name": "stdout",
     "output_type": "stream",
     "text": [
      "[]\n",
      "[]\n",
      "Changing to logg=5.00 for T= 26501 logg=5.93\n",
      "Changing to logg=5.00 for T= 20895 logg=7.17\n",
      "Changing to logg=2.50 for T= 12169 logg=1.95\n",
      "Changing to logg=5.00 for T= 18919 logg=6.90\n",
      "Changing to logg=5.00 for T= 21043 logg=7.20\n",
      "Changing to logg=5.00 for T= 20406 logg=6.94\n",
      "Changing to logg=5.00 for T= 20510 logg=7.13\n",
      "Changing to logg=5.00 for T= 23300 logg=6.77\n",
      "Changing to logg=5.00 for T= 21555 logg=7.08\n",
      "Changing to logg=5.00 for T= 23700 logg=6.80\n",
      "Changing to logg=5.00 for T= 19488 logg=6.97\n",
      "Changing to T= 50000 for T= 73500 logg=5.90\n",
      "Changing to logg=5.00 for T= 73500 logg=5.90\n",
      "Changing to logg=5.00 for T= 21446 logg=6.93\n",
      "Changing to logg=5.00 for T= 37166 logg=7.13\n",
      "Changing to logg=5.00 for T= 20153 logg=6.92\n",
      "Changing to logg=5.00 for T= 19976 logg=6.88\n",
      "Changing to logg=2.00 for T=  9954 logg=1.62\n",
      "Changing to logg=5.00 for T= 20685 logg=7.13\n",
      "Changing to logg=5.00 for T= 20567 logg=6.98\n",
      "Changing to logg=5.00 for T= 20815 logg=7.18\n",
      "Changing to logg=5.00 for T= 21461 logg=7.15\n",
      "Changing to logg=5.00 for T= 44356 logg=7.09\n",
      "Changing to logg=5.00 for T= 19714 logg=6.96\n",
      "Changing to logg=5.00 for T= 20066 logg=7.06\n",
      "Changing to logg=5.00 for T= 20435 logg=7.07\n",
      "Changing to logg=5.00 for T= 20714 logg=6.86\n",
      "Changing to logg=5.00 for T= 20676 logg=6.93\n",
      "Changing to logg=5.00 for T= 21459 logg=7.14\n",
      "Changing to logg=5.00 for T= 21284 logg=7.20\n",
      "Changing to logg=5.00 for T= 21261 logg=7.14\n",
      "Changing to logg=5.00 for T= 19956 logg=6.89\n",
      "Changing to logg=4.00 for T= 35409 logg=3.94\n",
      "Changing to logg=5.00 for T= 18462 logg=6.81\n",
      "Changing to logg=5.00 for T= 19952 logg=6.85\n",
      "Changing to logg=5.00 for T= 20775 logg=7.05\n",
      "Changing to T= 50000 for T= 70513 logg=5.98\n",
      "Changing to logg=5.00 for T= 70513 logg=5.98\n",
      "Changing to logg=5.00 for T= 19614 logg=6.94\n",
      "Changing to logg=5.00 for T= 18710 logg=6.87\n",
      "Changing to logg=5.00 for T= 19602 logg=6.96\n",
      "Changing to logg=5.00 for T= 20735 logg=7.02\n",
      "Changing to logg=5.00 for T= 20872 logg=7.00\n",
      "Changing to logg=5.00 for T= 21822 logg=7.09\n",
      "Changing to logg=5.00 for T= 22614 logg=7.26\n",
      "Changing to logg=5.00 for T= 21031 logg=7.10\n",
      "Changing to logg=5.00 for T= 19498 logg=6.97\n",
      "Changing to logg=5.00 for T= 20536 logg=7.03\n",
      "Changing to logg=5.00 for T= 20912 logg=6.93\n",
      "Changing to logg=5.00 for T= 19610 logg=6.86\n",
      "Changing to logg=5.00 for T= 19588 logg=6.92\n",
      "Changing to logg=5.00 for T= 25718 logg=5.85\n",
      "Changing to logg=5.00 for T= 19139 logg=6.85\n",
      "Changing to logg=5.00 for T= 28452 logg=5.62\n",
      "Changing to logg=5.00 for T= 20672 logg=6.94\n",
      "Changing to T=  2300 for T=   923 logg=4.44\n",
      "Changing to T=  2300 for T=  1847 logg=4.44\n",
      "Changing to T=  2300 for T=  1847 logg=4.44\n",
      "Changing to T=  2300 for T=  1385 logg=4.44\n",
      "Changing to logg=5.00 for T= 26658 logg=5.98\n",
      "Changing to logg=5.00 for T= 21534 logg=7.02\n",
      "Changing to T=  2300 for T=  1847 logg=4.44\n",
      "Changing to logg=1.50 for T=  8257 logg=1.39\n",
      "Changing to logg=5.00 for T= 21461 logg=7.01\n",
      "Changing to logg=5.00 for T= 19368 logg=6.97\n",
      "Changing to logg=5.00 for T= 19555 logg=6.88\n",
      "Changing to logg=5.00 for T= 19829 logg=6.92\n",
      "Changing to logg=5.00 for T= 20381 logg=6.80\n",
      "Changing to logg=5.00 for T= 26657 logg=5.96\n",
      "Changing to T=  2300 for T=  1385 logg=4.44\n",
      "Changing to T=  2300 for T=  1385 logg=4.44\n",
      "Changing to T=  2300 for T=  1847 logg=4.44\n"
     ]
    }
   ],
   "source": [
    "import spisea\n",
    "from spisea import evolution, synthetic\n",
    "import math\n",
    "# Check if the evolution class works fine\n",
    "iso1=synthetic.Isochrone_Binary(9.3, 0.0, 1000, math.log10(1/10), mass_sampling=1)"
   ]
  },
  {
   "cell_type": "markdown",
   "metadata": {},
   "source": [
    "As a sanity check, I would like to make sure that, for primary stars, we only have (from the isochrone) designated phase 5 stars ( anything that is not a compact remnant), white dwarves (models with phase 101), and non-white dwarf compact remnants are determined to be of phase 102, 103. Also make sure that our secondary stars are non-compact-remnant, white dwarves, or are merged. Merged secondaries have phase of -99."
   ]
  },
  {
   "cell_type": "code",
   "execution_count": null,
   "metadata": {},
   "outputs": [],
   "source": [
    "import numpy as np\n",
    "np.all([(x == 5 or x == 101 or x==102 or x==103) for\n",
    "        x in iso1.primaries['phase']])"
   ]
  },
  {
   "cell_type": "code",
   "execution_count": null,
   "metadata": {},
   "outputs": [],
   "source": [
    "np.all([(x == 5 or x == 101 or x==102 or x==103) for\n",
    "        x in iso1.singles['phase']])"
   ]
  },
  {
   "cell_type": "code",
   "execution_count": null,
   "metadata": {},
   "outputs": [],
   "source": [
    "np.all([(x == 5 or x == 101 or x==102 or x==103 or x==-99) for\n",
    "        x in iso1.secondaries['phase']])"
   ]
  },
  {
   "cell_type": "markdown",
   "metadata": {},
   "source": [
    "Find the maximum, mean, and median  values of logg (cgs) for primaries, single stars, and secondaries. "
   ]
  },
  {
   "cell_type": "code",
   "execution_count": null,
   "metadata": {},
   "outputs": [],
   "source": [
    "np.max(iso1.singles['logg'])"
   ]
  },
  {
   "cell_type": "code",
   "execution_count": null,
   "metadata": {},
   "outputs": [],
   "source": [
    "np.max(np.nan_to_num(iso1.primaries['logg'], -np.inf))"
   ]
  },
  {
   "cell_type": "code",
   "execution_count": null,
   "metadata": {},
   "outputs": [],
   "source": [
    "np.max(np.nan_to_num(iso1.secondaries['logg'], -np.inf))"
   ]
  },
  {
   "cell_type": "code",
   "execution_count": null,
   "metadata": {},
   "outputs": [],
   "source": [
    "np.mean(iso1.singles['logg'][np.where(~np.isnan(iso1.singles['logg']))])"
   ]
  },
  {
   "cell_type": "code",
   "execution_count": null,
   "metadata": {},
   "outputs": [],
   "source": [
    "np.mean(iso1.primaries['logg'][np.where(~np.isnan(iso1.primaries['logg']))])"
   ]
  },
  {
   "cell_type": "code",
   "execution_count": null,
   "metadata": {},
   "outputs": [],
   "source": [
    "np.mean(iso1.secondaries['logg'][np.where(~np.isnan(iso1.secondaries['logg']))])"
   ]
  },
  {
   "cell_type": "code",
   "execution_count": null,
   "metadata": {},
   "outputs": [],
   "source": [
    "np.median(iso1.singles['logg'][np.where(~np.isnan(iso1.singles['logg']))])"
   ]
  },
  {
   "cell_type": "code",
   "execution_count": null,
   "metadata": {},
   "outputs": [],
   "source": [
    "np.median(iso1.primaries['logg'][np.where(~np.isnan(iso1.primaries['logg']))])"
   ]
  },
  {
   "cell_type": "code",
   "execution_count": null,
   "metadata": {},
   "outputs": [],
   "source": [
    "np.median([x for x in iso1.secondaries['logg'] if np.isfinite(x)])"
   ]
  },
  {
   "cell_type": "code",
   "execution_count": null,
   "metadata": {},
   "outputs": [],
   "source": [
    "import matplotlib.pyplot as plt\n",
    "plt.title(\"Histogram of logg values (secondaries) of BPASS isochrone\")\n",
    "plt.hist(np.array([x for x in iso1.secondaries['logg'] if np.isfinite(x)]),\n",
    "         np.arange(-10, 30, 1))\n",
    "plt.xlabel(\"logg in cgs\")"
   ]
  },
  {
   "cell_type": "code",
   "execution_count": null,
   "metadata": {},
   "outputs": [],
   "source": [
    "plt.title(\"Histogram of logg values (primaries) of BPASS isochrone\")\n",
    "plt.hist(np.array([x for x in iso1.primaries['logg'] if np.isfinite(x)]),\n",
    "         np.arange(-10, 30, 1))\n",
    "plt.xlabel(\"logg in cgs\")"
   ]
  },
  {
   "cell_type": "code",
   "execution_count": null,
   "metadata": {},
   "outputs": [],
   "source": [
    "plt.title(\"Histogram of logg values single stars of BPASS isochrone\")\n",
    "plt.hist(np.array([x for x in iso1.singles['logg'] if np.isfinite(x)]), np.arange(0, 30, 1))\n",
    "plt.xlabel(\"logg in cgs\")"
   ]
  },
  {
   "cell_type": "markdown",
   "metadata": {},
   "source": [
    "Plot the CMD of the isochrones at 0.1Z_solar and 10^9.3 years of age for **high** surface graivity (log-g >= 5 cgs) type stars.\n",
    "\n",
    "Account for distance modulus for dist = 1000 pc "
   ]
  },
  {
   "cell_type": "code",
   "execution_count": null,
   "metadata": {},
   "outputs": [],
   "source": [
    "indices1= np.where(iso1.singles['logg'] > 5)[0]\n",
    "indices2= np.where(iso1.primaries['logg'] > 5)[0]\n",
    "indices3= np.where(iso1.secondaries['logg'] > 5)[0]\n",
    "plt.plot(iso1.primaries['m_ubv_B'][indices2] - iso1.primaries[\"m_ubv_V\"][indices2],\n",
    "         iso1.primaries[\"m_ubv_V\"][indices2] - 5 * np.log10(1000/10), \"r.\")\n",
    "plt.plot(iso1.secondaries['m_ubv_B'][indices3] - iso1.secondaries[\"m_ubv_V\"][indices3],\n",
    "         iso1.secondaries[\"m_ubv_V\"][indices3] - 5 * np.log10(1000/10), \"r.\")\n",
    "plt.plot(iso1.singles['m_ubv_B'][indices1] - iso1.singles[\"m_ubv_V\"][indices1],\n",
    "         iso1.singles[\"m_ubv_V\"][indices1] - 5 * np.log10(1000/10), \"r.\", label=\"BPASS isochrone\")\n",
    "plt.xlabel(\"B-V\")\n",
    "plt.ylabel(\"M_V\")\n",
    "plt.title(\"Color magnitude Diagram of Isochrones at 0.1Z_solar and \" +\n",
    "          \"10**9.3 years age \\n (logg > 5 stars)\")\n",
    "plt.gca().invert_yaxis()\n",
    "plt.legend()"
   ]
  },
  {
   "cell_type": "markdown",
   "metadata": {},
   "source": [
    "Are we getting white dwarves for the bottom left corner of the plot"
   ]
  },
  {
   "cell_type": "code",
   "execution_count": null,
   "metadata": {},
   "outputs": [],
   "source": [
    "indices2= np.where((iso1.primaries['logg'] > 5) &\n",
    "                   (iso1.primaries['m_ubv_B'] - iso1.primaries['m_ubv_V'] > -0.4) &\n",
    "                   (iso1.primaries['m_ubv_B'] - iso1.primaries['m_ubv_V'] < -0.2))[0]"
   ]
  },
  {
   "cell_type": "code",
   "execution_count": null,
   "metadata": {},
   "outputs": [],
   "source": [
    "np.unique(iso1.primaries[indices2]['phase'])"
   ]
  },
  {
   "cell_type": "markdown",
   "metadata": {},
   "source": [
    "Hmm, I think those are stars that are going to be white dwarves very soon or may unintentionally be brown dwarves. At least according to HOKI's criterion for what is a white dwarf or not. At the very least, at least the stars we just saw were low mass stars so they should be **LOW** on the CMD"
   ]
  },
  {
   "cell_type": "code",
   "execution_count": null,
   "metadata": {},
   "outputs": [],
   "source": [
    "iso2=synthetic.IsochronePhot(9.3, 0.0, 1000,\n",
    "                             math.log10(1 / 10), recomp=True)\n",
    "# New MISTv.1 isochrone for same metallicity"
   ]
  },
  {
   "cell_type": "markdown",
   "metadata": {},
   "source": [
    "Looking at the distribution of logg values. for the stars in the Parsec isochrone."
   ]
  },
  {
   "cell_type": "code",
   "execution_count": null,
   "metadata": {},
   "outputs": [],
   "source": [
    "np.max(iso2.points['logg'])"
   ]
  },
  {
   "cell_type": "code",
   "execution_count": null,
   "metadata": {},
   "outputs": [],
   "source": [
    "import matplotlib.pyplot as plt\n",
    "plt.xlabel(\"logg in cgs\")\n",
    "plt.title(\"Histogram of logg values of stars in the Parsec isochrone\")\n",
    "plt.hist(np.array([x for x in iso2.points['logg'] if np.isfinite(x)]),\n",
    "         np.arange(-10, 30, 1))"
   ]
  },
  {
   "cell_type": "code",
   "execution_count": null,
   "metadata": {},
   "outputs": [],
   "source": [
    "np.median(iso2.points['logg'])"
   ]
  },
  {
   "cell_type": "code",
   "execution_count": null,
   "metadata": {},
   "outputs": [],
   "source": [
    "np.mean(iso2.points['logg'])"
   ]
  },
  {
   "cell_type": "code",
   "execution_count": null,
   "metadata": {},
   "outputs": [],
   "source": [
    "from spisea import imf\n",
    "from spisea.imf import imf, multiplicity\n",
    "from spisea import ifmr"
   ]
  },
  {
   "cell_type": "markdown",
   "metadata": {},
   "source": [
    "Make the clusters corresponding to the binary star isochrone and the MISTv.1 isochrone"
   ]
  },
  {
   "cell_type": "code",
   "execution_count": null,
   "metadata": {},
   "outputs": [],
   "source": [
    "clus_1=synthetic.Cluster_w_Binaries(iso1,\n",
    "                                    imf.IMFSalpeter1955(multiplicity=multiplicity.MultiplicityResolvedDK()),\n",
    "                                    20000, ifmr=ifmr.IFMR_Spera15())\n",
    "clus_2=synthetic.ResolvedCluster(iso2,\n",
    "                                 imf.IMFSalpeter1955(multiplicity=multiplicity.MultiplicityResolvedDK()),\n",
    "                                 20000, ifmr=ifmr.IFMR_Spera15())"
   ]
  },
  {
   "cell_type": "markdown",
   "metadata": {},
   "source": [
    "Now let's visualize the isochrone we have created so far with a color magnitude diagram. There we can see the end of main sequence and perhaps the M type"
   ]
  },
  {
   "cell_type": "code",
   "execution_count": null,
   "metadata": {},
   "outputs": [],
   "source": [
    "# Taking a look at the Binary Cluster vs Default Settings cluster Observer's HR Diagram\n",
    "# Remember to use a distance modulus!\n",
    "plt.plot(iso1.primaries['m_ubv_B'] - iso1.primaries[\"m_ubv_V\"],\n",
    "         iso1.primaries[\"m_ubv_V\"] - 5 * np.log10(100), \"r.\")\n",
    "plt.plot(iso1.secondaries['m_ubv_B'] - iso1.secondaries[\"m_ubv_V\"],\n",
    "         iso1.secondaries[\"m_ubv_V\"] - 5 * np.log10(100), \"r.\")\n",
    "plt.plot(iso1.singles['m_ubv_B'] - iso1.singles[\"m_ubv_V\"],\n",
    "         iso1.singles[\"m_ubv_V\"] - 5 * np.log10(100),\n",
    "         \"r.\", label=\"BPASS isochrone\")\n",
    "plt.plot(iso2.points['m_ubv_B'] - iso2.points[\"m_ubv_V\"],\n",
    "         iso2.points[\"m_ubv_V\"] - 5 * np.log10(100), \"b+\",\n",
    "         label=\"MISTv.1 isochrone\", alpha = 0.2)\n",
    "plt.xlabel(\"B-V\")\n",
    "plt.ylabel(\"M_V\")\n",
    "plt.title(\"Color magnitude Diagram of Isochrones at 0.1Z_solar and 10**9.3 years age\")\n",
    "plt.gca().invert_yaxis()\n",
    "plt.legend()"
   ]
  },
  {
   "cell_type": "markdown",
   "metadata": {},
   "source": [
    "We do have several outliers but otherwise the pattern does not seem too terribly off from the Parsec isochrone's shape. Now I look at the primary stars and see if there are any problems caused."
   ]
  },
  {
   "cell_type": "code",
   "execution_count": null,
   "metadata": {},
   "outputs": [],
   "source": [
    "# Taking a look at the Binary Cluster vs Default Settings cluster Observer's HR Diagram\n",
    "# Remember to use a distance modulus!\n",
    "plt.plot(iso1.primaries['m_ubv_B'] - iso1.primaries[\"m_ubv_V\"],\n",
    "         iso1.primaries[\"m_ubv_V\"] - 5 * np.log10(1000/10), \"r+\",\n",
    "         label=\"BPASS isochrone\", alpha =0.7)\n",
    "plt.xlabel(\"B-V\")\n",
    "plt.ylabel(\"M_V\")\n",
    "plt.title(\"Color magnitude Diagram of Isochrones at 0.1Z_solar and \\n\" +\n",
    "          \"10**9.3 years age (Primary stars only)\")\n",
    "plt.gca().invert_yaxis()\n",
    "plt.legend()"
   ]
  },
  {
   "cell_type": "code",
   "execution_count": null,
   "metadata": {},
   "outputs": [],
   "source": [
    "plt.plot(iso1.secondaries['m_ubv_B'] - iso1.secondaries[\"m_ubv_V\"],\n",
    "         iso1.secondaries[\"m_ubv_V\"] - 5 * np.log10(1000/10), \"r+\",\n",
    "         label=\"BPASS isochrone\", alpha =0.7)\n",
    "plt.xlabel(\"B-V\")\n",
    "plt.ylabel(\"M_V\")\n",
    "plt.title(\"Color magnitude Diagram of Isochrones at 0.1Z_solar and\\n\" +\n",
    "          \" 10**9.3 years age (secondaries stars only)\")\n",
    "plt.gca().invert_yaxis()\n",
    "plt.legend()"
   ]
  },
  {
   "cell_type": "code",
   "execution_count": null,
   "metadata": {},
   "outputs": [],
   "source": [
    "# Plotting HR diagrams\n",
    "plt.plot(np.log10(iso1.primaries['Teff']), np.log10(iso1.primaries[\"L\"]),\n",
    "         \"r.\", alpha =0.3)\n",
    "plt.plot(np.log10(iso1.secondaries['Teff']), np.log10(iso1.secondaries[\"L\"]),\n",
    "         \"r.\", alpha =0.3)\n",
    "plt.plot(np.log10(iso1.singles['Teff']), np.log10(iso1.singles[\"L\"]), \"r.\",\n",
    "         label=\"BPASS isochrone\", alpha =0.3)\n",
    "plt.plot(np.log10(iso2.points['Teff']), np.log10(iso2.points[\"L\"]), \"b+\",\n",
    "         label=\"MISTv.1\", alpha =0.1)\n",
    "plt.xlabel(\"log($T_{eff}$ in Kelvin)\")\n",
    "plt.ylabel(\"log(L in Watts)\")\n",
    "plt.title(\"HR Diagram of Isochrones at 0.1Z_solar and 10**9.3 years age\")\n",
    "plt.gca().invert_xaxis()\n",
    "plt.legend()\n",
    "# Rough pattern seems to fit. What's that line?"
   ]
  },
  {
   "cell_type": "markdown",
   "metadata": {},
   "source": [
    "A good sign here is that there are plenty of compact remnant (that means good number of stars have gone through their main-sequence and post-main sequence). I also notice stars turning to the red giant branch. This is going to be really important when we decide to use the clusters as reference for finding ages of actual star clusters."
   ]
  },
  {
   "cell_type": "code",
   "execution_count": null,
   "metadata": {},
   "outputs": [],
   "source": [
    "# Plot the mass-luminosity relationship\n",
    "from astropy import constants as cs\n",
    "plt.plot(np.log10(iso1.primaries['mass_current']),\n",
    "         np.log10(iso1.primaries[\"L\"] / cs.L_sun), \"r.\")\n",
    "plt.plot(np.log10(iso1.secondaries['mass_current']),\n",
    "         np.log10(iso1.secondaries[\"L\"] / cs.L_sun), \"r.\")\n",
    "plt.plot(np.log10(iso1.singles['mass_current']),\n",
    "         np.log10(iso1.singles[\"L\"] / cs.L_sun),\n",
    "         \"r.\", label=\"BPASS isochrone\")\n",
    "plt.plot(np.log10(iso2.points['mass_current']),\n",
    "         np.log10(iso2.points[\"L\"] / cs.L_sun),\n",
    "         \"b+\", label=\"MISTv.1\", alpha =0.2)\n",
    "plt.xlabel(\"log(Current Mass in solar masses)\")\n",
    "plt.ylabel(\"log(L/L_solar)\")\n",
    "plt.title(\"log Mass-logL of Isochrones at 0.1Z_solar and 10**9.3 years age\")\n",
    "plt.legend()\n",
    "# Rough pattern seems to fit. What's that line?"
   ]
  },
  {
   "cell_type": "markdown",
   "metadata": {},
   "source": [
    "Which table is causing that line segment at around log10(L/L_sun)=-3?\n",
    "Let's find out.\n",
    "First I take a look at the shape of the primary stars' plot for log current mass log L."
   ]
  },
  {
   "cell_type": "code",
   "execution_count": null,
   "metadata": {},
   "outputs": [],
   "source": [
    "plt.plot(np.log10(iso1.primaries['mass_current']),\n",
    "         np.log10(iso1.primaries[\"L\"] / cs.L_sun),\n",
    "         \"r.\", label=\"BPASS isochrone (primaries)\")\n",
    "plt.xlabel(\"log(Current Mass in solar masses)\")\n",
    "plt.ylabel(\"log(L/L_solar)\")\n",
    "plt.title(\"log Mass-logL of Isochrones at 0.1Z_solar and 10**9.3 years age\")\n",
    "plt.legend()"
   ]
  },
  {
   "cell_type": "markdown",
   "metadata": {},
   "source": [
    "Which type of secondary star is it that is causing this strange pattern that looks like a line lingering in the bottom of the mass luminosity plot. I will examine the region where luminosity of the star is about $10^{-3.2} L_{\\odot}$"
   ]
  },
  {
   "cell_type": "code",
   "execution_count": null,
   "metadata": {},
   "outputs": [],
   "source": [
    "bad_line = iso1.primaries[np.where((np.log10(iso1.primaries[\"L\"]/cs.L_sun)<-2.5) &\n",
    "                                   (np.log10(iso1.primaries[\"L\"]/cs.L_sun)>=-3.3))[0]]"
   ]
  },
  {
   "cell_type": "code",
   "execution_count": null,
   "metadata": {},
   "outputs": [],
   "source": [
    "bad_line"
   ]
  },
  {
   "cell_type": "code",
   "execution_count": null,
   "metadata": {},
   "outputs": [],
   "source": [
    "# Plotting HR diagrams\n",
    "import matplotlib.pyplot as plt\n",
    "bad_line2 = bad_line[np.where(bad_line['phase']==5)[0]]\n",
    "plt.plot(np.log10(bad_line2['Teff']),\n",
    "         np.log10(bad_line2[\"L\"]), \"r.\",label=\"bad BPASS cluster line\", alpha =0.3)\n",
    "plt.plot(np.log10(iso2.points['Teff']),\n",
    "         np.log10(iso2.points[\"L\"]), \"b+\", label=\"MISTv.1\", alpha =0.1)\n",
    "plt.xlabel(\"log(T in Kelvin)\")\n",
    "plt.ylabel(\"log(L in Watts)\")\n",
    "plt.title(\"HR Diagram of 'bad line' at 0.1Z_solar and\" +\n",
    "          \" 10**9.3 years age \\n juxtaposed with MIST v1 isochrone\")\n",
    "plt.gca().invert_xaxis()\n",
    "plt.legend()"
   ]
  },
  {
   "cell_type": "markdown",
   "metadata": {},
   "source": [
    "What sorts of characteristics (logg, Teff, L, mass) can be causing it? Let's find out"
   ]
  },
  {
   "cell_type": "code",
   "execution_count": null,
   "metadata": {},
   "outputs": [],
   "source": [
    "np.unique(bad_line['L'])"
   ]
  },
  {
   "cell_type": "code",
   "execution_count": null,
   "metadata": {},
   "outputs": [],
   "source": [
    "np.unique(bad_line['Teff'])"
   ]
  },
  {
   "cell_type": "code",
   "execution_count": null,
   "metadata": {},
   "outputs": [],
   "source": [
    "np.unique(bad_line['logg'])"
   ]
  },
  {
   "cell_type": "code",
   "execution_count": null,
   "metadata": {},
   "outputs": [],
   "source": [
    "np.unique(bad_line['mass'])"
   ]
  },
  {
   "cell_type": "code",
   "execution_count": null,
   "metadata": {},
   "outputs": [],
   "source": [
    "np.unique(bad_line['phase'])"
   ]
  },
  {
   "cell_type": "markdown",
   "metadata": {},
   "source": [
    "It turns out that the line was caused by some compact remnants that were lingering around from the NEWSECMODS. In future versions of the stellar evolution model, I may obtain an additional program from the BPASS creators to match the types of compact remnants from the NEWSECMODS."
   ]
  },
  {
   "cell_type": "code",
   "execution_count": null,
   "metadata": {},
   "outputs": [],
   "source": [
    "# Plot the mass-luminosity relationship\n",
    "plt.figure(figsize = (7.5, 7.5))\n",
    "\n",
    "plt.plot((clus_1.star_systems['mass_current']),\n",
    "         np.log10(clus_1.star_systems[\"L\"]),\n",
    "         \"r.\", label=\"Cluster made from BPASS\", alpha =0.3)\n",
    "plt.plot((clus_1.companions['mass_current']),\n",
    "         np.log10(clus_1.companions[\"L\"]), \"r.\", alpha = 0.3)\n",
    "plt.plot((clus_2.star_systems['mass_current']),\n",
    "         np.log10(clus_2.star_systems[\"L\"]),\n",
    "         \"b.\", label=\"Cluster made from MISTv.1\", alpha =0.1)\n",
    "plt.plot((clus_2.companions['mass_current']),\n",
    "         np.log10(clus_2.companions[\"L\"]), \"b.\", alpha = 0.1)\n",
    "plt.xlabel(\"Current Mass in solar masses\")\n",
    "plt.ylabel(\"log(L in Watts)\")\n",
    "plt.title(\"Mass-logL of Cluster at 0.1Z_solar and 10**9.3 years age\")\n",
    "plt.legend()\n",
    "# Rough pattern seems to fit. What's that line?"
   ]
  },
  {
   "cell_type": "markdown",
   "metadata": {},
   "source": [
    "Where is that hook coming from?"
   ]
  },
  {
   "cell_type": "code",
   "execution_count": null,
   "metadata": {},
   "outputs": [],
   "source": [
    "np.unique(iso1.primaries[np.where(np.log10(iso1.primaries[\"L\"]) <= 25)]['phase'])"
   ]
  },
  {
   "cell_type": "code",
   "execution_count": null,
   "metadata": {},
   "outputs": [],
   "source": [
    "len(iso1.primaries[np.where((np.log10(iso1.primaries[\"L\"]) <= 25) &\n",
    "                            (iso1.primaries[\"phase\"] > 5))])"
   ]
  },
  {
   "cell_type": "code",
   "execution_count": null,
   "metadata": {},
   "outputs": [],
   "source": [
    "len(iso1.primaries[np.where((np.log10(iso1.primaries[\"L\"])<=25) &\n",
    "                            (iso1.primaries[\"phase\"]==101))])"
   ]
  },
  {
   "cell_type": "markdown",
   "metadata": {},
   "source": [
    "OK. It makes sense that our compact remnants are causing this. (Remember, there really is no significant fusion in the insides of neutron stars or white dwarves."
   ]
  },
  {
   "cell_type": "code",
   "execution_count": null,
   "metadata": {},
   "outputs": [],
   "source": [
    "# Plot the mass-luminosity relationship\n",
    "plt.figure(figsize = (7.5, 7.5))\n",
    "plt.plot(clus_1.star_systems['mass_current'], np.log10(clus_1.star_systems[\"L\"]),\n",
    "         \"r.\", label=\"Synthetic Cluster made from BPASS (Star Systems)\", alpha =1)\n",
    "plt.xlabel(\"log Current Mass in solar masses\")\n",
    "plt.ylabel(\"log(L in Watts)\")\n",
    "plt.title(\"log-Mass-logL of Cluster at 0.1Z_solar and 10**9.3 years age\")\n",
    "plt.legend()\n",
    "# Rough pattern seems to fit. What's that line?"
   ]
  },
  {
   "cell_type": "code",
   "execution_count": null,
   "metadata": {},
   "outputs": [],
   "source": [
    "# Plot the mass-luminosity relationship\n",
    "plt.plot(clus_1.companions['mass_current'], np.log10(clus_1.companions[\"L\"]),\n",
    "         \"r.\", label=\"Synthetic Cluster made from BPASS (Companions)\", alpha =1)\n",
    "plt.xlabel(\"log Current Mass in solar masses\")\n",
    "plt.ylabel(\"log(L in Watts)\")\n",
    "plt.title(\"log-Mass-logL of Cluster at 0.1Z_solar and 10**9.3 years age\")\n",
    "plt.legend()\n",
    "# Rough pattern seems to fit. What's that line?"
   ]
  },
  {
   "cell_type": "markdown",
   "metadata": {},
   "source": [
    "Now go back to the shape of the clusters' Color magnitude diagrams."
   ]
  },
  {
   "cell_type": "code",
   "execution_count": null,
   "metadata": {},
   "outputs": [],
   "source": [
    "np.unique(clus_1.companions['log_a'])"
   ]
  },
  {
   "cell_type": "code",
   "execution_count": null,
   "metadata": {},
   "outputs": [],
   "source": [
    "# Taking a look at the Binary Cluster vs Default Settings cluster Observer's HR Diagram\n",
    "# Remember to use a distance modulus!\n",
    "plt.figure(figsize = (7.5, 7.5))\n",
    "plt.plot(clus_1.star_systems['m_ubv_B'] - clus_1.star_systems[\"m_ubv_V\"],\n",
    "         clus_1.star_systems[\"m_ubv_V\"] - 5 * np.log10(100),\n",
    "         \"r.\",label=\"BPASS\", alpha =0.3)\n",
    "plt.plot(clus_2.star_systems['m_ubv_B'] - clus_2.star_systems[\"m_ubv_V\"],\n",
    "         clus_2.star_systems[\"m_ubv_V\"] - 5 * np.log10(100), \"b+\",\n",
    "         label=\"MISTv.1\", alpha=0.1)\n",
    "plt.xlabel(\"B-V\")\n",
    "plt.ylabel(\"M_V\")\n",
    "plt.title(\"Color magnitude Diagram of clusters at 0.1Z_solar and 10**9.3 years age\")\n",
    "plt.gca().invert_yaxis()\n",
    "plt.legend()"
   ]
  },
  {
   "cell_type": "code",
   "execution_count": null,
   "metadata": {},
   "outputs": [],
   "source": [
    "plt.figure(figsize = (7.5, 7.5))\n",
    "plt.plot(np.log10(clus_1.companions['Teff']), np.log10(clus_1.companions[\"L\"]),\n",
    "         \"r.\",label=\"BPASS cluster\", alpha=0.5)\n",
    "plt.plot(np.log10(clus_2.companions['Teff']),\n",
    "         np.log10(clus_2.companions[\"L\"]), \"b+\", alpha=0.15)\n",
    "plt.plot(np.log10(clus_1.star_systems['Teff']),\n",
    "         np.log10(clus_1.star_systems[\"L\"]), \"r.\", alpha=0.5)\n",
    "plt.plot(np.log10(clus_2.star_systems['Teff']),\n",
    "         np.log10(clus_2.star_systems[\"L\"]), \"b+\",\n",
    "         label=\"MISTv.1 cluster\", alpha=0.15)\n",
    "plt.xlabel(\"log($T_{eff}$ in Kelvin)\")\n",
    "plt.ylabel(\"log(L in Watts)\")\n",
    "plt.title(\"HR Diagram of clusters at 0.1Z_solar \\n and 10**9.3 years age\")\n",
    "plt.gca().invert_xaxis()\n",
    "plt.legend()"
   ]
  },
  {
   "cell_type": "markdown",
   "metadata": {},
   "source": [
    "If I look at the HR Diagram, I do see deviation with respects to the MIST line for some of the brighter stars, but I see an overall good trend with the main-sequence turnoff. Also, I see the compact remnants where they should be given my setup."
   ]
  },
  {
   "cell_type": "markdown",
   "metadata": {},
   "source": [
    "Looking at which stars are the white dwarves?"
   ]
  },
  {
   "cell_type": "code",
   "execution_count": null,
   "metadata": {},
   "outputs": [],
   "source": [
    "import numpy as np\n",
    "np.where(clus_1.star_systems['phase'] == 101.0)[0]"
   ]
  },
  {
   "cell_type": "markdown",
   "metadata": {},
   "source": [
    "Do I see any black holes?"
   ]
  },
  {
   "cell_type": "code",
   "execution_count": null,
   "metadata": {},
   "outputs": [],
   "source": [
    "np.where(clus_1.star_systems['phase'] == 103.0)[0]"
   ]
  },
  {
   "cell_type": "markdown",
   "metadata": {},
   "source": [
    "Neutron Stars?"
   ]
  },
  {
   "cell_type": "code",
   "execution_count": null,
   "metadata": {},
   "outputs": [],
   "source": [
    "np.where(clus_1.star_systems['phase'] == 102.0)[0]"
   ]
  }
 ],
 "metadata": {
  "kernelspec": {
   "display_name": "astroconda",
   "language": "python",
   "name": "astroconda"
  },
  "language_info": {
   "codemirror_mode": {
    "name": "ipython",
    "version": 3
   },
   "file_extension": ".py",
   "mimetype": "text/x-python",
   "name": "python",
   "nbconvert_exporter": "python",
   "pygments_lexer": "ipython3",
   "version": "3.7.10"
  }
 },
 "nbformat": 4,
 "nbformat_minor": 4
}
