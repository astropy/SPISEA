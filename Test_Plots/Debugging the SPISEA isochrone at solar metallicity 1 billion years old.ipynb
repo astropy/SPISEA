{
 "cells": [
  {
   "cell_type": "markdown",
   "metadata": {},
   "source": [
    "## Testing and Debugging the BPASS isochrone at 10^9 years age.\n",
    "In this BPASS isochrone and cluster plot, I go over the BPASS isochrone for 1 billion years age, solar metallicity, AKs=0.0, and distance of 1000 parsecs from Earth. From the isochrone and cluster, we discuss several plots such as the log_g frequency distribution of the isochrone, the color magnitude diagram (B-V vs M_V), and the current-mass luminosity relationship of the cluster."
   ]
  },
  {
   "cell_type": "markdown",
   "metadata": {},
   "source": [
    "For a sanity check, we can see that the primaries, secondaries, and single stars have phasees of 5 or of 101 or 110 (for the case of compact remnant primary from secondary star models). This is since we haven't identified neutron stars or black holes yet. Stars with phase of -99 exist, and those are the secondary stars that have already merged."
   ]
  },
  {
   "cell_type": "code",
   "execution_count": 1,
   "metadata": {},
   "outputs": [
    {
     "name": "stderr",
     "output_type": "stream",
     "text": [
      "/opt/anaconda3/envs/astroconda/lib/python3.7/site-packages/pysynphot/locations.py:346: UserWarning: Extinction files not found in /g/lu/models/cdbs/extinction\n",
      "  warnings.warn('Extinction files not found in %s' % (extdir, ))\n",
      "/opt/anaconda3/envs/astroconda/lib/python3.7/site-packages/pysynphot/refs.py:125: UserWarning: No thermal tables found, no thermal calculations can be performed. No files found for /g/lu/models/cdbs/mtab/*_tmt.fits\n",
      "  'no thermal calculations can be performed. ' + str(e))\n",
      "/opt/anaconda3/envs/astroconda/lib/python3.7/site-packages/astropy/units/quantity.py:477: RuntimeWarning: invalid value encountered in true_divide\n",
      "  result = super().__array_ufunc__(function, method, *arrays, **kwargs)\n",
      "/u/ryotainagaki/Desktop/PyPopStar/spisea/evolution.py:1771: RuntimeWarning: overflow encountered in power\n",
      "  (1 / cs.au) * un.m)\n",
      "/opt/anaconda3/envs/astroconda/lib/python3.7/site-packages/astropy/table/column.py:1020: RuntimeWarning: invalid value encountered in greater\n",
      "  result = getattr(super(), op)(other)\n",
      "/opt/anaconda3/envs/astroconda/lib/python3.7/site-packages/astropy/table/column.py:1020: RuntimeWarning: invalid value encountered in less_equal\n",
      "  result = getattr(super(), op)(other)\n",
      "/opt/anaconda3/envs/astroconda/lib/python3.7/site-packages/astropy/units/quantity.py:477: RuntimeWarning: divide by zero encountered in true_divide\n",
      "  result = super().__array_ufunc__(function, method, *arrays, **kwargs)\n"
     ]
    },
    {
     "name": "stdout",
     "output_type": "stream",
     "text": [
      "Changing to logg=5.00 for T= 17875 logg=5.24\n",
      "Changing to logg=5.00 for T= 21570 logg=5.64\n",
      "Changing to logg=5.00 for T= 26930 logg=5.65\n",
      "Changing to logg=5.00 for T= 24186 logg=5.42\n",
      "Changing to logg=5.00 for T= 25963 logg=5.80\n",
      "Changing to logg=5.00 for T= 26020 logg=5.81\n",
      "Changing to logg=5.00 for T= 19593 logg=6.97\n",
      "Changing to logg=5.00 for T= 24008 logg=6.91\n",
      "Changing to logg=5.00 for T= 23626 logg=5.99\n",
      "Changing to logg=5.00 for T= 26757 logg=5.79\n",
      "Changing to logg=5.00 for T= 25848 logg=5.79\n",
      "Changing to logg=5.00 for T= 19749 logg=5.03\n",
      "Changing to logg=5.00 for T= 22982 logg=5.76\n",
      "Changing to logg=5.00 for T= 25707 logg=5.88\n",
      "Changing to logg=5.00 for T= 23984 logg=6.88\n",
      "Changing to logg=5.00 for T= 22961 logg=5.92\n",
      "Changing to logg=5.00 for T= 25553 logg=5.87\n",
      "Changing to logg=5.00 for T= 24452 logg=5.99\n",
      "Changing to logg=5.00 for T= 24377 logg=5.87\n",
      "Changing to logg=5.00 for T= 23096 logg=5.56\n",
      "Changing to logg=5.00 for T= 24306 logg=5.43\n",
      "Changing to logg=5.00 for T= 21304 logg=5.48\n",
      "Changing to logg=5.00 for T= 17042 logg=5.14\n",
      "Changing to logg=5.00 for T= 26114 logg=5.72\n",
      "Changing to logg=5.00 for T= 26100 logg=5.77\n",
      "Changing to logg=5.00 for T= 24124 logg=5.48\n",
      "Changing to logg=5.00 for T= 26146 logg=5.79\n",
      "Changing to logg=5.00 for T= 24403 logg=5.91\n",
      "Changing to logg=5.00 for T= 23286 logg=5.78\n",
      "Changing to logg=5.00 for T= 23774 logg=6.99\n",
      "Changing to logg=5.00 for T= 22114 logg=5.26\n",
      "Changing to logg=5.00 for T= 22135 logg=6.94\n",
      "Changing to logg=5.00 for T= 22245 logg=6.65\n",
      "Changing to logg=5.00 for T= 21333 logg=5.59\n",
      "Changing to logg=5.00 for T= 20983 logg=5.17\n",
      "Changing to logg=5.00 for T= 26204 logg=5.71\n",
      "Changing to logg=5.00 for T= 26959 logg=5.63\n",
      "Changing to logg=5.00 for T= 16799 logg=5.12\n",
      "Changing to logg=5.00 for T= 27193 logg=5.64\n",
      "Changing to logg=5.00 for T= 21142 logg=5.20\n",
      "Changing to logg=5.00 for T= 27359 logg=5.67\n",
      "Changing to logg=5.00 for T= 26316 logg=5.57\n",
      "Changing to logg=5.00 for T= 21139 logg=5.58\n",
      "Changing to logg=5.00 for T= 27240 logg=5.65\n",
      "Changing to logg=5.00 for T= 22891 logg=5.32\n",
      "Changing to logg=5.00 for T= 24495 logg=5.62\n",
      "Changing to logg=5.00 for T= 26317 logg=5.76\n",
      "Changing to logg=5.00 for T= 26907 logg=5.63\n",
      "Changing to logg=5.00 for T= 23501 logg=5.37\n",
      "Changing to logg=5.00 for T= 22008 logg=7.09\n",
      "Changing to logg=5.00 for T= 27188 logg=5.67\n",
      "Changing to logg=5.00 for T= 26119 logg=5.75\n",
      "Changing to logg=5.00 for T= 25914 logg=5.89\n",
      "Changing to logg=5.00 for T= 22646 logg=5.73\n",
      "Changing to logg=5.00 for T= 25509 logg=5.94\n",
      "Changing to logg=5.00 for T= 26427 logg=5.72\n",
      "Changing to logg=5.00 for T= 20689 logg=5.14\n",
      "Changing to logg=5.00 for T= 26095 logg=5.78\n",
      "Changing to logg=5.00 for T= 24739 logg=6.19\n",
      "Changing to logg=5.00 for T= 25999 logg=5.76\n",
      "Changing to logg=5.00 for T= 18636 logg=5.32\n",
      "Changing to logg=5.00 for T= 26494 logg=5.69\n",
      "Changing to logg=5.00 for T= 24444 logg=5.91\n",
      "Changing to logg=5.00 for T= 22084 logg=5.78\n",
      "Changing to logg=5.00 for T= 17733 logg=5.24\n",
      "Changing to logg=5.00 for T= 24009 logg=5.86\n",
      "Changing to logg=5.00 for T= 25863 logg=5.74\n",
      "Changing to logg=5.00 for T= 23264 logg=5.77\n",
      "Changing to logg=5.00 for T= 24305 logg=6.01\n",
      "Changing to logg=5.00 for T= 26134 logg=5.73\n",
      "Changing to logg=5.00 for T= 22179 logg=5.92\n",
      "Changing to logg=5.00 for T= 24518 logg=6.01\n",
      "Changing to logg=5.00 for T= 27134 logg=5.64\n",
      "Changing to logg=5.00 for T= 21888 logg=5.45\n",
      "Changing to logg=5.00 for T= 24820 logg=6.17\n",
      "Changing to logg=5.00 for T= 21104 logg=5.60\n",
      "Changing to logg=5.00 for T= 20198 logg=5.51\n",
      "Changing to logg=5.00 for T= 25618 logg=5.53\n",
      "Changing to logg=5.00 for T= 18719 logg=5.30\n",
      "Changing to logg=5.00 for T= 24403 logg=5.88\n",
      "Changing to logg=5.00 for T= 25973 logg=5.55\n",
      "Changing to logg=5.00 for T=  1847 logg=4.44\n",
      "Changing to logg=5.00 for T=  1962 logg=4.44\n",
      "Changing to T=  1200 for T=   692 logg=4.44\n",
      "Changing to T=  1200 for T=   692 logg=4.44\n",
      "Changing to T=  1200 for T=   692 logg=4.44\n",
      "Changing to T=  1200 for T=   923 logg=4.44\n",
      "Changing to logg=5.00 for T=  1962 logg=4.44\n",
      "Changing to logg=5.00 for T=  1847 logg=4.44\n",
      "Changing to logg=5.00 for T=  1962 logg=4.44\n",
      "Changing to logg=5.00 for T=  1962 logg=4.44\n",
      "Changing to T=  1200 for T=   692 logg=4.44\n",
      "Changing to logg=5.00 for T=  1847 logg=4.44\n",
      "Changing to logg=5.00 for T=  1962 logg=4.44\n",
      "Changing to logg=5.00 for T=  1962 logg=4.44\n",
      "Changing to T=  1200 for T=   923 logg=4.44\n",
      "Changing to logg=5.00 for T=  1847 logg=4.44\n",
      "Changing to T=  1200 for T=   692 logg=4.44\n",
      "Changing to T=  1200 for T=   923 logg=4.44\n",
      "Changing to T=  1200 for T=   692 logg=4.44\n",
      "Changing to T=  1200 for T=   692 logg=4.44\n",
      "Changing to logg=5.00 for T=  1962 logg=4.44\n",
      "Changing to logg=5.00 for T=  1847 logg=4.44\n",
      "Changing to T=  1200 for T=   923 logg=4.44\n",
      "Changing to T=  1200 for T=   923 logg=4.44\n",
      "Changing to T=  1200 for T=   692 logg=4.44\n",
      "Changing to logg=5.00 for T=  1962 logg=4.44\n",
      "Changing to logg=5.00 for T=  1962 logg=4.44\n",
      "Changing to logg=5.00 for T=  1847 logg=4.44\n",
      "Changing to logg=5.00 for T=  1847 logg=4.44\n",
      "Changing to logg=5.00 for T=  1847 logg=4.44\n",
      "Changing to logg=5.00 for T=  1962 logg=4.44\n",
      "Changing to logg=5.00 for T=  1962 logg=4.44\n",
      "Changing to logg=5.00 for T=  1962 logg=4.44\n",
      "Changing to T=  1200 for T=   692 logg=4.44\n",
      "Changing to logg=5.00 for T=  1962 logg=4.44\n",
      "Changing to T=  1200 for T=   692 logg=4.44\n",
      "Changing to logg=5.00 for T=  1962 logg=4.44\n",
      "Changing to logg=5.00 for T=  1962 logg=4.44\n",
      "Changing to T=  1200 for T=   692 logg=4.44\n",
      "Changing to T=  1200 for T=   923 logg=4.44\n",
      "Changing to T=  1200 for T=   692 logg=4.44\n",
      "Changing to T=  1200 for T=   923 logg=4.44\n",
      "Changing to T=  1200 for T=   923 logg=4.44\n",
      "Changing to T=  1200 for T=   923 logg=4.44\n",
      "Changing to logg=5.00 for T=  1847 logg=4.44\n",
      "Changing to T=  1200 for T=   692 logg=4.44\n",
      "Changing to T=  1200 for T=   692 logg=4.44\n",
      "Changing to T=  1200 for T=   692 logg=4.44\n",
      "Changing to T=  1200 for T=   692 logg=4.44\n",
      "Changing to logg=5.00 for T=  1962 logg=4.44\n",
      "Changing to logg=5.00 for T= 24579 logg=6.15\n",
      "Changing to logg=5.00 for T= 11038 logg=6.59\n",
      "Changing to logg=5.00 for T= 24694 logg=6.05\n",
      "Changing to logg=5.00 for T= 26656 logg=5.74\n",
      "Changing to logg=5.00 for T= 26312 logg=5.74\n",
      "Changing to logg=5.00 for T= 25633 logg=5.92\n",
      "Changing to logg=5.00 for T= 24714 logg=6.06\n",
      "Changing to logg=5.00 for T= 26527 logg=5.71\n",
      "Changing to logg=5.00 for T= 26038 logg=5.84\n",
      "Changing to logg=5.00 for T= 24506 logg=6.13\n",
      "Changing to logg=5.00 for T= 26020 logg=5.84\n",
      "Changing to logg=5.00 for T= 26550 logg=5.70\n",
      "Changing to logg=5.00 for T= 24654 logg=6.03\n",
      "Changing to logg=5.00 for T= 26391 logg=5.76\n",
      "Changing to logg=5.00 for T= 24627 logg=5.97\n",
      "Changing to logg=5.00 for T= 22862 logg=5.98\n",
      "Changing to logg=5.00 for T= 29244 logg=6.00\n",
      "Changing to logg=5.00 for T= 23769 logg=5.39\n",
      "Changing to logg=5.00 for T= 22026 logg=5.69\n",
      "Changing to logg=5.00 for T= 26425 logg=5.75\n",
      "Changing to logg=5.00 for T= 25547 logg=5.96\n",
      "Changing to logg=5.00 for T= 29728 logg=5.89\n",
      "Changing to logg=5.00 for T= 24672 logg=5.99\n",
      "Changing to logg=5.00 for T= 25623 logg=5.76\n",
      "Changing to logg=5.00 for T= 25926 logg=5.86\n",
      "Changing to logg=5.00 for T= 24681 logg=6.05\n",
      "Changing to logg=5.00 for T= 23157 logg=5.88\n",
      "Changing to logg=5.00 for T= 24566 logg=5.87\n",
      "Changing to logg=5.00 for T= 25435 logg=5.98\n",
      "Changing to logg=5.00 for T= 24594 logg=5.95\n",
      "Changing to logg=5.00 for T= 25992 logg=5.85\n",
      "Changing to logg=5.00 for T= 26135 logg=5.76\n",
      "Changing to logg=5.00 for T= 24295 logg=6.20\n",
      "Changing to logg=5.00 for T= 17990 logg=5.24\n",
      "Changing to logg=5.00 for T= 25932 logg=5.62\n",
      "Changing to logg=5.00 for T= 26075 logg=5.81\n",
      "Changing to logg=5.00 for T= 26320 logg=5.77\n",
      "Changing to logg=5.00 for T= 26092 logg=5.77\n",
      "Changing to logg=5.00 for T= 28839 logg=6.72\n",
      "Changing to logg=5.00 for T= 22688 logg=6.77\n",
      "Making photometry for isochrone: log(t) = 9.00  AKs = 0.00  dist = 100\n",
      "     Starting at:  2020-12-14 16:03:36.733866   Usually takes ~5 minutes\n",
      "Starting filter: ubv,U   Elapsed time: 0.00 seconds\n",
      "Starting synthetic photometry\n",
      "Singles\n",
      "M =   1.240 Msun  T =  6244 K  m_ubv_U = 9.42\n",
      "Primaries\n",
      "M =   1.600 Msun  T =  7037 K  m_ubv_U = 7.86\n",
      "M =   2.500 Msun  T = 16006 K  m_ubv_U = 15.53\n",
      "M =   6.000 Msun  T = 13609 K  m_ubv_U = 17.21\n",
      "M =   1.700 Msun  T =  7242 K  m_ubv_U = 7.53\n",
      "M =   2.000 Msun  T =  7250 K  m_ubv_U = 6.58\n",
      "M =   1.900 Msun  T = 10944 K  m_ubv_U = 16.76\n"
     ]
    },
    {
     "name": "stdout",
     "output_type": "stream",
     "text": [
      "M =   1.700 Msun  T =  7133 K  m_ubv_U = 6.64\n",
      "M =   1.700 Msun  T =  7133 K  m_ubv_U = 6.64\n",
      "M =   2.300 Msun  T = 12334 K  m_ubv_U = 16.34\n",
      "M =   3.500 Msun  T = 11070 K  m_ubv_U = 16.94\n",
      "M =   2.000 Msun  T =  7250 K  m_ubv_U = 6.58\n",
      "M =   2.500 Msun  T = 14449 K  m_ubv_U = 16.35\n",
      "M =   2.500 Msun  T = 22891 K  m_ubv_U = 8.23\n",
      "M =   6.000 Msun  T = 13610 K  m_ubv_U = 17.21\n",
      "M =   3.000 Msun  T = 11485 K  m_ubv_U = 16.54\n",
      "M =   5.000 Msun  T = 10994 K  m_ubv_U = 17.13\n",
      "M =   3.200 Msun  T = 10973 K  m_ubv_U = 16.75\n",
      "M =   4.500 Msun  T = 10909 K  m_ubv_U = 17.08\n",
      "M =   1.700 Msun  T =  7246 K  m_ubv_U = 7.52\n",
      "M =   3.000 Msun  T = 11434 K  m_ubv_U = 16.54\n",
      "M =   2.000 Msun  T =  7250 K  m_ubv_U = 6.58\n",
      "M =   1.600 Msun  T = 12828 K  m_ubv_U = 16.17\n",
      "M =   2.100 Msun  T =  6694 K  m_ubv_U = 6.42\n",
      "M =   2.100 Msun  T =  6638 K  m_ubv_U = 6.43\n",
      "M =   0.501 Msun  T =   nan K  m_ubv_U =  nan\n",
      "M =   0.316 Msun  T =   nan K  m_ubv_U =  nan\n",
      "M =   0.631 Msun  T =  2739 K  m_ubv_U =  nan\n",
      "M =   0.501 Msun  T =   nan K  m_ubv_U =  nan\n",
      "M =   0.398 Msun  T =   nan K  m_ubv_U =  nan\n",
      "M =   1.259 Msun  T =   nan K  m_ubv_U =  nan\n",
      "M =   0.631 Msun  T =   nan K  m_ubv_U =  nan\n",
      "M =   1.400 Msun  T =  2739 K  m_ubv_U =  nan\n",
      "Secondaries\n",
      "M =   0.320 Msun  T =  1847 K  m_ubv_U = 28.04\n",
      "M =   0.250 Msun  T =  3447 K  m_ubv_U = 19.00\n",
      "M =   3.000 Msun  T = 12247 K  m_ubv_U = 5.17\n",
      "M =   1.190 Msun  T =  6182 K  m_ubv_U = 9.68\n",
      "M =   1.000 Msun  T =  5608 K  m_ubv_U = 11.09\n",
      "M =   1.330 Msun  T =   nan K  m_ubv_U =  nan\n",
      "M =   0.170 Msun  T =   nan K  m_ubv_U =  nan\n",
      "M =   0.170 Msun  T =   nan K  m_ubv_U =  nan\n",
      "M =   0.690 Msun  T =   nan K  m_ubv_U =  nan\n",
      "M =   0.350 Msun  T =   nan K  m_ubv_U =  nan\n",
      "M =   0.200 Msun  T =  3299 K  m_ubv_U = 19.84\n",
      "M =   1.500 Msun  T =   nan K  m_ubv_U =  nan\n",
      "M =   2.000 Msun  T =  6922 K  m_ubv_U = 6.62\n",
      "M =   4.800 Msun  T = 15661 K  m_ubv_U = 3.15\n",
      "M =   2.400 Msun  T =  9520 K  m_ubv_U = 5.68\n",
      "M =   1.500 Msun  T =  6975 K  m_ubv_U = 8.18\n",
      "M =   2.880 Msun  T =  8640 K  m_ubv_U = 4.64\n",
      "M =   3.150 Msun  T =  9845 K  m_ubv_U = 3.87\n",
      "M =   0.850 Msun  T =  4905 K  m_ubv_U = 12.56\n",
      "M =   0.300 Msun  T =   nan K  m_ubv_U =  nan\n",
      "M =   1.800 Msun  T =  7808 K  m_ubv_U = 7.13\n",
      "M =   1.120 Msun  T =   nan K  m_ubv_U =  nan\n",
      "M =   1.680 Msun  T =  7616 K  m_ubv_U = 7.51\n",
      "M =   1.470 Msun  T =  6978 K  m_ubv_U = 8.28\n",
      "M =   3.700 Msun  T = 10955 K  m_ubv_U = 16.95\n",
      "M =   3.700 Msun  T = 10955 K  m_ubv_U = 16.95\n",
      "M =   4.000 Msun  T =  9868 K  m_ubv_U = 17.05\n",
      "M =   2.100 Msun  T =  6590 K  m_ubv_U = 6.43\n",
      "M =   2.300 Msun  T =  4923 K  m_ubv_U = 7.00\n",
      "M =   3.200 Msun  T = 10997 K  m_ubv_U = 16.75\n",
      "M =   1.700 Msun  T =  7213 K  m_ubv_U = 7.52\n",
      "M =   2.000 Msun  T =  7152 K  m_ubv_U = 6.61\n",
      "Starting filter: ubv,V   Elapsed time: 15.18 seconds\n",
      "Starting synthetic photometry\n",
      "Singles\n",
      "M =   1.240 Msun  T =  6244 K  m_ubv_V = 8.90\n",
      "Primaries\n",
      "M =   1.600 Msun  T =  7037 K  m_ubv_V = 7.53\n",
      "M =   2.500 Msun  T = 16006 K  m_ubv_V = 16.14\n",
      "M =   6.000 Msun  T = 13609 K  m_ubv_V = 17.77\n",
      "M =   1.700 Msun  T =  7242 K  m_ubv_V = 7.21\n",
      "M =   2.000 Msun  T =  7250 K  m_ubv_V = 6.23\n",
      "M =   1.900 Msun  T = 10944 K  m_ubv_V = 17.12\n",
      "M =   1.700 Msun  T =  7133 K  m_ubv_V = 6.28\n",
      "M =   1.700 Msun  T =  7133 K  m_ubv_V = 6.28\n",
      "M =   2.300 Msun  T = 12334 K  m_ubv_V = 16.74\n",
      "M =   3.500 Msun  T = 11070 K  m_ubv_V = 17.33\n",
      "M =   2.000 Msun  T =  7250 K  m_ubv_V = 6.23\n",
      "M =   2.500 Msun  T = 14449 K  m_ubv_V = 16.88\n",
      "M =   2.500 Msun  T = 22891 K  m_ubv_V = 9.28\n",
      "M =   6.000 Msun  T = 13610 K  m_ubv_V = 17.77\n",
      "M =   3.000 Msun  T = 11485 K  m_ubv_V = 16.91\n",
      "M =   5.000 Msun  T = 10994 K  m_ubv_V = 17.53\n",
      "M =   3.200 Msun  T = 10973 K  m_ubv_V = 17.12\n",
      "M =   4.500 Msun  T = 10909 K  m_ubv_V = 17.47\n",
      "M =   1.700 Msun  T =  7246 K  m_ubv_V = 7.20\n",
      "M =   3.000 Msun  T = 11434 K  m_ubv_V = 16.91\n",
      "M =   2.000 Msun  T =  7250 K  m_ubv_V = 6.23\n",
      "M =   1.600 Msun  T = 12828 K  m_ubv_V = 16.58\n",
      "M =   2.100 Msun  T =  6694 K  m_ubv_V = 5.98\n",
      "M =   2.100 Msun  T =  6638 K  m_ubv_V = 5.97\n",
      "M =   0.501 Msun  T =   nan K  m_ubv_V =  nan\n",
      "M =   0.316 Msun  T =   nan K  m_ubv_V =  nan\n",
      "M =   0.631 Msun  T =  2739 K  m_ubv_V =  nan\n",
      "M =   0.501 Msun  T =   nan K  m_ubv_V =  nan\n",
      "M =   0.398 Msun  T =   nan K  m_ubv_V =  nan\n",
      "M =   1.259 Msun  T =   nan K  m_ubv_V =  nan\n",
      "M =   0.631 Msun  T =   nan K  m_ubv_V =  nan\n",
      "M =   1.400 Msun  T =  2739 K  m_ubv_V =  nan\n",
      "Secondaries\n",
      "M =   0.320 Msun  T =  1847 K  m_ubv_V = 23.30\n",
      "M =   0.250 Msun  T =  3447 K  m_ubv_V = 16.58\n",
      "M =   3.000 Msun  T = 12247 K  m_ubv_V = 5.59\n",
      "M =   1.190 Msun  T =  6182 K  m_ubv_V = 9.13\n",
      "M =   1.000 Msun  T =  5608 K  m_ubv_V = 10.18\n",
      "M =   1.330 Msun  T =   nan K  m_ubv_V =  nan\n",
      "M =   0.170 Msun  T =   nan K  m_ubv_V =  nan\n",
      "M =   0.170 Msun  T =   nan K  m_ubv_V =  nan\n",
      "M =   0.690 Msun  T =   nan K  m_ubv_V =  nan\n",
      "M =   0.350 Msun  T =   nan K  m_ubv_V =  nan\n",
      "M =   0.200 Msun  T =  3299 K  m_ubv_V = 17.38\n",
      "M =   1.500 Msun  T =   nan K  m_ubv_V =  nan\n",
      "M =   2.000 Msun  T =  6922 K  m_ubv_V = 6.24\n",
      "M =   4.800 Msun  T = 15661 K  m_ubv_V = 3.90\n",
      "M =   2.400 Msun  T =  9520 K  m_ubv_V = 5.68\n",
      "M =   1.500 Msun  T =  6975 K  m_ubv_V = 7.85\n",
      "M =   2.880 Msun  T =  8640 K  m_ubv_V = 4.49\n",
      "M =   3.150 Msun  T =  9845 K  m_ubv_V = 3.98\n",
      "M =   0.850 Msun  T =  4905 K  m_ubv_V = 10.96\n",
      "M =   0.300 Msun  T =   nan K  m_ubv_V =  nan\n",
      "M =   1.800 Msun  T =  7808 K  m_ubv_V = 6.85\n",
      "M =   1.120 Msun  T =   nan K  m_ubv_V =  nan\n",
      "M =   1.680 Msun  T =  7616 K  m_ubv_V = 7.23\n",
      "M =   1.470 Msun  T =  6978 K  m_ubv_V = 7.95\n",
      "M =   3.700 Msun  T = 10955 K  m_ubv_V = 17.34\n",
      "M =   3.700 Msun  T = 10955 K  m_ubv_V = 17.34\n",
      "M =   4.000 Msun  T =  9868 K  m_ubv_V = 17.40\n",
      "M =   2.100 Msun  T =  6590 K  m_ubv_V = 5.96\n",
      "M =   2.300 Msun  T =  4923 K  m_ubv_V = 5.29\n",
      "M =   3.200 Msun  T = 10997 K  m_ubv_V = 17.12\n",
      "M =   1.700 Msun  T =  7213 K  m_ubv_V = 7.19\n",
      "M =   2.000 Msun  T =  7152 K  m_ubv_V = 6.25\n",
      "Starting filter: ubv,B   Elapsed time: 30.32 seconds\n",
      "Starting synthetic photometry\n",
      "Singles\n",
      "M =   1.240 Msun  T =  6244 K  m_ubv_B = 9.45\n",
      "Primaries\n",
      "M =   1.600 Msun  T =  7037 K  m_ubv_B = 7.88\n",
      "M =   2.500 Msun  T = 16006 K  m_ubv_B = 16.18\n",
      "M =   6.000 Msun  T = 13609 K  m_ubv_B = 17.92\n",
      "M =   1.700 Msun  T =  7242 K  m_ubv_B = 7.53\n",
      "M =   2.000 Msun  T =  7250 K  m_ubv_B = 6.54\n",
      "M =   1.900 Msun  T = 10944 K  m_ubv_B = 17.32\n",
      "M =   1.700 Msun  T =  7133 K  m_ubv_B = 6.60\n",
      "M =   1.700 Msun  T =  7133 K  m_ubv_B = 6.60\n",
      "M =   2.300 Msun  T = 12334 K  m_ubv_B = 16.90\n",
      "M =   3.500 Msun  T = 11070 K  m_ubv_B = 17.53\n",
      "M =   2.000 Msun  T =  7250 K  m_ubv_B = 6.54\n",
      "M =   2.500 Msun  T = 14449 K  m_ubv_B = 17.00\n",
      "M =   2.500 Msun  T = 22891 K  m_ubv_B = 9.07\n",
      "M =   6.000 Msun  T = 13610 K  m_ubv_B = 17.92\n",
      "M =   3.000 Msun  T = 11485 K  m_ubv_B = 17.09\n",
      "M =   5.000 Msun  T = 10994 K  m_ubv_B = 17.74\n",
      "M =   3.200 Msun  T = 10973 K  m_ubv_B = 17.32\n",
      "M =   4.500 Msun  T = 10909 K  m_ubv_B = 17.67\n",
      "M =   1.700 Msun  T =  7246 K  m_ubv_B = 7.52\n",
      "M =   3.000 Msun  T = 11434 K  m_ubv_B = 17.09\n",
      "M =   2.000 Msun  T =  7250 K  m_ubv_B = 6.54\n",
      "M =   1.600 Msun  T = 12828 K  m_ubv_B = 16.73\n",
      "M =   2.100 Msun  T =  6694 K  m_ubv_B = 6.39\n",
      "M =   2.100 Msun  T =  6638 K  m_ubv_B = 6.39\n",
      "M =   0.501 Msun  T =   nan K  m_ubv_B =  nan\n",
      "M =   0.316 Msun  T =   nan K  m_ubv_B =  nan\n",
      "M =   0.631 Msun  T =  2739 K  m_ubv_B =  nan\n",
      "M =   0.501 Msun  T =   nan K  m_ubv_B =  nan\n",
      "M =   0.398 Msun  T =   nan K  m_ubv_B =  nan\n",
      "M =   1.259 Msun  T =   nan K  m_ubv_B =  nan\n",
      "M =   0.631 Msun  T =   nan K  m_ubv_B =  nan\n",
      "M =   1.400 Msun  T =  2739 K  m_ubv_B =  nan\n",
      "Secondaries\n",
      "M =   0.320 Msun  T =  1847 K  m_ubv_B = 25.70\n",
      "M =   0.250 Msun  T =  3447 K  m_ubv_B = 17.92\n",
      "M =   3.000 Msun  T = 12247 K  m_ubv_B = 5.49\n",
      "M =   1.190 Msun  T =  6182 K  m_ubv_B = 9.70\n",
      "M =   1.000 Msun  T =  5608 K  m_ubv_B = 10.93\n",
      "M =   1.330 Msun  T =   nan K  m_ubv_B =  nan\n",
      "M =   0.170 Msun  T =   nan K  m_ubv_B =  nan\n",
      "M =   0.170 Msun  T =   nan K  m_ubv_B =  nan\n",
      "M =   0.690 Msun  T =   nan K  m_ubv_B =  nan\n",
      "M =   0.350 Msun  T =   nan K  m_ubv_B =  nan\n",
      "M =   0.200 Msun  T =  3299 K  m_ubv_B = 18.68\n",
      "M =   1.500 Msun  T =   nan K  m_ubv_B =  nan\n",
      "M =   2.000 Msun  T =  6922 K  m_ubv_B = 6.61\n",
      "M =   4.800 Msun  T = 15661 K  m_ubv_B = 3.74\n",
      "M =   2.400 Msun  T =  9520 K  m_ubv_B = 5.68\n",
      "M =   1.500 Msun  T =  6975 K  m_ubv_B = 8.22\n"
     ]
    },
    {
     "name": "stdout",
     "output_type": "stream",
     "text": [
      "M =   2.880 Msun  T =  8640 K  m_ubv_B = 4.54\n",
      "M =   3.150 Msun  T =  9845 K  m_ubv_B = 3.93\n",
      "M =   0.850 Msun  T =  4905 K  m_ubv_B = 11.92\n",
      "M =   0.300 Msun  T =   nan K  m_ubv_B =  nan\n",
      "M =   1.800 Msun  T =  7808 K  m_ubv_B = 7.08\n",
      "M =   1.120 Msun  T =   nan K  m_ubv_B =  nan\n",
      "M =   1.680 Msun  T =  7616 K  m_ubv_B = 7.49\n",
      "M =   1.470 Msun  T =  6978 K  m_ubv_B = 8.33\n",
      "M =   3.700 Msun  T = 10955 K  m_ubv_B = 17.54\n",
      "M =   3.700 Msun  T = 10955 K  m_ubv_B = 17.54\n",
      "M =   4.000 Msun  T =  9868 K  m_ubv_B = 17.62\n",
      "M =   2.100 Msun  T =  6590 K  m_ubv_B = 6.40\n",
      "M =   2.300 Msun  T =  4923 K  m_ubv_B = 6.31\n",
      "M =   3.200 Msun  T = 10997 K  m_ubv_B = 17.32\n",
      "M =   1.700 Msun  T =  7213 K  m_ubv_B = 7.52\n",
      "M =   2.000 Msun  T =  7152 K  m_ubv_B = 6.57\n",
      "Starting filter: ubv,R   Elapsed time: 45.26 seconds\n",
      "Starting synthetic photometry\n",
      "Singles\n",
      "M =   1.240 Msun  T =  6244 K  m_ubv_R = 8.62\n",
      "Primaries\n",
      "M =   1.600 Msun  T =  7037 K  m_ubv_R = 7.33\n",
      "M =   2.500 Msun  T = 16006 K  m_ubv_R = 16.21\n",
      "M =   6.000 Msun  T = 13609 K  m_ubv_R = 17.81\n",
      "M =   1.700 Msun  T =  7242 K  m_ubv_R = 7.04\n",
      "M =   2.000 Msun  T =  7250 K  m_ubv_R = 6.07\n",
      "M =   1.900 Msun  T = 10944 K  m_ubv_R = 17.10\n",
      "M =   1.700 Msun  T =  7133 K  m_ubv_R = 6.11\n",
      "M =   1.700 Msun  T =  7133 K  m_ubv_R = 6.11\n",
      "M =   2.300 Msun  T = 12334 K  m_ubv_R = 16.76\n",
      "M =   3.500 Msun  T = 11070 K  m_ubv_R = 17.31\n",
      "M =   2.000 Msun  T =  7250 K  m_ubv_R = 6.07\n",
      "M =   2.500 Msun  T = 14449 K  m_ubv_R = 16.94\n",
      "M =   2.500 Msun  T = 22891 K  m_ubv_R = 9.37\n",
      "M =   6.000 Msun  T = 13610 K  m_ubv_R = 17.81\n",
      "M =   3.000 Msun  T = 11485 K  m_ubv_R = 16.91\n",
      "M =   5.000 Msun  T = 10994 K  m_ubv_R = 17.51\n",
      "M =   3.200 Msun  T = 10973 K  m_ubv_R = 17.10\n",
      "M =   4.500 Msun  T = 10909 K  m_ubv_R = 17.45\n",
      "M =   1.700 Msun  T =  7246 K  m_ubv_R = 7.03\n",
      "M =   3.000 Msun  T = 11434 K  m_ubv_R = 16.91\n",
      "M =   2.000 Msun  T =  7250 K  m_ubv_R = 6.07\n",
      "M =   1.600 Msun  T = 12828 K  m_ubv_R = 16.61\n",
      "M =   2.100 Msun  T =  6694 K  m_ubv_R = 5.76\n",
      "M =   2.100 Msun  T =  6638 K  m_ubv_R = 5.74\n",
      "M =   0.501 Msun  T =   nan K  m_ubv_R =  nan\n",
      "M =   0.316 Msun  T =   nan K  m_ubv_R =  nan\n",
      "M =   0.631 Msun  T =  2739 K  m_ubv_R =  nan\n",
      "M =   0.501 Msun  T =   nan K  m_ubv_R =  nan\n",
      "M =   0.398 Msun  T =   nan K  m_ubv_R =  nan\n",
      "M =   1.259 Msun  T =   nan K  m_ubv_R =  nan\n",
      "M =   0.631 Msun  T =   nan K  m_ubv_R =  nan\n",
      "M =   1.400 Msun  T =  2739 K  m_ubv_R =  nan\n",
      "Secondaries\n",
      "M =   0.320 Msun  T =  1847 K  m_ubv_R = 20.65\n",
      "M =   0.250 Msun  T =  3447 K  m_ubv_R = 15.76\n",
      "M =   3.000 Msun  T = 12247 K  m_ubv_R = 5.62\n",
      "M =   1.190 Msun  T =  6182 K  m_ubv_R = 8.84\n",
      "M =   1.000 Msun  T =  5608 K  m_ubv_R = 9.81\n",
      "M =   1.330 Msun  T =   nan K  m_ubv_R =  nan\n",
      "M =   0.170 Msun  T =   nan K  m_ubv_R =  nan\n",
      "M =   0.170 Msun  T =   nan K  m_ubv_R =  nan\n",
      "M =   0.690 Msun  T =   nan K  m_ubv_R =  nan\n",
      "M =   0.350 Msun  T =   nan K  m_ubv_R =  nan\n",
      "M =   0.200 Msun  T =  3299 K  m_ubv_R = 16.54\n",
      "M =   1.500 Msun  T =   nan K  m_ubv_R =  nan\n",
      "M =   2.000 Msun  T =  6922 K  m_ubv_R = 6.04\n",
      "M =   4.800 Msun  T = 15661 K  m_ubv_R = 3.96\n",
      "M =   2.400 Msun  T =  9520 K  m_ubv_R = 5.68\n",
      "M =   1.500 Msun  T =  6975 K  m_ubv_R = 7.65\n",
      "M =   2.880 Msun  T =  8640 K  m_ubv_R = 4.46\n",
      "M =   3.150 Msun  T =  9845 K  m_ubv_R = 3.98\n",
      "M =   0.850 Msun  T =  4905 K  m_ubv_R = 10.45\n",
      "M =   0.300 Msun  T =   nan K  m_ubv_R =  nan\n",
      "M =   1.800 Msun  T =  7808 K  m_ubv_R = 6.74\n",
      "M =   1.120 Msun  T =   nan K  m_ubv_R =  nan\n",
      "M =   1.680 Msun  T =  7616 K  m_ubv_R = 7.10\n",
      "M =   1.470 Msun  T =  6978 K  m_ubv_R = 7.75\n",
      "M =   3.700 Msun  T = 10955 K  m_ubv_R = 17.32\n",
      "M =   3.700 Msun  T = 10955 K  m_ubv_R = 17.32\n",
      "M =   4.000 Msun  T =  9868 K  m_ubv_R = 17.33\n",
      "M =   2.100 Msun  T =  6590 K  m_ubv_R = 5.73\n",
      "M =   2.300 Msun  T =  4923 K  m_ubv_R = 4.82\n",
      "M =   3.200 Msun  T = 10997 K  m_ubv_R = 17.10\n",
      "M =   1.700 Msun  T =  7213 K  m_ubv_R = 7.02\n",
      "M =   2.000 Msun  T =  7152 K  m_ubv_R = 6.08\n",
      "Starting filter: ubv,I   Elapsed time: 59.86 seconds\n",
      "Starting synthetic photometry\n",
      "Singles\n",
      "M =   1.240 Msun  T =  6244 K  m_ubv_I = 8.27\n",
      "Primaries\n",
      "M =   1.600 Msun  T =  7037 K  m_ubv_I = 7.10\n",
      "M =   2.500 Msun  T = 16006 K  m_ubv_I = 16.36\n",
      "M =   6.000 Msun  T = 13609 K  m_ubv_I = 17.90\n",
      "M =   1.700 Msun  T =  7242 K  m_ubv_I = 6.84\n",
      "M =   2.000 Msun  T =  7250 K  m_ubv_I = 5.88\n",
      "M =   1.900 Msun  T = 10944 K  m_ubv_I = 17.11\n",
      "M =   1.700 Msun  T =  7133 K  m_ubv_I = 5.90\n",
      "M =   1.700 Msun  T =  7133 K  m_ubv_I = 5.90\n",
      "M =   2.300 Msun  T = 12334 K  m_ubv_I = 16.84\n",
      "M =   3.500 Msun  T = 11070 K  m_ubv_I = 17.33\n",
      "M =   2.000 Msun  T =  7250 K  m_ubv_I = 5.88\n",
      "M =   2.500 Msun  T = 14449 K  m_ubv_I = 17.06\n",
      "M =   2.500 Msun  T = 22891 K  m_ubv_I = 9.59\n",
      "M =   6.000 Msun  T = 13610 K  m_ubv_I = 17.90\n",
      "M =   3.000 Msun  T = 11485 K  m_ubv_I = 16.95\n",
      "M =   5.000 Msun  T = 10994 K  m_ubv_I = 17.52\n",
      "M =   3.200 Msun  T = 10973 K  m_ubv_I = 17.12\n",
      "M =   4.500 Msun  T = 10909 K  m_ubv_I = 17.45\n",
      "M =   1.700 Msun  T =  7246 K  m_ubv_I = 6.83\n",
      "M =   3.000 Msun  T = 11434 K  m_ubv_I = 16.95\n",
      "M =   2.000 Msun  T =  7250 K  m_ubv_I = 5.88\n",
      "M =   1.600 Msun  T = 12828 K  m_ubv_I = 16.70\n",
      "M =   2.100 Msun  T =  6694 K  m_ubv_I = 5.49\n",
      "M =   2.100 Msun  T =  6638 K  m_ubv_I = 5.46\n",
      "M =   0.501 Msun  T =   nan K  m_ubv_I =  nan\n",
      "M =   0.316 Msun  T =   nan K  m_ubv_I =  nan\n",
      "M =   0.631 Msun  T =  2739 K  m_ubv_I =  nan\n",
      "M =   0.501 Msun  T =   nan K  m_ubv_I =  nan\n",
      "M =   0.398 Msun  T =   nan K  m_ubv_I =  nan\n",
      "M =   1.259 Msun  T =   nan K  m_ubv_I =  nan\n",
      "M =   0.631 Msun  T =   nan K  m_ubv_I =  nan\n",
      "M =   1.400 Msun  T =  2739 K  m_ubv_I =  nan\n",
      "Secondaries\n",
      "M =   0.320 Msun  T =  1847 K  m_ubv_I = 16.86\n",
      "M =   0.250 Msun  T =  3447 K  m_ubv_I = 14.05\n",
      "M =   3.000 Msun  T = 12247 K  m_ubv_I = 5.71\n",
      "M =   1.190 Msun  T =  6182 K  m_ubv_I = 8.49\n",
      "M =   1.000 Msun  T =  5608 K  m_ubv_I = 9.36\n",
      "M =   1.330 Msun  T =   nan K  m_ubv_I =  nan\n",
      "M =   0.170 Msun  T =   nan K  m_ubv_I =  nan\n",
      "M =   0.170 Msun  T =   nan K  m_ubv_I =  nan\n",
      "M =   0.690 Msun  T =   nan K  m_ubv_I =  nan\n",
      "M =   0.350 Msun  T =   nan K  m_ubv_I =  nan\n",
      "M =   0.200 Msun  T =  3299 K  m_ubv_I = 14.58\n",
      "M =   1.500 Msun  T =   nan K  m_ubv_I =  nan\n",
      "M =   2.000 Msun  T =  6922 K  m_ubv_I = 5.80\n",
      "M =   4.800 Msun  T = 15661 K  m_ubv_I = 4.09\n",
      "M =   2.400 Msun  T =  9520 K  m_ubv_I = 5.68\n",
      "M =   1.500 Msun  T =  6975 K  m_ubv_I = 7.41\n",
      "M =   2.880 Msun  T =  8640 K  m_ubv_I = 4.41\n",
      "M =   3.150 Msun  T =  9845 K  m_ubv_I = 4.00\n",
      "M =   0.850 Msun  T =  4905 K  m_ubv_I = 9.85\n",
      "M =   0.300 Msun  T =   nan K  m_ubv_I =  nan\n",
      "M =   1.800 Msun  T =  7808 K  m_ubv_I = 6.61\n",
      "M =   1.120 Msun  T =   nan K  m_ubv_I =  nan\n",
      "M =   1.680 Msun  T =  7616 K  m_ubv_I = 6.95\n",
      "M =   1.470 Msun  T =  6978 K  m_ubv_I = 7.51\n",
      "M =   3.700 Msun  T = 10955 K  m_ubv_I = 17.33\n",
      "M =   3.700 Msun  T = 10955 K  m_ubv_I = 17.33\n",
      "M =   4.000 Msun  T =  9868 K  m_ubv_I = 17.28\n",
      "M =   2.100 Msun  T =  6590 K  m_ubv_I = 5.45\n",
      "M =   2.300 Msun  T =  4923 K  m_ubv_I = 4.22\n",
      "M =   3.200 Msun  T = 10997 K  m_ubv_I = 17.12\n",
      "M =   1.700 Msun  T =  7213 K  m_ubv_I = 6.82\n",
      "M =   2.000 Msun  T =  7152 K  m_ubv_I = 5.87\n",
      "      Time taken: 74.47 seconds\n",
      "Isochrone generation took 398.271875 s.\n"
     ]
    }
   ],
   "source": [
    "import spisea\n",
    "from spisea import evolution, synthetic\n",
    "import math\n",
    "# Check if the evolution class works fine\n",
    "import time\n",
    "t1=time.time()\n",
    "bps=evolution.BPASS()\n",
    "iso1=synthetic.Isochrone_Binary(9.0, 0.0, 100,math.log10(1), mass_sampling=1, filepath='/g/lu/scratch/ryotainagaki/BPASS_iso_filesTimedIsolated/')"
   ]
  },
  {
   "cell_type": "markdown",
   "metadata": {},
   "source": [
    "As a sanity check, I would like to make sure thatk, for primary stars, we only have (from the isochrone) designated phase 5 stars ( anything that is not a compact remnant), white dwarves (101), and non-white dwarf compact remnants that are NEWSECMODS primaries (110). Also make sure that our secondary stars are non-compact-remnant, white dwarves, or are merged."
   ]
  },
  {
   "cell_type": "code",
   "execution_count": 2,
   "metadata": {},
   "outputs": [
    {
     "data": {
      "text/plain": [
       "True"
      ]
     },
     "execution_count": 2,
     "metadata": {},
     "output_type": "execute_result"
    }
   ],
   "source": [
    "import numpy as np\n",
    "np.all([(x==5 or x==101 or x==110) for x in iso1.primaries['phase']])"
   ]
  },
  {
   "cell_type": "code",
   "execution_count": 3,
   "metadata": {},
   "outputs": [
    {
     "data": {
      "text/plain": [
       "True"
      ]
     },
     "execution_count": 3,
     "metadata": {},
     "output_type": "execute_result"
    }
   ],
   "source": [
    "np.all([(x==5 or x==101) for x in iso1.singles['phase']])"
   ]
  },
  {
   "cell_type": "code",
   "execution_count": 4,
   "metadata": {},
   "outputs": [
    {
     "data": {
      "text/plain": [
       "True"
      ]
     },
     "execution_count": 4,
     "metadata": {},
     "output_type": "execute_result"
    }
   ],
   "source": [
    "np.all([(x==5 or x==101 or x==-99) for x in iso1.secondaries['phase']])"
   ]
  },
  {
   "cell_type": "markdown",
   "metadata": {},
   "source": [
    "Find the maximum, mean, and median  values of logg (cgs) for primaries, single stars, and secondaries. "
   ]
  },
  {
   "cell_type": "code",
   "execution_count": 5,
   "metadata": {},
   "outputs": [
    {
     "data": {
      "text/plain": [
       "9.294869501162154"
      ]
     },
     "execution_count": 5,
     "metadata": {},
     "output_type": "execute_result"
    }
   ],
   "source": [
    "import numpy as np\n",
    "np.max(iso1.singles['logg'])"
   ]
  },
  {
   "cell_type": "code",
   "execution_count": 6,
   "metadata": {},
   "outputs": [
    {
     "data": {
      "text/plain": [
       "nan"
      ]
     },
     "execution_count": 6,
     "metadata": {},
     "output_type": "execute_result"
    }
   ],
   "source": [
    "import numpy as np\n",
    "np.max(iso1.primaries['logg'])"
   ]
  },
  {
   "cell_type": "code",
   "execution_count": 7,
   "metadata": {},
   "outputs": [
    {
     "data": {
      "text/plain": [
       "9.283702439639246"
      ]
     },
     "execution_count": 7,
     "metadata": {},
     "output_type": "execute_result"
    }
   ],
   "source": [
    "np.max(np.nan_to_num(iso1.secondaries['logg']))"
   ]
  },
  {
   "cell_type": "code",
   "execution_count": 8,
   "metadata": {},
   "outputs": [
    {
     "data": {
      "text/plain": [
       "5.738480715913404"
      ]
     },
     "execution_count": 8,
     "metadata": {},
     "output_type": "execute_result"
    }
   ],
   "source": [
    "np.mean(iso1.singles['logg'])"
   ]
  },
  {
   "cell_type": "code",
   "execution_count": 9,
   "metadata": {},
   "outputs": [
    {
     "data": {
      "text/plain": [
       "4.203033635403525"
      ]
     },
     "execution_count": 9,
     "metadata": {},
     "output_type": "execute_result"
    }
   ],
   "source": [
    "np.mean((np.nan_to_num(iso1.secondaries['logg'])))"
   ]
  },
  {
   "cell_type": "code",
   "execution_count": 10,
   "metadata": {},
   "outputs": [
    {
     "data": {
      "text/plain": [
       "4.860696930888394"
      ]
     },
     "execution_count": 10,
     "metadata": {},
     "output_type": "execute_result"
    }
   ],
   "source": [
    "np.mean((np.nan_to_num(iso1.primaries['logg'])))"
   ]
  },
  {
   "cell_type": "code",
   "execution_count": 11,
   "metadata": {},
   "outputs": [
    {
     "data": {
      "text/plain": [
       "4.359189253980008"
      ]
     },
     "execution_count": 11,
     "metadata": {},
     "output_type": "execute_result"
    }
   ],
   "source": [
    "np.median(iso1.singles['logg'])"
   ]
  },
  {
   "cell_type": "code",
   "execution_count": 12,
   "metadata": {},
   "outputs": [
    {
     "data": {
      "text/plain": [
       "nan"
      ]
     },
     "execution_count": 12,
     "metadata": {},
     "output_type": "execute_result"
    }
   ],
   "source": [
    "np.median(iso1.primaries['logg'])"
   ]
  },
  {
   "cell_type": "code",
   "execution_count": 13,
   "metadata": {},
   "outputs": [
    {
     "data": {
      "text/html": [
       "&lt;Column name=&apos;logg&apos; dtype=&apos;float64&apos; unit=&apos;&apos; length=3191&gt;\n",
       "<table>\n",
       "<tr><td>4.105267609959058</td></tr>\n",
       "<tr><td>3.500806922037053</td></tr>\n",
       "<tr><td>8.329799537345899</td></tr>\n",
       "<tr><td>2.5859354633207263</td></tr>\n",
       "<tr><td>4.350828873350758</td></tr>\n",
       "<tr><td>9.23071353754886</td></tr>\n",
       "<tr><td>8.151969042560621</td></tr>\n",
       "<tr><td>8.290112143210417</td></tr>\n",
       "<tr><td>9.280106678609133</td></tr>\n",
       "<tr><td>3.7281376229671146</td></tr>\n",
       "<tr><td>3.8529812282559623</td></tr>\n",
       "<tr><td>4.105267609959058</td></tr>\n",
       "<tr><td>...</td></tr>\n",
       "<tr><td>4.345254419129256</td></tr>\n",
       "<tr><td>nan</td></tr>\n",
       "<tr><td>nan</td></tr>\n",
       "<tr><td>nan</td></tr>\n",
       "<tr><td>nan</td></tr>\n",
       "<tr><td>nan</td></tr>\n",
       "<tr><td>nan</td></tr>\n",
       "<tr><td>nan</td></tr>\n",
       "<tr><td>nan</td></tr>\n",
       "<tr><td>nan</td></tr>\n",
       "<tr><td>4.079997012525623</td></tr>\n",
       "<tr><td>nan</td></tr>\n",
       "</table>"
      ],
      "text/plain": [
       "<Column name='logg' dtype='float64' unit='' length=3191>\n",
       " 4.105267609959058\n",
       " 3.500806922037053\n",
       " 8.329799537345899\n",
       "2.5859354633207263\n",
       " 4.350828873350758\n",
       "  9.23071353754886\n",
       " 8.151969042560621\n",
       " 8.290112143210417\n",
       " 9.280106678609133\n",
       "3.7281376229671146\n",
       "3.8529812282559623\n",
       " 4.105267609959058\n",
       "               ...\n",
       " 4.345254419129256\n",
       "               nan\n",
       "               nan\n",
       "               nan\n",
       "               nan\n",
       "               nan\n",
       "               nan\n",
       "               nan\n",
       "               nan\n",
       "               nan\n",
       " 4.079997012525623\n",
       "               nan"
      ]
     },
     "execution_count": 13,
     "metadata": {},
     "output_type": "execute_result"
    }
   ],
   "source": [
    "iso1.primaries['logg']"
   ]
  },
  {
   "cell_type": "code",
   "execution_count": 14,
   "metadata": {},
   "outputs": [
    {
     "data": {
      "text/plain": [
       "Text(0.5, 0, 'logg in cgs')"
      ]
     },
     "execution_count": 14,
     "metadata": {},
     "output_type": "execute_result"
    },
    {
     "data": {
      "image/png": "[encoded data removed]",
      "text/plain": [
       "<Figure size 432x288 with 1 Axes>"
      ]
     },
     "metadata": {
      "needs_background": "light"
     },
     "output_type": "display_data"
    }
   ],
   "source": [
    "import matplotlib.pyplot as plt\n",
    "plt.title(\"Histogram of logg values (secondaries) of isochrone\")\n",
    "plt.hist(np.array([x for x in iso1.secondaries['logg'] if np.isfinite(x)]), np.arange(0, 30, 1))\n",
    "plt.xlabel(\"logg in cgs\")"
   ]
  },
  {
   "cell_type": "code",
   "execution_count": 15,
   "metadata": {},
   "outputs": [
    {
     "data": {
      "text/plain": [
       "Text(0.5, 0, 'logg in cgs')"
      ]
     },
     "execution_count": 15,
     "metadata": {},
     "output_type": "execute_result"
    },
    {
     "data": {
      "image/png": "[encoded data removed]",
      "text/plain": [
       "<Figure size 432x288 with 1 Axes>"
      ]
     },
     "metadata": {
      "needs_background": "light"
     },
     "output_type": "display_data"
    }
   ],
   "source": [
    "import matplotlib.pyplot as plt\n",
    "plt.title(\"Histogram of logg values (primaries) of isochrone\")\n",
    "plt.hist(np.array([x for x in iso1.primaries['logg'] if np.isfinite(x)]), np.arange(0, 30, 1))\n",
    "plt.xlabel(\"logg in cgs\")"
   ]
  },
  {
   "cell_type": "code",
   "execution_count": 16,
   "metadata": {},
   "outputs": [
    {
     "data": {
      "text/plain": [
       "Text(0.5, 0, 'logg in cgs')"
      ]
     },
     "execution_count": 16,
     "metadata": {},
     "output_type": "execute_result"
    },
    {
     "data": {
      "image/png": "[encoded data removed]",
      "text/plain": [
       "<Figure size 432x288 with 1 Axes>"
      ]
     },
     "metadata": {
      "needs_background": "light"
     },
     "output_type": "display_data"
    }
   ],
   "source": [
    "import matplotlib.pyplot as plt\n",
    "plt.title(\"Histogram of logg values single stars of isochrone\")\n",
    "plt.hist(np.array([x for x in iso1.singles['logg'] if np.isfinite(x)]), np.arange(0, 30, 1))\n",
    "plt.xlabel(\"logg in cgs\")"
   ]
  },
  {
   "cell_type": "markdown",
   "metadata": {},
   "source": [
    "Now we examine the phase of the upper lefthand corner of the CMD, which could be full of WR stars."
   ]
  },
  {
   "cell_type": "code",
   "execution_count": 17,
   "metadata": {},
   "outputs": [
    {
     "data": {
      "text/plain": [
       "<matplotlib.legend.Legend at 0x7fa9ce9264a8>"
      ]
     },
     "execution_count": 17,
     "metadata": {},
     "output_type": "execute_result"
    },
    {
     "data": {
      "image/png": "[encoded data removed]",
      "text/plain": [
       "<Figure size 432x288 with 1 Axes>"
      ]
     },
     "metadata": {
      "needs_background": "light"
     },
     "output_type": "display_data"
    }
   ],
   "source": [
    "import matplotlib.pyplot as plt\n",
    "indices1= np.where(iso1.singles['logg']>5)[0]\n",
    "indices2= np.where(iso1.primaries['logg']>5)[0]\n",
    "indices3= np.where(iso1.secondaries['logg']>5)[0]\n",
    "plt.plot(iso1.primaries['m_ubv_B'][indices2]-iso1.primaries[\"m_ubv_V\"][indices2], iso1.primaries[\"m_ubv_V\"][indices2]-5*np.log10(100), \"r.\")\n",
    "plt.plot(iso1.secondaries['m_ubv_B'][indices3]-iso1.secondaries[\"m_ubv_V\"][indices3], iso1.secondaries[\"m_ubv_V\"][indices3]-5*np.log10(100), \"r.\")\n",
    "plt.plot(iso1.singles['m_ubv_B'][indices1]-iso1.singles[\"m_ubv_V\"][indices1], iso1.singles[\"m_ubv_V\"][indices1]-5*np.log10(100), \"r.\", label=\"BPASS isochrone\")\n",
    "plt.xlabel(\"B-V\")\n",
    "plt.ylabel(\"M_V\")\n",
    "plt.title(\"Color magnitude Diagram of Isochrones at solar metallicity and 1 billion years age (Examining upper lefthand corner)\")\n",
    "plt.gca().invert_yaxis()\n",
    "plt.legend()"
   ]
  },
  {
   "cell_type": "code",
   "execution_count": 18,
   "metadata": {},
   "outputs": [
    {
     "name": "stderr",
     "output_type": "stream",
     "text": [
      "/opt/anaconda3/envs/astroconda/lib/python3.7/site-packages/astropy/table/column.py:1020: RuntimeWarning: invalid value encountered in less\n",
      "  result = getattr(super(), op)(other)\n"
     ]
    }
   ],
   "source": [
    "indices2= np.where((iso1.primaries['logg']>5) & (iso1.primaries['m_ubv_B']-iso1.primaries['m_ubv_V']>-0.4) & (iso1.primaries['m_ubv_B']-iso1.primaries['m_ubv_V']<-0.2))[0]"
   ]
  },
  {
   "cell_type": "code",
   "execution_count": 19,
   "metadata": {},
   "outputs": [
    {
     "data": {
      "text/html": [
       "&lt;Column name=&apos;phase&apos; dtype=&apos;float64&apos; length=1&gt;\n",
       "<table>\n",
       "<tr><td>5.0</td></tr>\n",
       "</table>"
      ],
      "text/plain": [
       "<Column name='phase' dtype='float64' length=1>\n",
       "5.0"
      ]
     },
     "execution_count": 19,
     "metadata": {},
     "output_type": "execute_result"
    }
   ],
   "source": [
    "np.unique(iso1.primaries[indices2]['phase'])"
   ]
  },
  {
   "cell_type": "code",
   "execution_count": 20,
   "metadata": {},
   "outputs": [],
   "source": [
    "indices2= np.where((iso1.primaries['m_ubv_B']-iso1.primaries['m_ubv_V']>1.2) & (iso1.primaries['m_ubv_B']-iso1.primaries['m_ubv_V']<1.5))[0]"
   ]
  },
  {
   "cell_type": "code",
   "execution_count": 21,
   "metadata": {},
   "outputs": [
    {
     "data": {
      "text/plain": [
       "array([449])"
      ]
     },
     "execution_count": 21,
     "metadata": {},
     "output_type": "execute_result"
    }
   ],
   "source": [
    "indices2"
   ]
  },
  {
   "cell_type": "code",
   "execution_count": 22,
   "metadata": {},
   "outputs": [
    {
     "data": {
      "text/html": [
       "&lt;Column name=&apos;phase&apos; dtype=&apos;float64&apos; length=1&gt;\n",
       "<table>\n",
       "<tr><td>5.0</td></tr>\n",
       "</table>"
      ],
      "text/plain": [
       "<Column name='phase' dtype='float64' length=1>\n",
       "5.0"
      ]
     },
     "execution_count": 22,
     "metadata": {},
     "output_type": "execute_result"
    }
   ],
   "source": [
    "np.unique(iso1.primaries['phase'][indices2])"
   ]
  },
  {
   "cell_type": "code",
   "execution_count": 23,
   "metadata": {},
   "outputs": [
    {
     "data": {
      "text/html": [
       "<i>Table length=1</i>\n",
       "<table id=\"table140366728098368\" class=\"table-striped table-bordered table-condensed\">\n",
       "<thead><tr><th>mass</th><th>log_a</th><th>L</th><th>Teff</th><th>R</th><th>logg</th><th>isWR</th><th>mass_current</th><th>phase</th><th>source</th><th>m_ubv_U</th><th>m_ubv_V</th><th>m_ubv_B</th><th>m_ubv_R</th><th>m_ubv_I</th></tr></thead>\n",
       "<thead><tr><th>solMass</th><th></th><th>W</th><th>K</th><th>m</th><th></th><th></th><th>solMass</th><th></th><th></th><th></th><th></th><th></th><th></th><th></th></tr></thead>\n",
       "<thead><tr><th>float64</th><th>float64</th><th>float64</th><th>float64</th><th>float64</th><th>float64</th><th>bool</th><th>float64</th><th>float64</th><th>int64</th><th>float64</th><th>float64</th><th>float64</th><th>float64</th><th>float64</th></tr></thead>\n",
       "<tr><td>0.3</td><td>-0.7390704086880291</td><td>1.4390037612938779e+25</td><td>3671.7237611356545</td><td>333334422.4131993</td><td>4.778454094998249</td><td>False</td><td>0.50439</td><td>5.0</td><td>1</td><td>17.02443685121329</td><td>14.641716058852237</td><td>16.0105881500427</td><td>13.841797062109691</td><td>12.499640003022018</td></tr>\n",
       "</table>"
      ],
      "text/plain": [
       "<Table length=1>\n",
       "  mass         log_a        ...      m_ubv_R            m_ubv_I      \n",
       "solMass                     ...                                      \n",
       "float64       float64       ...      float64            float64      \n",
       "------- ------------------- ... ------------------ ------------------\n",
       "    0.3 -0.7390704086880291 ... 13.841797062109691 12.499640003022018"
      ]
     },
     "execution_count": 23,
     "metadata": {},
     "output_type": "execute_result"
    }
   ],
   "source": [
    "iso1.primaries[indices2]"
   ]
  },
  {
   "cell_type": "code",
   "execution_count": 24,
   "metadata": {},
   "outputs": [
    {
     "data": {
      "text/plain": [
       "<matplotlib.legend.Legend at 0x7fa9ce9b4438>"
      ]
     },
     "execution_count": 24,
     "metadata": {},
     "output_type": "execute_result"
    },
    {
     "data": {
      "image/png": "[encoded data removed]",
      "text/plain": [
       "<Figure size 432x288 with 1 Axes>"
      ]
     },
     "metadata": {
      "needs_background": "light"
     },
     "output_type": "display_data"
    }
   ],
   "source": [
    "import matplotlib.pyplot as plt\n",
    "plt.plot(iso1.secondaries['m_ubv_B']-iso1.secondaries[\"m_ubv_V\"], iso1.secondaries[\"m_ubv_V\"]-5*np.log10(100), \"r.\", label=\"Secondary stars BPASS isochrone\")\n",
    "plt.xlabel(\"B-V\")\n",
    "plt.ylabel(\"M_V\")\n",
    "plt.title(\"Color magnitude Diagram of Isochrones at solar metallicity and 1 billion years age\")\n",
    "plt.gca().invert_yaxis()\n",
    "plt.legend()"
   ]
  },
  {
   "cell_type": "code",
   "execution_count": 25,
   "metadata": {},
   "outputs": [
    {
     "data": {
      "text/html": [
       "<i>Table length=16</i>\n",
       "<table id=\"table140366865496384\" class=\"table-striped table-bordered table-condensed\">\n",
       "<thead><tr><th>mass</th><th>log_a</th><th>L</th><th>Teff</th><th>R</th><th>logg</th><th>isWR</th><th>mass_current</th><th>phase</th><th>merged</th><th>source</th><th>m_ubv_U</th><th>m_ubv_V</th><th>m_ubv_B</th><th>m_ubv_R</th><th>m_ubv_I</th></tr></thead>\n",
       "<thead><tr><th>solMass</th><th></th><th>W</th><th>K</th><th>m</th><th></th><th></th><th>solMass</th><th></th><th></th><th></th><th></th><th></th><th></th><th></th><th></th></tr></thead>\n",
       "<thead><tr><th>float64</th><th>float64</th><th>float64</th><th>float64</th><th>float64</th><th>float64</th><th>bool</th><th>float64</th><th>float64</th><th>bool</th><th>int64</th><th>float64</th><th>float64</th><th>float64</th><th>float64</th><th>float64</th></tr></thead>\n",
       "<tr><td>0.12</td><td>0.46526459131197084</td><td>9.525371641748255e+21</td><td>692.4525198305719</td><td>240997203.6386495</td><td>4.438068873350758</td><td>False</td><td>0.12</td><td>5.0</td><td>False</td><td>1</td><td>31.642317827988748</td><td>30.070345010609906</td><td>28.407698432701793</td><td>25.56687074093737</td><td>19.659917675146843</td></tr>\n",
       "<tr><td>0.12</td><td>0.8652645913119708</td><td>9.525371641748255e+21</td><td>692.4525198305719</td><td>240997203.6386495</td><td>4.438068873350758</td><td>False</td><td>0.12</td><td>5.0</td><td>False</td><td>1</td><td>31.642317827988748</td><td>30.070345010609906</td><td>28.407698432701793</td><td>25.56687074093737</td><td>19.659917675146843</td></tr>\n",
       "<tr><td>0.12</td><td>0.19859759131197086</td><td>9.525371641748255e+21</td><td>692.4525198305719</td><td>240997203.6386495</td><td>4.438068873350758</td><td>False</td><td>0.12</td><td>5.0</td><td>False</td><td>1</td><td>31.642317827988748</td><td>30.070345010609906</td><td>28.407698432701793</td><td>25.56687074093737</td><td>19.659917675146843</td></tr>\n",
       "<tr><td>0.12</td><td>-1.1347354086880292</td><td>9.525371641748255e+21</td><td>692.4525198305719</td><td>240997203.6386495</td><td>4.438068873350758</td><td>False</td><td>0.12</td><td>5.0</td><td>False</td><td>1</td><td>31.642317827988748</td><td>30.070345010609906</td><td>28.407698432701793</td><td>25.56687074093737</td><td>19.659917675146843</td></tr>\n",
       "<tr><td>0.12</td><td>0.06526459131197093</td><td>9.525371641748255e+21</td><td>692.4525198305719</td><td>240997203.6386495</td><td>4.438068873350758</td><td>False</td><td>0.12</td><td>5.0</td><td>False</td><td>1</td><td>31.642317827988748</td><td>30.070345010609906</td><td>28.407698432701793</td><td>25.56687074093737</td><td>19.659917675146843</td></tr>\n",
       "<tr><td>0.12</td><td>0.5985975913119708</td><td>9.525371641748255e+21</td><td>692.4525198305719</td><td>240997203.6386495</td><td>4.438068873350758</td><td>False</td><td>0.12</td><td>5.0</td><td>False</td><td>1</td><td>31.642317827988748</td><td>30.070345010609906</td><td>28.407698432701793</td><td>25.56687074093737</td><td>19.659917675146843</td></tr>\n",
       "<tr><td>0.12</td><td>0.3319315913119709</td><td>9.525371641748255e+21</td><td>692.4525198305719</td><td>240997203.6386495</td><td>4.438068873350758</td><td>False</td><td>0.12</td><td>5.0</td><td>False</td><td>1</td><td>31.642317827988748</td><td>30.070345010609906</td><td>28.407698432701793</td><td>25.56687074093737</td><td>19.659917675146843</td></tr>\n",
       "<tr><td>0.12</td><td>0.9985975913119707</td><td>9.525371641748255e+21</td><td>692.4525198305719</td><td>240997203.6386495</td><td>4.438068873350758</td><td>False</td><td>0.12</td><td>5.0</td><td>False</td><td>1</td><td>31.642317827988748</td><td>30.070345010609906</td><td>28.407698432701793</td><td>25.56687074093737</td><td>19.659917675146843</td></tr>\n",
       "<tr><td>0.12</td><td>-0.4680684086880291</td><td>9.525371641748255e+21</td><td>692.4525198305719</td><td>240997203.6386495</td><td>4.438068873350758</td><td>False</td><td>0.12</td><td>5.0</td><td>False</td><td>1</td><td>31.642317827988748</td><td>30.070345010609906</td><td>28.407698432701793</td><td>25.56687074093737</td><td>19.659917675146843</td></tr>\n",
       "<tr><td>0.12</td><td>-0.6014024086880292</td><td>9.525371641748255e+21</td><td>692.4525198305719</td><td>240997203.6386495</td><td>4.438068873350758</td><td>False</td><td>0.12</td><td>5.0</td><td>False</td><td>1</td><td>31.642317827988748</td><td>30.070345010609906</td><td>28.407698432701793</td><td>25.56687074093737</td><td>19.659917675146843</td></tr>\n",
       "<tr><td>0.12</td><td>-0.06806840868802899</td><td>9.525371641748255e+21</td><td>692.4525198305719</td><td>240997203.6386495</td><td>4.438068873350758</td><td>False</td><td>0.12</td><td>5.0</td><td>False</td><td>1</td><td>31.642317827988748</td><td>30.070345010609906</td><td>28.407698432701793</td><td>25.56687074093737</td><td>19.659917675146843</td></tr>\n",
       "<tr><td>0.12</td><td>-0.8680684086880293</td><td>9.525371641748255e+21</td><td>692.4525198305719</td><td>240997203.6386495</td><td>4.438068873350758</td><td>False</td><td>0.12</td><td>5.0</td><td>False</td><td>1</td><td>31.642317827988748</td><td>30.070345010609906</td><td>28.407698432701793</td><td>25.56687074093737</td><td>19.659917675146843</td></tr>\n",
       "<tr><td>0.12</td><td>-0.20140240868802906</td><td>9.525371641748255e+21</td><td>692.4525198305719</td><td>240997203.6386495</td><td>4.438068873350758</td><td>False</td><td>0.12</td><td>5.0</td><td>False</td><td>1</td><td>31.642317827988748</td><td>30.070345010609906</td><td>28.407698432701793</td><td>25.56687074093737</td><td>19.659917675146843</td></tr>\n",
       "<tr><td>0.12</td><td>-0.7347354086880291</td><td>9.525371641748255e+21</td><td>692.4525198305719</td><td>240997203.6386495</td><td>4.438068873350758</td><td>False</td><td>0.12</td><td>5.0</td><td>False</td><td>1</td><td>31.642317827988748</td><td>30.070345010609906</td><td>28.407698432701793</td><td>25.56687074093737</td><td>19.659917675146843</td></tr>\n",
       "<tr><td>0.12</td><td>-1.001402408688029</td><td>9.525371641748255e+21</td><td>692.4525198305719</td><td>240997203.6386495</td><td>4.438068873350758</td><td>False</td><td>0.12</td><td>5.0</td><td>False</td><td>1</td><td>31.642317827988748</td><td>30.070345010609906</td><td>28.407698432701793</td><td>25.56687074093737</td><td>19.659917675146843</td></tr>\n",
       "<tr><td>0.12</td><td>0.7319315913119708</td><td>9.525371641748255e+21</td><td>692.4525198305719</td><td>240997203.6386495</td><td>4.438068873350758</td><td>False</td><td>0.12</td><td>5.0</td><td>False</td><td>1</td><td>31.642317827988748</td><td>30.070345010609906</td><td>28.407698432701793</td><td>25.56687074093737</td><td>19.659917675146843</td></tr>\n",
       "</table>"
      ],
      "text/plain": [
       "<Table length=16>\n",
       "  mass         log_a         ...      m_ubv_R           m_ubv_I      \n",
       "solMass                      ...                                     \n",
       "float64       float64        ...      float64           float64      \n",
       "------- -------------------- ... ----------------- ------------------\n",
       "   0.12  0.46526459131197084 ... 25.56687074093737 19.659917675146843\n",
       "   0.12   0.8652645913119708 ... 25.56687074093737 19.659917675146843\n",
       "   0.12  0.19859759131197086 ... 25.56687074093737 19.659917675146843\n",
       "   0.12  -1.1347354086880292 ... 25.56687074093737 19.659917675146843\n",
       "   0.12  0.06526459131197093 ... 25.56687074093737 19.659917675146843\n",
       "   0.12   0.5985975913119708 ... 25.56687074093737 19.659917675146843\n",
       "   0.12   0.3319315913119709 ... 25.56687074093737 19.659917675146843\n",
       "   0.12   0.9985975913119707 ... 25.56687074093737 19.659917675146843\n",
       "   0.12  -0.4680684086880291 ... 25.56687074093737 19.659917675146843\n",
       "   0.12  -0.6014024086880292 ... 25.56687074093737 19.659917675146843\n",
       "   0.12 -0.06806840868802899 ... 25.56687074093737 19.659917675146843\n",
       "   0.12  -0.8680684086880293 ... 25.56687074093737 19.659917675146843\n",
       "   0.12 -0.20140240868802906 ... 25.56687074093737 19.659917675146843\n",
       "   0.12  -0.7347354086880291 ... 25.56687074093737 19.659917675146843\n",
       "   0.12   -1.001402408688029 ... 25.56687074093737 19.659917675146843\n",
       "   0.12   0.7319315913119708 ... 25.56687074093737 19.659917675146843"
      ]
     },
     "execution_count": 25,
     "metadata": {},
     "output_type": "execute_result"
    }
   ],
   "source": [
    "iso1.secondaries[np.where((iso1.secondaries['m_ubv_V']>30) & ((iso1.secondaries['m_ubv_B']-iso1.secondaries['m_ubv_V'])<-1))[0]]"
   ]
  },
  {
   "cell_type": "markdown",
   "metadata": {},
   "source": [
    "Hmm, I think those are stars that are going to be white dwarves very soon or may unintentionally be brown dwarves. At least according to HOKI's criterion for what is a white dwarf or not. At the very least, at least the stars we just saw were low mass stars so they should be **LOW** on the CMD"
   ]
  },
  {
   "cell_type": "code",
   "execution_count": 26,
   "metadata": {},
   "outputs": [
    {
     "name": "stdout",
     "output_type": "stream",
     "text": [
      "Isochrone generation took 88.072433 s.\n",
      "Making photometry for isochrone: log(t) = 9.00  AKs = 0.00  dist = 100\n",
      "     Starting at:  2020-12-14 16:06:20.673991   Usually takes ~5 minutes\n",
      "Starting filter: ubv,U   Elapsed time: 0.00 seconds\n",
      "Starting synthetic photometry\n",
      "M =   0.106 Msun  T =  2909 K  m_ubv_U = 23.81\n",
      "M =   1.215 Msun  T =  6415 K  m_ubv_U = 9.34\n",
      "M =   2.038 Msun  T =  7816 K  m_ubv_U = 6.07\n",
      "M =   2.055 Msun  T =  4955 K  m_ubv_U = 7.95\n",
      "M =   2.071 Msun  T =  4749 K  m_ubv_U = 7.60\n",
      "M =   2.275 Msun  T =  4576 K  m_ubv_U = 7.10\n",
      "M =   2.287 Msun  T =  3677 K  m_ubv_U = 7.20\n",
      "M =   2.287 Msun  T =  3493 K  m_ubv_U = 7.28\n",
      "M =   2.287 Msun  T =  3478 K  m_ubv_U = 7.29\n",
      "M =   2.288 Msun  T =  3244 K  m_ubv_U = 7.38\n",
      "M =   2.288 Msun  T =  3188 K  m_ubv_U = 7.60\n",
      "M =   2.288 Msun  T = 29326 K  m_ubv_U = 1.56\n",
      "M =   2.288 Msun  T = 134813 K  m_ubv_U = 6.28\n",
      "Starting filter: ubv,B   Elapsed time: 3.84 seconds\n",
      "Starting synthetic photometry\n",
      "M =   0.106 Msun  T =  2909 K  m_ubv_B = 22.37\n",
      "M =   1.215 Msun  T =  6415 K  m_ubv_B = 9.39\n",
      "M =   2.038 Msun  T =  7816 K  m_ubv_B = 5.96\n",
      "M =   2.055 Msun  T =  4955 K  m_ubv_B = 7.34\n",
      "M =   2.071 Msun  T =  4749 K  m_ubv_B = 6.76\n",
      "M =   2.275 Msun  T =  4576 K  m_ubv_B = 6.04\n",
      "M =   2.287 Msun  T =  3677 K  m_ubv_B = 5.14\n",
      "M =   2.287 Msun  T =  3493 K  m_ubv_B = 5.35\n",
      "M =   2.287 Msun  T =  3478 K  m_ubv_B = 5.37\n",
      "M =   2.288 Msun  T =  3244 K  m_ubv_B = 6.16\n",
      "M =   2.288 Msun  T =  3188 K  m_ubv_B = 6.69\n",
      "M =   2.288 Msun  T = 29326 K  m_ubv_B = 2.63\n",
      "M =   2.288 Msun  T = 134813 K  m_ubv_B = 7.47\n",
      "Starting filter: ubv,V   Elapsed time: 7.54 seconds\n",
      "Starting synthetic photometry\n",
      "M =   0.106 Msun  T =  2909 K  m_ubv_V = 20.95\n",
      "M =   1.215 Msun  T =  6415 K  m_ubv_V = 8.89\n",
      "M =   2.038 Msun  T =  7816 K  m_ubv_V = 5.77\n",
      "M =   2.055 Msun  T =  4955 K  m_ubv_V = 6.36\n",
      "M =   2.071 Msun  T =  4749 K  m_ubv_V = 5.67\n",
      "M =   2.275 Msun  T =  4576 K  m_ubv_V = 4.86\n",
      "M =   2.287 Msun  T =  3677 K  m_ubv_V = 3.49\n",
      "M =   2.287 Msun  T =  3493 K  m_ubv_V = 3.71\n",
      "M =   2.287 Msun  T =  3478 K  m_ubv_V = 3.74\n",
      "M =   2.288 Msun  T =  3244 K  m_ubv_V = 4.81\n",
      "M =   2.288 Msun  T =  3188 K  m_ubv_V = 5.46\n",
      "M =   2.288 Msun  T = 29326 K  m_ubv_V = 2.87\n",
      "M =   2.288 Msun  T = 134813 K  m_ubv_V = 7.83\n",
      "Starting filter: ubv,R   Elapsed time: 11.23 seconds\n",
      "Starting synthetic photometry\n",
      "M =   0.106 Msun  T =  2909 K  m_ubv_R = 19.54\n",
      "M =   1.215 Msun  T =  6415 K  m_ubv_R = 8.63\n",
      "M =   2.038 Msun  T =  7816 K  m_ubv_R = 5.67\n",
      "M =   2.055 Msun  T =  4955 K  m_ubv_R = 5.89\n",
      "M =   2.071 Msun  T =  4749 K  m_ubv_R = 5.15\n",
      "M =   2.275 Msun  T =  4576 K  m_ubv_R = 4.31\n",
      "M =   2.287 Msun  T =  3677 K  m_ubv_R = 2.64\n",
      "M =   2.287 Msun  T =  3493 K  m_ubv_R = 2.76\n",
      "M =   2.287 Msun  T =  3478 K  m_ubv_R = 2.78\n",
      "M =   2.288 Msun  T =  3244 K  m_ubv_R = 3.55\n",
      "M =   2.288 Msun  T =  3188 K  m_ubv_R = 4.02\n",
      "M =   2.288 Msun  T = 29326 K  m_ubv_R = 2.94\n",
      "M =   2.288 Msun  T = 134813 K  m_ubv_R = 7.96\n",
      "Starting filter: ubv,I   Elapsed time: 14.77 seconds\n",
      "Starting synthetic photometry\n",
      "M =   0.106 Msun  T =  2909 K  m_ubv_I = 16.51\n",
      "M =   1.215 Msun  T =  6415 K  m_ubv_I = 8.31\n",
      "M =   2.038 Msun  T =  7816 K  m_ubv_I = 5.55\n",
      "M =   2.055 Msun  T =  4955 K  m_ubv_I = 5.30\n",
      "M =   2.071 Msun  T =  4749 K  m_ubv_I = 4.51\n",
      "M =   2.275 Msun  T =  4576 K  m_ubv_I = 3.61\n",
      "M =   2.287 Msun  T =  3677 K  m_ubv_I = 1.33\n",
      "M =   2.287 Msun  T =  3493 K  m_ubv_I = 0.95\n",
      "M =   2.287 Msun  T =  3478 K  m_ubv_I = 0.93\n",
      "M =   2.288 Msun  T =  3244 K  m_ubv_I = 0.71\n",
      "M =   2.288 Msun  T =  3188 K  m_ubv_I = 0.87\n",
      "M =   2.288 Msun  T = 29326 K  m_ubv_I = 3.16\n",
      "M =   2.288 Msun  T = 134813 K  m_ubv_I = 8.27\n",
      "      Time taken: 18.29 seconds\n"
     ]
    }
   ],
   "source": [
    "iso2=synthetic.IsochronePhot(9.0, 0.0, 100, math.log(1), recomp=True) # New MIST v.1 isochrone for same metallicity"
   ]
  },
  {
   "cell_type": "markdown",
   "metadata": {},
   "source": [
    "Looking at the distribution of logg values. for the stars in the MISTv.1 isochrone."
   ]
  },
  {
   "cell_type": "code",
   "execution_count": 27,
   "metadata": {},
   "outputs": [
    {
     "data": {
      "text/plain": [
       "7.649638166828848"
      ]
     },
     "execution_count": 27,
     "metadata": {},
     "output_type": "execute_result"
    }
   ],
   "source": [
    "np.max(iso2.points['logg'])"
   ]
  },
  {
   "cell_type": "code",
   "execution_count": 28,
   "metadata": {},
   "outputs": [
    {
     "data": {
      "text/plain": [
       "(array([455., 107., 231., 202., 161.,  44.,  28.,  61.,   0.,   0.,   0.,\n",
       "          0.,   0.,   0.,   0.,   0.,   0.,   0.,   0.,   0.,   0.,   0.,\n",
       "          0.,   0.,   0.,   0.,   0.,   0.,   0.]),\n",
       " array([ 0,  1,  2,  3,  4,  5,  6,  7,  8,  9, 10, 11, 12, 13, 14, 15, 16,\n",
       "        17, 18, 19, 20, 21, 22, 23, 24, 25, 26, 27, 28, 29]),\n",
       " <a list of 29 Patch objects>)"
      ]
     },
     "execution_count": 28,
     "metadata": {},
     "output_type": "execute_result"
    },
    {
     "data": {
      "image/png": "[encoded data removed]",
      "text/plain": [
       "<Figure size 432x288 with 1 Axes>"
      ]
     },
     "metadata": {
      "needs_background": "light"
     },
     "output_type": "display_data"
    }
   ],
   "source": [
    "import matplotlib.pyplot as plt\n",
    "plt.xlabel(\"logg in cgs\")\n",
    "plt.title(\"Histogram of logg values of stars in the MIST v1 isochrone\")\n",
    "plt.hist(np.array([x for x in iso2.points['logg'] if np.isfinite(x)]), np.arange(0, 30, 1))"
   ]
  },
  {
   "cell_type": "code",
   "execution_count": 29,
   "metadata": {},
   "outputs": [
    {
     "data": {
      "text/plain": [
       "2.3813767318010193"
      ]
     },
     "execution_count": 29,
     "metadata": {},
     "output_type": "execute_result"
    }
   ],
   "source": [
    "np.median(iso2.points['logg'])"
   ]
  },
  {
   "cell_type": "code",
   "execution_count": 30,
   "metadata": {},
   "outputs": [
    {
     "data": {
      "text/plain": [
       "2.5137952710880946"
      ]
     },
     "execution_count": 30,
     "metadata": {},
     "output_type": "execute_result"
    }
   ],
   "source": [
    "np.mean(iso2.points['logg'])"
   ]
  },
  {
   "cell_type": "code",
   "execution_count": 31,
   "metadata": {},
   "outputs": [],
   "source": [
    "from spisea import imf\n",
    "from spisea.imf import imf, multiplicity\n",
    "from spisea import ifmr\n"
   ]
  },
  {
   "cell_type": "markdown",
   "metadata": {},
   "source": [
    "Make the clusters corresponding to the binary star isochrone and the MISTv.1 isochrone"
   ]
  },
  {
   "cell_type": "code",
   "execution_count": 32,
   "metadata": {
    "scrolled": false
   },
   "outputs": [
    {
     "name": "stderr",
     "output_type": "stream",
     "text": [
      "/opt/anaconda3/envs/astroconda/lib/python3.7/site-packages/astropy/table/column.py:1020: RuntimeWarning: invalid value encountered in greater_equal\n",
      "  result = getattr(super(), op)(other)\n"
     ]
    },
    {
     "name": "stdout",
     "output_type": "stream",
     "text": [
      "Found 33 companions out of stellar mass range\n"
     ]
    }
   ],
   "source": [
    "clus_1=synthetic.Binary_Cluster(iso1, imf.IMFSalpeter1955(multiplicity=multiplicity.MultiplicityResolvedDK()), 2000, ifmr=ifmr.IFMR_Spera15())\n",
    "clus_2=synthetic.ResolvedCluster(iso2, imf.IMFSalpeter1955(multiplicity=multiplicity.MultiplicityResolvedDK()), 2000, ifmr=ifmr.IFMR_Spera15())"
   ]
  },
  {
   "cell_type": "markdown",
   "metadata": {},
   "source": [
    "Now let's visualize the isochrone we have created so far with a color magnitude diagram. There we can see the end of main sequence and perhaps the M type"
   ]
  },
  {
   "cell_type": "code",
   "execution_count": 33,
   "metadata": {},
   "outputs": [
    {
     "data": {
      "text/plain": [
       "<matplotlib.legend.Legend at 0x7fa9ae088828>"
      ]
     },
     "execution_count": 33,
     "metadata": {},
     "output_type": "execute_result"
    },
    {
     "data": {
      "image/png": "[encoded data removed]",
      "text/plain": [
       "<Figure size 432x288 with 1 Axes>"
      ]
     },
     "metadata": {
      "needs_background": "light"
     },
     "output_type": "display_data"
    }
   ],
   "source": [
    "# Taking a look at the Binary Cluster vs Default Settings cluster Observer's HR Diagram\n",
    "# Remember to use a distance modulus!\n",
    "import matplotlib.pyplot as plt\n",
    "plt.plot(iso1.primaries['m_ubv_B']-iso1.primaries[\"m_ubv_V\"], iso1.primaries[\"m_ubv_V\"]-5*np.log10(100), \"r.\")\n",
    "plt.plot(iso1.secondaries['m_ubv_B']-iso1.secondaries[\"m_ubv_V\"], iso1.secondaries[\"m_ubv_V\"]-5*np.log10(100), \"r.\")\n",
    "plt.plot(iso1.singles['m_ubv_B']-iso1.singles[\"m_ubv_V\"], iso1.singles[\"m_ubv_V\"]-5*np.log10(100), \"r.\", label=\"BPASS isochrone\")\n",
    "plt.plot(iso2.points['m_ubv_B']-iso2.points[\"m_ubv_V\"], iso2.points[\"m_ubv_V\"]-5*np.log10(100), \"b+\", label=\"MISTv1\", alpha = 0.2)\n",
    "plt.xlabel(\"B-V\")\n",
    "plt.ylabel(\"M_V\")\n",
    "plt.title(\"Color magnitude Diagram of Isochrones at solar metallicity and 1 billion years age\")\n",
    "plt.gca().invert_yaxis()\n",
    "plt.legend()"
   ]
  },
  {
   "cell_type": "markdown",
   "metadata": {},
   "source": [
    "We do have several outliers but otherwise the pattern does not seem too terribly off from the MISTv.1 isochrone's shape. Now I look at the primary stars and see if there are any problems caused."
   ]
  },
  {
   "cell_type": "code",
   "execution_count": 34,
   "metadata": {},
   "outputs": [
    {
     "data": {
      "text/plain": [
       "<matplotlib.legend.Legend at 0x7fa9bf813da0>"
      ]
     },
     "execution_count": 34,
     "metadata": {},
     "output_type": "execute_result"
    },
    {
     "data": {
      "image/png": "[encoded data removed]",
      "text/plain": [
       "<Figure size 432x288 with 1 Axes>"
      ]
     },
     "metadata": {
      "needs_background": "light"
     },
     "output_type": "display_data"
    }
   ],
   "source": [
    "# Taking a look at the Binary Cluster vs Default Settings cluster Observer's HR Diagram\n",
    "# Remember to use a distance modulus!\n",
    "import matplotlib.pyplot as plt\n",
    "plt.plot(iso1.primaries['m_ubv_B']-iso1.primaries[\"m_ubv_V\"], iso1.primaries[\"m_ubv_V\"]-5*np.log10(100), \"r+\",  label=\"BPASS isochrone\", alpha =0.7)\n",
    "plt.xlabel(\"B-V\")\n",
    "plt.ylabel(\"M_V\")\n",
    "plt.title(\"Color magnitude Diagram of Isochrones at solar metallicity and 1 billion years age (Primary stars only)\")\n",
    "plt.gca().invert_yaxis()\n",
    "plt.legend()"
   ]
  },
  {
   "cell_type": "code",
   "execution_count": 35,
   "metadata": {},
   "outputs": [
    {
     "data": {
      "text/plain": [
       "<matplotlib.legend.Legend at 0x7fa9bf218208>"
      ]
     },
     "execution_count": 35,
     "metadata": {},
     "output_type": "execute_result"
    },
    {
     "data": {
      "image/png": "[encoded data removed]",
      "text/plain": [
       "<Figure size 432x288 with 1 Axes>"
      ]
     },
     "metadata": {
      "needs_background": "light"
     },
     "output_type": "display_data"
    }
   ],
   "source": [
    "import matplotlib.pyplot as plt\n",
    "plt.plot(iso1.secondaries['m_ubv_B']-iso1.secondaries[\"m_ubv_V\"], iso1.secondaries[\"m_ubv_V\"]-5*np.log10(100), \"r+\",  label=\"BPASS isochrone\", alpha =0.7)\n",
    "plt.xlabel(\"B-V\")\n",
    "plt.ylabel(\"M_V\")\n",
    "plt.title(\"Color magnitude Diagram of Isochrones at solar metallicity and 1 billion years age (Primary stars only)\")\n",
    "plt.gca().invert_yaxis()\n",
    "plt.legend()"
   ]
  },
  {
   "cell_type": "markdown",
   "metadata": {},
   "source": [
    "Where are some of the goofy outliers coming from?"
   ]
  },
  {
   "cell_type": "code",
   "execution_count": 36,
   "metadata": {},
   "outputs": [
    {
     "name": "stderr",
     "output_type": "stream",
     "text": [
      "/opt/anaconda3/envs/astroconda/lib/python3.7/site-packages/astropy/table/column.py:1020: RuntimeWarning: invalid value encountered in greater\n",
      "  result = getattr(super(), op)(other)\n"
     ]
    },
    {
     "data": {
      "text/html": [
       "<i>Table length=16</i>\n",
       "<table id=\"table140365841126680\" class=\"table-striped table-bordered table-condensed\">\n",
       "<thead><tr><th>mass</th><th>log_a</th><th>L</th><th>Teff</th><th>R</th><th>logg</th><th>isWR</th><th>mass_current</th><th>phase</th><th>merged</th><th>source</th><th>m_ubv_U</th><th>m_ubv_V</th><th>m_ubv_B</th><th>m_ubv_R</th><th>m_ubv_I</th></tr></thead>\n",
       "<thead><tr><th>solMass</th><th></th><th>W</th><th>K</th><th>m</th><th></th><th></th><th>solMass</th><th></th><th></th><th></th><th></th><th></th><th></th><th></th><th></th></tr></thead>\n",
       "<thead><tr><th>float64</th><th>float64</th><th>float64</th><th>float64</th><th>float64</th><th>float64</th><th>bool</th><th>float64</th><th>float64</th><th>bool</th><th>int64</th><th>float64</th><th>float64</th><th>float64</th><th>float64</th><th>float64</th></tr></thead>\n",
       "<tr><td>0.12</td><td>0.46526459131197084</td><td>9.525371641748255e+21</td><td>692.4525198305719</td><td>240997203.6386495</td><td>4.438068873350758</td><td>False</td><td>0.12</td><td>5.0</td><td>False</td><td>1</td><td>31.642317827988748</td><td>30.070345010609906</td><td>28.407698432701793</td><td>25.56687074093737</td><td>19.659917675146843</td></tr>\n",
       "<tr><td>0.12</td><td>0.8652645913119708</td><td>9.525371641748255e+21</td><td>692.4525198305719</td><td>240997203.6386495</td><td>4.438068873350758</td><td>False</td><td>0.12</td><td>5.0</td><td>False</td><td>1</td><td>31.642317827988748</td><td>30.070345010609906</td><td>28.407698432701793</td><td>25.56687074093737</td><td>19.659917675146843</td></tr>\n",
       "<tr><td>0.12</td><td>0.19859759131197086</td><td>9.525371641748255e+21</td><td>692.4525198305719</td><td>240997203.6386495</td><td>4.438068873350758</td><td>False</td><td>0.12</td><td>5.0</td><td>False</td><td>1</td><td>31.642317827988748</td><td>30.070345010609906</td><td>28.407698432701793</td><td>25.56687074093737</td><td>19.659917675146843</td></tr>\n",
       "<tr><td>0.12</td><td>-1.1347354086880292</td><td>9.525371641748255e+21</td><td>692.4525198305719</td><td>240997203.6386495</td><td>4.438068873350758</td><td>False</td><td>0.12</td><td>5.0</td><td>False</td><td>1</td><td>31.642317827988748</td><td>30.070345010609906</td><td>28.407698432701793</td><td>25.56687074093737</td><td>19.659917675146843</td></tr>\n",
       "<tr><td>0.12</td><td>0.06526459131197093</td><td>9.525371641748255e+21</td><td>692.4525198305719</td><td>240997203.6386495</td><td>4.438068873350758</td><td>False</td><td>0.12</td><td>5.0</td><td>False</td><td>1</td><td>31.642317827988748</td><td>30.070345010609906</td><td>28.407698432701793</td><td>25.56687074093737</td><td>19.659917675146843</td></tr>\n",
       "<tr><td>0.12</td><td>0.5985975913119708</td><td>9.525371641748255e+21</td><td>692.4525198305719</td><td>240997203.6386495</td><td>4.438068873350758</td><td>False</td><td>0.12</td><td>5.0</td><td>False</td><td>1</td><td>31.642317827988748</td><td>30.070345010609906</td><td>28.407698432701793</td><td>25.56687074093737</td><td>19.659917675146843</td></tr>\n",
       "<tr><td>0.12</td><td>0.3319315913119709</td><td>9.525371641748255e+21</td><td>692.4525198305719</td><td>240997203.6386495</td><td>4.438068873350758</td><td>False</td><td>0.12</td><td>5.0</td><td>False</td><td>1</td><td>31.642317827988748</td><td>30.070345010609906</td><td>28.407698432701793</td><td>25.56687074093737</td><td>19.659917675146843</td></tr>\n",
       "<tr><td>0.12</td><td>0.9985975913119707</td><td>9.525371641748255e+21</td><td>692.4525198305719</td><td>240997203.6386495</td><td>4.438068873350758</td><td>False</td><td>0.12</td><td>5.0</td><td>False</td><td>1</td><td>31.642317827988748</td><td>30.070345010609906</td><td>28.407698432701793</td><td>25.56687074093737</td><td>19.659917675146843</td></tr>\n",
       "<tr><td>0.12</td><td>-0.4680684086880291</td><td>9.525371641748255e+21</td><td>692.4525198305719</td><td>240997203.6386495</td><td>4.438068873350758</td><td>False</td><td>0.12</td><td>5.0</td><td>False</td><td>1</td><td>31.642317827988748</td><td>30.070345010609906</td><td>28.407698432701793</td><td>25.56687074093737</td><td>19.659917675146843</td></tr>\n",
       "<tr><td>0.12</td><td>-0.6014024086880292</td><td>9.525371641748255e+21</td><td>692.4525198305719</td><td>240997203.6386495</td><td>4.438068873350758</td><td>False</td><td>0.12</td><td>5.0</td><td>False</td><td>1</td><td>31.642317827988748</td><td>30.070345010609906</td><td>28.407698432701793</td><td>25.56687074093737</td><td>19.659917675146843</td></tr>\n",
       "<tr><td>0.12</td><td>-0.06806840868802899</td><td>9.525371641748255e+21</td><td>692.4525198305719</td><td>240997203.6386495</td><td>4.438068873350758</td><td>False</td><td>0.12</td><td>5.0</td><td>False</td><td>1</td><td>31.642317827988748</td><td>30.070345010609906</td><td>28.407698432701793</td><td>25.56687074093737</td><td>19.659917675146843</td></tr>\n",
       "<tr><td>0.12</td><td>-0.8680684086880293</td><td>9.525371641748255e+21</td><td>692.4525198305719</td><td>240997203.6386495</td><td>4.438068873350758</td><td>False</td><td>0.12</td><td>5.0</td><td>False</td><td>1</td><td>31.642317827988748</td><td>30.070345010609906</td><td>28.407698432701793</td><td>25.56687074093737</td><td>19.659917675146843</td></tr>\n",
       "<tr><td>0.12</td><td>-0.20140240868802906</td><td>9.525371641748255e+21</td><td>692.4525198305719</td><td>240997203.6386495</td><td>4.438068873350758</td><td>False</td><td>0.12</td><td>5.0</td><td>False</td><td>1</td><td>31.642317827988748</td><td>30.070345010609906</td><td>28.407698432701793</td><td>25.56687074093737</td><td>19.659917675146843</td></tr>\n",
       "<tr><td>0.12</td><td>-0.7347354086880291</td><td>9.525371641748255e+21</td><td>692.4525198305719</td><td>240997203.6386495</td><td>4.438068873350758</td><td>False</td><td>0.12</td><td>5.0</td><td>False</td><td>1</td><td>31.642317827988748</td><td>30.070345010609906</td><td>28.407698432701793</td><td>25.56687074093737</td><td>19.659917675146843</td></tr>\n",
       "<tr><td>0.12</td><td>-1.001402408688029</td><td>9.525371641748255e+21</td><td>692.4525198305719</td><td>240997203.6386495</td><td>4.438068873350758</td><td>False</td><td>0.12</td><td>5.0</td><td>False</td><td>1</td><td>31.642317827988748</td><td>30.070345010609906</td><td>28.407698432701793</td><td>25.56687074093737</td><td>19.659917675146843</td></tr>\n",
       "<tr><td>0.12</td><td>0.7319315913119708</td><td>9.525371641748255e+21</td><td>692.4525198305719</td><td>240997203.6386495</td><td>4.438068873350758</td><td>False</td><td>0.12</td><td>5.0</td><td>False</td><td>1</td><td>31.642317827988748</td><td>30.070345010609906</td><td>28.407698432701793</td><td>25.56687074093737</td><td>19.659917675146843</td></tr>\n",
       "</table>"
      ],
      "text/plain": [
       "<Table length=16>\n",
       "  mass         log_a         ...      m_ubv_R           m_ubv_I      \n",
       "solMass                      ...                                     \n",
       "float64       float64        ...      float64           float64      \n",
       "------- -------------------- ... ----------------- ------------------\n",
       "   0.12  0.46526459131197084 ... 25.56687074093737 19.659917675146843\n",
       "   0.12   0.8652645913119708 ... 25.56687074093737 19.659917675146843\n",
       "   0.12  0.19859759131197086 ... 25.56687074093737 19.659917675146843\n",
       "   0.12  -1.1347354086880292 ... 25.56687074093737 19.659917675146843\n",
       "   0.12  0.06526459131197093 ... 25.56687074093737 19.659917675146843\n",
       "   0.12   0.5985975913119708 ... 25.56687074093737 19.659917675146843\n",
       "   0.12   0.3319315913119709 ... 25.56687074093737 19.659917675146843\n",
       "   0.12   0.9985975913119707 ... 25.56687074093737 19.659917675146843\n",
       "   0.12  -0.4680684086880291 ... 25.56687074093737 19.659917675146843\n",
       "   0.12  -0.6014024086880292 ... 25.56687074093737 19.659917675146843\n",
       "   0.12 -0.06806840868802899 ... 25.56687074093737 19.659917675146843\n",
       "   0.12  -0.8680684086880293 ... 25.56687074093737 19.659917675146843\n",
       "   0.12 -0.20140240868802906 ... 25.56687074093737 19.659917675146843\n",
       "   0.12  -0.7347354086880291 ... 25.56687074093737 19.659917675146843\n",
       "   0.12   -1.001402408688029 ... 25.56687074093737 19.659917675146843\n",
       "   0.12   0.7319315913119708 ... 25.56687074093737 19.659917675146843"
      ]
     },
     "execution_count": 36,
     "metadata": {},
     "output_type": "execute_result"
    }
   ],
   "source": [
    "iso1.secondaries[np.where(iso1.secondaries[\"m_ubv_V\"]-5*np.log10(100)>20.0)[0]]"
   ]
  },
  {
   "cell_type": "code",
   "execution_count": 37,
   "metadata": {},
   "outputs": [],
   "source": [
    "issue = iso1.secondaries[np.where(iso1.secondaries[\"m_ubv_V\"]-5*np.log10(100)>20.0)[0]]"
   ]
  },
  {
   "cell_type": "code",
   "execution_count": 38,
   "metadata": {},
   "outputs": [
    {
     "data": {
      "text/html": [
       "&lt;Column name=&apos;mass&apos; dtype=&apos;float64&apos; unit=&apos;solMass&apos; length=1&gt;\n",
       "<table>\n",
       "<tr><td>0.12</td></tr>\n",
       "</table>"
      ],
      "text/plain": [
       "<Column name='mass' dtype='float64' unit='solMass' length=1>\n",
       "0.12"
      ]
     },
     "execution_count": 38,
     "metadata": {},
     "output_type": "execute_result"
    }
   ],
   "source": [
    "np.unique(issue['mass'])"
   ]
  },
  {
   "cell_type": "code",
   "execution_count": 39,
   "metadata": {},
   "outputs": [
    {
     "data": {
      "text/html": [
       "&lt;Column name=&apos;phase&apos; dtype=&apos;float64&apos; length=1&gt;\n",
       "<table>\n",
       "<tr><td>5.0</td></tr>\n",
       "</table>"
      ],
      "text/plain": [
       "<Column name='phase' dtype='float64' length=1>\n",
       "5.0"
      ]
     },
     "execution_count": 39,
     "metadata": {},
     "output_type": "execute_result"
    }
   ],
   "source": [
    "np.unique(issue['phase'])"
   ]
  },
  {
   "cell_type": "code",
   "execution_count": 40,
   "metadata": {},
   "outputs": [
    {
     "data": {
      "text/plain": [
       "<matplotlib.legend.Legend at 0x7fa9588ed978>"
      ]
     },
     "execution_count": 40,
     "metadata": {},
     "output_type": "execute_result"
    },
    {
     "data": {
      "image/png": "[encoded data removed]",
      "text/plain": [
       "<Figure size 432x288 with 1 Axes>"
      ]
     },
     "metadata": {
      "needs_background": "light"
     },
     "output_type": "display_data"
    }
   ],
   "source": [
    "import matplotlib.pyplot as plt\n",
    "plt.plot(np.log10(iso1.primaries['Teff']), np.log10(iso1.primaries[\"L\"]), \"r.\", alpha =0.3)\n",
    "plt.plot(np.log10(iso1.secondaries['Teff']), np.log10(iso1.secondaries[\"L\"]), \"r.\", alpha =0.3)\n",
    "plt.plot(np.log10(iso1.singles['Teff']), np.log10(iso1.singles[\"L\"]), \"r.\", label=\"BPASS isochrone\", alpha =0.3)\n",
    "plt.plot(np.log10(iso2.points['Teff']), np.log10(iso2.points[\"L\"]), \"b+\", label=\"MISTv1\", alpha =0.1)\n",
    "plt.xlabel(\"log(T in Kelvin)\")\n",
    "plt.ylabel(\"log(L in Watts)\")\n",
    "plt.title(\"HR Diagram of Isochrones at solar metallicity and 1 billion years age\")\n",
    "plt.gca().invert_xaxis()\n",
    "plt.legend()\n",
    "# Rough pattern seems to fit. What's that line?"
   ]
  },
  {
   "cell_type": "markdown",
   "metadata": {},
   "source": [
    "A good sign here is that there are plenty of compact remnant (that means good number of stars have gone through their main-sequence and post-main sequence). I also notice stars turning to the red giant branch. This is going to be really important when we decide to use the clusters as reference for finding ages of actual star clusters."
   ]
  },
  {
   "cell_type": "code",
   "execution_count": 41,
   "metadata": {},
   "outputs": [
    {
     "data": {
      "text/plain": [
       "<matplotlib.legend.Legend at 0x7fa958949fd0>"
      ]
     },
     "execution_count": 41,
     "metadata": {},
     "output_type": "execute_result"
    },
    {
     "data": {
      "image/png": "[encoded data removed]",
      "text/plain": [
       "<Figure size 432x288 with 1 Axes>"
      ]
     },
     "metadata": {
      "needs_background": "light"
     },
     "output_type": "display_data"
    }
   ],
   "source": [
    "# Plot the mass-luminosity relationship\n",
    "from astropy import constants as cs\n",
    "import matplotlib.pyplot as plt\n",
    "plt.plot(np.log10(iso1.primaries['mass_current']), np.log10(iso1.primaries[\"L\"]/cs.L_sun), \"r.\")\n",
    "plt.plot(np.log10(iso1.secondaries['mass_current']), np.log10(iso1.secondaries[\"L\"]/cs.L_sun), \"r.\")\n",
    "plt.plot(np.log10(iso1.singles['mass_current']), np.log10(iso1.singles[\"L\"]/cs.L_sun), \"r.\", label=\"BPASS isochrone\")\n",
    "plt.plot(np.log10(iso2.points['mass_current']), np.log10(iso2.points[\"L\"]/cs.L_sun), \"b+\", label=\"MISTv1\", alpha =0.2)\n",
    "plt.xlabel(\"log(Current Mass in solar masses)\")\n",
    "plt.ylabel(\"log(L/L_solar)\")\n",
    "plt.title(\"log Mass-logL of Isochrones at solar metallicity and 1 billion years age\")\n",
    "plt.legend()\n",
    "# Rough pattern seems to fit. What's that line?"
   ]
  },
  {
   "cell_type": "markdown",
   "metadata": {},
   "source": [
    "Which table is causing that line segment at around log10(L/L_sun)=-3?\n",
    "Let's find out."
   ]
  },
  {
   "cell_type": "code",
   "execution_count": 42,
   "metadata": {},
   "outputs": [
    {
     "data": {
      "text/plain": [
       "[<matplotlib.lines.Line2D at 0x7fa9b63313c8>]"
      ]
     },
     "execution_count": 42,
     "metadata": {},
     "output_type": "execute_result"
    },
    {
     "data": {
      "image/png": "[encoded data removed]",
      "text/plain": [
       "<Figure size 432x288 with 1 Axes>"
      ]
     },
     "metadata": {
      "needs_background": "light"
     },
     "output_type": "display_data"
    }
   ],
   "source": [
    "from astropy import constants as cs\n",
    "import matplotlib.pyplot as plt\n",
    "plt.plot(np.log10(iso1.primaries['mass_current']), np.log10(iso1.primaries[\"L\"]/cs.L_sun), \"r.\", label=\"BPASS isochrone\")"
   ]
  },
  {
   "cell_type": "markdown",
   "metadata": {},
   "source": [
    "Which type of secondary star is it that is causing this strange pattern?"
   ]
  },
  {
   "cell_type": "code",
   "execution_count": 43,
   "metadata": {},
   "outputs": [
    {
     "name": "stderr",
     "output_type": "stream",
     "text": [
      "/opt/anaconda3/envs/astroconda/lib/python3.7/site-packages/astropy/units/quantity.py:477: RuntimeWarning: invalid value encountered in greater\n",
      "  result = super().__array_ufunc__(function, method, *arrays, **kwargs)\n",
      "/opt/anaconda3/envs/astroconda/lib/python3.7/site-packages/astropy/units/quantity.py:477: RuntimeWarning: invalid value encountered in less\n",
      "  result = super().__array_ufunc__(function, method, *arrays, **kwargs)\n"
     ]
    }
   ],
   "source": [
    "bad_line = iso1.primaries[np.where((np.log10(iso1.primaries[\"L\"]/cs.L_sun)>-3.30) & (np.log10(iso1.primaries[\"L\"]/cs.L_sun)<-3.10))[0]]"
   ]
  },
  {
   "cell_type": "code",
   "execution_count": 44,
   "metadata": {},
   "outputs": [
    {
     "data": {
      "text/html": [
       "<i>Table length=301</i>\n",
       "<table id=\"table140366746929136\" class=\"table-striped table-bordered table-condensed\">\n",
       "<thead><tr><th>mass</th><th>log_a</th><th>L</th><th>Teff</th><th>R</th><th>logg</th><th>isWR</th><th>mass_current</th><th>phase</th><th>source</th><th>m_ubv_U</th><th>m_ubv_V</th><th>m_ubv_B</th><th>m_ubv_R</th><th>m_ubv_I</th></tr></thead>\n",
       "<thead><tr><th>solMass</th><th></th><th>W</th><th>K</th><th>m</th><th></th><th></th><th>solMass</th><th></th><th></th><th></th><th></th><th></th><th></th><th></th></tr></thead>\n",
       "<thead><tr><th>float64</th><th>float64</th><th>float64</th><th>float64</th><th>float64</th><th>float64</th><th>bool</th><th>float64</th><th>float64</th><th>int64</th><th>float64</th><th>float64</th><th>float64</th><th>float64</th><th>float64</th></tr></thead>\n",
       "<tr><td>0.794328</td><td>0.35470859131197097</td><td>2.6668705105418817e+23</td><td>2738.7349246249955</td><td>81562431.48962052</td><td>4.338067498968938</td><td>False</td><td>0.794328</td><td>110.0</td><td>4</td><td>nan</td><td>nan</td><td>nan</td><td>nan</td><td>nan</td></tr>\n",
       "<tr><td>1.25893</td><td>0.504210591311971</td><td>2.6668705105418817e+23</td><td>2738.7349246249955</td><td>81562431.48962052</td><td>4.538069210104485</td><td>False</td><td>1.25893</td><td>110.0</td><td>4</td><td>nan</td><td>nan</td><td>nan</td><td>nan</td><td>nan</td></tr>\n",
       "<tr><td>2.51189</td><td>0.6303145913119708</td><td>2.6668705105418817e+23</td><td>2738.7349246249955</td><td>81562431.48962052</td><td>4.8398356118570485</td><td>False</td><td>2.522133</td><td>110.0</td><td>4</td><td>nan</td><td>nan</td><td>nan</td><td>nan</td><td>nan</td></tr>\n",
       "<tr><td>6.30957</td><td>0.676568591311971</td><td>2.6668705105418817e+23</td><td>2738.7349246249955</td><td>81562431.48962052</td><td>5.2398806024725575</td><td>False</td><td>6.335968</td><td>110.0</td><td>4</td><td>nan</td><td>nan</td><td>nan</td><td>nan</td><td>nan</td></tr>\n",
       "<tr><td>5.01187</td><td>-1.892630508688029</td><td>2.6668705105418817e+23</td><td>2738.7349246249955</td><td>81562431.48962052</td><td>5.192737588817441</td><td>False</td><td>5.684208</td><td>110.0</td><td>3</td><td>nan</td><td>nan</td><td>nan</td><td>nan</td><td>nan</td></tr>\n",
       "<tr><td>1.0</td><td>0.628848591311971</td><td>2.6668705105418817e+23</td><td>2738.7349246249955</td><td>81562431.48962052</td><td>4.438067627303133</td><td>False</td><td>1.0</td><td>110.0</td><td>4</td><td>nan</td><td>nan</td><td>nan</td><td>nan</td><td>nan</td></tr>\n",
       "<tr><td>0.501187</td><td>-0.8165464086880292</td><td>2.6668705105418817e+23</td><td>2738.7349246249955</td><td>81562431.48962052</td><td>4.150973285237059</td><td>False</td><td>0.5163042</td><td>110.0</td><td>4</td><td>nan</td><td>nan</td><td>nan</td><td>nan</td><td>nan</td></tr>\n",
       "<tr><td>1.0</td><td>0.9305035913119708</td><td>2.6668705105418817e+23</td><td>2738.7349246249955</td><td>81562431.48962052</td><td>4.438067627303133</td><td>False</td><td>1.0</td><td>110.0</td><td>4</td><td>nan</td><td>nan</td><td>nan</td><td>nan</td><td>nan</td></tr>\n",
       "<tr><td>0.501187</td><td>-1.1755444086880291</td><td>2.6668705105418817e+23</td><td>2738.7349246249955</td><td>81562431.48962052</td><td>4.138067424857716</td><td>False</td><td>0.501187</td><td>110.0</td><td>3</td><td>nan</td><td>nan</td><td>nan</td><td>nan</td><td>nan</td></tr>\n",
       "<tr><td>...</td><td>...</td><td>...</td><td>...</td><td>...</td><td>...</td><td>...</td><td>...</td><td>...</td><td>...</td><td>...</td><td>...</td><td>...</td><td>...</td><td>...</td></tr>\n",
       "<tr><td>0.501187</td><td>0.5159675913119708</td><td>2.6668705105418817e+23</td><td>2738.7349246249955</td><td>81562431.48962052</td><td>4.138067424857716</td><td>False</td><td>0.501187</td><td>110.0</td><td>4</td><td>nan</td><td>nan</td><td>nan</td><td>nan</td><td>nan</td></tr>\n",
       "<tr><td>1.0</td><td>1.162182591311971</td><td>2.6668705105418817e+23</td><td>2738.7349246249955</td><td>81562431.48962052</td><td>4.438067627303133</td><td>False</td><td>1.0</td><td>110.0</td><td>4</td><td>nan</td><td>nan</td><td>nan</td><td>nan</td><td>nan</td></tr>\n",
       "<tr><td>1.4</td><td>0.882940591311971</td><td>2.6668705105418817e+23</td><td>2738.7349246249955</td><td>81562431.48962052</td><td>4.584195662981371</td><td>False</td><td>1.4</td><td>110.0</td><td>4</td><td>nan</td><td>nan</td><td>nan</td><td>nan</td><td>nan</td></tr>\n",
       "<tr><td>1.4</td><td>-0.197767408688029</td><td>2.6668705105418817e+23</td><td>2738.7349246249955</td><td>81562431.48962052</td><td>4.584195662981371</td><td>False</td><td>1.4</td><td>110.0</td><td>4</td><td>nan</td><td>nan</td><td>nan</td><td>nan</td><td>nan</td></tr>\n",
       "<tr><td>0.501187</td><td>0.024455591311970615</td><td>2.6668705105418817e+23</td><td>2738.7349246249955</td><td>81562431.48962052</td><td>4.138067424857716</td><td>False</td><td>0.501187</td><td>110.0</td><td>4</td><td>nan</td><td>nan</td><td>nan</td><td>nan</td><td>nan</td></tr>\n",
       "<tr><td>0.398107</td><td>-0.9630114086880293</td><td>2.6668705105418817e+23</td><td>2738.7349246249955</td><td>81562431.48962052</td><td>4.0698370964880635</td><td>False</td><td>0.4283211</td><td>110.0</td><td>4</td><td>nan</td><td>nan</td><td>nan</td><td>nan</td><td>nan</td></tr>\n",
       "<tr><td>0.316228</td><td>-1.0533334086880293</td><td>2.6668705105418817e+23</td><td>2738.7349246249955</td><td>81562431.48962052</td><td>3.9380679486460686</td><td>False</td><td>0.316228</td><td>110.0</td><td>3</td><td>nan</td><td>nan</td><td>nan</td><td>nan</td><td>nan</td></tr>\n",
       "<tr><td>1.0</td><td>1.1174465913119707</td><td>2.6668705105418817e+23</td><td>2738.7349246249955</td><td>81562431.48962052</td><td>4.438067627303133</td><td>False</td><td>1.0</td><td>110.0</td><td>4</td><td>nan</td><td>nan</td><td>nan</td><td>nan</td><td>nan</td></tr>\n",
       "<tr><td>0.630957</td><td>-1.8231427086880292</td><td>2.6668705105418817e+23</td><td>2738.7349246249955</td><td>81562431.48962052</td><td>4.345254419129256</td><td>False</td><td>0.8075823</td><td>110.0</td><td>3</td><td>nan</td><td>nan</td><td>nan</td><td>nan</td><td>nan</td></tr>\n",
       "<tr><td>0.398107</td><td>-1.0983204086880292</td><td>2.6668705105418817e+23</td><td>2738.7349246249955</td><td>81562431.48962052</td><td>4.079997012525623</td><td>False</td><td>0.4384594</td><td>110.0</td><td>4</td><td>nan</td><td>nan</td><td>nan</td><td>nan</td><td>nan</td></tr>\n",
       "</table>"
      ],
      "text/plain": [
       "<Table length=301>\n",
       "  mass          log_a                   L            ... m_ubv_B m_ubv_R m_ubv_I\n",
       "solMass                                 W            ...                        \n",
       "float64        float64               float64         ... float64 float64 float64\n",
       "-------- -------------------- ---------------------- ... ------- ------- -------\n",
       "0.794328  0.35470859131197097 2.6668705105418817e+23 ...     nan     nan     nan\n",
       " 1.25893    0.504210591311971 2.6668705105418817e+23 ...     nan     nan     nan\n",
       " 2.51189   0.6303145913119708 2.6668705105418817e+23 ...     nan     nan     nan\n",
       " 6.30957    0.676568591311971 2.6668705105418817e+23 ...     nan     nan     nan\n",
       " 5.01187   -1.892630508688029 2.6668705105418817e+23 ...     nan     nan     nan\n",
       "     1.0    0.628848591311971 2.6668705105418817e+23 ...     nan     nan     nan\n",
       "0.501187  -0.8165464086880292 2.6668705105418817e+23 ...     nan     nan     nan\n",
       "     1.0   0.9305035913119708 2.6668705105418817e+23 ...     nan     nan     nan\n",
       "0.501187  -1.1755444086880291 2.6668705105418817e+23 ...     nan     nan     nan\n",
       "     ...                  ...                    ... ...     ...     ...     ...\n",
       "0.501187   0.5159675913119708 2.6668705105418817e+23 ...     nan     nan     nan\n",
       "     1.0    1.162182591311971 2.6668705105418817e+23 ...     nan     nan     nan\n",
       "     1.4    0.882940591311971 2.6668705105418817e+23 ...     nan     nan     nan\n",
       "     1.4   -0.197767408688029 2.6668705105418817e+23 ...     nan     nan     nan\n",
       "0.501187 0.024455591311970615 2.6668705105418817e+23 ...     nan     nan     nan\n",
       "0.398107  -0.9630114086880293 2.6668705105418817e+23 ...     nan     nan     nan\n",
       "0.316228  -1.0533334086880293 2.6668705105418817e+23 ...     nan     nan     nan\n",
       "     1.0   1.1174465913119707 2.6668705105418817e+23 ...     nan     nan     nan\n",
       "0.630957  -1.8231427086880292 2.6668705105418817e+23 ...     nan     nan     nan\n",
       "0.398107  -1.0983204086880292 2.6668705105418817e+23 ...     nan     nan     nan"
      ]
     },
     "execution_count": 44,
     "metadata": {},
     "output_type": "execute_result"
    }
   ],
   "source": [
    "bad_line"
   ]
  },
  {
   "cell_type": "markdown",
   "metadata": {},
   "source": [
    "What sorts of characteristics (logg, Teff, L) can be causing it? Let's find out"
   ]
  },
  {
   "cell_type": "code",
   "execution_count": 45,
   "metadata": {},
   "outputs": [
    {
     "data": {
      "text/html": [
       "&lt;Column name=&apos;L&apos; dtype=&apos;float64&apos; unit=&apos;W&apos; length=1&gt;\n",
       "<table>\n",
       "<tr><td>2.6668705105418817e+23</td></tr>\n",
       "</table>"
      ],
      "text/plain": [
       "<Column name='L' dtype='float64' unit='W' length=1>\n",
       "2.6668705105418817e+23"
      ]
     },
     "execution_count": 45,
     "metadata": {},
     "output_type": "execute_result"
    }
   ],
   "source": [
    "np.unique(bad_line['L'])"
   ]
  },
  {
   "cell_type": "code",
   "execution_count": 46,
   "metadata": {},
   "outputs": [
    {
     "data": {
      "text/html": [
       "&lt;Column name=&apos;Teff&apos; dtype=&apos;float64&apos; unit=&apos;K&apos; length=1&gt;\n",
       "<table>\n",
       "<tr><td>2738.7349246249955</td></tr>\n",
       "</table>"
      ],
      "text/plain": [
       "<Column name='Teff' dtype='float64' unit='K' length=1>\n",
       "2738.7349246249955"
      ]
     },
     "execution_count": 46,
     "metadata": {},
     "output_type": "execute_result"
    }
   ],
   "source": [
    "np.unique(bad_line['Teff'])"
   ]
  },
  {
   "cell_type": "code",
   "execution_count": 47,
   "metadata": {},
   "outputs": [
    {
     "data": {
      "text/html": [
       "&lt;Column name=&apos;logg&apos; dtype=&apos;float64&apos; unit=&apos;&apos; length=131&gt;\n",
       "<table>\n",
       "<tr><td>3.8380682442795133</td></tr>\n",
       "<tr><td>3.848991568402669</td></tr>\n",
       "<tr><td>3.862687955573788</td></tr>\n",
       "<tr><td>3.9380679486460686</td></tr>\n",
       "<tr><td>3.949071219388386</td></tr>\n",
       "<tr><td>3.95045154147022</td></tr>\n",
       "<tr><td>3.9519118377249005</td></tr>\n",
       "<tr><td>3.9618896339800544</td></tr>\n",
       "<tr><td>3.9727241454707474</td></tr>\n",
       "<tr><td>3.985484415173413</td></tr>\n",
       "<tr><td>3.9914786178351043</td></tr>\n",
       "<tr><td>4.038067441246554</td></tr>\n",
       "<tr><td>...</td></tr>\n",
       "<tr><td>5.375674274827064</td></tr>\n",
       "<tr><td>5.381166398836118</td></tr>\n",
       "<tr><td>5.382790624812725</td></tr>\n",
       "<tr><td>5.391887169290722</td></tr>\n",
       "<tr><td>5.412425885206954</td></tr>\n",
       "<tr><td>5.422900774271951</td></tr>\n",
       "<tr><td>5.493306778639813</td></tr>\n",
       "<tr><td>5.583379974877322</td></tr>\n",
       "<tr><td>5.739501979976954</td></tr>\n",
       "<tr><td>5.752008207728312</td></tr>\n",
       "<tr><td>5.870808813617263</td></tr>\n",
       "<tr><td>5.8758665304319955</td></tr>\n",
       "</table>"
      ],
      "text/plain": [
       "<Column name='logg' dtype='float64' unit='' length=131>\n",
       "3.8380682442795133\n",
       " 3.848991568402669\n",
       " 3.862687955573788\n",
       "3.9380679486460686\n",
       " 3.949071219388386\n",
       "  3.95045154147022\n",
       "3.9519118377249005\n",
       "3.9618896339800544\n",
       "3.9727241454707474\n",
       " 3.985484415173413\n",
       "3.9914786178351043\n",
       " 4.038067441246554\n",
       "               ...\n",
       " 5.375674274827064\n",
       " 5.381166398836118\n",
       " 5.382790624812725\n",
       " 5.391887169290722\n",
       " 5.412425885206954\n",
       " 5.422900774271951\n",
       " 5.493306778639813\n",
       " 5.583379974877322\n",
       " 5.739501979976954\n",
       " 5.752008207728312\n",
       " 5.870808813617263\n",
       "5.8758665304319955"
      ]
     },
     "execution_count": 47,
     "metadata": {},
     "output_type": "execute_result"
    }
   ],
   "source": [
    "np.unique(bad_line['logg'])"
   ]
  },
  {
   "cell_type": "code",
   "execution_count": 48,
   "metadata": {},
   "outputs": [
    {
     "data": {
      "text/html": [
       "&lt;Column name=&apos;mass&apos; dtype=&apos;float64&apos; unit=&apos;solMass&apos; length=16&gt;\n",
       "<table>\n",
       "<tr><td>0.251189</td></tr>\n",
       "<tr><td>0.316228</td></tr>\n",
       "<tr><td>0.398107</td></tr>\n",
       "<tr><td>0.501187</td></tr>\n",
       "<tr><td>0.630957</td></tr>\n",
       "<tr><td>0.794328</td></tr>\n",
       "<tr><td>1.0</td></tr>\n",
       "<tr><td>1.25893</td></tr>\n",
       "<tr><td>1.4</td></tr>\n",
       "<tr><td>1.99526</td></tr>\n",
       "<tr><td>2.51189</td></tr>\n",
       "<tr><td>3.16228</td></tr>\n",
       "<tr><td>3.98107</td></tr>\n",
       "<tr><td>5.01187</td></tr>\n",
       "<tr><td>6.30957</td></tr>\n",
       "<tr><td>7.94328</td></tr>\n",
       "</table>"
      ],
      "text/plain": [
       "<Column name='mass' dtype='float64' unit='solMass' length=16>\n",
       "0.251189\n",
       "0.316228\n",
       "0.398107\n",
       "0.501187\n",
       "0.630957\n",
       "0.794328\n",
       "     1.0\n",
       " 1.25893\n",
       "     1.4\n",
       " 1.99526\n",
       " 2.51189\n",
       " 3.16228\n",
       " 3.98107\n",
       " 5.01187\n",
       " 6.30957\n",
       " 7.94328"
      ]
     },
     "execution_count": 48,
     "metadata": {},
     "output_type": "execute_result"
    }
   ],
   "source": [
    "np.unique(bad_line['mass'])"
   ]
  },
  {
   "cell_type": "code",
   "execution_count": 49,
   "metadata": {},
   "outputs": [
    {
     "data": {
      "text/html": [
       "&lt;Column name=&apos;phase&apos; dtype=&apos;float64&apos; length=1&gt;\n",
       "<table>\n",
       "<tr><td>110.0</td></tr>\n",
       "</table>"
      ],
      "text/plain": [
       "<Column name='phase' dtype='float64' length=1>\n",
       "110.0"
      ]
     },
     "execution_count": 49,
     "metadata": {},
     "output_type": "execute_result"
    }
   ],
   "source": [
    "np.unique(bad_line['phase'])"
   ]
  },
  {
   "cell_type": "markdown",
   "metadata": {},
   "source": [
    "**It turns out that the line was caused by some compact remnants that were lingering around from the NEWSECMODS. In future versions of the stellar evolution model, I may obtain an additional program from the BPASS creators to match the types of compact remnants from the NEWSECMODS.**"
   ]
  },
  {
   "cell_type": "code",
   "execution_count": 50,
   "metadata": {},
   "outputs": [
    {
     "data": {
      "text/plain": [
       "<matplotlib.legend.Legend at 0x7fa99868ef28>"
      ]
     },
     "execution_count": 50,
     "metadata": {},
     "output_type": "execute_result"
    },
    {
     "data": {
      "image/png": "[encoded data removed]",
      "text/plain": [
       "<Figure size 432x288 with 1 Axes>"
      ]
     },
     "metadata": {
      "needs_background": "light"
     },
     "output_type": "display_data"
    }
   ],
   "source": [
    "# Plot the mass-luminosity relationship\n",
    "from astropy import constants as cs\n",
    "from astropy import units as u\n",
    "import numpy as np\n",
    "import matplotlib.pyplot as plt\n",
    "plt.plot((clus_1.star_systems['mass_current']), np.log10(clus_1.star_systems[\"L\"]), \"r.\", label=\"Binary_Cluster made from BPASS\", alpha =1)\n",
    "plt.plot((clus_1.companions['mass_current']), np.log10(clus_1.companions[\"L\"]), \"r.\", label=\"Binary_Cluster made from BPASS\", alpha = 1)\n",
    "plt.plot((clus_2.star_systems['mass_current']), np.log10(clus_2.star_systems[\"L\"]), \"b.\", label=\"Binary_Cluster made from MISTv.1\", alpha =0.1)\n",
    "plt.plot((clus_2.companions['mass_current']), np.log10(clus_2.companions[\"L\"]), \"b.\", label=\"Binary_Cluster made from MISTv.1\", alpha = 0.1)\n",
    "plt.xlabel(\"Current Mass in solar masses\")\n",
    "plt.ylabel(\"log(L in Watts)\")\n",
    "plt.title(\"Mass-logL of Cluster at solar metallicity and 1 billion years age\")\n",
    "plt.legend()\n",
    "# Rough pattern seems to fit. What's that line?"
   ]
  },
  {
   "cell_type": "markdown",
   "metadata": {},
   "source": [
    "Where is that hook coming from?"
   ]
  },
  {
   "cell_type": "code",
   "execution_count": 51,
   "metadata": {},
   "outputs": [
    {
     "name": "stderr",
     "output_type": "stream",
     "text": [
      "/opt/anaconda3/envs/astroconda/lib/python3.7/site-packages/astropy/table/column.py:1020: RuntimeWarning: invalid value encountered in less_equal\n",
      "  result = getattr(super(), op)(other)\n"
     ]
    },
    {
     "data": {
      "text/html": [
       "&lt;Column name=&apos;phase&apos; dtype=&apos;float64&apos; length=2&gt;\n",
       "<table>\n",
       "<tr><td>101.0</td></tr>\n",
       "<tr><td>110.0</td></tr>\n",
       "</table>"
      ],
      "text/plain": [
       "<Column name='phase' dtype='float64' length=2>\n",
       "101.0\n",
       "110.0"
      ]
     },
     "execution_count": 51,
     "metadata": {},
     "output_type": "execute_result"
    }
   ],
   "source": [
    "np.unique(iso1.primaries[np.where(np.log10(iso1.primaries[\"L\"])<=25)]['phase'])"
   ]
  },
  {
   "cell_type": "code",
   "execution_count": 52,
   "metadata": {},
   "outputs": [
    {
     "data": {
      "text/plain": [
       "301"
      ]
     },
     "execution_count": 52,
     "metadata": {},
     "output_type": "execute_result"
    }
   ],
   "source": [
    "len(iso1.primaries[np.where((np.log10(iso1.primaries[\"L\"])<=25) & (iso1.primaries[\"phase\"]==110))])"
   ]
  },
  {
   "cell_type": "code",
   "execution_count": 53,
   "metadata": {},
   "outputs": [
    {
     "data": {
      "text/plain": [
       "1173"
      ]
     },
     "execution_count": 53,
     "metadata": {},
     "output_type": "execute_result"
    }
   ],
   "source": [
    "len(iso1.primaries[np.where((np.log10(iso1.primaries[\"L\"])<=25) & (iso1.primaries[\"phase\"]==101))])"
   ]
  },
  {
   "cell_type": "markdown",
   "metadata": {},
   "source": [
    "OK. It makes sense that our compact remnants are causing this. (Remember, there really is no significant fusion in the insides of neutron stars or white dwarves."
   ]
  },
  {
   "cell_type": "code",
   "execution_count": 54,
   "metadata": {},
   "outputs": [
    {
     "data": {
      "text/plain": [
       "<matplotlib.legend.Legend at 0x7fa9ceba7dd8>"
      ]
     },
     "execution_count": 54,
     "metadata": {},
     "output_type": "execute_result"
    },
    {
     "data": {
      "image/png": "[encoded data removed]",
      "text/plain": [
       "<Figure size 432x288 with 1 Axes>"
      ]
     },
     "metadata": {
      "needs_background": "light"
     },
     "output_type": "display_data"
    }
   ],
   "source": [
    "# Plot the mass-luminosity relationship\n",
    "from astropy import constants as cs\n",
    "from astropy import units as u\n",
    "import matplotlib.pyplot as plt\n",
    "plt.plot(clus_1.star_systems['mass_current'], np.log10(clus_1.star_systems[\"L\"]), \"r.\", label=\"Binary_Cluster made from BPASS\", alpha =1)\n",
    "plt.xlabel(\"log Current Mass in solar masses\")\n",
    "plt.ylabel(\"log(L/L_solar)\")\n",
    "plt.title(\"log-Mass-logL of Cluster at solar metallicity and 1 billion years age\")\n",
    "plt.legend()\n",
    "# Rough pattern seems to fit. What's that line?"
   ]
  },
  {
   "cell_type": "code",
   "execution_count": 55,
   "metadata": {},
   "outputs": [
    {
     "data": {
      "text/plain": [
       "<matplotlib.legend.Legend at 0x7fa9b6372b00>"
      ]
     },
     "execution_count": 55,
     "metadata": {},
     "output_type": "execute_result"
    },
    {
     "data": {
      "image/png": "[encoded data removed]",
      "text/plain": [
       "<Figure size 432x288 with 1 Axes>"
      ]
     },
     "metadata": {
      "needs_background": "light"
     },
     "output_type": "display_data"
    }
   ],
   "source": [
    "# Plot the mass-luminosity relationship\n",
    "from astropy import constants as cs\n",
    "from astropy import units as u\n",
    "import matplotlib.pyplot as plt\n",
    "plt.plot(clus_1.companions['mass_current'], np.log10(clus_1.companions[\"L\"]), \"r.\", label=\"Binary_Cluster made from BPASS\", alpha =1)\n",
    "plt.xlabel(\"log Current Mass in solar masses\")\n",
    "plt.ylabel(\"log(L/L_solar)\")\n",
    "plt.title(\"log-Mass-logL of Cluster at solar metallicity and 1 billion years age\")\n",
    "plt.legend()\n",
    "# Rough pattern seems to fit. What's that line?"
   ]
  },
  {
   "cell_type": "markdown",
   "metadata": {},
   "source": [
    "Aha, it looks like the companions are causing this! and these are probably the 110 and 101 phased stars. Otherwise I like the alignment"
   ]
  },
  {
   "cell_type": "code",
   "execution_count": 56,
   "metadata": {},
   "outputs": [
    {
     "data": {
      "text/plain": [
       "<matplotlib.legend.Legend at 0x7fa94812fa20>"
      ]
     },
     "execution_count": 56,
     "metadata": {},
     "output_type": "execute_result"
    },
    {
     "data": {
      "image/png": "[encoded data removed]",
      "text/plain": [
       "<Figure size 432x288 with 1 Axes>"
      ]
     },
     "metadata": {
      "needs_background": "light"
     },
     "output_type": "display_data"
    }
   ],
   "source": [
    "# Taking a look at the Binary Cluster vs Default Settings cluster Observer's HR Diagram\n",
    "# Remember to use a distance modulus!\n",
    "import matplotlib.pyplot as plt\n",
    "plt.plot(clus_1.star_systems['m_ubv_B']-clus_1.star_systems[\"m_ubv_V\"], clus_1.star_systems[\"m_ubv_V\"]-5*np.log10(100), \"r.\",label=\"BPASS\")\n",
    "plt.plot(clus_2.star_systems['m_ubv_B']-clus_2.star_systems[\"m_ubv_V\"], clus_2.star_systems[\"m_ubv_V\"]-5*np.log10(100), \"b+\", label=\"MISTv1\", alpha=0.1)\n",
    "plt.xlabel(\"B-V\")\n",
    "plt.ylabel(\"M_V\")\n",
    "plt.title(\"Color magnitude Diagram of clusters at solar metallicity and 1 billion years age\")\n",
    "plt.gca().invert_yaxis()\n",
    "plt.legend()"
   ]
  },
  {
   "cell_type": "code",
   "execution_count": 57,
   "metadata": {},
   "outputs": [
    {
     "data": {
      "text/html": [
       "<i>Table length=0</i>\n",
       "<table id=\"table140366884633512\" class=\"table-striped table-bordered table-condensed\">\n",
       "<thead><tr><th>mass</th><th>systemMass</th><th>Teff</th><th>L</th><th>logg</th><th>isWR</th><th>mass_current</th><th>phase</th><th>metallicity</th><th>isMultiple</th><th>merged</th><th>m_ubv_U</th><th>m_ubv_V</th><th>m_ubv_B</th><th>m_ubv_R</th><th>m_ubv_I</th></tr></thead>\n",
       "<thead><tr><th>solMass</th><th></th><th>K</th><th>W</th><th></th><th></th><th>solMass</th><th></th><th></th><th></th><th></th><th></th><th></th><th></th><th></th><th></th></tr></thead>\n",
       "<thead><tr><th>float64</th><th>float64</th><th>float64</th><th>float64</th><th>float64</th><th>bool</th><th>float64</th><th>float64</th><th>float64</th><th>bool</th><th>bool</th><th>float64</th><th>float64</th><th>float64</th><th>float64</th><th>float64</th></tr></thead>\n",
       "</table>"
      ],
      "text/plain": [
       "<Table length=0>\n",
       "  mass  systemMass   Teff     L      logg  ... m_ubv_V m_ubv_B m_ubv_R m_ubv_I\n",
       "solMass               K       W            ...                                \n",
       "float64  float64   float64 float64 float64 ... float64 float64 float64 float64\n",
       "------- ---------- ------- ------- ------- ... ------- ------- ------- -------"
      ]
     },
     "execution_count": 57,
     "metadata": {},
     "output_type": "execute_result"
    }
   ],
   "source": [
    "clus_1.star_systems[np.where(clus_1.star_systems[\"m_ubv_V\"]==0)]"
   ]
  },
  {
   "cell_type": "code",
   "execution_count": 58,
   "metadata": {},
   "outputs": [
    {
     "data": {
      "text/plain": [
       "<matplotlib.legend.Legend at 0x7fa9b6500fd0>"
      ]
     },
     "execution_count": 58,
     "metadata": {},
     "output_type": "execute_result"
    },
    {
     "data": {
      "image/png": "[encoded data removed]",
      "text/plain": [
       "<Figure size 432x288 with 1 Axes>"
      ]
     },
     "metadata": {
      "needs_background": "light"
     },
     "output_type": "display_data"
    }
   ],
   "source": [
    "import matplotlib.pyplot as plt\n",
    "plt.plot(np.log10(clus_1.companions['Teff']), np.log10(clus_1.companions[\"L\"]), \"r.\",label=\"BPASS isochrone\", alpha=0.5)\n",
    "plt.plot(np.log10(clus_2.companions['Teff']), np.log10(clus_2.companions[\"L\"]), \"b+\", alpha=0.15)\n",
    "plt.plot(np.log10(clus_1.star_systems['Teff']), np.log10(clus_1.star_systems[\"L\"]), \"r.\",label=\"BPASS isochrone\", alpha=0.5)\n",
    "plt.plot(np.log10(clus_2.star_systems['Teff']), np.log10(clus_2.star_systems[\"L\"]), \"b+\", label=\"MISTv1\", alpha=0.15)\n",
    "plt.xlabel(\"log(T in kelvin)\")\n",
    "plt.ylabel(\"log(L in watts)\")\n",
    "plt.title(\"HR Diagram of clusters at solar metallicity and 1 billion years age\")\n",
    "plt.gca().invert_xaxis()\n",
    "plt.legend()"
   ]
  },
  {
   "cell_type": "markdown",
   "metadata": {},
   "source": [
    "Looking at which stars are the white dwarves?"
   ]
  },
  {
   "cell_type": "code",
   "execution_count": 59,
   "metadata": {},
   "outputs": [
    {
     "data": {
      "text/plain": [
       "array([   2,    4,    7,    9,   10,   11,   14,   17,   18,   19,   23,\n",
       "         24,   25,   28,   29,   30,   36,   38,   40,   44,   46,   47,\n",
       "         48,   49,   50,   51,   52,   57,   60,   63,   64,   65,   67,\n",
       "         72,   75,   77,   83,   84,   86,   89,   90,   92,   93,   97,\n",
       "         98,   99,  101,  102,  106,  108,  110,  111,  115,  117,  118,\n",
       "        119,  120,  121,  123,  125,  127,  128,  135,  137,  145,  148,\n",
       "        149,  151,  153,  154,  157,  158,  160,  166,  169,  170,  174,\n",
       "        176,  177,  178,  179,  181,  182,  187,  189,  199,  202,  207,\n",
       "        208,  211,  214,  216,  217,  222,  269,  289,  340,  349,  376,\n",
       "        421,  424,  427,  433,  436,  521,  566,  634,  700,  719,  734,\n",
       "        739,  760,  813,  826,  879,  905, 1071, 1085, 1098, 1135, 1148,\n",
       "       1152, 1192, 1206, 1223, 1253, 1270, 1343, 1393, 1430, 1436, 1451,\n",
       "       1452, 1478, 1481, 1493, 1504, 1514, 1515, 1572, 1575, 1597, 1604,\n",
       "       1611, 1688, 1695, 1761, 1772, 1784, 1799, 1816, 1867, 1898, 1905,\n",
       "       1920, 1937, 1939, 2042, 2044, 2048, 2051, 2071, 2075, 2087, 2107,\n",
       "       2142, 2180, 2181, 2187, 2189, 2239, 2247])"
      ]
     },
     "execution_count": 59,
     "metadata": {},
     "output_type": "execute_result"
    }
   ],
   "source": [
    "import numpy as np\n",
    "np.where(clus_1.star_systems['phase']==101.0)[0]"
   ]
  },
  {
   "cell_type": "markdown",
   "metadata": {},
   "source": [
    "Black Holes?"
   ]
  },
  {
   "cell_type": "code",
   "execution_count": 60,
   "metadata": {},
   "outputs": [
    {
     "data": {
      "text/plain": [
       "array([], dtype=int64)"
      ]
     },
     "execution_count": 60,
     "metadata": {},
     "output_type": "execute_result"
    }
   ],
   "source": [
    "np.where(clus_1.star_systems['phase']==103.0)[0]"
   ]
  },
  {
   "cell_type": "code",
   "execution_count": 61,
   "metadata": {},
   "outputs": [
    {
     "data": {
      "text/plain": [
       "array([], dtype=int64)"
      ]
     },
     "execution_count": 61,
     "metadata": {},
     "output_type": "execute_result"
    }
   ],
   "source": [
    "np.where(clus_1.star_systems['phase']==102.0)[0]"
   ]
  },
  {
   "cell_type": "code",
   "execution_count": 62,
   "metadata": {},
   "outputs": [
    {
     "data": {
      "text/plain": [
       "1911.8762413391783"
      ]
     },
     "execution_count": 62,
     "metadata": {},
     "output_type": "execute_result"
    }
   ],
   "source": [
    "clus_1.star_systems['systemMass'].sum()"
   ]
  },
  {
   "cell_type": "code",
   "execution_count": 63,
   "metadata": {},
   "outputs": [
    {
     "data": {
      "text/plain": [
       "1998.0567350930905"
      ]
     },
     "execution_count": 63,
     "metadata": {},
     "output_type": "execute_result"
    }
   ],
   "source": [
    "clus_2.star_systems['systemMass'].sum()"
   ]
  }
 ],
 "metadata": {
  "kernelspec": {
   "display_name": "astroconda",
   "language": "python",
   "name": "astroconda"
  },
  "language_info": {
   "codemirror_mode": {
    "name": "ipython",
    "version": 3
   },
   "file_extension": ".py",
   "mimetype": "text/x-python",
   "name": "python",
   "nbconvert_exporter": "python",
   "pygments_lexer": "ipython3",
   "version": "3.7.3"
  }
 },
 "nbformat": 4,
 "nbformat_minor": 2
}
