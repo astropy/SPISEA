{
 "cells": [
  {
   "cell_type": "markdown",
   "metadata": {},
   "source": [
    "## Testing the BPASS Isochrone at $10^{7.0}$ Years Age and Comparing with MIST Model (Solar Metallicity)\n",
    "In this BPASS isochrone and cluster plot, I go over the BPASS isochrone for 10^7 years age, solar metallicity, AKs=0.0, and distance of 1000 parsecs from Earth. From the isochrone and cluster, we discuss several plots such as the log_g frequency distribution of the isochrone, the color magnitude diagram ($B-V$ vs $M_V$), and the mass luminosity relationship of the cluster."
   ]
  },
  {
   "cell_type": "markdown",
   "metadata": {},
   "source": [
    "## This is for example as well as debugging purposes."
   ]
  },
  {
   "cell_type": "code",
   "execution_count": 1,
   "metadata": {},
   "outputs": [
    {
     "name": "stderr",
     "output_type": "stream",
     "text": [
      "/opt/anaconda3/envs/astroconda/lib/python3.7/site-packages/pysynphot/locations.py:345: UserWarning: Extinction files not found in /g/lu/models/cdbs/extinction\n",
      "  warnings.warn('Extinction files not found in %s' % (extdir, ))\n",
      "/opt/anaconda3/envs/astroconda/lib/python3.7/site-packages/pysynphot/refs.py:125: UserWarning: No thermal tables found, no thermal calculations can be performed. No files found for /g/lu/models/cdbs/mtab/*_tmt.fits\n",
      "  'no thermal calculations can be performed. ' + str(e))\n",
      "/opt/anaconda3/envs/astroconda/lib/python3.7/site-packages/astropy/units/quantity.py:479: RuntimeWarning: invalid value encountered in true_divide\n",
      "  result = super().__array_ufunc__(function, method, *arrays, **kwargs)\n",
      "/u/ryotainagaki/Desktop/PyPopStar/spisea/evolution.py:1794: RuntimeWarning: overflow encountered in power\n",
      "  (1 / cs.au) * un.m)\n",
      "/opt/anaconda3/envs/astroconda/lib/python3.7/site-packages/astropy/units/quantity.py:479: RuntimeWarning: divide by zero encountered in true_divide\n",
      "  result = super().__array_ufunc__(function, method, *arrays, **kwargs)\n",
      "/opt/anaconda3/envs/astroconda/lib/python3.7/site-packages/astropy/units/quantity.py:479: RuntimeWarning: invalid value encountered in true_divide\n",
      "  result = super().__array_ufunc__(function, method, *arrays, **kwargs)\n"
     ]
    },
    {
     "name": "stdout",
     "output_type": "stream",
     "text": [
      "Changing to logg=4.00 for T= 35763 logg=3.88\n",
      "Changing to T= 50000 for T=102134 logg=5.40\n",
      "Changing to logg=5.00 for T=102134 logg=5.40\n",
      "Changing to T= 50000 for T= 83086 logg=4.67\n",
      "Changing to logg=5.00 for T= 83086 logg=4.67\n",
      "Changing to T= 50000 for T= 73318 logg=4.84\n",
      "Changing to logg=5.00 for T= 73318 logg=4.84\n",
      "Changing to T= 50000 for T=101667 logg=5.41\n",
      "Changing to logg=5.00 for T=101667 logg=5.41\n",
      "Changing to logg=4.00 for T= 31761 logg=3.51\n",
      "Changing to logg=4.00 for T= 31615 logg=3.92\n",
      "Changing to T= 50000 for T= 63838 logg=4.53\n",
      "Changing to logg=5.00 for T= 63838 logg=4.53\n",
      "Changing to T= 50000 for T= 67724 logg=4.33\n",
      "Changing to logg=5.00 for T= 67724 logg=4.33\n",
      "Changing to T= 50000 for T= 72205 logg=4.44\n",
      "Changing to logg=5.00 for T= 72205 logg=4.44\n",
      "Changing to T= 50000 for T= 90738 logg=5.12\n",
      "Changing to logg=5.00 for T= 90738 logg=5.12\n",
      "Changing to T= 50000 for T= 71698 logg=4.79\n",
      "Changing to logg=5.00 for T= 71698 logg=4.79\n",
      "Changing to T= 50000 for T=101368 logg=5.42\n",
      "Changing to logg=5.00 for T=101368 logg=5.42\n",
      "Changing to T= 50000 for T=102045 logg=5.39\n",
      "Changing to logg=5.00 for T=102045 logg=5.39\n",
      "Changing to T= 50000 for T=168597 logg=5.82\n",
      "Changing to logg=5.00 for T=168597 logg=5.82\n",
      "Changing to T= 50000 for T=165067 logg=5.79\n",
      "Changing to logg=5.00 for T=165067 logg=5.79\n",
      "Changing to T= 50000 for T= 72058 logg=4.80\n",
      "Changing to logg=5.00 for T= 72058 logg=4.80\n",
      "Changing to T= 50000 for T= 73797 logg=4.47\n",
      "Changing to logg=5.00 for T= 73797 logg=4.47\n",
      "Changing to T= 50000 for T= 65131 logg=4.26\n",
      "Changing to logg=5.00 for T= 65131 logg=4.26\n",
      "Changing to T= 50000 for T= 65318 logg=4.27\n",
      "Changing to logg=5.00 for T= 65318 logg=4.27\n",
      "Changing to T= 50000 for T= 73264 logg=4.46\n",
      "Changing to logg=5.00 for T= 73264 logg=4.46\n",
      "Changing to T= 50000 for T=103240 logg=5.41\n",
      "Changing to logg=5.00 for T=103240 logg=5.41\n",
      "Changing to logg=3.00 for T= 21835 logg=2.72\n",
      "Changing to T= 50000 for T= 65996 logg=4.30\n",
      "Changing to logg=5.00 for T= 65996 logg=4.30\n",
      "Changing to logg=4.00 for T= 32897 logg=3.88\n",
      "Changing to T= 50000 for T= 72367 logg=4.44\n",
      "Changing to logg=5.00 for T= 72367 logg=4.44\n",
      "Changing to T= 50000 for T= 69470 logg=4.37\n",
      "Changing to logg=5.00 for T= 69470 logg=4.37\n",
      "Changing to T= 50000 for T= 71035 logg=4.40\n",
      "Changing to logg=5.00 for T= 71035 logg=4.40\n",
      "Changing to T= 50000 for T=101167 logg=5.41\n",
      "Changing to logg=5.00 for T=101167 logg=5.41\n",
      "Changing to T= 50000 for T=100716 logg=5.42\n",
      "Changing to logg=5.00 for T=100716 logg=5.42\n",
      "Changing to T= 50000 for T= 66764 logg=4.30\n",
      "Changing to logg=5.00 for T= 66764 logg=4.30\n",
      "Changing to T= 50000 for T= 64973 logg=4.27\n",
      "Changing to logg=5.00 for T= 64973 logg=4.27\n",
      "Changing to T= 50000 for T= 78703 logg=4.56\n",
      "Changing to logg=5.00 for T= 78703 logg=4.56\n",
      "Changing to T= 50000 for T= 85269 logg=4.71\n",
      "Changing to logg=5.00 for T= 85269 logg=4.71\n",
      "Changing to T= 50000 for T= 59869 logg=4.39\n",
      "Changing to logg=5.00 for T= 59869 logg=4.39\n",
      "Changing to logg=4.50 for T= 42214 logg=3.72\n",
      "Changing to T= 50000 for T= 72144 logg=4.80\n",
      "Changing to logg=5.00 for T= 72144 logg=4.80\n",
      "Changing to T= 50000 for T=101414 logg=5.41\n",
      "Changing to logg=5.00 for T=101414 logg=5.41\n",
      "Changing to logg=4.50 for T= 47507 logg=3.94\n",
      "Changing to T= 50000 for T=168846 logg=5.83\n",
      "Changing to logg=5.00 for T=168846 logg=5.83\n",
      "Changing to T= 50000 for T= 83778 logg=4.69\n",
      "Changing to logg=5.00 for T= 83778 logg=4.69\n",
      "Changing to T= 50000 for T=102223 logg=5.38\n",
      "Changing to logg=5.00 for T=102223 logg=5.38\n",
      "Changing to T= 50000 for T= 67185 logg=4.64\n",
      "Changing to logg=5.00 for T= 67185 logg=4.64\n",
      "Changing to logg=4.00 for T= 32746 logg=3.73\n",
      "Changing to T= 50000 for T= 67151 logg=4.31\n",
      "Changing to logg=5.00 for T= 67151 logg=4.31\n",
      "Changing to T= 50000 for T= 70500 logg=4.40\n",
      "Changing to logg=5.00 for T= 70500 logg=4.40\n",
      "Changing to T= 50000 for T=169805 logg=5.84\n",
      "Changing to logg=5.00 for T=169805 logg=5.84\n",
      "Changing to T= 50000 for T=102527 logg=5.39\n",
      "Changing to logg=5.00 for T=102527 logg=5.39\n",
      "Changing to T= 50000 for T=102958 logg=5.41\n",
      "Changing to logg=5.00 for T=102958 logg=5.41\n",
      "Changing to logg=4.50 for T= 46562 logg=3.91\n",
      "Changing to T= 50000 for T= 73782 logg=4.47\n",
      "Changing to logg=5.00 for T= 73782 logg=4.47\n",
      "Changing to T= 50000 for T= 65074 logg=4.27\n",
      "Changing to logg=5.00 for T= 65074 logg=4.27\n",
      "Changing to logg=3.50 for T= 26285 logg=3.28\n",
      "Changing to logg=4.00 for T= 31478 logg=3.74\n",
      "Changing to T= 50000 for T= 60679 logg=4.16\n",
      "Changing to logg=5.00 for T= 60679 logg=4.16\n",
      "Changing to T= 50000 for T=100772 logg=5.42\n",
      "Changing to logg=5.00 for T=100772 logg=5.42\n",
      "Changing to logg=4.00 for T= 31125 logg=3.66\n",
      "Changing to T= 50000 for T= 67630 logg=4.33\n",
      "Changing to logg=5.00 for T= 67630 logg=4.33\n",
      "Changing to T= 50000 for T=102249 logg=5.40\n",
      "Changing to logg=5.00 for T=102249 logg=5.40\n",
      "Changing to T= 50000 for T= 74781 logg=4.49\n",
      "Changing to logg=5.00 for T= 74781 logg=4.49\n",
      "Changing to T= 50000 for T= 56171 logg=4.27\n",
      "Changing to logg=5.00 for T= 56171 logg=4.27\n",
      "Changing to T= 50000 for T= 73020 logg=4.45\n",
      "Changing to logg=5.00 for T= 73020 logg=4.45\n",
      "Changing to T= 50000 for T= 69669 logg=4.38\n",
      "Changing to logg=5.00 for T= 69669 logg=4.38\n",
      "Changing to logg=3.50 for T= 28262 logg=3.29\n",
      "Changing to T= 50000 for T= 58381 logg=4.34\n",
      "Changing to logg=5.00 for T= 58381 logg=4.34\n",
      "Changing to T= 50000 for T= 65755 logg=4.28\n",
      "Changing to logg=5.00 for T= 65755 logg=4.28\n",
      "Changing to T= 50000 for T= 93573 logg=5.40\n",
      "Changing to logg=5.00 for T= 93573 logg=5.40\n",
      "Changing to T= 50000 for T=103619 logg=5.41\n",
      "Changing to logg=5.00 for T=103619 logg=5.41\n",
      "Changing to T= 50000 for T=173680 logg=5.88\n",
      "Changing to logg=5.00 for T=173680 logg=5.88\n",
      "Changing to T= 50000 for T= 56498 logg=4.28\n",
      "Changing to logg=5.00 for T= 56498 logg=4.28\n",
      "Changing to T= 50000 for T= 67248 logg=4.32\n",
      "Changing to logg=5.00 for T= 67248 logg=4.32\n",
      "Changing to T= 50000 for T=103193 logg=5.40\n",
      "Changing to logg=5.00 for T=103193 logg=5.40\n",
      "Changing to T= 50000 for T= 65928 logg=4.29\n",
      "Changing to logg=5.00 for T= 65928 logg=4.29\n",
      "Changing to logg=4.00 for T= 31018 logg=3.75\n",
      "Changing to T= 50000 for T=174237 logg=5.88\n",
      "Changing to logg=5.00 for T=174237 logg=5.88\n",
      "Changing to logg=3.50 for T= 26831 logg=3.32\n",
      "Changing to T= 50000 for T=102953 logg=5.41\n",
      "Changing to logg=5.00 for T=102953 logg=5.41\n",
      "Changing to T= 50000 for T=102669 logg=5.40\n",
      "Changing to logg=5.00 for T=102669 logg=5.40\n",
      "Changing to logg=4.50 for T= 41746 logg=3.70\n",
      "Changing to T= 50000 for T= 74427 logg=4.49\n",
      "Changing to logg=5.00 for T= 74427 logg=4.49\n",
      "Changing to logg=4.00 for T= 32382 logg=3.55\n",
      "Changing to T= 50000 for T= 67149 logg=4.32\n",
      "Changing to logg=5.00 for T= 67149 logg=4.32\n",
      "Changing to T= 50000 for T=101932 logg=5.39\n",
      "Changing to logg=5.00 for T=101932 logg=5.39\n",
      "Changing to T= 50000 for T= 67855 logg=4.34\n",
      "Changing to logg=5.00 for T= 67855 logg=4.34\n",
      "Changing to T= 50000 for T= 72947 logg=4.83\n",
      "Changing to logg=5.00 for T= 72947 logg=4.83\n",
      "Changing to T= 50000 for T=101726 logg=5.41\n",
      "Changing to logg=5.00 for T=101726 logg=5.41\n",
      "Changing to T= 50000 for T=102282 logg=5.39\n",
      "Changing to logg=5.00 for T=102282 logg=5.39\n",
      "Changing to T= 50000 for T= 71623 logg=4.42\n",
      "Changing to logg=5.00 for T= 71623 logg=4.42\n",
      "Changing to logg=3.00 for T= 20951 logg=2.96\n",
      "Changing to T= 50000 for T= 67101 logg=4.31\n",
      "Changing to logg=5.00 for T= 67101 logg=4.31\n",
      "Changing to T= 50000 for T= 67624 logg=4.65\n",
      "Changing to logg=5.00 for T= 67624 logg=4.65\n",
      "Changing to T= 50000 for T= 72000 logg=4.43\n",
      "Changing to logg=5.00 for T= 72000 logg=4.43\n",
      "Changing to T= 50000 for T= 73308 logg=4.46\n",
      "Changing to logg=5.00 for T= 73308 logg=4.46\n",
      "Changing to T= 50000 for T= 52802 logg=3.95\n",
      "Changing to logg=5.00 for T= 52802 logg=3.95\n",
      "Changing to T= 50000 for T= 71269 logg=4.77\n",
      "Changing to logg=5.00 for T= 71269 logg=4.77\n",
      "Changing to logg=3.50 for T= 27462 logg=2.95\n",
      "Changing to T= 50000 for T=101277 logg=5.41\n",
      "Changing to logg=5.00 for T=101277 logg=5.41\n",
      "Changing to T= 50000 for T=101445 logg=5.42\n",
      "Changing to logg=5.00 for T=101445 logg=5.42\n",
      "Changing to logg=4.50 for T= 44222 logg=3.81\n",
      "Changing to T= 50000 for T= 74381 logg=4.48\n",
      "Changing to logg=5.00 for T= 74381 logg=4.48\n",
      "Changing to logg=5.00 for T= 49067 logg=4.01\n",
      "Changing to logg=3.50 for T= 30090 logg=2.88\n",
      "Changing to T= 50000 for T= 71302 logg=4.41\n",
      "Changing to logg=5.00 for T= 71302 logg=4.41\n",
      "Changing to T= 50000 for T=102113 logg=5.40\n",
      "Changing to logg=5.00 for T=102113 logg=5.40\n",
      "Changing to T= 50000 for T= 69859 logg=4.38\n",
      "Changing to logg=5.00 for T= 69859 logg=4.38\n",
      "Changing to T= 50000 for T= 88965 logg=4.76\n",
      "Changing to logg=5.00 for T= 88965 logg=4.76\n",
      "Changing to T= 50000 for T= 68314 logg=4.34\n",
      "Changing to logg=5.00 for T= 68314 logg=4.34\n",
      "Changing to T= 50000 for T= 83044 logg=5.15\n",
      "Changing to logg=5.00 for T= 83044 logg=5.15\n",
      "Changing to T= 50000 for T= 68290 logg=4.34\n",
      "Changing to logg=5.00 for T= 68290 logg=4.34\n",
      "Changing to T= 50000 for T= 71598 logg=4.42\n",
      "Changing to logg=5.00 for T= 71598 logg=4.42\n",
      "Changing to T= 50000 for T= 66293 logg=4.31\n",
      "Changing to logg=5.00 for T= 66293 logg=4.31\n",
      "Changing to T= 50000 for T= 65569 logg=4.28\n",
      "Changing to logg=5.00 for T= 65569 logg=4.28\n",
      "Changing to T= 50000 for T= 52338 logg=4.13\n",
      "Changing to logg=5.00 for T= 52338 logg=4.13\n",
      "Changing to T= 50000 for T=102353 logg=5.41\n",
      "Changing to logg=5.00 for T=102353 logg=5.41\n",
      "Changing to T= 50000 for T=102527 logg=5.40\n",
      "Changing to logg=5.00 for T=102527 logg=5.40\n",
      "Changing to T= 50000 for T= 75943 logg=4.93\n",
      "Changing to logg=5.00 for T= 75943 logg=4.93\n",
      "Changing to T= 50000 for T= 67022 logg=4.33\n",
      "Changing to logg=5.00 for T= 67022 logg=4.33\n",
      "Changing to T= 50000 for T=103200 logg=5.41\n",
      "Changing to logg=5.00 for T=103200 logg=5.41\n",
      "Changing to T= 50000 for T= 66816 logg=4.31\n",
      "Changing to logg=5.00 for T= 66816 logg=4.31\n",
      "Changing to logg=4.50 for T= 42930 logg=3.76\n",
      "Changing to logg=3.50 for T= 28029 logg=3.30\n",
      "Changing to logg=4.50 for T= 45454 logg=3.86\n",
      "Changing to T= 50000 for T= 69799 logg=4.38\n",
      "Changing to logg=5.00 for T= 69799 logg=4.38\n",
      "Changing to T= 50000 for T= 78201 logg=4.55\n",
      "Changing to logg=5.00 for T= 78201 logg=4.55\n",
      "Changing to T= 50000 for T=102040 logg=5.39\n",
      "Changing to logg=5.00 for T=102040 logg=5.39\n",
      "Changing to T= 50000 for T= 68468 logg=4.34\n",
      "Changing to logg=5.00 for T= 68468 logg=4.34\n",
      "Changing to T= 50000 for T= 61423 logg=4.19\n",
      "Changing to logg=5.00 for T= 61423 logg=4.19\n",
      "Changing to T= 50000 for T= 91289 logg=5.38\n",
      "Changing to logg=5.00 for T= 91289 logg=5.38\n",
      "Changing to T= 50000 for T= 69920 logg=4.38\n",
      "Changing to logg=5.00 for T= 69920 logg=4.38\n",
      "Changing to logg=3.00 for T= 19883 logg=2.48\n",
      "Changing to T= 50000 for T=103383 logg=5.41\n",
      "Changing to logg=5.00 for T=103383 logg=5.41\n",
      "Changing to T= 50000 for T= 66702 logg=4.30\n",
      "Changing to logg=5.00 for T= 66702 logg=4.30\n",
      "Changing to T= 50000 for T= 73925 logg=4.47\n",
      "Changing to logg=5.00 for T= 73925 logg=4.47\n",
      "Changing to T= 50000 for T= 72249 logg=4.43\n",
      "Changing to logg=5.00 for T= 72249 logg=4.43\n",
      "Changing to T= 50000 for T= 72622 logg=4.45\n",
      "Changing to logg=5.00 for T= 72622 logg=4.45\n",
      "Changing to T= 50000 for T=102056 logg=5.41\n",
      "Changing to logg=5.00 for T=102056 logg=5.41\n",
      "Changing to T= 50000 for T= 75866 logg=4.52\n",
      "Changing to logg=5.00 for T= 75866 logg=4.52\n",
      "Changing to T= 50000 for T= 65814 logg=4.28\n",
      "Changing to logg=5.00 for T= 65814 logg=4.28\n",
      "Changing to T= 50000 for T= 76554 logg=4.95\n",
      "Changing to logg=5.00 for T= 76554 logg=4.95\n",
      "Changing to logg=4.50 for T= 41743 logg=3.70\n",
      "Changing to logg=4.50 for T= 42917 logg=3.76\n",
      "Changing to T= 50000 for T= 68712 logg=4.36\n",
      "Changing to logg=5.00 for T= 68712 logg=4.36\n",
      "Changing to T= 50000 for T= 67059 logg=4.33\n",
      "Changing to logg=5.00 for T= 67059 logg=4.33\n",
      "Changing to T= 50000 for T= 68757 logg=4.35\n",
      "Changing to logg=5.00 for T= 68757 logg=4.35\n",
      "Changing to T= 50000 for T=103674 logg=5.41\n",
      "Changing to logg=5.00 for T=103674 logg=5.41\n",
      "Changing to T= 50000 for T= 73889 logg=4.47\n",
      "Changing to logg=5.00 for T= 73889 logg=4.47\n",
      "Changing to T= 50000 for T= 67473 logg=4.32\n",
      "Changing to logg=5.00 for T= 67473 logg=4.32\n",
      "Changing to T= 50000 for T=102237 logg=5.40\n",
      "Changing to logg=5.00 for T=102237 logg=5.40\n",
      "Changing to T= 50000 for T=102991 logg=5.41\n",
      "Changing to logg=5.00 for T=102991 logg=5.41\n",
      "Changing to T= 50000 for T=101728 logg=5.41\n",
      "Changing to logg=5.00 for T=101728 logg=5.41\n",
      "Changing to logg=4.50 for T= 45086 logg=3.85\n",
      "Changing to T= 50000 for T= 66364 logg=4.29\n",
      "Changing to logg=5.00 for T= 66364 logg=4.29\n",
      "Changing to T= 50000 for T=102308 logg=5.41\n",
      "Changing to logg=5.00 for T=102308 logg=5.41\n",
      "Changing to T= 50000 for T= 94748 logg=5.39\n",
      "Changing to logg=5.00 for T= 94748 logg=5.39\n",
      "Changing to T= 50000 for T=102400 logg=5.42\n",
      "Changing to logg=5.00 for T=102400 logg=5.42\n",
      "Changing to logg=4.00 for T= 32467 logg=3.86\n",
      "Changing to T= 50000 for T= 73320 logg=4.46\n",
      "Changing to logg=5.00 for T= 73320 logg=4.46\n",
      "Changing to T= 50000 for T= 74218 logg=4.48\n",
      "Changing to logg=5.00 for T= 74218 logg=4.48\n",
      "Changing to T= 50000 for T= 69844 logg=4.38\n",
      "Changing to logg=5.00 for T= 69844 logg=4.38\n",
      "Changing to T= 50000 for T= 64999 logg=4.26\n",
      "Changing to logg=5.00 for T= 64999 logg=4.26\n",
      "Changing to T= 50000 for T=101623 logg=5.40\n",
      "Changing to logg=5.00 for T=101623 logg=5.40\n",
      "Changing to T= 50000 for T=162637 logg=5.76\n",
      "Changing to logg=5.00 for T=162637 logg=5.76\n",
      "Changing to T= 50000 for T= 68091 logg=4.34\n",
      "Changing to logg=5.00 for T= 68091 logg=4.34\n",
      "Changing to T= 50000 for T= 69256 logg=4.37\n",
      "Changing to logg=5.00 for T= 69256 logg=4.37\n",
      "Changing to T= 50000 for T= 67185 logg=4.32\n",
      "Changing to logg=5.00 for T= 67185 logg=4.32\n",
      "Changing to T= 50000 for T=103279 logg=5.41\n",
      "Changing to logg=5.00 for T=103279 logg=5.41\n",
      "Changing to T= 50000 for T= 69328 logg=4.36\n",
      "Changing to logg=5.00 for T= 69328 logg=4.36\n",
      "Changing to T= 50000 for T= 68509 logg=4.34\n",
      "Changing to logg=5.00 for T= 68509 logg=4.34\n",
      "Changing to T= 50000 for T=102134 logg=5.40\n",
      "Changing to logg=5.00 for T=102134 logg=5.40\n",
      "Changing to T= 50000 for T= 60392 logg=4.41\n",
      "Changing to logg=5.00 for T= 60392 logg=4.41\n",
      "Changing to T= 50000 for T=103343 logg=5.41\n",
      "Changing to logg=5.00 for T=103343 logg=5.41\n",
      "Changing to T= 50000 for T= 72629 logg=4.45\n",
      "Changing to logg=5.00 for T= 72629 logg=4.45\n",
      "Changing to T= 50000 for T=102866 logg=5.41\n",
      "Changing to logg=5.00 for T=102866 logg=5.41\n",
      "Changing to T= 50000 for T=102433 logg=5.39\n",
      "Changing to logg=5.00 for T=102433 logg=5.39\n",
      "Changing to T= 50000 for T= 82949 logg=5.17\n",
      "Changing to logg=5.00 for T= 82949 logg=5.17\n",
      "Changing to logg=3.50 for T= 26486 logg=3.38\n",
      "Changing to T= 50000 for T=103319 logg=5.40\n",
      "Changing to logg=5.00 for T=103319 logg=5.40\n",
      "Changing to T= 50000 for T= 57106 logg=4.30\n",
      "Changing to logg=5.00 for T= 57106 logg=4.30\n",
      "Changing to T= 50000 for T= 66876 logg=4.31\n",
      "Changing to logg=5.00 for T= 66876 logg=4.31\n",
      "Changing to T= 50000 for T=103409 logg=5.41\n",
      "Changing to logg=5.00 for T=103409 logg=5.41\n",
      "Changing to T= 50000 for T= 72729 logg=4.45\n",
      "Changing to logg=5.00 for T= 72729 logg=4.45\n",
      "Changing to logg=3.00 for T= 23512 logg=2.25\n",
      "Changing to T= 50000 for T= 74855 logg=4.49\n",
      "Changing to logg=5.00 for T= 74855 logg=4.49\n",
      "Changing to T= 50000 for T= 72709 logg=4.44\n",
      "Changing to logg=5.00 for T= 72709 logg=4.44\n",
      "Changing to T= 50000 for T= 50619 logg=4.06\n",
      "Changing to logg=5.00 for T= 50619 logg=4.06\n",
      "Changing to T= 50000 for T= 72056 logg=4.43\n",
      "Changing to logg=5.00 for T= 72056 logg=4.43\n",
      "Changing to logg=4.50 for T= 43710 logg=3.79\n",
      "Changing to T= 50000 for T=101391 logg=5.41\n",
      "Changing to logg=5.00 for T=101391 logg=5.41\n",
      "Changing to T= 50000 for T= 66924 logg=4.31\n",
      "Changing to logg=5.00 for T= 66924 logg=4.31\n",
      "Changing to T= 50000 for T= 65516 logg=4.27\n",
      "Changing to logg=5.00 for T= 65516 logg=4.27\n",
      "Changing to logg=4.50 for T= 42028 logg=3.72\n",
      "Changing to T= 50000 for T= 82065 logg=4.94\n",
      "Changing to logg=5.00 for T= 82065 logg=4.94\n",
      "Changing to T= 50000 for T=170279 logg=5.84\n",
      "Changing to logg=5.00 for T=170279 logg=5.84\n",
      "Changing to T= 50000 for T=101747 logg=5.38\n",
      "Changing to logg=5.00 for T=101747 logg=5.38\n",
      "Changing to T= 50000 for T= 68431 logg=4.34\n",
      "Changing to logg=5.00 for T= 68431 logg=4.34\n",
      "Changing to T= 50000 for T= 72644 logg=4.44\n",
      "Changing to logg=5.00 for T= 72644 logg=4.44\n",
      "Changing to T= 50000 for T= 61468 logg=4.45\n",
      "Changing to logg=5.00 for T= 61468 logg=4.45\n",
      "Changing to T= 50000 for T= 67391 logg=4.32\n",
      "Changing to logg=5.00 for T= 67391 logg=4.32\n",
      "Changing to T= 50000 for T= 67360 logg=4.33\n",
      "Changing to logg=5.00 for T= 67360 logg=4.33\n",
      "Changing to T= 50000 for T= 66968 logg=4.31\n",
      "Changing to logg=5.00 for T= 66968 logg=4.31\n",
      "Changing to T= 50000 for T= 64880 logg=4.26\n",
      "Changing to logg=5.00 for T= 64880 logg=4.26\n",
      "Changing to T= 50000 for T= 67191 logg=4.32\n",
      "Changing to logg=5.00 for T= 67191 logg=4.32\n",
      "Changing to T= 50000 for T=101962 logg=5.39\n",
      "Changing to logg=5.00 for T=101962 logg=5.39\n",
      "Changing to T= 50000 for T=103464 logg=5.41\n",
      "Changing to logg=5.00 for T=103464 logg=5.41\n",
      "Changing to T= 50000 for T= 67276 logg=4.32\n",
      "Changing to logg=5.00 for T= 67276 logg=4.32\n",
      "Changing to T= 50000 for T= 93233 logg=5.17\n",
      "Changing to logg=5.00 for T= 93233 logg=5.17\n",
      "Changing to T= 50000 for T= 66595 logg=4.30\n",
      "Changing to logg=5.00 for T= 66595 logg=4.30\n",
      "Changing to T= 50000 for T= 74182 logg=4.48\n",
      "Changing to logg=5.00 for T= 74182 logg=4.48\n",
      "Changing to T= 50000 for T= 71973 logg=4.43\n",
      "Changing to logg=5.00 for T= 71973 logg=4.43\n",
      "Changing to T= 50000 for T=102353 logg=5.41\n",
      "Changing to logg=5.00 for T=102353 logg=5.41\n",
      "Changing to T= 50000 for T= 52235 logg=4.13\n",
      "Changing to logg=5.00 for T= 52235 logg=4.13\n",
      "Changing to T= 50000 for T= 65822 logg=4.29\n",
      "Changing to logg=5.00 for T= 65822 logg=4.29\n",
      "Changing to T= 50000 for T= 65203 logg=4.27\n",
      "Changing to logg=5.00 for T= 65203 logg=4.27\n",
      "Changing to T= 50000 for T= 68099 logg=4.34\n",
      "Changing to logg=5.00 for T= 68099 logg=4.34\n",
      "Changing to T= 50000 for T= 61325 logg=4.18\n",
      "Changing to logg=5.00 for T= 61325 logg=4.18\n",
      "Changing to T= 50000 for T=171609 logg=5.85\n",
      "Changing to logg=5.00 for T=171609 logg=5.85\n",
      "Changing to T= 50000 for T= 72778 logg=4.45\n",
      "Changing to logg=5.00 for T= 72778 logg=4.45\n",
      "Changing to T= 50000 for T= 67324 logg=4.32\n",
      "Changing to logg=5.00 for T= 67324 logg=4.32\n",
      "Changing to T= 50000 for T= 69021 logg=4.36\n",
      "Changing to logg=5.00 for T= 69021 logg=4.36\n",
      "Changing to T= 50000 for T=101974 logg=5.40\n",
      "Changing to logg=5.00 for T=101974 logg=5.40\n",
      "Changing to T= 50000 for T= 64536 logg=4.26\n",
      "Changing to logg=5.00 for T= 64536 logg=4.26\n",
      "Changing to T= 50000 for T=176181 logg=5.90\n",
      "Changing to logg=5.00 for T=176181 logg=5.90\n",
      "Changing to T= 50000 for T= 74444 logg=4.49\n",
      "Changing to logg=5.00 for T= 74444 logg=4.49\n",
      "Changing to T= 50000 for T=164324 logg=5.78\n",
      "Changing to logg=5.00 for T=164324 logg=5.78\n",
      "Changing to T= 50000 for T=103719 logg=5.41\n",
      "Changing to logg=5.00 for T=103719 logg=5.41\n",
      "Changing to T= 50000 for T= 69390 logg=4.71\n",
      "Changing to logg=5.00 for T= 69390 logg=4.71\n",
      "Changing to T= 50000 for T= 71038 logg=4.43\n",
      "Changing to logg=5.00 for T= 71038 logg=4.43\n",
      "Changing to T= 50000 for T= 66434 logg=4.30\n",
      "Changing to logg=5.00 for T= 66434 logg=4.30\n",
      "Changing to T= 50000 for T= 75950 logg=4.93\n",
      "Changing to logg=5.00 for T= 75950 logg=4.93\n",
      "Changing to T= 50000 for T=101887 logg=5.41\n",
      "Changing to logg=5.00 for T=101887 logg=5.41\n",
      "Changing to logg=4.50 for T= 43082 logg=3.76\n",
      "Changing to T= 50000 for T= 65498 logg=4.28\n",
      "Changing to logg=5.00 for T= 65498 logg=4.28\n",
      "Changing to T= 50000 for T=102419 logg=5.40\n",
      "Changing to logg=5.00 for T=102419 logg=5.40\n",
      "Changing to T= 50000 for T= 80053 logg=4.57\n",
      "Changing to logg=5.00 for T= 80053 logg=4.57\n",
      "Changing to T= 50000 for T=169602 logg=5.84\n",
      "Changing to logg=5.00 for T=169602 logg=5.84\n",
      "Changing to logg=4.00 for T= 32053 logg=3.87\n",
      "Changing to T= 50000 for T=103359 logg=5.41\n",
      "Changing to logg=5.00 for T=103359 logg=5.41\n",
      "Changing to T= 50000 for T= 59860 logg=4.13\n",
      "Changing to logg=5.00 for T= 59860 logg=4.13\n",
      "Changing to T= 50000 for T= 66357 logg=4.29\n",
      "Changing to logg=5.00 for T= 66357 logg=4.29\n",
      "Changing to logg=4.00 for T= 34489 logg=3.74\n",
      "Changing to T= 50000 for T=170381 logg=5.84\n",
      "Changing to logg=5.00 for T=170381 logg=5.84\n",
      "Changing to logg=4.00 for T= 32498 logg=3.50\n",
      "Changing to T= 50000 for T= 66487 logg=4.30\n",
      "Changing to logg=5.00 for T= 66487 logg=4.30\n",
      "Changing to T= 50000 for T= 59709 logg=4.13\n",
      "Changing to logg=5.00 for T= 59709 logg=4.13\n",
      "Changing to T= 50000 for T= 62689 logg=4.49\n",
      "Changing to logg=5.00 for T= 62689 logg=4.49\n",
      "Changing to T= 50000 for T= 68000 logg=4.33\n",
      "Changing to logg=5.00 for T= 68000 logg=4.33\n",
      "Changing to logg=4.50 for T= 48500 logg=3.98\n",
      "Changing to T= 50000 for T= 71723 logg=4.42\n",
      "Changing to logg=5.00 for T= 71723 logg=4.42\n",
      "Changing to T= 50000 for T= 73712 logg=4.47\n",
      "Changing to logg=5.00 for T= 73712 logg=4.47\n",
      "Changing to T= 50000 for T= 65990 logg=4.29\n",
      "Changing to logg=5.00 for T= 65990 logg=4.29\n",
      "Changing to T= 50000 for T= 74967 logg=4.50\n",
      "Changing to logg=5.00 for T= 74967 logg=4.50\n",
      "Changing to T= 50000 for T= 92342 logg=5.39\n",
      "Changing to logg=5.00 for T= 92342 logg=5.39\n",
      "Changing to T= 50000 for T=101007 logg=5.42\n",
      "Changing to logg=5.00 for T=101007 logg=5.42\n",
      "Changing to T= 50000 for T=103750 logg=5.41\n",
      "Changing to logg=5.00 for T=103750 logg=5.41\n",
      "Changing to T= 50000 for T= 68223 logg=4.34\n",
      "Changing to logg=5.00 for T= 68223 logg=4.34\n",
      "Changing to T= 50000 for T= 59073 logg=4.37\n",
      "Changing to logg=5.00 for T= 59073 logg=4.37\n",
      "Changing to T= 50000 for T=102806 logg=5.41\n",
      "Changing to logg=5.00 for T=102806 logg=5.41\n",
      "Changing to T= 50000 for T=132468 logg=5.53\n",
      "Changing to logg=5.00 for T=132468 logg=5.53\n",
      "Changing to logg=4.50 for T= 42780 logg=3.75\n",
      "Changing to T= 50000 for T= 61518 logg=4.45\n",
      "Changing to logg=5.00 for T= 61518 logg=4.45\n",
      "Changing to T= 50000 for T=102197 logg=5.40\n",
      "Changing to logg=5.00 for T=102197 logg=5.40\n",
      "Changing to T= 50000 for T= 74305 logg=4.48\n",
      "Changing to logg=5.00 for T= 74305 logg=4.48\n",
      "Changing to T= 50000 for T= 65130 logg=4.27\n",
      "Changing to logg=5.00 for T= 65130 logg=4.27\n",
      "Changing to T= 50000 for T= 68970 logg=4.36\n",
      "Changing to logg=5.00 for T= 68970 logg=4.36\n",
      "Changing to T= 50000 for T= 69746 logg=4.38\n",
      "Changing to logg=5.00 for T= 69746 logg=4.38\n",
      "Changing to T= 50000 for T= 64874 logg=4.27\n",
      "Changing to logg=5.00 for T= 64874 logg=4.27\n",
      "Changing to T= 50000 for T= 54789 logg=4.22\n",
      "Changing to logg=5.00 for T= 54789 logg=4.22\n",
      "Changing to T= 50000 for T= 80822 logg=5.09\n",
      "Changing to logg=5.00 for T= 80822 logg=5.09\n",
      "Changing to logg=4.00 for T= 32240 logg=3.61\n",
      "Changing to T= 50000 for T= 70824 logg=4.40\n",
      "Changing to logg=5.00 for T= 70824 logg=4.40\n",
      "Changing to T= 50000 for T= 74024 logg=4.48\n",
      "Changing to logg=5.00 for T= 74024 logg=4.48\n",
      "Changing to logg=4.50 for T= 46746 logg=3.91\n",
      "Changing to T= 50000 for T= 92805 logg=5.39\n",
      "Changing to logg=5.00 for T= 92805 logg=5.39\n",
      "Changing to logg=4.50 for T= 46309 logg=3.90\n",
      "Changing to T= 50000 for T= 78712 logg=5.02\n",
      "Changing to logg=5.00 for T= 78712 logg=5.02\n",
      "Changing to logg=4.00 for T= 31309 logg=3.80\n",
      "Changing to T= 50000 for T= 56169 logg=4.27\n",
      "Changing to logg=5.00 for T= 56169 logg=4.27\n",
      "Changing to T= 50000 for T= 67593 logg=4.33\n",
      "Changing to logg=5.00 for T= 67593 logg=4.33\n",
      "Changing to T= 50000 for T= 74602 logg=4.49\n",
      "Changing to logg=5.00 for T= 74602 logg=4.49\n",
      "Changing to logg=1.50 for T=  8770 logg=1.44\n",
      "Changing to T= 50000 for T= 55242 logg=3.98\n",
      "Changing to logg=5.00 for T= 55242 logg=3.98\n",
      "Changing to logg=4.00 for T= 33232 logg=3.72\n",
      "Changing to T= 50000 for T= 76516 logg=4.96\n",
      "Changing to logg=5.00 for T= 76516 logg=4.96\n",
      "Changing to T= 50000 for T= 65967 logg=4.28\n",
      "Changing to logg=5.00 for T= 65967 logg=4.28\n",
      "Changing to logg=4.00 for T= 34156 logg=3.75\n",
      "Changing to T= 50000 for T= 72751 logg=4.45\n",
      "Changing to logg=5.00 for T= 72751 logg=4.45\n",
      "Changing to T= 50000 for T= 72197 logg=4.43\n",
      "Changing to logg=5.00 for T= 72197 logg=4.43\n",
      "Changing to logg=4.00 for T= 36458 logg=3.95\n",
      "Changing to T= 50000 for T= 67178 logg=4.31\n",
      "Changing to logg=5.00 for T= 67178 logg=4.31\n",
      "Changing to T= 50000 for T=103863 logg=5.41\n",
      "Changing to logg=5.00 for T=103863 logg=5.41\n",
      "Changing to T= 50000 for T=103060 logg=5.41\n",
      "Changing to logg=5.00 for T=103060 logg=5.41\n",
      "Changing to logg=4.50 for T= 48012 logg=3.96\n",
      "Changing to T= 50000 for T= 51387 logg=4.09\n",
      "Changing to logg=5.00 for T= 51387 logg=4.09\n",
      "Changing to T= 50000 for T=103870 logg=5.41\n",
      "Changing to logg=5.00 for T=103870 logg=5.41\n",
      "Changing to T= 50000 for T= 65184 logg=4.27\n",
      "Changing to logg=5.00 for T= 65184 logg=4.27\n",
      "Changing to T= 50000 for T= 94724 logg=5.40\n",
      "Changing to logg=5.00 for T= 94724 logg=5.40\n",
      "Changing to T= 50000 for T= 66243 logg=4.29\n",
      "Changing to logg=5.00 for T= 66243 logg=4.29\n",
      "Changing to T= 50000 for T=102009 logg=5.40\n",
      "Changing to logg=5.00 for T=102009 logg=5.40\n",
      "Changing to T= 50000 for T= 72942 logg=4.45\n",
      "Changing to logg=5.00 for T= 72942 logg=4.45\n",
      "Changing to T= 50000 for T= 67151 logg=4.32\n",
      "Changing to logg=5.00 for T= 67151 logg=4.32\n",
      "Changing to T= 50000 for T= 67344 logg=4.32\n",
      "Changing to logg=5.00 for T= 67344 logg=4.32\n",
      "Changing to T= 50000 for T= 69946 logg=4.39\n",
      "Changing to logg=5.00 for T= 69946 logg=4.39\n",
      "Changing to logg=4.50 for T= 45774 logg=3.87\n",
      "Changing to T= 50000 for T= 67186 logg=4.31\n",
      "Changing to logg=5.00 for T= 67186 logg=4.31\n",
      "Changing to T= 50000 for T= 68127 logg=4.34\n",
      "Changing to logg=5.00 for T= 68127 logg=4.34\n",
      "Changing to logg=3.50 for T= 27299 logg=3.50\n",
      "Changing to T= 50000 for T= 65605 logg=4.58\n",
      "Changing to logg=5.00 for T= 65605 logg=4.58\n",
      "Changing to T= 50000 for T= 68824 logg=4.36\n",
      "Changing to logg=5.00 for T= 68824 logg=4.36\n",
      "Changing to T= 50000 for T= 69684 logg=4.38\n",
      "Changing to logg=5.00 for T= 69684 logg=4.38\n",
      "Changing to T= 50000 for T=172675 logg=5.87\n",
      "Changing to logg=5.00 for T=172675 logg=5.87\n",
      "Changing to logg=5.00 for T= 49828 logg=4.04\n",
      "Changing to T= 50000 for T= 67582 logg=4.33\n",
      "Changing to logg=5.00 for T= 67582 logg=4.33\n",
      "Changing to T= 50000 for T= 83603 logg=5.19\n",
      "Changing to logg=5.00 for T= 83603 logg=5.19\n",
      "Changing to T= 50000 for T=102922 logg=5.42\n",
      "Changing to logg=5.00 for T=102922 logg=5.42\n",
      "Changing to T= 50000 for T= 67806 logg=4.33\n",
      "Changing to logg=5.00 for T= 67806 logg=4.33\n",
      "Changing to T= 50000 for T= 67816 logg=4.33\n",
      "Changing to logg=5.00 for T= 67816 logg=4.33\n",
      "Changing to T= 50000 for T= 76206 logg=4.80\n",
      "Changing to logg=5.00 for T= 76206 logg=4.80\n",
      "Changing to T= 50000 for T=102440 logg=5.41\n",
      "Changing to logg=5.00 for T=102440 logg=5.41\n",
      "Changing to T= 50000 for T= 79382 logg=5.04\n",
      "Changing to logg=5.00 for T= 79382 logg=5.04\n",
      "Changing to T= 50000 for T= 95984 logg=4.82\n",
      "Changing to logg=5.00 for T= 95984 logg=4.82\n",
      "Changing to T= 50000 for T=109252 logg=5.51\n",
      "Changing to logg=5.00 for T=109252 logg=5.51\n",
      "Changing to T= 50000 for T= 69247 logg=4.37\n",
      "Changing to logg=5.00 for T= 69247 logg=4.37\n",
      "Changing to T= 50000 for T= 74302 logg=4.48\n",
      "Changing to logg=5.00 for T= 74302 logg=4.48\n",
      "Changing to T= 50000 for T= 69725 logg=4.38\n",
      "Changing to logg=5.00 for T= 69725 logg=4.38\n",
      "Changing to T= 50000 for T= 74425 logg=4.48\n",
      "Changing to logg=5.00 for T= 74425 logg=4.48\n",
      "Changing to T= 50000 for T= 65100 logg=4.26\n",
      "Changing to logg=5.00 for T= 65100 logg=4.26\n",
      "Changing to logg=4.50 for T= 42886 logg=3.75\n",
      "Changing to logg=5.00 for T= 49043 logg=4.00\n",
      "Changing to T= 50000 for T= 72790 logg=4.45\n",
      "Changing to logg=5.00 for T= 72790 logg=4.45\n",
      "Changing to T= 50000 for T=103548 logg=5.41\n",
      "Changing to logg=5.00 for T=103548 logg=5.41\n",
      "Changing to logg=4.00 for T= 34157 logg=3.71\n",
      "Changing to logg=3.00 for T= 22218 logg=2.77\n",
      "Changing to T= 50000 for T= 69174 logg=4.37\n",
      "Changing to logg=5.00 for T= 69174 logg=4.37\n",
      "Changing to T= 50000 for T= 77190 logg=4.51\n",
      "Changing to logg=5.00 for T= 77190 logg=4.51\n",
      "Changing to T= 50000 for T=102438 logg=5.42\n",
      "Changing to logg=5.00 for T=102438 logg=5.42\n",
      "Changing to T= 50000 for T= 65088 logg=4.27\n",
      "Changing to logg=5.00 for T= 65088 logg=4.27\n",
      "Changing to T= 50000 for T= 70940 logg=4.41\n",
      "Changing to logg=5.00 for T= 70940 logg=4.41\n",
      "Changing to T= 50000 for T=123259 logg=5.43\n",
      "Changing to logg=5.00 for T=123259 logg=5.43\n",
      "Changing to T= 50000 for T=101672 logg=5.40\n",
      "Changing to logg=5.00 for T=101672 logg=5.40\n",
      "Changing to logg=4.50 for T= 44957 logg=3.84\n",
      "Changing to T= 50000 for T= 69287 logg=4.37\n",
      "Changing to logg=5.00 for T= 69287 logg=4.37\n",
      "Changing to logg=5.00 for T= 49567 logg=4.02\n",
      "Changing to T= 50000 for T= 52571 logg=4.14\n",
      "Changing to logg=5.00 for T= 52571 logg=4.14\n",
      "Changing to T= 50000 for T=103024 logg=5.41\n",
      "Changing to logg=5.00 for T=103024 logg=5.41\n",
      "Changing to T= 50000 for T= 80581 logg=5.10\n",
      "Changing to logg=5.00 for T= 80581 logg=5.10\n",
      "Changing to T= 50000 for T=103153 logg=5.41\n",
      "Changing to logg=5.00 for T=103153 logg=5.41\n",
      "Changing to T= 50000 for T= 67123 logg=4.31\n",
      "Changing to logg=5.00 for T= 67123 logg=4.31\n",
      "Changing to T= 50000 for T=163298 logg=5.77\n",
      "Changing to logg=5.00 for T=163298 logg=5.77\n",
      "Changing to T= 50000 for T= 64892 logg=4.26\n",
      "Changing to logg=5.00 for T= 64892 logg=4.26\n",
      "Changing to T= 50000 for T=102638 logg=5.40\n",
      "Changing to logg=5.00 for T=102638 logg=5.40\n",
      "Changing to logg=4.50 for T= 40176 logg=3.63\n",
      "Changing to T= 50000 for T=170781 logg=5.85\n",
      "Changing to logg=5.00 for T=170781 logg=5.85\n",
      "Changing to T= 50000 for T= 85743 logg=5.01\n",
      "Changing to logg=5.00 for T= 85743 logg=5.01\n",
      "Changing to T= 50000 for T=101838 logg=5.38\n",
      "Changing to logg=5.00 for T=101838 logg=5.38\n",
      "Changing to T= 50000 for T= 77477 logg=4.99\n",
      "Changing to logg=5.00 for T= 77477 logg=4.99\n",
      "Changing to T= 50000 for T= 71210 logg=4.41\n",
      "Changing to logg=5.00 for T= 71210 logg=4.41\n",
      "Changing to T= 50000 for T= 67205 logg=4.32\n",
      "Changing to logg=5.00 for T= 67205 logg=4.32\n",
      "Changing to T= 50000 for T= 66141 logg=4.29\n",
      "Changing to logg=5.00 for T= 66141 logg=4.29\n",
      "Changing to T= 50000 for T= 75507 logg=4.92\n",
      "Changing to logg=5.00 for T= 75507 logg=4.92\n",
      "Changing to T= 50000 for T= 74399 logg=4.48\n",
      "Changing to logg=5.00 for T= 74399 logg=4.48\n",
      "Changing to T= 50000 for T= 78170 logg=5.01\n",
      "Changing to logg=5.00 for T= 78170 logg=5.01\n",
      "Changing to T= 50000 for T= 74116 logg=4.48\n",
      "Changing to logg=5.00 for T= 74116 logg=4.48\n",
      "Changing to T= 50000 for T= 72404 logg=4.44\n",
      "Changing to logg=5.00 for T= 72404 logg=4.44\n",
      "Changing to T= 50000 for T=103588 logg=5.41\n",
      "Changing to logg=5.00 for T=103588 logg=5.41\n",
      "Changing to T= 50000 for T=103555 logg=5.41\n",
      "Changing to logg=5.00 for T=103555 logg=5.41\n",
      "Changing to T= 50000 for T= 70066 logg=4.39\n",
      "Changing to logg=5.00 for T= 70066 logg=4.39\n",
      "Changing to T= 50000 for T= 74521 logg=4.49\n",
      "Changing to logg=5.00 for T= 74521 logg=4.49\n",
      "Changing to T= 50000 for T=102537 logg=5.40\n",
      "Changing to logg=5.00 for T=102537 logg=5.40\n",
      "Changing to T= 50000 for T=100788 logg=5.42\n",
      "Changing to logg=5.00 for T=100788 logg=5.42\n",
      "Changing to T= 50000 for T=102054 logg=5.41\n",
      "Changing to logg=5.00 for T=102054 logg=5.41\n",
      "Changing to T= 50000 for T= 66874 logg=4.31\n",
      "Changing to logg=5.00 for T= 66874 logg=4.31\n",
      "Changing to T= 50000 for T= 84848 logg=4.70\n",
      "Changing to logg=5.00 for T= 84848 logg=4.70\n",
      "Changing to T= 50000 for T=102530 logg=5.42\n",
      "Changing to logg=5.00 for T=102530 logg=5.42\n",
      "Changing to T= 50000 for T= 66324 logg=4.31\n",
      "Changing to logg=5.00 for T= 66324 logg=4.31\n",
      "Changing to T= 50000 for T=102676 logg=5.41\n",
      "Changing to logg=5.00 for T=102676 logg=5.41\n",
      "Changing to logg=3.50 for T= 26974 logg=3.45\n",
      "Changing to T= 50000 for T= 65151 logg=4.27\n",
      "Changing to logg=5.00 for T= 65151 logg=4.27\n",
      "Changing to T= 50000 for T= 71659 logg=4.42\n",
      "Changing to logg=5.00 for T= 71659 logg=4.42\n",
      "Changing to T= 50000 for T=101871 logg=5.40\n",
      "Changing to logg=5.00 for T=101871 logg=5.40\n",
      "Changing to T= 50000 for T= 67619 logg=4.34\n",
      "Changing to logg=5.00 for T= 67619 logg=4.34\n",
      "Changing to T= 50000 for T= 67596 logg=4.65\n",
      "Changing to logg=5.00 for T= 67596 logg=4.65\n",
      "Changing to T= 50000 for T= 67916 logg=4.33\n",
      "Changing to logg=5.00 for T= 67916 logg=4.33\n",
      "Changing to T= 50000 for T=103548 logg=5.46\n",
      "Changing to logg=5.00 for T=103548 logg=5.46\n",
      "Changing to T= 50000 for T= 74598 logg=4.49\n",
      "Changing to logg=5.00 for T= 74598 logg=4.49\n",
      "Changing to T= 50000 for T= 72382 logg=4.44\n",
      "Changing to logg=5.00 for T= 72382 logg=4.44\n",
      "Changing to T= 50000 for T= 68735 logg=4.35\n",
      "Changing to logg=5.00 for T= 68735 logg=4.35\n",
      "Changing to T= 50000 for T= 69107 logg=4.36\n",
      "Changing to logg=5.00 for T= 69107 logg=4.36\n",
      "Changing to T= 50000 for T= 65670 logg=4.28\n",
      "Changing to logg=5.00 for T= 65670 logg=4.28\n",
      "Changing to T= 50000 for T= 80553 logg=5.09\n",
      "Changing to logg=5.00 for T= 80553 logg=5.09\n",
      "Changing to T= 50000 for T=171475 logg=5.85\n",
      "Changing to logg=5.00 for T=171475 logg=5.85\n",
      "Changing to T= 50000 for T= 50852 logg=4.07\n",
      "Changing to logg=5.00 for T= 50852 logg=4.07\n",
      "Changing to T= 50000 for T= 71059 logg=4.41\n",
      "Changing to logg=5.00 for T= 71059 logg=4.41\n",
      "Changing to T= 50000 for T= 68997 logg=4.70\n",
      "Changing to logg=5.00 for T= 68997 logg=4.70\n",
      "Changing to logg=4.50 for T= 44431 logg=3.82\n",
      "Changing to T= 50000 for T= 55505 logg=4.24\n",
      "Changing to logg=5.00 for T= 55505 logg=4.24\n",
      "Changing to T= 50000 for T=103295 logg=5.41\n",
      "Changing to logg=5.00 for T=103295 logg=5.41\n",
      "Changing to T= 50000 for T=102877 logg=5.42\n",
      "Changing to logg=5.00 for T=102877 logg=5.42\n",
      "Changing to T= 50000 for T= 69175 logg=4.37\n",
      "Changing to logg=5.00 for T= 69175 logg=4.37\n",
      "Changing to T= 50000 for T=102582 logg=5.41\n",
      "Changing to logg=5.00 for T=102582 logg=5.41\n",
      "Changing to T= 50000 for T=101384 logg=5.42\n",
      "Changing to logg=5.00 for T=101384 logg=5.42\n",
      "Changing to T= 50000 for T= 74005 logg=4.47\n",
      "Changing to logg=5.00 for T= 74005 logg=4.47\n",
      "Changing to T= 50000 for T= 67059 logg=4.31\n",
      "Changing to logg=5.00 for T= 67059 logg=4.31\n",
      "Changing to T= 50000 for T= 69217 logg=4.37\n",
      "Changing to logg=5.00 for T= 69217 logg=4.37\n",
      "Changing to T= 50000 for T= 79066 logg=4.86\n",
      "Changing to logg=5.00 for T= 79066 logg=4.86\n",
      "Changing to T= 50000 for T= 71685 logg=4.42\n",
      "Changing to logg=5.00 for T= 71685 logg=4.42\n",
      "Changing to logg=3.50 for T= 27049 logg=3.39\n",
      "Changing to T= 50000 for T= 69250 logg=4.36\n",
      "Changing to logg=5.00 for T= 69250 logg=4.36\n",
      "Changing to T= 50000 for T=103183 logg=5.45\n",
      "Changing to logg=5.00 for T=103183 logg=5.45\n",
      "Changing to T= 50000 for T= 67126 logg=4.31\n",
      "Changing to logg=5.00 for T= 67126 logg=4.31\n",
      "Changing to T= 50000 for T= 68547 logg=4.68\n",
      "Changing to logg=5.00 for T= 68547 logg=4.68\n",
      "Changing to T= 50000 for T= 70317 logg=4.39\n",
      "Changing to logg=5.00 for T= 70317 logg=4.39\n",
      "Changing to T= 50000 for T=102702 logg=5.40\n",
      "Changing to logg=5.00 for T=102702 logg=5.40\n",
      "Changing to T= 50000 for T= 54474 logg=4.21\n",
      "Changing to logg=5.00 for T= 54474 logg=4.21\n",
      "Changing to T= 50000 for T= 96381 logg=5.41\n",
      "Changing to logg=5.00 for T= 96381 logg=5.41\n",
      "Changing to T= 50000 for T= 61844 logg=4.19\n",
      "Changing to logg=5.00 for T= 61844 logg=4.19\n",
      "Changing to T= 50000 for T= 68368 logg=4.68\n",
      "Changing to logg=5.00 for T= 68368 logg=4.68\n",
      "Changing to logg=4.50 for T= 46078 logg=3.89\n",
      "Changing to T= 50000 for T=102160 logg=5.40\n",
      "Changing to logg=5.00 for T=102160 logg=5.40\n",
      "Changing to T= 50000 for T= 67265 logg=4.33\n",
      "Changing to logg=5.00 for T= 67265 logg=4.33\n",
      "Changing to T= 50000 for T= 69440 logg=4.37\n",
      "Changing to logg=5.00 for T= 69440 logg=4.37\n",
      "Changing to T= 50000 for T= 74307 logg=4.48\n",
      "Changing to logg=5.00 for T= 74307 logg=4.48\n",
      "Changing to T= 50000 for T=172330 logg=5.86\n",
      "Changing to logg=5.00 for T=172330 logg=5.86\n",
      "Changing to T= 50000 for T= 57361 logg=4.31\n",
      "Changing to logg=5.00 for T= 57361 logg=4.31\n",
      "Changing to T= 50000 for T= 98215 logg=4.84\n",
      "Changing to logg=5.00 for T= 98215 logg=4.84\n",
      "Changing to T= 50000 for T= 61608 logg=4.45\n",
      "Changing to logg=5.00 for T= 61608 logg=4.45\n",
      "Changing to T= 50000 for T= 84300 logg=4.58\n",
      "Changing to logg=5.00 for T= 84300 logg=4.58\n",
      "Changing to T= 50000 for T= 80369 logg=4.61\n",
      "Changing to logg=5.00 for T= 80369 logg=4.61\n",
      "Changing to logg=4.50 for T= 44419 logg=3.82\n",
      "Changing to T= 50000 for T= 53145 logg=4.16\n",
      "Changing to logg=5.00 for T= 53145 logg=4.16\n",
      "Changing to T= 50000 for T= 74186 logg=4.48\n",
      "Changing to logg=5.00 for T= 74186 logg=4.48\n",
      "Changing to T= 50000 for T= 71793 logg=4.42\n",
      "Changing to logg=5.00 for T= 71793 logg=4.42\n",
      "Changing to T= 50000 for T= 70672 logg=4.40\n",
      "Changing to logg=5.00 for T= 70672 logg=4.40\n",
      "Changing to logg=3.50 for T= 26443 logg=3.24\n",
      "Changing to logg=4.50 for T= 47335 logg=3.94\n",
      "Changing to T= 50000 for T= 82465 logg=5.17\n",
      "Changing to logg=5.00 for T= 82465 logg=5.17\n",
      "Changing to T= 50000 for T= 68965 logg=4.36\n",
      "Changing to logg=5.00 for T= 68965 logg=4.36\n",
      "Changing to T= 50000 for T= 72869 logg=4.45\n",
      "Changing to logg=5.00 for T= 72869 logg=4.45\n",
      "Changing to logg=4.00 for T= 32875 logg=3.84\n",
      "Changing to T= 50000 for T= 63810 logg=4.24\n",
      "Changing to logg=5.00 for T= 63810 logg=4.24\n",
      "Changing to T= 50000 for T= 83155 logg=4.66\n",
      "Changing to logg=5.00 for T= 83155 logg=4.66\n",
      "Changing to T= 50000 for T= 67786 logg=4.33\n",
      "Changing to logg=5.00 for T= 67786 logg=4.33\n",
      "Changing to T= 50000 for T= 87573 logg=4.75\n",
      "Changing to logg=5.00 for T= 87573 logg=4.75\n",
      "Changing to logg=3.50 for T= 27580 logg=3.14\n",
      "Changing to T= 50000 for T=102783 logg=5.40\n",
      "Changing to logg=5.00 for T=102783 logg=5.40\n",
      "Changing to T= 50000 for T= 68979 logg=4.36\n",
      "Changing to logg=5.00 for T= 68979 logg=4.36\n",
      "Changing to logg=4.50 for T= 47669 logg=3.95\n",
      "Changing to T= 50000 for T=103748 logg=5.41\n",
      "Changing to logg=5.00 for T=103748 logg=5.41\n",
      "Changing to logg=4.50 for T= 45540 logg=3.87\n",
      "Changing to T= 50000 for T= 69632 logg=4.38\n",
      "Changing to logg=5.00 for T= 69632 logg=4.38\n",
      "Changing to T= 50000 for T=102771 logg=5.42\n",
      "Changing to logg=5.00 for T=102771 logg=5.42\n",
      "Changing to logg=4.00 for T= 35832 logg=3.76\n",
      "Changing to T= 50000 for T= 65433 logg=4.28\n",
      "Changing to logg=5.00 for T= 65433 logg=4.28\n",
      "Changing to T= 50000 for T= 73748 logg=4.47\n",
      "Changing to logg=5.00 for T= 73748 logg=4.47\n",
      "Changing to T= 50000 for T= 70651 logg=4.75\n",
      "Changing to logg=5.00 for T= 70651 logg=4.75\n",
      "Changing to T= 50000 for T= 69859 logg=4.40\n",
      "Changing to logg=5.00 for T= 69859 logg=4.40\n",
      "Changing to T= 50000 for T=103443 logg=5.40\n",
      "Changing to logg=5.00 for T=103443 logg=5.40\n",
      "Changing to T= 50000 for T=103633 logg=5.41\n",
      "Changing to logg=5.00 for T=103633 logg=5.41\n",
      "Changing to T= 50000 for T= 54369 logg=4.20\n",
      "Changing to logg=5.00 for T= 54369 logg=4.20\n",
      "Changing to T= 50000 for T= 74466 logg=4.49\n",
      "Changing to logg=5.00 for T= 74466 logg=4.49\n",
      "Changing to T= 50000 for T=101506 logg=5.42\n",
      "Changing to logg=5.00 for T=101506 logg=5.42\n",
      "Changing to T= 50000 for T=132764 logg=5.53\n",
      "Changing to logg=5.00 for T=132764 logg=5.53\n",
      "Changing to T= 50000 for T= 71717 logg=4.43\n",
      "Changing to logg=5.00 for T= 71717 logg=4.43\n",
      "Changing to T= 50000 for T= 65890 logg=4.28\n",
      "Changing to logg=5.00 for T= 65890 logg=4.28\n",
      "Changing to T= 50000 for T= 72778 logg=4.45\n",
      "Changing to logg=5.00 for T= 72778 logg=4.45\n",
      "Changing to T= 50000 for T= 72500 logg=4.44\n",
      "Changing to logg=5.00 for T= 72500 logg=4.44\n",
      "Changing to T= 50000 for T=102183 logg=5.41\n",
      "Changing to logg=5.00 for T=102183 logg=5.41\n",
      "Changing to T= 50000 for T= 69325 logg=4.37\n",
      "Changing to logg=5.00 for T= 69325 logg=4.37\n",
      "Changing to T= 50000 for T= 81204 logg=4.62\n",
      "Changing to logg=5.00 for T= 81204 logg=4.62\n",
      "Changing to T= 50000 for T= 73497 logg=4.46\n",
      "Changing to logg=5.00 for T= 73497 logg=4.46\n",
      "Changing to logg=4.50 for T= 45606 logg=3.87\n",
      "Changing to T= 50000 for T= 74686 logg=4.49\n",
      "Changing to logg=5.00 for T= 74686 logg=4.49\n",
      "Changing to T= 50000 for T= 79299 logg=5.03\n",
      "Changing to logg=5.00 for T= 79299 logg=5.03\n",
      "Changing to T= 50000 for T=102716 logg=5.41\n",
      "Changing to logg=5.00 for T=102716 logg=5.41\n",
      "Changing to T= 50000 for T= 66604 logg=4.62\n",
      "Changing to logg=5.00 for T= 66604 logg=4.62\n",
      "Changing to logg=4.00 for T= 35293 logg=3.85\n",
      "Changing to T= 50000 for T= 69530 logg=4.37\n",
      "Changing to logg=5.00 for T= 69530 logg=4.37\n",
      "Changing to T= 50000 for T= 65121 logg=4.26\n",
      "Changing to logg=5.00 for T= 65121 logg=4.26\n",
      "Changing to T= 50000 for T= 85889 logg=5.01\n",
      "Changing to logg=5.00 for T= 85889 logg=5.01\n",
      "Changing to T= 50000 for T= 57582 logg=4.32\n",
      "Changing to logg=5.00 for T= 57582 logg=4.32\n",
      "Changing to T= 50000 for T= 79287 logg=4.87\n",
      "Changing to logg=5.00 for T= 79287 logg=4.87\n",
      "Changing to T= 50000 for T=172687 logg=5.87\n",
      "Changing to logg=5.00 for T=172687 logg=5.87\n",
      "Changing to T= 50000 for T= 72337 logg=4.44\n",
      "Changing to logg=5.00 for T= 72337 logg=4.44\n",
      "Changing to T= 50000 for T=103770 logg=5.41\n",
      "Changing to logg=5.00 for T=103770 logg=5.41\n",
      "Changing to T= 50000 for T= 68832 logg=4.36\n",
      "Changing to logg=5.00 for T= 68832 logg=4.36\n",
      "Changing to logg=3.50 for T= 27719 logg=3.22\n",
      "Changing to T= 50000 for T= 61100 logg=4.37\n",
      "Changing to logg=5.00 for T= 61100 logg=4.37\n",
      "Changing to logg=5.00 for T= 49825 logg=4.03\n",
      "Changing to logg=3.00 for T= 25019 logg=2.99\n",
      "Changing to T= 50000 for T= 69868 logg=4.38\n",
      "Changing to logg=5.00 for T= 69868 logg=4.38\n",
      "Changing to T= 50000 for T= 67318 logg=4.32\n",
      "Changing to logg=5.00 for T= 67318 logg=4.32\n",
      "Changing to T= 50000 for T= 83506 logg=5.33\n",
      "Changing to logg=5.00 for T= 83506 logg=5.33\n",
      "Changing to T= 50000 for T= 67845 logg=4.33\n",
      "Changing to logg=5.00 for T= 67845 logg=4.33\n",
      "Changing to T= 50000 for T= 67217 logg=4.32\n",
      "Changing to logg=5.00 for T= 67217 logg=4.32\n",
      "Changing to T= 50000 for T= 69239 logg=4.36\n",
      "Changing to logg=5.00 for T= 69239 logg=4.36\n",
      "Changing to T= 50000 for T= 65169 logg=4.27\n",
      "Changing to logg=5.00 for T= 65169 logg=4.27\n",
      "Changing to T= 50000 for T= 70627 logg=4.40\n",
      "Changing to logg=5.00 for T= 70627 logg=4.40\n",
      "Changing to T= 50000 for T= 67075 logg=4.31\n",
      "Changing to logg=5.00 for T= 67075 logg=4.31\n",
      "Changing to T= 50000 for T=101719 logg=5.39\n",
      "Changing to logg=5.00 for T=101719 logg=5.39\n",
      "Changing to T= 50000 for T= 71038 logg=4.43\n",
      "Changing to logg=5.00 for T= 71038 logg=4.43\n",
      "Changing to T= 50000 for T=102948 logg=5.41\n",
      "Changing to logg=5.00 for T=102948 logg=5.41\n",
      "Changing to T= 50000 for T= 61191 logg=4.44\n",
      "Changing to logg=5.00 for T= 61191 logg=4.44\n",
      "Changing to T= 50000 for T=175890 logg=5.90\n",
      "Changing to logg=5.00 for T=175890 logg=5.90\n",
      "Changing to T= 50000 for T= 72061 logg=4.43\n",
      "Changing to logg=5.00 for T= 72061 logg=4.43\n",
      "Changing to T= 50000 for T= 66322 logg=4.29\n",
      "Changing to logg=5.00 for T= 66322 logg=4.29\n",
      "Changing to T= 50000 for T=101695 logg=5.38\n",
      "Changing to logg=5.00 for T=101695 logg=5.38\n",
      "Changing to T= 50000 for T= 67526 logg=4.32\n",
      "Changing to logg=5.00 for T= 67526 logg=4.32\n",
      "Changing to T= 50000 for T= 66161 logg=4.60\n",
      "Changing to logg=5.00 for T= 66161 logg=4.60\n",
      "Changing to T= 50000 for T= 67781 logg=4.34\n",
      "Changing to logg=5.00 for T= 67781 logg=4.34\n",
      "Changing to T= 50000 for T=101623 logg=5.42\n",
      "Changing to logg=5.00 for T=101623 logg=5.42\n",
      "Changing to logg=4.50 for T= 41893 logg=3.71\n",
      "Changing to T= 50000 for T= 68096 logg=4.34\n",
      "Changing to logg=5.00 for T= 68096 logg=4.34\n",
      "Changing to T= 50000 for T= 75421 logg=4.51\n",
      "Changing to logg=5.00 for T= 75421 logg=4.51\n",
      "Changing to logg=4.50 for T= 44663 logg=3.83\n",
      "Changing to T= 50000 for T= 74287 logg=4.48\n",
      "Changing to logg=5.00 for T= 74287 logg=4.48\n",
      "Changing to T= 50000 for T=102193 logg=5.41\n",
      "Changing to logg=5.00 for T=102193 logg=5.41\n",
      "Changing to T= 50000 for T= 76591 logg=4.95\n",
      "Changing to logg=5.00 for T= 76591 logg=4.95\n",
      "Changing to T= 50000 for T= 65654 logg=4.28\n",
      "Changing to logg=5.00 for T= 65654 logg=4.28\n",
      "Changing to T= 50000 for T=101513 logg=5.42\n",
      "Changing to logg=5.00 for T=101513 logg=5.42\n",
      "Changing to logg=3.00 for T= 21306 logg=2.99\n",
      "Changing to T= 50000 for T=173760 logg=5.88\n",
      "Changing to logg=5.00 for T=173760 logg=5.88\n",
      "Changing to T= 50000 for T= 59627 logg=4.39\n",
      "Changing to logg=5.00 for T= 59627 logg=4.39\n",
      "Changing to T= 50000 for T= 66240 logg=4.30\n",
      "Changing to logg=5.00 for T= 66240 logg=4.30\n",
      "Changing to T= 50000 for T= 74659 logg=4.49\n",
      "Changing to logg=5.00 for T= 74659 logg=4.49\n",
      "Changing to T= 50000 for T= 68459 logg=4.35\n",
      "Changing to logg=5.00 for T= 68459 logg=4.35\n",
      "Changing to T= 50000 for T=102209 logg=5.40\n",
      "Changing to logg=5.00 for T=102209 logg=5.40\n",
      "Changing to T= 50000 for T= 70529 logg=4.34\n",
      "Changing to logg=5.00 for T= 70529 logg=4.34\n",
      "Changing to T= 50000 for T= 71453 logg=4.77\n",
      "Changing to logg=5.00 for T= 71453 logg=4.77\n",
      "Changing to T= 50000 for T= 67352 logg=4.32\n",
      "Changing to logg=5.00 for T= 67352 logg=4.32\n",
      "Changing to T= 50000 for T= 71702 logg=4.79\n",
      "Changing to logg=5.00 for T= 71702 logg=4.79\n",
      "Changing to T= 50000 for T= 70233 logg=4.39\n",
      "Changing to logg=5.00 for T= 70233 logg=4.39\n",
      "Changing to T= 50000 for T= 65749 logg=4.28\n",
      "Changing to logg=5.00 for T= 65749 logg=4.28\n",
      "Changing to logg=3.50 for T= 26165 logg=3.21\n",
      "Changing to T= 50000 for T=103314 logg=5.40\n",
      "Changing to logg=5.00 for T=103314 logg=5.40\n",
      "Changing to T= 50000 for T= 66161 logg=4.29\n",
      "Changing to logg=5.00 for T= 66161 logg=4.29\n",
      "Changing to logg=2.00 for T= 11391 logg=0.99\n",
      "Changing to logg=4.00 for T= 31789 logg=3.54\n",
      "Changing to T= 50000 for T=102849 logg=5.40\n",
      "Changing to logg=5.00 for T=102849 logg=5.40\n",
      "Changing to T= 50000 for T=110499 logg=5.22\n",
      "Changing to logg=5.00 for T=110499 logg=5.22\n",
      "Changing to T= 50000 for T= 67353 logg=4.32\n",
      "Changing to logg=5.00 for T= 67353 logg=4.32\n",
      "Changing to T= 50000 for T=103302 logg=5.45\n",
      "Changing to logg=5.00 for T=103302 logg=5.45\n",
      "Changing to T= 50000 for T=102840 logg=5.41\n",
      "Changing to logg=5.00 for T=102840 logg=5.41\n",
      "Changing to logg=1.50 for T=  8770 logg=1.44\n",
      "Changing to logg=0.00 for T=  3325 logg=-0.66\n",
      "Changing to T= 50000 for T= 72167 logg=4.44\n",
      "Changing to logg=5.00 for T= 72167 logg=4.44\n",
      "Changing to T= 50000 for T= 72257 logg=4.44\n",
      "Changing to logg=5.00 for T= 72257 logg=4.44\n",
      "Changing to logg=0.00 for T=  3317 logg=-0.70\n",
      "Changing to T=  1200 for T=   692 logg=4.44\n",
      "Changing to T= 50000 for T= 70999 logg=4.40\n",
      "Changing to logg=5.00 for T= 70999 logg=4.40\n",
      "Changing to logg=0.00 for T=  3325 logg=-0.66\n",
      "Changing to T= 50000 for T= 72382 logg=4.45\n",
      "Changing to logg=5.00 for T= 72382 logg=4.45\n",
      "Changing to T= 50000 for T=102464 logg=5.41\n",
      "Changing to logg=5.00 for T=102464 logg=5.41\n",
      "Changing to logg=1.50 for T=  8770 logg=1.44\n",
      "Changing to T= 50000 for T= 70881 logg=4.41\n",
      "Changing to logg=5.00 for T= 70881 logg=4.41\n",
      "Changing to T= 50000 for T= 69402 logg=4.37\n",
      "Changing to logg=5.00 for T= 69402 logg=4.37\n",
      "Changing to logg=0.00 for T=  3317 logg=-0.70\n",
      "Changing to T= 50000 for T= 63378 logg=4.21\n",
      "Changing to logg=5.00 for T= 63378 logg=4.21\n",
      "Changing to logg=0.00 for T=  3545 logg=-0.23\n",
      "Changing to T= 50000 for T=102099 logg=5.41\n",
      "Changing to logg=5.00 for T=102099 logg=5.41\n",
      "Changing to logg=5.00 for T=  1616 logg=4.44\n",
      "Changing to T=  1200 for T=   692 logg=4.44\n",
      "Changing to T= 50000 for T= 68910 logg=4.35\n",
      "Changing to logg=5.00 for T= 68910 logg=4.35\n",
      "Changing to T= 50000 for T= 72362 logg=4.44\n",
      "Changing to logg=5.00 for T= 72362 logg=4.44\n",
      "Changing to T= 50000 for T= 67408 logg=4.31\n",
      "Changing to logg=5.00 for T= 67408 logg=4.31\n",
      "Changing to logg=1.50 for T=  8770 logg=1.44\n",
      "Changing to T= 50000 for T= 71836 logg=4.43\n",
      "Changing to logg=5.00 for T= 71836 logg=4.43\n",
      "Changing to logg=0.00 for T=  3554 logg=-0.25\n",
      "Changing to T= 50000 for T= 66501 logg=4.29\n",
      "Changing to logg=5.00 for T= 66501 logg=4.29\n",
      "Changing to T= 50000 for T= 66483 logg=4.28\n",
      "Changing to logg=5.00 for T= 66483 logg=4.28\n",
      "Changing to logg=0.00 for T=  3325 logg=-0.66\n",
      "Changing to T=  1200 for T=   692 logg=4.44\n",
      "Changing to logg=1.50 for T=  8770 logg=1.44\n",
      "Changing to T= 50000 for T= 68919 logg=4.35\n",
      "Changing to logg=5.00 for T= 68919 logg=4.35\n",
      "Changing to T= 50000 for T= 66374 logg=4.28\n",
      "Changing to logg=5.00 for T= 66374 logg=4.28\n",
      "Changing to logg=0.00 for T=  3325 logg=-0.66\n",
      "Changing to T=  1200 for T=   808 logg=4.44\n",
      "Changing to logg=0.00 for T=  3554 logg=-0.25\n",
      "Changing to T=  1200 for T=   808 logg=4.44\n",
      "Changing to logg=1.50 for T=  8770 logg=1.44\n",
      "Changing to logg=0.00 for T=  3317 logg=-0.70\n",
      "Changing to logg=1.50 for T=  8770 logg=1.44\n",
      "Changing to T= 50000 for T= 77947 logg=5.46\n",
      "Changing to logg=5.00 for T= 77947 logg=5.46\n",
      "Changing to T=  1200 for T=   692 logg=4.44\n",
      "Changing to T=  1200 for T=   808 logg=4.44\n",
      "Changing to T= 50000 for T= 66185 logg=4.27\n",
      "Changing to logg=5.00 for T= 66185 logg=4.27\n",
      "Changing to T=  1200 for T=   808 logg=4.44\n",
      "Changing to logg=0.00 for T=  3325 logg=-0.66\n",
      "Changing to T= 50000 for T=104042 logg=5.41\n",
      "Changing to logg=5.00 for T=104042 logg=5.41\n",
      "Changing to logg=1.50 for T=  8770 logg=1.44\n",
      "Changing to logg=0.00 for T=  3285 logg=-0.77\n",
      "Changing to T= 50000 for T=101067 logg=5.42\n",
      "Changing to logg=5.00 for T=101067 logg=5.42\n",
      "Changing to T= 50000 for T= 72280 logg=4.44\n",
      "Changing to logg=5.00 for T= 72280 logg=4.44\n",
      "Changing to logg=3.50 for T= 26699 logg=2.90\n",
      "Changing to T=  1200 for T=   808 logg=4.44\n",
      "Changing to T=  1200 for T=   692 logg=4.44\n",
      "Changing to logg=0.00 for T=  3325 logg=-0.66\n",
      "Changing to T= 50000 for T=100228 logg=5.42\n",
      "Changing to logg=5.00 for T=100228 logg=5.42\n",
      "Changing to T= 50000 for T=100823 logg=5.41\n",
      "Changing to logg=5.00 for T=100823 logg=5.41\n",
      "Changing to T= 50000 for T= 84680 logg=5.43\n",
      "Changing to logg=5.00 for T= 84680 logg=5.43\n",
      "Changing to logg=5.00 for T=  1616 logg=4.44\n",
      "Changing to T=  1200 for T=   808 logg=4.44\n",
      "Changing to logg=0.00 for T=  3317 logg=-0.70\n",
      "Changing to T= 50000 for T= 72399 logg=4.45\n",
      "Changing to logg=5.00 for T= 72399 logg=4.45\n",
      "Changing to logg=1.50 for T=  8770 logg=1.44\n",
      "Changing to logg=5.00 for T=  1616 logg=4.44\n",
      "Changing to logg=2.00 for T= 11252 logg=1.72\n",
      "Changing to logg=1.50 for T=  8770 logg=1.44\n",
      "Changing to logg=0.00 for T=  3325 logg=-0.66\n",
      "Changing to logg=1.50 for T=  8770 logg=1.44\n",
      "Changing to T= 50000 for T= 69785 logg=4.37\n",
      "Changing to logg=5.00 for T= 69785 logg=4.37\n",
      "Changing to T= 50000 for T= 66757 logg=4.29\n",
      "Changing to logg=5.00 for T= 66757 logg=4.29\n",
      "Changing to T= 50000 for T=102994 logg=5.41\n",
      "Changing to logg=5.00 for T=102994 logg=5.41\n",
      "Changing to T=  1200 for T=   808 logg=4.44\n",
      "Changing to logg=0.00 for T=  3325 logg=-0.66\n",
      "Changing to T= 50000 for T= 87809 logg=5.45\n",
      "Changing to logg=5.00 for T= 87809 logg=5.45\n",
      "Changing to T= 50000 for T=100376 logg=5.42\n",
      "Changing to logg=5.00 for T=100376 logg=5.42\n",
      "Changing to logg=2.50 for T= 17098 logg=2.30\n",
      "Changing to logg=1.50 for T=  8770 logg=1.44\n",
      "Changing to logg=1.50 for T=  8770 logg=1.44\n",
      "Changing to T= 50000 for T= 71110 logg=4.41\n",
      "Changing to logg=5.00 for T= 71110 logg=4.41\n",
      "Changing to logg=0.00 for T=  3325 logg=-0.66\n",
      "Changing to T= 50000 for T= 72419 logg=4.45\n",
      "Changing to logg=5.00 for T= 72419 logg=4.45\n",
      "Changing to logg=0.00 for T=  3317 logg=-0.70\n",
      "Changing to logg=0.00 for T=  3317 logg=-0.70\n",
      "Changing to T= 50000 for T= 72509 logg=4.45\n",
      "Changing to logg=5.00 for T= 72509 logg=4.45\n",
      "Changing to T= 50000 for T=102558 logg=5.41\n",
      "Changing to logg=5.00 for T=102558 logg=5.41\n",
      "Changing to T= 50000 for T= 72552 logg=4.46\n",
      "Changing to logg=5.00 for T= 72552 logg=4.46\n",
      "Changing to logg=4.50 for T= 45560 logg=3.71\n",
      "Changing to logg=1.50 for T=  8770 logg=1.44\n",
      "Changing to T= 50000 for T= 67791 logg=4.33\n",
      "Changing to logg=5.00 for T= 67791 logg=4.33\n",
      "Changing to logg=0.00 for T=  3325 logg=-0.66\n",
      "Changing to T= 50000 for T=101906 logg=5.42\n",
      "Changing to logg=5.00 for T=101906 logg=5.42\n",
      "Changing to logg=1.50 for T=  8770 logg=1.44\n",
      "Changing to T= 50000 for T= 67759 logg=4.33\n",
      "Changing to logg=5.00 for T= 67759 logg=4.33\n",
      "Changing to logg=1.50 for T=  8770 logg=1.44\n",
      "Changing to logg=1.50 for T=  8770 logg=1.44\n",
      "Changing to logg=1.50 for T=  8770 logg=1.44\n",
      "Changing to logg=1.50 for T=  8770 logg=1.44\n",
      "Changing to logg=0.00 for T=  3289 logg=-0.83\n",
      "Changing to T= 50000 for T= 72205 logg=4.44\n",
      "Changing to logg=5.00 for T= 72205 logg=4.44\n",
      "Changing to T= 50000 for T= 67588 logg=4.31\n",
      "Changing to logg=5.00 for T= 67588 logg=4.31\n",
      "Changing to logg=1.50 for T=  8770 logg=1.44\n",
      "Changing to logg=1.50 for T=  8770 logg=1.44\n",
      "Changing to T= 50000 for T= 70651 logg=4.40\n",
      "Changing to logg=5.00 for T= 70651 logg=4.40\n",
      "Changing to logg=0.00 for T=  3317 logg=-0.70\n",
      "Changing to logg=1.50 for T=  8770 logg=1.44\n",
      "Changing to logg=0.00 for T=  3325 logg=-0.66\n",
      "Changing to logg=0.00 for T=  3337 logg=-0.66\n",
      "Changing to logg=1.50 for T=  8770 logg=1.44\n",
      "Changing to T= 50000 for T= 72414 logg=4.45\n",
      "Changing to logg=5.00 for T= 72414 logg=4.45\n",
      "Changing to logg=5.00 for T=  1616 logg=4.44\n",
      "Changing to T= 50000 for T=101046 logg=5.41\n",
      "Changing to logg=5.00 for T=101046 logg=5.41\n",
      "Changing to T= 50000 for T= 73646 logg=5.52\n",
      "Changing to logg=5.00 for T= 73646 logg=5.52\n",
      "Changing to logg=0.00 for T=  3325 logg=-0.66\n",
      "Changing to T= 50000 for T=102908 logg=5.41\n",
      "Changing to logg=5.00 for T=102908 logg=5.41\n",
      "Changing to logg=2.00 for T=  9391 logg=1.55\n",
      "Changing to T= 50000 for T=101233 logg=5.40\n",
      "Changing to logg=5.00 for T=101233 logg=5.40\n",
      "Changing to logg=0.00 for T=  3554 logg=-0.25\n",
      "Changing to logg=1.50 for T=  8770 logg=1.44\n",
      "Changing to T= 50000 for T= 72171 logg=4.44\n",
      "Changing to logg=5.00 for T= 72171 logg=4.44\n",
      "Changing to T= 50000 for T= 67906 logg=4.33\n",
      "Changing to logg=5.00 for T= 67906 logg=4.33\n",
      "Changing to logg=5.00 for T=  1616 logg=4.44\n",
      "Changing to T= 50000 for T= 70351 logg=4.40\n",
      "Changing to logg=5.00 for T= 70351 logg=4.40\n",
      "Changing to T= 50000 for T= 72349 logg=4.44\n",
      "Changing to logg=5.00 for T= 72349 logg=4.44\n",
      "Changing to T= 50000 for T= 72304 logg=4.45\n",
      "Changing to logg=5.00 for T= 72304 logg=4.45\n",
      "Changing to T= 50000 for T= 67222 logg=4.30\n",
      "Changing to logg=5.00 for T= 67222 logg=4.30\n",
      "Changing to logg=1.50 for T=  8770 logg=1.44\n",
      "Changing to T= 50000 for T= 65076 logg=4.24\n",
      "Changing to logg=5.00 for T= 65076 logg=4.24\n",
      "Changing to logg=0.00 for T=  3317 logg=-0.70\n",
      "Changing to T= 50000 for T= 61732 logg=4.16\n",
      "Changing to logg=5.00 for T= 61732 logg=4.16\n",
      "Changing to logg=0.00 for T=  3554 logg=-0.25\n",
      "Changing to logg=0.00 for T=  3554 logg=-0.25\n",
      "Changing to logg=0.00 for T=  3317 logg=-0.70\n",
      "Changing to T= 50000 for T= 72302 logg=4.45\n",
      "Changing to logg=5.00 for T= 72302 logg=4.45\n",
      "Changing to T= 50000 for T=104937 logg=5.55\n",
      "Changing to logg=5.00 for T=104937 logg=5.55\n",
      "Changing to T= 50000 for T= 65399 logg=4.25\n",
      "Changing to logg=5.00 for T= 65399 logg=4.25\n",
      "Changing to logg=0.00 for T=  3317 logg=-0.70\n",
      "Changing to logg=0.00 for T=  3299 logg=-0.75\n",
      "Changing to logg=0.00 for T=  3325 logg=-0.66\n",
      "Changing to T= 50000 for T= 70066 logg=4.37\n",
      "Changing to logg=5.00 for T= 70066 logg=4.37\n",
      "Changing to logg=0.00 for T=  3291 logg=-0.79\n",
      "Changing to T= 50000 for T= 67298 logg=4.32\n",
      "Changing to logg=5.00 for T= 67298 logg=4.32\n",
      "Changing to T= 50000 for T= 72379 logg=4.45\n",
      "Changing to logg=5.00 for T= 72379 logg=4.45\n",
      "Changing to T= 50000 for T=101681 logg=5.41\n",
      "Changing to logg=5.00 for T=101681 logg=5.41\n",
      "Changing to T= 50000 for T= 76273 logg=5.44\n",
      "Changing to logg=5.00 for T= 76273 logg=5.44\n",
      "Changing to logg=1.50 for T=  8770 logg=1.44\n",
      "Changing to logg=5.00 for T=  1616 logg=4.44\n",
      "Changing to logg=0.00 for T=  3317 logg=-0.70\n",
      "Changing to logg=5.00 for T=  1616 logg=4.44\n",
      "Changing to T= 50000 for T= 71010 logg=4.41\n",
      "Changing to logg=5.00 for T= 71010 logg=4.41\n",
      "Changing to T= 50000 for T= 70963 logg=4.40\n",
      "Changing to logg=5.00 for T= 70963 logg=4.40\n",
      "Changing to T= 50000 for T= 68456 logg=4.34\n",
      "Changing to logg=5.00 for T= 68456 logg=4.34\n",
      "Changing to T= 50000 for T= 72300 logg=4.43\n",
      "Changing to logg=5.00 for T= 72300 logg=4.43\n",
      "Changing to T=  1200 for T=   692 logg=4.44\n",
      "Changing to T= 50000 for T= 71000 logg=4.40\n",
      "Changing to logg=5.00 for T= 71000 logg=4.40\n",
      "Changing to logg=5.00 for T=  1616 logg=4.44\n",
      "Changing to T= 50000 for T=102712 logg=5.41\n",
      "Changing to logg=5.00 for T=102712 logg=5.41\n",
      "Changing to logg=5.00 for T=  1616 logg=4.44\n",
      "Changing to logg=2.00 for T=  9845 logg=1.65\n",
      "Changing to T= 50000 for T= 70307 logg=4.39\n",
      "Changing to logg=5.00 for T= 70307 logg=4.39\n",
      "Changing to T=  1200 for T=   808 logg=4.44\n",
      "Changing to T= 50000 for T= 81506 logg=5.45\n",
      "Changing to logg=5.00 for T= 81506 logg=5.45\n",
      "Changing to T= 50000 for T= 72029 logg=4.43\n",
      "Changing to logg=5.00 for T= 72029 logg=4.43\n",
      "Changing to logg=0.00 for T=  3317 logg=-0.70\n",
      "Changing to logg=0.00 for T=  3325 logg=-0.66\n",
      "Changing to logg=1.50 for T=  8770 logg=1.44\n",
      "Changing to T= 50000 for T= 72557 logg=4.46\n",
      "Changing to logg=5.00 for T= 72557 logg=4.46\n",
      "Changing to T= 50000 for T= 70265 logg=4.39\n",
      "Changing to logg=5.00 for T= 70265 logg=4.39\n",
      "Changing to logg=5.00 for T=  1616 logg=4.44\n",
      "Changing to T= 50000 for T= 70487 logg=4.40\n",
      "Changing to logg=5.00 for T= 70487 logg=4.40\n",
      "Changing to logg=0.00 for T=  3554 logg=-0.25\n",
      "Changing to logg=1.50 for T=  8770 logg=1.44\n",
      "Changing to logg=0.00 for T=  3325 logg=-0.66\n",
      "Changing to logg=0.00 for T=  3554 logg=-0.25\n",
      "Changing to logg=1.50 for T=  8770 logg=1.44\n",
      "Changing to logg=1.50 for T=  8770 logg=1.44\n",
      "Changing to logg=1.50 for T=  8770 logg=1.44\n",
      "Changing to logg=0.00 for T=  3325 logg=-0.66\n",
      "Changing to T= 50000 for T=102341 logg=5.42\n",
      "Changing to logg=5.00 for T=102341 logg=5.42\n",
      "Changing to T= 50000 for T= 65896 logg=4.27\n",
      "Changing to logg=5.00 for T= 65896 logg=4.27\n",
      "Changing to logg=1.50 for T=  8770 logg=1.44\n",
      "Changing to logg=0.00 for T=  3317 logg=-0.70\n",
      "Changing to logg=0.00 for T=  3554 logg=-0.25\n",
      "Changing to logg=3.00 for T= 20116 logg=2.54\n",
      "Changing to logg=1.50 for T=  8770 logg=1.44\n",
      "Changing to logg=1.50 for T=  8927 logg=1.48\n",
      "Changing to T= 50000 for T= 81495 logg=5.50\n",
      "Changing to logg=5.00 for T= 81495 logg=5.50\n",
      "Changing to T=  1200 for T=   808 logg=4.44\n",
      "Changing to T= 50000 for T=100510 logg=5.42\n",
      "Changing to logg=5.00 for T=100510 logg=5.42\n",
      "Changing to logg=4.00 for T= 31386 logg=3.65\n",
      "Changing to T= 50000 for T= 70306 logg=4.38\n",
      "Changing to logg=5.00 for T= 70306 logg=4.38\n",
      "Changing to logg=0.00 for T=  3554 logg=-0.25\n",
      "Changing to T= 50000 for T= 87789 logg=5.30\n",
      "Changing to logg=5.00 for T= 87789 logg=5.30\n",
      "Changing to T=  1200 for T=   692 logg=4.44\n",
      "Changing to T= 50000 for T=100422 logg=5.42\n",
      "Changing to logg=5.00 for T=100422 logg=5.42\n",
      "Changing to logg=0.00 for T=  3325 logg=-0.66\n",
      "Changing to logg=1.50 for T=  8770 logg=1.44\n",
      "Changing to T= 50000 for T= 68979 logg=4.35\n",
      "Changing to logg=5.00 for T= 68979 logg=4.35\n",
      "Changing to logg=0.00 for T=  3325 logg=-0.66\n",
      "Changing to logg=1.50 for T=  8770 logg=1.44\n",
      "Changing to T= 50000 for T= 83774 logg=5.42\n",
      "Changing to logg=5.00 for T= 83774 logg=5.42\n",
      "Changing to T= 50000 for T= 68243 logg=4.33\n",
      "Changing to logg=5.00 for T= 68243 logg=4.33\n",
      "Changing to logg=0.00 for T=  3337 logg=-0.66\n",
      "Changing to T= 50000 for T= 56673 logg=4.23\n",
      "Changing to logg=5.00 for T= 56673 logg=4.23\n",
      "Changing to T= 50000 for T= 63749 logg=4.21\n",
      "Changing to logg=5.00 for T= 63749 logg=4.21\n",
      "Changing to T= 50000 for T=102681 logg=5.41\n",
      "Changing to logg=5.00 for T=102681 logg=5.41\n",
      "Changing to logg=0.00 for T=  3317 logg=-0.70\n",
      "Changing to logg=1.50 for T=  8770 logg=1.44\n",
      "Changing to T= 50000 for T= 69700 logg=4.38\n",
      "Changing to logg=5.00 for T= 69700 logg=4.38\n",
      "Changing to T= 50000 for T= 96627 logg=5.44\n",
      "Changing to logg=5.00 for T= 96627 logg=5.44\n",
      "Changing to T= 50000 for T= 93401 logg=5.43\n",
      "Changing to logg=5.00 for T= 93401 logg=5.43\n",
      "Changing to T= 50000 for T= 70002 logg=4.38\n",
      "Changing to logg=5.00 for T= 70002 logg=4.38\n",
      "Changing to logg=0.00 for T=  3317 logg=-0.70\n",
      "Changing to T= 50000 for T= 61686 logg=4.15\n",
      "Changing to logg=5.00 for T= 61686 logg=4.15\n",
      "Changing to logg=1.50 for T=  8770 logg=1.44\n",
      "Changing to T= 50000 for T=101375 logg=5.40\n",
      "Changing to logg=5.00 for T=101375 logg=5.40\n",
      "Changing to T= 50000 for T= 69929 logg=4.39\n",
      "Changing to logg=5.00 for T= 69929 logg=4.39\n",
      "Changing to T= 50000 for T= 68126 logg=4.67\n",
      "Changing to logg=5.00 for T= 68126 logg=4.67\n",
      "Changing to T= 50000 for T= 99591 logg=5.45\n",
      "Changing to logg=5.00 for T= 99591 logg=5.45\n",
      "Changing to logg=1.50 for T=  8770 logg=1.44\n",
      "Changing to logg=5.00 for T=  1616 logg=4.44\n",
      "Changing to T=  1200 for T=   692 logg=4.44\n",
      "Changing to logg=0.00 for T=  3317 logg=-0.70\n",
      "Changing to logg=5.00 for T=  1616 logg=4.44\n",
      "Changing to logg=0.00 for T=  3317 logg=-0.70\n",
      "Changing to T= 50000 for T= 72354 logg=4.44\n",
      "Changing to logg=5.00 for T= 72354 logg=4.44\n",
      "Changing to logg=1.50 for T=  8770 logg=1.44\n",
      "Changing to T=  1200 for T=   808 logg=4.44\n",
      "Changing to logg=0.00 for T=  3325 logg=-0.66\n",
      "Changing to T= 50000 for T= 54200 logg=3.98\n",
      "Changing to logg=5.00 for T= 54200 logg=3.98\n",
      "Changing to T= 50000 for T= 62987 logg=4.19\n",
      "Changing to logg=5.00 for T= 62987 logg=4.19\n",
      "Changing to T=  1200 for T=   692 logg=4.44\n",
      "Changing to T= 50000 for T=102887 logg=5.41\n",
      "Changing to logg=5.00 for T=102887 logg=5.41\n",
      "Changing to logg=0.00 for T=  3325 logg=-0.66\n",
      "Changing to T= 50000 for T=101904 logg=5.42\n",
      "Changing to logg=5.00 for T=101904 logg=5.42\n",
      "Changing to logg=4.00 for T= 35481 logg=3.37\n",
      "Changing to T=  1200 for T=   692 logg=4.44\n",
      "Changing to logg=2.00 for T=  9849 logg=1.64\n",
      "Changing to logg=1.50 for T=  8783 logg=1.48\n",
      "Changing to logg=1.50 for T=  8770 logg=1.44\n",
      "Changing to logg=1.50 for T=  8770 logg=1.44\n",
      "Changing to logg=1.50 for T=  8770 logg=1.44\n",
      "Changing to logg=1.50 for T=  8770 logg=1.44\n",
      "Changing to logg=1.50 for T=  8770 logg=1.44\n",
      "Changing to T= 50000 for T= 67894 logg=4.31\n",
      "Changing to logg=5.00 for T= 67894 logg=4.31\n",
      "Changing to T= 50000 for T= 68524 logg=4.35\n",
      "Changing to logg=5.00 for T= 68524 logg=4.35\n",
      "Changing to T= 50000 for T= 65306 logg=4.25\n",
      "Changing to logg=5.00 for T= 65306 logg=4.25\n",
      "Changing to logg=0.00 for T=  3325 logg=-0.66\n",
      "Changing to logg=0.00 for T=  3554 logg=-0.25\n",
      "Changing to T= 50000 for T= 95993 logg=5.47\n",
      "Changing to logg=5.00 for T= 95993 logg=5.47\n",
      "Changing to T= 50000 for T= 72205 logg=4.44\n",
      "Changing to logg=5.00 for T= 72205 logg=4.44\n",
      "Changing to T= 50000 for T= 66362 logg=4.28\n",
      "Changing to logg=5.00 for T= 66362 logg=4.28\n",
      "Changing to T= 50000 for T= 72364 logg=4.45\n",
      "Changing to logg=5.00 for T= 72364 logg=4.45\n",
      "Changing to logg=0.00 for T=  3317 logg=-0.70\n",
      "Changing to logg=0.00 for T=  3317 logg=-0.70\n",
      "Changing to T= 50000 for T= 72177 logg=4.44\n",
      "Changing to logg=5.00 for T= 72177 logg=4.44\n",
      "Changing to logg=1.50 for T=  8770 logg=1.44\n",
      "Changing to logg=1.50 for T=  8770 logg=1.44\n",
      "Changing to logg=2.00 for T=  9842 logg=1.63\n",
      "Changing to logg=1.50 for T=  8770 logg=1.44\n",
      "Changing to T= 50000 for T=101295 logg=5.42\n",
      "Changing to logg=5.00 for T=101295 logg=5.42\n",
      "Changing to T= 50000 for T= 69454 logg=4.37\n",
      "Changing to logg=5.00 for T= 69454 logg=4.37\n",
      "Changing to logg=0.00 for T=  3317 logg=-0.70\n",
      "Changing to T= 50000 for T= 66211 logg=5.49\n",
      "Changing to logg=5.00 for T= 66211 logg=5.49\n",
      "Changing to T= 50000 for T= 69387 logg=4.36\n",
      "Changing to logg=5.00 for T= 69387 logg=4.36\n",
      "Changing to logg=1.50 for T=  8770 logg=1.44\n",
      "Changing to T=  1200 for T=   692 logg=4.44\n",
      "Changing to T= 50000 for T=101042 logg=5.42\n",
      "Changing to logg=5.00 for T=101042 logg=5.42\n",
      "Changing to logg=1.50 for T=  8770 logg=1.44\n",
      "Changing to logg=0.00 for T=  3554 logg=-0.25\n",
      "Changing to logg=1.50 for T=  8770 logg=1.44\n",
      "Changing to logg=1.50 for T=  8770 logg=1.44\n",
      "Changing to logg=5.00 for T=  1616 logg=4.44\n",
      "Changing to logg=0.00 for T=  3325 logg=-0.66\n",
      "Changing to logg=0.00 for T=  3325 logg=-0.66\n",
      "Changing to T= 50000 for T=101335 logg=5.42\n",
      "Changing to logg=5.00 for T=101335 logg=5.42\n",
      "Changing to logg=0.00 for T=  3325 logg=-0.66\n",
      "Changing to logg=1.50 for T=  8770 logg=1.44\n",
      "Changing to logg=1.50 for T=  8770 logg=1.44\n",
      "Changing to logg=1.50 for T=  8770 logg=1.44\n",
      "Changing to T= 50000 for T= 70791 logg=4.41\n",
      "Changing to logg=5.00 for T= 70791 logg=4.41\n",
      "Changing to T=  1200 for T=   808 logg=4.44\n",
      "Changing to logg=0.00 for T=  3554 logg=-0.25\n",
      "Changing to logg=0.00 for T=  3325 logg=-0.66\n",
      "Changing to T= 50000 for T= 72300 logg=4.45\n",
      "Changing to logg=5.00 for T= 72300 logg=4.45\n",
      "Changing to logg=0.00 for T=  3325 logg=-0.66\n",
      "Changing to T=  1200 for T=   692 logg=4.44\n",
      "Changing to logg=0.00 for T=  3325 logg=-0.66\n",
      "Changing to logg=0.00 for T=  3317 logg=-0.70\n",
      "Changing to logg=0.00 for T=  3554 logg=-0.25\n",
      "Changing to logg=3.00 for T= 19590 logg=2.49\n",
      "Changing to logg=2.00 for T=  9832 logg=1.63\n",
      "Changing to logg=1.50 for T=  8770 logg=1.44\n",
      "Changing to T= 50000 for T= 72322 logg=4.44\n",
      "Changing to logg=5.00 for T= 72322 logg=4.44\n",
      "Changing to T= 50000 for T= 68251 logg=4.33\n",
      "Changing to logg=5.00 for T= 68251 logg=4.33\n",
      "Changing to T= 50000 for T= 77780 logg=5.39\n",
      "Changing to logg=5.00 for T= 77780 logg=5.39\n",
      "Changing to T=  1200 for T=   808 logg=4.44\n",
      "Changing to T= 50000 for T=101824 logg=5.41\n",
      "Changing to logg=5.00 for T=101824 logg=5.41\n",
      "Changing to logg=0.00 for T=  3325 logg=-0.66\n",
      "Changing to logg=0.00 for T=  3317 logg=-0.70\n",
      "Changing to logg=1.50 for T=  8770 logg=1.44\n",
      "Changing to logg=0.00 for T=  3317 logg=-0.70\n",
      "Changing to T=  1200 for T=   692 logg=4.44\n",
      "Changing to T= 50000 for T= 71017 logg=4.41\n",
      "Changing to logg=5.00 for T= 71017 logg=4.41\n",
      "Changing to logg=1.50 for T=  8770 logg=1.44\n",
      "Changing to logg=1.50 for T=  8770 logg=1.44\n",
      "Changing to T= 50000 for T= 70317 logg=4.40\n",
      "Changing to logg=5.00 for T= 70317 logg=4.40\n",
      "Changing to T= 50000 for T= 72419 logg=4.45\n",
      "Changing to logg=5.00 for T= 72419 logg=4.45\n",
      "Changing to T= 50000 for T= 63596 logg=4.20\n",
      "Changing to logg=5.00 for T= 63596 logg=4.20\n",
      "Changing to logg=1.50 for T=  8770 logg=1.44\n",
      "Changing to logg=2.00 for T=  9034 logg=1.64\n",
      "Changing to logg=0.00 for T=  3317 logg=-0.70\n",
      "Changing to logg=1.50 for T=  8770 logg=1.44\n",
      "Changing to T= 50000 for T=101478 logg=5.42\n",
      "Changing to logg=5.00 for T=101478 logg=5.42\n",
      "Changing to T=  1200 for T=   808 logg=4.44\n",
      "Changing to logg=0.00 for T=  3325 logg=-0.66\n",
      "Changing to T= 50000 for T= 61937 logg=4.17\n",
      "Changing to logg=5.00 for T= 61937 logg=4.17\n",
      "Changing to T= 50000 for T=102393 logg=5.41\n",
      "Changing to logg=5.00 for T=102393 logg=5.41\n",
      "Changing to logg=0.00 for T=  3317 logg=-0.70\n",
      "Changing to logg=1.50 for T=  8770 logg=1.44\n",
      "Changing to logg=0.00 for T=  3325 logg=-0.66\n",
      "Changing to T= 50000 for T= 67861 logg=4.32\n",
      "Changing to logg=5.00 for T= 67861 logg=4.32\n",
      "Changing to logg=1.50 for T=  8770 logg=1.44\n",
      "Changing to T= 50000 for T= 66627 logg=4.29\n",
      "Changing to logg=5.00 for T= 66627 logg=4.29\n",
      "Changing to T=  1200 for T=   808 logg=4.44\n",
      "Changing to T= 50000 for T= 63602 logg=4.20\n",
      "Changing to logg=5.00 for T= 63602 logg=4.20\n",
      "Changing to T=  1200 for T=   808 logg=4.44\n",
      "Changing to logg=1.50 for T=  8770 logg=1.44\n",
      "Changing to logg=0.00 for T=  3317 logg=-0.70\n",
      "Changing to logg=0.00 for T=  3325 logg=-0.66\n",
      "Changing to logg=5.00 for T=  1616 logg=4.44\n",
      "Changing to T= 50000 for T= 72134 logg=4.44\n",
      "Changing to logg=5.00 for T= 72134 logg=4.44\n",
      "Changing to logg=1.50 for T=  8770 logg=1.44\n",
      "Changing to T= 50000 for T=101226 logg=5.40\n",
      "Changing to logg=5.00 for T=101226 logg=5.40\n",
      "Changing to logg=5.00 for T=  1616 logg=4.44\n",
      "Changing to T= 50000 for T= 69480 logg=4.37\n",
      "Changing to logg=5.00 for T= 69480 logg=4.37\n",
      "Changing to T= 50000 for T= 64500 logg=4.23\n",
      "Changing to logg=5.00 for T= 64500 logg=4.23\n",
      "Changing to logg=0.00 for T=  3317 logg=-0.70\n",
      "Changing to T= 50000 for T= 72096 logg=4.44\n",
      "Changing to logg=5.00 for T= 72096 logg=4.44\n",
      "Changing to T= 50000 for T= 99582 logg=5.43\n",
      "Changing to logg=5.00 for T= 99582 logg=5.43\n",
      "Changing to T=  1200 for T=   808 logg=4.44\n",
      "Changing to logg=0.00 for T=  3554 logg=-0.25\n",
      "Changing to T= 50000 for T= 53224 logg=3.92\n",
      "Changing to logg=5.00 for T= 53224 logg=3.92\n",
      "Changing to logg=1.50 for T=  8770 logg=1.44\n",
      "Changing to T= 50000 for T= 64353 logg=4.22\n",
      "Changing to logg=5.00 for T= 64353 logg=4.22\n",
      "Changing to logg=0.00 for T=  3317 logg=-0.68\n",
      "Changing to logg=0.00 for T=  3317 logg=-0.70\n",
      "Changing to T= 50000 for T=102948 logg=5.41\n",
      "Changing to logg=5.00 for T=102948 logg=5.41\n",
      "Changing to logg=0.00 for T=  3325 logg=-0.66\n",
      "Changing to T= 50000 for T= 86137 logg=5.29\n",
      "Changing to logg=5.00 for T= 86137 logg=5.29\n",
      "Changing to logg=0.00 for T=  3325 logg=-0.66\n",
      "Changing to T=  1200 for T=   808 logg=4.44\n",
      "Changing to T= 50000 for T= 67602 logg=4.32\n",
      "Changing to logg=5.00 for T= 67602 logg=4.32\n",
      "Changing to logg=0.00 for T=  3325 logg=-0.66\n",
      "Changing to logg=0.00 for T=  3554 logg=-0.25\n",
      "Changing to logg=0.00 for T=  3294 logg=-0.74\n",
      "Changing to logg=1.50 for T=  8770 logg=1.44\n",
      "Changing to T=  1200 for T=   692 logg=4.44\n",
      "Changing to T= 50000 for T= 68173 logg=4.34\n",
      "Changing to logg=5.00 for T= 68173 logg=4.34\n",
      "Changing to T= 50000 for T=101167 logg=5.42\n",
      "Changing to logg=5.00 for T=101167 logg=5.42\n",
      "Changing to logg=1.50 for T=  8770 logg=1.44\n",
      "Changing to T= 50000 for T= 70474 logg=4.40\n",
      "Changing to logg=5.00 for T= 70474 logg=4.40\n",
      "Changing to logg=1.50 for T=  8770 logg=1.44\n",
      "Changing to logg=1.50 for T=  8770 logg=1.44\n",
      "Changing to logg=0.00 for T=  3554 logg=-0.25\n",
      "Changing to T= 50000 for T= 70920 logg=4.41\n",
      "Changing to logg=5.00 for T= 70920 logg=4.41\n",
      "Changing to logg=1.50 for T=  8770 logg=1.44\n",
      "Changing to T= 50000 for T=132114 logg=5.77\n",
      "Changing to logg=5.00 for T=132114 logg=5.77\n",
      "Changing to T= 50000 for T= 72540 logg=4.46\n",
      "Changing to logg=5.00 for T= 72540 logg=4.46\n",
      "Changing to logg=2.00 for T=  9671 logg=1.71\n",
      "Changing to logg=2.00 for T=  9787 logg=1.68\n",
      "Changing to T=  1200 for T=   692 logg=4.44\n",
      "Changing to logg=4.50 for T= 43064 logg=3.76\n",
      "Changing to logg=0.00 for T=  3317 logg=-0.70\n",
      "Changing to logg=2.00 for T= 10354 logg=1.62\n",
      "Changing to T= 50000 for T=100244 logg=5.42\n",
      "Changing to logg=5.00 for T=100244 logg=5.42\n",
      "Changing to T= 50000 for T= 82393 logg=5.42\n",
      "Changing to logg=5.00 for T= 82393 logg=5.42\n",
      "Changing to logg=1.50 for T=  8770 logg=1.44\n",
      "Changing to T= 50000 for T= 73592 logg=4.46\n",
      "Changing to logg=5.00 for T= 73592 logg=4.46\n",
      "Changing to logg=0.00 for T=  3554 logg=-0.25\n",
      "Changing to T= 50000 for T= 72259 logg=4.44\n",
      "Changing to logg=5.00 for T= 72259 logg=4.44\n",
      "Changing to T= 50000 for T= 68454 logg=4.35\n",
      "Changing to logg=5.00 for T= 68454 logg=4.35\n",
      "Changing to T= 50000 for T= 66393 logg=4.29\n",
      "Changing to logg=5.00 for T= 66393 logg=4.29\n",
      "Changing to T= 50000 for T= 72375 logg=4.45\n",
      "Changing to logg=5.00 for T= 72375 logg=4.45\n",
      "Changing to T= 50000 for T= 72410 logg=4.44\n",
      "Changing to logg=5.00 for T= 72410 logg=4.44\n",
      "Changing to T= 50000 for T=100316 logg=5.42\n",
      "Changing to logg=5.00 for T=100316 logg=5.42\n",
      "Changing to T= 50000 for T= 57932 logg=4.06\n",
      "Changing to logg=5.00 for T= 57932 logg=4.06\n",
      "Changing to T= 50000 for T= 72417 logg=4.45\n",
      "Changing to logg=5.00 for T= 72417 logg=4.45\n",
      "Changing to T= 50000 for T= 67825 logg=4.33\n",
      "Changing to logg=5.00 for T= 67825 logg=4.33\n",
      "Changing to logg=0.00 for T=  3554 logg=-0.25\n",
      "Changing to T= 50000 for T=101037 logg=5.40\n",
      "Changing to logg=5.00 for T=101037 logg=5.40\n",
      "Changing to logg=1.50 for T=  8770 logg=1.44\n",
      "Changing to logg=0.00 for T=  3330 logg=-0.71\n",
      "Changing to T= 50000 for T= 62008 logg=4.16\n",
      "Changing to logg=5.00 for T= 62008 logg=4.16\n",
      "Changing to T= 50000 for T= 62552 logg=4.18\n",
      "Changing to logg=5.00 for T= 62552 logg=4.18\n",
      "Changing to logg=1.50 for T=  8770 logg=1.44\n",
      "Changing to logg=0.00 for T=  3554 logg=-0.25\n",
      "Changing to logg=0.00 for T=  3317 logg=-0.70\n",
      "Changing to logg=1.50 for T=  8770 logg=1.44\n",
      "Changing to T= 50000 for T= 63004 logg=4.19\n",
      "Changing to logg=5.00 for T= 63004 logg=4.19\n",
      "Changing to logg=1.50 for T=  8770 logg=1.44\n",
      "Changing to logg=1.50 for T=  8770 logg=1.44\n",
      "Changing to logg=1.50 for T=  8770 logg=1.44\n",
      "Changing to T= 50000 for T= 71333 logg=4.40\n",
      "Changing to logg=5.00 for T= 71333 logg=4.40\n",
      "Changing to T= 50000 for T= 71130 logg=4.41\n",
      "Changing to logg=5.00 for T= 71130 logg=4.41\n",
      "Changing to logg=2.00 for T=  9833 logg=1.68\n",
      "Changing to logg=1.50 for T=  8770 logg=1.44\n",
      "Changing to logg=5.00 for T=  1616 logg=4.44\n",
      "Changing to T= 50000 for T=102747 logg=5.41\n",
      "Changing to logg=5.00 for T=102747 logg=5.41\n",
      "Changing to logg=1.50 for T=  8770 logg=1.44\n",
      "Changing to T= 50000 for T= 69322 logg=4.37\n",
      "Changing to logg=5.00 for T= 69322 logg=4.37\n",
      "Changing to logg=1.50 for T=  8770 logg=1.44\n",
      "Changing to T= 50000 for T= 72437 logg=4.45\n",
      "Changing to logg=5.00 for T= 72437 logg=4.45\n",
      "Changing to logg=0.00 for T=  3325 logg=-0.66\n",
      "Changing to T= 50000 for T=101606 logg=5.41\n",
      "Changing to logg=5.00 for T=101606 logg=5.41\n",
      "Changing to logg=0.00 for T=  3317 logg=-0.70\n",
      "Changing to logg=0.00 for T=  3325 logg=-0.66\n",
      "Changing to T= 50000 for T=101265 logg=5.40\n",
      "Changing to logg=5.00 for T=101265 logg=5.40\n",
      "Changing to logg=0.00 for T=  3325 logg=-0.66\n",
      "Changing to T= 50000 for T= 63756 logg=4.21\n",
      "Changing to logg=5.00 for T= 63756 logg=4.21\n",
      "Changing to T= 50000 for T=101237 logg=5.41\n",
      "Changing to logg=5.00 for T=101237 logg=5.41\n",
      "Changing to T=  1200 for T=   692 logg=4.44\n",
      "Changing to logg=2.00 for T=  9772 logg=1.67\n",
      "Changing to logg=0.00 for T=  3317 logg=-0.70\n",
      "Changing to logg=1.50 for T=  8770 logg=1.44\n",
      "Changing to logg=2.00 for T=  9759 logg=1.72\n",
      "Changing to logg=0.00 for T=  3317 logg=-0.70\n",
      "Changing to logg=0.00 for T=  3288 logg=-0.82\n",
      "Changing to logg=5.00 for T=  1616 logg=4.44\n",
      "Changing to T= 50000 for T= 62509 logg=4.18\n",
      "Changing to logg=5.00 for T= 62509 logg=4.18\n",
      "Changing to T= 50000 for T= 72345 logg=4.44\n",
      "Changing to logg=5.00 for T= 72345 logg=4.44\n",
      "Changing to T= 50000 for T= 67934 logg=4.33\n",
      "Changing to logg=5.00 for T= 67934 logg=4.33\n",
      "Changing to T= 50000 for T= 69696 logg=4.37\n",
      "Changing to logg=5.00 for T= 69696 logg=4.37\n",
      "Changing to logg=1.50 for T=  8770 logg=1.44\n",
      "Changing to T= 50000 for T= 73315 logg=4.45\n",
      "Changing to logg=5.00 for T= 73315 logg=4.45\n",
      "Changing to T= 50000 for T= 65349 logg=4.25\n",
      "Changing to logg=5.00 for T= 65349 logg=4.25\n",
      "Changing to logg=1.50 for T=  8770 logg=1.44\n",
      "Changing to logg=0.00 for T=  3554 logg=-0.25\n",
      "Changing to logg=0.00 for T=  3317 logg=-0.70\n",
      "Changing to logg=1.50 for T=  8770 logg=1.44\n",
      "Changing to T= 50000 for T= 68454 logg=4.35\n",
      "Changing to logg=5.00 for T= 68454 logg=4.35\n",
      "Changing to T= 50000 for T= 95192 logg=5.08\n",
      "Changing to logg=5.00 for T= 95192 logg=5.08\n",
      "Changing to logg=0.00 for T=  3325 logg=-0.66\n",
      "Changing to T= 50000 for T= 65770 logg=4.26\n",
      "Changing to logg=5.00 for T= 65770 logg=4.26\n",
      "Changing to T= 50000 for T= 72282 logg=4.44\n",
      "Changing to logg=5.00 for T= 72282 logg=4.44\n",
      "Changing to logg=0.00 for T=  3337 logg=-0.66\n",
      "Changing to logg=0.00 for T=  3325 logg=-0.66\n",
      "Changing to T= 50000 for T= 73018 logg=5.46\n",
      "Changing to logg=5.00 for T= 73018 logg=5.46\n",
      "Making photometry for isochrone: log(t) = 7.00  AKs = 0.00  dist = 1000\n",
      "     Starting at:  2021-07-22 14:12:15.955324   Usually takes ~5 minutes\n",
      "Starting filter: ubv,U   Elapsed time: 0.00 seconds\n",
      "Starting synthetic photometry\n",
      "M =   1.240 Msun  T =  6110 K  m_ubv_U = 14.69\n",
      "M =   5.300 Msun  T = 16984 K  m_ubv_U = 8.36\n",
      "M =  17.000 Msun  T = 24307 K  m_ubv_U = 3.94\n",
      "M =  18.000 Msun  T = 71698 K  m_ubv_U = 7.27\n",
      "M =   1.400 Msun  T =  6559 K  m_ubv_U = 13.78\n",
      "M =   6.310 Msun  T =   nan K  m_ubv_U =  nan\n",
      "M =  19.000 Msun  T = 28262 K  m_ubv_U = 2.75\n",
      "M =  12.000 Msun  T = 25081 K  m_ubv_U = 5.56\n",
      "M =   0.251 Msun  T =   nan K  m_ubv_U =  nan\n",
      "M =  19.000 Msun  T = 102113 K  m_ubv_U = 8.77\n",
      "M =   1.400 Msun  T =   nan K  m_ubv_U =  nan\n",
      "M =   8.000 Msun  T = 21305 K  m_ubv_U = 7.05\n",
      "M =  11.000 Msun  T = 24577 K  m_ubv_U = 5.95\n",
      "M =   1.400 Msun  T =   nan K  m_ubv_U =  nan\n",
      "M =  13.000 Msun  T = 26107 K  m_ubv_U = 5.36\n",
      "M =  15.000 Msun  T = 26270 K  m_ubv_U = 4.69\n",
      "M =  17.000 Msun  T = 24307 K  m_ubv_U = 3.94\n",
      "M =  14.000 Msun  T = 26300 K  m_ubv_U = 5.01\n",
      "M =   8.500 Msun  T = 22028 K  m_ubv_U = 6.88\n",
      "M =   3.162 Msun  T =  2739 K  m_ubv_U = 29.73\n",
      "M =   1.400 Msun  T =   nan K  m_ubv_U =  nan\n",
      "M =   1.400 Msun  T =   nan K  m_ubv_U =  nan\n",
      "M =   1.400 Msun  T =   nan K  m_ubv_U =  nan\n",
      "M =   0.501 Msun  T =   nan K  m_ubv_U =  nan\n",
      "M =   1.200 Msun  T =  5987 K  m_ubv_U = 15.00\n",
      "M =  15.000 Msun  T = 26270 K  m_ubv_U = 4.69\n",
      "M =  14.000 Msun  T = 26300 K  m_ubv_U = 5.01\n",
      "M =   3.162 Msun  T =  2739 K  m_ubv_U = 29.73\n",
      "M =   1.400 Msun  T =   nan K  m_ubv_U =  nan\n",
      "M =  20.000 Msun  T = 65151 K  m_ubv_U = 6.00\n",
      "M =  12.000 Msun  T = 25081 K  m_ubv_U = 5.56\n",
      "M =   1.400 Msun  T =   nan K  m_ubv_U =  nan\n",
      "M =   1.400 Msun  T =   nan K  m_ubv_U =  nan\n",
      "M =  12.000 Msun  T = 25081 K  m_ubv_U = 5.56\n",
      "M =   1.400 Msun  T =  6559 K  m_ubv_U = 13.78\n",
      "M =  21.000 Msun  T = 69632 K  m_ubv_U = 6.23\n",
      "M =   3.981 Msun  T =   nan K  m_ubv_U =  nan\n",
      "M =   3.162 Msun  T =  2739 K  m_ubv_U = 29.73\n",
      "M =   0.600 Msun  T =  5463 K  m_ubv_U = 16.50\n",
      "M =   5.012 Msun  T =   nan K  m_ubv_U =  nan\n",
      "M =  17.000 Msun  T = 24307 K  m_ubv_U = 3.94\n",
      "M =   5.012 Msun  T =   nan K  m_ubv_U =  nan\n",
      "M =  13.600 Msun  T = 28461 K  m_ubv_U = 5.27\n",
      "M =  16.200 Msun  T = 26347 K  m_ubv_U = 4.27\n",
      "M =   0.280 Msun  T =  1616 K  m_ubv_U = 33.62\n",
      "M =  15.000 Msun  T = 25833 K  m_ubv_U = 4.59\n",
      "M =  11.400 Msun  T =   nan K  m_ubv_U =  nan\n",
      "M =   2.400 Msun  T = 10468 K  m_ubv_U = 11.13\n",
      "M =   1.400 Msun  T =  6571 K  m_ubv_U = 13.77\n",
      "M =  17.100 Msun  T = 24815 K  m_ubv_U = 3.89\n",
      "M =  12.000 Msun  T = 25146 K  m_ubv_U = 5.54\n",
      "M =   2.400 Msun  T = 10468 K  m_ubv_U = 11.13\n",
      "M =   1.100 Msun  T =  5905 K  m_ubv_U = 15.39\n",
      "M =  16.000 Msun  T = 25206 K  m_ubv_U = 4.25\n",
      "M =   5.200 Msun  T = 17553 K  m_ubv_U = 8.50\n",
      "M =   3.000 Msun  T = 12276 K  m_ubv_U = 10.27\n",
      "M =   3.400 Msun  T = 13365 K  m_ubv_U = 9.82\n",
      "M =   8.400 Msun  T = 23278 K  m_ubv_U = 7.04\n",
      "M =   5.100 Msun  T = 17340 K  m_ubv_U = 8.56\n",
      "M =  11.000 Msun  T = 24743 K  m_ubv_U = 5.98\n",
      "M =  18.000 Msun  T =  8770 K  m_ubv_U = 2.31\n",
      "M =  19.000 Msun  T = 102681 K  m_ubv_U = 8.82\n",
      "M =  11.000 Msun  T = 24743 K  m_ubv_U = 5.98\n",
      "M =   1.400 Msun  T =  6561 K  m_ubv_U = 13.77\n",
      "M =   1.080 Msun  T =  5851 K  m_ubv_U = 15.53\n",
      "M =  13.500 Msun  T = 28501 K  m_ubv_U = 5.31\n",
      "M =  11.200 Msun  T = 26902 K  m_ubv_U = 6.07\n",
      "M =  15.000 Msun  T = 25833 K  m_ubv_U = 4.59\n",
      "M =   1.500 Msun  T =  6905 K  m_ubv_U = 13.36\n",
      "M =  12.000 Msun  T = 27449 K  m_ubv_U = 5.79\n",
      "M =  10.800 Msun  T = 26377 K  m_ubv_U = 6.13\n",
      "M =   1.500 Msun  T =  6905 K  m_ubv_U = 13.36\n",
      "M =  19.000 Msun  T = 101226 K  m_ubv_U = 8.78\n",
      "M =   3.600 Msun  T = 13885 K  m_ubv_U = 9.63\n",
      "M =   0.840 Msun  T =  4847 K  m_ubv_U = 17.71\n",
      "M =   6.300 Msun  T = 19695 K  m_ubv_U = 7.93\n",
      "M =  13.000 Msun  T = 26170 K  m_ubv_U = 5.33\n",
      "M =  18.000 Msun  T =  8770 K  m_ubv_U = 2.31\n",
      "M =   0.360 Msun  T =   nan K  m_ubv_U =  nan\n",
      "M =  21.000 Msun  T =  3317 K  m_ubv_U = 8.13\n",
      "M =  15.300 Msun  T = 28171 K  m_ubv_U = 4.68\n",
      "M =  16.000 Msun  T = 25206 K  m_ubv_U = 4.25\n",
      "Starting filter: ubv,V   Elapsed time: 15.12 seconds\n",
      "Starting synthetic photometry\n",
      "M =   1.240 Msun  T =  6110 K  m_ubv_V = 14.10\n",
      "M =   5.300 Msun  T = 16984 K  m_ubv_V = 9.18\n",
      "M =  17.000 Msun  T = 24307 K  m_ubv_V = 5.13\n",
      "M =  18.000 Msun  T = 71698 K  m_ubv_V = 8.72\n",
      "M =   1.400 Msun  T =  6559 K  m_ubv_V = 13.37\n",
      "M =   6.310 Msun  T =   nan K  m_ubv_V =  nan\n",
      "M =  19.000 Msun  T = 28262 K  m_ubv_V = 4.03\n",
      "M =  12.000 Msun  T = 25081 K  m_ubv_V = 6.74\n",
      "M =   0.251 Msun  T =   nan K  m_ubv_V =  nan\n",
      "M =  19.000 Msun  T = 102113 K  m_ubv_V = 10.21\n",
      "M =   1.400 Msun  T =   nan K  m_ubv_V =  nan\n",
      "M =   8.000 Msun  T = 21305 K  m_ubv_V = 8.08\n",
      "M =  11.000 Msun  T = 24577 K  m_ubv_V = 7.11\n",
      "M =   1.400 Msun  T =   nan K  m_ubv_V =  nan\n",
      "M =  13.000 Msun  T = 26107 K  m_ubv_V = 6.56\n",
      "M =  15.000 Msun  T = 26270 K  m_ubv_V = 5.91\n",
      "M =  17.000 Msun  T = 24307 K  m_ubv_V = 5.13\n",
      "M =  14.000 Msun  T = 26300 K  m_ubv_V = 6.23\n",
      "M =   8.500 Msun  T = 22028 K  m_ubv_V = 7.94\n",
      "M =   3.162 Msun  T =  2739 K  m_ubv_V = 26.84\n",
      "M =   1.400 Msun  T =   nan K  m_ubv_V =  nan\n",
      "M =   1.400 Msun  T =   nan K  m_ubv_V =  nan\n",
      "M =   1.400 Msun  T =   nan K  m_ubv_V =  nan\n",
      "M =   0.501 Msun  T =   nan K  m_ubv_V =  nan\n",
      "M =   1.200 Msun  T =  5987 K  m_ubv_V = 14.35\n",
      "M =  15.000 Msun  T = 26270 K  m_ubv_V = 5.91\n",
      "M =  14.000 Msun  T = 26300 K  m_ubv_V = 6.23\n",
      "M =   3.162 Msun  T =  2739 K  m_ubv_V = 26.84\n",
      "M =   1.400 Msun  T =   nan K  m_ubv_V =  nan\n",
      "M =  20.000 Msun  T = 65151 K  m_ubv_V = 7.44\n",
      "M =  12.000 Msun  T = 25081 K  m_ubv_V = 6.74\n",
      "M =   1.400 Msun  T =   nan K  m_ubv_V =  nan\n",
      "M =   1.400 Msun  T =   nan K  m_ubv_V =  nan\n",
      "M =  12.000 Msun  T = 25081 K  m_ubv_V = 6.74\n",
      "M =   1.400 Msun  T =  6559 K  m_ubv_V = 13.37\n",
      "M =  21.000 Msun  T = 69632 K  m_ubv_V = 7.67\n",
      "M =   3.981 Msun  T =   nan K  m_ubv_V =  nan\n",
      "M =   3.162 Msun  T =  2739 K  m_ubv_V = 26.84\n",
      "M =   0.600 Msun  T =  5463 K  m_ubv_V = 15.45\n",
      "M =   5.012 Msun  T =   nan K  m_ubv_V =  nan\n",
      "M =  17.000 Msun  T = 24307 K  m_ubv_V = 5.13\n",
      "M =   5.012 Msun  T =   nan K  m_ubv_V =  nan\n",
      "M =  13.600 Msun  T = 28461 K  m_ubv_V = 6.53\n",
      "M =  16.200 Msun  T = 26347 K  m_ubv_V = 5.50\n",
      "M =   0.280 Msun  T =  1616 K  m_ubv_V = 29.23\n",
      "M =  15.000 Msun  T = 25833 K  m_ubv_V = 5.80\n",
      "M =  11.400 Msun  T =   nan K  m_ubv_V =  nan\n",
      "M =   2.400 Msun  T = 10468 K  m_ubv_V = 11.28\n",
      "M =   1.400 Msun  T =  6571 K  m_ubv_V = 13.36\n",
      "M =  17.100 Msun  T = 24815 K  m_ubv_V = 5.09\n",
      "M =  12.000 Msun  T = 25146 K  m_ubv_V = 6.72\n",
      "M =   2.400 Msun  T = 10468 K  m_ubv_V = 11.28\n",
      "M =   1.100 Msun  T =  5905 K  m_ubv_V = 14.69\n",
      "M =  16.000 Msun  T = 25206 K  m_ubv_V = 5.45\n",
      "M =   5.200 Msun  T = 17553 K  m_ubv_V = 9.35\n",
      "M =   3.000 Msun  T = 12276 K  m_ubv_V = 10.69\n",
      "M =   3.400 Msun  T = 13365 K  m_ubv_V = 10.37\n",
      "M =   8.400 Msun  T = 23278 K  m_ubv_V = 8.14\n",
      "M =   5.100 Msun  T = 17340 K  m_ubv_V = 9.39\n",
      "M =  11.000 Msun  T = 24743 K  m_ubv_V = 7.14\n",
      "M =  18.000 Msun  T =  8770 K  m_ubv_V = 2.39\n",
      "M =  19.000 Msun  T = 102681 K  m_ubv_V = 10.26\n",
      "M =  11.000 Msun  T = 24743 K  m_ubv_V = 7.14\n",
      "M =   1.400 Msun  T =  6561 K  m_ubv_V = 13.36\n",
      "M =   1.080 Msun  T =  5851 K  m_ubv_V = 14.79\n",
      "M =  13.500 Msun  T = 28501 K  m_ubv_V = 6.58\n",
      "M =  11.200 Msun  T = 26902 K  m_ubv_V = 7.28\n",
      "M =  15.000 Msun  T = 25833 K  m_ubv_V = 5.80\n",
      "M =   1.500 Msun  T =  6905 K  m_ubv_V = 13.02\n",
      "M =  12.000 Msun  T = 27449 K  m_ubv_V = 7.02\n",
      "M =  10.800 Msun  T = 26377 K  m_ubv_V = 7.33\n",
      "M =   1.500 Msun  T =  6905 K  m_ubv_V = 13.02\n",
      "M =  19.000 Msun  T = 101226 K  m_ubv_V = 10.23\n",
      "M =   3.600 Msun  T = 13885 K  m_ubv_V = 10.23\n",
      "M =   0.840 Msun  T =  4847 K  m_ubv_V = 16.05\n",
      "M =   6.300 Msun  T = 19695 K  m_ubv_V = 8.88\n",
      "M =  13.000 Msun  T = 26170 K  m_ubv_V = 6.54\n",
      "M =  18.000 Msun  T =  8770 K  m_ubv_V = 2.39\n",
      "M =   0.360 Msun  T =   nan K  m_ubv_V =  nan\n",
      "M =  21.000 Msun  T =  3317 K  m_ubv_V = 5.03\n",
      "M =  15.300 Msun  T = 28171 K  m_ubv_V = 5.95\n",
      "M =  16.000 Msun  T = 25206 K  m_ubv_V = 5.45\n",
      "Starting filter: ubv,B   Elapsed time: 30.30 seconds\n",
      "Starting synthetic photometry\n",
      "M =   1.240 Msun  T =  6110 K  m_ubv_B = 14.69\n",
      "M =   5.300 Msun  T = 16984 K  m_ubv_B = 9.01\n",
      "M =  17.000 Msun  T = 24307 K  m_ubv_B = 4.89\n",
      "M =  18.000 Msun  T = 71698 K  m_ubv_B = 8.39\n",
      "M =   1.400 Msun  T =  6559 K  m_ubv_B = 13.83\n",
      "M =   6.310 Msun  T =   nan K  m_ubv_B =  nan\n",
      "M =  19.000 Msun  T = 28262 K  m_ubv_B = 3.77\n",
      "M =  12.000 Msun  T = 25081 K  m_ubv_B = 6.49\n",
      "M =   0.251 Msun  T =   nan K  m_ubv_B =  nan\n",
      "M =  19.000 Msun  T = 102113 K  m_ubv_B = 9.88\n",
      "M =   1.400 Msun  T =   nan K  m_ubv_B =  nan\n",
      "M =   8.000 Msun  T = 21305 K  m_ubv_B = 7.86\n",
      "M =  11.000 Msun  T = 24577 K  m_ubv_B = 6.87\n",
      "M =   1.400 Msun  T =   nan K  m_ubv_B =  nan\n",
      "M =  13.000 Msun  T = 26107 K  m_ubv_B = 6.31\n",
      "M =  15.000 Msun  T = 26270 K  m_ubv_B = 5.66\n",
      "M =  17.000 Msun  T = 24307 K  m_ubv_B = 4.89\n",
      "M =  14.000 Msun  T = 26300 K  m_ubv_B = 5.98\n",
      "M =   8.500 Msun  T = 22028 K  m_ubv_B = 7.72\n",
      "M =   3.162 Msun  T =  2739 K  m_ubv_B = 28.28\n",
      "M =   1.400 Msun  T =   nan K  m_ubv_B =  nan\n",
      "M =   1.400 Msun  T =   nan K  m_ubv_B =  nan\n",
      "M =   1.400 Msun  T =   nan K  m_ubv_B =  nan\n",
      "M =   0.501 Msun  T =   nan K  m_ubv_B =  nan\n",
      "M =   1.200 Msun  T =  5987 K  m_ubv_B = 14.98\n",
      "M =  15.000 Msun  T = 26270 K  m_ubv_B = 5.66\n",
      "M =  14.000 Msun  T = 26300 K  m_ubv_B = 5.98\n",
      "M =   3.162 Msun  T =  2739 K  m_ubv_B = 28.28\n",
      "M =   1.400 Msun  T =   nan K  m_ubv_B =  nan\n",
      "M =  20.000 Msun  T = 65151 K  m_ubv_B = 7.11\n",
      "M =  12.000 Msun  T = 25081 K  m_ubv_B = 6.49\n",
      "M =   1.400 Msun  T =   nan K  m_ubv_B =  nan\n",
      "M =   1.400 Msun  T =   nan K  m_ubv_B =  nan\n",
      "M =  12.000 Msun  T = 25081 K  m_ubv_B = 6.49\n",
      "M =   1.400 Msun  T =  6559 K  m_ubv_B = 13.83\n",
      "M =  21.000 Msun  T = 69632 K  m_ubv_B = 7.34\n",
      "M =   3.981 Msun  T =   nan K  m_ubv_B =  nan\n",
      "M =   3.162 Msun  T =  2739 K  m_ubv_B = 28.28\n",
      "M =   0.600 Msun  T =  5463 K  m_ubv_B = 16.26\n",
      "M =   5.012 Msun  T =   nan K  m_ubv_B =  nan\n",
      "M =  17.000 Msun  T = 24307 K  m_ubv_B = 4.89\n",
      "M =   5.012 Msun  T =   nan K  m_ubv_B =  nan\n",
      "M =  13.600 Msun  T = 28461 K  m_ubv_B = 6.26\n",
      "M =  16.200 Msun  T = 26347 K  m_ubv_B = 5.24\n",
      "M =   0.280 Msun  T =  1616 K  m_ubv_B = 31.39\n",
      "M =  15.000 Msun  T = 25833 K  m_ubv_B = 5.55\n",
      "M =  11.400 Msun  T =   nan K  m_ubv_B =  nan\n",
      "M =   2.400 Msun  T = 10468 K  m_ubv_B = 11.25\n",
      "M =   1.400 Msun  T =  6571 K  m_ubv_B = 13.82\n",
      "M =  17.100 Msun  T = 24815 K  m_ubv_B = 4.85\n",
      "M =  12.000 Msun  T = 25146 K  m_ubv_B = 6.48\n",
      "M =   2.400 Msun  T = 10468 K  m_ubv_B = 11.25\n",
      "M =   1.100 Msun  T =  5905 K  m_ubv_B = 15.35\n",
      "M =  16.000 Msun  T = 25206 K  m_ubv_B = 5.21\n",
      "M =   5.200 Msun  T = 17553 K  m_ubv_B = 9.17\n",
      "M =   3.000 Msun  T = 12276 K  m_ubv_B = 10.59\n",
      "M =   3.400 Msun  T = 13365 K  m_ubv_B = 10.25\n",
      "M =   8.400 Msun  T = 23278 K  m_ubv_B = 7.91\n",
      "M =   5.100 Msun  T = 17340 K  m_ubv_B = 9.22\n",
      "M =  11.000 Msun  T = 24743 K  m_ubv_B = 6.90\n",
      "M =  18.000 Msun  T =  8770 K  m_ubv_B = 2.39\n",
      "M =  19.000 Msun  T = 102681 K  m_ubv_B = 9.93\n",
      "M =  11.000 Msun  T = 24743 K  m_ubv_B = 6.90\n",
      "M =   1.400 Msun  T =  6561 K  m_ubv_B = 13.82\n",
      "M =   1.080 Msun  T =  5851 K  m_ubv_B = 15.47\n",
      "M =  13.500 Msun  T = 28501 K  m_ubv_B = 6.31\n",
      "M =  11.200 Msun  T = 26902 K  m_ubv_B = 7.03\n",
      "M =  15.000 Msun  T = 25833 K  m_ubv_B = 5.55\n",
      "M =   1.500 Msun  T =  6905 K  m_ubv_B = 13.40\n",
      "M =  12.000 Msun  T = 27449 K  m_ubv_B = 6.77\n",
      "M =  10.800 Msun  T = 26377 K  m_ubv_B = 7.08\n",
      "M =   1.500 Msun  T =  6905 K  m_ubv_B = 13.40\n",
      "M =  19.000 Msun  T = 101226 K  m_ubv_B = 9.90\n",
      "M =   3.600 Msun  T = 13885 K  m_ubv_B = 10.10\n",
      "M =   0.840 Msun  T =  4847 K  m_ubv_B = 17.03\n",
      "M =   6.300 Msun  T = 19695 K  m_ubv_B = 8.68\n",
      "M =  13.000 Msun  T = 26170 K  m_ubv_B = 6.29\n",
      "M =  18.000 Msun  T =  8770 K  m_ubv_B = 2.39\n",
      "M =   0.360 Msun  T =   nan K  m_ubv_B =  nan\n",
      "M =  21.000 Msun  T =  3317 K  m_ubv_B = 6.53\n",
      "M =  15.300 Msun  T = 28171 K  m_ubv_B = 5.68\n",
      "M =  16.000 Msun  T = 25206 K  m_ubv_B = 5.21\n",
      "Starting filter: ubv,R   Elapsed time: 45.04 seconds\n",
      "Starting synthetic photometry\n",
      "M =   1.240 Msun  T =  6110 K  m_ubv_R = 13.80\n",
      "M =   5.300 Msun  T = 16984 K  m_ubv_R = 9.24\n",
      "M =  17.000 Msun  T = 24307 K  m_ubv_R = 5.22\n",
      "M =  18.000 Msun  T = 71698 K  m_ubv_R = 8.85\n",
      "M =   1.400 Msun  T =  6559 K  m_ubv_R = 13.12\n",
      "M =   6.310 Msun  T =   nan K  m_ubv_R =  nan\n",
      "M =  19.000 Msun  T = 28262 K  m_ubv_R = 4.14\n",
      "M =  12.000 Msun  T = 25081 K  m_ubv_R = 6.83\n",
      "M =   0.251 Msun  T =   nan K  m_ubv_R =  nan\n",
      "M =  19.000 Msun  T = 102113 K  m_ubv_R = 10.35\n",
      "M =   1.400 Msun  T =   nan K  m_ubv_R =  nan\n",
      "M =   8.000 Msun  T = 21305 K  m_ubv_R = 8.16\n",
      "M =  11.000 Msun  T = 24577 K  m_ubv_R = 7.21\n",
      "M =   1.400 Msun  T =   nan K  m_ubv_R =  nan\n",
      "M =  13.000 Msun  T = 26107 K  m_ubv_R = 6.66\n",
      "M =  15.000 Msun  T = 26270 K  m_ubv_R = 6.01\n",
      "M =  17.000 Msun  T = 24307 K  m_ubv_R = 5.22\n",
      "M =  14.000 Msun  T = 26300 K  m_ubv_R = 6.33\n",
      "M =   8.500 Msun  T = 22028 K  m_ubv_R = 8.03\n",
      "M =   3.162 Msun  T =  2739 K  m_ubv_R = 25.46\n",
      "M =   1.400 Msun  T =   nan K  m_ubv_R =  nan\n",
      "M =   1.400 Msun  T =   nan K  m_ubv_R =  nan\n",
      "M =   1.400 Msun  T =   nan K  m_ubv_R =  nan\n",
      "M =   0.501 Msun  T =   nan K  m_ubv_R =  nan\n",
      "M =   1.200 Msun  T =  5987 K  m_ubv_R = 14.03\n",
      "M =  15.000 Msun  T = 26270 K  m_ubv_R = 6.01\n",
      "M =  14.000 Msun  T = 26300 K  m_ubv_R = 6.33\n",
      "M =   3.162 Msun  T =  2739 K  m_ubv_R = 25.46\n",
      "M =   1.400 Msun  T =   nan K  m_ubv_R =  nan\n",
      "M =  20.000 Msun  T = 65151 K  m_ubv_R = 7.58\n",
      "M =  12.000 Msun  T = 25081 K  m_ubv_R = 6.83\n",
      "M =   1.400 Msun  T =   nan K  m_ubv_R =  nan\n",
      "M =   1.400 Msun  T =   nan K  m_ubv_R =  nan\n",
      "M =  12.000 Msun  T = 25081 K  m_ubv_R = 6.83\n",
      "M =   1.400 Msun  T =  6559 K  m_ubv_R = 13.12\n",
      "M =  21.000 Msun  T = 69632 K  m_ubv_R = 7.81\n",
      "M =   3.981 Msun  T =   nan K  m_ubv_R =  nan\n",
      "M =   3.162 Msun  T =  2739 K  m_ubv_R = 25.46\n",
      "M =   0.600 Msun  T =  5463 K  m_ubv_R = 15.06\n",
      "M =   5.012 Msun  T =   nan K  m_ubv_R =  nan\n",
      "M =  17.000 Msun  T = 24307 K  m_ubv_R = 5.22\n",
      "M =   5.012 Msun  T =   nan K  m_ubv_R =  nan\n",
      "M =  13.600 Msun  T = 28461 K  m_ubv_R = 6.64\n",
      "M =  16.200 Msun  T = 26347 K  m_ubv_R = 5.60\n",
      "M =   0.280 Msun  T =  1616 K  m_ubv_R = 26.30\n",
      "M =  15.000 Msun  T = 25833 K  m_ubv_R = 5.90\n",
      "M =  11.400 Msun  T =   nan K  m_ubv_R =  nan\n",
      "M =   2.400 Msun  T = 10468 K  m_ubv_R = 11.30\n",
      "M =   1.400 Msun  T =  6571 K  m_ubv_R = 13.12\n",
      "M =  17.100 Msun  T = 24815 K  m_ubv_R = 5.19\n",
      "M =  12.000 Msun  T = 25146 K  m_ubv_R = 6.82\n",
      "M =   2.400 Msun  T = 10468 K  m_ubv_R = 11.30\n",
      "M =   1.100 Msun  T =  5905 K  m_ubv_R = 14.37\n",
      "M =  16.000 Msun  T = 25206 K  m_ubv_R = 5.55\n",
      "M =   5.200 Msun  T = 17553 K  m_ubv_R = 9.41\n",
      "M =   3.000 Msun  T = 12276 K  m_ubv_R = 10.72\n",
      "M =   3.400 Msun  T = 13365 K  m_ubv_R = 10.41\n",
      "M =   8.400 Msun  T = 23278 K  m_ubv_R = 8.23\n",
      "M =   5.100 Msun  T = 17340 K  m_ubv_R = 9.46\n",
      "M =  11.000 Msun  T = 24743 K  m_ubv_R = 7.23\n",
      "M =  18.000 Msun  T =  8770 K  m_ubv_R = 2.35\n",
      "M =  19.000 Msun  T = 102681 K  m_ubv_R = 10.40\n",
      "M =  11.000 Msun  T = 24743 K  m_ubv_R = 7.23\n",
      "M =   1.400 Msun  T =  6561 K  m_ubv_R = 13.11\n",
      "M =   1.080 Msun  T =  5851 K  m_ubv_R = 14.46\n",
      "M =  13.500 Msun  T = 28501 K  m_ubv_R = 6.69\n",
      "M =  11.200 Msun  T = 26902 K  m_ubv_R = 7.38\n",
      "M =  15.000 Msun  T = 25833 K  m_ubv_R = 5.90\n",
      "M =   1.500 Msun  T =  6905 K  m_ubv_R = 12.81\n",
      "M =  12.000 Msun  T = 27449 K  m_ubv_R = 7.13\n",
      "M =  10.800 Msun  T = 26377 K  m_ubv_R = 7.43\n",
      "M =   1.500 Msun  T =  6905 K  m_ubv_R = 12.81\n",
      "M =  19.000 Msun  T = 101226 K  m_ubv_R = 10.36\n",
      "M =   3.600 Msun  T = 13885 K  m_ubv_R = 10.27\n",
      "M =   0.840 Msun  T =  4847 K  m_ubv_R = 15.53\n",
      "M =   6.300 Msun  T = 19695 K  m_ubv_R = 8.96\n",
      "M =  13.000 Msun  T = 26170 K  m_ubv_R = 6.64\n",
      "M =  18.000 Msun  T =  8770 K  m_ubv_R = 2.35\n",
      "M =   0.360 Msun  T =   nan K  m_ubv_R =  nan\n",
      "M =  21.000 Msun  T =  3317 K  m_ubv_R = 3.89\n",
      "M =  15.300 Msun  T = 28171 K  m_ubv_R = 6.05\n",
      "M =  16.000 Msun  T = 25206 K  m_ubv_R = 5.55\n",
      "Starting filter: ubv,I   Elapsed time: 59.79 seconds\n",
      "Starting synthetic photometry\n",
      "M =   1.240 Msun  T =  6110 K  m_ubv_I = 13.44\n",
      "M =   5.300 Msun  T = 16984 K  m_ubv_I = 9.40\n",
      "M =  17.000 Msun  T = 24307 K  m_ubv_I = 5.44\n",
      "M =  18.000 Msun  T = 71698 K  m_ubv_I = 9.13\n",
      "M =   1.400 Msun  T =  6559 K  m_ubv_I = 12.82\n",
      "M =   6.310 Msun  T =   nan K  m_ubv_I =  nan\n",
      "M =  19.000 Msun  T = 28262 K  m_ubv_I = 4.38\n",
      "M =  12.000 Msun  T = 25081 K  m_ubv_I = 7.06\n",
      "M =   0.251 Msun  T =   nan K  m_ubv_I =  nan\n",
      "M =  19.000 Msun  T = 102113 K  m_ubv_I = 10.63\n",
      "M =   1.400 Msun  T =   nan K  m_ubv_I =  nan\n",
      "M =   8.000 Msun  T = 21305 K  m_ubv_I = 8.37\n",
      "M =  11.000 Msun  T = 24577 K  m_ubv_I = 7.43\n",
      "M =   1.400 Msun  T =   nan K  m_ubv_I =  nan\n",
      "M =  13.000 Msun  T = 26107 K  m_ubv_I = 6.90\n",
      "M =  15.000 Msun  T = 26270 K  m_ubv_I = 6.25\n",
      "M =  17.000 Msun  T = 24307 K  m_ubv_I = 5.44\n",
      "M =  14.000 Msun  T = 26300 K  m_ubv_I = 6.57\n",
      "M =   8.500 Msun  T = 22028 K  m_ubv_I = 8.24\n",
      "M =   3.162 Msun  T =  2739 K  m_ubv_I = 22.12\n",
      "M =   1.400 Msun  T =   nan K  m_ubv_I =  nan\n",
      "M =   1.400 Msun  T =   nan K  m_ubv_I =  nan\n",
      "M =   1.400 Msun  T =   nan K  m_ubv_I =  nan\n",
      "M =   0.501 Msun  T =   nan K  m_ubv_I =  nan\n",
      "M =   1.200 Msun  T =  5987 K  m_ubv_I = 13.65\n",
      "M =  15.000 Msun  T = 26270 K  m_ubv_I = 6.25\n",
      "M =  14.000 Msun  T = 26300 K  m_ubv_I = 6.57\n",
      "M =   3.162 Msun  T =  2739 K  m_ubv_I = 22.12\n",
      "M =   1.400 Msun  T =   nan K  m_ubv_I =  nan\n",
      "M =  20.000 Msun  T = 65151 K  m_ubv_I = 7.86\n",
      "M =  12.000 Msun  T = 25081 K  m_ubv_I = 7.06\n",
      "M =   1.400 Msun  T =   nan K  m_ubv_I =  nan\n",
      "M =   1.400 Msun  T =   nan K  m_ubv_I =  nan\n",
      "M =  12.000 Msun  T = 25081 K  m_ubv_I = 7.06\n",
      "M =   1.400 Msun  T =  6559 K  m_ubv_I = 12.82\n",
      "M =  21.000 Msun  T = 69632 K  m_ubv_I = 8.09\n",
      "M =   3.981 Msun  T =   nan K  m_ubv_I =  nan\n",
      "M =   3.162 Msun  T =  2739 K  m_ubv_I = 22.12\n",
      "M =   0.600 Msun  T =  5463 K  m_ubv_I = 14.59\n",
      "M =   5.012 Msun  T =   nan K  m_ubv_I =  nan\n",
      "M =  17.000 Msun  T = 24307 K  m_ubv_I = 5.44\n",
      "M =   5.012 Msun  T =   nan K  m_ubv_I =  nan\n",
      "M =  13.600 Msun  T = 28461 K  m_ubv_I = 6.89\n",
      "M =  16.200 Msun  T = 26347 K  m_ubv_I = 5.84\n",
      "M =   0.280 Msun  T =  1616 K  m_ubv_I = 22.86\n",
      "M =  15.000 Msun  T = 25833 K  m_ubv_I = 6.14\n",
      "M =  11.400 Msun  T =   nan K  m_ubv_I =  nan\n",
      "M =   2.400 Msun  T = 10468 K  m_ubv_I = 11.34\n",
      "M =   1.400 Msun  T =  6571 K  m_ubv_I = 12.82\n",
      "M =  17.100 Msun  T = 24815 K  m_ubv_I = 5.41\n",
      "M =  12.000 Msun  T = 25146 K  m_ubv_I = 7.05\n",
      "M =   2.400 Msun  T = 10468 K  m_ubv_I = 11.34\n",
      "M =   1.100 Msun  T =  5905 K  m_ubv_I = 13.97\n",
      "M =  16.000 Msun  T = 25206 K  m_ubv_I = 5.78\n",
      "M =   5.200 Msun  T = 17553 K  m_ubv_I = 9.58\n",
      "M =   3.000 Msun  T = 12276 K  m_ubv_I = 10.81\n",
      "M =   3.400 Msun  T = 13365 K  m_ubv_I = 10.52\n",
      "M =   8.400 Msun  T = 23278 K  m_ubv_I = 8.45\n",
      "M =   5.100 Msun  T = 17340 K  m_ubv_I = 9.62\n",
      "M =  11.000 Msun  T = 24743 K  m_ubv_I = 7.46\n",
      "M =  18.000 Msun  T =  8770 K  m_ubv_I = 2.30\n",
      "M =  19.000 Msun  T = 102681 K  m_ubv_I = 10.68\n",
      "M =  11.000 Msun  T = 24743 K  m_ubv_I = 7.46\n",
      "M =   1.400 Msun  T =  6561 K  m_ubv_I = 12.82\n",
      "M =   1.080 Msun  T =  5851 K  m_ubv_I = 14.06\n",
      "M =  13.500 Msun  T = 28501 K  m_ubv_I = 6.94\n",
      "M =  11.200 Msun  T = 26902 K  m_ubv_I = 7.63\n",
      "M =  15.000 Msun  T = 25833 K  m_ubv_I = 6.14\n",
      "M =   1.500 Msun  T =  6905 K  m_ubv_I = 12.56\n",
      "M =  12.000 Msun  T = 27449 K  m_ubv_I = 7.38\n",
      "M =  10.800 Msun  T = 26377 K  m_ubv_I = 7.67\n",
      "M =   1.500 Msun  T =  6905 K  m_ubv_I = 12.56\n",
      "M =  19.000 Msun  T = 101226 K  m_ubv_I = 10.64\n",
      "M =   3.600 Msun  T = 13885 K  m_ubv_I = 10.39\n",
      "M =   0.840 Msun  T =  4847 K  m_ubv_I = 14.92\n",
      "M =   6.300 Msun  T = 19695 K  m_ubv_I = 9.15\n",
      "M =  13.000 Msun  T = 26170 K  m_ubv_I = 6.88\n",
      "M =  18.000 Msun  T =  8770 K  m_ubv_I = 2.30\n",
      "M =   0.360 Msun  T =   nan K  m_ubv_I =  nan\n",
      "M =  21.000 Msun  T =  3317 K  m_ubv_I = 1.35\n",
      "M =  15.300 Msun  T = 28171 K  m_ubv_I = 6.30\n",
      "M =  16.000 Msun  T = 25206 K  m_ubv_I = 5.78\n",
      "      Time taken: 74.42 seconds\n",
      "Isochrone generation took 755.286831 s.\n"
     ]
    }
   ],
   "source": [
    "import spisea\n",
    "from spisea import evolution, synthetic\n",
    "import math\n",
    "# Check if the evolution class works fine\n",
    "iso1=synthetic.Isochrone_Binary(7.0, 0.0, 1000,\n",
    "                                math.log10(1), mass_sampling=1)\n"
   ]
  },
  {
   "cell_type": "markdown",
   "metadata": {},
   "source": [
    "Will check if all of the indices in the BPASS isochrone are valid, i.e. are 5, 101, 102, 103, or -99 (-99 is for merged))"
   ]
  },
  {
   "cell_type": "code",
   "execution_count": 2,
   "metadata": {},
   "outputs": [
    {
     "data": {
      "text/plain": [
       "True"
      ]
     },
     "execution_count": 2,
     "metadata": {},
     "output_type": "execute_result"
    }
   ],
   "source": [
    "import numpy as np\n",
    "np.all([(x == 5 or x == 101 or x==102 or x==103) for x in iso1.primaries['phase']])"
   ]
  },
  {
   "cell_type": "code",
   "execution_count": 3,
   "metadata": {},
   "outputs": [
    {
     "data": {
      "text/plain": [
       "True"
      ]
     },
     "execution_count": 3,
     "metadata": {},
     "output_type": "execute_result"
    }
   ],
   "source": [
    "np.all([(x == 5 or x == 101 or x==102 or x==103) for x in iso1.singles['phase']])"
   ]
  },
  {
   "cell_type": "code",
   "execution_count": 4,
   "metadata": {},
   "outputs": [
    {
     "data": {
      "text/plain": [
       "True"
      ]
     },
     "execution_count": 4,
     "metadata": {},
     "output_type": "execute_result"
    }
   ],
   "source": [
    "np.all([(x == 5 or x == 101 or x == -99 or x==102 or x==103) for x in iso1.secondaries['phase']])"
   ]
  },
  {
   "cell_type": "markdown",
   "metadata": {},
   "source": [
    "Find the maximum, mean, and median  values of logg (cgs) for primaries and secondaries accounting for NaNs in the columns. (For max we make NaNs the same as - infinity and for median and mean, we do not include them)"
   ]
  },
  {
   "cell_type": "code",
   "execution_count": 5,
   "metadata": {},
   "outputs": [
    {
     "data": {
      "text/plain": [
       "4.591806913365015"
      ]
     },
     "execution_count": 5,
     "metadata": {},
     "output_type": "execute_result"
    }
   ],
   "source": [
    "np.max(iso1.singles['logg'])"
   ]
  },
  {
   "cell_type": "code",
   "execution_count": 6,
   "metadata": {},
   "outputs": [
    {
     "data": {
      "text/plain": [
       "5.898517399939001"
      ]
     },
     "execution_count": 6,
     "metadata": {},
     "output_type": "execute_result"
    }
   ],
   "source": [
    "np.max(np.nan_to_num(iso1.primaries['logg'], -np.inf))"
   ]
  },
  {
   "cell_type": "code",
   "execution_count": 7,
   "metadata": {},
   "outputs": [
    {
     "data": {
      "text/plain": [
       "5.7676806790772"
      ]
     },
     "execution_count": 7,
     "metadata": {},
     "output_type": "execute_result"
    }
   ],
   "source": [
    "np.max(np.nan_to_num(iso1.secondaries['logg'], -np.inf))"
   ]
  },
  {
   "cell_type": "code",
   "execution_count": 8,
   "metadata": {},
   "outputs": [
    {
     "data": {
      "text/plain": [
       "4.178243141326868"
      ]
     },
     "execution_count": 8,
     "metadata": {},
     "output_type": "execute_result"
    }
   ],
   "source": [
    "np.mean(iso1.singles['logg'][np.where(~np.isnan(iso1.singles['logg']))])"
   ]
  },
  {
   "cell_type": "code",
   "execution_count": 9,
   "metadata": {},
   "outputs": [
    {
     "data": {
      "text/plain": [
       "4.108995846829808"
      ]
     },
     "execution_count": 9,
     "metadata": {},
     "output_type": "execute_result"
    }
   ],
   "source": [
    "np.mean(iso1.primaries['logg'][np.where(~np.isnan(iso1.primaries['logg']))])"
   ]
  },
  {
   "cell_type": "code",
   "execution_count": 10,
   "metadata": {},
   "outputs": [
    {
     "data": {
      "text/plain": [
       "3.96292885544605"
      ]
     },
     "execution_count": 10,
     "metadata": {},
     "output_type": "execute_result"
    }
   ],
   "source": [
    "np.mean(iso1.secondaries['logg'][np.where(~np.isnan(iso1.secondaries['logg']))])"
   ]
  },
  {
   "cell_type": "code",
   "execution_count": 11,
   "metadata": {},
   "outputs": [
    {
     "data": {
      "text/plain": [
       "4.194452095013302"
      ]
     },
     "execution_count": 11,
     "metadata": {},
     "output_type": "execute_result"
    }
   ],
   "source": [
    "np.median(iso1.singles['logg'][np.where(~np.isnan(iso1.singles['logg']))])"
   ]
  },
  {
   "cell_type": "code",
   "execution_count": 12,
   "metadata": {},
   "outputs": [
    {
     "data": {
      "text/plain": [
       "4.075886239648769"
      ]
     },
     "execution_count": 12,
     "metadata": {},
     "output_type": "execute_result"
    }
   ],
   "source": [
    "np.median(iso1.primaries['logg'][np.where(~np.isnan(iso1.primaries['logg']))])"
   ]
  },
  {
   "cell_type": "code",
   "execution_count": 13,
   "metadata": {},
   "outputs": [
    {
     "name": "stderr",
     "output_type": "stream",
     "text": [
      "/opt/anaconda3/envs/astroconda/lib/python3.7/site-packages/ipykernel_launcher.py:1: FutureWarning: Using a non-tuple sequence for multidimensional indexing is deprecated; use `arr[tuple(seq)]` instead of `arr[seq]`. In the future this will be interpreted as an array index, `arr[np.array(seq)]`, which will result either in an error or a different result.\n",
      "  \"\"\"Entry point for launching an IPython kernel.\n"
     ]
    },
    {
     "data": {
      "text/plain": [
       "4.239978886358815"
      ]
     },
     "execution_count": 13,
     "metadata": {},
     "output_type": "execute_result"
    }
   ],
   "source": [
    "np.median(iso1.secondaries['logg'][[np.where(~np.isnan(iso1.secondaries['logg']))]])"
   ]
  },
  {
   "cell_type": "code",
   "execution_count": 14,
   "metadata": {},
   "outputs": [
    {
     "data": {
      "text/plain": [
       "Text(0.5, 0, 'logg in cgs')"
      ]
     },
     "execution_count": 14,
     "metadata": {},
     "output_type": "execute_result"
    },
    {
     "name": "stderr",
     "output_type": "stream",
     "text": [
      "findfont: Font family ['sans-serif'] not found. Falling back to DejaVu Sans.\n",
      "findfont: Generic family 'sans-serif' not found because none of the following families were found: Bitstream Vera Sans\n",
      "findfont: Font family ['sans-serif'] not found. Falling back to DejaVu Sans.\n",
      "findfont: Generic family 'sans-serif' not found because none of the following families were found: Bitstream Vera Sans\n"
     ]
    },
    {
     "data": {
      "image/png": "[encoded data removed]",
      "text/plain": [
       "<Figure size 432x288 with 1 Axes>"
      ]
     },
     "metadata": {
      "needs_background": "light"
     },
     "output_type": "display_data"
    }
   ],
   "source": [
    "import matplotlib.pyplot as plt\n",
    "plt.title(\"Distribution of logg values (secondaries) of isochrone\")\n",
    "plt.hist(np.array([x for x in iso1.secondaries['logg'] if np.isfinite(x)]), np.arange(0, 30, 1))\n",
    "plt.xlabel(\"logg in cgs\")"
   ]
  },
  {
   "cell_type": "code",
   "execution_count": 15,
   "metadata": {},
   "outputs": [
    {
     "data": {
      "text/plain": [
       "Text(0.5, 0, 'logg in cgs')"
      ]
     },
     "execution_count": 15,
     "metadata": {},
     "output_type": "execute_result"
    },
    {
     "data": {
      "image/png": "[encoded data removed]",
      "text/plain": [
       "<Figure size 432x288 with 1 Axes>"
      ]
     },
     "metadata": {
      "needs_background": "light"
     },
     "output_type": "display_data"
    }
   ],
   "source": [
    "import matplotlib.pyplot as plt\n",
    "plt.title(\"Distribution of logg values (primaries) of isochrone\")\n",
    "plt.hist(np.array([x for x in iso1.primaries['logg'] if np.isfinite(x)]), np.arange(0, 30, 1))\n",
    "plt.xlabel(\"logg in cgs\")"
   ]
  },
  {
   "cell_type": "code",
   "execution_count": 16,
   "metadata": {},
   "outputs": [
    {
     "data": {
      "text/plain": [
       "Text(0.5, 0, 'logg in cgs')"
      ]
     },
     "execution_count": 16,
     "metadata": {},
     "output_type": "execute_result"
    },
    {
     "data": {
      "image/png": "[encoded data removed]",
      "text/plain": [
       "<Figure size 432x288 with 1 Axes>"
      ]
     },
     "metadata": {
      "needs_background": "light"
     },
     "output_type": "display_data"
    }
   ],
   "source": [
    "import matplotlib.pyplot as plt\n",
    "plt.title(\"Distribution of logg values single stars of isochrone\")\n",
    "plt.hist(np.array([x for x in iso1.singles['logg'] if np.isfinite(x)]), np.arange(0, 30, 1))\n",
    "plt.xlabel(\"logg in cgs\")"
   ]
  },
  {
   "cell_type": "markdown",
   "metadata": {},
   "source": [
    "Now, for comparison, I will create a MISTv.1 isochrone of the same metallicity, age, distance from earth, and AKs."
   ]
  },
  {
   "cell_type": "code",
   "execution_count": 17,
   "metadata": {},
   "outputs": [
    {
     "name": "stdout",
     "output_type": "stream",
     "text": [
      "Changing to logg=3.50 for T= 26068 logg=3.41\n",
      "Changing to logg=3.50 for T= 26167 logg=3.41\n",
      "Changing to logg=3.50 for T= 26263 logg=3.42\n",
      "Changing to logg=3.50 for T= 26355 logg=3.42\n",
      "Changing to logg=3.50 for T= 26443 logg=3.42\n",
      "Changing to logg=3.50 for T= 26528 logg=3.43\n",
      "Changing to logg=3.50 for T= 26609 logg=3.43\n",
      "Changing to logg=3.50 for T= 26685 logg=3.43\n",
      "Changing to logg=3.50 for T= 26758 logg=3.43\n",
      "Changing to logg=3.50 for T= 26826 logg=3.44\n",
      "Changing to logg=3.50 for T= 26889 logg=3.44\n",
      "Changing to logg=3.50 for T= 26943 logg=3.44\n",
      "Changing to logg=3.50 for T= 26985 logg=3.44\n",
      "Changing to logg=3.50 for T= 27008 logg=3.45\n",
      "Changing to logg=3.50 for T= 27006 logg=3.45\n",
      "Changing to logg=3.50 for T= 26955 logg=3.45\n",
      "Changing to logg=3.50 for T= 26861 logg=3.44\n",
      "Changing to logg=3.50 for T= 26740 logg=3.44\n",
      "Changing to logg=3.50 for T= 26600 logg=3.44\n",
      "Changing to logg=3.50 for T= 26446 logg=3.43\n",
      "Changing to logg=3.50 for T= 26289 logg=3.42\n",
      "Changing to logg=3.50 for T= 26128 logg=3.41\n",
      "Changing to logg=3.00 for T= 21082 logg=2.99\n",
      "Changing to logg=3.00 for T= 20939 logg=2.98\n",
      "Changing to logg=3.00 for T= 20797 logg=2.97\n",
      "Changing to logg=3.00 for T= 20655 logg=2.96\n",
      "Changing to logg=3.00 for T= 20513 logg=2.94\n",
      "Changing to logg=3.00 for T= 20372 logg=2.93\n",
      "Changing to logg=3.00 for T= 20231 logg=2.92\n",
      "Changing to logg=3.00 for T= 20091 logg=2.91\n",
      "Changing to logg=3.00 for T= 19951 logg=2.90\n",
      "Changing to logg=3.00 for T= 19813 logg=2.88\n",
      "Changing to logg=3.00 for T= 19675 logg=2.87\n",
      "Changing to logg=3.00 for T= 19538 logg=2.86\n",
      "Changing to logg=3.00 for T= 19401 logg=2.85\n",
      "Changing to logg=3.00 for T= 19265 logg=2.83\n",
      "Changing to logg=3.00 for T= 19131 logg=2.82\n",
      "Changing to logg=2.50 for T= 15896 logg=2.49\n",
      "Changing to logg=2.50 for T= 15781 logg=2.48\n",
      "Changing to logg=2.50 for T= 15667 logg=2.47\n",
      "Changing to logg=2.50 for T= 15554 logg=2.46\n",
      "Changing to logg=2.50 for T= 15442 logg=2.44\n",
      "Changing to logg=2.50 for T= 15330 logg=2.43\n",
      "Changing to logg=2.50 for T= 15219 logg=2.42\n",
      "Changing to logg=2.50 for T= 15109 logg=2.40\n",
      "Changing to logg=2.50 for T= 14999 logg=2.39\n",
      "Changing to logg=2.50 for T= 14891 logg=2.38\n",
      "Changing to logg=2.50 for T= 14782 logg=2.37\n",
      "Changing to logg=2.50 for T= 14675 logg=2.35\n",
      "Changing to logg=2.50 for T= 14569 logg=2.34\n",
      "Changing to logg=2.50 for T= 14463 logg=2.33\n",
      "Changing to logg=2.50 for T= 14358 logg=2.31\n",
      "Changing to logg=2.50 for T= 14254 logg=2.30\n",
      "Changing to logg=2.50 for T= 14150 logg=2.29\n",
      "Changing to logg=2.50 for T= 14048 logg=2.27\n",
      "Changing to logg=2.50 for T= 13946 logg=2.26\n",
      "Changing to logg=2.50 for T= 13844 logg=2.25\n",
      "Changing to logg=2.50 for T= 13744 logg=2.23\n",
      "Changing to logg=2.50 for T= 13644 logg=2.22\n",
      "Changing to logg=2.50 for T= 13545 logg=2.21\n",
      "Changing to logg=2.50 for T= 13447 logg=2.19\n",
      "Changing to logg=2.50 for T= 13350 logg=2.18\n",
      "Changing to logg=2.50 for T= 13253 logg=2.17\n",
      "Changing to logg=2.50 for T= 13157 logg=2.16\n",
      "Changing to logg=2.50 for T= 13061 logg=2.14\n",
      "Changing to logg=2.50 for T= 12967 logg=2.13\n",
      "Changing to logg=2.50 for T= 12873 logg=2.12\n",
      "Changing to logg=2.50 for T= 12779 logg=2.10\n",
      "Changing to logg=2.50 for T= 12687 logg=2.09\n",
      "Changing to logg=2.50 for T= 12595 logg=2.08\n",
      "Changing to logg=2.50 for T= 12504 logg=2.06\n",
      "Changing to logg=2.50 for T= 12413 logg=2.05\n",
      "Changing to logg=2.50 for T= 12323 logg=2.04\n",
      "Changing to logg=2.50 for T= 12234 logg=2.02\n",
      "Changing to logg=2.50 for T= 12145 logg=2.01\n",
      "Changing to logg=2.50 for T= 12058 logg=2.00\n",
      "Changing to logg=2.50 for T= 11970 logg=1.98\n",
      "Changing to logg=2.50 for T= 11884 logg=1.97\n",
      "Changing to logg=2.50 for T= 11798 logg=1.96\n",
      "Changing to logg=2.00 for T= 11712 logg=1.94\n",
      "Changing to logg=2.00 for T= 11628 logg=1.93\n",
      "Changing to logg=2.00 for T= 11543 logg=1.92\n",
      "Changing to logg=2.00 for T= 11460 logg=1.90\n",
      "Changing to logg=2.00 for T= 11377 logg=1.89\n",
      "Changing to logg=2.00 for T= 11295 logg=1.88\n",
      "Changing to logg=2.00 for T= 11213 logg=1.86\n",
      "Changing to logg=2.00 for T= 11132 logg=1.85\n",
      "Changing to logg=2.00 for T= 11052 logg=1.84\n",
      "Changing to logg=2.00 for T= 10972 logg=1.82\n",
      "Changing to logg=2.00 for T= 10893 logg=1.81\n",
      "Changing to logg=2.00 for T= 10814 logg=1.80\n",
      "Changing to logg=2.00 for T= 10736 logg=1.78\n",
      "Changing to logg=2.00 for T= 10658 logg=1.77\n",
      "Changing to logg=2.00 for T= 10582 logg=1.76\n",
      "Changing to logg=2.00 for T= 10505 logg=1.74\n",
      "Changing to logg=2.00 for T= 10429 logg=1.73\n",
      "Changing to logg=2.00 for T= 10354 logg=1.72\n",
      "Changing to logg=2.00 for T= 10280 logg=1.71\n",
      "Changing to logg=2.00 for T= 10206 logg=1.69\n",
      "Changing to logg=2.00 for T= 10132 logg=1.68\n",
      "Changing to logg=2.00 for T= 10059 logg=1.67\n",
      "Changing to logg=2.00 for T=  9987 logg=1.65\n",
      "Changing to logg=2.00 for T=  9915 logg=1.64\n",
      "Changing to logg=2.00 for T=  9844 logg=1.63\n",
      "Changing to logg=2.00 for T=  9773 logg=1.61\n",
      "Changing to logg=2.00 for T=  9703 logg=1.60\n",
      "Changing to logg=2.00 for T=  9634 logg=1.59\n",
      "Changing to logg=2.00 for T=  9565 logg=1.58\n",
      "Changing to logg=2.00 for T=  9496 logg=1.56\n",
      "Changing to logg=2.00 for T=  9359 logg=1.54\n",
      "Changing to logg=2.00 for T=  9225 logg=1.51\n",
      "Changing to logg=2.00 for T=  9093 logg=1.49\n",
      "Changing to logg=1.50 for T=  8963 logg=1.46\n",
      "Changing to logg=1.50 for T=  8836 logg=1.44\n",
      "Changing to logg=1.50 for T=  8711 logg=1.41\n",
      "Changing to logg=1.50 for T=  8589 logg=1.39\n",
      "Changing to logg=1.50 for T=  8468 logg=1.36\n",
      "Changing to logg=1.50 for T=  8350 logg=1.34\n",
      "Isochrone generation took 45.600790 s.\n",
      "Making photometry for isochrone: log(t) = 7.00  AKs = 0.00  dist = 1000\n",
      "     Starting at:  2021-07-22 14:14:16.783815   Usually takes ~5 minutes\n",
      "Starting filter: ubv,U   Elapsed time: 0.00 seconds\n",
      "Starting synthetic photometry\n",
      "M =   0.112 Msun  T =  3025 K  m_ubv_U = 24.31\n",
      "M =   2.350 Msun  T = 10414 K  m_ubv_U = 11.18\n",
      "M =   9.793 Msun  T = 24007 K  m_ubv_U = 6.48\n",
      "M =  17.853 Msun  T = 25534 K  m_ubv_U = 3.82\n",
      "M =  17.889 Msun  T = 15781 K  m_ubv_U = 2.83\n",
      "M =  17.971 Msun  T =  6489 K  m_ubv_U = 2.91\n",
      "Starting filter: ubv,B   Elapsed time: 1.05 seconds\n",
      "Starting synthetic photometry\n",
      "M =   0.112 Msun  T =  3025 K  m_ubv_B = 23.44\n",
      "M =   2.350 Msun  T = 10414 K  m_ubv_B = 11.29\n",
      "M =   9.793 Msun  T = 24007 K  m_ubv_B = 7.37\n",
      "M =  17.853 Msun  T = 25534 K  m_ubv_B = 4.80\n",
      "M =  17.889 Msun  T = 15781 K  m_ubv_B = 3.55\n",
      "M =  17.971 Msun  T =  6489 K  m_ubv_B = 2.59\n",
      "Starting filter: ubv,V   Elapsed time: 2.07 seconds\n",
      "Starting synthetic photometry\n",
      "M =   0.112 Msun  T =  3025 K  m_ubv_V = 22.45\n",
      "M =   2.350 Msun  T = 10414 K  m_ubv_V = 11.32\n",
      "M =   9.793 Msun  T = 24007 K  m_ubv_V = 7.61\n",
      "M =  17.853 Msun  T = 25534 K  m_ubv_V = 5.04\n",
      "M =  17.889 Msun  T = 15781 K  m_ubv_V = 3.70\n",
      "M =  17.971 Msun  T =  6489 K  m_ubv_V = 2.21\n",
      "Starting filter: ubv,R   Elapsed time: 3.09 seconds\n",
      "Starting synthetic photometry\n",
      "M =   0.112 Msun  T =  3025 K  m_ubv_R = 21.45\n",
      "M =   2.350 Msun  T = 10414 K  m_ubv_R = 11.34\n",
      "M =   9.793 Msun  T = 24007 K  m_ubv_R = 7.70\n",
      "M =  17.853 Msun  T = 25534 K  m_ubv_R = 5.13\n",
      "M =  17.889 Msun  T = 15781 K  m_ubv_R = 3.75\n",
      "M =  17.971 Msun  T =  6489 K  m_ubv_R = 2.01\n",
      "Starting filter: ubv,I   Elapsed time: 4.09 seconds\n",
      "Starting synthetic photometry\n",
      "M =   0.112 Msun  T =  3025 K  m_ubv_I = 18.66\n",
      "M =   2.350 Msun  T = 10414 K  m_ubv_I = 11.38\n",
      "M =   9.793 Msun  T = 24007 K  m_ubv_I = 7.93\n",
      "M =  17.853 Msun  T = 25534 K  m_ubv_I = 5.36\n",
      "M =  17.889 Msun  T = 15781 K  m_ubv_I = 3.88\n",
      "M =  17.971 Msun  T =  6489 K  m_ubv_I = 1.72\n",
      "      Time taken: 5.07 seconds\n"
     ]
    }
   ],
   "source": [
    "iso2=synthetic.IsochronePhot(7.0, 0.0, 1000,\n",
    "                             math.log(1), recomp=True) # New MIST v.1 isochrone for same metallicity"
   ]
  },
  {
   "cell_type": "markdown",
   "metadata": {},
   "source": [
    "Finding the max, median, and mean of the MISTv.1 isochrone's logg values"
   ]
  },
  {
   "cell_type": "code",
   "execution_count": 18,
   "metadata": {},
   "outputs": [
    {
     "data": {
      "text/plain": [
       "4.3301956912058674"
      ]
     },
     "execution_count": 18,
     "metadata": {},
     "output_type": "execute_result"
    }
   ],
   "source": [
    "np.max(iso2.points['logg'])"
   ]
  },
  {
   "cell_type": "code",
   "execution_count": 19,
   "metadata": {},
   "outputs": [
    {
     "data": {
      "text/plain": [
       "(array([ 60.,  57.,  78., 149., 210.,   0.,   0.,   0.,   0.,   0.,   0.,\n",
       "          0.,   0.,   0.,   0.,   0.,   0.,   0.,   0.,   0.,   0.,   0.,\n",
       "          0.,   0.,   0.,   0.,   0.,   0.,   0.]),\n",
       " array([ 0,  1,  2,  3,  4,  5,  6,  7,  8,  9, 10, 11, 12, 13, 14, 15, 16,\n",
       "        17, 18, 19, 20, 21, 22, 23, 24, 25, 26, 27, 28, 29]),\n",
       " <BarContainer object of 29 artists>)"
      ]
     },
     "execution_count": 19,
     "metadata": {},
     "output_type": "execute_result"
    },
    {
     "data": {
      "image/png": "[encoded data removed]",
      "text/plain": [
       "<Figure size 432x288 with 1 Axes>"
      ]
     },
     "metadata": {
      "needs_background": "light"
     },
     "output_type": "display_data"
    }
   ],
   "source": [
    "import matplotlib.pyplot as plt\n",
    "plt.xlabel(\"logg in cgs\")\n",
    "plt.title(\"Histogram of logg values of stars in the MIST v1 isochrone\")\n",
    "plt.hist(np.array([x for x in iso2.points['logg'] if np.isfinite(x)]), np.arange(0, 30, 1))"
   ]
  },
  {
   "cell_type": "code",
   "execution_count": 20,
   "metadata": {},
   "outputs": [
    {
     "data": {
      "text/plain": [
       "3.44315451781853"
      ]
     },
     "execution_count": 20,
     "metadata": {},
     "output_type": "execute_result"
    }
   ],
   "source": [
    "np.median(iso2.points['logg'])"
   ]
  },
  {
   "cell_type": "code",
   "execution_count": 21,
   "metadata": {},
   "outputs": [
    {
     "data": {
      "text/plain": [
       "3.1148461826295915"
      ]
     },
     "execution_count": 21,
     "metadata": {},
     "output_type": "execute_result"
    }
   ],
   "source": [
    "np.mean(iso2.points['logg'])"
   ]
  },
  {
   "cell_type": "code",
   "execution_count": 22,
   "metadata": {},
   "outputs": [],
   "source": [
    "from spisea import imf\n",
    "from spisea.imf import imf, multiplicity\n",
    "from spisea import ifmr\n"
   ]
  },
  {
   "cell_type": "markdown",
   "metadata": {},
   "source": [
    "Make the clusters corresponding to the binary star isochrone and the MISTv.1 isochrone"
   ]
  },
  {
   "cell_type": "code",
   "execution_count": 23,
   "metadata": {},
   "outputs": [],
   "source": [
    "clus_1=synthetic.Cluster_w_Binaries(iso1, imf.IMFSalpeter1955(multiplicity=None),\n",
    "                                    2000, ifmr=ifmr.IFMR_Spera15())\n",
    "clus_2=synthetic.ResolvedCluster(iso2, imf.IMFSalpeter1955(multiplicity=None),\n",
    "                                 2000, ifmr=ifmr.IFMR_Spera15())"
   ]
  },
  {
   "cell_type": "markdown",
   "metadata": {},
   "source": [
    "Now let's visualize the isochrone we have created so far with a color magnitude diagram. There we can see the end of main sequence and perhaps the beginnings of the subgiant branch. That turnoff will turn out to be quite important when using the clusters to find age of real stellar populations.\\n But first, let's look at the isochrones and plot the observers' and theorist's HR diagrams and juxtapose the evolution models.\n",
    "\n",
    "Now we try Taking a look at the BPASS Cluster vs MIST cluster observer's HR Diagram.\n",
    "\n",
    "Remember to account for distance modulus! (dist to cluster = 1000)"
   ]
  },
  {
   "cell_type": "code",
   "execution_count": 24,
   "metadata": {},
   "outputs": [
    {
     "data": {
      "text/plain": [
       "<matplotlib.legend.Legend at 0x7f830b19e410>"
      ]
     },
     "execution_count": 24,
     "metadata": {},
     "output_type": "execute_result"
    },
    {
     "data": {
      "image/png": "[encoded data removed]",
      "text/plain": [
       "<Figure size 540x540 with 1 Axes>"
      ]
     },
     "metadata": {
      "needs_background": "light"
     },
     "output_type": "display_data"
    }
   ],
   "source": [
    "plt.figure(figsize = (7.5, 7.5))\n",
    "plt.plot(iso1.primaries['m_ubv_B'] - iso1.primaries[\"m_ubv_V\"],\n",
    "         iso1.primaries[\"m_ubv_V\"] - 5 * np.log10(1000 / 10), \"r.\")\n",
    "plt.plot(iso1.secondaries['m_ubv_B'] - iso1.secondaries[\"m_ubv_V\"],\n",
    "         iso1.secondaries[\"m_ubv_V\"] - 5 * np.log10(1000 / 10), \"r.\")\n",
    "plt.plot(iso1.singles['m_ubv_B'] - iso1.singles[\"m_ubv_V\"],\n",
    "         iso1.singles[\"m_ubv_V\"] - 5 * np.log10(1000 / 10),\n",
    "         \"r.\", label=\"BPASS isochrone\")\n",
    "plt.plot(iso2.points['m_ubv_B'] - iso2.points[\"m_ubv_V\"],\n",
    "         iso2.points[\"m_ubv_V\"] - 5 * np.log10(1000 / 10), \"b.\",\n",
    "         label=\"MISTv1\", alpha=0.2)\n",
    "plt.xlabel(\"B-V\")\n",
    "plt.ylabel(\"M_V\")\n",
    "plt.title(\"Color magnitude Diagram of Isochrones at \\n\" +\n",
    "          \"solar metallicity and 10 million years age\")\n",
    "plt.gca().invert_yaxis()\n",
    "plt.legend()"
   ]
  },
  {
   "cell_type": "markdown",
   "metadata": {},
   "source": [
    "Then compare with a Hoki cluster (Salpeter-slope IMF from 0.1 to 0.5 M⊙ and a maximum mass of 300 solar masses). First I overaly the cluster with the cluster, and, in the next cell, put the Hoki cluster by itself. This is to show that the photometry values of the stars in the BPASS isochrone are about appropriate for the age and metallicity."
   ]
  },
  {
   "cell_type": "code",
   "execution_count": 25,
   "metadata": {},
   "outputs": [
    {
     "name": "stderr",
     "output_type": "stream",
     "text": [
      "/g/lu/scratch/ryotainagaki/hoki/hoki/cmd.py:196: RuntimeWarning: divide by zero encountered in log10\n",
      "  self._log_ages = np.concatenate((np.array([0]), np.log10(self._my_data[1,1:])))\n",
      "/g/lu/scratch/ryotainagaki/hoki/hoki/cmd.py:212: RuntimeWarning: divide by zero encountered in log10\n",
      "  self._log_ages = np.concatenate((np.array([0]), np.log10(self._my_data[1,1:])))\n",
      "/g/lu/scratch/ryotainagaki/hoki/hoki/cmd.py:348: MatplotlibDeprecationWarning: You are modifying the state of a globally registered colormap. This has been deprecated since 3.3 and in 3.6, you will not be able to modify a registered colormap in-place. To remove this warning, you can make a copy of the colormap first. cmap = mpl.cm.get_cmap(\"Greys\").copy()\n",
      "  colMap.set_under(color='white')\n"
     ]
    },
    {
     "data": {
      "text/plain": [
       "<matplotlib.legend.Legend at 0x7f830b1e1390>"
      ]
     },
     "execution_count": 25,
     "metadata": {},
     "output_type": "execute_result"
    },
    {
     "data": {
      "image/png": "[encoded data removed]",
      "text/plain": [
       "<Figure size 432x288 with 1 Axes>"
      ]
     },
     "metadata": {
      "needs_background": "light"
     },
     "output_type": "display_data"
    }
   ],
   "source": [
    "import hoki\n",
    "from hoki.cmd import CMD\n",
    "input_file = ('/u/ryotainagaki/Desktop/ryotainagaki/BPASS/' +\n",
    "              'bpass_v2.2.1_imf135_300/input_bpass_z020_bin_imf135_300')\n",
    "mycmd = CMD(input_file)\n",
    "mycmd.make(mag_filter='V', col_filters=['B', 'V'])\n",
    "mycmd.plot(log_age=7.0)\n",
    "# actually makes and fills the grids - this is the time and memory consuming step\n",
    "plt.plot(iso1.primaries['m_ubv_B'] - iso1.primaries[\"m_ubv_V\"],\n",
    "         iso1.primaries[\"m_ubv_V\"] - 5 * np.log10(1000/10), \"r.\")\n",
    "plt.plot(iso1.secondaries['m_ubv_B']-iso1.secondaries[\"m_ubv_V\"],\n",
    "         iso1.secondaries[\"m_ubv_V\"] - 5 * np.log10(1000/10), \"r.\")\n",
    "plt.plot(iso1.singles['m_ubv_B'] - iso1.singles[\"m_ubv_V\"],\n",
    "         iso1.singles[\"m_ubv_V\"] - 5 * np.log10(1000/10), \"r.\",\n",
    "         label=\"BPASS isochrone\")\n",
    "plt.ylabel(\"M_V\")\n",
    "plt.title(\"CMDs of \\n (red) BPASS isochrone and (grey)\" +\n",
    "          \" Hoki Cluster \\n at  10 million years and solar metallicity\")\n",
    "plt.legend()"
   ]
  },
  {
   "cell_type": "code",
   "execution_count": 26,
   "metadata": {},
   "outputs": [
    {
     "name": "stderr",
     "output_type": "stream",
     "text": [
      "/g/lu/scratch/ryotainagaki/hoki/hoki/cmd.py:348: MatplotlibDeprecationWarning: You are modifying the state of a globally registered colormap. This has been deprecated since 3.3 and in 3.6, you will not be able to modify a registered colormap in-place. To remove this warning, you can make a copy of the colormap first. cmap = mpl.cm.get_cmap(\"Greys\").copy()\n",
      "  colMap.set_under(color='white')\n",
      "No handles with labels found to put in legend.\n"
     ]
    },
    {
     "data": {
      "text/plain": [
       "<matplotlib.legend.Legend at 0x7f830b468c90>"
      ]
     },
     "execution_count": 26,
     "metadata": {},
     "output_type": "execute_result"
    },
    {
     "data": {
      "image/png": "[encoded data removed]",
      "text/plain": [
       "<Figure size 432x288 with 1 Axes>"
      ]
     },
     "metadata": {
      "needs_background": "light"
     },
     "output_type": "display_data"
    }
   ],
   "source": [
    "mycmd.plot(log_age=7.0)\n",
    "plt.ylabel(\"M_V\")\n",
    "plt.title(\"CMD of 10 million years (grey) Hoki Cluster\")\n",
    "plt.legend()"
   ]
  },
  {
   "cell_type": "markdown",
   "metadata": {},
   "source": [
    "Now, I try to find the source of the vertical \"line segment\" in the top left corner of the BPASS isochrone"
   ]
  },
  {
   "cell_type": "code",
   "execution_count": 27,
   "metadata": {},
   "outputs": [
    {
     "data": {
      "text/plain": [
       "<matplotlib.legend.Legend at 0x7f830b578c50>"
      ]
     },
     "execution_count": 27,
     "metadata": {},
     "output_type": "execute_result"
    },
    {
     "data": {
      "image/png": "[encoded data removed]",
      "text/plain": [
       "<Figure size 540x540 with 1 Axes>"
      ]
     },
     "metadata": {
      "needs_background": "light"
     },
     "output_type": "display_data"
    }
   ],
   "source": [
    "# Taking a look at the BPASS Cluster vs MIST cluster Observer's HR Diagram\n",
    "# Remember to use a distance modulus!\n",
    "plt.figure(figsize = (7.5, 7.5))\n",
    "plt.plot(iso1.primaries['m_ubv_B'] - iso1.primaries[\"m_ubv_V\"],\n",
    "         iso1.primaries[\"m_ubv_V\"] - 5 * np.log10(1000/10), \"r.\",\n",
    "         label=\"BPASS isochrone (primaries)\")\n",
    "plt.xlabel(\"B-V\")\n",
    "plt.ylabel(\"M_V\")\n",
    "plt.title(\"Color magnitude Diagram of Isochrones at \\n\" +\n",
    "          \" solar metallicity and 10 million years age\")\n",
    "plt.gca().invert_yaxis()\n",
    "plt.legend()"
   ]
  },
  {
   "cell_type": "code",
   "execution_count": 28,
   "metadata": {},
   "outputs": [],
   "source": [
    "line = iso1.primaries[np.where(((iso1.primaries['m_ubv_B'] -\n",
    "                                 iso1.primaries[\"m_ubv_V\"]) < -0.3) &\n",
    "                               ((iso1.primaries['m_ubv_B'] -\n",
    "                                 iso1.primaries[\"m_ubv_V\"]) > -0.5))[0]]"
   ]
  },
  {
   "cell_type": "code",
   "execution_count": 29,
   "metadata": {},
   "outputs": [
    {
     "data": {
      "text/html": [
       "<i>Table length=495</i>\n",
       "<table id=\"table140201330181072\" class=\"table-striped table-bordered table-condensed\">\n",
       "<thead><tr><th>mass</th><th>log_a</th><th>L</th><th>Teff</th><th>R</th><th>logg</th><th>isWR</th><th>mass_current</th><th>phase</th><th>merged</th><th>source</th><th>m_ubv_U</th><th>m_ubv_V</th><th>m_ubv_B</th><th>m_ubv_R</th><th>m_ubv_I</th></tr></thead>\n",
       "<thead><tr><th>solMass</th><th></th><th>W</th><th>K</th><th>m</th><th></th><th></th><th>solMass</th><th></th><th></th><th></th><th></th><th></th><th></th><th></th><th></th></tr></thead>\n",
       "<thead><tr><th>float64</th><th>float64</th><th>float64</th><th>float64</th><th>float64</th><th>float64</th><th>bool</th><th>float64</th><th>float64</th><th>bool</th><th>int64</th><th>float64</th><th>float64</th><th>float64</th><th>float64</th><th>float64</th></tr></thead>\n",
       "<tr><td>17.1</td><td>-0.2755004086880293</td><td>2.581023323661638e+31</td><td>24765.0950972531</td><td>9807809082.93667</td><td>3.372089168724686</td><td>False</td><td>17.07346</td><td>5.0</td><td>False</td><td>1</td><td>3.8867186400771008</td><td>5.089752335222459</td><td>4.849530356361005</td><td>5.181655004521296</td><td>5.406994997685946</td></tr>\n",
       "<tr><td>8.4</td><td>1.044556591311971</td><td>1.408581334391018e+30</td><td>20178.55207785059</td><td>3451294372.896646</td><td>4.175145535759932</td><td>False</td><td>13.43377</td><td>5.0</td><td>False</td><td>1</td><td>6.817836073751821</td><td>7.798406951597131</td><td>7.59268199228204</td><td>7.8780963717014325</td><td>8.069519102150933</td></tr>\n",
       "<tr><td>7.2</td><td>-0.9093114086880292</td><td>8.085221628723427e+29</td><td>21282.860576975516</td><td>2350401217.2202835</td><td>4.241459310736706</td><td>False</td><td>7.258246</td><td>5.0</td><td>False</td><td>1</td><td>7.512302407811929</td><td>8.535909573406425</td><td>8.321829972320938</td><td>8.620629778203632</td><td>8.82283290836493</td></tr>\n",
       "<tr><td>3.8000000000000003</td><td>-0.8986564086880291</td><td>7.630656943082565e+28</td><td>14384.34199226156</td><td>1580782077.518744</td><td>4.3050579558158235</td><td>False</td><td>3.800934</td><td>5.0</td><td>False</td><td>1</td><td>9.457227676828774</td><td>10.09572101343803</td><td>9.964134398328914</td><td>10.143527175999415</td><td>10.265777753515541</td></tr>\n",
       "<tr><td>10.799999999999999</td><td>-0.5356654086880293</td><td>3.775304007818359e+30</td><td>26326.310549503658</td><td>3319418448.4547696</td><td>4.12056449854774</td><td>False</td><td>10.95915</td><td>5.0</td><td>False</td><td>1</td><td>6.171843375753551</td><td>7.3707454757059425</td><td>7.121010334022642</td><td>7.472073842940506</td><td>7.710658324370102</td></tr>\n",
       "<tr><td>14.0</td><td>-0.4454804086880293</td><td>1.0622626927995523e+31</td><td>28381.8042248101</td><td>4790733399.160866</td><td>3.915472420865279</td><td>True</td><td>14.23524</td><td>5.0</td><td>False</td><td>1</td><td>5.1375700751137705</td><td>6.400449773494817</td><td>6.135095445698542</td><td>6.508115386294122</td><td>6.759560223676305</td></tr>\n",
       "<tr><td>2.1</td><td>0.11900959131197064</td><td>7.469506836750609e+27</td><td>9446.4797950262</td><td>1146758593.646741</td><td>4.326191058155279</td><td>False</td><td>2.10002</td><td>5.0</td><td>False</td><td>1</td><td>11.699055039867728</td><td>11.666816941023702</td><td>11.697578408398057</td><td>11.66179470089613</td><td>11.663256553314188</td></tr>\n",
       "<tr><td>13.299999999999999</td><td>1.0604875913119707</td><td>8.795730802512516e+30</td><td>23739.414310064312</td><td>6231061006.952435</td><td>3.8766183531871814</td><td>False</td><td>22.02068</td><td>5.0</td><td>False</td><td>1</td><td>5.060849944816225</td><td>6.194995896655713</td><td>5.960125989011014</td><td>6.2872571415626615</td><td>6.508380718313637</td></tr>\n",
       "<tr><td>16.2</td><td>-0.6916814086880292</td><td>2.0458412411787787e+31</td><td>26346.928933176077</td><td>7714930238.606315</td><td>3.5683758598609887</td><td>False</td><td>16.60077</td><td>5.0</td><td>False</td><td>1</td><td>4.265517678148729</td><td>5.497700122017792</td><td>5.244658067952652</td><td>5.597259294118227</td><td>5.835135243549378</td></tr>\n",
       "<tr><td>...</td><td>...</td><td>...</td><td>...</td><td>...</td><td>...</td><td>...</td><td>...</td><td>...</td><td>...</td><td>...</td><td>...</td><td>...</td><td>...</td><td>...</td><td>...</td></tr>\n",
       "<tr><td>5.3999999999999995</td><td>-0.8590414086880291</td><td>2.8108128422388745e+29</td><td>17956.430130632987</td><td>1946892640.158802</td><td>4.277728391093879</td><td>False</td><td>5.413782</td><td>5.0</td><td>False</td><td>1</td><td>8.383904581092738</td><td>9.253065111594026</td><td>9.072818182266492</td><td>9.321425227724646</td><td>9.489233387737537</td></tr>\n",
       "<tr><td>14.7</td><td>-0.8284364086880291</td><td>1.2453227703237567e+31</td><td>28622.660544039187</td><td>5100138891.577954</td><td>3.889571214383584</td><td>True</td><td>15.1993</td><td>5.0</td><td>False</td><td>1</td><td>4.972694910321829</td><td>6.24307548051301</td><td>5.976235926804384</td><td>6.351261840935996</td><td>6.6038560319886</td></tr>\n",
       "<tr><td>12.0</td><td>-0.4826804086880292</td><td>5.652908151601763e+30</td><td>27481.47255162563</td><td>3727451517.589189</td><td>4.065648618632092</td><td>False</td><td>12.17758</td><td>5.0</td><td>False</td><td>1</td><td>5.795623296356454</td><td>7.027481825218108</td><td>6.769103656247462</td><td>7.1327289765609505</td><td>7.378887605408695</td></tr>\n",
       "<tr><td>13.299999999999999</td><td>0.32613159131197067</td><td>8.797756327563536e+30</td><td>28068.55142894595</td><td>4457609326.024605</td><td>3.955457154331543</td><td>False</td><td>13.51293</td><td>5.0</td><td>False</td><td>1</td><td>5.333654607548051</td><td>6.585927615558089</td><td>6.322692758810121</td><td>6.692845256071792</td><td>6.942650036328916</td></tr>\n",
       "<tr><td>8.0</td><td>-0.1884854086880292</td><td>1.1880423689890658e+30</td><td>22630.804869126936</td><td>2519776395.962568</td><td>4.224570103821256</td><td>False</td><td>8.023844</td><td>5.0</td><td>False</td><td>1</td><td>7.1924756315054355</td><td>8.268677584705166</td><td>8.044270174771833</td><td>8.358530137566259</td><td>8.572358764590357</td></tr>\n",
       "<tr><td>11.4</td><td>0.1513345913119708</td><td>4.679418946083288e+30</td><td>27007.22732582737</td><td>3511575443.677039</td><td>4.090742698097661</td><td>False</td><td>11.45078</td><td>5.0</td><td>False</td><td>1</td><td>5.977359176232919</td><td>7.195455411683693</td><td>6.940837943394039</td><td>7.299021984560257</td><td>7.5419132514056475</td></tr>\n",
       "<tr><td>16.0</td><td>-0.9224334086880293</td><td>nan</td><td>nan</td><td>nan</td><td>nan</td><td>False</td><td>nan</td><td>-99.0</td><td>True</td><td>1</td><td>nan</td><td>nan</td><td>nan</td><td>nan</td><td>nan</td></tr>\n",
       "<tr><td>14.0</td><td>0.21626559131197087</td><td>1.0613336382203087e+31</td><td>28531.854457818423</td><td>4738293991.092462</td><td>3.91860208113607</td><td>True</td><td>14.02602</td><td>5.0</td><td>False</td><td>1</td><td>5.146537356264605</td><td>6.41288141540939</td><td>6.146559907466118</td><td>6.521025822204581</td><td>6.773334036765385</td></tr>\n",
       "<tr><td>10.0</td><td>-0.8948974086880293</td><td>2.7895999661934836e+30</td><td>21247.605778632067</td><td>4380382178.328933</td><td>4.092717608522885</td><td>False</td><td>17.89905</td><td>5.0</td><td>False</td><td>1</td><td>6.153833326408256</td><td>7.18315993739265</td><td>6.966928674456999</td><td>7.26748099624931</td><td>7.469177235061234</td></tr>\n",
       "<tr><td>5.7</td><td>-0.5527984086880291</td><td>3.427929875825102e+29</td><td>18563.078447400232</td><td>2011787027.3810403</td><td>4.272278914179298</td><td>False</td><td>5.708622</td><td>5.0</td><td>False</td><td>1</td><td>8.221572220385907</td><td>9.12257508260731</td><td>8.93516982753694</td><td>9.194269255174055</td><td>9.368920660265113</td></tr>\n",
       "</table>"
      ],
      "text/plain": [
       "<Table length=495>\n",
       "       mass               log_a        ...      m_ubv_R            m_ubv_I      \n",
       "     solMass                           ...                                      \n",
       "     float64             float64       ...      float64            float64      \n",
       "------------------ ------------------- ... ------------------ ------------------\n",
       "              17.1 -0.2755004086880293 ...  5.181655004521296  5.406994997685946\n",
       "               8.4   1.044556591311971 ... 7.8780963717014325  8.069519102150933\n",
       "               7.2 -0.9093114086880292 ...  8.620629778203632   8.82283290836493\n",
       "3.8000000000000003 -0.8986564086880291 ... 10.143527175999415 10.265777753515541\n",
       "10.799999999999999 -0.5356654086880293 ...  7.472073842940506  7.710658324370102\n",
       "              14.0 -0.4454804086880293 ...  6.508115386294122  6.759560223676305\n",
       "               2.1 0.11900959131197064 ...  11.66179470089613 11.663256553314188\n",
       "13.299999999999999  1.0604875913119707 ... 6.2872571415626615  6.508380718313637\n",
       "              16.2 -0.6916814086880292 ...  5.597259294118227  5.835135243549378\n",
       "               ...                 ... ...                ...                ...\n",
       "5.3999999999999995 -0.8590414086880291 ...  9.321425227724646  9.489233387737537\n",
       "              14.7 -0.8284364086880291 ...  6.351261840935996    6.6038560319886\n",
       "              12.0 -0.4826804086880292 ... 7.1327289765609505  7.378887605408695\n",
       "13.299999999999999 0.32613159131197067 ...  6.692845256071792  6.942650036328916\n",
       "               8.0 -0.1884854086880292 ...  8.358530137566259  8.572358764590357\n",
       "              11.4  0.1513345913119708 ...  7.299021984560257 7.5419132514056475\n",
       "              16.0 -0.9224334086880293 ...                nan                nan\n",
       "              14.0 0.21626559131197087 ...  6.521025822204581  6.773334036765385\n",
       "              10.0 -0.8948974086880293 ...   7.26748099624931  7.469177235061234\n",
       "               5.7 -0.5527984086880291 ...  9.194269255174055  9.368920660265113"
      ]
     },
     "execution_count": 29,
     "metadata": {},
     "output_type": "execute_result"
    }
   ],
   "source": [
    "iso1.secondaries[np.where(((iso1.primaries['m_ubv_B'] - iso1.primaries[\"m_ubv_V\"]) < -0.3) &\n",
    "                          ((iso1.primaries['m_ubv_B'] - iso1.primaries[\"m_ubv_V\"]) > -0.5))[0]]"
   ]
  },
  {
   "cell_type": "code",
   "execution_count": 30,
   "metadata": {},
   "outputs": [
    {
     "data": {
      "text/plain": [
       "<matplotlib.legend.Legend at 0x7f830b508590>"
      ]
     },
     "execution_count": 30,
     "metadata": {},
     "output_type": "execute_result"
    },
    {
     "data": {
      "image/png": "[encoded data removed]",
      "text/plain": [
       "<Figure size 540x540 with 1 Axes>"
      ]
     },
     "metadata": {
      "needs_background": "light"
     },
     "output_type": "display_data"
    }
   ],
   "source": [
    "# Taking a look at the BPASS Cluster vs MIST Settings cluster Observer's HR Diagram\n",
    "# Remember to use a distance modulus!\n",
    "plt.figure(figsize = (7.5, 7.5))\n",
    "plt.plot(line['m_ubv_B'] - line[\"m_ubv_V\"],\n",
    "         line[\"m_ubv_V\"] - 5 * np.log10(1000/10),\n",
    "         \"r.\",  label=\"BPASS isochrone (vertical line feature)\")\n",
    "plt.xlabel(\"B-V\")\n",
    "plt.ylabel(\"M_V\")\n",
    "plt.title(\"Color magnitude Diagram of Isochrone Vertical Line\\n\" +\n",
    "          \" at solar metallicity and 10 million years age\")\n",
    "plt.gca().invert_yaxis()\n",
    "plt.legend()"
   ]
  },
  {
   "cell_type": "markdown",
   "metadata": {},
   "source": [
    "What exactly is causing this line. We need to look specifically at the properties of the stars there. Specifically current mass, source code of the star, logg, initial mass, Teff."
   ]
  },
  {
   "cell_type": "code",
   "execution_count": 31,
   "metadata": {},
   "outputs": [
    {
     "data": {
      "text/html": [
       "<i>Table length=495</i>\n",
       "<table id=\"table140200806890128\" class=\"table-striped table-bordered table-condensed\">\n",
       "<thead><tr><th>mass</th><th>L</th><th>Teff</th><th>R</th><th>logg</th><th>isWR</th><th>mass_current</th><th>phase</th><th>source</th><th>m_ubv_U</th><th>m_ubv_V</th><th>m_ubv_B</th><th>m_ubv_R</th><th>m_ubv_I</th></tr></thead>\n",
       "<thead><tr><th>solMass</th><th>W</th><th>K</th><th>m</th><th></th><th></th><th>solMass</th><th></th><th></th><th></th><th></th><th></th><th></th><th></th></tr></thead>\n",
       "<thead><tr><th>float64</th><th>float64</th><th>float64</th><th>float64</th><th>float64</th><th>bool</th><th>float64</th><th>float64</th><th>int64</th><th>float64</th><th>float64</th><th>float64</th><th>float64</th><th>float64</th></tr></thead>\n",
       "<tr><td>19.0</td><td>2.351537609741078e+31</td><td>102133.91979406652</td><td>550712791.7430351</td><td>5.399585032488795</td><td>True</td><td>5.7541</td><td>5.0</td><td>1</td><td>8.781839319362552</td><td>10.224458277064956</td><td>9.894453119695973</td><td>10.359067524277883</td><td>10.640208585673976</td></tr>\n",
       "<tr><td>21.0</td><td>6.360070490769697e+31</td><td>83086.4110779113</td><td>1368548409.3653755</td><td>4.666033340205703</td><td>True</td><td>6.56305</td><td>5.0</td><td>1</td><td>6.805164319362551</td><td>8.247783277064954</td><td>7.917778119695973</td><td>8.382392524277883</td><td>8.663533585673976</td></tr>\n",
       "<tr><td>18.0</td><td>2.19979357423166e+31</td><td>73317.89709025402</td><td>1033618239.0920144</td><td>4.839341892580129</td><td>True</td><td>5.57923</td><td>5.0</td><td>1</td><td>7.414664319362554</td><td>8.857283277064957</td><td>8.527278119695975</td><td>8.991892524277885</td><td>9.273033585673979</td></tr>\n",
       "<tr><td>19.0</td><td>2.2066422492892533e+31</td><td>101666.99800054939</td><td>538387743.1165333</td><td>5.408546884340459</td><td>True</td><td>5.61383</td><td>5.0</td><td>1</td><td>8.83098931936255</td><td>10.273608277064953</td><td>9.943603119695972</td><td>10.408217524277882</td><td>10.689358585673974</td></tr>\n",
       "<tr><td>18.0</td><td>2.661717310857011e+31</td><td>63838.106949913585</td><td>1499719934.5165932</td><td>4.5266879807002285</td><td>True</td><td>5.71795</td><td>5.0</td><td>1</td><td>6.606414319362552</td><td>8.049033277064956</td><td>7.719028119695975</td><td>8.183642524277884</td><td>8.464783585673977</td></tr>\n",
       "<tr><td>20.0</td><td>5.140340987235719e+31</td><td>67723.59439418264</td><td>1851847263.9359167</td><td>4.327221057938412</td><td>True</td><td>5.50774</td><td>5.0</td><td>1</td><td>6.148439319362548</td><td>7.591058277064952</td><td>7.26105311969597</td><td>7.725667524277879</td><td>8.006808585673973</td></tr>\n",
       "<tr><td>21.0</td><td>5.520798915744219e+31</td><td>72205.4534999031</td><td>1688302113.813622</td><td>4.435896203303441</td><td>True</td><td>5.87934</td><td>5.0</td><td>1</td><td>6.349214319362555</td><td>7.791833277064959</td><td>7.461828119695977</td><td>7.9264425242778875</td><td>8.20758358567398</td></tr>\n",
       "<tr><td>19.0</td><td>3.1455886498790618e+31</td><td>90738.16661473441</td><td>806975155.5043983</td><td>5.122599617296125</td><td>True</td><td>6.52908</td><td>5.0</td><td>1</td><td>7.952164319362555</td><td>9.394783277064958</td><td>9.064778119695976</td><td>9.529392524277885</td><td>9.81053358567398</td></tr>\n",
       "<tr><td>18.0</td><td>2.291141590899463e+31</td><td>71698.48845774232</td><td>1103049911.7691483</td><td>4.786346143349119</td><td>True</td><td>5.62443</td><td>5.0</td><td>1</td><td>7.273489319362549</td><td>8.716108277064953</td><td>8.386103119695973</td><td>8.850717524277881</td><td>9.131858585673974</td></tr>\n",
       "<tr><td>...</td><td>...</td><td>...</td><td>...</td><td>...</td><td>...</td><td>...</td><td>...</td><td>...</td><td>...</td><td>...</td><td>...</td><td>...</td><td>...</td></tr>\n",
       "<tr><td>18.0</td><td>2.2921969435793777e+31</td><td>71701.79037118539</td><td>1103202314.2735178</td><td>4.785192415620843</td><td>True</td><td>5.6108</td><td>5.0</td><td>1</td><td>7.27318931936255</td><td>8.715808277064953</td><td>8.385803119695971</td><td>8.850417524277882</td><td>9.131558585673975</td></tr>\n",
       "<tr><td>21.0</td><td>5.286666676927083e+31</td><td>70232.80275587842</td><td>1746224849.920773</td><td>4.387225751294489</td><td>True</td><td>5.62313</td><td>5.0</td><td>1</td><td>6.275964319362553</td><td>7.7185832770649565</td><td>7.388578119695975</td><td>7.853192524277884</td><td>8.134333585673978</td></tr>\n",
       "<tr><td>20.0</td><td>5.080798003848715e+31</td><td>65749.12840044063</td><td>1953327949.2313545</td><td>4.280422687946562</td><td>True</td><td>5.50193</td><td>5.0</td><td>1</td><td>6.032589319362555</td><td>7.475208277064959</td><td>7.145203119695977</td><td>7.609817524277886</td><td>7.890958585673981</td></tr>\n",
       "<tr><td>19.0</td><td>2.4615118400677716e+31</td><td>103314.1959220436</td><td>550643052.690517</td><td>5.404455217084411</td><td>True</td><td>5.81765</td><td>5.0</td><td>1</td><td>8.782114319362556</td><td>10.22473327706496</td><td>9.894728119695976</td><td>10.359342524277887</td><td>10.640483585673982</td></tr>\n",
       "<tr><td>20.0</td><td>5.194119404034028e+31</td><td>66160.6860555999</td><td>1950496450.0496438</td><td>4.287183411567733</td><td>True</td><td>5.57206</td><td>5.0</td><td>1</td><td>6.03573931936255</td><td>7.478358277064954</td><td>7.1483531196959715</td><td>7.612967524277882</td><td>7.894108585673976</td></tr>\n",
       "<tr><td>19.0</td><td>2.440910913198053e+31</td><td>102848.98261526464</td><td>553305725.4871811</td><td>5.4003707600943125</td><td>True</td><td>5.81893</td><td>5.0</td><td>1</td><td>8.771639319362551</td><td>10.214258277064957</td><td>9.884253119695973</td><td>10.348867524277884</td><td>10.630008585673979</td></tr>\n",
       "<tr><td>20.0</td><td>1.093860472645769e+32</td><td>110499.42039172696</td><td>1014729214.8238889</td><td>5.219101609967136</td><td>True</td><td>12.893</td><td>5.0</td><td>1</td><td>7.454714319362551</td><td>8.897333277064954</td><td>8.567328119695972</td><td>9.03194252427788</td><td>9.313083585673976</td></tr>\n",
       "<tr><td>20.0</td><td>5.215211540998031e+31</td><td>67353.47385241034</td><td>1885841394.012008</td><td>4.3207360525228875</td><td>True</td><td>5.62689</td><td>5.0</td><td>1</td><td>6.108939319362552</td><td>7.551558277064956</td><td>7.221553119695974</td><td>7.686167524277883</td><td>7.967308585673978</td></tr>\n",
       "<tr><td>20.0</td><td>1.8494897514340996e+31</td><td>103302.30212034757</td><td>477414015.20268255</td><td>5.451943253841607</td><td>True</td><td>4.87838</td><td>5.0</td><td>1</td><td>9.091989319362547</td><td>10.534608277064953</td><td>10.20460311969597</td><td>10.66921752427788</td><td>10.950358585673973</td></tr>\n",
       "<tr><td>19.0</td><td>2.3156980455483057e+31</td><td>102839.51031011908</td><td>539026558.8551804</td><td>5.410848351693921</td><td>True</td><td>5.65745</td><td>5.0</td><td>1</td><td>8.828414319362548</td><td>10.271033277064952</td><td>9.94102811969597</td><td>10.405642524277878</td><td>10.686783585673973</td></tr>\n",
       "</table>"
      ],
      "text/plain": [
       "<Table length=495>\n",
       "  mass            L            ...      m_ubv_R            m_ubv_I      \n",
       "solMass           W            ...                                      \n",
       "float64        float64         ...      float64            float64      \n",
       "------- ---------------------- ... ------------------ ------------------\n",
       "   19.0  2.351537609741078e+31 ... 10.359067524277883 10.640208585673976\n",
       "   21.0  6.360070490769697e+31 ...  8.382392524277883  8.663533585673976\n",
       "   18.0   2.19979357423166e+31 ...  8.991892524277885  9.273033585673979\n",
       "   19.0 2.2066422492892533e+31 ... 10.408217524277882 10.689358585673974\n",
       "   18.0  2.661717310857011e+31 ...  8.183642524277884  8.464783585673977\n",
       "   20.0  5.140340987235719e+31 ...  7.725667524277879  8.006808585673973\n",
       "   21.0  5.520798915744219e+31 ... 7.9264425242778875   8.20758358567398\n",
       "   19.0 3.1455886498790618e+31 ...  9.529392524277885   9.81053358567398\n",
       "   18.0  2.291141590899463e+31 ...  8.850717524277881  9.131858585673974\n",
       "    ...                    ... ...                ...                ...\n",
       "   18.0 2.2921969435793777e+31 ...  8.850417524277882  9.131558585673975\n",
       "   21.0  5.286666676927083e+31 ...  7.853192524277884  8.134333585673978\n",
       "   20.0  5.080798003848715e+31 ...  7.609817524277886  7.890958585673981\n",
       "   19.0 2.4615118400677716e+31 ... 10.359342524277887 10.640483585673982\n",
       "   20.0  5.194119404034028e+31 ...  7.612967524277882  7.894108585673976\n",
       "   19.0  2.440910913198053e+31 ... 10.348867524277884 10.630008585673979\n",
       "   20.0  1.093860472645769e+32 ...   9.03194252427788  9.313083585673976\n",
       "   20.0  5.215211540998031e+31 ...  7.686167524277883  7.967308585673978\n",
       "   20.0 1.8494897514340996e+31 ...  10.66921752427788 10.950358585673973\n",
       "   19.0 2.3156980455483057e+31 ... 10.405642524277878 10.686783585673973"
      ]
     },
     "execution_count": 31,
     "metadata": {},
     "output_type": "execute_result"
    }
   ],
   "source": [
    "line"
   ]
  },
  {
   "cell_type": "code",
   "execution_count": 32,
   "metadata": {},
   "outputs": [
    {
     "data": {
      "text/html": [
       "&lt;Column name=&apos;mass_current&apos; dtype=&apos;float64&apos; unit=&apos;solMass&apos; length=494&gt;\n",
       "<table>\n",
       "<tr><td>4.44683</td></tr>\n",
       "<tr><td>4.44977</td></tr>\n",
       "<tr><td>4.5998</td></tr>\n",
       "<tr><td>4.65934</td></tr>\n",
       "<tr><td>4.82873</td></tr>\n",
       "<tr><td>4.84274</td></tr>\n",
       "<tr><td>4.87299</td></tr>\n",
       "<tr><td>4.87838</td></tr>\n",
       "<tr><td>4.93716</td></tr>\n",
       "<tr><td>4.94025</td></tr>\n",
       "<tr><td>4.94141</td></tr>\n",
       "<tr><td>4.94283</td></tr>\n",
       "<tr><td>...</td></tr>\n",
       "<tr><td>10.0657</td></tr>\n",
       "<tr><td>10.08157</td></tr>\n",
       "<tr><td>10.18541</td></tr>\n",
       "<tr><td>10.21885</td></tr>\n",
       "<tr><td>10.25105</td></tr>\n",
       "<tr><td>10.27081</td></tr>\n",
       "<tr><td>10.28467</td></tr>\n",
       "<tr><td>10.32685</td></tr>\n",
       "<tr><td>10.64173</td></tr>\n",
       "<tr><td>10.88422</td></tr>\n",
       "<tr><td>11.27002</td></tr>\n",
       "<tr><td>12.893</td></tr>\n",
       "</table>"
      ],
      "text/plain": [
       "<Column name='mass_current' dtype='float64' unit='solMass' length=494>\n",
       " 4.44683\n",
       " 4.44977\n",
       "  4.5998\n",
       " 4.65934\n",
       " 4.82873\n",
       " 4.84274\n",
       " 4.87299\n",
       " 4.87838\n",
       " 4.93716\n",
       " 4.94025\n",
       " 4.94141\n",
       " 4.94283\n",
       "     ...\n",
       " 10.0657\n",
       "10.08157\n",
       "10.18541\n",
       "10.21885\n",
       "10.25105\n",
       "10.27081\n",
       "10.28467\n",
       "10.32685\n",
       "10.64173\n",
       "10.88422\n",
       "11.27002\n",
       "  12.893"
      ]
     },
     "execution_count": 32,
     "metadata": {},
     "output_type": "execute_result"
    }
   ],
   "source": [
    "np.unique(line['mass_current'])"
   ]
  },
  {
   "cell_type": "code",
   "execution_count": 33,
   "metadata": {},
   "outputs": [
    {
     "data": {
      "text/html": [
       "&lt;Column name=&apos;source&apos; dtype=&apos;int64&apos; length=1&gt;\n",
       "<table>\n",
       "<tr><td>1</td></tr>\n",
       "</table>"
      ],
      "text/plain": [
       "<Column name='source' dtype='int64' length=1>\n",
       "1"
      ]
     },
     "execution_count": 33,
     "metadata": {},
     "output_type": "execute_result"
    }
   ],
   "source": [
    "np.unique(line['source'])"
   ]
  },
  {
   "cell_type": "code",
   "execution_count": 34,
   "metadata": {},
   "outputs": [
    {
     "data": {
      "text/plain": [
       "array([3.6, 3.7, 3.8, 3.9, 4. , 4.1, 4.2, 4.3, 4.4, 4.5, 4.6, 4.7, 4.8,\n",
       "       4.9, 5. , 5.1, 5.2, 5.3, 5.4, 5.5, 5.8, 5.9])"
      ]
     },
     "execution_count": 34,
     "metadata": {},
     "output_type": "execute_result"
    }
   ],
   "source": [
    "np.unique(np.round(line['logg'], 1))"
   ]
  },
  {
   "cell_type": "code",
   "execution_count": 35,
   "metadata": {},
   "outputs": [
    {
     "data": {
      "text/html": [
       "&lt;Column name=&apos;mass&apos; dtype=&apos;float64&apos; unit=&apos;solMass&apos; length=8&gt;\n",
       "<table>\n",
       "<tr><td>18.0</td></tr>\n",
       "<tr><td>19.0</td></tr>\n",
       "<tr><td>20.0</td></tr>\n",
       "<tr><td>21.0</td></tr>\n",
       "<tr><td>22.0</td></tr>\n",
       "<tr><td>23.0</td></tr>\n",
       "<tr><td>24.0</td></tr>\n",
       "<tr><td>25.0</td></tr>\n",
       "</table>"
      ],
      "text/plain": [
       "<Column name='mass' dtype='float64' unit='solMass' length=8>\n",
       "18.0\n",
       "19.0\n",
       "20.0\n",
       "21.0\n",
       "22.0\n",
       "23.0\n",
       "24.0\n",
       "25.0"
      ]
     },
     "execution_count": 35,
     "metadata": {},
     "output_type": "execute_result"
    }
   ],
   "source": [
    "np.unique(line['mass'])"
   ]
  },
  {
   "cell_type": "markdown",
   "metadata": {},
   "source": [
    "Ah, that may be it: the initial mass of the stars int the line seem to be around the same, so it may be no surprise that there is a lack of variation in photometric properties. Something to look into"
   ]
  },
  {
   "cell_type": "code",
   "execution_count": 36,
   "metadata": {},
   "outputs": [
    {
     "data": {
      "text/html": [
       "&lt;Column name=&apos;Teff&apos; dtype=&apos;float64&apos; unit=&apos;K&apos; length=483&gt;\n",
       "<table>\n",
       "<tr><td>40176.30570815856</td></tr>\n",
       "<tr><td>41742.648418365585</td></tr>\n",
       "<tr><td>41746.493235422786</td></tr>\n",
       "<tr><td>41892.858997499614</td></tr>\n",
       "<tr><td>42028.12352270204</td></tr>\n",
       "<tr><td>42214.33964168818</td></tr>\n",
       "<tr><td>42779.92314328989</td></tr>\n",
       "<tr><td>42886.44029776927</td></tr>\n",
       "<tr><td>42917.06362617361</td></tr>\n",
       "<tr><td>42929.91217391684</td></tr>\n",
       "<tr><td>43082.41104793726</td></tr>\n",
       "<tr><td>43709.91883012229</td></tr>\n",
       "<tr><td>...</td></tr>\n",
       "<tr><td>170380.54378466692</td></tr>\n",
       "<tr><td>170781.176084647</td></tr>\n",
       "<tr><td>171474.67957901285</td></tr>\n",
       "<tr><td>171608.9760550427</td></tr>\n",
       "<tr><td>172329.6476328457</td></tr>\n",
       "<tr><td>172675.21284348605</td></tr>\n",
       "<tr><td>172687.141236604</td></tr>\n",
       "<tr><td>173680.0758049759</td></tr>\n",
       "<tr><td>173760.07685518448</td></tr>\n",
       "<tr><td>174236.8456099004</td></tr>\n",
       "<tr><td>175889.5346923653</td></tr>\n",
       "<tr><td>176181.37698937074</td></tr>\n",
       "</table>"
      ],
      "text/plain": [
       "<Column name='Teff' dtype='float64' unit='K' length=483>\n",
       " 40176.30570815856\n",
       "41742.648418365585\n",
       "41746.493235422786\n",
       "41892.858997499614\n",
       " 42028.12352270204\n",
       " 42214.33964168818\n",
       " 42779.92314328989\n",
       " 42886.44029776927\n",
       " 42917.06362617361\n",
       " 42929.91217391684\n",
       " 43082.41104793726\n",
       " 43709.91883012229\n",
       "               ...\n",
       "170380.54378466692\n",
       "  170781.176084647\n",
       "171474.67957901285\n",
       " 171608.9760550427\n",
       " 172329.6476328457\n",
       "172675.21284348605\n",
       "  172687.141236604\n",
       " 173680.0758049759\n",
       "173760.07685518448\n",
       " 174236.8456099004\n",
       " 175889.5346923653\n",
       "176181.37698937074"
      ]
     },
     "execution_count": 36,
     "metadata": {},
     "output_type": "execute_result"
    }
   ],
   "source": [
    "np.unique(line['Teff'])"
   ]
  },
  {
   "cell_type": "code",
   "execution_count": 37,
   "metadata": {},
   "outputs": [
    {
     "data": {
      "text/html": [
       "&lt;Column name=&apos;logg&apos; dtype=&apos;float64&apos; unit=&apos;&apos; length=495&gt;\n",
       "<table>\n",
       "<tr><td>3.6332073972549237</td></tr>\n",
       "<tr><td>3.7038563983228467</td></tr>\n",
       "<tr><td>3.7038666362250434</td></tr>\n",
       "<tr><td>3.7103699946524853</td></tr>\n",
       "<tr><td>3.71621488084477</td></tr>\n",
       "<tr><td>3.724462774822909</td></tr>\n",
       "<tr><td>3.7489510518509084</td></tr>\n",
       "<tr><td>3.7535231016378012</td></tr>\n",
       "<tr><td>3.7550653401095855</td></tr>\n",
       "<tr><td>3.7554038345778804</td></tr>\n",
       "<tr><td>3.7620863942195215</td></tr>\n",
       "<tr><td>3.7887758023273337</td></tr>\n",
       "<tr><td>...</td></tr>\n",
       "<tr><td>5.843518270928504</td></tr>\n",
       "<tr><td>5.8497916097634075</td></tr>\n",
       "<tr><td>5.851155496137219</td></tr>\n",
       "<tr><td>5.8518496515992995</td></tr>\n",
       "<tr><td>5.85744614293227</td></tr>\n",
       "<tr><td>5.866405898965743</td></tr>\n",
       "<tr><td>5.866589462180988</td></tr>\n",
       "<tr><td>5.875115979119396</td></tr>\n",
       "<tr><td>5.8768401457842785</td></tr>\n",
       "<tr><td>5.8796946050987335</td></tr>\n",
       "<tr><td>5.895247392408877</td></tr>\n",
       "<tr><td>5.898517399939001</td></tr>\n",
       "</table>"
      ],
      "text/plain": [
       "<Column name='logg' dtype='float64' unit='' length=495>\n",
       "3.6332073972549237\n",
       "3.7038563983228467\n",
       "3.7038666362250434\n",
       "3.7103699946524853\n",
       "  3.71621488084477\n",
       " 3.724462774822909\n",
       "3.7489510518509084\n",
       "3.7535231016378012\n",
       "3.7550653401095855\n",
       "3.7554038345778804\n",
       "3.7620863942195215\n",
       "3.7887758023273337\n",
       "               ...\n",
       " 5.843518270928504\n",
       "5.8497916097634075\n",
       " 5.851155496137219\n",
       "5.8518496515992995\n",
       "  5.85744614293227\n",
       " 5.866405898965743\n",
       " 5.866589462180988\n",
       " 5.875115979119396\n",
       "5.8768401457842785\n",
       "5.8796946050987335\n",
       " 5.895247392408877\n",
       " 5.898517399939001"
      ]
     },
     "execution_count": 37,
     "metadata": {},
     "output_type": "execute_result"
    }
   ],
   "source": [
    "np.unique(line['logg'])"
   ]
  },
  {
   "cell_type": "code",
   "execution_count": 38,
   "metadata": {},
   "outputs": [
    {
     "data": {
      "text/plain": [
       "array([31. , 31.1, 31.2, 31.3, 31.4, 31.5, 31.6, 31.7, 31.8, 31.9, 32. ,\n",
       "       32.1])"
      ]
     },
     "execution_count": 38,
     "metadata": {},
     "output_type": "execute_result"
    }
   ],
   "source": [
    "np.unique(np.round(np.log10(line['L']), 1))"
   ]
  },
  {
   "cell_type": "markdown",
   "metadata": {},
   "source": [
    "Generating the Theorist's HR Diagram for the isochrone. Notice the alignment of features."
   ]
  },
  {
   "cell_type": "code",
   "execution_count": 39,
   "metadata": {},
   "outputs": [
    {
     "data": {
      "text/plain": [
       "<matplotlib.legend.Legend at 0x7f832aae6110>"
      ]
     },
     "execution_count": 39,
     "metadata": {},
     "output_type": "execute_result"
    },
    {
     "data": {
      "image/png": "[encoded data removed]",
      "text/plain": [
       "<Figure size 540x540 with 1 Axes>"
      ]
     },
     "metadata": {
      "needs_background": "light"
     },
     "output_type": "display_data"
    }
   ],
   "source": [
    "plt.figure(figsize = (7.5, 7.5))\n",
    "plt.plot(np.log10(iso1.primaries['Teff']), np.log10(iso1.primaries[\"L\"]),\n",
    "         \"r.\", alpha = 0.3)\n",
    "plt.plot(np.log10(iso1.secondaries['Teff']),\n",
    "         np.log10(iso1.secondaries[\"L\"]), \"r.\", alpha = 0.3)\n",
    "plt.plot(np.log10(iso1.singles['Teff']),\n",
    "         np.log10(iso1.singles[\"L\"]), \"r.\", alpha = 0.3,\n",
    "         label=\"BPASS isochrone\")\n",
    "plt.plot(np.log10(iso2.points['Teff']), np.log10(iso2.points[\"L\"]),\n",
    "         \"b.\", alpha = 0.3, label=\"MISTv1\")\n",
    "plt.xlabel(\"log($T_{eff}$ in Kelvin)\")\n",
    "plt.ylabel(\"log(L in Watts)\")\n",
    "plt.title(\"HR Diagram of Isochrones at solar metallicity and 10 million years age\")\n",
    "plt.gca().invert_xaxis()\n",
    "plt.legend()\n",
    "# Rough pattern seems to fit"
   ]
  },
  {
   "cell_type": "markdown",
   "metadata": {},
   "source": [
    "Plot the mass-luminosity relationship of the ISOCHRONE"
   ]
  },
  {
   "cell_type": "code",
   "execution_count": 40,
   "metadata": {},
   "outputs": [
    {
     "data": {
      "text/plain": [
       "<matplotlib.legend.Legend at 0x7f832aac02d0>"
      ]
     },
     "execution_count": 40,
     "metadata": {},
     "output_type": "execute_result"
    },
    {
     "data": {
      "image/png": "[encoded data removed]",
      "text/plain": [
       "<Figure size 540x540 with 1 Axes>"
      ]
     },
     "metadata": {
      "needs_background": "light"
     },
     "output_type": "display_data"
    }
   ],
   "source": [
    "from astropy import constants as cs\n",
    "plt.figure(figsize = (7.5, 7.5))\n",
    "plt.plot(np.log10(iso1.primaries['mass_current']),\n",
    "         np.log10(iso1.primaries[\"L\"] / cs.L_sun), \"r.\", alpha = 0.3)\n",
    "plt.plot(np.log10(iso1.secondaries['mass_current']),\n",
    "         np.log10(iso1.secondaries[\"L\"] / cs.L_sun), \"r.\", alpha = 0.3)\n",
    "plt.plot(np.log10(iso1.singles['mass_current']),\n",
    "         np.log10(iso1.singles[\"L\"] / cs.L_sun),\n",
    "         \"r.\", alpha = 0.3,label=\"BPASS isochrone\")\n",
    "plt.plot(np.log10(iso2.points['mass_current']),\n",
    "         np.log10(iso2.points[\"L\"] / cs.L_sun), \"b.\", \n",
    "         alpha = 0.3, label=\"MISTv1\")\n",
    "plt.xlabel(\"log(Current Mass in solar masses)\")\n",
    "plt.ylabel(\"log(L/L_solar)\")\n",
    "plt.title(\"Mass-logL of Isochrones at solar metallicity and 10 million years age\")\n",
    "plt.legend()\n",
    "# Rough pattern seems to fit. What's that line?"
   ]
  },
  {
   "cell_type": "markdown",
   "metadata": {},
   "source": [
    "Inspecting what masses are represented by the cluster"
   ]
  },
  {
   "cell_type": "markdown",
   "metadata": {},
   "source": [
    "Taking a look at the BPASS Cluster vs MIST Settings cluster Observer's HR Diagram\n",
    "\n",
    "**Remember to use a distance modulus!** (dist to cluster  = 1000 pc)"
   ]
  },
  {
   "cell_type": "code",
   "execution_count": 41,
   "metadata": {},
   "outputs": [
    {
     "data": {
      "text/plain": [
       "<matplotlib.legend.Legend at 0x7f833ae43910>"
      ]
     },
     "execution_count": 41,
     "metadata": {},
     "output_type": "execute_result"
    },
    {
     "data": {
      "image/png": "[encoded data removed]",
      "text/plain": [
       "<Figure size 540x540 with 1 Axes>"
      ]
     },
     "metadata": {
      "needs_background": "light"
     },
     "output_type": "display_data"
    }
   ],
   "source": [
    "plt.figure(figsize = (7.5, 7.5))\n",
    "plt.plot(clus_1.star_systems['m_ubv_B'] - clus_1.star_systems[\"m_ubv_V\"],\n",
    "         clus_1.star_systems[\"m_ubv_V\"] - 5 * np.log10(1000 / 10), \"r.\",label=\"BPASS\")\n",
    "plt.plot(clus_2.star_systems['m_ubv_B'] - clus_2.star_systems[\"m_ubv_V\"],\n",
    "         clus_2.star_systems[\"m_ubv_V\"] - 5 * np.log10(1000 / 10), \"b+\",\n",
    "         label=\"MISTv1\", alpha=0.1)\n",
    "plt.xlabel(\"B-V\")\n",
    "plt.ylabel(\"M_V\")\n",
    "plt.title(\"Color magnitude Diagram of clusters at solar metallicity\\n\" +\n",
    "          \" and 10 million years age\")\n",
    "plt.gca().invert_yaxis()\n",
    "plt.legend()"
   ]
  },
  {
   "cell_type": "markdown",
   "metadata": {},
   "source": [
    "Plotting the theorist HR Diagram of the clusters."
   ]
  },
  {
   "cell_type": "code",
   "execution_count": 42,
   "metadata": {},
   "outputs": [
    {
     "data": {
      "text/plain": [
       "<matplotlib.legend.Legend at 0x7f833ac947d0>"
      ]
     },
     "execution_count": 42,
     "metadata": {},
     "output_type": "execute_result"
    },
    {
     "data": {
      "image/png": "[encoded data removed]",
      "text/plain": [
       "<Figure size 540x540 with 1 Axes>"
      ]
     },
     "metadata": {
      "needs_background": "light"
     },
     "output_type": "display_data"
    }
   ],
   "source": [
    "plt.figure(figsize = (7.5, 7.5))\n",
    "\n",
    "plt.plot(np.log10(clus_1.star_systems['Teff']),\n",
    "         np.log10(clus_1.star_systems[\"L\"]),\n",
    "         \"r.\", label=\"BPASS Cluster\", alpha=0.5)\n",
    "plt.plot(np.log10(clus_2.star_systems['Teff']),\n",
    "         np.log10(clus_2.star_systems[\"L\"]),\n",
    "         \"b+\", label=\"MISTv1\", alpha=0.15)\n",
    "plt.xlabel(\"log($T_{eff}$ in kelvin)\")\n",
    "plt.ylabel(\"log(L in watts)\")\n",
    "plt.title(\"HR Diagram of clusters at solar metallicity \\n\" +\n",
    "          \" and 10 million years age\")\n",
    "plt.gca().invert_xaxis()\n",
    "plt.legend()"
   ]
  },
  {
   "cell_type": "markdown",
   "metadata": {},
   "source": [
    "Looking at which stars are the white dwarves?"
   ]
  },
  {
   "cell_type": "code",
   "execution_count": 43,
   "metadata": {},
   "outputs": [
    {
     "data": {
      "text/plain": [
       "array([], dtype=int64)"
      ]
     },
     "execution_count": 43,
     "metadata": {},
     "output_type": "execute_result"
    }
   ],
   "source": [
    "import numpy as np\n",
    "np.where(clus_1.star_systems['phase'] == 101.0)[0]"
   ]
  },
  {
   "cell_type": "markdown",
   "metadata": {},
   "source": [
    "Black Holes?"
   ]
  },
  {
   "cell_type": "code",
   "execution_count": 44,
   "metadata": {},
   "outputs": [
    {
     "data": {
      "text/plain": [
       "array([], dtype=int64)"
      ]
     },
     "execution_count": 44,
     "metadata": {},
     "output_type": "execute_result"
    }
   ],
   "source": [
    "np.where(clus_1.star_systems['phase'] == 103.0)[0]"
   ]
  },
  {
   "cell_type": "markdown",
   "metadata": {},
   "source": [
    "Do we have any neutron stars?"
   ]
  },
  {
   "cell_type": "code",
   "execution_count": 45,
   "metadata": {},
   "outputs": [
    {
     "data": {
      "text/plain": [
       "array([], dtype=int64)"
      ]
     },
     "execution_count": 45,
     "metadata": {},
     "output_type": "execute_result"
    }
   ],
   "source": [
    "np.where(clus_1.star_systems['phase'] == 102.0)[0]"
   ]
  },
  {
   "cell_type": "markdown",
   "metadata": {},
   "source": [
    "Let's make sure that I am getting just about enough star mass for my cluster. (It was a bug before I used an adjustment factor.)"
   ]
  },
  {
   "cell_type": "code",
   "execution_count": 46,
   "metadata": {},
   "outputs": [
    {
     "data": {
      "text/plain": [
       "2000.3705841875865"
      ]
     },
     "execution_count": 46,
     "metadata": {},
     "output_type": "execute_result"
    }
   ],
   "source": [
    "clus_1.star_systems['systemMass'].sum()"
   ]
  },
  {
   "cell_type": "code",
   "execution_count": 47,
   "metadata": {},
   "outputs": [
    {
     "data": {
      "text/plain": [
       "1999.9650879881845"
      ]
     },
     "execution_count": 47,
     "metadata": {},
     "output_type": "execute_result"
    }
   ],
   "source": [
    "clus_2.star_systems['systemMass'].sum()"
   ]
  },
  {
   "cell_type": "markdown",
   "metadata": {},
   "source": [
    "What systems do all of these companions correspond to?"
   ]
  },
  {
   "cell_type": "markdown",
   "metadata": {},
   "source": [
    "Showing the current-mass and current-luminosity relationship of the clusters."
   ]
  },
  {
   "cell_type": "code",
   "execution_count": 48,
   "metadata": {},
   "outputs": [
    {
     "data": {
      "text/plain": [
       "<matplotlib.legend.Legend at 0x7f831a055650>"
      ]
     },
     "execution_count": 48,
     "metadata": {},
     "output_type": "execute_result"
    },
    {
     "data": {
      "image/png": "[encoded data removed]",
      "text/plain": [
       "<Figure size 540x540 with 1 Axes>"
      ]
     },
     "metadata": {
      "needs_background": "light"
     },
     "output_type": "display_data"
    }
   ],
   "source": [
    "# Plot the mass-luminosity relationship\n",
    "plt.figure(figsize = (7.5, 7.5))\n",
    "plt.plot(clus_1.star_systems['mass_current'], np.log10(clus_1.star_systems[\"L\"]),\n",
    "         \"r.\", label=\"Cluster_w_Binaries made from BPASS\", alpha =0.2)\n",
    "plt.plot(clus_2.star_systems['mass_current'],\n",
    "         np.log10(clus_2.star_systems[\"L\"]), \"r.\", alpha=0.2)\n",
    "plt.xlabel(\"log(Current Mass in solar masses)\")\n",
    "plt.ylabel(\"log(L in Watts)\")\n",
    "plt.title(\"log-Mass-logL of BPASS Cluster at Z_solar and\\n\" +\n",
    "          \" 10**7.0 years age (Using mass current)\")\n",
    "plt.legend()"
   ]
  },
  {
   "cell_type": "markdown",
   "metadata": {},
   "source": [
    "What phases exist in the cluster?"
   ]
  },
  {
   "cell_type": "code",
   "execution_count": 49,
   "metadata": {},
   "outputs": [
    {
     "data": {
      "text/html": [
       "&lt;Column name=&apos;phase&apos; dtype=&apos;float64&apos; length=2&gt;\n",
       "<table>\n",
       "<tr><td>-99.0</td></tr>\n",
       "<tr><td>5.0</td></tr>\n",
       "</table>"
      ],
      "text/plain": [
       "<Column name='phase' dtype='float64' length=2>\n",
       "-99.0\n",
       "  5.0"
      ]
     },
     "execution_count": 49,
     "metadata": {},
     "output_type": "execute_result"
    }
   ],
   "source": [
    "np.unique(clus_1.star_systems['phase'])"
   ]
  }
 ],
 "metadata": {
  "kernelspec": {
   "display_name": "astroconda",
   "language": "python",
   "name": "astroconda"
  },
  "language_info": {
   "codemirror_mode": {
    "name": "ipython",
    "version": 3
   },
   "file_extension": ".py",
   "mimetype": "text/x-python",
   "name": "python",
   "nbconvert_exporter": "python",
   "pygments_lexer": "ipython3",
   "version": "3.7.10"
  }
 },
 "nbformat": 4,
 "nbformat_minor": 4
}
